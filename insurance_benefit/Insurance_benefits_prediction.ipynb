{
 "cells": [
  {
   "cell_type": "markdown",
   "metadata": {},
   "source": [
    "# Insurance benefits prediction <a class='tocSkip'></a>"
   ]
  },
  {
   "cell_type": "markdown",
   "metadata": {},
   "source": [
    "# Introduction\n",
    "\n",
    "The insurance company Sure Tomorrow wants to solve several tasks with the help of machine learning and asks you to evaluate that possibility.\n",
    "\n",
    "- Task 1: Find customers who are similar to a certain customer. This will help the company's agents with marketing.\n",
    "- Task 2: Predict the probability that a new customer will receive an insurance benefit. Can a predictive model perform better than a dummy model?\n",
    "- Task 3: Predict the number of insurance benefits a new customer may receive using a linear regression model.\n",
    "- Task 4: Protect clients' personal data without affecting the model from the previous exercise. It is necessary to develop a data transformation algorithm that makes it difficult to retrieve personal information if the data falls into the wrong hands. This is called data masking or obfuscation. But the data must be protected in such a way that the quality of the machine learning models is not affected. \n",
    "\n",
    "It is not necessary to choose the best model, it is enough to demonstrate that the algorithm works correctly."
   ]
  },
  {
   "cell_type": "markdown",
   "metadata": {},
   "source": [
    "# Preprocessing and data exploration\n",
    "\n",
    "## Initialization"
   ]
  },
  {
   "cell_type": "code",
   "execution_count": 1,
   "metadata": {},
   "outputs": [],
   "source": [
    "import numpy as np\n",
    "import pandas as pd\n",
    "import math\n",
    "import warnings\n",
    "warnings.filterwarnings(\"ignore\")\n",
    "\n",
    "import seaborn as sns\n",
    "import matplotlib.pyplot as plt\n",
    "\n",
    "import sklearn.linear_model\n",
    "import sklearn.metrics\n",
    "import sklearn.neighbors\n",
    "import sklearn.preprocessing\n",
    "from sklearn.neighbors import KNeighborsClassifier\n",
    "\n",
    "from sklearn.model_selection import train_test_split\n",
    "\n",
    "from IPython.display import display\n"
   ]
  },
  {
   "cell_type": "markdown",
   "metadata": {},
   "source": [
    "## Data load"
   ]
  },
  {
   "cell_type": "markdown",
   "metadata": {},
   "source": [
    "Load the data and do a basic check to make sure there are no obvious problems."
   ]
  },
  {
   "cell_type": "code",
   "execution_count": 2,
   "metadata": {},
   "outputs": [],
   "source": [
    "# Load data into df\n",
    "df = pd.read_csv('datasets/insurance_us.csv')"
   ]
  },
  {
   "cell_type": "markdown",
   "metadata": {},
   "source": [
    "We rename the columns to make the code look more consistent with its style."
   ]
  },
  {
   "cell_type": "code",
   "execution_count": 3,
   "metadata": {},
   "outputs": [],
   "source": [
    "# Rename columns\n",
    "df = df.rename(columns={'Gender': 'gender', 'Age': 'age', 'Salary': 'income', 'Family members': 'family_members', 'Insurance benefits': 'insurance_benefits'})"
   ]
  },
  {
   "cell_type": "code",
   "execution_count": 4,
   "metadata": {},
   "outputs": [
    {
     "data": {
      "text/html": [
       "<div>\n",
       "<style scoped>\n",
       "    .dataframe tbody tr th:only-of-type {\n",
       "        vertical-align: middle;\n",
       "    }\n",
       "\n",
       "    .dataframe tbody tr th {\n",
       "        vertical-align: top;\n",
       "    }\n",
       "\n",
       "    .dataframe thead th {\n",
       "        text-align: right;\n",
       "    }\n",
       "</style>\n",
       "<table border=\"1\" class=\"dataframe\">\n",
       "  <thead>\n",
       "    <tr style=\"text-align: right;\">\n",
       "      <th></th>\n",
       "      <th>gender</th>\n",
       "      <th>age</th>\n",
       "      <th>income</th>\n",
       "      <th>family_members</th>\n",
       "      <th>insurance_benefits</th>\n",
       "    </tr>\n",
       "  </thead>\n",
       "  <tbody>\n",
       "    <tr>\n",
       "      <th>1008</th>\n",
       "      <td>1</td>\n",
       "      <td>37.0</td>\n",
       "      <td>52200.0</td>\n",
       "      <td>1</td>\n",
       "      <td>0</td>\n",
       "    </tr>\n",
       "    <tr>\n",
       "      <th>3587</th>\n",
       "      <td>1</td>\n",
       "      <td>22.0</td>\n",
       "      <td>29900.0</td>\n",
       "      <td>2</td>\n",
       "      <td>0</td>\n",
       "    </tr>\n",
       "    <tr>\n",
       "      <th>1573</th>\n",
       "      <td>0</td>\n",
       "      <td>27.0</td>\n",
       "      <td>36600.0</td>\n",
       "      <td>2</td>\n",
       "      <td>0</td>\n",
       "    </tr>\n",
       "    <tr>\n",
       "      <th>2805</th>\n",
       "      <td>0</td>\n",
       "      <td>47.0</td>\n",
       "      <td>32700.0</td>\n",
       "      <td>1</td>\n",
       "      <td>1</td>\n",
       "    </tr>\n",
       "    <tr>\n",
       "      <th>904</th>\n",
       "      <td>0</td>\n",
       "      <td>41.0</td>\n",
       "      <td>32500.0</td>\n",
       "      <td>0</td>\n",
       "      <td>0</td>\n",
       "    </tr>\n",
       "    <tr>\n",
       "      <th>4964</th>\n",
       "      <td>1</td>\n",
       "      <td>30.0</td>\n",
       "      <td>34500.0</td>\n",
       "      <td>0</td>\n",
       "      <td>0</td>\n",
       "    </tr>\n",
       "    <tr>\n",
       "      <th>4332</th>\n",
       "      <td>0</td>\n",
       "      <td>28.0</td>\n",
       "      <td>49500.0</td>\n",
       "      <td>3</td>\n",
       "      <td>0</td>\n",
       "    </tr>\n",
       "    <tr>\n",
       "      <th>4367</th>\n",
       "      <td>0</td>\n",
       "      <td>34.0</td>\n",
       "      <td>24600.0</td>\n",
       "      <td>1</td>\n",
       "      <td>0</td>\n",
       "    </tr>\n",
       "    <tr>\n",
       "      <th>3748</th>\n",
       "      <td>1</td>\n",
       "      <td>26.0</td>\n",
       "      <td>42200.0</td>\n",
       "      <td>1</td>\n",
       "      <td>0</td>\n",
       "    </tr>\n",
       "    <tr>\n",
       "      <th>1690</th>\n",
       "      <td>1</td>\n",
       "      <td>28.0</td>\n",
       "      <td>47700.0</td>\n",
       "      <td>0</td>\n",
       "      <td>0</td>\n",
       "    </tr>\n",
       "  </tbody>\n",
       "</table>\n",
       "</div>"
      ],
      "text/plain": [
       "      gender   age   income  family_members  insurance_benefits\n",
       "1008       1  37.0  52200.0               1                   0\n",
       "3587       1  22.0  29900.0               2                   0\n",
       "1573       0  27.0  36600.0               2                   0\n",
       "2805       0  47.0  32700.0               1                   1\n",
       "904        0  41.0  32500.0               0                   0\n",
       "4964       1  30.0  34500.0               0                   0\n",
       "4332       0  28.0  49500.0               3                   0\n",
       "4367       0  34.0  24600.0               1                   0\n",
       "3748       1  26.0  42200.0               1                   0\n",
       "1690       1  28.0  47700.0               0                   0"
      ]
     },
     "execution_count": 4,
     "metadata": {},
     "output_type": "execute_result"
    }
   ],
   "source": [
    "# Get 10 random rows\n",
    "df.sample(10)"
   ]
  },
  {
   "cell_type": "code",
   "execution_count": 5,
   "metadata": {},
   "outputs": [
    {
     "name": "stdout",
     "output_type": "stream",
     "text": [
      "<class 'pandas.core.frame.DataFrame'>\n",
      "RangeIndex: 5000 entries, 0 to 4999\n",
      "Data columns (total 5 columns):\n",
      " #   Column              Non-Null Count  Dtype  \n",
      "---  ------              --------------  -----  \n",
      " 0   gender              5000 non-null   int64  \n",
      " 1   age                 5000 non-null   float64\n",
      " 2   income              5000 non-null   float64\n",
      " 3   family_members      5000 non-null   int64  \n",
      " 4   insurance_benefits  5000 non-null   int64  \n",
      "dtypes: float64(2), int64(3)\n",
      "memory usage: 195.4 KB\n"
     ]
    }
   ],
   "source": [
    "df.info()"
   ]
  },
  {
   "cell_type": "code",
   "execution_count": 6,
   "metadata": {},
   "outputs": [],
   "source": [
    "# Transform age and income to integer\n",
    "df[['age','income']] = df[['age','income']].astype(int)"
   ]
  },
  {
   "cell_type": "code",
   "execution_count": 7,
   "metadata": {},
   "outputs": [
    {
     "data": {
      "text/html": [
       "<div>\n",
       "<style scoped>\n",
       "    .dataframe tbody tr th:only-of-type {\n",
       "        vertical-align: middle;\n",
       "    }\n",
       "\n",
       "    .dataframe tbody tr th {\n",
       "        vertical-align: top;\n",
       "    }\n",
       "\n",
       "    .dataframe thead th {\n",
       "        text-align: right;\n",
       "    }\n",
       "</style>\n",
       "<table border=\"1\" class=\"dataframe\">\n",
       "  <thead>\n",
       "    <tr style=\"text-align: right;\">\n",
       "      <th></th>\n",
       "      <th>gender</th>\n",
       "      <th>age</th>\n",
       "      <th>income</th>\n",
       "      <th>family_members</th>\n",
       "      <th>insurance_benefits</th>\n",
       "    </tr>\n",
       "  </thead>\n",
       "  <tbody>\n",
       "    <tr>\n",
       "      <th>count</th>\n",
       "      <td>5000.000000</td>\n",
       "      <td>5000.000000</td>\n",
       "      <td>5000.000000</td>\n",
       "      <td>5000.000000</td>\n",
       "      <td>5000.000000</td>\n",
       "    </tr>\n",
       "    <tr>\n",
       "      <th>mean</th>\n",
       "      <td>0.499000</td>\n",
       "      <td>30.952800</td>\n",
       "      <td>39916.359400</td>\n",
       "      <td>1.194200</td>\n",
       "      <td>0.148000</td>\n",
       "    </tr>\n",
       "    <tr>\n",
       "      <th>std</th>\n",
       "      <td>0.500049</td>\n",
       "      <td>8.440807</td>\n",
       "      <td>9900.082063</td>\n",
       "      <td>1.091387</td>\n",
       "      <td>0.463183</td>\n",
       "    </tr>\n",
       "    <tr>\n",
       "      <th>min</th>\n",
       "      <td>0.000000</td>\n",
       "      <td>18.000000</td>\n",
       "      <td>5300.000000</td>\n",
       "      <td>0.000000</td>\n",
       "      <td>0.000000</td>\n",
       "    </tr>\n",
       "    <tr>\n",
       "      <th>25%</th>\n",
       "      <td>0.000000</td>\n",
       "      <td>24.000000</td>\n",
       "      <td>33300.000000</td>\n",
       "      <td>0.000000</td>\n",
       "      <td>0.000000</td>\n",
       "    </tr>\n",
       "    <tr>\n",
       "      <th>50%</th>\n",
       "      <td>0.000000</td>\n",
       "      <td>30.000000</td>\n",
       "      <td>40200.000000</td>\n",
       "      <td>1.000000</td>\n",
       "      <td>0.000000</td>\n",
       "    </tr>\n",
       "    <tr>\n",
       "      <th>75%</th>\n",
       "      <td>1.000000</td>\n",
       "      <td>37.000000</td>\n",
       "      <td>46600.000000</td>\n",
       "      <td>2.000000</td>\n",
       "      <td>0.000000</td>\n",
       "    </tr>\n",
       "    <tr>\n",
       "      <th>max</th>\n",
       "      <td>1.000000</td>\n",
       "      <td>65.000000</td>\n",
       "      <td>79000.000000</td>\n",
       "      <td>6.000000</td>\n",
       "      <td>5.000000</td>\n",
       "    </tr>\n",
       "  </tbody>\n",
       "</table>\n",
       "</div>"
      ],
      "text/plain": [
       "            gender          age        income  family_members  \\\n",
       "count  5000.000000  5000.000000   5000.000000     5000.000000   \n",
       "mean      0.499000    30.952800  39916.359400        1.194200   \n",
       "std       0.500049     8.440807   9900.082063        1.091387   \n",
       "min       0.000000    18.000000   5300.000000        0.000000   \n",
       "25%       0.000000    24.000000  33300.000000        0.000000   \n",
       "50%       0.000000    30.000000  40200.000000        1.000000   \n",
       "75%       1.000000    37.000000  46600.000000        2.000000   \n",
       "max       1.000000    65.000000  79000.000000        6.000000   \n",
       "\n",
       "       insurance_benefits  \n",
       "count         5000.000000  \n",
       "mean             0.148000  \n",
       "std              0.463183  \n",
       "min              0.000000  \n",
       "25%              0.000000  \n",
       "50%              0.000000  \n",
       "75%              0.000000  \n",
       "max              5.000000  "
      ]
     },
     "execution_count": 7,
     "metadata": {},
     "output_type": "execute_result"
    }
   ],
   "source": [
    "# Descriptive stats of numeric variables\n",
    "df.describe()"
   ]
  },
  {
   "cell_type": "markdown",
   "metadata": {},
   "source": [
    "The data comprises 5000 client records with information on 6 characteristics (gender, age, income, number of family members and number of benefits). There are no missing values.\n",
    "\n",
    "Descriptive statistics of the characteristics reveal that:\n",
    "\n",
    "* There is a close 1:1 ratio between males and females. \n",
    "* The age range of the insured is 18 to 65, the average age of the clients is ~31.\n",
    "* Income ranges from \\\\$5,300 to \\\\$79,000; median salary is \\\\$42,200.\n",
    "* The number of family members the insured has ranges from 0 to 6; 50\\% of clients have at least one family member.\n",
    "* The vast majority of clients (>75\\%) have no insurance benefits.\n",
    "\n",
    "Now let's explore the data visually."
   ]
  },
  {
   "cell_type": "markdown",
   "metadata": {},
   "source": [
    "## Explorative Data Analysis"
   ]
  },
  {
   "cell_type": "markdown",
   "metadata": {},
   "source": [
    "Let's quickly check if certain customer groups exist by creating a pair plot."
   ]
  },
  {
   "cell_type": "code",
   "execution_count": 8,
   "metadata": {},
   "outputs": [
    {
     "data": {
      "image/png": "[encoded data removed]",
      "text/plain": [
       "<Figure size 864x864 with 30 Axes>"
      ]
     },
     "metadata": {
      "needs_background": "light"
     },
     "output_type": "display_data"
    }
   ],
   "source": [
    "# Pair plot\n",
    "g = sns.pairplot(df, kind='hist')\n",
    "g.fig.set_size_inches(12, 12)"
   ]
  },
  {
   "cell_type": "code",
   "execution_count": 9,
   "metadata": {},
   "outputs": [
    {
     "data": {
      "text/html": [
       "<div>\n",
       "<style scoped>\n",
       "    .dataframe tbody tr th:only-of-type {\n",
       "        vertical-align: middle;\n",
       "    }\n",
       "\n",
       "    .dataframe tbody tr th {\n",
       "        vertical-align: top;\n",
       "    }\n",
       "\n",
       "    .dataframe thead th {\n",
       "        text-align: right;\n",
       "    }\n",
       "</style>\n",
       "<table border=\"1\" class=\"dataframe\">\n",
       "  <thead>\n",
       "    <tr style=\"text-align: right;\">\n",
       "      <th></th>\n",
       "      <th>gender</th>\n",
       "      <th>age</th>\n",
       "      <th>income</th>\n",
       "      <th>family_members</th>\n",
       "      <th>insurance_benefits</th>\n",
       "    </tr>\n",
       "  </thead>\n",
       "  <tbody>\n",
       "    <tr>\n",
       "      <th>gender</th>\n",
       "      <td>1.000000</td>\n",
       "      <td>0.002074</td>\n",
       "      <td>0.014910</td>\n",
       "      <td>-0.008991</td>\n",
       "      <td>0.010140</td>\n",
       "    </tr>\n",
       "    <tr>\n",
       "      <th>age</th>\n",
       "      <td>0.002074</td>\n",
       "      <td>1.000000</td>\n",
       "      <td>-0.019093</td>\n",
       "      <td>-0.006692</td>\n",
       "      <td>0.651030</td>\n",
       "    </tr>\n",
       "    <tr>\n",
       "      <th>income</th>\n",
       "      <td>0.014910</td>\n",
       "      <td>-0.019093</td>\n",
       "      <td>1.000000</td>\n",
       "      <td>-0.030296</td>\n",
       "      <td>-0.014963</td>\n",
       "    </tr>\n",
       "    <tr>\n",
       "      <th>family_members</th>\n",
       "      <td>-0.008991</td>\n",
       "      <td>-0.006692</td>\n",
       "      <td>-0.030296</td>\n",
       "      <td>1.000000</td>\n",
       "      <td>-0.036290</td>\n",
       "    </tr>\n",
       "    <tr>\n",
       "      <th>insurance_benefits</th>\n",
       "      <td>0.010140</td>\n",
       "      <td>0.651030</td>\n",
       "      <td>-0.014963</td>\n",
       "      <td>-0.036290</td>\n",
       "      <td>1.000000</td>\n",
       "    </tr>\n",
       "  </tbody>\n",
       "</table>\n",
       "</div>"
      ],
      "text/plain": [
       "                      gender       age    income  family_members  \\\n",
       "gender              1.000000  0.002074  0.014910       -0.008991   \n",
       "age                 0.002074  1.000000 -0.019093       -0.006692   \n",
       "income              0.014910 -0.019093  1.000000       -0.030296   \n",
       "family_members     -0.008991 -0.006692 -0.030296        1.000000   \n",
       "insurance_benefits  0.010140  0.651030 -0.014963       -0.036290   \n",
       "\n",
       "                    insurance_benefits  \n",
       "gender                        0.010140  \n",
       "age                           0.651030  \n",
       "income                       -0.014963  \n",
       "family_members               -0.036290  \n",
       "insurance_benefits            1.000000  "
      ]
     },
     "execution_count": 9,
     "metadata": {},
     "output_type": "execute_result"
    }
   ],
   "source": [
    "# Matrix correlation\n",
    "df.corr()"
   ]
  },
  {
   "cell_type": "markdown",
   "metadata": {},
   "source": [
    "It is a bit tricky to detect obvious groups (clusters) as it is difficult to combine several variables simultaneously (to analyze multivariate distributions). According to the correlation heat map, it seems that there is a relationship between the age of the costumer and the insurance benefits he or she recieves."
   ]
  },
  {
   "cell_type": "markdown",
   "metadata": {},
   "source": [
    "# Task 1. Similar customers"
   ]
  },
  {
   "cell_type": "markdown",
   "metadata": {},
   "source": [
    "In the ML language, you need to develop a procedure that returns the k nearest neighbors (objects) for a given object based on the distance between the objects.\n",
    "\n",
    "To solve the task, we can try different distance metrics.\n",
    "\n",
    "Write a function that returns the k nearest neighbors for an $n^{th}$ object based on a specified distance metric. When performing this task, the number of insurance benefits received should not be taken into account.\n",
    "\n",
    "You can use an existing implementation of the kNN algorithm from scikit-learn (see [link](https://scikit-learn.org/stable/modules/generated/sklearn.neighbors.NearestNeighbors.html#sklearn.neighbors.NearestNeighbors)) or your own implementation.\n",
    "\n",
    "- Try it for four combinations of two cases- Scaling\n",
    "    - the data is not scaled\n",
    "    - the data is scaled with the scaler [MaxAbsScaler](https://scikit-learn.org/stable/modules/generated/sklearn.preprocessing.MaxAbsScaler.html)\n",
    "\n",
    "- Distance metrics\n",
    "  - Euclidean\n",
    "  - Manhattan\n",
    "\n",
    "Answer these questions:- Does the fact that the data is not scaled affect the kNN algorithm? If so, how does it manifest itself:- How similar are the results when using the Manhattan distance metric (regardless of scaling)?"
   ]
  },
  {
   "cell_type": "code",
   "execution_count": 10,
   "metadata": {},
   "outputs": [],
   "source": [
    "# Features selection\n",
    "feature_names = ['gender', 'age', 'income', 'family_members']"
   ]
  },
  {
   "cell_type": "code",
   "execution_count": 11,
   "metadata": {},
   "outputs": [],
   "source": [
    "def get_knn(df, n, k, metric='euclidean'):\n",
    "    \n",
    "    \"\"\"\n",
    "    Returns k nearest neighbors\n",
    "\n",
    "    :param df: Pandas DataFrame used to find similar objects within the same location.    \n",
    "    :param n: number of objects for which nearest neighbors are sought    \n",
    "    :param k: number of k nearest neighbors to return\n",
    "    :param metric: name of the distance metric\n",
    "        euclidean': computes Euclidean distance between peers\n",
    "        cityblock': computes manhattan distance between peers\n",
    "    \"\"\"\n",
    "\n",
    "    nbrs = sklearn.neighbors.NearestNeighbors(metric=metric).fit(df[feature_names].values)\n",
    "    nbrs_distances, nbrs_indices = nbrs.kneighbors([df.iloc[n][feature_names]], k, return_distance=True)\n",
    "    \n",
    "    df_res = pd.concat([\n",
    "        df.iloc[nbrs_indices[0]], \n",
    "        pd.DataFrame(nbrs_distances.T, index=nbrs_indices[0], columns=['distance'])\n",
    "        ], axis=1)\n",
    "    \n",
    "    return df_res"
   ]
  },
  {
   "cell_type": "code",
   "execution_count": 12,
   "metadata": {},
   "outputs": [],
   "source": [
    "# Scale features\n",
    "feature_names = ['gender', 'age', 'income', 'family_members']\n",
    "\n",
    "transformer_mas = sklearn.preprocessing.MaxAbsScaler().fit(df[feature_names].to_numpy())\n",
    "\n",
    "df_scaled = df.copy()\n",
    "df_scaled.loc[:, feature_names] = transformer_mas.transform(df[feature_names].to_numpy())"
   ]
  },
  {
   "cell_type": "code",
   "execution_count": 13,
   "metadata": {},
   "outputs": [
    {
     "data": {
      "text/html": [
       "<div>\n",
       "<style scoped>\n",
       "    .dataframe tbody tr th:only-of-type {\n",
       "        vertical-align: middle;\n",
       "    }\n",
       "\n",
       "    .dataframe tbody tr th {\n",
       "        vertical-align: top;\n",
       "    }\n",
       "\n",
       "    .dataframe thead th {\n",
       "        text-align: right;\n",
       "    }\n",
       "</style>\n",
       "<table border=\"1\" class=\"dataframe\">\n",
       "  <thead>\n",
       "    <tr style=\"text-align: right;\">\n",
       "      <th></th>\n",
       "      <th>gender</th>\n",
       "      <th>age</th>\n",
       "      <th>income</th>\n",
       "      <th>family_members</th>\n",
       "      <th>insurance_benefits</th>\n",
       "    </tr>\n",
       "  </thead>\n",
       "  <tbody>\n",
       "    <tr>\n",
       "      <th>1042</th>\n",
       "      <td>0.0</td>\n",
       "      <td>0.507692</td>\n",
       "      <td>0.750633</td>\n",
       "      <td>0.333333</td>\n",
       "      <td>0</td>\n",
       "    </tr>\n",
       "    <tr>\n",
       "      <th>924</th>\n",
       "      <td>0.0</td>\n",
       "      <td>0.476923</td>\n",
       "      <td>0.620253</td>\n",
       "      <td>0.000000</td>\n",
       "      <td>0</td>\n",
       "    </tr>\n",
       "    <tr>\n",
       "      <th>765</th>\n",
       "      <td>1.0</td>\n",
       "      <td>0.323077</td>\n",
       "      <td>0.401266</td>\n",
       "      <td>0.333333</td>\n",
       "      <td>0</td>\n",
       "    </tr>\n",
       "    <tr>\n",
       "      <th>1101</th>\n",
       "      <td>1.0</td>\n",
       "      <td>0.369231</td>\n",
       "      <td>0.374684</td>\n",
       "      <td>0.000000</td>\n",
       "      <td>0</td>\n",
       "    </tr>\n",
       "    <tr>\n",
       "      <th>1580</th>\n",
       "      <td>0.0</td>\n",
       "      <td>0.292308</td>\n",
       "      <td>0.470886</td>\n",
       "      <td>0.333333</td>\n",
       "      <td>0</td>\n",
       "    </tr>\n",
       "  </tbody>\n",
       "</table>\n",
       "</div>"
      ],
      "text/plain": [
       "      gender       age    income  family_members  insurance_benefits\n",
       "1042     0.0  0.507692  0.750633        0.333333                   0\n",
       "924      0.0  0.476923  0.620253        0.000000                   0\n",
       "765      1.0  0.323077  0.401266        0.333333                   0\n",
       "1101     1.0  0.369231  0.374684        0.000000                   0\n",
       "1580     0.0  0.292308  0.470886        0.333333                   0"
      ]
     },
     "execution_count": 13,
     "metadata": {},
     "output_type": "execute_result"
    }
   ],
   "source": [
    "# Data scaled head\n",
    "df_scaled.sample(5)"
   ]
  },
  {
   "cell_type": "markdown",
   "metadata": {},
   "source": [
    "Now, we are going to obtain similar records for a given customer, for each combination. Let's select the customer with index `101` which has the following characteristics:"
   ]
  },
  {
   "cell_type": "code",
   "execution_count": 14,
   "metadata": {},
   "outputs": [
    {
     "data": {
      "text/html": [
       "<div>\n",
       "<style scoped>\n",
       "    .dataframe tbody tr th:only-of-type {\n",
       "        vertical-align: middle;\n",
       "    }\n",
       "\n",
       "    .dataframe tbody tr th {\n",
       "        vertical-align: top;\n",
       "    }\n",
       "\n",
       "    .dataframe thead th {\n",
       "        text-align: right;\n",
       "    }\n",
       "</style>\n",
       "<table border=\"1\" class=\"dataframe\">\n",
       "  <thead>\n",
       "    <tr style=\"text-align: right;\">\n",
       "      <th></th>\n",
       "      <th>gender</th>\n",
       "      <th>age</th>\n",
       "      <th>income</th>\n",
       "      <th>family_members</th>\n",
       "      <th>insurance_benefits</th>\n",
       "    </tr>\n",
       "  </thead>\n",
       "  <tbody>\n",
       "    <tr>\n",
       "      <th>101</th>\n",
       "      <td>0</td>\n",
       "      <td>49</td>\n",
       "      <td>42500</td>\n",
       "      <td>1</td>\n",
       "      <td>2</td>\n",
       "    </tr>\n",
       "  </tbody>\n",
       "</table>\n",
       "</div>"
      ],
      "text/plain": [
       "     gender  age  income  family_members  insurance_benefits\n",
       "101       0   49   42500               1                   2"
      ]
     },
     "execution_count": 14,
     "metadata": {},
     "output_type": "execute_result"
    }
   ],
   "source": [
    "# Client with index 101\n",
    "df.loc[[101]]"
   ]
  },
  {
   "cell_type": "code",
   "execution_count": 15,
   "metadata": {},
   "outputs": [
    {
     "data": {
      "text/html": [
       "<div>\n",
       "<style scoped>\n",
       "    .dataframe tbody tr th:only-of-type {\n",
       "        vertical-align: middle;\n",
       "    }\n",
       "\n",
       "    .dataframe tbody tr th {\n",
       "        vertical-align: top;\n",
       "    }\n",
       "\n",
       "    .dataframe thead th {\n",
       "        text-align: right;\n",
       "    }\n",
       "</style>\n",
       "<table border=\"1\" class=\"dataframe\">\n",
       "  <thead>\n",
       "    <tr style=\"text-align: right;\">\n",
       "      <th></th>\n",
       "      <th>gender</th>\n",
       "      <th>age</th>\n",
       "      <th>income</th>\n",
       "      <th>family_members</th>\n",
       "      <th>insurance_benefits</th>\n",
       "      <th>distance</th>\n",
       "    </tr>\n",
       "  </thead>\n",
       "  <tbody>\n",
       "    <tr>\n",
       "      <th>101</th>\n",
       "      <td>0</td>\n",
       "      <td>49</td>\n",
       "      <td>42500</td>\n",
       "      <td>1</td>\n",
       "      <td>2</td>\n",
       "      <td>0.000000</td>\n",
       "    </tr>\n",
       "    <tr>\n",
       "      <th>1235</th>\n",
       "      <td>0</td>\n",
       "      <td>47</td>\n",
       "      <td>42500</td>\n",
       "      <td>2</td>\n",
       "      <td>1</td>\n",
       "      <td>2.236068</td>\n",
       "    </tr>\n",
       "    <tr>\n",
       "      <th>4753</th>\n",
       "      <td>0</td>\n",
       "      <td>39</td>\n",
       "      <td>42500</td>\n",
       "      <td>2</td>\n",
       "      <td>0</td>\n",
       "      <td>10.049876</td>\n",
       "    </tr>\n",
       "    <tr>\n",
       "      <th>2064</th>\n",
       "      <td>0</td>\n",
       "      <td>39</td>\n",
       "      <td>42500</td>\n",
       "      <td>0</td>\n",
       "      <td>0</td>\n",
       "      <td>10.049876</td>\n",
       "    </tr>\n",
       "    <tr>\n",
       "      <th>2969</th>\n",
       "      <td>0</td>\n",
       "      <td>37</td>\n",
       "      <td>42500</td>\n",
       "      <td>1</td>\n",
       "      <td>0</td>\n",
       "      <td>12.000000</td>\n",
       "    </tr>\n",
       "    <tr>\n",
       "      <th>1483</th>\n",
       "      <td>0</td>\n",
       "      <td>37</td>\n",
       "      <td>42500</td>\n",
       "      <td>1</td>\n",
       "      <td>0</td>\n",
       "      <td>12.000000</td>\n",
       "    </tr>\n",
       "  </tbody>\n",
       "</table>\n",
       "</div>"
      ],
      "text/plain": [
       "      gender  age  income  family_members  insurance_benefits   distance\n",
       "101        0   49   42500               1                   2   0.000000\n",
       "1235       0   47   42500               2                   1   2.236068\n",
       "4753       0   39   42500               2                   0  10.049876\n",
       "2064       0   39   42500               0                   0  10.049876\n",
       "2969       0   37   42500               1                   0  12.000000\n",
       "1483       0   37   42500               1                   0  12.000000"
      ]
     },
     "execution_count": 15,
     "metadata": {},
     "output_type": "execute_result"
    }
   ],
   "source": [
    "# 5 records similar to client number 101 - data NOT scaled - Euclidean distance\n",
    "get_knn(df, n=101, k=6, metric='euclidean')"
   ]
  },
  {
   "cell_type": "code",
   "execution_count": 16,
   "metadata": {},
   "outputs": [
    {
     "data": {
      "text/html": [
       "<div>\n",
       "<style scoped>\n",
       "    .dataframe tbody tr th:only-of-type {\n",
       "        vertical-align: middle;\n",
       "    }\n",
       "\n",
       "    .dataframe tbody tr th {\n",
       "        vertical-align: top;\n",
       "    }\n",
       "\n",
       "    .dataframe thead th {\n",
       "        text-align: right;\n",
       "    }\n",
       "</style>\n",
       "<table border=\"1\" class=\"dataframe\">\n",
       "  <thead>\n",
       "    <tr style=\"text-align: right;\">\n",
       "      <th></th>\n",
       "      <th>gender</th>\n",
       "      <th>age</th>\n",
       "      <th>income</th>\n",
       "      <th>family_members</th>\n",
       "      <th>insurance_benefits</th>\n",
       "      <th>distance</th>\n",
       "    </tr>\n",
       "  </thead>\n",
       "  <tbody>\n",
       "    <tr>\n",
       "      <th>101</th>\n",
       "      <td>0</td>\n",
       "      <td>49</td>\n",
       "      <td>42500</td>\n",
       "      <td>1</td>\n",
       "      <td>2</td>\n",
       "      <td>0.0</td>\n",
       "    </tr>\n",
       "    <tr>\n",
       "      <th>1235</th>\n",
       "      <td>0</td>\n",
       "      <td>47</td>\n",
       "      <td>42500</td>\n",
       "      <td>2</td>\n",
       "      <td>1</td>\n",
       "      <td>3.0</td>\n",
       "    </tr>\n",
       "    <tr>\n",
       "      <th>4753</th>\n",
       "      <td>0</td>\n",
       "      <td>39</td>\n",
       "      <td>42500</td>\n",
       "      <td>2</td>\n",
       "      <td>0</td>\n",
       "      <td>11.0</td>\n",
       "    </tr>\n",
       "    <tr>\n",
       "      <th>2064</th>\n",
       "      <td>0</td>\n",
       "      <td>39</td>\n",
       "      <td>42500</td>\n",
       "      <td>0</td>\n",
       "      <td>0</td>\n",
       "      <td>11.0</td>\n",
       "    </tr>\n",
       "    <tr>\n",
       "      <th>2969</th>\n",
       "      <td>0</td>\n",
       "      <td>37</td>\n",
       "      <td>42500</td>\n",
       "      <td>1</td>\n",
       "      <td>0</td>\n",
       "      <td>12.0</td>\n",
       "    </tr>\n",
       "    <tr>\n",
       "      <th>1483</th>\n",
       "      <td>0</td>\n",
       "      <td>37</td>\n",
       "      <td>42500</td>\n",
       "      <td>1</td>\n",
       "      <td>0</td>\n",
       "      <td>12.0</td>\n",
       "    </tr>\n",
       "  </tbody>\n",
       "</table>\n",
       "</div>"
      ],
      "text/plain": [
       "      gender  age  income  family_members  insurance_benefits  distance\n",
       "101        0   49   42500               1                   2       0.0\n",
       "1235       0   47   42500               2                   1       3.0\n",
       "4753       0   39   42500               2                   0      11.0\n",
       "2064       0   39   42500               0                   0      11.0\n",
       "2969       0   37   42500               1                   0      12.0\n",
       "1483       0   37   42500               1                   0      12.0"
      ]
     },
     "execution_count": 16,
     "metadata": {},
     "output_type": "execute_result"
    }
   ],
   "source": [
    "# 5 records similar to client number 101 - data NOT scaled - Manhattan\n",
    "get_knn(df, n=101, k=6, metric='cityblock')"
   ]
  },
  {
   "cell_type": "code",
   "execution_count": 17,
   "metadata": {},
   "outputs": [
    {
     "data": {
      "text/html": [
       "<div>\n",
       "<style scoped>\n",
       "    .dataframe tbody tr th:only-of-type {\n",
       "        vertical-align: middle;\n",
       "    }\n",
       "\n",
       "    .dataframe tbody tr th {\n",
       "        vertical-align: top;\n",
       "    }\n",
       "\n",
       "    .dataframe thead th {\n",
       "        text-align: right;\n",
       "    }\n",
       "</style>\n",
       "<table border=\"1\" class=\"dataframe\">\n",
       "  <thead>\n",
       "    <tr style=\"text-align: right;\">\n",
       "      <th></th>\n",
       "      <th>gender</th>\n",
       "      <th>age</th>\n",
       "      <th>income</th>\n",
       "      <th>family_members</th>\n",
       "      <th>insurance_benefits</th>\n",
       "      <th>distance</th>\n",
       "    </tr>\n",
       "  </thead>\n",
       "  <tbody>\n",
       "    <tr>\n",
       "      <th>101</th>\n",
       "      <td>0.0</td>\n",
       "      <td>0.753846</td>\n",
       "      <td>0.537975</td>\n",
       "      <td>0.166667</td>\n",
       "      <td>2</td>\n",
       "      <td>0.000000</td>\n",
       "    </tr>\n",
       "    <tr>\n",
       "      <th>3023</th>\n",
       "      <td>0.0</td>\n",
       "      <td>0.753846</td>\n",
       "      <td>0.513924</td>\n",
       "      <td>0.166667</td>\n",
       "      <td>2</td>\n",
       "      <td>0.024051</td>\n",
       "    </tr>\n",
       "    <tr>\n",
       "      <th>1194</th>\n",
       "      <td>0.0</td>\n",
       "      <td>0.738462</td>\n",
       "      <td>0.511392</td>\n",
       "      <td>0.166667</td>\n",
       "      <td>1</td>\n",
       "      <td>0.030713</td>\n",
       "    </tr>\n",
       "    <tr>\n",
       "      <th>1951</th>\n",
       "      <td>0.0</td>\n",
       "      <td>0.723077</td>\n",
       "      <td>0.540506</td>\n",
       "      <td>0.166667</td>\n",
       "      <td>1</td>\n",
       "      <td>0.030873</td>\n",
       "    </tr>\n",
       "    <tr>\n",
       "      <th>4555</th>\n",
       "      <td>0.0</td>\n",
       "      <td>0.784615</td>\n",
       "      <td>0.544304</td>\n",
       "      <td>0.166667</td>\n",
       "      <td>2</td>\n",
       "      <td>0.031413</td>\n",
       "    </tr>\n",
       "    <tr>\n",
       "      <th>723</th>\n",
       "      <td>0.0</td>\n",
       "      <td>0.784615</td>\n",
       "      <td>0.522785</td>\n",
       "      <td>0.166667</td>\n",
       "      <td>2</td>\n",
       "      <td>0.034314</td>\n",
       "    </tr>\n",
       "  </tbody>\n",
       "</table>\n",
       "</div>"
      ],
      "text/plain": [
       "      gender       age    income  family_members  insurance_benefits  distance\n",
       "101      0.0  0.753846  0.537975        0.166667                   2  0.000000\n",
       "3023     0.0  0.753846  0.513924        0.166667                   2  0.024051\n",
       "1194     0.0  0.738462  0.511392        0.166667                   1  0.030713\n",
       "1951     0.0  0.723077  0.540506        0.166667                   1  0.030873\n",
       "4555     0.0  0.784615  0.544304        0.166667                   2  0.031413\n",
       "723      0.0  0.784615  0.522785        0.166667                   2  0.034314"
      ]
     },
     "execution_count": 17,
     "metadata": {},
     "output_type": "execute_result"
    }
   ],
   "source": [
    "# 5 records similar to client number 101 - data scaled - Euclidean distance\n",
    "get_knn(df_scaled, n=101, k=6, metric='euclidean')"
   ]
  },
  {
   "cell_type": "code",
   "execution_count": 18,
   "metadata": {},
   "outputs": [
    {
     "data": {
      "text/html": [
       "<div>\n",
       "<style scoped>\n",
       "    .dataframe tbody tr th:only-of-type {\n",
       "        vertical-align: middle;\n",
       "    }\n",
       "\n",
       "    .dataframe tbody tr th {\n",
       "        vertical-align: top;\n",
       "    }\n",
       "\n",
       "    .dataframe thead th {\n",
       "        text-align: right;\n",
       "    }\n",
       "</style>\n",
       "<table border=\"1\" class=\"dataframe\">\n",
       "  <thead>\n",
       "    <tr style=\"text-align: right;\">\n",
       "      <th></th>\n",
       "      <th>gender</th>\n",
       "      <th>age</th>\n",
       "      <th>income</th>\n",
       "      <th>family_members</th>\n",
       "      <th>insurance_benefits</th>\n",
       "      <th>distance</th>\n",
       "    </tr>\n",
       "  </thead>\n",
       "  <tbody>\n",
       "    <tr>\n",
       "      <th>101</th>\n",
       "      <td>0.0</td>\n",
       "      <td>0.753846</td>\n",
       "      <td>0.537975</td>\n",
       "      <td>0.166667</td>\n",
       "      <td>2</td>\n",
       "      <td>0.000000</td>\n",
       "    </tr>\n",
       "    <tr>\n",
       "      <th>3023</th>\n",
       "      <td>0.0</td>\n",
       "      <td>0.753846</td>\n",
       "      <td>0.513924</td>\n",
       "      <td>0.166667</td>\n",
       "      <td>2</td>\n",
       "      <td>0.024051</td>\n",
       "    </tr>\n",
       "    <tr>\n",
       "      <th>1951</th>\n",
       "      <td>0.0</td>\n",
       "      <td>0.723077</td>\n",
       "      <td>0.540506</td>\n",
       "      <td>0.166667</td>\n",
       "      <td>1</td>\n",
       "      <td>0.033301</td>\n",
       "    </tr>\n",
       "    <tr>\n",
       "      <th>4555</th>\n",
       "      <td>0.0</td>\n",
       "      <td>0.784615</td>\n",
       "      <td>0.544304</td>\n",
       "      <td>0.166667</td>\n",
       "      <td>2</td>\n",
       "      <td>0.037098</td>\n",
       "    </tr>\n",
       "    <tr>\n",
       "      <th>1194</th>\n",
       "      <td>0.0</td>\n",
       "      <td>0.738462</td>\n",
       "      <td>0.511392</td>\n",
       "      <td>0.166667</td>\n",
       "      <td>1</td>\n",
       "      <td>0.041967</td>\n",
       "    </tr>\n",
       "    <tr>\n",
       "      <th>723</th>\n",
       "      <td>0.0</td>\n",
       "      <td>0.784615</td>\n",
       "      <td>0.522785</td>\n",
       "      <td>0.166667</td>\n",
       "      <td>2</td>\n",
       "      <td>0.045959</td>\n",
       "    </tr>\n",
       "  </tbody>\n",
       "</table>\n",
       "</div>"
      ],
      "text/plain": [
       "      gender       age    income  family_members  insurance_benefits  distance\n",
       "101      0.0  0.753846  0.537975        0.166667                   2  0.000000\n",
       "3023     0.0  0.753846  0.513924        0.166667                   2  0.024051\n",
       "1951     0.0  0.723077  0.540506        0.166667                   1  0.033301\n",
       "4555     0.0  0.784615  0.544304        0.166667                   2  0.037098\n",
       "1194     0.0  0.738462  0.511392        0.166667                   1  0.041967\n",
       "723      0.0  0.784615  0.522785        0.166667                   2  0.045959"
      ]
     },
     "execution_count": 18,
     "metadata": {},
     "output_type": "execute_result"
    }
   ],
   "source": [
    "# 5 records similar to client number 101 - data Scaled - Manhattan\n",
    "get_knn(df_scaled, n=101, k=6, metric='cityblock')"
   ]
  },
  {
   "cell_type": "markdown",
   "metadata": {},
   "source": [
    "**Does the fact that the data is not scaled affect the kNN algorithm? If so, how does it manifest itself?** ** Does data scaling affect kNN algorithm? \n",
    "\n",
    "Data scaling affects the selection of nearest neighbors. The indices of the nearest neighbors ('records') to the client with index `101` using Euclidean distance are as follows:\n",
    "\n",
    "* **Non-scaled**: `1235`, `2064`, `4753`, `1483`, `2969`.\n",
    "* **Scaled**: `3023`, `1194`, `1951`, `4555`, `723`.\n",
    "\n",
    "The nearest neighbors **do not match** if we use the unscaled or scaled data. Let's see if the cases are equally similar by selecting the indices returned by each model, we will make the selection on the unscaled database as it is easier to see the similarities and differences between the clients."
   ]
  },
  {
   "cell_type": "code",
   "execution_count": 19,
   "metadata": {},
   "outputs": [
    {
     "data": {
      "text/html": [
       "<div>\n",
       "<style scoped>\n",
       "    .dataframe tbody tr th:only-of-type {\n",
       "        vertical-align: middle;\n",
       "    }\n",
       "\n",
       "    .dataframe tbody tr th {\n",
       "        vertical-align: top;\n",
       "    }\n",
       "\n",
       "    .dataframe thead th {\n",
       "        text-align: right;\n",
       "    }\n",
       "</style>\n",
       "<table border=\"1\" class=\"dataframe\">\n",
       "  <thead>\n",
       "    <tr style=\"text-align: right;\">\n",
       "      <th></th>\n",
       "      <th>gender</th>\n",
       "      <th>age</th>\n",
       "      <th>income</th>\n",
       "      <th>family_members</th>\n",
       "      <th>insurance_benefits</th>\n",
       "    </tr>\n",
       "  </thead>\n",
       "  <tbody>\n",
       "    <tr>\n",
       "      <th>101</th>\n",
       "      <td>0</td>\n",
       "      <td>49</td>\n",
       "      <td>42500</td>\n",
       "      <td>1</td>\n",
       "      <td>2</td>\n",
       "    </tr>\n",
       "    <tr>\n",
       "      <th>1235</th>\n",
       "      <td>0</td>\n",
       "      <td>47</td>\n",
       "      <td>42500</td>\n",
       "      <td>2</td>\n",
       "      <td>1</td>\n",
       "    </tr>\n",
       "    <tr>\n",
       "      <th>2064</th>\n",
       "      <td>0</td>\n",
       "      <td>39</td>\n",
       "      <td>42500</td>\n",
       "      <td>0</td>\n",
       "      <td>0</td>\n",
       "    </tr>\n",
       "    <tr>\n",
       "      <th>4753</th>\n",
       "      <td>0</td>\n",
       "      <td>39</td>\n",
       "      <td>42500</td>\n",
       "      <td>2</td>\n",
       "      <td>0</td>\n",
       "    </tr>\n",
       "    <tr>\n",
       "      <th>1483</th>\n",
       "      <td>0</td>\n",
       "      <td>37</td>\n",
       "      <td>42500</td>\n",
       "      <td>1</td>\n",
       "      <td>0</td>\n",
       "    </tr>\n",
       "    <tr>\n",
       "      <th>2969</th>\n",
       "      <td>0</td>\n",
       "      <td>37</td>\n",
       "      <td>42500</td>\n",
       "      <td>1</td>\n",
       "      <td>0</td>\n",
       "    </tr>\n",
       "  </tbody>\n",
       "</table>\n",
       "</div>"
      ],
      "text/plain": [
       "      gender  age  income  family_members  insurance_benefits\n",
       "101        0   49   42500               1                   2\n",
       "1235       0   47   42500               2                   1\n",
       "2064       0   39   42500               0                   0\n",
       "4753       0   39   42500               2                   0\n",
       "1483       0   37   42500               1                   0\n",
       "2969       0   37   42500               1                   0"
      ]
     },
     "execution_count": 19,
     "metadata": {},
     "output_type": "execute_result"
    }
   ],
   "source": [
    "# Selection of 5 neighbors with NON-SCALED data - Euclidean distance\n",
    "df.loc[[101, 1235, 2064, 4753, 1483, 2969]]"
   ]
  },
  {
   "cell_type": "code",
   "execution_count": 20,
   "metadata": {},
   "outputs": [
    {
     "data": {
      "text/html": [
       "<div>\n",
       "<style scoped>\n",
       "    .dataframe tbody tr th:only-of-type {\n",
       "        vertical-align: middle;\n",
       "    }\n",
       "\n",
       "    .dataframe tbody tr th {\n",
       "        vertical-align: top;\n",
       "    }\n",
       "\n",
       "    .dataframe thead th {\n",
       "        text-align: right;\n",
       "    }\n",
       "</style>\n",
       "<table border=\"1\" class=\"dataframe\">\n",
       "  <thead>\n",
       "    <tr style=\"text-align: right;\">\n",
       "      <th></th>\n",
       "      <th>gender</th>\n",
       "      <th>age</th>\n",
       "      <th>income</th>\n",
       "      <th>family_members</th>\n",
       "      <th>insurance_benefits</th>\n",
       "    </tr>\n",
       "  </thead>\n",
       "  <tbody>\n",
       "    <tr>\n",
       "      <th>101</th>\n",
       "      <td>0</td>\n",
       "      <td>49</td>\n",
       "      <td>42500</td>\n",
       "      <td>1</td>\n",
       "      <td>2</td>\n",
       "    </tr>\n",
       "    <tr>\n",
       "      <th>3023</th>\n",
       "      <td>0</td>\n",
       "      <td>49</td>\n",
       "      <td>40600</td>\n",
       "      <td>1</td>\n",
       "      <td>2</td>\n",
       "    </tr>\n",
       "    <tr>\n",
       "      <th>1194</th>\n",
       "      <td>0</td>\n",
       "      <td>48</td>\n",
       "      <td>40400</td>\n",
       "      <td>1</td>\n",
       "      <td>1</td>\n",
       "    </tr>\n",
       "    <tr>\n",
       "      <th>1951</th>\n",
       "      <td>0</td>\n",
       "      <td>47</td>\n",
       "      <td>42700</td>\n",
       "      <td>1</td>\n",
       "      <td>1</td>\n",
       "    </tr>\n",
       "    <tr>\n",
       "      <th>4555</th>\n",
       "      <td>0</td>\n",
       "      <td>51</td>\n",
       "      <td>43000</td>\n",
       "      <td>1</td>\n",
       "      <td>2</td>\n",
       "    </tr>\n",
       "    <tr>\n",
       "      <th>723</th>\n",
       "      <td>0</td>\n",
       "      <td>51</td>\n",
       "      <td>41300</td>\n",
       "      <td>1</td>\n",
       "      <td>2</td>\n",
       "    </tr>\n",
       "  </tbody>\n",
       "</table>\n",
       "</div>"
      ],
      "text/plain": [
       "      gender  age  income  family_members  insurance_benefits\n",
       "101        0   49   42500               1                   2\n",
       "3023       0   49   40600               1                   2\n",
       "1194       0   48   40400               1                   1\n",
       "1951       0   47   42700               1                   1\n",
       "4555       0   51   43000               1                   2\n",
       "723        0   51   41300               1                   2"
      ]
     },
     "execution_count": 20,
     "metadata": {},
     "output_type": "execute_result"
    }
   ],
   "source": [
    "# Selection of 5 neighbors with SCALED data - Euclidean distance\n",
    "df.loc[[101, 3023, 1194, 1951, 4555, 723]]"
   ]
  },
  {
   "cell_type": "markdown",
   "metadata": {},
   "source": [
    "At first glance it appears that when using the **unscaled** data the nearest neighbors tend to be identical in income (`income`) and gender (`gender`) but dissimilar in terms of age (`age` - average 39.8), number of family members (`family_members`) and benefits (`insurance_benefits`).\n",
    "\n",
    "In contrast, when feeding the model with the **scaled data** the selection of nearest neighbors tends to be more similar in terms of gender, number of family members and to a greater degree the number of benefits. Although incomes are not identical among the selected clients, they are not very far from the target individual. The age of the 5 closest clients averages 49.2.\n",
    "\n",
    "It appears that **training the kNN algorithm with scaled data yields more similar individuals in terms of their characteristics**."
   ]
  },
  {
   "cell_type": "markdown",
   "metadata": {},
   "source": [
    "**How similar are the results when using the Manhattan distance metric (regardless of scaling)?**\n",
    "\n",
    "The indices returned by the kNN algorithm with either the Euclidean or Manhattan distance metric are **identical although with subtle differences in the positioning of the cases**. This regardless of whether we use scaled or unscaled data. Let's look at the 5 nearest neighbors to customer `101` using scaled data for each metric.\n",
    "\n",
    "* **Euclidean**: `3023`, `1194`, `1951`, `4555`, `723`.\n",
    "* **Manhattan**: `3023`, `1951`, `4555`, `1194`, `723`."
   ]
  },
  {
   "cell_type": "markdown",
   "metadata": {},
   "source": [
    "# Task 2. Is the client likely to receive an insurance benefit?"
   ]
  },
  {
   "cell_type": "markdown",
   "metadata": {},
   "source": [
    "With the value of `insurance_benefits` greater than zero as a target, evaluate whether the kNN classification approach can perform better than the dummy model.\n",
    "Instructions:\n",
    "\n",
    "1. Build a dummy model, which in this case is simply a random model. It should return \"1\" with some probability. Let's test the model with four probability values: 0, the probability of paying any insurance benefit, 0.5, 1.\n",
    "\n",
    "2. Build a KNN-based classifier and measure its quality with the F1 metric for k=1...10 for both the original and scaled data. It would be interesting to see how k can influence the evaluation metric and if scaling the data makes any difference. You can use an existing implementation of the kNN ranking algorithm from scikit-learn (see [link](https://scikit-learn.org/stable/modules/generated/sklearn.neighbors.KNeighborsClassifier.html)) or your own implementation.\n",
    "\n",
    "\n",
    "The probability of paying any insurance benefit can be defined as\n",
    "$$\n",
    "P\\{\\text{Insurance benefit}\\}=\\frac{\\text{number of clients who have received any insurance benefit}}{\\text{total number of clients}}.\n",
    "$$\n",
    "\n",
    "Divide all data corresponding to the training/testing stages respecting the ratio 70:30."
   ]
  },
  {
   "cell_type": "code",
   "execution_count": 21,
   "metadata": {},
   "outputs": [
    {
     "name": "stdout",
     "output_type": "stream",
     "text": [
      "0.1128\n"
     ]
    }
   ],
   "source": [
    "# Probability of insurance benefit\n",
    "df['insurance_benefits_received'] = np.where(df['insurance_benefits']>0, 1, 0)\n",
    "\n",
    "print(df['insurance_benefits_received'].sum() / len(df))"
   ]
  },
  {
   "cell_type": "markdown",
   "metadata": {},
   "source": [
    "There is a **0.1128** probability of receiving any benefit from **Sure Tomorrow**."
   ]
  },
  {
   "cell_type": "code",
   "execution_count": 22,
   "metadata": {},
   "outputs": [
    {
     "data": {
      "text/plain": [
       "0    0.8872\n",
       "1    0.1128\n",
       "Name: insurance_benefits_received, dtype: float64"
      ]
     },
     "execution_count": 22,
     "metadata": {},
     "output_type": "execute_result"
    }
   ],
   "source": [
    "# Assess class imbalance with value_counts()\n",
    "df['insurance_benefits_received'].value_counts(normalize=True)"
   ]
  },
  {
   "cell_type": "markdown",
   "metadata": {},
   "source": [
    "There is a class imbalance as ~89% did not receive any benefits while ~11% did."
   ]
  },
  {
   "cell_type": "markdown",
   "metadata": {},
   "source": [
    "# 2.1 Dummy model"
   ]
  },
  {
   "cell_type": "code",
   "execution_count": 23,
   "metadata": {},
   "outputs": [],
   "source": [
    "def eval_classifier(y_true, y_pred):\n",
    "    \n",
    "    f1_score = sklearn.metrics.f1_score(y_true, y_pred)\n",
    "    print(f'F1: {f1_score:.2f}')\n",
    "    \n",
    "    cm = sklearn.metrics.confusion_matrix(y_true, y_pred, normalize='all')\n",
    "    print('Matriz de confusión')\n",
    "    print(cm)"
   ]
  },
  {
   "cell_type": "code",
   "execution_count": 24,
   "metadata": {},
   "outputs": [],
   "source": [
    "# Output random model\n",
    "\n",
    "def rnd_model_predict(P, size, seed=42):\n",
    "\n",
    "    rng = np.random.default_rng(seed=seed)\n",
    "    return rng.binomial(n=1, p=P, size=size)"
   ]
  },
  {
   "cell_type": "code",
   "execution_count": 25,
   "metadata": {},
   "outputs": [
    {
     "name": "stdout",
     "output_type": "stream",
     "text": [
      "Probability: 0.00\n",
      "F1: 0.00\n",
      "Matriz de confusión\n",
      "[[0.8872 0.    ]\n",
      " [0.1128 0.    ]]\n",
      "\n",
      "Probability: 0.11\n",
      "F1: 0.12\n",
      "Matriz de confusión\n",
      "[[0.7914 0.0958]\n",
      " [0.0994 0.0134]]\n",
      "\n",
      "Probability: 0.50\n",
      "F1: 0.20\n",
      "Matriz de confusión\n",
      "[[0.456  0.4312]\n",
      " [0.053  0.0598]]\n",
      "\n",
      "Probability: 1.00\n",
      "F1: 0.20\n",
      "Matriz de confusión\n",
      "[[0.     0.8872]\n",
      " [0.     0.1128]]\n",
      "\n"
     ]
    }
   ],
   "source": [
    "for P in [0, df['insurance_benefits_received'].sum() / len(df), 0.5, 1]:\n",
    "\n",
    "    print(f'Probability: {P:.2f}')\n",
    "    y_pred_rnd = rnd_model_predict(P=P, size=len(df['insurance_benefits_received']))\n",
    "        \n",
    "    eval_classifier(df['insurance_benefits_received'], y_pred_rnd)\n",
    "    \n",
    "    print()"
   ]
  },
  {
   "cell_type": "markdown",
   "metadata": {},
   "source": [
    "We can see that the quality of the classification of the positive class (_i.e._ customers with benefits) is very poor according to the value of F1 no matter how the probability of receiving a benefit increases. This is mainly due to class imbalance."
   ]
  },
  {
   "cell_type": "markdown",
   "metadata": {},
   "source": [
    "# 2.2 KNN classifier\n",
    "\n",
    "## Data subseting <a class='tocSkip'></a>"
   ]
  },
  {
   "cell_type": "code",
   "execution_count": 26,
   "metadata": {},
   "outputs": [
    {
     "name": "stdout",
     "output_type": "stream",
     "text": [
      "Training subset:   3500\n",
      "Validation subset: 1500\n"
     ]
    }
   ],
   "source": [
    "# Subset non-scaled data\n",
    "df_train, df_valid = train_test_split(df, test_size=0.3, random_state = 12345)\n",
    "\n",
    "# Subset size\n",
    "print('Training subset:  ', df_train.shape[0])\n",
    "print('Validation subset:', df_valid.shape[0])\n",
    "\n",
    "# FEATURES and TARGET\n",
    "# Training subset\n",
    "train_features = df_train.drop(['insurance_benefits','insurance_benefits_received'], axis=1)\n",
    "train_target   = df_train['insurance_benefits_received']\n",
    "\n",
    "# Validation subset\n",
    "valid_features = df_valid.drop(['insurance_benefits','insurance_benefits_received'], axis=1)\n",
    "valid_target   = df_valid['insurance_benefits_received']"
   ]
  },
  {
   "cell_type": "code",
   "execution_count": 27,
   "metadata": {},
   "outputs": [
    {
     "name": "stdout",
     "output_type": "stream",
     "text": [
      "Trainning subset:  3500\n",
      "Validation subset: 1500\n"
     ]
    }
   ],
   "source": [
    "# Subset Scaled data\n",
    "df_scaled['insurance_benefits_received'] = np.where(df_scaled['insurance_benefits']>0, 1, 0)\n",
    "\n",
    "dfs_train, dfs_valid = train_test_split(df_scaled, test_size=0.3, random_state = 12345)\n",
    "\n",
    "# Subset size\n",
    "print('Trainning subset: ', dfs_train.shape[0])\n",
    "print('Validation subset:', dfs_valid.shape[0])\n",
    "\n",
    "# FEATURES and TARGET\n",
    "# Training subset\n",
    "train_s_features = dfs_train.drop(['insurance_benefits','insurance_benefits_received'], axis=1)\n",
    "train_s_target   = dfs_train['insurance_benefits_received']\n",
    "\n",
    "# Validation subset\n",
    "valid_s_features = dfs_valid.drop(['insurance_benefits','insurance_benefits_received'], axis=1)\n",
    "valid_s_target   = dfs_valid['insurance_benefits_received']"
   ]
  },
  {
   "cell_type": "markdown",
   "metadata": {},
   "source": [
    "We divided both unscaled and scaled data into two sets: training and validation with a 70:30 ratio respectively. \n",
    "\n",
    "The training characteristics include: gender, age, income and number of family members. The target characteristic is only whether clients received a benefit or not (`insurance_benefit_received`)."
   ]
  },
  {
   "cell_type": "markdown",
   "metadata": {},
   "source": [
    "## KNN classifier <a class='tocSkip'></a>\n",
    "\n",
    "We are going to classify the data using a distance-based algorithm: KNN. This algorithm will classify each observation according to its nearest neighbors. \n",
    "\n",
    "The hyperparameters of the model to modify are:\n",
    "\n",
    "* `n_neighbors`: is the number of neighbors (_k_) to consider to classify a given point. This value will be iterated from 1 to 10.\n",
    "\n",
    "* weights`: set to `distance` it weights the weight of each point by the inverse of its distance, i.e. points closer to a given point will have a greater influence than neighbors farther away.\n",
    "\n",
    "* `metric`: set to `euclidean` to calculate the Euclidean distance between points.\n",
    "\n",
    "We will run our model using the unscaled and scaled values. "
   ]
  },
  {
   "cell_type": "code",
   "execution_count": 28,
   "metadata": {},
   "outputs": [
    {
     "name": "stdout",
     "output_type": "stream",
     "text": [
      "K = 1, F1 score = 0.61\n",
      "K = 2, F1 score = 0.61\n",
      "K = 3, F1 score = 0.55\n",
      "K = 4, F1 score = 0.52\n",
      "K = 5, F1 score = 0.51\n",
      "K = 6, F1 score = 0.46\n",
      "K = 7, F1 score = 0.44\n",
      "K = 8, F1 score = 0.44\n",
      "K = 9, F1 score = 0.42\n",
      "K = 10, F1 score = 0.42\n"
     ]
    }
   ],
   "source": [
    "# KNN non-scaled data\n",
    "knn_ns_f1 = []\n",
    "\n",
    "for k in range(1, 11):\n",
    "    X = train_features.values\n",
    "    y = train_target.values\n",
    "    knn_model = KNeighborsClassifier(n_neighbors= k, weights='distance', metric='euclidean')\n",
    "    knn_model.fit(X, y)\n",
    "    predicted_valid = knn_model.predict(valid_features)\n",
    "    knn_f1 = sklearn.metrics.f1_score(valid_target, predicted_valid)\n",
    "    knn_ns_f1.append(knn_f1)\n",
    "    print(f'K = {k}, F1 score = {knn_f1:.2f}')"
   ]
  },
  {
   "cell_type": "code",
   "execution_count": 29,
   "metadata": {},
   "outputs": [
    {
     "name": "stdout",
     "output_type": "stream",
     "text": [
      "K = 1, F1 score = 0.97\n",
      "K = 2, F1 score = 0.97\n",
      "K = 3, F1 score = 0.95\n",
      "K = 4, F1 score = 0.96\n",
      "K = 5, F1 score = 0.95\n",
      "K = 6, F1 score = 0.95\n",
      "K = 7, F1 score = 0.96\n",
      "K = 8, F1 score = 0.95\n",
      "K = 9, F1 score = 0.95\n",
      "K = 10, F1 score = 0.94\n"
     ]
    }
   ],
   "source": [
    "# KNN with scaled data\n",
    "knn_s_f1 = []\n",
    "\n",
    "for k in range(1, 11):\n",
    "    X = train_s_features.values\n",
    "    y = train_s_target.values\n",
    "    knn_model = KNeighborsClassifier(n_neighbors= k, weights='distance', metric='euclidean')\n",
    "    knn_model.fit(X, y)\n",
    "    predicted_valid = knn_model.predict(valid_s_features)\n",
    "    knn_f1 = sklearn.metrics.f1_score(valid_s_target, predicted_valid)\n",
    "    knn_s_f1.append(knn_f1)\n",
    "    print(f'K = {k}, F1 score = {knn_f1:.2f}')"
   ]
  },
  {
   "cell_type": "code",
   "execution_count": 30,
   "metadata": {},
   "outputs": [
    {
     "data": {
      "image/png": "[encoded data removed]",
      "text/plain": [
       "<Figure size 648x432 with 1 Axes>"
      ]
     },
     "metadata": {
      "needs_background": "light"
     },
     "output_type": "display_data"
    }
   ],
   "source": [
    "knn_f1_scores = pd.DataFrame({'no_scalated':knn_ns_f1, 'scalated':knn_s_f1}, index=[1,2,3,4,5,6,7,8,9,10])\n",
    "knn_f1_scores[['no_scaled','scaled']] = np.round(knn_f1_scores[['no_scalated','scalated']],2)\n",
    "\n",
    "plt.figure(figsize=(9,6))\n",
    "plt.plot(knn_f1_scores['no_scaled'], label='No scaled')\n",
    "plt.plot(knn_f1_scores['scaled'], label='Scaled')\n",
    "plt.xlabel('Numero de vecinos (K)')\n",
    "plt.ylabel('F1 score')\n",
    "plt.legend()\n",
    "plt.show()"
   ]
  },
  {
   "cell_type": "markdown",
   "metadata": {},
   "source": [
    "The graph shows the change in the F1 score as the number of neighbors (_k_) increases in the KNN classification models using scaled and unscaled data. \n",
    "\n",
    "In general the value of **F1 decreases as the number of neighbors** to be considered for customer ranking increases. \n",
    "\n",
    "The model with scaled data (orange line) performs much better than with unscaled data (blue line)."
   ]
  },
  {
   "cell_type": "markdown",
   "metadata": {},
   "source": [
    "# Task 3. Lineal regression"
   ]
  },
  {
   "cell_type": "markdown",
   "metadata": {},
   "source": [
    "With `insurance_benefits` as a target, evaluate what the RMSE of a linear regression model would be.\n",
    "\n",
    "Construct your own implementation of linear regression. To do this, recall how the solution of the linear regression task is formulated in terms of linear algebra. Check the RECM for both the original data and the scaled data. Can you see any difference in the RMSE with respect to these two cases?\n",
    "\n",
    "Let us denote:\n",
    "- $X$: feature matrix; each row is a case, each column is a feature, the first column consists of units\n",
    "- $y$: target (a vector)\n",
    "- $\\hat{y}$ - estimated target (a vector)\n",
    "- $w$ - vector of weights\n",
    "\n",
    "The linear regression task in the language of matrices can be formulated as follows:\n",
    "$$\n",
    "y = Xw\n",
    "$$\n",
    "\n",
    "The training objective is then to find that $w$ which minimizes the L2 distance (MSE) between $Xw$ and $y$:\n",
    "\n",
    "$$\n",
    "\\min_w d_2(Xw, y) \\quad \\text{or} \\quad \\min_w \\text{MSE}(Xw, y)\n",
    "$$\n",
    "\n",
    "There seems to be an analytical solution to the above:\n",
    "$$\n",
    "w = (X^T X)^{-1} X^T y\n",
    "$$\n",
    "\n",
    "The above formula can be used to find the weights $w$ and the weights $w$ can be used to calculate the predicted values\n",
    "$$\n",
    "\\hat{y} = X_{val}w\n",
    "$$"
   ]
  },
  {
   "cell_type": "markdown",
   "metadata": {},
   "source": [
    "Divide all data corresponding to the training/testing stages respecting the 70:30 ratio. Use the RMSE metric to evaluate the model."
   ]
  },
  {
   "cell_type": "code",
   "execution_count": 31,
   "metadata": {},
   "outputs": [],
   "source": [
    "class MyLinearRegression:\n",
    "    \n",
    "    def __init__(self):\n",
    "        \n",
    "        self.weights = None\n",
    "    \n",
    "    def fit(self, X, y):\n",
    "        \n",
    "        # Add units\n",
    "        X2 = np.append(np.ones([len(X), 1]), X, axis=1)\n",
    "        self.weights = np.linalg.inv(X2.T.dot(X2)).dot(X2.T).dot(y) # Respuesta\n",
    "\n",
    "    def predict(self, X):\n",
    "        \n",
    "        # Add units\n",
    "        X2 = np.append(np.ones([len(X), 1]), X, axis=1)\n",
    "        y_pred = X2.dot(self.weights)\n",
    "        \n",
    "        return y_pred"
   ]
  },
  {
   "cell_type": "code",
   "execution_count": 32,
   "metadata": {},
   "outputs": [],
   "source": [
    "def eval_regressor(y_true, y_pred):\n",
    "    \n",
    "    rmse = math.sqrt(sklearn.metrics.mean_squared_error(y_true, y_pred))\n",
    "    print(f'RMSE: {rmse:.2f}')\n",
    "    \n",
    "    r2_score = math.sqrt(sklearn.metrics.r2_score(y_true, y_pred))\n",
    "    print(f'R2: {r2_score:.2f}')    "
   ]
  },
  {
   "cell_type": "markdown",
   "metadata": {},
   "source": [
    "## Linear regression with scaled and non-scaled data <a class='tocSkip'></a>"
   ]
  },
  {
   "cell_type": "code",
   "execution_count": 33,
   "metadata": {},
   "outputs": [
    {
     "name": "stdout",
     "output_type": "stream",
     "text": [
      "[-9.43538930e-01  3.57495491e-02  1.64272730e-02 -2.60745684e-07\n",
      " -1.16902138e-02]\n",
      "RMSE: 0.34\n",
      "R2: 0.66\n"
     ]
    }
   ],
   "source": [
    "# Non-scaled data\n",
    "\n",
    "X = df[['age', 'gender', 'income', 'family_members']].to_numpy()\n",
    "y = df['insurance_benefits'].to_numpy()\n",
    "\n",
    "X_train, X_test, y_train, y_test = train_test_split(X, y, test_size=0.3, random_state=12345)\n",
    "\n",
    "lr = MyLinearRegression()\n",
    "\n",
    "lr.fit(X_train, y_train)\n",
    "print(lr.weights)\n",
    "\n",
    "y_test_pred = lr.predict(X_test)\n",
    "eval_regressor(y_test, y_test_pred)"
   ]
  },
  {
   "cell_type": "code",
   "execution_count": 34,
   "metadata": {},
   "outputs": [
    {
     "name": "stdout",
     "output_type": "stream",
     "text": [
      "[-0.94353893  2.32372069  0.01642727 -0.02059891 -0.07014128]\n",
      "RMSE: 0.34\n",
      "R2: 0.66\n"
     ]
    }
   ],
   "source": [
    "# Scaled data\n",
    "\n",
    "X = df_scaled[['age', 'gender', 'income', 'family_members']].to_numpy()\n",
    "y = df_scaled['insurance_benefits'].to_numpy()\n",
    "\n",
    "X_train, X_test, y_train, y_test = train_test_split(X, y, test_size=0.3, random_state=12345)\n",
    "\n",
    "lr = MyLinearRegression()\n",
    "\n",
    "lr.fit(X_train, y_train)\n",
    "print(lr.weights)\n",
    "\n",
    "y_test_pred = lr.predict(X_test)\n",
    "eval_regressor(y_test, y_test_pred)"
   ]
  },
  {
   "cell_type": "markdown",
   "metadata": {},
   "source": [
    "Interestingly, **scaling the data has no effect** on the RECM (or RMSE) or the R2 score, since in both cases the metrics obtained identical values."
   ]
  },
  {
   "cell_type": "markdown",
   "metadata": {},
   "source": [
    "# Task 4. Obfuscate data"
   ]
  },
  {
   "cell_type": "markdown",
   "metadata": {},
   "source": [
    "It is best to obfuscate the data by multiplying the numerical features (remember that they can be viewed as the matrix $X$) by an invertible matrix $P$. \n",
    "\n",
    "$$\n",
    "X' = X \\times P\n",
    "$$\n",
    "\n",
    "Try to do this and check how the values of the features will look like after the transformation. By the way, the invertibility property is important here, so make sure that $P$ is actually invertible."
   ]
  },
  {
   "cell_type": "code",
   "execution_count": 35,
   "metadata": {},
   "outputs": [],
   "source": [
    "personal_info_column_list = ['gender', 'age', 'income', 'family_members']\n",
    "df_pn = df[personal_info_column_list]"
   ]
  },
  {
   "cell_type": "code",
   "execution_count": 36,
   "metadata": {},
   "outputs": [],
   "source": [
    "X = df_pn.to_numpy()"
   ]
  },
  {
   "cell_type": "markdown",
   "metadata": {},
   "source": [
    "Generate a random matrix $P$."
   ]
  },
  {
   "cell_type": "code",
   "execution_count": 37,
   "metadata": {},
   "outputs": [],
   "source": [
    "rng = np.random.default_rng(seed=42)\n",
    "P = rng.random(size=(X.shape[1], X.shape[1]))"
   ]
  },
  {
   "cell_type": "markdown",
   "metadata": {},
   "source": [
    "Check that the matrix P is invertible"
   ]
  },
  {
   "cell_type": "code",
   "execution_count": 38,
   "metadata": {},
   "outputs": [
    {
     "data": {
      "text/plain": [
       "array([[ 0.41467992, -1.43783972,  0.62798546,  1.14001268],\n",
       "       [-1.06101789,  0.44219337,  0.1329549 ,  1.18425933],\n",
       "       [ 1.42362442,  1.60461607, -2.0553823 , -1.53699695],\n",
       "       [-0.11128575, -0.65813802,  1.74995517, -0.11816316]])"
      ]
     },
     "execution_count": 38,
     "metadata": {},
     "output_type": "execute_result"
    }
   ],
   "source": [
    "np.linalg.inv(P)"
   ]
  },
  {
   "cell_type": "markdown",
   "metadata": {},
   "source": [
    "Can you guess the age or income of customers after the transformation?"
   ]
  },
  {
   "cell_type": "code",
   "execution_count": 39,
   "metadata": {},
   "outputs": [
    {
     "name": "stdout",
     "output_type": "stream",
     "text": [
      "   gender  age  income  family_members\n",
      "0       1   41   49600               1\n",
      "1       0   46   38000               1\n",
      "2       0   29   21000               0\n",
      "3       0   21   41700               2\n",
      "4       1   28   26100               0\n",
      "        gender           age        income  family_members\n",
      "0  6359.715273  22380.404676  18424.090742    46000.696690\n",
      "1  4873.294065  17160.367030  14125.780761    35253.455773\n",
      "2  2693.117429   9486.397744   7808.831560    19484.860631\n",
      "3  5345.603937  18803.227203  15479.148373    38663.061863\n",
      "4  3347.176735  11782.829283   9699.998942    24211.273378\n"
     ]
    }
   ],
   "source": [
    "# Multiply matrix X by the random matrix P\n",
    "X_prima = X.dot(P)\n",
    "\n",
    "# Assess data ofuscation\n",
    "x_original = pd.DataFrame(X, columns = personal_info_column_list)\n",
    "x_transformada = pd.DataFrame(X_prima, columns = personal_info_column_list)\n",
    "\n",
    "print(x_original.head())\n",
    "print(x_transformada.head())"
   ]
  },
  {
   "cell_type": "markdown",
   "metadata": {},
   "source": [
    "When printing the two matrices X and X' (x_transformed), it can be seen that it is not possible to determine the original data from X', the data have been correctly obfuscated. "
   ]
  },
  {
   "cell_type": "markdown",
   "metadata": {},
   "source": [
    "Can you recover the original $X'$ data if you know $P$? Try to check it through calculations by moving $P$ from the right side of the above formula to the left side. In this case the rules of matrix multiplication are really useful"
   ]
  },
  {
   "cell_type": "code",
   "execution_count": 40,
   "metadata": {},
   "outputs": [
    {
     "name": "stdout",
     "output_type": "stream",
     "text": [
      "         gender   age   income  family_members\n",
      "0  1.000000e+00  41.0  49600.0    1.000000e+00\n",
      "1 -4.473636e-12  46.0  38000.0    1.000000e+00\n",
      "2 -2.515869e-12  29.0  21000.0    9.524523e-13\n",
      "3 -4.844982e-12  21.0  41700.0    2.000000e+00\n",
      "4  1.000000e+00  28.0  26100.0   -1.019907e-13\n"
     ]
    }
   ],
   "source": [
    "x_recuperada = pd.DataFrame(X_prima.dot(np.linalg.inv(P)), columns = personal_info_column_list)\n",
    "print(x_recuperada.head())"
   ]
  },
  {
   "cell_type": "markdown",
   "metadata": {},
   "source": [
    "Shows the three cases for some customers\n",
    "- Original data\n",
    "- The one that is transformed\n",
    "- The one that is inverted (recovered)\n",
    "\n",
    "In this case we are going to show customers with index 10, 100 and 1000."
   ]
  },
  {
   "cell_type": "code",
   "execution_count": 41,
   "metadata": {},
   "outputs": [
    {
     "data": {
      "text/html": [
       "<div>\n",
       "<style scoped>\n",
       "    .dataframe tbody tr th:only-of-type {\n",
       "        vertical-align: middle;\n",
       "    }\n",
       "\n",
       "    .dataframe tbody tr th {\n",
       "        vertical-align: top;\n",
       "    }\n",
       "\n",
       "    .dataframe thead th {\n",
       "        text-align: right;\n",
       "    }\n",
       "</style>\n",
       "<table border=\"1\" class=\"dataframe\">\n",
       "  <thead>\n",
       "    <tr style=\"text-align: right;\">\n",
       "      <th></th>\n",
       "      <th>gender</th>\n",
       "      <th>age</th>\n",
       "      <th>income</th>\n",
       "      <th>family_members</th>\n",
       "    </tr>\n",
       "  </thead>\n",
       "  <tbody>\n",
       "    <tr>\n",
       "      <th>10</th>\n",
       "      <td>1</td>\n",
       "      <td>25</td>\n",
       "      <td>36600</td>\n",
       "      <td>1</td>\n",
       "    </tr>\n",
       "    <tr>\n",
       "      <th>100</th>\n",
       "      <td>0</td>\n",
       "      <td>19</td>\n",
       "      <td>37300</td>\n",
       "      <td>1</td>\n",
       "    </tr>\n",
       "    <tr>\n",
       "      <th>1000</th>\n",
       "      <td>1</td>\n",
       "      <td>41</td>\n",
       "      <td>42600</td>\n",
       "      <td>1</td>\n",
       "    </tr>\n",
       "  </tbody>\n",
       "</table>\n",
       "</div>"
      ],
      "text/plain": [
       "      gender  age  income  family_members\n",
       "10         1   25   36600               1\n",
       "100        0   19   37300               1\n",
       "1000       1   41   42600               1"
      ]
     },
     "execution_count": 41,
     "metadata": {},
     "output_type": "execute_result"
    }
   ],
   "source": [
    "# Original data\n",
    "x_original.iloc[[10,100,1000]]"
   ]
  },
  {
   "cell_type": "code",
   "execution_count": 42,
   "metadata": {},
   "outputs": [
    {
     "data": {
      "text/html": [
       "<div>\n",
       "<style scoped>\n",
       "    .dataframe tbody tr th:only-of-type {\n",
       "        vertical-align: middle;\n",
       "    }\n",
       "\n",
       "    .dataframe tbody tr th {\n",
       "        vertical-align: top;\n",
       "    }\n",
       "\n",
       "    .dataframe thead th {\n",
       "        text-align: right;\n",
       "    }\n",
       "</style>\n",
       "<table border=\"1\" class=\"dataframe\">\n",
       "  <thead>\n",
       "    <tr style=\"text-align: right;\">\n",
       "      <th></th>\n",
       "      <th>gender</th>\n",
       "      <th>age</th>\n",
       "      <th>income</th>\n",
       "      <th>family_members</th>\n",
       "    </tr>\n",
       "  </thead>\n",
       "  <tbody>\n",
       "    <tr>\n",
       "      <th>10</th>\n",
       "      <td>4692.731211</td>\n",
       "      <td>16509.777526</td>\n",
       "      <td>13591.538192</td>\n",
       "      <td>33940.174806</td>\n",
       "    </tr>\n",
       "    <tr>\n",
       "      <th>100</th>\n",
       "      <td>4781.071734</td>\n",
       "      <td>16818.755070</td>\n",
       "      <td>13845.671372</td>\n",
       "      <td>34583.496545</td>\n",
       "    </tr>\n",
       "    <tr>\n",
       "      <th>1000</th>\n",
       "      <td>5462.919844</td>\n",
       "      <td>19227.703111</td>\n",
       "      <td>15828.504572</td>\n",
       "      <td>39513.341768</td>\n",
       "    </tr>\n",
       "  </tbody>\n",
       "</table>\n",
       "</div>"
      ],
      "text/plain": [
       "           gender           age        income  family_members\n",
       "10    4692.731211  16509.777526  13591.538192    33940.174806\n",
       "100   4781.071734  16818.755070  13845.671372    34583.496545\n",
       "1000  5462.919844  19227.703111  15828.504572    39513.341768"
      ]
     },
     "execution_count": 42,
     "metadata": {},
     "output_type": "execute_result"
    }
   ],
   "source": [
    "# Transformed data\n",
    "x_transformada.iloc[[10,100,1000]]"
   ]
  },
  {
   "cell_type": "code",
   "execution_count": 43,
   "metadata": {},
   "outputs": [
    {
     "data": {
      "text/html": [
       "<div>\n",
       "<style scoped>\n",
       "    .dataframe tbody tr th:only-of-type {\n",
       "        vertical-align: middle;\n",
       "    }\n",
       "\n",
       "    .dataframe tbody tr th {\n",
       "        vertical-align: top;\n",
       "    }\n",
       "\n",
       "    .dataframe thead th {\n",
       "        text-align: right;\n",
       "    }\n",
       "</style>\n",
       "<table border=\"1\" class=\"dataframe\">\n",
       "  <thead>\n",
       "    <tr style=\"text-align: right;\">\n",
       "      <th></th>\n",
       "      <th>gender</th>\n",
       "      <th>age</th>\n",
       "      <th>income</th>\n",
       "      <th>family_members</th>\n",
       "    </tr>\n",
       "  </thead>\n",
       "  <tbody>\n",
       "    <tr>\n",
       "      <th>10</th>\n",
       "      <td>1.000000e+00</td>\n",
       "      <td>25.0</td>\n",
       "      <td>36600.0</td>\n",
       "      <td>1.0</td>\n",
       "    </tr>\n",
       "    <tr>\n",
       "      <th>100</th>\n",
       "      <td>-4.615196e-12</td>\n",
       "      <td>19.0</td>\n",
       "      <td>37300.0</td>\n",
       "      <td>1.0</td>\n",
       "    </tr>\n",
       "    <tr>\n",
       "      <th>1000</th>\n",
       "      <td>1.000000e+00</td>\n",
       "      <td>41.0</td>\n",
       "      <td>42600.0</td>\n",
       "      <td>1.0</td>\n",
       "    </tr>\n",
       "  </tbody>\n",
       "</table>\n",
       "</div>"
      ],
      "text/plain": [
       "            gender   age   income  family_members\n",
       "10    1.000000e+00  25.0  36600.0             1.0\n",
       "100  -4.615196e-12  19.0  37300.0             1.0\n",
       "1000  1.000000e+00  41.0  42600.0             1.0"
      ]
     },
     "execution_count": 43,
     "metadata": {},
     "output_type": "execute_result"
    }
   ],
   "source": [
    "# Recovered data\n",
    "x_recuperada.iloc[[10,100,1000]]"
   ]
  },
  {
   "cell_type": "markdown",
   "metadata": {},
   "source": [
    "The values retrieved through the inverse are not equal due to the multiplication of decimals. To solve this problem we can round the values to one decimal place. The retrieved values are then rounded and stored in the `x_retrieved_rounded` matrix and the indexes of the selected customers are displayed."
   ]
  },
  {
   "cell_type": "code",
   "execution_count": 44,
   "metadata": {},
   "outputs": [
    {
     "data": {
      "text/html": [
       "<div>\n",
       "<style scoped>\n",
       "    .dataframe tbody tr th:only-of-type {\n",
       "        vertical-align: middle;\n",
       "    }\n",
       "\n",
       "    .dataframe tbody tr th {\n",
       "        vertical-align: top;\n",
       "    }\n",
       "\n",
       "    .dataframe thead th {\n",
       "        text-align: right;\n",
       "    }\n",
       "</style>\n",
       "<table border=\"1\" class=\"dataframe\">\n",
       "  <thead>\n",
       "    <tr style=\"text-align: right;\">\n",
       "      <th></th>\n",
       "      <th>gender</th>\n",
       "      <th>age</th>\n",
       "      <th>income</th>\n",
       "      <th>family_members</th>\n",
       "    </tr>\n",
       "  </thead>\n",
       "  <tbody>\n",
       "    <tr>\n",
       "      <th>10</th>\n",
       "      <td>1.0</td>\n",
       "      <td>25.0</td>\n",
       "      <td>36600.0</td>\n",
       "      <td>1.0</td>\n",
       "    </tr>\n",
       "    <tr>\n",
       "      <th>100</th>\n",
       "      <td>-0.0</td>\n",
       "      <td>19.0</td>\n",
       "      <td>37300.0</td>\n",
       "      <td>1.0</td>\n",
       "    </tr>\n",
       "    <tr>\n",
       "      <th>1000</th>\n",
       "      <td>1.0</td>\n",
       "      <td>41.0</td>\n",
       "      <td>42600.0</td>\n",
       "      <td>1.0</td>\n",
       "    </tr>\n",
       "  </tbody>\n",
       "</table>\n",
       "</div>"
      ],
      "text/plain": [
       "      gender   age   income  family_members\n",
       "10       1.0  25.0  36600.0             1.0\n",
       "100     -0.0  19.0  37300.0             1.0\n",
       "1000     1.0  41.0  42600.0             1.0"
      ]
     },
     "execution_count": 44,
     "metadata": {},
     "output_type": "execute_result"
    }
   ],
   "source": [
    "# Rounded data\n",
    "x_recuperada_redondeada = pd.DataFrame(np.round(X_prima.dot(np.linalg.inv(P)),1), columns = personal_info_column_list)\n",
    "\n",
    "# Visualization of recovered data (rounded)\n",
    "x_recuperada_redondeada.iloc[[10,100,1000]]"
   ]
  },
  {
   "cell_type": "markdown",
   "metadata": {},
   "source": [
    "## Proof that data obfuscation can work in linear regression"
   ]
  },
  {
   "cell_type": "markdown",
   "metadata": {},
   "source": [
    "In this project the regression task has been solved with linear regression. Your next task is to demonstrate _analytically_ that the obfuscation method will not affect the linear regression in terms of predicted values, i.e. its values will remain the same. "
   ]
  },
  {
   "cell_type": "markdown",
   "metadata": {},
   "source": [
    "The data is obfuscated and we now have $X \\times P$ instead of having just $X$. Consequently, there are other weights $w_P$ such as\n",
    "\n",
    "$$\n",
    "w = (X^T X)^{-1} X^T y \\quad \\Rightarrow \\quad w_P = [(XP)^T XP]^{-1} (XP)^T y\n",
    "$$\n",
    "\n",
    "* How would $w$ and $w_P$ be related if we simplified the formula for $w_P$ above? \n",
    "\n",
    "* What would be the predicted values with $w_P$? \n",
    "\n",
    "* What does this mean for the quality of linear regression if this is measured by RECM?"
   ]
  },
  {
   "cell_type": "markdown",
   "metadata": {},
   "source": [
    "**Answer**"
   ]
  },
  {
   "cell_type": "markdown",
   "metadata": {},
   "source": [
    "In the training formula, we can multiply the feature matrix $X$ by the random matrix $P$ to create an algorithm that makes it difficult to retrieve personal information from the transformed data."
   ]
  },
  {
   "cell_type": "markdown",
   "metadata": {},
   "source": [
    "**Analytical test**"
   ]
  },
  {
   "cell_type": "markdown",
   "metadata": {},
   "source": [
    "By multiplying the feature matrix $X$ by the transformation matrix $P$, we obtain the transformed feature matrix $X'$:\n",
    "$$X' = XP$$\n",
    "\n",
    "Then:\n",
    "$$w' = (X'^{T}X')^{-1}X'^{T} y = (X^{T}P^{T}XP)^{-1} X^{T}P^{T}y$$\n",
    "\n",
    "Due to the **reversibility of the transpose** of a product of matrices:\n",
    "$$(AB)^{T} = B^{T}A^{T}$$\n",
    "\n",
    "Then:\n",
    "$$w' = (P^{T}X^{T}XP)^{-1}P^{T}X^{T}y$$\n",
    "\n",
    "Due to property of **multiplicative identity**: $(AB)^{-1}=B^{-1}A^{-1}$ we have:\n",
    "$$w' = P^{-1}(P^{T}X^{T}X)^{-1}P^{T}X^{T}y$$\n",
    "$$w' = P^{-1}(X^{T}X)^{-1}(P^{T})^{-1}P^{T}X^{T}y$$\n",
    "\n",
    "Given $A^{-1}A = 1$ we have:\n",
    "$$w' = P^{-1}(X^{T}X^{-1})X^{T}y$$\n",
    "$$w' = P^{-1}w$$\n",
    "\n",
    "To verify that our predictions ($\\hat{y'}$) will be identic:\n",
    "$$\\hat{y'} = X'w'$$\n",
    "\n",
    "Knowing that:\n",
    "$$X' = XP$$\n",
    "$$w' = P^{-1}w$$\n",
    "$$\\hat{y} = Xw$$\n",
    "\n",
    "Then:\n",
    "$$\\hat{y'} = XPP^{-1}w$$\n",
    "$$\\hat{y'} = Xw$$\n",
    "$$\\hat{y'} = \\hat{y}$$"
   ]
  },
  {
   "cell_type": "markdown",
   "metadata": {},
   "source": [
    "## Linear regression test with data obfuscation"
   ]
  },
  {
   "cell_type": "markdown",
   "metadata": {},
   "source": [
    "Now, let's prove that linear regression can work, computationally, with the chosen obfuscation transformation.\n",
    "\n",
    "Build a procedure or a class that optionally runs linear regression with obfuscation. You can use a linear regression implementation from scikit-learn or your own implementation.\n",
    "\n",
    "Run the linear regression for the original and the obfuscated data, compare the predicted values and the values of the RMSE and $R^2$ metrics. Is there any difference?"
   ]
  },
  {
   "cell_type": "markdown",
   "metadata": {},
   "source": [
    "**Procedure**.\n",
    "\n",
    "- Create a square matrix $P$ of random numbers.\n",
    "- Check that it is invertible. If it is not, repeat the first step until an invertible matrix is obtained.\n",
    "- If the matrix $P$ is invertible, multiply it by the feature matrix $X$ to generate a matrix with masked data: $XP$.\n",
    "- Use $XP$ as the new feature matrix."
   ]
  },
  {
   "cell_type": "code",
   "execution_count": 45,
   "metadata": {},
   "outputs": [
    {
     "name": "stdout",
     "output_type": "stream",
     "text": [
      "[[-2.43510503 -0.67956337  1.6356644   1.03209417]\n",
      " [ 0.0249708  -0.31553386  1.46239737 -0.97142918]\n",
      " [ 1.35753434  1.9368603  -2.01365293 -0.04885137]\n",
      " [ 2.00216398 -1.50257     0.0485452   0.15957602]] \n",
      "\n",
      "(5000, 4) \n",
      "\n"
     ]
    },
    {
     "data": {
      "text/html": [
       "<div>\n",
       "<style scoped>\n",
       "    .dataframe tbody tr th:only-of-type {\n",
       "        vertical-align: middle;\n",
       "    }\n",
       "\n",
       "    .dataframe tbody tr th {\n",
       "        vertical-align: top;\n",
       "    }\n",
       "\n",
       "    .dataframe thead th {\n",
       "        text-align: right;\n",
       "    }\n",
       "</style>\n",
       "<table border=\"1\" class=\"dataframe\">\n",
       "  <thead>\n",
       "    <tr style=\"text-align: right;\">\n",
       "      <th></th>\n",
       "      <th>gender</th>\n",
       "      <th>age</th>\n",
       "      <th>income</th>\n",
       "      <th>family_members</th>\n",
       "    </tr>\n",
       "  </thead>\n",
       "  <tbody>\n",
       "    <tr>\n",
       "      <th>0</th>\n",
       "      <td>6359.715273</td>\n",
       "      <td>22380.404676</td>\n",
       "      <td>18424.090742</td>\n",
       "      <td>46000.696690</td>\n",
       "    </tr>\n",
       "    <tr>\n",
       "      <th>1</th>\n",
       "      <td>4873.294065</td>\n",
       "      <td>17160.367030</td>\n",
       "      <td>14125.780761</td>\n",
       "      <td>35253.455773</td>\n",
       "    </tr>\n",
       "    <tr>\n",
       "      <th>2</th>\n",
       "      <td>2693.117429</td>\n",
       "      <td>9486.397744</td>\n",
       "      <td>7808.831560</td>\n",
       "      <td>19484.860631</td>\n",
       "    </tr>\n",
       "    <tr>\n",
       "      <th>3</th>\n",
       "      <td>5345.603937</td>\n",
       "      <td>18803.227203</td>\n",
       "      <td>15479.148373</td>\n",
       "      <td>38663.061863</td>\n",
       "    </tr>\n",
       "    <tr>\n",
       "      <th>4</th>\n",
       "      <td>3347.176735</td>\n",
       "      <td>11782.829283</td>\n",
       "      <td>9699.998942</td>\n",
       "      <td>24211.273378</td>\n",
       "    </tr>\n",
       "  </tbody>\n",
       "</table>\n",
       "</div>"
      ],
      "text/plain": [
       "        gender           age        income  family_members\n",
       "0  6359.715273  22380.404676  18424.090742    46000.696690\n",
       "1  4873.294065  17160.367030  14125.780761    35253.455773\n",
       "2  2693.117429   9486.397744   7808.831560    19484.860631\n",
       "3  5345.603937  18803.227203  15479.148373    38663.061863\n",
       "4  3347.176735  11782.829283   9699.998942    24211.273378"
      ]
     },
     "execution_count": 45,
     "metadata": {},
     "output_type": "execute_result"
    }
   ],
   "source": [
    "# Creation of a square matrix P of random numbers\n",
    "personal_info_column_list = ['gender', 'age', 'income', 'family_members']\n",
    "df_pn = df[personal_info_column_list]\n",
    "X = df_pn.to_numpy()\n",
    "\n",
    "rng = np.random.default_rng(seed=24)\n",
    "P = rng.random(size=(X.shape[1], X.shape[1]))\n",
    "\n",
    "# Check that it is reversible\n",
    "print(np.linalg.inv(P),'\\n')\n",
    "\n",
    "# Creation of XP as a new feature matrix\n",
    "XP = X.dot(P)\n",
    "\n",
    "# Transformation from feature matrix to DataFrame\n",
    "XP = pd.DataFrame(X_prima, columns = personal_info_column_list)\n",
    "\n",
    "# Size DataFrame XP\n",
    "print(XP.shape,'\\n')\n",
    "\n",
    "# XP viz\n",
    "XP.head()"
   ]
  },
  {
   "cell_type": "code",
   "execution_count": 46,
   "metadata": {},
   "outputs": [],
   "source": [
    "# Subset of transformed data\n",
    "XP_train, XP_test, y_train, y_test = train_test_split(XP, y, test_size=0.3, random_state=12345)"
   ]
  },
  {
   "cell_type": "code",
   "execution_count": 47,
   "metadata": {},
   "outputs": [
    {
     "name": "stdout",
     "output_type": "stream",
     "text": [
      "[-0.94353896 -0.05791721 -0.01546569  0.09871892 -0.02397536]\n",
      "RMSE: 0.34\n",
      "R2: 0.66\n"
     ]
    }
   ],
   "source": [
    "# Linear regression with masked data\n",
    "\n",
    "lr_mask = MyLinearRegression()\n",
    "\n",
    "lr_mask.fit(XP_train, y_train)\n",
    "print(lr_mask.weights)\n",
    "\n",
    "y_test_pred_mask = lr_mask.predict(XP_test)\n",
    "eval_regressor(y_test, y_test_pred)"
   ]
  },
  {
   "cell_type": "code",
   "execution_count": 48,
   "metadata": {},
   "outputs": [
    {
     "name": "stdout",
     "output_type": "stream",
     "text": [
      "[-9.43538930e-01  3.57495491e-02  1.64272730e-02 -2.60745684e-07\n",
      " -1.16902138e-02]\n",
      "RMSE: 0.34\n",
      "R2: 0.66\n"
     ]
    }
   ],
   "source": [
    "# Linear regression with original data\n",
    "X = df[['age', 'gender', 'income', 'family_members']].to_numpy()\n",
    "y = df['insurance_benefits'].to_numpy()\n",
    "\n",
    "X_train, X_test, y_train, y_test = train_test_split(X, y, test_size=0.3, random_state=12345)\n",
    "\n",
    "lr = MyLinearRegression()\n",
    "\n",
    "lr.fit(X_train, y_train)\n",
    "print(lr.weights)\n",
    "\n",
    "y_test_pred = lr.predict(X_test)\n",
    "eval_regressor(y_test, y_test_pred)"
   ]
  },
  {
   "cell_type": "markdown",
   "metadata": {},
   "source": [
    "Data obfuscation or masking does not affect the predictions or the quality of the linear regression model as demonstrated in the analytical test."
   ]
  },
  {
   "cell_type": "markdown",
   "metadata": {},
   "source": [
    "# Conclusions"
   ]
  },
  {
   "cell_type": "markdown",
   "metadata": {},
   "source": [
    "Two models have been used in this project: a classification model for the clustering of similar clients in terms of whether or not they receive at least one benefit from the insurer and a regression model for the prediction of the number of benefits received by each client.\n",
    "\n",
    "The clustering of similar customers was performed through a nearest neighbor number (KNN) model using different distance metrics (Euclidean and Manhattan) and with scaled and unscaled data. The results did not differ according to the metric used but the use of scaled data clustered similar clients better than when using unscaled data.\n",
    "\n",
    "The data were masked using a random matrix and it was found that the information concerning the personal data of each customer is impossible to infer from the transformed data. It was also found that knowing the random matrix it is possible to recover the original data although with slight differences.\n",
    "\n",
    "Subsequently, it was verified analytically that data masking does not affect the predictions and therefore the quality of the model. A linear regression model was computed with masked and original data, both models arrived at the same predictions and with an identical quality score (RECM and R2)."
   ]
  }
 ],
 "metadata": {
  "kernelspec": {
   "display_name": "Python 3 (ipykernel)",
   "language": "python",
   "name": "python3"
  },
  "language_info": {
   "codemirror_mode": {
    "name": "ipython",
    "version": 3
   },
   "file_extension": ".py",
   "mimetype": "text/x-python",
   "name": "python",
   "nbconvert_exporter": "python",
   "pygments_lexer": "ipython3",
   "version": "3.9.10"
  },
  "toc": {
   "base_numbering": 1,
   "nav_menu": {},
   "number_sections": false,
   "sideBar": true,
   "skip_h1_title": false,
   "title_cell": "Table of Contents",
   "title_sidebar": "Contents",
   "toc_cell": false,
   "toc_position": {},
   "toc_section_display": true,
   "toc_window_display": true
  }
 },
 "nbformat": 4,
 "nbformat_minor": 4
}
