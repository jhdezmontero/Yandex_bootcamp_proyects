{
 "cells": [
  {
   "cell_type": "markdown",
   "id": "e7e8d261",
   "metadata": {},
   "source": [
    "# Tariff analysis of mobile plans <a class='tocSkip' ></a>"
   ]
  },
  {
   "cell_type": "markdown",
   "id": "f2f797f4",
   "metadata": {
    "toc": true
   },
   "source": [
    "<h1>Table of Contents<span class=\"tocSkip\"></span></h1>\n",
    "<div class=\"toc\"><ul class=\"toc-item\"><li><span><a href=\"#Introduction-\" data-toc-modified-id=\"Introduction--1\"><span class=\"toc-item-num\">1&nbsp;&nbsp;</span>Introduction <a id=\"intro\" rel=\"nofollow\"></a></a></span><ul class=\"toc-item\"><li><span><a href=\"#Tariff-description-\" data-toc-modified-id=\"Tariff-description--1.1\"><span class=\"toc-item-num\">1.1&nbsp;&nbsp;</span>Tariff description <a id=\"tarifas\" rel=\"nofollow\"></a></a></span></li><li><span><a href=\"#Projects-stages-\" data-toc-modified-id=\"Projects-stages--1.2\"><span class=\"toc-item-num\">1.2&nbsp;&nbsp;</span>Projects stages <a id=\"etapas\" rel=\"nofollow\"></a></a></span></li></ul></li><li><span><a href=\"#Data-loading-and-information-study-\" data-toc-modified-id=\"Data-loading-and-information-study--2\"><span class=\"toc-item-num\">2&nbsp;&nbsp;</span>Data loading and information study <a id=\"carga\" rel=\"nofollow\"></a></a></span></li><li><span><a href=\"#Data-preparation-\" data-toc-modified-id=\"Data-preparation--3\"><span class=\"toc-item-num\">3&nbsp;&nbsp;</span>Data preparation <a id=\"preparacion\" rel=\"nofollow\"></a></a></span><ul class=\"toc-item\"><li><span><a href=\"#Data-cleaning-\" data-toc-modified-id=\"Data-cleaning--3.1\"><span class=\"toc-item-num\">3.1&nbsp;&nbsp;</span>Data cleaning <a id=\"3.1\" rel=\"nofollow\"></a></a></span><ul class=\"toc-item\"><li><span><a href=\"#Transform-data-types-\" data-toc-modified-id=\"Transform-data-types--3.1.1\"><span class=\"toc-item-num\">3.1.1&nbsp;&nbsp;</span>Transform data types <a id=\"3.1.1\" rel=\"nofollow\"></a></a></span></li><li><span><a href=\"#Find-and-eliminate-data-errors-\" data-toc-modified-id=\"Find-and-eliminate-data-errors--3.1.2\"><span class=\"toc-item-num\">3.1.2&nbsp;&nbsp;</span>Find and eliminate data errors <a id=\"3.1.2\" rel=\"nofollow\"></a></a></span></li></ul></li><li><span><a href=\"#Data-aggregation-by-user-\" data-toc-modified-id=\"Data-aggregation-by-user--3.2\"><span class=\"toc-item-num\">3.2&nbsp;&nbsp;</span>Data aggregation by user <a id=\"3.2\" rel=\"nofollow\"></a></a></span><ul class=\"toc-item\"><li><span><a href=\"#Number-of-calls-and-minutes-used-monthly-\" data-toc-modified-id=\"Number-of-calls-and-minutes-used-monthly--3.2.1\"><span class=\"toc-item-num\">3.2.1&nbsp;&nbsp;</span>Number of calls and minutes used monthly <a id=\"3.2.1\" rel=\"nofollow\"></a></a></span></li><li><span><a href=\"#Number-of-SMS-sent-monthly--\" data-toc-modified-id=\"Number-of-SMS-sent-monthly---3.2.2\"><span class=\"toc-item-num\">3.2.2&nbsp;&nbsp;</span>Number of SMS sent monthly  <a id=\"3.2.2\" rel=\"nofollow\"></a></a></span></li><li><span><a href=\"#Monthly-data-volume-\" data-toc-modified-id=\"Monthly-data-volume--3.2.3\"><span class=\"toc-item-num\">3.2.3&nbsp;&nbsp;</span>Monthly data volume <a id=\"3.2.3\" rel=\"nofollow\"></a></a></span></li><li><span><a href=\"#Monthly-revenue-from-each-user-\" data-toc-modified-id=\"Monthly-revenue-from-each-user--3.2.4\"><span class=\"toc-item-num\">3.2.4&nbsp;&nbsp;</span>Monthly revenue from each user <a id=\"3.2.4\" rel=\"nofollow\"></a></a></span><ul class=\"toc-item\"><li><span><a href=\"#Tariff-plan-per-user\" data-toc-modified-id=\"Tariff-plan-per-user-3.2.4.1\"><span class=\"toc-item-num\">3.2.4.1&nbsp;&nbsp;</span>Tariff plan per user</a></span></li><li><span><a href=\"#Monthly-call-revenue\" data-toc-modified-id=\"Monthly-call-revenue-3.2.4.2\"><span class=\"toc-item-num\">3.2.4.2&nbsp;&nbsp;</span>Monthly call revenue</a></span></li><li><span><a href=\"#Monthly-SMS-revenue\" data-toc-modified-id=\"Monthly-SMS-revenue-3.2.4.3\"><span class=\"toc-item-num\">3.2.4.3&nbsp;&nbsp;</span>Monthly SMS revenue</a></span></li><li><span><a href=\"#Monthly-revenue-per-GB\" data-toc-modified-id=\"Monthly-revenue-per-GB-3.2.4.4\"><span class=\"toc-item-num\">3.2.4.4&nbsp;&nbsp;</span>Monthly revenue per GB</a></span></li><li><span><a href=\"#Total-monthly-revenues-in-2018\" data-toc-modified-id=\"Total-monthly-revenues-in-2018-3.2.4.5\"><span class=\"toc-item-num\">3.2.4.5&nbsp;&nbsp;</span>Total monthly revenues in 2018</a></span></li></ul></li></ul></li></ul></li><li><span><a href=\"#Data-analysis-\" data-toc-modified-id=\"Data-analysis--4\"><span class=\"toc-item-num\">4&nbsp;&nbsp;</span>Data analysis <a id=\"analisis\" rel=\"nofollow\"></a></a></span><ul class=\"toc-item\"><li><span><a href=\"#Number-of-minutes-monthly-used-\" data-toc-modified-id=\"Number-of-minutes-monthly-used--4.1\"><span class=\"toc-item-num\">4.1&nbsp;&nbsp;</span>Number of minutes monthly used <a id=\"4.1\" rel=\"nofollow\"></a></a></span></li><li><span><a href=\"#Number-of-SMS-used-per-month-\" data-toc-modified-id=\"Number-of-SMS-used-per-month--4.2\"><span class=\"toc-item-num\">4.2&nbsp;&nbsp;</span>Number of SMS used per month <a id=\"4.2\" rel=\"nofollow\"></a></a></span></li><li><span><a href=\"#GBs-used-per-month-\" data-toc-modified-id=\"GBs-used-per-month--4.3\"><span class=\"toc-item-num\">4.3&nbsp;&nbsp;</span>GBs used per month <a id=\"4.3\" rel=\"nofollow\"></a></a></span></li></ul></li><li><span><a href=\"#Hypothesis-test-\" data-toc-modified-id=\"Hypothesis-test--5\"><span class=\"toc-item-num\">5&nbsp;&nbsp;</span>Hypothesis test <a id=\"hipotesis\" rel=\"nofollow\"></a></a></span><ul class=\"toc-item\"><li><span><a href=\"#Average-revenue-from-the-users-of-the-Ultimate-and-Surf-rates-\" data-toc-modified-id=\"Average-revenue-from-the-users-of-the-Ultimate-and-Surf-rates--5.1\"><span class=\"toc-item-num\">5.1&nbsp;&nbsp;</span>Average revenue from the users of the Ultimate and Surf rates <a id=\"5.1\" rel=\"nofollow\"></a></a></span></li><li><span><a href=\"#Median-revenue-of-'New-York-New-Jersey'-users-vs-other-regions\" data-toc-modified-id=\"Median-revenue-of-'New-York-New-Jersey'-users-vs-other-regions-5.2\"><span class=\"toc-item-num\">5.2&nbsp;&nbsp;</span>Median revenue of 'New York-New Jersey' users <em>vs</em> other regions</a></span></li></ul></li><li><span><a href=\"#General-conclusions-\" data-toc-modified-id=\"General-conclusions--6\"><span class=\"toc-item-num\">6&nbsp;&nbsp;</span>General conclusions <a id=\"conclusiones\" rel=\"nofollow\"></a></a></span></li></ul></div>"
   ]
  },
  {
   "cell_type": "markdown",
   "id": "987b28e0",
   "metadata": {},
   "source": [
    "# Introduction <a id='intro'></a>\n",
    "\n",
    "This tariff analysis is carried out for the commercial department of the telecommunications company **Megaline**. This company offers two prepaid tariffs: **Surf** and **Ultimate**. \n",
    "\n",
    "The analysis is based on a sample of 500 Megaline customers and counts their identity, origin, type of tariff, number of calls and messages they sent during 2018. The **objective** of this analysis is to determine **which prepaid tariff generates more revenue**.\n",
    "\n",
    "## Tariff description <a id='tarifas'></a>\n",
    "\n",
    "⚠️ **Note**: Megaline rounds seconds to minutes and megabytes to gigabytes. For **calls**, each individual call is rounded up to the nearest minute. For **web traffic**, individual web sessions are not rounded up. Instead, the *total for the month is rounded up*. For example: if someone uses 1025 MB this month, they will be charged 2 GB.\n",
    "\n",
    "**Surf**\n",
    "\n",
    "1. Monthly tariff: \\\\$20\n",
    "2. 500 minutes, 50 SMS y 15 GB data.\n",
    "3. If package limits are exceeded:\n",
    "    * a. 1 minute: 3¢\n",
    "    * b. 1 SMS: 3¢\n",
    "    * c. 1 GB data: \\\\$10\n",
    "\n",
    "**Ultimate**\n",
    "1. Monthly tariff: \\\\$70\n",
    "2. 3000 minutes, 1000 SMS y 13 GB data\n",
    "3. If package limits are exceeded:\n",
    "    * a. 1 minute: 1¢\n",
    "    * b. 1 SMS: 1¢\n",
    "    * c. 1GB data: \\\\$7\n",
    "    \n",
    "## Projects stages <a id='etapas'></a>\n",
    "\n",
    "The project consists of 5 stages:\n",
    "\n",
    "1. [Data loading and information study](#carga)\n",
    "2. [Data preparation](#preparacion)\n",
    "3. [Data analysis](#analisis)\n",
    "4. [Hypothesis testing](#hipotesis)\n",
    "5. [General conclusions](#conclusiones)"
   ]
  },
  {
   "cell_type": "markdown",
   "id": "2c308487",
   "metadata": {},
   "source": [
    "# Data loading and information study <a id='carga'></a>\n",
    "\n",
    "In this **first stage** we are going to load the databases necessary to carry out the project. The analysis is performed on the basis of 5 databases. The information contained in the columns of each table (DataFrame) is described below.\n",
    "\n",
    "👥 **`users`** provides data on users:\n",
    "* `user_id`: unique identifier of the customer\n",
    "* `first_name`: customer name\n",
    "* `last_name`: customer lastname\n",
    "* `age`: customer age\n",
    "* `reg_date`: suscription date (dd,mm,aa)\n",
    "* `churn_date`\n",
    "* `city`: city of residence\n",
    "* `plan`: plan name\n",
    "\n",
    "📲 **`calls`** provides data on calls:\n",
    "* `id`: unique call identifier\n",
    "* `call_date`\n",
    "* `duration` (in minutes)\n",
    "* `user_id`: the identifier of the user making the call\n",
    "\n",
    "💬 **`messages`** provides data on SMS:\n",
    "* `id`: SMS unique identifier\n",
    "* `message_date`\n",
    "* `user_id`: identifier sending the SMS\n",
    "\n",
    "🌐 **`internet`** provides data on web sessions:\n",
    "* `id`\n",
    "* `mb_used`: data volume used during the session (in megabytes - MB)\n",
    "* `session_date`: date of the web session\n",
    "* `user_id`\n",
    "\n",
    "📋 **`plans`** provides data on plan's fee:\n",
    "* `plan_name`\n",
    "* `usd_monthly_fee`: in USD\n",
    "* `minutes_included`\n",
    "* `messages_included`\n",
    "* `mb_per_month_included`\n",
    "* `usd_per_minute`: price per minute after exceeding package limits\n",
    "* `usd_per_message`: price per SMS after exceeding package limits\n",
    "* `usd_per_gb`: price per gigabyte of extra data after exceeding package limits (1GB = 1024 MB)\n",
    "\n",
    "Next we are going to load the data and we are going to see the size of each base and visualize the first five rows."
   ]
  },
  {
   "cell_type": "code",
   "execution_count": 1,
   "id": "ef852ee7",
   "metadata": {},
   "outputs": [],
   "source": [
    "# Load of libraries\n",
    "import pandas as pd\n",
    "import numpy as np\n",
    "import datetime as dt\n",
    "from matplotlib import pyplot as plt\n",
    "from scipy import stats as st"
   ]
  },
  {
   "cell_type": "code",
   "execution_count": 2,
   "id": "5e230b79",
   "metadata": {},
   "outputs": [],
   "source": [
    "## Carga de bases de datos\n",
    "#users = pd.read_csv('/datasets/megaline_users1.csv')\n",
    "#calls = pd.read_csv('/datasets/megaline_calls.csv')\n",
    "#messages = pd.read_csv('/datasets/megaline_messages.csv')\n",
    "#internet = pd.read_csv('/datasets/megaline_internet.csv')\n",
    "#plans = pd.read_csv('/datasets/megaline_plans.csv')"
   ]
  },
  {
   "cell_type": "code",
   "execution_count": 3,
   "id": "218284b2",
   "metadata": {},
   "outputs": [
    {
     "name": "stdout",
     "output_type": "stream",
     "text": [
      "/Users/jesusrfl/Yandex_coding_projects/mobile_analysis\n"
     ]
    }
   ],
   "source": [
    "# Directorio de trabajo unicamente para trabajar de manera local\n",
    "%cd '/Users/jesusrfl/Yandex_coding_projects/mobile_analysis'\n",
    "\n",
    "# Carga de bases de datos\n",
    "users = pd.read_csv('datasets/megaline_users1.csv')\n",
    "calls = pd.read_csv('datasets/megaline_calls.csv')\n",
    "messages = pd.read_csv('datasets/megaline_messages.csv')\n",
    "internet = pd.read_csv('datasets/megaline_internet.csv')\n",
    "plans = pd.read_csv('datasets/megaline_plans.csv')"
   ]
  },
  {
   "cell_type": "code",
   "execution_count": 4,
   "id": "ab1ab79c",
   "metadata": {},
   "outputs": [
    {
     "name": "stdout",
     "output_type": "stream",
     "text": [
      "(500, 8)\n"
     ]
    },
    {
     "data": {
      "text/html": [
       "<div>\n",
       "<style scoped>\n",
       "    .dataframe tbody tr th:only-of-type {\n",
       "        vertical-align: middle;\n",
       "    }\n",
       "\n",
       "    .dataframe tbody tr th {\n",
       "        vertical-align: top;\n",
       "    }\n",
       "\n",
       "    .dataframe thead th {\n",
       "        text-align: right;\n",
       "    }\n",
       "</style>\n",
       "<table border=\"1\" class=\"dataframe\">\n",
       "  <thead>\n",
       "    <tr style=\"text-align: right;\">\n",
       "      <th></th>\n",
       "      <th>user_id</th>\n",
       "      <th>first_name</th>\n",
       "      <th>last_name</th>\n",
       "      <th>age</th>\n",
       "      <th>city</th>\n",
       "      <th>reg_date</th>\n",
       "      <th>tariff</th>\n",
       "      <th>churn_date</th>\n",
       "    </tr>\n",
       "  </thead>\n",
       "  <tbody>\n",
       "    <tr>\n",
       "      <th>0</th>\n",
       "      <td>1000</td>\n",
       "      <td>Anamaria</td>\n",
       "      <td>Bauer</td>\n",
       "      <td>45</td>\n",
       "      <td>Atlanta-Sandy Springs-Roswell, GA MSA</td>\n",
       "      <td>2018-12-24</td>\n",
       "      <td>ultimate</td>\n",
       "      <td>NaN</td>\n",
       "    </tr>\n",
       "    <tr>\n",
       "      <th>1</th>\n",
       "      <td>1001</td>\n",
       "      <td>Mickey</td>\n",
       "      <td>Wilkerson</td>\n",
       "      <td>28</td>\n",
       "      <td>Seattle-Tacoma-Bellevue, WA MSA</td>\n",
       "      <td>2018-08-13</td>\n",
       "      <td>surf</td>\n",
       "      <td>NaN</td>\n",
       "    </tr>\n",
       "    <tr>\n",
       "      <th>2</th>\n",
       "      <td>1002</td>\n",
       "      <td>Carlee</td>\n",
       "      <td>Hoffman</td>\n",
       "      <td>36</td>\n",
       "      <td>Las Vegas-Henderson-Paradise, NV MSA</td>\n",
       "      <td>2018-10-21</td>\n",
       "      <td>surf</td>\n",
       "      <td>NaN</td>\n",
       "    </tr>\n",
       "    <tr>\n",
       "      <th>3</th>\n",
       "      <td>1003</td>\n",
       "      <td>Reynaldo</td>\n",
       "      <td>Jenkins</td>\n",
       "      <td>52</td>\n",
       "      <td>Tulsa, OK MSA</td>\n",
       "      <td>2018-01-28</td>\n",
       "      <td>surf</td>\n",
       "      <td>NaN</td>\n",
       "    </tr>\n",
       "    <tr>\n",
       "      <th>4</th>\n",
       "      <td>1004</td>\n",
       "      <td>Leonila</td>\n",
       "      <td>Thompson</td>\n",
       "      <td>40</td>\n",
       "      <td>Seattle-Tacoma-Bellevue, WA MSA</td>\n",
       "      <td>2018-05-23</td>\n",
       "      <td>surf</td>\n",
       "      <td>NaN</td>\n",
       "    </tr>\n",
       "  </tbody>\n",
       "</table>\n",
       "</div>"
      ],
      "text/plain": [
       "   user_id first_name  last_name  age                                   city  \\\n",
       "0     1000   Anamaria      Bauer   45  Atlanta-Sandy Springs-Roswell, GA MSA   \n",
       "1     1001     Mickey  Wilkerson   28        Seattle-Tacoma-Bellevue, WA MSA   \n",
       "2     1002     Carlee    Hoffman   36   Las Vegas-Henderson-Paradise, NV MSA   \n",
       "3     1003   Reynaldo    Jenkins   52                          Tulsa, OK MSA   \n",
       "4     1004    Leonila   Thompson   40        Seattle-Tacoma-Bellevue, WA MSA   \n",
       "\n",
       "     reg_date    tariff churn_date  \n",
       "0  2018-12-24  ultimate        NaN  \n",
       "1  2018-08-13      surf        NaN  \n",
       "2  2018-10-21      surf        NaN  \n",
       "3  2018-01-28      surf        NaN  \n",
       "4  2018-05-23      surf        NaN  "
      ]
     },
     "execution_count": 4,
     "metadata": {},
     "output_type": "execute_result"
    }
   ],
   "source": [
    "print(users.shape)\n",
    "users.head()"
   ]
  },
  {
   "cell_type": "code",
   "execution_count": 5,
   "id": "5efd7467",
   "metadata": {},
   "outputs": [
    {
     "name": "stdout",
     "output_type": "stream",
     "text": [
      "(137735, 4)\n"
     ]
    },
    {
     "data": {
      "text/html": [
       "<div>\n",
       "<style scoped>\n",
       "    .dataframe tbody tr th:only-of-type {\n",
       "        vertical-align: middle;\n",
       "    }\n",
       "\n",
       "    .dataframe tbody tr th {\n",
       "        vertical-align: top;\n",
       "    }\n",
       "\n",
       "    .dataframe thead th {\n",
       "        text-align: right;\n",
       "    }\n",
       "</style>\n",
       "<table border=\"1\" class=\"dataframe\">\n",
       "  <thead>\n",
       "    <tr style=\"text-align: right;\">\n",
       "      <th></th>\n",
       "      <th>id</th>\n",
       "      <th>user_id</th>\n",
       "      <th>call_date</th>\n",
       "      <th>duration</th>\n",
       "    </tr>\n",
       "  </thead>\n",
       "  <tbody>\n",
       "    <tr>\n",
       "      <th>0</th>\n",
       "      <td>1000_93</td>\n",
       "      <td>1000</td>\n",
       "      <td>2018-12-27</td>\n",
       "      <td>8.52</td>\n",
       "    </tr>\n",
       "    <tr>\n",
       "      <th>1</th>\n",
       "      <td>1000_145</td>\n",
       "      <td>1000</td>\n",
       "      <td>2018-12-27</td>\n",
       "      <td>13.66</td>\n",
       "    </tr>\n",
       "    <tr>\n",
       "      <th>2</th>\n",
       "      <td>1000_247</td>\n",
       "      <td>1000</td>\n",
       "      <td>2018-12-27</td>\n",
       "      <td>14.48</td>\n",
       "    </tr>\n",
       "    <tr>\n",
       "      <th>3</th>\n",
       "      <td>1000_309</td>\n",
       "      <td>1000</td>\n",
       "      <td>2018-12-28</td>\n",
       "      <td>5.76</td>\n",
       "    </tr>\n",
       "    <tr>\n",
       "      <th>4</th>\n",
       "      <td>1000_380</td>\n",
       "      <td>1000</td>\n",
       "      <td>2018-12-30</td>\n",
       "      <td>4.22</td>\n",
       "    </tr>\n",
       "  </tbody>\n",
       "</table>\n",
       "</div>"
      ],
      "text/plain": [
       "         id  user_id   call_date  duration\n",
       "0   1000_93     1000  2018-12-27      8.52\n",
       "1  1000_145     1000  2018-12-27     13.66\n",
       "2  1000_247     1000  2018-12-27     14.48\n",
       "3  1000_309     1000  2018-12-28      5.76\n",
       "4  1000_380     1000  2018-12-30      4.22"
      ]
     },
     "execution_count": 5,
     "metadata": {},
     "output_type": "execute_result"
    }
   ],
   "source": [
    "print(calls.shape)\n",
    "calls.head()"
   ]
  },
  {
   "cell_type": "code",
   "execution_count": 6,
   "id": "e3a01a02",
   "metadata": {},
   "outputs": [
    {
     "name": "stdout",
     "output_type": "stream",
     "text": [
      "(76051, 3)\n"
     ]
    },
    {
     "data": {
      "text/html": [
       "<div>\n",
       "<style scoped>\n",
       "    .dataframe tbody tr th:only-of-type {\n",
       "        vertical-align: middle;\n",
       "    }\n",
       "\n",
       "    .dataframe tbody tr th {\n",
       "        vertical-align: top;\n",
       "    }\n",
       "\n",
       "    .dataframe thead th {\n",
       "        text-align: right;\n",
       "    }\n",
       "</style>\n",
       "<table border=\"1\" class=\"dataframe\">\n",
       "  <thead>\n",
       "    <tr style=\"text-align: right;\">\n",
       "      <th></th>\n",
       "      <th>id</th>\n",
       "      <th>user_id</th>\n",
       "      <th>message_date</th>\n",
       "    </tr>\n",
       "  </thead>\n",
       "  <tbody>\n",
       "    <tr>\n",
       "      <th>0</th>\n",
       "      <td>1000_125</td>\n",
       "      <td>1000</td>\n",
       "      <td>2018-12-27</td>\n",
       "    </tr>\n",
       "    <tr>\n",
       "      <th>1</th>\n",
       "      <td>1000_160</td>\n",
       "      <td>1000</td>\n",
       "      <td>2018-12-31</td>\n",
       "    </tr>\n",
       "    <tr>\n",
       "      <th>2</th>\n",
       "      <td>1000_223</td>\n",
       "      <td>1000</td>\n",
       "      <td>2018-12-31</td>\n",
       "    </tr>\n",
       "    <tr>\n",
       "      <th>3</th>\n",
       "      <td>1000_251</td>\n",
       "      <td>1000</td>\n",
       "      <td>2018-12-27</td>\n",
       "    </tr>\n",
       "    <tr>\n",
       "      <th>4</th>\n",
       "      <td>1000_255</td>\n",
       "      <td>1000</td>\n",
       "      <td>2018-12-26</td>\n",
       "    </tr>\n",
       "  </tbody>\n",
       "</table>\n",
       "</div>"
      ],
      "text/plain": [
       "         id  user_id message_date\n",
       "0  1000_125     1000   2018-12-27\n",
       "1  1000_160     1000   2018-12-31\n",
       "2  1000_223     1000   2018-12-31\n",
       "3  1000_251     1000   2018-12-27\n",
       "4  1000_255     1000   2018-12-26"
      ]
     },
     "execution_count": 6,
     "metadata": {},
     "output_type": "execute_result"
    }
   ],
   "source": [
    "print(messages.shape)\n",
    "messages.head()"
   ]
  },
  {
   "cell_type": "code",
   "execution_count": 7,
   "id": "fe920745",
   "metadata": {},
   "outputs": [
    {
     "name": "stdout",
     "output_type": "stream",
     "text": [
      "(104825, 4)\n"
     ]
    },
    {
     "data": {
      "text/html": [
       "<div>\n",
       "<style scoped>\n",
       "    .dataframe tbody tr th:only-of-type {\n",
       "        vertical-align: middle;\n",
       "    }\n",
       "\n",
       "    .dataframe tbody tr th {\n",
       "        vertical-align: top;\n",
       "    }\n",
       "\n",
       "    .dataframe thead th {\n",
       "        text-align: right;\n",
       "    }\n",
       "</style>\n",
       "<table border=\"1\" class=\"dataframe\">\n",
       "  <thead>\n",
       "    <tr style=\"text-align: right;\">\n",
       "      <th></th>\n",
       "      <th>id</th>\n",
       "      <th>user_id</th>\n",
       "      <th>session_date</th>\n",
       "      <th>mb_used</th>\n",
       "    </tr>\n",
       "  </thead>\n",
       "  <tbody>\n",
       "    <tr>\n",
       "      <th>0</th>\n",
       "      <td>1000_13</td>\n",
       "      <td>1000</td>\n",
       "      <td>2018-12-29</td>\n",
       "      <td>89.86</td>\n",
       "    </tr>\n",
       "    <tr>\n",
       "      <th>1</th>\n",
       "      <td>1000_204</td>\n",
       "      <td>1000</td>\n",
       "      <td>2018-12-31</td>\n",
       "      <td>0.00</td>\n",
       "    </tr>\n",
       "    <tr>\n",
       "      <th>2</th>\n",
       "      <td>1000_379</td>\n",
       "      <td>1000</td>\n",
       "      <td>2018-12-28</td>\n",
       "      <td>660.40</td>\n",
       "    </tr>\n",
       "    <tr>\n",
       "      <th>3</th>\n",
       "      <td>1000_413</td>\n",
       "      <td>1000</td>\n",
       "      <td>2018-12-26</td>\n",
       "      <td>270.99</td>\n",
       "    </tr>\n",
       "    <tr>\n",
       "      <th>4</th>\n",
       "      <td>1000_442</td>\n",
       "      <td>1000</td>\n",
       "      <td>2018-12-27</td>\n",
       "      <td>880.22</td>\n",
       "    </tr>\n",
       "  </tbody>\n",
       "</table>\n",
       "</div>"
      ],
      "text/plain": [
       "         id  user_id session_date  mb_used\n",
       "0   1000_13     1000   2018-12-29    89.86\n",
       "1  1000_204     1000   2018-12-31     0.00\n",
       "2  1000_379     1000   2018-12-28   660.40\n",
       "3  1000_413     1000   2018-12-26   270.99\n",
       "4  1000_442     1000   2018-12-27   880.22"
      ]
     },
     "execution_count": 7,
     "metadata": {},
     "output_type": "execute_result"
    }
   ],
   "source": [
    "print(internet.shape)\n",
    "internet.head()"
   ]
  },
  {
   "cell_type": "code",
   "execution_count": 8,
   "id": "98e457c1",
   "metadata": {},
   "outputs": [
    {
     "name": "stdout",
     "output_type": "stream",
     "text": [
      "(2, 8)\n"
     ]
    },
    {
     "data": {
      "text/html": [
       "<div>\n",
       "<style scoped>\n",
       "    .dataframe tbody tr th:only-of-type {\n",
       "        vertical-align: middle;\n",
       "    }\n",
       "\n",
       "    .dataframe tbody tr th {\n",
       "        vertical-align: top;\n",
       "    }\n",
       "\n",
       "    .dataframe thead th {\n",
       "        text-align: right;\n",
       "    }\n",
       "</style>\n",
       "<table border=\"1\" class=\"dataframe\">\n",
       "  <thead>\n",
       "    <tr style=\"text-align: right;\">\n",
       "      <th></th>\n",
       "      <th>messages_included</th>\n",
       "      <th>mb_per_month_included</th>\n",
       "      <th>minutes_included</th>\n",
       "      <th>usd_monthly_pay</th>\n",
       "      <th>usd_per_gb</th>\n",
       "      <th>usd_per_message</th>\n",
       "      <th>usd_per_minute</th>\n",
       "      <th>plan_name</th>\n",
       "    </tr>\n",
       "  </thead>\n",
       "  <tbody>\n",
       "    <tr>\n",
       "      <th>0</th>\n",
       "      <td>50</td>\n",
       "      <td>15360</td>\n",
       "      <td>500</td>\n",
       "      <td>20</td>\n",
       "      <td>10</td>\n",
       "      <td>0.03</td>\n",
       "      <td>0.03</td>\n",
       "      <td>surf</td>\n",
       "    </tr>\n",
       "    <tr>\n",
       "      <th>1</th>\n",
       "      <td>1000</td>\n",
       "      <td>30720</td>\n",
       "      <td>3000</td>\n",
       "      <td>70</td>\n",
       "      <td>7</td>\n",
       "      <td>0.01</td>\n",
       "      <td>0.01</td>\n",
       "      <td>ultimate</td>\n",
       "    </tr>\n",
       "  </tbody>\n",
       "</table>\n",
       "</div>"
      ],
      "text/plain": [
       "   messages_included  mb_per_month_included  minutes_included  \\\n",
       "0                 50                  15360               500   \n",
       "1               1000                  30720              3000   \n",
       "\n",
       "   usd_monthly_pay  usd_per_gb  usd_per_message  usd_per_minute plan_name  \n",
       "0               20          10             0.03            0.03      surf  \n",
       "1               70           7             0.01            0.01  ultimate  "
      ]
     },
     "execution_count": 8,
     "metadata": {},
     "output_type": "execute_result"
    }
   ],
   "source": [
    "print(plans.shape)\n",
    "plans.head()"
   ]
  },
  {
   "cell_type": "markdown",
   "id": "c8c6a9fa",
   "metadata": {},
   "source": [
    "⚠️ **Attention**: the MB included per month in each tariff plan are wrongly specified in the **`plans`** table, so they will be corrected in the next step.\n",
    "\n",
    "We have loaded the databases correctly, all tables except **`plans`** are related through the `user_id` column. The base **`plans`** can be related to **`users`** through the columns `plan_name` and `tariff` respectively. The mentioned columns will be useful to join information from different tables.\n",
    "\n",
    "Before proceeding to join tables and analyze their information, let's prepare the data for analysis in the next step.\n",
    "\n",
    "[Return project's stages](#etapas)"
   ]
  },
  {
   "cell_type": "markdown",
   "id": "f9177e20",
   "metadata": {},
   "source": [
    "# Data preparation <a id='preparacion'></a>\n",
    "\n",
    "This **second stage** of the project is divided into two sub-stages:\n",
    "\n",
    "1. [Data cleaning for analysis by](#3.1):\n",
    "    1. [Transform data into the required types](#3.1.1)\n",
    "    2. [Finding and eliminating data errors](#3.1.2)\n",
    "\n",
    "\n",
    "2. [Aggregation of data for *each user* looking for the following information](#3.2):\n",
    "    1. [Number of calls and minutes used per month](#3.2.1)\n",
    "    2. [Number of SMS sent per month](#3.2.2)\n",
    "    3. [Data volume per month](#3.2.3)\n",
    "    4. [Monthly income of each user](#3.3.4)\n",
    "\n",
    "For task 4 of the second sub-step, we will subtract the free package limit from the total number of minutes, SMS and data. Then, we will multiply the result by the value of the *excess fee* for each service (minutes, SMS and data) according to each user's plan. Finally, we will add the total monthly charge for each user.\n",
    "\n",
    "[Return project's stages](#etapas)"
   ]
  },
  {
   "cell_type": "markdown",
   "id": "5528a666",
   "metadata": {},
   "source": [
    "## Data cleaning <a id='3.1'></a>\n",
    "\n",
    "### Transform data types <a id='3.1.1'></a>\n",
    "\n",
    "We will analyze the data types of each column and transform the data to the most appropriate type if necessary."
   ]
  },
  {
   "cell_type": "code",
   "execution_count": 9,
   "id": "bac9d447",
   "metadata": {},
   "outputs": [],
   "source": [
    "# Define function to print table name\n",
    "def df_name(data):\n",
    "    name =[x for x in globals() if globals()[x] is data][0]\n",
    "    print(f'Table: {name}')"
   ]
  },
  {
   "cell_type": "code",
   "execution_count": 10,
   "id": "e7a56aa0",
   "metadata": {},
   "outputs": [
    {
     "name": "stdout",
     "output_type": "stream",
     "text": [
      "Table: users\n",
      "None\n",
      "user_id        int64\n",
      "first_name    object\n",
      "last_name     object\n",
      "age            int64\n",
      "city          object\n",
      "reg_date      object\n",
      "tariff        object\n",
      "churn_date    object\n",
      "dtype: object \n",
      "\n",
      "Table: calls\n",
      "None\n",
      "id            object\n",
      "user_id        int64\n",
      "call_date     object\n",
      "duration     float64\n",
      "dtype: object \n",
      "\n",
      "Table: messages\n",
      "None\n",
      "id              object\n",
      "user_id          int64\n",
      "message_date    object\n",
      "dtype: object \n",
      "\n",
      "Table: internet\n",
      "None\n",
      "id               object\n",
      "user_id           int64\n",
      "session_date     object\n",
      "mb_used         float64\n",
      "dtype: object \n",
      "\n",
      "Table: plans\n",
      "None\n",
      "messages_included          int64\n",
      "mb_per_month_included      int64\n",
      "minutes_included           int64\n",
      "usd_monthly_pay            int64\n",
      "usd_per_gb                 int64\n",
      "usd_per_message          float64\n",
      "usd_per_minute           float64\n",
      "plan_name                 object\n",
      "dtype: object \n",
      "\n"
     ]
    }
   ],
   "source": [
    "# Print data types\n",
    "tables = [users, calls, messages, internet, plans]\n",
    "\n",
    "for t in tables:\n",
    "    print(df_name(t))\n",
    "    print(t.dtypes, '\\n')"
   ]
  },
  {
   "cell_type": "markdown",
   "id": "11a51993",
   "metadata": {},
   "source": [
    "The `user_id` and date columns (`reg_date`, `churn_date`, `call_date`, `message_date` and `session_date`) will be changed to type `object` and `datetime` respectively for better handling of these variables. The date columns will follow the international format ISO 8601 (YYYYY-MM-DD). \n",
    "\n",
    "In addition, to facilitate the crossing of information between the tables **`users`** and **`plans`** we are going to unify the name of the columns `tariff` and `plan_name` in only `plan`."
   ]
  },
  {
   "cell_type": "code",
   "execution_count": 11,
   "id": "a3adaef8",
   "metadata": {},
   "outputs": [],
   "source": [
    "# User_id to object (string)\n",
    "for t in tables:\n",
    "    try:\n",
    "        t['user_id'] = t['user_id'].apply(str)\n",
    "    except:\n",
    "        next"
   ]
  },
  {
   "cell_type": "code",
   "execution_count": 12,
   "id": "a9d5cb0d",
   "metadata": {},
   "outputs": [],
   "source": [
    "# dates into datetime\n",
    "date_format = '%Y-%m-%d'\n",
    "\n",
    "for t in tables:\n",
    "    for c in t.filter(regex='_date$', axis=1):\n",
    "        t[c] = pd.to_datetime(t[c], format = date_format)"
   ]
  },
  {
   "cell_type": "code",
   "execution_count": 13,
   "id": "9aaed6e2",
   "metadata": {},
   "outputs": [],
   "source": [
    "# Rename columns 'tariff' and 'plan_name' to 'plan'\n",
    "users.rename(columns={'tariff':'plan'}, inplace=True)\n",
    "plans.rename(columns={'plan_name':'plan'}, inplace=True)"
   ]
  },
  {
   "cell_type": "markdown",
   "id": "608bfca6",
   "metadata": {},
   "source": [
    "**Intermediate conclusions**\n",
    "\n",
    "* We have changed the `user_id` columns present in each table from a numeric type to a string type ('object') since these values are not useful to do arithmetic operations but to identify each user.\n",
    "\n",
    "* The columns containing dates (ending in 'date') were transformed to type 'datetime'.\n",
    "\n",
    "* Finally, to cross-reference information between the **`users`** and **`plans`** tables, the `tariff` and `plan_name` columns were renamed to `plan` respectively."
   ]
  },
  {
   "cell_type": "markdown",
   "id": "71a03687",
   "metadata": {},
   "source": [
    "### Find and eliminate data errors <a id='3.1.2'></a>\n",
    "\n",
    "In this second part of the data cleaning, we are going to look for errors in the columns of each table for this we are going to:\n",
    "\n",
    "* Search for missing values in each column of each table.\n",
    "* Search for unique values\n",
    "* Search for repeated values in the users table \n",
    "* Search for missing values in each table\n",
    "* Cases not belonging to 2018\n",
    "* Correct the number of MB included in each plan in the **`plans`** table."
   ]
  },
  {
   "cell_type": "code",
   "execution_count": 14,
   "id": "46e4f96e",
   "metadata": {},
   "outputs": [
    {
     "name": "stdout",
     "output_type": "stream",
     "text": [
      "Table: users\n",
      "None\n",
      "user_id         0\n",
      "first_name      0\n",
      "last_name       0\n",
      "age             0\n",
      "city            0\n",
      "reg_date        0\n",
      "plan            0\n",
      "churn_date    466\n",
      "dtype: int64 \n",
      "\n"
     ]
    }
   ],
   "source": [
    "# Find missing values\n",
    "for t in tables:\n",
    "    if t.isna().values.any():\n",
    "        print(df_name(t))\n",
    "        print(t.isna().sum(), '\\n')"
   ]
  },
  {
   "cell_type": "markdown",
   "id": "ef9da3c1",
   "metadata": {},
   "source": [
    "It appears that only the `churn_date` column of the **`users`** table has missing values. However, as mentioned in the section [Data loading and information study](#carga) rows with missing values mean that the user's contract was still valid at the time of data collection, so these missing values do not represent a problem. According to this, 466 users out of 500 had a valid contract with Megaline."
   ]
  },
  {
   "cell_type": "code",
   "execution_count": 15,
   "id": "dc22adb2",
   "metadata": {},
   "outputs": [
    {
     "name": "stdout",
     "output_type": "stream",
     "text": [
      "Table: users\n",
      "None\n",
      "user_id 500\n",
      "first_name 458\n",
      "last_name 399\n",
      "age 58\n",
      "city 73\n",
      "reg_date 266\n",
      "plan 2\n",
      "churn_date 30\n",
      "\n",
      "\n",
      "Table: calls\n",
      "None\n",
      "id 137735\n",
      "user_id 481\n",
      "call_date 351\n",
      "duration 2802\n",
      "\n",
      "\n",
      "Table: messages\n",
      "None\n",
      "id 76051\n",
      "user_id 402\n",
      "message_date 351\n",
      "\n",
      "\n",
      "Table: internet\n",
      "None\n",
      "id 104825\n",
      "user_id 489\n",
      "session_date 351\n",
      "mb_used 57624\n",
      "\n",
      "\n",
      "Table: plans\n",
      "None\n",
      "messages_included 2\n",
      "mb_per_month_included 2\n",
      "minutes_included 2\n",
      "usd_monthly_pay 2\n",
      "usd_per_gb 2\n",
      "usd_per_message 2\n",
      "usd_per_minute 2\n",
      "plan 2\n",
      "\n",
      "\n",
      "Empty DataFrame\n",
      "Columns: [user_id, first_name, last_name, age, city, reg_date, plan, churn_date]\n",
      "Index: []\n"
     ]
    }
   ],
   "source": [
    "# Print of unique values\n",
    "for t in tables:\n",
    "    print(df_name(t))\n",
    "    for c in t.columns:\n",
    "        print(c, len(t[c].unique()))\n",
    "    print('\\n')\n",
    "\n",
    "# Valores repetidos de usuarios\n",
    "print(users.loc[users[['first_name','last_name']].duplicated()])"
   ]
  },
  {
   "cell_type": "markdown",
   "id": "fbb5dae4",
   "metadata": {},
   "source": [
    "In the **`users`** table we have 500 different `user_id`'s however this number of users is higher than the number registered in the **`calls`** (481 ids), **`messages`** (402), and **`internet`** (489) tables. This may be due to the fact that not all users use all the services included in their plan. No duplicated users were detected according to their first and last name.\n",
    "\n",
    "The columns with dates of minutes, messages and internet sessions indicate that the data comes from 351 days which makes sense since the data comes only from 2018. Let's verify that there are no records that do not belong to 2018."
   ]
  },
  {
   "cell_type": "code",
   "execution_count": 16,
   "id": "c9e72c76",
   "metadata": {},
   "outputs": [
    {
     "name": "stdout",
     "output_type": "stream",
     "text": [
      "Empty DataFrame\n",
      "Columns: [user_id, first_name, last_name, age, city, reg_date, plan, churn_date]\n",
      "Index: []\n",
      "Empty DataFrame\n",
      "Columns: [id, user_id, call_date, duration]\n",
      "Index: []\n",
      "Empty DataFrame\n",
      "Columns: [id, user_id, message_date]\n",
      "Index: []\n",
      "Empty DataFrame\n",
      "Columns: [id, user_id, session_date, mb_used]\n",
      "Index: []\n"
     ]
    }
   ],
   "source": [
    "# Print cases that are not from 2018, \n",
    "# excluding 'churn_date' \n",
    "for t in tables:\n",
    "    for c in t.filter(regex='_date$', axis=1):\n",
    "        if c != 'churn_date':\n",
    "            print(t.loc[t[c].dt.year != 2018])"
   ]
  },
  {
   "cell_type": "markdown",
   "id": "20a6260d",
   "metadata": {},
   "source": [
    "Apparently no cases were recorded outside of 2018. "
   ]
  },
  {
   "cell_type": "code",
   "execution_count": 17,
   "id": "f6ee374e",
   "metadata": {},
   "outputs": [],
   "source": [
    "# Transform MB to GB\n",
    "plans.iloc[0, 1] = 15360 # Para plan Surf equivalente a 15GB\n",
    "plans.iloc[1, 1] = 13312 # Para plan Ultimate equivalente a 13GB"
   ]
  },
  {
   "cell_type": "markdown",
   "id": "c853bb02",
   "metadata": {},
   "source": [
    "[Return project's stages](#preparacion)"
   ]
  },
  {
   "cell_type": "markdown",
   "id": "fad4b0c2",
   "metadata": {},
   "source": [
    "## Data aggregation by user <a id='3.2'></a>\n",
    "\n",
    "In this second sub-stage we will aggregate data by user to find the following information:\n",
    "\n",
    "1. [Number of calls and minutes used monthly](#3.2.1)\n",
    "2. [Number of SMS sent monthly](#3.2.2)\n",
    "3. [Monthly data volume](#3.2.3)\n",
    "4. [Monthly revenue from each user](#3.2.4)"
   ]
  },
  {
   "cell_type": "markdown",
   "id": "0983326f",
   "metadata": {},
   "source": [
    "### Number of calls and minutes used monthly <a id='3.2.1'></a>\n",
    "\n",
    "We are going to work with the **`calls`** table which contains information about each user's calls and their duration. Calls are rounded up to the nearest minute regardless of their duration, e.g. a 5 second call is rounded up to 1 minute. We are going to save the rounded values in a new column called `minutes`. \n",
    "\n",
    "Then we are going to group by user the minutes consumed monthly, for this we are going to create the column `month` which will contain the name of the month to make the grouping of the number of monthly calls per user. \n",
    "\n",
    "The number of calls made and minutes used per user per month will be stored in the table **`mthly_user_minutes`** which will contain the following columns:\n",
    "\n",
    "* `user_id`\n",
    "* `month`: number of the month of service\n",
    "* `month_name`\n",
    "* `num_calls`\n",
    "* `mthly_minutes`"
   ]
  },
  {
   "cell_type": "code",
   "execution_count": 18,
   "id": "831ab666",
   "metadata": {},
   "outputs": [],
   "source": [
    "# Create 'minutes' column and store rounded values of 'duration'.\n",
    "calls['minutes'] = calls['duration'].apply(np.ceil)\n",
    "\n",
    "# Create column 'month' to store the number of the month\n",
    "calls['month'] = calls['call_date'].dt.month\n",
    "\n",
    "# Create column 'month_name' to store the month name\n",
    "month_dict = {1:'Jan', 2:'Feb', 3:'Mar', 4:'Apr', 5:'May', 6:'Jun', \n",
    "              7:'Jul', 8:'Aug', 9:'Sep', 10:'Oct', 11:'Nov', 12:'Dic'}\n",
    "calls['month_name'] = calls['month'].map(month_dict)"
   ]
  },
  {
   "cell_type": "code",
   "execution_count": 19,
   "id": "3149e298",
   "metadata": {},
   "outputs": [
    {
     "name": "stdout",
     "output_type": "stream",
     "text": [
      "(2258, 5)\n"
     ]
    },
    {
     "data": {
      "text/html": [
       "<div>\n",
       "<style scoped>\n",
       "    .dataframe tbody tr th:only-of-type {\n",
       "        vertical-align: middle;\n",
       "    }\n",
       "\n",
       "    .dataframe tbody tr th {\n",
       "        vertical-align: top;\n",
       "    }\n",
       "\n",
       "    .dataframe thead th {\n",
       "        text-align: right;\n",
       "    }\n",
       "</style>\n",
       "<table border=\"1\" class=\"dataframe\">\n",
       "  <thead>\n",
       "    <tr style=\"text-align: right;\">\n",
       "      <th></th>\n",
       "      <th>user_id</th>\n",
       "      <th>month</th>\n",
       "      <th>month_name</th>\n",
       "      <th>num_calls</th>\n",
       "      <th>mthly_minutes</th>\n",
       "    </tr>\n",
       "  </thead>\n",
       "  <tbody>\n",
       "    <tr>\n",
       "      <th>0</th>\n",
       "      <td>1000</td>\n",
       "      <td>12</td>\n",
       "      <td>Dic</td>\n",
       "      <td>16</td>\n",
       "      <td>124.0</td>\n",
       "    </tr>\n",
       "    <tr>\n",
       "      <th>1</th>\n",
       "      <td>1001</td>\n",
       "      <td>8</td>\n",
       "      <td>Aug</td>\n",
       "      <td>27</td>\n",
       "      <td>182.0</td>\n",
       "    </tr>\n",
       "    <tr>\n",
       "      <th>2</th>\n",
       "      <td>1001</td>\n",
       "      <td>9</td>\n",
       "      <td>Sep</td>\n",
       "      <td>49</td>\n",
       "      <td>315.0</td>\n",
       "    </tr>\n",
       "    <tr>\n",
       "      <th>3</th>\n",
       "      <td>1001</td>\n",
       "      <td>10</td>\n",
       "      <td>Oct</td>\n",
       "      <td>65</td>\n",
       "      <td>393.0</td>\n",
       "    </tr>\n",
       "    <tr>\n",
       "      <th>4</th>\n",
       "      <td>1001</td>\n",
       "      <td>11</td>\n",
       "      <td>Nov</td>\n",
       "      <td>64</td>\n",
       "      <td>426.0</td>\n",
       "    </tr>\n",
       "    <tr>\n",
       "      <th>5</th>\n",
       "      <td>1001</td>\n",
       "      <td>12</td>\n",
       "      <td>Dic</td>\n",
       "      <td>56</td>\n",
       "      <td>412.0</td>\n",
       "    </tr>\n",
       "    <tr>\n",
       "      <th>6</th>\n",
       "      <td>1002</td>\n",
       "      <td>10</td>\n",
       "      <td>Oct</td>\n",
       "      <td>11</td>\n",
       "      <td>59.0</td>\n",
       "    </tr>\n",
       "    <tr>\n",
       "      <th>7</th>\n",
       "      <td>1002</td>\n",
       "      <td>11</td>\n",
       "      <td>Nov</td>\n",
       "      <td>55</td>\n",
       "      <td>386.0</td>\n",
       "    </tr>\n",
       "    <tr>\n",
       "      <th>8</th>\n",
       "      <td>1002</td>\n",
       "      <td>12</td>\n",
       "      <td>Dic</td>\n",
       "      <td>47</td>\n",
       "      <td>384.0</td>\n",
       "    </tr>\n",
       "    <tr>\n",
       "      <th>9</th>\n",
       "      <td>1003</td>\n",
       "      <td>12</td>\n",
       "      <td>Dic</td>\n",
       "      <td>149</td>\n",
       "      <td>1104.0</td>\n",
       "    </tr>\n",
       "  </tbody>\n",
       "</table>\n",
       "</div>"
      ],
      "text/plain": [
       "  user_id  month month_name  num_calls  mthly_minutes\n",
       "0    1000     12        Dic         16          124.0\n",
       "1    1001      8        Aug         27          182.0\n",
       "2    1001      9        Sep         49          315.0\n",
       "3    1001     10        Oct         65          393.0\n",
       "4    1001     11        Nov         64          426.0\n",
       "5    1001     12        Dic         56          412.0\n",
       "6    1002     10        Oct         11           59.0\n",
       "7    1002     11        Nov         55          386.0\n",
       "8    1002     12        Dic         47          384.0\n",
       "9    1003     12        Dic        149         1104.0"
      ]
     },
     "execution_count": 19,
     "metadata": {},
     "output_type": "execute_result"
    }
   ],
   "source": [
    "# Group number of calls and monthly minutes per user.\n",
    "mthly_user_minutes = calls.pivot_table(index=['user_id','month','month_name'], \n",
    "                                     aggfunc={'id':'count','minutes':'sum'}).reset_index()\n",
    "\n",
    "# Rename columns\n",
    "mthly_calls_cols = ['user_id','month','month_name','num_calls', 'mthly_minutes']\n",
    "mthly_user_minutes.columns = mthly_calls_cols\n",
    "\n",
    "# Sort values by user_id and month\n",
    "mthly_user_minutes = mthly_user_minutes.sort_values(by=['user_id','month'])\n",
    "\n",
    "# Visualize mthly_user_minutes\n",
    "print(mthly_user_minutes.shape)\n",
    "mthly_user_minutes.head(10)"
   ]
  },
  {
   "cell_type": "markdown",
   "id": "f0919e2a",
   "metadata": {},
   "source": [
    "Data on the number of calls made and minutes used per month per user have been aggregated in the table **`mthly_user_minutes`** which has 2258 records from 481 users. A look at the first 10 rows of the table indicates that some users have data for only a few months of 2018, for example user ``1001`` only has data from August to December.\n",
    "\n",
    "[Return project's stages](#preparacion)"
   ]
  },
  {
   "cell_type": "markdown",
   "id": "45752681",
   "metadata": {},
   "source": [
    "### Number of SMS sent monthly  <a id='3.2.2'></a>\n",
    "\n",
    "We are going to work with the **`messages`** table. The grouping is going to be similar to the previous section so it is necessary to first create columns for the month and month name. The grouped data will be stored in the **`mthly_user_sms`** table and will contain the following columns:\n",
    "\n",
    "* `user_id`\n",
    "* `month`: service month number\n",
    "* `month_name`\n",
    "* `mthly_sms`: monthly number of messages sent"
   ]
  },
  {
   "cell_type": "code",
   "execution_count": 20,
   "id": "a3aa9618",
   "metadata": {},
   "outputs": [],
   "source": [
    "# Create column 'month' \n",
    "messages['month'] = messages['message_date'].dt.month\n",
    "\n",
    "# Create column 'month_name' \n",
    "messages['month_name'] = messages['month'].map(month_dict)"
   ]
  },
  {
   "cell_type": "code",
   "execution_count": 21,
   "id": "7030788b",
   "metadata": {},
   "outputs": [
    {
     "name": "stdout",
     "output_type": "stream",
     "text": [
      "(1806, 4)\n"
     ]
    },
    {
     "data": {
      "text/html": [
       "<div>\n",
       "<style scoped>\n",
       "    .dataframe tbody tr th:only-of-type {\n",
       "        vertical-align: middle;\n",
       "    }\n",
       "\n",
       "    .dataframe tbody tr th {\n",
       "        vertical-align: top;\n",
       "    }\n",
       "\n",
       "    .dataframe thead th {\n",
       "        text-align: right;\n",
       "    }\n",
       "</style>\n",
       "<table border=\"1\" class=\"dataframe\">\n",
       "  <thead>\n",
       "    <tr style=\"text-align: right;\">\n",
       "      <th></th>\n",
       "      <th>user_id</th>\n",
       "      <th>month</th>\n",
       "      <th>month_name</th>\n",
       "      <th>mthly_sms</th>\n",
       "    </tr>\n",
       "  </thead>\n",
       "  <tbody>\n",
       "    <tr>\n",
       "      <th>0</th>\n",
       "      <td>1000</td>\n",
       "      <td>12</td>\n",
       "      <td>Dic</td>\n",
       "      <td>11</td>\n",
       "    </tr>\n",
       "    <tr>\n",
       "      <th>1</th>\n",
       "      <td>1001</td>\n",
       "      <td>8</td>\n",
       "      <td>Aug</td>\n",
       "      <td>30</td>\n",
       "    </tr>\n",
       "    <tr>\n",
       "      <th>2</th>\n",
       "      <td>1001</td>\n",
       "      <td>9</td>\n",
       "      <td>Sep</td>\n",
       "      <td>44</td>\n",
       "    </tr>\n",
       "    <tr>\n",
       "      <th>3</th>\n",
       "      <td>1001</td>\n",
       "      <td>10</td>\n",
       "      <td>Oct</td>\n",
       "      <td>53</td>\n",
       "    </tr>\n",
       "    <tr>\n",
       "      <th>4</th>\n",
       "      <td>1001</td>\n",
       "      <td>11</td>\n",
       "      <td>Nov</td>\n",
       "      <td>36</td>\n",
       "    </tr>\n",
       "    <tr>\n",
       "      <th>5</th>\n",
       "      <td>1001</td>\n",
       "      <td>12</td>\n",
       "      <td>Dic</td>\n",
       "      <td>44</td>\n",
       "    </tr>\n",
       "    <tr>\n",
       "      <th>6</th>\n",
       "      <td>1002</td>\n",
       "      <td>10</td>\n",
       "      <td>Oct</td>\n",
       "      <td>15</td>\n",
       "    </tr>\n",
       "    <tr>\n",
       "      <th>7</th>\n",
       "      <td>1002</td>\n",
       "      <td>11</td>\n",
       "      <td>Nov</td>\n",
       "      <td>32</td>\n",
       "    </tr>\n",
       "    <tr>\n",
       "      <th>8</th>\n",
       "      <td>1002</td>\n",
       "      <td>12</td>\n",
       "      <td>Dic</td>\n",
       "      <td>41</td>\n",
       "    </tr>\n",
       "    <tr>\n",
       "      <th>9</th>\n",
       "      <td>1003</td>\n",
       "      <td>12</td>\n",
       "      <td>Dic</td>\n",
       "      <td>50</td>\n",
       "    </tr>\n",
       "  </tbody>\n",
       "</table>\n",
       "</div>"
      ],
      "text/plain": [
       "  user_id  month month_name  mthly_sms\n",
       "0    1000     12        Dic         11\n",
       "1    1001      8        Aug         30\n",
       "2    1001      9        Sep         44\n",
       "3    1001     10        Oct         53\n",
       "4    1001     11        Nov         36\n",
       "5    1001     12        Dic         44\n",
       "6    1002     10        Oct         15\n",
       "7    1002     11        Nov         32\n",
       "8    1002     12        Dic         41\n",
       "9    1003     12        Dic         50"
      ]
     },
     "execution_count": 21,
     "metadata": {},
     "output_type": "execute_result"
    }
   ],
   "source": [
    "# Group number of messages sent per month by user\n",
    "mthly_user_sms = messages.pivot_table(index=['user_id','month','month_name'], \n",
    "                                      values='id', aggfunc='count').reset_index()\n",
    "\n",
    "# Rename mthly_user_sms columns\n",
    "mthly_sms_cols = ['user_id','month','month_name', 'mthly_sms']\n",
    "mthly_user_sms.columns = mthly_sms_cols\n",
    "\n",
    "# Order by user_id and month ascending\n",
    "mthly_user_sms = mthly_user_sms.sort_values(by=['user_id','month'])\n",
    "\n",
    "print(mthly_user_sms.shape)\n",
    "mthly_user_sms.head(10)"
   ]
  },
  {
   "cell_type": "markdown",
   "id": "c6d4ed02",
   "metadata": {},
   "source": [
    "The data of the number of SMS sent per month per user have been grouped in the table **`mthly_user_minutes`** which has 1806 records of 402 users. We can also see that not all users sent SMS during the whole year.\n",
    "\n",
    "[Return project's stages](#preparacion)"
   ]
  },
  {
   "cell_type": "markdown",
   "id": "8a27466b",
   "metadata": {},
   "source": [
    "### Monthly data volume <a id='3.2.3' ></a>\n",
    "\n",
    "We are going to work with the **`internet`** table. We are going to group the amount of MB used monthly by each user. Once the data has been grouped we will round the MB to the higher GB (1024 MB = 1 GB). The data will be stored in the table **`mthly_user_gb`** and will contain the following columns:\n",
    "\n",
    "* `user_id`\n",
    "* `month`: service month number\n",
    "* `month_name`\n",
    "* `mthly_sessions`: monthly browsing sessions\n",
    "* `mthly_mb`: megabytes used per month\n",
    "* `mthly_gb`: gigabytes used per month (megabytes rounded up)"
   ]
  },
  {
   "cell_type": "code",
   "execution_count": 22,
   "id": "e352de5a",
   "metadata": {},
   "outputs": [],
   "source": [
    "# Create column 'month'\n",
    "internet['month'] = internet['session_date'].dt.month\n",
    "\n",
    "# Create column 'month_name'\n",
    "internet['month_name'] = internet['month'].map(month_dict)"
   ]
  },
  {
   "cell_type": "code",
   "execution_count": 23,
   "id": "d1b2aba9",
   "metadata": {},
   "outputs": [
    {
     "name": "stdout",
     "output_type": "stream",
     "text": [
      "(2277, 6)\n"
     ]
    },
    {
     "data": {
      "text/html": [
       "<div>\n",
       "<style scoped>\n",
       "    .dataframe tbody tr th:only-of-type {\n",
       "        vertical-align: middle;\n",
       "    }\n",
       "\n",
       "    .dataframe tbody tr th {\n",
       "        vertical-align: top;\n",
       "    }\n",
       "\n",
       "    .dataframe thead th {\n",
       "        text-align: right;\n",
       "    }\n",
       "</style>\n",
       "<table border=\"1\" class=\"dataframe\">\n",
       "  <thead>\n",
       "    <tr style=\"text-align: right;\">\n",
       "      <th></th>\n",
       "      <th>user_id</th>\n",
       "      <th>month</th>\n",
       "      <th>month_name</th>\n",
       "      <th>mthly_sessions</th>\n",
       "      <th>mthly_mb</th>\n",
       "      <th>mthly_gb</th>\n",
       "    </tr>\n",
       "  </thead>\n",
       "  <tbody>\n",
       "    <tr>\n",
       "      <th>0</th>\n",
       "      <td>1000</td>\n",
       "      <td>12</td>\n",
       "      <td>Dic</td>\n",
       "      <td>5</td>\n",
       "      <td>1901.47</td>\n",
       "      <td>2.0</td>\n",
       "    </tr>\n",
       "    <tr>\n",
       "      <th>1</th>\n",
       "      <td>1001</td>\n",
       "      <td>8</td>\n",
       "      <td>Aug</td>\n",
       "      <td>25</td>\n",
       "      <td>6919.15</td>\n",
       "      <td>7.0</td>\n",
       "    </tr>\n",
       "    <tr>\n",
       "      <th>2</th>\n",
       "      <td>1001</td>\n",
       "      <td>9</td>\n",
       "      <td>Sep</td>\n",
       "      <td>53</td>\n",
       "      <td>13314.82</td>\n",
       "      <td>14.0</td>\n",
       "    </tr>\n",
       "    <tr>\n",
       "      <th>3</th>\n",
       "      <td>1001</td>\n",
       "      <td>10</td>\n",
       "      <td>Oct</td>\n",
       "      <td>56</td>\n",
       "      <td>22330.49</td>\n",
       "      <td>22.0</td>\n",
       "    </tr>\n",
       "    <tr>\n",
       "      <th>4</th>\n",
       "      <td>1001</td>\n",
       "      <td>11</td>\n",
       "      <td>Nov</td>\n",
       "      <td>51</td>\n",
       "      <td>18504.30</td>\n",
       "      <td>19.0</td>\n",
       "    </tr>\n",
       "    <tr>\n",
       "      <th>5</th>\n",
       "      <td>1001</td>\n",
       "      <td>12</td>\n",
       "      <td>Dic</td>\n",
       "      <td>60</td>\n",
       "      <td>19369.18</td>\n",
       "      <td>19.0</td>\n",
       "    </tr>\n",
       "    <tr>\n",
       "      <th>6</th>\n",
       "      <td>1002</td>\n",
       "      <td>10</td>\n",
       "      <td>Oct</td>\n",
       "      <td>21</td>\n",
       "      <td>6552.01</td>\n",
       "      <td>7.0</td>\n",
       "    </tr>\n",
       "    <tr>\n",
       "      <th>7</th>\n",
       "      <td>1002</td>\n",
       "      <td>11</td>\n",
       "      <td>Nov</td>\n",
       "      <td>52</td>\n",
       "      <td>19345.08</td>\n",
       "      <td>19.0</td>\n",
       "    </tr>\n",
       "    <tr>\n",
       "      <th>8</th>\n",
       "      <td>1002</td>\n",
       "      <td>12</td>\n",
       "      <td>Dic</td>\n",
       "      <td>51</td>\n",
       "      <td>14396.24</td>\n",
       "      <td>15.0</td>\n",
       "    </tr>\n",
       "    <tr>\n",
       "      <th>9</th>\n",
       "      <td>1003</td>\n",
       "      <td>12</td>\n",
       "      <td>Dic</td>\n",
       "      <td>52</td>\n",
       "      <td>27044.14</td>\n",
       "      <td>27.0</td>\n",
       "    </tr>\n",
       "  </tbody>\n",
       "</table>\n",
       "</div>"
      ],
      "text/plain": [
       "  user_id  month month_name  mthly_sessions  mthly_mb  mthly_gb\n",
       "0    1000     12        Dic               5   1901.47       2.0\n",
       "1    1001      8        Aug              25   6919.15       7.0\n",
       "2    1001      9        Sep              53  13314.82      14.0\n",
       "3    1001     10        Oct              56  22330.49      22.0\n",
       "4    1001     11        Nov              51  18504.30      19.0\n",
       "5    1001     12        Dic              60  19369.18      19.0\n",
       "6    1002     10        Oct              21   6552.01       7.0\n",
       "7    1002     11        Nov              52  19345.08      19.0\n",
       "8    1002     12        Dic              51  14396.24      15.0\n",
       "9    1003     12        Dic              52  27044.14      27.0"
      ]
     },
     "execution_count": 23,
     "metadata": {},
     "output_type": "execute_result"
    }
   ],
   "source": [
    "# Grouo by MB by user\n",
    "mthly_user_gb = internet.pivot_table(index=['user_id','month','month_name'], \n",
    "                                      aggfunc={'id':'count','mb_used':'sum'}).reset_index()\n",
    "\n",
    "# Rename mthly_user_sms columns\n",
    "mthly_gb_cols = ['user_id','month','month_name', 'mthly_sessions','mthly_mb']\n",
    "mthly_user_gb.columns = mthly_gb_cols\n",
    "\n",
    "## Sort data by user_id and month in ascending order\n",
    "mthly_user_gb = mthly_user_gb.sort_values(by=['user_id','month'])\n",
    "\n",
    "# Gigabytes rounded\n",
    "mthly_user_gb['mthly_gb'] = np.ceil(mthly_user_gb['mthly_mb']/1024)\n",
    "\n",
    "# Head mthly_user_gb\n",
    "print(mthly_user_gb.shape)\n",
    "mthly_user_gb.head(10)"
   ]
  },
  {
   "cell_type": "markdown",
   "id": "04cf8958",
   "metadata": {},
   "source": [
    "The data on the number of GB used per month per user have been grouped in the table **`mthly_user_gb`** which has 2277 records from 489 users.\n",
    "\n",
    "[Return project's stages](#preparacion)"
   ]
  },
  {
   "cell_type": "markdown",
   "id": "6a027d69",
   "metadata": {},
   "source": [
    "### Monthly revenue from each user <a id='3.2.4' ></a>\n",
    "\n",
    "To conclude this stage we will calculate the monthly revenue that each user represented in 2018. For this, we have to take into account the tariff plan that each user has contracted to calculate the amount for excess consumption (i.e. minutes of calls, SMS sent and excess GB). For this we will follow the following strategy based on joining tables according to key fields.\n",
    "\n",
    "1. Let's join the table **`users`** with the table **`plans`** to have a table with the tariff plan of each user. We are going to join these tables in the table **`user_plan`**.\n",
    "\n",
    "\n",
    "2. Calculate the **monthly revenue per minutes`** for each user from the join of **`mthly_user_minutes`** with **`user_plan`**. Since not all users made use of the calling service, the merge will be of left type in the `user_id` field. The data will be stored in the **`mthly_revenue_calls`** table.\n",
    "\n",
    "\n",
    "3. Calculate the **monthly revenue per sms`** for each user by merging **`mthly_user_sms`** with **`mthly_user_plan`**. The join will be done following the same logic mentioned in point 2. The data will be stored in the **`mthly_revenue_sms`** table.\n",
    "\n",
    "\n",
    "4. Calculate the **monthly revenue per GB** for each user from the union of **`mthly_user_gb`** with **`user_plan`** following the same logic mentioned above. The data will be stored in the **`mthly_revenue_gb`** table.\n",
    "\n",
    "\n",
    "5. Calculate **`total monthly revenue in 2018`** per user for minutes, sms and GB. The join of this table will be by means of a full outer join in order not to lose cases with missing values. The join will be done sequentially from the tables generated in the previous points and by debugging columns in each step. The data will be stored in the table **`mothly_2018_revenue`**.\n",
    "\n",
    "[Return project's stages](#preparacion)"
   ]
  },
  {
   "cell_type": "markdown",
   "id": "bd9ce5a7",
   "metadata": {},
   "source": [
    "#### Tariff plan per user"
   ]
  },
  {
   "cell_type": "code",
   "execution_count": 24,
   "id": "2feb04c9",
   "metadata": {},
   "outputs": [],
   "source": [
    "# 1. user_plan\n",
    "user_plan = users.merge(plans, on='plan', how='left')"
   ]
  },
  {
   "cell_type": "code",
   "execution_count": 25,
   "id": "ce5304c3",
   "metadata": {},
   "outputs": [
    {
     "name": "stdout",
     "output_type": "stream",
     "text": [
      "plan\n",
      "surf        339\n",
      "ultimate    161\n",
      "dtype: int64\n"
     ]
    }
   ],
   "source": [
    "print(user_plan.value_counts('plan'))"
   ]
  },
  {
   "cell_type": "markdown",
   "id": "71ad2c95",
   "metadata": {},
   "source": [
    "Of our sample of 500 Megaline users, 339 (67.8%) are on the **Surf** plan while 161 (32.2%) are on the **Ultimate** plan."
   ]
  },
  {
   "cell_type": "markdown",
   "id": "6282aa8c",
   "metadata": {},
   "source": [
    "#### Monthly call revenue"
   ]
  },
  {
   "cell_type": "code",
   "execution_count": 26,
   "id": "0855e261",
   "metadata": {},
   "outputs": [],
   "source": [
    "# 2. mthly_revenue_minutes\n",
    "mthly_revenue_minutes = mthly_user_minutes.merge(user_plan, on='user_id', how = 'left')\n",
    "\n",
    "# Column selection\n",
    "mthly_revenue_minutes = mthly_revenue_minutes[['user_id','month','month_name','mthly_minutes','plan',\n",
    "                                       'minutes_included','usd_monthly_pay','usd_per_minute']]"
   ]
  },
  {
   "cell_type": "code",
   "execution_count": 27,
   "id": "78360223",
   "metadata": {},
   "outputs": [],
   "source": [
    "# Function extra_call for calculating exceding fees\n",
    "def extra_call(row):\n",
    "    limit = row['minutes_included']\n",
    "    mthly_min = row['mthly_minutes']\n",
    "    fare = row['usd_per_minute']\n",
    "    difference = mthly_min - limit\n",
    "    \n",
    "    if difference > 0:\n",
    "        return difference * fare\n",
    "    else:\n",
    "        return 0"
   ]
  },
  {
   "cell_type": "code",
   "execution_count": 28,
   "id": "9c14fba4",
   "metadata": {},
   "outputs": [
    {
     "name": "stdout",
     "output_type": "stream",
     "text": [
      "(2258, 10)\n",
      "481\n"
     ]
    },
    {
     "data": {
      "text/html": [
       "<div>\n",
       "<style scoped>\n",
       "    .dataframe tbody tr th:only-of-type {\n",
       "        vertical-align: middle;\n",
       "    }\n",
       "\n",
       "    .dataframe tbody tr th {\n",
       "        vertical-align: top;\n",
       "    }\n",
       "\n",
       "    .dataframe thead th {\n",
       "        text-align: right;\n",
       "    }\n",
       "</style>\n",
       "<table border=\"1\" class=\"dataframe\">\n",
       "  <thead>\n",
       "    <tr style=\"text-align: right;\">\n",
       "      <th></th>\n",
       "      <th>user_id</th>\n",
       "      <th>month</th>\n",
       "      <th>month_name</th>\n",
       "      <th>mthly_minutes</th>\n",
       "      <th>plan</th>\n",
       "      <th>minutes_included</th>\n",
       "      <th>usd_monthly_pay</th>\n",
       "      <th>usd_per_minute</th>\n",
       "      <th>usd_exceed_minutes</th>\n",
       "      <th>usd_mthly_minutes</th>\n",
       "    </tr>\n",
       "  </thead>\n",
       "  <tbody>\n",
       "    <tr>\n",
       "      <th>0</th>\n",
       "      <td>1000</td>\n",
       "      <td>12</td>\n",
       "      <td>Dic</td>\n",
       "      <td>124.0</td>\n",
       "      <td>ultimate</td>\n",
       "      <td>3000</td>\n",
       "      <td>70</td>\n",
       "      <td>0.01</td>\n",
       "      <td>0.0</td>\n",
       "      <td>70.0</td>\n",
       "    </tr>\n",
       "    <tr>\n",
       "      <th>1</th>\n",
       "      <td>1001</td>\n",
       "      <td>8</td>\n",
       "      <td>Aug</td>\n",
       "      <td>182.0</td>\n",
       "      <td>surf</td>\n",
       "      <td>500</td>\n",
       "      <td>20</td>\n",
       "      <td>0.03</td>\n",
       "      <td>0.0</td>\n",
       "      <td>20.0</td>\n",
       "    </tr>\n",
       "    <tr>\n",
       "      <th>2</th>\n",
       "      <td>1001</td>\n",
       "      <td>9</td>\n",
       "      <td>Sep</td>\n",
       "      <td>315.0</td>\n",
       "      <td>surf</td>\n",
       "      <td>500</td>\n",
       "      <td>20</td>\n",
       "      <td>0.03</td>\n",
       "      <td>0.0</td>\n",
       "      <td>20.0</td>\n",
       "    </tr>\n",
       "    <tr>\n",
       "      <th>3</th>\n",
       "      <td>1001</td>\n",
       "      <td>10</td>\n",
       "      <td>Oct</td>\n",
       "      <td>393.0</td>\n",
       "      <td>surf</td>\n",
       "      <td>500</td>\n",
       "      <td>20</td>\n",
       "      <td>0.03</td>\n",
       "      <td>0.0</td>\n",
       "      <td>20.0</td>\n",
       "    </tr>\n",
       "    <tr>\n",
       "      <th>4</th>\n",
       "      <td>1001</td>\n",
       "      <td>11</td>\n",
       "      <td>Nov</td>\n",
       "      <td>426.0</td>\n",
       "      <td>surf</td>\n",
       "      <td>500</td>\n",
       "      <td>20</td>\n",
       "      <td>0.03</td>\n",
       "      <td>0.0</td>\n",
       "      <td>20.0</td>\n",
       "    </tr>\n",
       "  </tbody>\n",
       "</table>\n",
       "</div>"
      ],
      "text/plain": [
       "  user_id  month month_name  mthly_minutes      plan  minutes_included  \\\n",
       "0    1000     12        Dic          124.0  ultimate              3000   \n",
       "1    1001      8        Aug          182.0      surf               500   \n",
       "2    1001      9        Sep          315.0      surf               500   \n",
       "3    1001     10        Oct          393.0      surf               500   \n",
       "4    1001     11        Nov          426.0      surf               500   \n",
       "\n",
       "   usd_monthly_pay  usd_per_minute  usd_exceed_minutes  usd_mthly_minutes  \n",
       "0               70            0.01                 0.0               70.0  \n",
       "1               20            0.03                 0.0               20.0  \n",
       "2               20            0.03                 0.0               20.0  \n",
       "3               20            0.03                 0.0               20.0  \n",
       "4               20            0.03                 0.0               20.0  "
      ]
     },
     "execution_count": 28,
     "metadata": {},
     "output_type": "execute_result"
    }
   ],
   "source": [
    "# 'usd_exceed_minutes'\n",
    "mthly_revenue_minutes['usd_exceed_minutes'] = mthly_revenue_minutes.apply(extra_call, axis = 1)\n",
    "\n",
    "# Total monthly amount per user per minute: 'usd_mthly_minutes'\n",
    "mthly_revenue_minutes['usd_mthly_minutes'] = mthly_revenue_minutes['usd_monthly_pay'] + mthly_revenue_minutes['usd_exceed_minutes']\n",
    "\n",
    "# Head mthly_revenue_calls\n",
    "print(mthly_revenue_minutes.shape)\n",
    "print(mthly_revenue_minutes['user_id'].nunique())\n",
    "mthly_revenue_minutes.head()"
   ]
  },
  {
   "cell_type": "code",
   "execution_count": 29,
   "id": "d944b666",
   "metadata": {},
   "outputs": [
    {
     "data": {
      "text/plain": [
       "plan\n",
       "surf        50.3\n",
       "ultimate    70.0\n",
       "Name: usd_mthly_minutes, dtype: float64"
      ]
     },
     "execution_count": 29,
     "metadata": {},
     "output_type": "execute_result"
    }
   ],
   "source": [
    "# Maximum revenue per plan type\n",
    "mthly_revenue_minutes.groupby('plan')['usd_mthly_minutes'].max()"
   ]
  },
  {
   "cell_type": "code",
   "execution_count": 30,
   "id": "b650fcc9",
   "metadata": {},
   "outputs": [
    {
     "name": "stdout",
     "output_type": "stream",
     "text": [
      "566\n",
      "0\n"
     ]
    }
   ],
   "source": [
    "# How many times are the included calls exceeded per type of plan?\n",
    "print(len(mthly_revenue_minutes.query('plan == \"surf\" and usd_mthly_minutes > 20'))) #  Surf\n",
    "print(len(mthly_revenue_minutes.query('plan == \"ultimate\" and usd_mthly_minutes > 70'))) # Ultimate"
   ]
  },
  {
   "cell_type": "markdown",
   "id": "cb6e93a1",
   "metadata": {},
   "source": [
    "It appears that some users of the **Surf** plan exceed the amount of minutes included in their plan (500 minutes) generating revenue from overage calls. Users of the **Ultimate** plan never exceed the limit of minutes included in their plan (3000 minutes). "
   ]
  },
  {
   "cell_type": "markdown",
   "id": "d34ce34e",
   "metadata": {},
   "source": [
    "#### Monthly SMS revenue"
   ]
  },
  {
   "cell_type": "code",
   "execution_count": 31,
   "id": "b3e68d83",
   "metadata": {},
   "outputs": [],
   "source": [
    "# 3. mthly_revenue_sms: monthly SMS revenue per user\n",
    "mthly_revenue_sms = mthly_user_sms.merge(user_plan, on='user_id', how = 'left')\n",
    "\n",
    "# Column selection\n",
    "mthly_revenue_sms = mthly_revenue_sms[['user_id','month','month_name','mthly_sms','plan',\n",
    "                                       'messages_included','usd_monthly_pay','usd_per_message']]"
   ]
  },
  {
   "cell_type": "code",
   "execution_count": 32,
   "id": "312dd7b6",
   "metadata": {},
   "outputs": [],
   "source": [
    "# Calculation of extra SMS fee with the function extra_sms\n",
    "def extra_sms(row):\n",
    "    limit = row['messages_included']\n",
    "    mthly_sms = row['mthly_sms']\n",
    "    fare = row['usd_per_message']\n",
    "    difference = mthly_sms - limit\n",
    "    \n",
    "    if difference > 0:\n",
    "        return difference * fare\n",
    "    else:\n",
    "        return 0"
   ]
  },
  {
   "cell_type": "code",
   "execution_count": 33,
   "id": "492557db",
   "metadata": {},
   "outputs": [
    {
     "name": "stdout",
     "output_type": "stream",
     "text": [
      "(1806, 10)\n",
      "402\n"
     ]
    },
    {
     "data": {
      "text/html": [
       "<div>\n",
       "<style scoped>\n",
       "    .dataframe tbody tr th:only-of-type {\n",
       "        vertical-align: middle;\n",
       "    }\n",
       "\n",
       "    .dataframe tbody tr th {\n",
       "        vertical-align: top;\n",
       "    }\n",
       "\n",
       "    .dataframe thead th {\n",
       "        text-align: right;\n",
       "    }\n",
       "</style>\n",
       "<table border=\"1\" class=\"dataframe\">\n",
       "  <thead>\n",
       "    <tr style=\"text-align: right;\">\n",
       "      <th></th>\n",
       "      <th>user_id</th>\n",
       "      <th>month</th>\n",
       "      <th>month_name</th>\n",
       "      <th>mthly_sms</th>\n",
       "      <th>plan</th>\n",
       "      <th>messages_included</th>\n",
       "      <th>usd_monthly_pay</th>\n",
       "      <th>usd_per_message</th>\n",
       "      <th>usd_exceed_sms</th>\n",
       "      <th>usd_mthly_sms</th>\n",
       "    </tr>\n",
       "  </thead>\n",
       "  <tbody>\n",
       "    <tr>\n",
       "      <th>0</th>\n",
       "      <td>1000</td>\n",
       "      <td>12</td>\n",
       "      <td>Dic</td>\n",
       "      <td>11</td>\n",
       "      <td>ultimate</td>\n",
       "      <td>1000</td>\n",
       "      <td>70</td>\n",
       "      <td>0.01</td>\n",
       "      <td>0.00</td>\n",
       "      <td>70.00</td>\n",
       "    </tr>\n",
       "    <tr>\n",
       "      <th>1</th>\n",
       "      <td>1001</td>\n",
       "      <td>8</td>\n",
       "      <td>Aug</td>\n",
       "      <td>30</td>\n",
       "      <td>surf</td>\n",
       "      <td>50</td>\n",
       "      <td>20</td>\n",
       "      <td>0.03</td>\n",
       "      <td>0.00</td>\n",
       "      <td>20.00</td>\n",
       "    </tr>\n",
       "    <tr>\n",
       "      <th>2</th>\n",
       "      <td>1001</td>\n",
       "      <td>9</td>\n",
       "      <td>Sep</td>\n",
       "      <td>44</td>\n",
       "      <td>surf</td>\n",
       "      <td>50</td>\n",
       "      <td>20</td>\n",
       "      <td>0.03</td>\n",
       "      <td>0.00</td>\n",
       "      <td>20.00</td>\n",
       "    </tr>\n",
       "    <tr>\n",
       "      <th>3</th>\n",
       "      <td>1001</td>\n",
       "      <td>10</td>\n",
       "      <td>Oct</td>\n",
       "      <td>53</td>\n",
       "      <td>surf</td>\n",
       "      <td>50</td>\n",
       "      <td>20</td>\n",
       "      <td>0.03</td>\n",
       "      <td>0.09</td>\n",
       "      <td>20.09</td>\n",
       "    </tr>\n",
       "    <tr>\n",
       "      <th>4</th>\n",
       "      <td>1001</td>\n",
       "      <td>11</td>\n",
       "      <td>Nov</td>\n",
       "      <td>36</td>\n",
       "      <td>surf</td>\n",
       "      <td>50</td>\n",
       "      <td>20</td>\n",
       "      <td>0.03</td>\n",
       "      <td>0.00</td>\n",
       "      <td>20.00</td>\n",
       "    </tr>\n",
       "  </tbody>\n",
       "</table>\n",
       "</div>"
      ],
      "text/plain": [
       "  user_id  month month_name  mthly_sms      plan  messages_included  \\\n",
       "0    1000     12        Dic         11  ultimate               1000   \n",
       "1    1001      8        Aug         30      surf                 50   \n",
       "2    1001      9        Sep         44      surf                 50   \n",
       "3    1001     10        Oct         53      surf                 50   \n",
       "4    1001     11        Nov         36      surf                 50   \n",
       "\n",
       "   usd_monthly_pay  usd_per_message  usd_exceed_sms  usd_mthly_sms  \n",
       "0               70             0.01            0.00          70.00  \n",
       "1               20             0.03            0.00          20.00  \n",
       "2               20             0.03            0.00          20.00  \n",
       "3               20             0.03            0.09          20.09  \n",
       "4               20             0.03            0.00          20.00  "
      ]
     },
     "execution_count": 33,
     "metadata": {},
     "output_type": "execute_result"
    }
   ],
   "source": [
    "# Amount generated from extra calls: 'usd_exceed_calls'\n",
    "mthly_revenue_sms['usd_exceed_sms'] = mthly_revenue_sms.apply(extra_sms, axis = 1)\n",
    "\n",
    "# Total monthly amount per user per call: 'usd_mthly_calls'\n",
    "mthly_revenue_sms['usd_mthly_sms'] = mthly_revenue_sms['usd_monthly_pay'] + mthly_revenue_sms['usd_exceed_sms']\n",
    "\n",
    "# Head mthly_revenue_calls\n",
    "print(mthly_revenue_sms.shape)\n",
    "print(mthly_revenue_sms['user_id'].nunique())\n",
    "mthly_revenue_sms.head()"
   ]
  },
  {
   "cell_type": "code",
   "execution_count": 34,
   "id": "ffbb3827",
   "metadata": {},
   "outputs": [
    {
     "data": {
      "text/plain": [
       "plan\n",
       "surf        26.48\n",
       "ultimate    70.00\n",
       "Name: usd_mthly_sms, dtype: float64"
      ]
     },
     "execution_count": 34,
     "metadata": {},
     "output_type": "execute_result"
    }
   ],
   "source": [
    "# Maximum revenue per plan type\n",
    "mthly_revenue_sms.groupby('plan')['usd_mthly_sms'].max()"
   ]
  },
  {
   "cell_type": "code",
   "execution_count": 35,
   "id": "5b1bf6f6",
   "metadata": {},
   "outputs": [
    {
     "name": "stdout",
     "output_type": "stream",
     "text": [
      "340\n",
      "0\n"
     ]
    }
   ],
   "source": [
    "# How many times do you exceed the number of sms included per type of plan?\n",
    "print(len(mthly_revenue_sms.query('plan == \"surf\" and usd_mthly_sms > 20'))) # Para plan Surf\n",
    "print(len(mthly_revenue_sms.query('plan == \"ultimate\" and usd_mthly_sms > 70'))) # Para plan Ultimate"
   ]
  },
  {
   "cell_type": "markdown",
   "id": "eaa86199",
   "metadata": {},
   "source": [
    "Again, some customers with the **Surf** plan exceed the monthly SMS limit (50) generating additional income to the contracted plan. Customers with the **Ultimate** plan never exceed the monthly SMS limit (1000)."
   ]
  },
  {
   "cell_type": "markdown",
   "id": "deab7411",
   "metadata": {},
   "source": [
    "#### Monthly revenue per GB"
   ]
  },
  {
   "cell_type": "code",
   "execution_count": 36,
   "id": "4585bdf7",
   "metadata": {},
   "outputs": [],
   "source": [
    "# mthly_revenue_gb\n",
    "mthly_revenue_gb = mthly_user_gb.merge(user_plan, on='user_id', how = 'left')\n",
    "\n",
    "# Column selection\n",
    "mthly_revenue_gb = mthly_revenue_gb[['user_id','month','month_name','mthly_sessions','mthly_gb','plan',\n",
    "                                       'mb_per_month_included','usd_monthly_pay','usd_per_gb']]"
   ]
  },
  {
   "cell_type": "code",
   "execution_count": 37,
   "id": "97fa1b4a",
   "metadata": {},
   "outputs": [],
   "source": [
    "# Calculation of extra fee per GB with the function extra_gb\n",
    "def extra_gb(row):\n",
    "    limit_gb = row['mb_per_month_included'] / 1024\n",
    "    mthly_gb = row['mthly_gb']\n",
    "    fare = row['usd_per_gb']\n",
    "    difference = mthly_gb - limit_gb\n",
    "    \n",
    "    if difference > 0:\n",
    "        return difference * fare\n",
    "    else:\n",
    "        return 0"
   ]
  },
  {
   "cell_type": "code",
   "execution_count": 38,
   "id": "1a15ba2c",
   "metadata": {},
   "outputs": [
    {
     "name": "stdout",
     "output_type": "stream",
     "text": [
      "(2277, 11)\n",
      "489\n"
     ]
    },
    {
     "data": {
      "text/html": [
       "<div>\n",
       "<style scoped>\n",
       "    .dataframe tbody tr th:only-of-type {\n",
       "        vertical-align: middle;\n",
       "    }\n",
       "\n",
       "    .dataframe tbody tr th {\n",
       "        vertical-align: top;\n",
       "    }\n",
       "\n",
       "    .dataframe thead th {\n",
       "        text-align: right;\n",
       "    }\n",
       "</style>\n",
       "<table border=\"1\" class=\"dataframe\">\n",
       "  <thead>\n",
       "    <tr style=\"text-align: right;\">\n",
       "      <th></th>\n",
       "      <th>user_id</th>\n",
       "      <th>month</th>\n",
       "      <th>month_name</th>\n",
       "      <th>mthly_sessions</th>\n",
       "      <th>mthly_gb</th>\n",
       "      <th>plan</th>\n",
       "      <th>mb_per_month_included</th>\n",
       "      <th>usd_monthly_pay</th>\n",
       "      <th>usd_per_gb</th>\n",
       "      <th>usd_exceed_gb</th>\n",
       "      <th>usd_mthly_gb</th>\n",
       "    </tr>\n",
       "  </thead>\n",
       "  <tbody>\n",
       "    <tr>\n",
       "      <th>0</th>\n",
       "      <td>1000</td>\n",
       "      <td>12</td>\n",
       "      <td>Dic</td>\n",
       "      <td>5</td>\n",
       "      <td>2.0</td>\n",
       "      <td>ultimate</td>\n",
       "      <td>13312</td>\n",
       "      <td>70</td>\n",
       "      <td>7</td>\n",
       "      <td>0.0</td>\n",
       "      <td>70.0</td>\n",
       "    </tr>\n",
       "    <tr>\n",
       "      <th>1</th>\n",
       "      <td>1001</td>\n",
       "      <td>8</td>\n",
       "      <td>Aug</td>\n",
       "      <td>25</td>\n",
       "      <td>7.0</td>\n",
       "      <td>surf</td>\n",
       "      <td>15360</td>\n",
       "      <td>20</td>\n",
       "      <td>10</td>\n",
       "      <td>0.0</td>\n",
       "      <td>20.0</td>\n",
       "    </tr>\n",
       "    <tr>\n",
       "      <th>2</th>\n",
       "      <td>1001</td>\n",
       "      <td>9</td>\n",
       "      <td>Sep</td>\n",
       "      <td>53</td>\n",
       "      <td>14.0</td>\n",
       "      <td>surf</td>\n",
       "      <td>15360</td>\n",
       "      <td>20</td>\n",
       "      <td>10</td>\n",
       "      <td>0.0</td>\n",
       "      <td>20.0</td>\n",
       "    </tr>\n",
       "    <tr>\n",
       "      <th>3</th>\n",
       "      <td>1001</td>\n",
       "      <td>10</td>\n",
       "      <td>Oct</td>\n",
       "      <td>56</td>\n",
       "      <td>22.0</td>\n",
       "      <td>surf</td>\n",
       "      <td>15360</td>\n",
       "      <td>20</td>\n",
       "      <td>10</td>\n",
       "      <td>70.0</td>\n",
       "      <td>90.0</td>\n",
       "    </tr>\n",
       "    <tr>\n",
       "      <th>4</th>\n",
       "      <td>1001</td>\n",
       "      <td>11</td>\n",
       "      <td>Nov</td>\n",
       "      <td>51</td>\n",
       "      <td>19.0</td>\n",
       "      <td>surf</td>\n",
       "      <td>15360</td>\n",
       "      <td>20</td>\n",
       "      <td>10</td>\n",
       "      <td>40.0</td>\n",
       "      <td>60.0</td>\n",
       "    </tr>\n",
       "  </tbody>\n",
       "</table>\n",
       "</div>"
      ],
      "text/plain": [
       "  user_id  month month_name  mthly_sessions  mthly_gb      plan  \\\n",
       "0    1000     12        Dic               5       2.0  ultimate   \n",
       "1    1001      8        Aug              25       7.0      surf   \n",
       "2    1001      9        Sep              53      14.0      surf   \n",
       "3    1001     10        Oct              56      22.0      surf   \n",
       "4    1001     11        Nov              51      19.0      surf   \n",
       "\n",
       "   mb_per_month_included  usd_monthly_pay  usd_per_gb  usd_exceed_gb  \\\n",
       "0                  13312               70           7            0.0   \n",
       "1                  15360               20          10            0.0   \n",
       "2                  15360               20          10            0.0   \n",
       "3                  15360               20          10           70.0   \n",
       "4                  15360               20          10           40.0   \n",
       "\n",
       "   usd_mthly_gb  \n",
       "0          70.0  \n",
       "1          20.0  \n",
       "2          20.0  \n",
       "3          90.0  \n",
       "4          60.0  "
      ]
     },
     "execution_count": 38,
     "metadata": {},
     "output_type": "execute_result"
    }
   ],
   "source": [
    "# Amount generated by extra calls: 'usd_exceed_calls'\n",
    "mthly_revenue_gb['usd_exceed_gb'] = mthly_revenue_gb.apply(extra_gb, axis = 1)\n",
    "\n",
    "# Total monthly amount per user per call: 'usd_mthly_calls'\n",
    "mthly_revenue_gb['usd_mthly_gb'] = mthly_revenue_gb['usd_monthly_pay'] + mthly_revenue_gb['usd_exceed_gb']\n",
    "\n",
    "# Head mthly_revenue_calls\n",
    "print(mthly_revenue_gb.shape)\n",
    "print(mthly_revenue_gb['user_id'].nunique())\n",
    "mthly_revenue_gb.head()"
   ]
  },
  {
   "cell_type": "code",
   "execution_count": 39,
   "id": "95b4eee2",
   "metadata": {},
   "outputs": [
    {
     "data": {
      "text/plain": [
       "plan\n",
       "surf        570.0\n",
       "ultimate    301.0\n",
       "Name: usd_mthly_gb, dtype: float64"
      ]
     },
     "execution_count": 39,
     "metadata": {},
     "output_type": "execute_result"
    }
   ],
   "source": [
    "# Maximum revenue per plan type\n",
    "mthly_revenue_gb.groupby('plan')['usd_mthly_gb'].max()"
   ]
  },
  {
   "cell_type": "code",
   "execution_count": 40,
   "id": "24d91cf6",
   "metadata": {},
   "outputs": [
    {
     "name": "stdout",
     "output_type": "stream",
     "text": [
      "911\n",
      "516\n"
     ]
    }
   ],
   "source": [
    "print(len(mthly_revenue_gb.query('plan == \"surf\" and usd_mthly_gb > 20'))) # Surf\n",
    "print(len(mthly_revenue_gb.query('plan == \"ultimate\" and usd_mthly_gb > 70'))) # Ultimate"
   ]
  },
  {
   "cell_type": "markdown",
   "id": "c5438c73",
   "metadata": {},
   "source": [
    "In both types of plans, some users exceed the GB limit included in their plan (**Surf**: 15 GB, **Ultimate**: 13 GB). It seems that the excess GB consumption represents a source of extra revenue in both plans for Megaline."
   ]
  },
  {
   "cell_type": "markdown",
   "id": "219c71b0",
   "metadata": {},
   "source": [
    "#### Total monthly revenues in 2018"
   ]
  },
  {
   "cell_type": "code",
   "execution_count": 41,
   "id": "038339bc",
   "metadata": {},
   "outputs": [
    {
     "name": "stdout",
     "output_type": "stream",
     "text": [
      "(500, 15)\n",
      "(2258, 10)\n",
      "(2277, 20)\n"
     ]
    }
   ],
   "source": [
    "# Join user_plan and mthly_revenue_calls in user_minutes\n",
    "user_minutes = user_plan.merge(mthly_revenue_minutes[['user_id','month','month_name','mthly_minutes',\n",
    "                                                      'usd_exceed_minutes','usd_mthly_minutes']],\n",
    "                                                   on='user_id',how='left')\n",
    "\n",
    "# Size of joined DataFrames\n",
    "print(user_plan.shape) # 500 users\n",
    "print(mthly_revenue_minutes.shape) # 481 users\n",
    "print(user_minutes.shape) # 500 users"
   ]
  },
  {
   "cell_type": "code",
   "execution_count": 42,
   "id": "5550eae2",
   "metadata": {},
   "outputs": [
    {
     "name": "stdout",
     "output_type": "stream",
     "text": [
      "(2277, 20)\n",
      "(1806, 10)\n",
      "(2277, 24)\n"
     ]
    }
   ],
   "source": [
    "# Join user_calls with mthly_revenue_sms in user_call_sms\n",
    "user_minutes_sms = user_minutes.merge(mthly_revenue_sms[['user_id','month','month_name','mthly_sms','usd_exceed_sms',\n",
    "                                                    'usd_mthly_sms']], on=['user_id','month'],how='left', \n",
    "                                                     suffixes=['_minutes','_sms'])\n",
    "\n",
    "# Size of DataFrames\n",
    "print(user_minutes.shape) # from 500 users\n",
    "print(mthly_revenue_sms.shape) # 402 users\n",
    "print(user_minutes_sms.shape) #  500 users "
   ]
  },
  {
   "cell_type": "code",
   "execution_count": 43,
   "id": "ded2cda7",
   "metadata": {},
   "outputs": [
    {
     "name": "stdout",
     "output_type": "stream",
     "text": [
      "(2277, 24)\n",
      "(2277, 11)\n",
      "(2277, 28)\n"
     ]
    }
   ],
   "source": [
    "# Join user_call_sms with mthly_revenue_gb in user_call_sms_gb\n",
    "user_minutes_sms_gb = user_minutes_sms.merge(mthly_revenue_gb[['user_id','month','month_name','mthly_gb','usd_exceed_gb',\n",
    "                                                          'usd_mthly_gb']], on=['user_id','month'],\n",
    "                                                           how='left').rename(columns={'month_name':'month_name_gb'})\n",
    "# Size of Dataframes\n",
    "print(user_minutes_sms.shape) # from 500 users\n",
    "print(mthly_revenue_gb.shape) # 402 users\n",
    "print(user_minutes_sms_gb.shape) # 500 users"
   ]
  },
  {
   "cell_type": "code",
   "execution_count": 44,
   "id": "a84cde15",
   "metadata": {},
   "outputs": [],
   "source": [
    "# Total monthly revenue per user = tariff + fees for excess minutes, sms and gb consumption\n",
    "user_minutes_sms_gb['usd_mthly_total_revenue'] = user_minutes_sms_gb[['usd_monthly_pay','usd_exceed_minutes','usd_exceed_sms','usd_exceed_gb']].sum(axis=1)"
   ]
  },
  {
   "cell_type": "code",
   "execution_count": 45,
   "id": "1fd7c356",
   "metadata": {},
   "outputs": [
    {
     "name": "stdout",
     "output_type": "stream",
     "text": [
      "(2277, 29)\n",
      "500\n",
      "user_id                       0\n",
      "first_name                    0\n",
      "last_name                     0\n",
      "age                           0\n",
      "city                          0\n",
      "reg_date                      0\n",
      "plan                          0\n",
      "churn_date                 2117\n",
      "messages_included             0\n",
      "mb_per_month_included         0\n",
      "minutes_included              0\n",
      "usd_monthly_pay               0\n",
      "usd_per_gb                    0\n",
      "usd_per_message               0\n",
      "usd_per_minute                0\n",
      "month                        19\n",
      "month_name_minutes           19\n",
      "mthly_minutes                19\n",
      "usd_exceed_minutes           19\n",
      "usd_mthly_minutes            19\n",
      "month_name_sms              504\n",
      "mthly_sms                   504\n",
      "usd_exceed_sms              504\n",
      "usd_mthly_sms               504\n",
      "month_name_gb                34\n",
      "mthly_gb                     34\n",
      "usd_exceed_gb                34\n",
      "usd_mthly_gb                 34\n",
      "usd_mthly_total_revenue       0\n",
      "dtype: int64\n"
     ]
    }
   ],
   "source": [
    "# Number of cases and resulting columns \n",
    "print(user_minutes_sms_gb.shape)\n",
    "\n",
    "# Users\n",
    "print(user_minutes_sms_gb['user_id'].nunique())\n",
    "\n",
    "# Missing values\n",
    "print(user_minutes_sms_gb.isna().sum())"
   ]
  },
  {
   "cell_type": "markdown",
   "id": "d32f20e7",
   "metadata": {},
   "source": [
    "The tables of monthly revenues per user per minutes, SMS and GB have been merged in a sequential manner, it was verified that there was no duplication of rows in each join. The table **`user_minutes_sms_gb`** contains the revenue generated by each user on a monthly basis during 2018. Not all users have data for each month of the year so the final table is not 6000 rows (500 users per 12 months) but 2277 rows.\n",
    "\n",
    "The missing value analysis shows that a high number of missing values for columns related to SMS followed by calls and GB used. This may be due to the fact that **not all users use all services included in their tariff**. For example, there may be users who only use minutes and GB but do not send any SMS per month which is logical as SMS has fallen into disuse thanks to instant messaging services (WhatsApp, Telegram, iMessages, Messenger, etc.)."
   ]
  },
  {
   "cell_type": "markdown",
   "id": "9262e46e",
   "metadata": {},
   "source": [
    "Now we are going to reduce the number of columns keeping only the user id and the data related to calls, sms and GB revenue. The data will be stored in the table **`megaline_revenue`** and will contain the following columns:\n",
    "\n",
    "* `user_id`\n",
    "* `city`\n",
    "* `plan`\n",
    "* `usd_monthly_pay`\n",
    "* `mthly_minutes`\n",
    "* `usd_exceed_minutes`\n",
    "* `mthly_sms`\n",
    "* `usd_exceed_sms`\n",
    "* `mthly_gb`\n",
    "* `usd_exceed_gb`\n",
    "* `usd_mthly_total_revenue`"
   ]
  },
  {
   "cell_type": "code",
   "execution_count": 46,
   "id": "612f9219",
   "metadata": {},
   "outputs": [],
   "source": [
    "# Column selection\n",
    "megaline_cols = ['user_id','city','plan','usd_monthly_pay',\n",
    "                'mthly_minutes', 'usd_exceed_minutes',\n",
    "                'mthly_sms','usd_exceed_sms',\n",
    "                'mthly_gb','usd_exceed_gb','usd_mthly_total_revenue']\n",
    "\n",
    "megaline_revenue = user_minutes_sms_gb[megaline_cols]"
   ]
  },
  {
   "cell_type": "code",
   "execution_count": 47,
   "id": "d16c0fd3",
   "metadata": {},
   "outputs": [
    {
     "name": "stdout",
     "output_type": "stream",
     "text": [
      "(2277, 11)\n"
     ]
    },
    {
     "data": {
      "text/html": [
       "<div>\n",
       "<style scoped>\n",
       "    .dataframe tbody tr th:only-of-type {\n",
       "        vertical-align: middle;\n",
       "    }\n",
       "\n",
       "    .dataframe tbody tr th {\n",
       "        vertical-align: top;\n",
       "    }\n",
       "\n",
       "    .dataframe thead th {\n",
       "        text-align: right;\n",
       "    }\n",
       "</style>\n",
       "<table border=\"1\" class=\"dataframe\">\n",
       "  <thead>\n",
       "    <tr style=\"text-align: right;\">\n",
       "      <th></th>\n",
       "      <th>user_id</th>\n",
       "      <th>city</th>\n",
       "      <th>plan</th>\n",
       "      <th>usd_monthly_pay</th>\n",
       "      <th>mthly_minutes</th>\n",
       "      <th>usd_exceed_minutes</th>\n",
       "      <th>mthly_sms</th>\n",
       "      <th>usd_exceed_sms</th>\n",
       "      <th>mthly_gb</th>\n",
       "      <th>usd_exceed_gb</th>\n",
       "      <th>usd_mthly_total_revenue</th>\n",
       "    </tr>\n",
       "  </thead>\n",
       "  <tbody>\n",
       "    <tr>\n",
       "      <th>0</th>\n",
       "      <td>1000</td>\n",
       "      <td>Atlanta-Sandy Springs-Roswell, GA MSA</td>\n",
       "      <td>ultimate</td>\n",
       "      <td>70</td>\n",
       "      <td>124.0</td>\n",
       "      <td>0.0</td>\n",
       "      <td>11.0</td>\n",
       "      <td>0.00</td>\n",
       "      <td>2.0</td>\n",
       "      <td>0.0</td>\n",
       "      <td>70.00</td>\n",
       "    </tr>\n",
       "    <tr>\n",
       "      <th>1</th>\n",
       "      <td>1001</td>\n",
       "      <td>Seattle-Tacoma-Bellevue, WA MSA</td>\n",
       "      <td>surf</td>\n",
       "      <td>20</td>\n",
       "      <td>182.0</td>\n",
       "      <td>0.0</td>\n",
       "      <td>30.0</td>\n",
       "      <td>0.00</td>\n",
       "      <td>7.0</td>\n",
       "      <td>0.0</td>\n",
       "      <td>20.00</td>\n",
       "    </tr>\n",
       "    <tr>\n",
       "      <th>2</th>\n",
       "      <td>1001</td>\n",
       "      <td>Seattle-Tacoma-Bellevue, WA MSA</td>\n",
       "      <td>surf</td>\n",
       "      <td>20</td>\n",
       "      <td>315.0</td>\n",
       "      <td>0.0</td>\n",
       "      <td>44.0</td>\n",
       "      <td>0.00</td>\n",
       "      <td>14.0</td>\n",
       "      <td>0.0</td>\n",
       "      <td>20.00</td>\n",
       "    </tr>\n",
       "    <tr>\n",
       "      <th>3</th>\n",
       "      <td>1001</td>\n",
       "      <td>Seattle-Tacoma-Bellevue, WA MSA</td>\n",
       "      <td>surf</td>\n",
       "      <td>20</td>\n",
       "      <td>393.0</td>\n",
       "      <td>0.0</td>\n",
       "      <td>53.0</td>\n",
       "      <td>0.09</td>\n",
       "      <td>22.0</td>\n",
       "      <td>70.0</td>\n",
       "      <td>90.09</td>\n",
       "    </tr>\n",
       "    <tr>\n",
       "      <th>4</th>\n",
       "      <td>1001</td>\n",
       "      <td>Seattle-Tacoma-Bellevue, WA MSA</td>\n",
       "      <td>surf</td>\n",
       "      <td>20</td>\n",
       "      <td>426.0</td>\n",
       "      <td>0.0</td>\n",
       "      <td>36.0</td>\n",
       "      <td>0.00</td>\n",
       "      <td>19.0</td>\n",
       "      <td>40.0</td>\n",
       "      <td>60.00</td>\n",
       "    </tr>\n",
       "  </tbody>\n",
       "</table>\n",
       "</div>"
      ],
      "text/plain": [
       "  user_id                                   city      plan  usd_monthly_pay  \\\n",
       "0    1000  Atlanta-Sandy Springs-Roswell, GA MSA  ultimate               70   \n",
       "1    1001        Seattle-Tacoma-Bellevue, WA MSA      surf               20   \n",
       "2    1001        Seattle-Tacoma-Bellevue, WA MSA      surf               20   \n",
       "3    1001        Seattle-Tacoma-Bellevue, WA MSA      surf               20   \n",
       "4    1001        Seattle-Tacoma-Bellevue, WA MSA      surf               20   \n",
       "\n",
       "   mthly_minutes  usd_exceed_minutes  mthly_sms  usd_exceed_sms  mthly_gb  \\\n",
       "0          124.0                 0.0       11.0            0.00       2.0   \n",
       "1          182.0                 0.0       30.0            0.00       7.0   \n",
       "2          315.0                 0.0       44.0            0.00      14.0   \n",
       "3          393.0                 0.0       53.0            0.09      22.0   \n",
       "4          426.0                 0.0       36.0            0.00      19.0   \n",
       "\n",
       "   usd_exceed_gb  usd_mthly_total_revenue  \n",
       "0            0.0                    70.00  \n",
       "1            0.0                    20.00  \n",
       "2            0.0                    20.00  \n",
       "3           70.0                    90.09  \n",
       "4           40.0                    60.00  "
      ]
     },
     "execution_count": 47,
     "metadata": {},
     "output_type": "execute_result"
    }
   ],
   "source": [
    "print(megaline_revenue.shape)\n",
    "megaline_revenue.head()"
   ]
  },
  {
   "cell_type": "markdown",
   "id": "29ec0dc3",
   "metadata": {},
   "source": [
    "Now let's **condense** the data by user into a single column for analysis. \n",
    "\n",
    "⚠️ Because the same user can carry multiple rows of data, this data could be considered as **repeated measures** that cannot be considered as independent measures since a person can have fixed consumption habits and this behavior can **affect the independence of the data**. Because of this condition, it is decided to average all the columns of usage and service payments in order to have a single average data for each variable per user. We will store this data in the table **`user_revenue`**."
   ]
  },
  {
   "cell_type": "code",
   "execution_count": 48,
   "id": "61ba353d",
   "metadata": {},
   "outputs": [],
   "source": [
    "# Condense data by user\n",
    "user_revenue = megaline_revenue.pivot_table(index=['user_id','plan','city']).reset_index()\n",
    "\n",
    "# Filling NaN with 0\n",
    "user_revenue = user_revenue.fillna(0)"
   ]
  },
  {
   "cell_type": "markdown",
   "id": "9b2f0428",
   "metadata": {},
   "source": [
    "**Intermediate conclusions\n",
    "\n",
    "We have aggregated the monthly data per user for minutes, SMS and GB which were stored in three tables.\n",
    "* **`mthly_user_minutes`**: monthly revenue data per minute\n",
    "* **`mthly_user_sms`**: monthly revenue data per SMS\n",
    "* **`mthly_user_gb`**: monthly revenue data per GB\n",
    "\n",
    "From these three tables the monthly revenue data per user was computed and the total monthly revenue per user was calculated. The resulting data were stored in the table **`megaline_revenue`** which consists of 2277 records from 500 users.\n",
    "\n",
    "Finally, the average number of minutes, SMS and GB used monthly per user was stored in the table **`user_revenue`** to have only one data per user, i.e. 500 records.\n",
    "\n",
    "[Return project's stages](#preparation)"
   ]
  },
  {
   "cell_type": "markdown",
   "id": "ede704bf",
   "metadata": {},
   "source": [
    "# Data analysis <a id='analisis'></a>\n",
    "\n",
    "In this **third stage** we will describe the behavior of customers according to their charging scheme (**Surf** *vs* **Ultimate**), we will calculate the mean, variance and standard deviation for:\n",
    "\n",
    "1. [Number of minutes used per month](#4.1)\n",
    "2. [Number of SMS used per month](#4.2)\n",
    "3. [GBs used per month](#4.3)\n",
    "\n",
    "For each of these three variables we will plot histograms to describe their distribution according to the tariff plan.\n",
    "\n",
    "[Regresar índice de etapas](#etapas)"
   ]
  },
  {
   "cell_type": "markdown",
   "id": "91bfc1a7",
   "metadata": {},
   "source": [
    "## Number of minutes monthly used <a id='4.1'></a>"
   ]
  },
  {
   "cell_type": "code",
   "execution_count": 49,
   "id": "6e913e7c",
   "metadata": {},
   "outputs": [
    {
     "data": {
      "text/html": [
       "<div>\n",
       "<style scoped>\n",
       "    .dataframe tbody tr th:only-of-type {\n",
       "        vertical-align: middle;\n",
       "    }\n",
       "\n",
       "    .dataframe tbody tr th {\n",
       "        vertical-align: top;\n",
       "    }\n",
       "\n",
       "    .dataframe thead tr th {\n",
       "        text-align: left;\n",
       "    }\n",
       "\n",
       "    .dataframe thead tr:last-of-type th {\n",
       "        text-align: right;\n",
       "    }\n",
       "</style>\n",
       "<table border=\"1\" class=\"dataframe\">\n",
       "  <thead>\n",
       "    <tr>\n",
       "      <th></th>\n",
       "      <th>count</th>\n",
       "      <th>mean</th>\n",
       "      <th>var</th>\n",
       "      <th>std</th>\n",
       "    </tr>\n",
       "    <tr>\n",
       "      <th></th>\n",
       "      <th>mthly_minutes</th>\n",
       "      <th>mthly_minutes</th>\n",
       "      <th>mthly_minutes</th>\n",
       "      <th>mthly_minutes</th>\n",
       "    </tr>\n",
       "    <tr>\n",
       "      <th>plan</th>\n",
       "      <th></th>\n",
       "      <th></th>\n",
       "      <th></th>\n",
       "      <th></th>\n",
       "    </tr>\n",
       "  </thead>\n",
       "  <tbody>\n",
       "    <tr>\n",
       "      <th>surf</th>\n",
       "      <td>339</td>\n",
       "      <td>401.649667</td>\n",
       "      <td>41947.386714</td>\n",
       "      <td>204.810612</td>\n",
       "    </tr>\n",
       "    <tr>\n",
       "      <th>ultimate</th>\n",
       "      <td>161</td>\n",
       "      <td>399.210867</td>\n",
       "      <td>42905.707051</td>\n",
       "      <td>207.136928</td>\n",
       "    </tr>\n",
       "  </tbody>\n",
       "</table>\n",
       "</div>"
      ],
      "text/plain": [
       "                 count          mean           var           std\n",
       "         mthly_minutes mthly_minutes mthly_minutes mthly_minutes\n",
       "plan                                                            \n",
       "surf               339    401.649667  41947.386714    204.810612\n",
       "ultimate           161    399.210867  42905.707051    207.136928"
      ]
     },
     "execution_count": 49,
     "metadata": {},
     "output_type": "execute_result"
    }
   ],
   "source": [
    "# Mean, variance, y std minutes\n",
    "user_revenue.pivot_table(index='plan', values='mthly_minutes',aggfunc=['count','mean','var','std'])"
   ]
  },
  {
   "cell_type": "code",
   "execution_count": 50,
   "id": "16ff83e6",
   "metadata": {},
   "outputs": [
    {
     "name": "stdout",
     "output_type": "stream",
     "text": [
      "0.32448377581120946\n",
      "0.0\n"
     ]
    }
   ],
   "source": [
    "# Probability of exceeding minutes in Surf plan (500 minutes)\n",
    "print(len(user_revenue.query('plan == \"surf\" and mthly_minutes > 500'))/339)\n",
    "\n",
    "# Probability of exceeding minutes in Ultimate plan (3000 minutes)\n",
    "print(len(user_revenue.query('plan == \"ultimate\" and mthly_minutes > 3000'))/161)"
   ]
  },
  {
   "cell_type": "code",
   "execution_count": 51,
   "id": "d6d37bac",
   "metadata": {},
   "outputs": [
    {
     "data": {
      "image/png": "[encoded data removed]",
      "text/plain": [
       "<Figure size 432x288 with 1 Axes>"
      ]
     },
     "metadata": {
      "needs_background": "light"
     },
     "output_type": "display_data"
    }
   ],
   "source": [
    "# Histogram minutes ysed by tariff type\n",
    "user_revenue.loc[user_revenue['plan']=='surf']['mthly_minutes'].hist(density=True,alpha=0.6, label='surf')\n",
    "user_revenue.loc[user_revenue['plan']=='ultimate']['mthly_minutes'].hist(density=True, alpha=0.3, label='ultimate')\n",
    "plt.xlabel('Monthly minutes')\n",
    "plt.ylabel('Probability')\n",
    "plt.legend()\n",
    "plt.show()"
   ]
  },
  {
   "cell_type": "markdown",
   "id": "36ccc017",
   "metadata": {},
   "source": [
    "**Description of the minutes distribution**\n",
    "\n",
    "* In both tariff plans the distribution of minutes used per month is slightly skewed to the right as there are many values to the right of the average minutes used. \n",
    "\n",
    "* Users of the **Surf** plan use on average **402 ± 205 minutes** per month (mean ± $\\sigma$); **32.4\\%** of users exceed the 500 minute limit included in their plan.\n",
    "\n",
    "* Users of the **Ultimate** plan use **400 ± 208 minutes** per month (mean ± $\\sigma$). No user exceeds the limit of 3000 minutes included in their plan.\n",
    "\n",
    "**Note**: mean values and rounded variances are presented in this and the following sections.\n",
    "\n",
    "[Return to top of section](#analisis) "
   ]
  },
  {
   "cell_type": "markdown",
   "id": "b2519331",
   "metadata": {},
   "source": [
    "## Number of SMS used per month <a id='4.2'></a>"
   ]
  },
  {
   "cell_type": "code",
   "execution_count": 52,
   "id": "3232265f",
   "metadata": {},
   "outputs": [
    {
     "data": {
      "text/html": [
       "<div>\n",
       "<style scoped>\n",
       "    .dataframe tbody tr th:only-of-type {\n",
       "        vertical-align: middle;\n",
       "    }\n",
       "\n",
       "    .dataframe tbody tr th {\n",
       "        vertical-align: top;\n",
       "    }\n",
       "\n",
       "    .dataframe thead tr th {\n",
       "        text-align: left;\n",
       "    }\n",
       "\n",
       "    .dataframe thead tr:last-of-type th {\n",
       "        text-align: right;\n",
       "    }\n",
       "</style>\n",
       "<table border=\"1\" class=\"dataframe\">\n",
       "  <thead>\n",
       "    <tr>\n",
       "      <th></th>\n",
       "      <th>count</th>\n",
       "      <th>mean</th>\n",
       "      <th>var</th>\n",
       "      <th>std</th>\n",
       "    </tr>\n",
       "    <tr>\n",
       "      <th></th>\n",
       "      <th>mthly_sms</th>\n",
       "      <th>mthly_sms</th>\n",
       "      <th>mthly_sms</th>\n",
       "      <th>mthly_sms</th>\n",
       "    </tr>\n",
       "    <tr>\n",
       "      <th>plan</th>\n",
       "      <th></th>\n",
       "      <th></th>\n",
       "      <th></th>\n",
       "      <th></th>\n",
       "    </tr>\n",
       "  </thead>\n",
       "  <tbody>\n",
       "    <tr>\n",
       "      <th>surf</th>\n",
       "      <td>339</td>\n",
       "      <td>30.978729</td>\n",
       "      <td>974.390013</td>\n",
       "      <td>31.215221</td>\n",
       "    </tr>\n",
       "    <tr>\n",
       "      <th>ultimate</th>\n",
       "      <td>161</td>\n",
       "      <td>37.372105</td>\n",
       "      <td>1100.579417</td>\n",
       "      <td>33.174982</td>\n",
       "    </tr>\n",
       "  </tbody>\n",
       "</table>\n",
       "</div>"
      ],
      "text/plain": [
       "             count       mean          var        std\n",
       "         mthly_sms  mthly_sms    mthly_sms  mthly_sms\n",
       "plan                                                 \n",
       "surf           339  30.978729   974.390013  31.215221\n",
       "ultimate       161  37.372105  1100.579417  33.174982"
      ]
     },
     "execution_count": 52,
     "metadata": {},
     "output_type": "execute_result"
    }
   ],
   "source": [
    "# Mean, variance and std of mthl_sms\n",
    "user_revenue.pivot_table(index='plan', values='mthly_sms',aggfunc=['count','mean','var','std'])"
   ]
  },
  {
   "cell_type": "code",
   "execution_count": 53,
   "id": "b4dffa02",
   "metadata": {},
   "outputs": [
    {
     "name": "stdout",
     "output_type": "stream",
     "text": [
      "0.23008849557522124\n",
      "0.0\n"
     ]
    }
   ],
   "source": [
    "# Probability of exceeding SMS in Surf plan (50 SMS)\n",
    "print(len(user_revenue.query('plan == \"surf\" and mthly_sms > 50'))/339)\n",
    "\n",
    "# Probability of exceeding SMS in ultimate plan (1000 minutes)\n",
    "print(len(user_revenue.query('plan == \"ultimate\" and mthly_sms > 1000'))/161)"
   ]
  },
  {
   "cell_type": "code",
   "execution_count": 54,
   "id": "c789a51d",
   "metadata": {},
   "outputs": [
    {
     "data": {
      "image/png": "[encoded data removed]",
      "text/plain": [
       "<Figure size 432x288 with 1 Axes>"
      ]
     },
     "metadata": {
      "needs_background": "light"
     },
     "output_type": "display_data"
    }
   ],
   "source": [
    "# Density histogram for SMS sent monthly by tariff type\n",
    "user_revenue.loc[user_revenue['plan']=='surf']['mthly_sms'].hist(density=True,alpha=0.6, label='surf')\n",
    "user_revenue.loc[user_revenue['plan']=='ultimate']['mthly_sms'].hist(density=True, alpha=0.3, label='ultimate')\n",
    "plt.xlabel('Monthly SMS')\n",
    "plt.ylabel('Probability')\n",
    "plt.legend()\n",
    "plt.show()"
   ]
  },
  {
   "cell_type": "markdown",
   "id": "1ba4f4a2",
   "metadata": {},
   "source": [
    "**Description of SMS distribution**\n",
    "\n",
    "* The distribution of the number of SMS sent monthly presents a distribution skewed strongly to the right for both types of users. \n",
    "\n",
    "* The average number of SMS sent by users of the **Surf** plan is **~31 ± 32 messages** (mean ± $\\sigma$). **23%** of the users sent more than 50 SMS per month exceeding the monthly limit.\n",
    "\n",
    "* The average number of SMS sent by users of the **Ultimate** plan is **~38 ± 34 messages** (mean ± $\\sigma$), users of this plan **never exceed the monthly limit** (1000 SMS).\n",
    "\n",
    "[Back to top of section](#analisis)"
   ]
  },
  {
   "cell_type": "markdown",
   "id": "60ea8a5a",
   "metadata": {},
   "source": [
    "## GBs used per month <a id='4.3'></a>"
   ]
  },
  {
   "cell_type": "code",
   "execution_count": 55,
   "id": "faeb0549",
   "metadata": {},
   "outputs": [
    {
     "data": {
      "text/html": [
       "<div>\n",
       "<style scoped>\n",
       "    .dataframe tbody tr th:only-of-type {\n",
       "        vertical-align: middle;\n",
       "    }\n",
       "\n",
       "    .dataframe tbody tr th {\n",
       "        vertical-align: top;\n",
       "    }\n",
       "\n",
       "    .dataframe thead tr th {\n",
       "        text-align: left;\n",
       "    }\n",
       "\n",
       "    .dataframe thead tr:last-of-type th {\n",
       "        text-align: right;\n",
       "    }\n",
       "</style>\n",
       "<table border=\"1\" class=\"dataframe\">\n",
       "  <thead>\n",
       "    <tr>\n",
       "      <th></th>\n",
       "      <th>count</th>\n",
       "      <th>mean</th>\n",
       "      <th>var</th>\n",
       "      <th>std</th>\n",
       "    </tr>\n",
       "    <tr>\n",
       "      <th></th>\n",
       "      <th>mthly_gb</th>\n",
       "      <th>mthly_gb</th>\n",
       "      <th>mthly_gb</th>\n",
       "      <th>mthly_gb</th>\n",
       "    </tr>\n",
       "    <tr>\n",
       "      <th>plan</th>\n",
       "      <th></th>\n",
       "      <th></th>\n",
       "      <th></th>\n",
       "      <th></th>\n",
       "    </tr>\n",
       "  </thead>\n",
       "  <tbody>\n",
       "    <tr>\n",
       "      <th>surf</th>\n",
       "      <td>339</td>\n",
       "      <td>15.348827</td>\n",
       "      <td>43.472406</td>\n",
       "      <td>6.593361</td>\n",
       "    </tr>\n",
       "    <tr>\n",
       "      <th>ultimate</th>\n",
       "      <td>161</td>\n",
       "      <td>15.640571</td>\n",
       "      <td>40.057883</td>\n",
       "      <td>6.329130</td>\n",
       "    </tr>\n",
       "  </tbody>\n",
       "</table>\n",
       "</div>"
      ],
      "text/plain": [
       "            count       mean        var       std\n",
       "         mthly_gb   mthly_gb   mthly_gb  mthly_gb\n",
       "plan                                             \n",
       "surf          339  15.348827  43.472406  6.593361\n",
       "ultimate      161  15.640571  40.057883  6.329130"
      ]
     },
     "execution_count": 55,
     "metadata": {},
     "output_type": "execute_result"
    }
   ],
   "source": [
    "# Mean, variance, and standard deviation of GB used per month\n",
    "user_revenue.pivot_table(index='plan', values='mthly_gb',aggfunc=['count','mean','var','std'])"
   ]
  },
  {
   "cell_type": "code",
   "execution_count": 56,
   "id": "73d76600",
   "metadata": {},
   "outputs": [
    {
     "name": "stdout",
     "output_type": "stream",
     "text": [
      "0.56047197640118\n",
      "0.7080745341614907\n"
     ]
    }
   ],
   "source": [
    "# Probability of exceeding SMS in Surf plan (50 SMS)\n",
    "print(len(user_revenue.query('plan == \"surf\" and mthly_gb > 15'))/339)\n",
    "\n",
    "# Chance of exceeding SMS in ultimate plan (1000 minutes)\n",
    "print(len(user_revenue.query('plan == \"ultimate\" and mthly_gb > 13'))/161)"
   ]
  },
  {
   "cell_type": "code",
   "execution_count": 57,
   "id": "e97af53a",
   "metadata": {},
   "outputs": [
    {
     "data": {
      "image/png": "[encoded data removed]",
      "text/plain": [
       "<Figure size 432x288 with 1 Axes>"
      ]
     },
     "metadata": {
      "needs_background": "light"
     },
     "output_type": "display_data"
    }
   ],
   "source": [
    "# Density histogram GB used per month by tariff type\n",
    "user_revenue.loc[user_revenue['plan']=='surf']['mthly_gb'].hist(density=True,range=(0,50),alpha=0.6, label='surf')\n",
    "user_revenue.loc[user_revenue['plan']=='ultimate']['mthly_gb'].hist(density=True, range=(0,50),alpha=0.3, label='ultimate')\n",
    "plt.xlabel('Monthly GB')\n",
    "plt.ylabel('Probability')\n",
    "plt.legend()\n",
    "plt.show()"
   ]
  },
  {
   "cell_type": "markdown",
   "id": "492532ed",
   "metadata": {},
   "source": [
    "**Description of the GB distribution**\n",
    "\n",
    "* The distribution of the number of GB used monthly presents a slightly skewed distribution to the right. \n",
    "\n",
    "* The average number of GB used in the **Surf** plan is **16 ± 7 GB** (mean ± $\\sigma$); **56%** of users exceed the monthly limit of 15 GB included in their plan. \n",
    "\n",
    "* Users of the **Ultimate** plan have an average of **16 ± 7 GB** (mean ± $\\sigma$); **70.8%** of users exceed the monthly limit of 13 GB.\n",
    "\n",
    "[Back to top of section](#analisis)"
   ]
  },
  {
   "cell_type": "markdown",
   "id": "143deb46",
   "metadata": {},
   "source": [
    "# Hypothesis test <a id='hipotesis'></a>\n",
    "\n",
    "In this **fourth stage** we will test the following hypotheses.\n",
    "\n",
    "1. The average income of users of **Ultimate** and **Surf** tariffs *differ*.\n",
    "2. The average revenue of users in the `'New York-New Jersey'` state area is *different* from that of users in other regions.\n",
    "\n",
    "[Return to project's stages](#etapas)"
   ]
  },
  {
   "cell_type": "markdown",
   "id": "fe45c835",
   "metadata": {},
   "source": [
    "## Average revenue from the users of the Ultimate and Surf rates <a id='5.1'></a>\n",
    "\n",
    "In this section we are going to compare the total average monthly income (`usd_mthly_total_revenue`) by rate type (Surf vs Ultimate). Remember that the `usd_mthly_total_revenue` column of the **`megaline_revenue`** table contains the monthly income per user and is the sum of the plan's fixed rate plus the charge for excess minutes, SMS and GB.\n",
    "\n",
    "As a first step, let's summarize the mean, variance, and standard deviation of total monthly income by plan type and plot the distribution of their values on a density histogram.\n",
    "\n",
    "**Hypothesis**\n",
    "\n",
    "Let's test the **$H_1$** hypothesis: the average monthly income from Megaline users is significantly *different* depending on their plan.\n",
    "\n",
    "The null hypothesis (**$H_0$**) is that both the **average monthly income of Ultimate and Surf users are *not* different**.\n",
    "\n",
    "The test for equality of means between the groups (Ultimate *vs* Surf) will be done using a **t-test with a significance level of 5\\% ($\\alpha = 0.05$)**."
   ]
  },
  {
   "cell_type": "code",
   "execution_count": 58,
   "id": "cbcca193",
   "metadata": {},
   "outputs": [
    {
     "data": {
      "text/html": [
       "<div>\n",
       "<style scoped>\n",
       "    .dataframe tbody tr th:only-of-type {\n",
       "        vertical-align: middle;\n",
       "    }\n",
       "\n",
       "    .dataframe tbody tr th {\n",
       "        vertical-align: top;\n",
       "    }\n",
       "\n",
       "    .dataframe thead tr th {\n",
       "        text-align: left;\n",
       "    }\n",
       "\n",
       "    .dataframe thead tr:last-of-type th {\n",
       "        text-align: right;\n",
       "    }\n",
       "</style>\n",
       "<table border=\"1\" class=\"dataframe\">\n",
       "  <thead>\n",
       "    <tr>\n",
       "      <th></th>\n",
       "      <th>count</th>\n",
       "      <th>mean</th>\n",
       "      <th>var</th>\n",
       "      <th>std</th>\n",
       "    </tr>\n",
       "    <tr>\n",
       "      <th></th>\n",
       "      <th>usd_mthly_total_revenue</th>\n",
       "      <th>usd_mthly_total_revenue</th>\n",
       "      <th>usd_mthly_total_revenue</th>\n",
       "      <th>usd_mthly_total_revenue</th>\n",
       "    </tr>\n",
       "    <tr>\n",
       "      <th>plan</th>\n",
       "      <th></th>\n",
       "      <th></th>\n",
       "      <th></th>\n",
       "      <th></th>\n",
       "    </tr>\n",
       "  </thead>\n",
       "  <tbody>\n",
       "    <tr>\n",
       "      <th>surf</th>\n",
       "      <td>339</td>\n",
       "      <td>55.835665</td>\n",
       "      <td>1700.544846</td>\n",
       "      <td>41.237663</td>\n",
       "    </tr>\n",
       "    <tr>\n",
       "      <th>ultimate</th>\n",
       "      <td>161</td>\n",
       "      <td>102.308202</td>\n",
       "      <td>1030.133071</td>\n",
       "      <td>32.095686</td>\n",
       "    </tr>\n",
       "  </tbody>\n",
       "</table>\n",
       "</div>"
      ],
      "text/plain": [
       "                           count                    mean  \\\n",
       "         usd_mthly_total_revenue usd_mthly_total_revenue   \n",
       "plan                                                       \n",
       "surf                         339               55.835665   \n",
       "ultimate                     161              102.308202   \n",
       "\n",
       "                             var                     std  \n",
       "         usd_mthly_total_revenue usd_mthly_total_revenue  \n",
       "plan                                                      \n",
       "surf                 1700.544846               41.237663  \n",
       "ultimate             1030.133071               32.095686  "
      ]
     },
     "execution_count": 58,
     "metadata": {},
     "output_type": "execute_result"
    }
   ],
   "source": [
    "# Mean, variance, and standard deviation of revenue by rate plan\n",
    "user_revenue.pivot_table(index='plan', values='usd_mthly_total_revenue',aggfunc=['count','mean','var','std'])"
   ]
  },
  {
   "cell_type": "code",
   "execution_count": 59,
   "id": "8ecc668c",
   "metadata": {},
   "outputs": [
    {
     "data": {
      "image/png": "[encoded data removed]",
      "text/plain": [
       "<Figure size 432x288 with 1 Axes>"
      ]
     },
     "metadata": {
      "needs_background": "light"
     },
     "output_type": "display_data"
    }
   ],
   "source": [
    "# Histogram of monthly revenue density by rate plan\n",
    "user_revenue.loc[user_revenue['plan']=='surf']['usd_mthly_total_revenue'].hist(density=True,range=(0,300),alpha=0.6, label='surf')\n",
    "user_revenue.loc[user_revenue['plan']=='ultimate']['usd_mthly_total_revenue'].hist(density=True,range=(0,300),alpha=0.3, label='ultimate')\n",
    "plt.xlabel('Monthly revenue')\n",
    "plt.ylabel('Probability')\n",
    "plt.legend()\n",
    "plt.show()"
   ]
  },
  {
   "cell_type": "code",
   "execution_count": 60,
   "id": "396de63d",
   "metadata": {},
   "outputs": [
    {
     "data": {
      "image/png": "[encoded data removed]",
      "text/plain": [
       "<Figure size 432x288 with 1 Axes>"
      ]
     },
     "metadata": {
      "needs_background": "light"
     },
     "output_type": "display_data"
    }
   ],
   "source": [
    "# Boxplot of monthly revenue by rate plan\n",
    "user_revenue.boxplot(column='usd_mthly_total_revenue', by='plan')\n",
    "plt.title('')\n",
    "plt.xlabel('Plan')\n",
    "plt.ylabel('Monthly revenue (USD)')\n",
    "plt.show()"
   ]
  },
  {
   "cell_type": "markdown",
   "id": "c1efdd83",
   "metadata": {},
   "source": [
    "The visual analysis of the distribution of monthly income by type of plan shows a large number of 'outlayer' or atypical values. Before we shop for median earnings by plan type, let's filter out the top outliers. For this we are going to filter those values that are 1.5 times above the IQR (interquartile value)."
   ]
  },
  {
   "cell_type": "code",
   "execution_count": 61,
   "id": "639d0794",
   "metadata": {},
   "outputs": [
    {
     "name": "stdout",
     "output_type": "stream",
     "text": [
      "Limit value for income of the Ultimate plan:  179.08333333333331\n",
      "Limit value for income of the Surf plan:  137.91666666666669\n"
     ]
    }
   ],
   "source": [
    "# Filter monthly income by plan\n",
    "revenue_ultimate = user_revenue.query('plan == \"ultimate\"')['usd_mthly_total_revenue'] # Ingreso Ultimate\n",
    "revenue_surf = user_revenue.query('plan == \"surf\"')['usd_mthly_total_revenue'] # Ingreso Surf\n",
    "\n",
    "Q1_ultimate = revenue_ultimate.quantile(0.25)\n",
    "Q3_ultimate = revenue_ultimate.quantile(0.75)\n",
    "IQR_ultimate = Q3_ultimate - Q1_ultimate\n",
    "limit_ultimate = Q3_ultimate + (1.5 * IQR_ultimate)\n",
    "\n",
    "Q1_surf = revenue_surf.quantile(0.25)\n",
    "Q3_surf = revenue_surf.quantile(0.75)\n",
    "IQR_surf = Q3_surf - Q1_surf\n",
    "limit_surf = Q3_surf + (1.5 * IQR_surf)\n",
    "\n",
    "print('Limit value for income of the Ultimate plan: ',limit_ultimate)\n",
    "print('Limit value for income of the Surf plan: ',limit_surf)"
   ]
  },
  {
   "cell_type": "code",
   "execution_count": 62,
   "id": "022a20ed",
   "metadata": {},
   "outputs": [
    {
     "data": {
      "image/png": "[encoded data removed]",
      "text/plain": [
       "<Figure size 432x288 with 1 Axes>"
      ]
     },
     "metadata": {
      "needs_background": "light"
     },
     "output_type": "display_data"
    }
   ],
   "source": [
    "# Filtering values below the limit (outlier filtering)\n",
    "revenue_ultimate_filtered = revenue_ultimate.loc[revenue_ultimate < limit_ultimate] \n",
    "revenue_surf_filtered = revenue_surf.loc[revenue_surf < limit_surf]\n",
    "\n",
    "# Histogram of monthly revenue density filtered by rate plan\n",
    "revenue_surf_filtered.hist(density=True,alpha=0.6, label='surf')\n",
    "revenue_ultimate_filtered.hist(density=True,alpha=0.3, label='ultimate')\n",
    "plt.xlabel('Total monthly revenue')\n",
    "plt.ylabel('Probability')\n",
    "plt.legend()\n",
    "plt.show()"
   ]
  },
  {
   "cell_type": "code",
   "execution_count": 63,
   "id": "cf305ed9",
   "metadata": {},
   "outputs": [
    {
     "data": {
      "text/plain": [
       "LeveneResult(statistic=0.6649741989339588, pvalue=0.41521803596928186)"
      ]
     },
     "execution_count": 63,
     "metadata": {},
     "output_type": "execute_result"
    }
   ],
   "source": [
    "# Homoscedasticity\n",
    "st.levene(revenue_ultimate_filtered, revenue_surf_filtered)"
   ]
  },
  {
   "cell_type": "code",
   "execution_count": 64,
   "id": "98ed9880",
   "metadata": {},
   "outputs": [
    {
     "name": "stdout",
     "output_type": "stream",
     "text": [
      "Average revenue per Ultimate plan:  98.86266673141672\n",
      "Average revenue per Surf plan:  48.72483788935191 \n",
      "\n",
      "Revenue variance by Ultimate plan:  661.7053896527243\n",
      "Revenue variance by Surf plan:  721.6846628540432 \n",
      "\n",
      "Standard deviation of income by Ultimate plan:  25.723634845268744\n",
      "Standard deviation of income by Surf plan:  26.864189227557997 \n",
      "\n",
      "p-value:  6.323546127277987e-62\n",
      "Reject null hypothesis\n"
     ]
    }
   ],
   "source": [
    "# Hypothesis test\n",
    "\n",
    "# Critical statistical significance level\n",
    "alpha = 0.05\n",
    "\n",
    "# Average revenue per plan\n",
    "print('Average revenue per Ultimate plan: ', revenue_ultimate_filtered.mean())\n",
    "print('Average revenue per Surf plan: ', revenue_surf_filtered.mean(),'\\n')\n",
    "\n",
    "# Variance\n",
    "print('Revenue variance by Ultimate plan: ', np.var(revenue_ultimate_filtered))\n",
    "print('Revenue variance by Surf plan: ', np.var(revenue_surf_filtered),'\\n')\n",
    "\n",
    "# Standard deviation\n",
    "print('Standard deviation of income by Ultimate plan: ', np.std(revenue_ultimate_filtered))\n",
    "print('Standard deviation of income by Surf plan: ', np.std(revenue_surf_filtered),'\\n')\n",
    "\n",
    "# t-test test one tail \n",
    "results = st.ttest_ind(revenue_ultimate_filtered, revenue_surf_filtered)\n",
    "\n",
    "# P-value\n",
    "print('p-value: ', results.pvalue)\n",
    "\n",
    "if results.pvalue < alpha:\n",
    "    print(\"Reject null hypothesis\")\n",
    "else:\n",
    "    print(\"Don't reject null hypothesis\")"
   ]
  },
  {
   "cell_type": "markdown",
   "id": "b947e7f2",
   "metadata": {},
   "source": [
    "**Conclusion difference between tariff plans**\n",
    "\n",
    "The average income (± standard deviation) generated by users of the **Ultimate** plan is \\\\$98.86 ± \\\\$25.72 dollars per month.\n",
    "\n",
    "The average income generated by users of the **Surf** plan is \\\\$48.72 ± \\\\$26.86 dollars.\n",
    "\n",
    "The hypothesis test with a confidence level of 5% provides evidence to **reject the null hypothesis** so we can affirm that the average monthly income generated by users of the **Ultimate** plan are significantly different.\n",
    "\n",
    "⚠️ **Note**: The *t* test was computed with the data without filtering outlayers maintaining the same conclusions.\n",
    "\n",
    "[Return to beginning of section](#hipotesis)"
   ]
  },
  {
   "cell_type": "markdown",
   "id": "bfccbdcf",
   "metadata": {},
   "source": [
    "## Median revenue of 'New York-New Jersey' users *vs* other regions\n",
    "\n",
    "In this section we are going to compare the average revenue generated by users in the New York - New Jersey (NY-NJ) area with that of users in other states. Users residing in the NY-NJ area are identified in the **`city`** column with the name `'New York-Newark-Jersey City, NY-NJ-PA MSA'`.\n",
    "\n",
    "Let's create two tables, one containing only data for NY-NY residents (**`nynj_users`**) and another table excluding NY-NY residents (**`other_users`**). Later we will compare the total income generated by all users *regardless of the plan they consume*.\n",
    "\n",
    "**Hypothesis**\n",
    "\n",
    "**$H_1$ - NY-NJ users average total monthly income is different from that generated by users from other states**\n",
    "\n",
    "**$H_0$ - Average total monthly income for NY-NJ riders no different than other riders in other states**\n",
    "\n",
    "To test our hypothesis we are going to do a two-way *t* (two-tailed) test. Before making this comparison, we are going to calculate the mean values, variance and standard deviation of the total income by user group. Later we will graph the distribution of the data."
   ]
  },
  {
   "cell_type": "code",
   "execution_count": 65,
   "id": "6d8be14c",
   "metadata": {},
   "outputs": [
    {
     "data": {
      "text/html": [
       "<div>\n",
       "<style scoped>\n",
       "    .dataframe tbody tr th:only-of-type {\n",
       "        vertical-align: middle;\n",
       "    }\n",
       "\n",
       "    .dataframe tbody tr th {\n",
       "        vertical-align: top;\n",
       "    }\n",
       "\n",
       "    .dataframe thead tr th {\n",
       "        text-align: left;\n",
       "    }\n",
       "\n",
       "    .dataframe thead tr:last-of-type th {\n",
       "        text-align: right;\n",
       "    }\n",
       "</style>\n",
       "<table border=\"1\" class=\"dataframe\">\n",
       "  <thead>\n",
       "    <tr>\n",
       "      <th></th>\n",
       "      <th>count</th>\n",
       "      <th>mean</th>\n",
       "      <th>var</th>\n",
       "      <th>std</th>\n",
       "    </tr>\n",
       "    <tr>\n",
       "      <th></th>\n",
       "      <th>usd_mthly_total_revenue</th>\n",
       "      <th>usd_mthly_total_revenue</th>\n",
       "      <th>usd_mthly_total_revenue</th>\n",
       "      <th>usd_mthly_total_revenue</th>\n",
       "    </tr>\n",
       "    <tr>\n",
       "      <th>is_nynj</th>\n",
       "      <th></th>\n",
       "      <th></th>\n",
       "      <th></th>\n",
       "      <th></th>\n",
       "    </tr>\n",
       "  </thead>\n",
       "  <tbody>\n",
       "    <tr>\n",
       "      <th>NY-NJ</th>\n",
       "      <td>80</td>\n",
       "      <td>65.669404</td>\n",
       "      <td>1693.28488</td>\n",
       "      <td>41.149543</td>\n",
       "    </tr>\n",
       "    <tr>\n",
       "      <th>Others</th>\n",
       "      <td>420</td>\n",
       "      <td>71.777044</td>\n",
       "      <td>2002.57121</td>\n",
       "      <td>44.750097</td>\n",
       "    </tr>\n",
       "  </tbody>\n",
       "</table>\n",
       "</div>"
      ],
      "text/plain": [
       "                          count                    mean  \\\n",
       "        usd_mthly_total_revenue usd_mthly_total_revenue   \n",
       "is_nynj                                                   \n",
       "NY-NJ                        80               65.669404   \n",
       "Others                      420               71.777044   \n",
       "\n",
       "                            var                     std  \n",
       "        usd_mthly_total_revenue usd_mthly_total_revenue  \n",
       "is_nynj                                                  \n",
       "NY-NJ                1693.28488               41.149543  \n",
       "Others               2002.57121               44.750097  "
      ]
     },
     "execution_count": 65,
     "metadata": {},
     "output_type": "execute_result"
    }
   ],
   "source": [
    "# Creation of groups to do the analysis\n",
    "user_revenue['is_nynj'] = np.where(user_revenue['city']=='New York-Newark-Jersey City, NY-NJ-PA MSA','NY-NJ','Others')\n",
    "\n",
    "# Mean, variance and standard deviation of income by group of residents.\n",
    "user_revenue.pivot_table(index='is_nynj', values='usd_mthly_total_revenue',\n",
    "                             aggfunc=['count','mean','var','std'])"
   ]
  },
  {
   "cell_type": "code",
   "execution_count": 66,
   "id": "1539a421",
   "metadata": {},
   "outputs": [
    {
     "data": {
      "image/png": "[encoded data removed]",
      "text/plain": [
       "<Figure size 432x288 with 1 Axes>"
      ]
     },
     "metadata": {
      "needs_background": "light"
     },
     "output_type": "display_data"
    }
   ],
   "source": [
    "# Distribution of income by user group\n",
    "user_revenue.loc[user_revenue['is_nynj']=='NY-NJ']['usd_mthly_total_revenue'].hist(density=True,alpha=0.6, label='NY-NJ')\n",
    "user_revenue.loc[user_revenue['is_nynj']=='Others']['usd_mthly_total_revenue'].hist(density=True,alpha=0.3, label='Others')\n",
    "plt.xlabel('Total monthly revenue')\n",
    "plt.ylabel('Probability')\n",
    "plt.legend()\n",
    "plt.show()"
   ]
  },
  {
   "cell_type": "code",
   "execution_count": 67,
   "id": "c18cca22",
   "metadata": {},
   "outputs": [],
   "source": [
    "nynj_rev = user_revenue.query('is_nynj == \"NY-NJ\"')['usd_mthly_total_revenue']\n",
    "others_rev = user_revenue.query('is_nynj == \"Others\"')['usd_mthly_total_revenue']"
   ]
  },
  {
   "cell_type": "code",
   "execution_count": 68,
   "id": "9094ba4e",
   "metadata": {},
   "outputs": [
    {
     "data": {
      "text/plain": [
       "LeveneResult(statistic=0.7362516638308774, pvalue=0.39127702502115236)"
      ]
     },
     "execution_count": 68,
     "metadata": {},
     "output_type": "execute_result"
    }
   ],
   "source": [
    "# Homocedasticity\n",
    "st.levene(nynj_rev,others_rev)"
   ]
  },
  {
   "cell_type": "code",
   "execution_count": 69,
   "id": "6a14193e",
   "metadata": {},
   "outputs": [
    {
     "name": "stdout",
     "output_type": "stream",
     "text": [
      "Mean revenue NY-NJ:  65.66940402236652\n",
      "Mean revenue Others:  71.77704381656703\n",
      "p-value:  0.2578463586135691\n",
      "Don't reject null hypothesis\n"
     ]
    }
   ],
   "source": [
    "# Two tail t-test\n",
    "\n",
    "# Obtain column of total monthly revenue by user group\n",
    "nynj_rev = user_revenue.query('is_nynj == \"NY-NJ\"')['usd_mthly_total_revenue'] # NY-NJ users\n",
    "others_rev = user_revenue.query('is_nynj == \"Others\"')['usd_mthly_total_revenue'] # Other regions users\n",
    "\n",
    "alpha = 0.05 # Significance threshold\n",
    "\n",
    "# Two-tailed t-test\n",
    "results = st.ttest_ind(nynj_rev, others_rev) \n",
    "\n",
    "print('Mean revenue NY-NJ: ',nynj_rev.mean())\n",
    "print('Mean revenue Others: ',others_rev.mean())\n",
    "print('p-value: ', results.pvalue) # Acceder al p-value\n",
    "\n",
    "if results.pvalue < alpha:\n",
    "    print('Reject null hypothesis')\n",
    "else:\n",
    "    print(\"Don't reject null hypothesis\")"
   ]
  },
  {
   "cell_type": "markdown",
   "id": "a49bfbd3",
   "metadata": {},
   "source": [
    "Based on our hypothesis test with a value of $\\alpha$ of 0.05, there is statistically significant evidence that the average revenue generated by users in the NY-NJ area is **no different** than that generated by users from other regions."
   ]
  },
  {
   "cell_type": "markdown",
   "id": "119bb507",
   "metadata": {},
   "source": [
    "# General conclusions <a id='conclusiones'></a>\n",
    "\n",
    "This project required the union and different sources of information (i.e. tables) to obtain data on the income generated by each user.\n",
    "\n",
    "Statistics of the income generated by each user in terms of the number of minutes, SMS and GB used per month were obtained and the resulting information for each service was unified in a single table.\n",
    "\n",
    "In general, the behavior of consumption of services showed that users of the **Surf** plan, despite paying a fixed rate of \\\\$50 dollars less than users of the **Ultimate** plan, users of **Surf** They usually exceed the amount of services included in your plan which generates income from excess services (minutes, SMS and GB). Therefore, it would be advisable to identify those **Surf** users who constantly exceed their rate and offer them the change to **Ultimate**.\n",
    "\n",
    "However, **Average monthly income differs significantly between plan types**, according to the distribution of income by plan type, it seems that users of the **Ultimate** plan tend to generate more income since they also In addition to paying a higher monthly fee, they also generate income from excess services, especially in extra GB.\n",
    "\n",
    "Our hypothesis test on the average monthly revenue generated by users from the NY-NJ area revealed that the revenue is **no different** from the revenue generated by any other user living outside of that region. Therefore, carrying out a marketing campaign for this specific region is not recommended.\n",
    "\n",
    "[Return to project's stages](#etapas)"
   ]
  }
 ],
 "metadata": {
  "kernelspec": {
   "display_name": "Python 3 (ipykernel)",
   "language": "python",
   "name": "python3"
  },
  "language_info": {
   "codemirror_mode": {
    "name": "ipython",
    "version": 3
   },
   "file_extension": ".py",
   "mimetype": "text/x-python",
   "name": "python",
   "nbconvert_exporter": "python",
   "pygments_lexer": "ipython3",
   "version": "3.9.10"
  },
  "toc": {
   "base_numbering": 1,
   "nav_menu": {
    "height": "275px",
    "width": "412px"
   },
   "number_sections": true,
   "sideBar": true,
   "skip_h1_title": false,
   "title_cell": "Table of Contents",
   "title_sidebar": "Contents",
   "toc_cell": true,
   "toc_position": {},
   "toc_section_display": true,
   "toc_window_display": true
  }
 },
 "nbformat": 4,
 "nbformat_minor": 5
}
