{
 "cells": [
  {
   "cell_type": "markdown",
   "id": "c0758265",
   "metadata": {},
   "source": [
    "# Modelo predictivo de precios de autos usados <a class='tocSkip'></a>\n",
    "\n",
    "The used car sales service **Rusty Bargain** is developing an app to attract new customers. Thanks to this app, you can quickly find out the market value of your car. You have access to the history: technical specifications, equipment versions and prices. You have to create a model that determines the market value.\n",
    "\n",
    "Rusty Bargain is interested in:\n",
    "- the quality of the prediction;\n",
    "- the speed of the prediction;\n",
    "- the time required for training\n",
    "\n",
    "**Note that the speed of the prediction depends on the processing power of the computer used, so these should be relative from one computer to another**."
   ]
  },
  {
   "cell_type": "markdown",
   "id": "7f5f2c02",
   "metadata": {
    "toc": true
   },
   "source": [
    "<h1>Table of Contents<span class=\"tocSkip\"></span></h1>\n",
    "<div class=\"toc\"><ul class=\"toc-item\"><li><span><a href=\"#Data-preparation\" data-toc-modified-id=\"Data-preparation-1\"><span class=\"toc-item-num\">1&nbsp;&nbsp;</span>Data preparation</a></span><ul class=\"toc-item\"><li><span><a href=\"#Data-load\" data-toc-modified-id=\"Data-load-1.1\"><span class=\"toc-item-num\">1.1&nbsp;&nbsp;</span>Data load</a></span></li><li><span><a href=\"#Data-preprocessing\" data-toc-modified-id=\"Data-preprocessing-1.2\"><span class=\"toc-item-num\">1.2&nbsp;&nbsp;</span>Data preprocessing</a></span><ul class=\"toc-item\"><li><span><a href=\"#Duplicate-values\" data-toc-modified-id=\"Duplicate-values-1.2.1\"><span class=\"toc-item-num\">1.2.1&nbsp;&nbsp;</span>Duplicate values</a></span></li><li><span><a href=\"#Variable-elimination\" data-toc-modified-id=\"Variable-elimination-1.2.2\"><span class=\"toc-item-num\">1.2.2&nbsp;&nbsp;</span>Variable elimination</a></span></li><li><span><a href=\"#Missing-values\" data-toc-modified-id=\"Missing-values-1.2.3\"><span class=\"toc-item-num\">1.2.3&nbsp;&nbsp;</span>Missing values</a></span></li><li><span><a href=\"#Outliers-in-numerical-variables\" data-toc-modified-id=\"Outliers-in-numerical-variables-1.2.4\"><span class=\"toc-item-num\">1.2.4&nbsp;&nbsp;</span>Outliers in numerical variables</a></span></li><li><span><a href=\"#Intermediate-conclusions-(Pre-prosessing)\" data-toc-modified-id=\"Intermediate-conclusions-(Pre-prosessing)-1.2.5\"><span class=\"toc-item-num\">1.2.5&nbsp;&nbsp;</span>Intermediate conclusions (Pre-prosessing)</a></span></li></ul></li><li><span><a href=\"#Data-segmentation\" data-toc-modified-id=\"Data-segmentation-1.3\"><span class=\"toc-item-num\">1.3&nbsp;&nbsp;</span>Data segmentation</a></span><ul class=\"toc-item\"><li><span><a href=\"#Segmentation-with-OHE-coding\" data-toc-modified-id=\"Segmentation-with-OHE-coding-1.3.1\"><span class=\"toc-item-num\">1.3.1&nbsp;&nbsp;</span>Segmentation with OHE coding</a></span></li><li><span><a href=\"#Segmentation-without-coding\" data-toc-modified-id=\"Segmentation-without-coding-1.3.2\"><span class=\"toc-item-num\">1.3.2&nbsp;&nbsp;</span>Segmentation without coding</a></span></li></ul></li></ul></li><li><span><a href=\"#Model-training\" data-toc-modified-id=\"Model-training-2\"><span class=\"toc-item-num\">2&nbsp;&nbsp;</span>Model training</a></span><ul class=\"toc-item\"><li><span><a href=\"#Linear-regression\" data-toc-modified-id=\"Linear-regression-2.1\"><span class=\"toc-item-num\">2.1&nbsp;&nbsp;</span>Linear regression</a></span></li><li><span><a href=\"#Regression-Tree\" data-toc-modified-id=\"Regression-Tree-2.2\"><span class=\"toc-item-num\">2.2&nbsp;&nbsp;</span>Regression Tree</a></span></li><li><span><a href=\"#Regression-random-forest\" data-toc-modified-id=\"Regression-random-forest-2.3\"><span class=\"toc-item-num\">2.3&nbsp;&nbsp;</span>Regression random forest</a></span></li><li><span><a href=\"#LightGBM-Regressor\" data-toc-modified-id=\"LightGBM-Regressor-2.4\"><span class=\"toc-item-num\">2.4&nbsp;&nbsp;</span>LightGBM Regressor</a></span></li><li><span><a href=\"#Catboost-Regressor\" data-toc-modified-id=\"Catboost-Regressor-2.5\"><span class=\"toc-item-num\">2.5&nbsp;&nbsp;</span>Catboost Regressor</a></span></li></ul></li><li><span><a href=\"#Model-analysis\" data-toc-modified-id=\"Model-analysis-3\"><span class=\"toc-item-num\">3&nbsp;&nbsp;</span>Model analysis</a></span></li><li><span><a href=\"#Recommendations\" data-toc-modified-id=\"Recommendations-4\"><span class=\"toc-item-num\">4&nbsp;&nbsp;</span>Recommendations</a></span></li></ul></div>"
   ]
  },
  {
   "cell_type": "code",
   "execution_count": 13,
   "id": "c3e5d683",
   "metadata": {},
   "outputs": [],
   "source": [
    "# Basic libraries\n",
    "import re                                              # Regular expressions\n",
    "import warnings                                        # Display warnings\n",
    "import sidetable                                       # Summary tables\n",
    "import numpy as np                                     # Arrays manipulation\n",
    "import pandas as pd                                    # DataFrames manipulation\n",
    "import seaborn as sns                                  # Plotting\n",
    "import matplotlib.pyplot as plt                        # Plotting\n",
    "import warnings                                        # Handle code warnings\n",
    "warnings.filterwarnings(\"ignore\")        \n",
    "\n",
    "# Preprocessing, metrics and model selection\n",
    "from sklearn.metrics import mean_squared_error         # MSE\n",
    "from sklearn.preprocessing import StandardScaler       # Scale numeric features\n",
    "from sklearn.model_selection import GridSearchCV       # Model selection\n",
    "from sklearn.model_selection import cross_val_score    # Cross validation\n",
    "from sklearn.model_selection import train_test_split   # Subsetting\n",
    "\n",
    "# Regression models\n",
    "from lightgbm import LGBMRegressor                     # LightGBM\n",
    "from catboost import CatBoostRegressor                 # Catboost\n",
    "from sklearn.tree import DecisionTreeRegressor         # Regression tree\n",
    "from sklearn.linear_model import LinearRegression      # Linear regression\n",
    "from sklearn.ensemble import RandomForestRegressor     # Random forest regressor"
   ]
  },
  {
   "cell_type": "markdown",
   "id": "bed2dadd",
   "metadata": {},
   "source": [
    "## Data preparation"
   ]
  },
  {
   "cell_type": "markdown",
   "id": "45499937",
   "metadata": {},
   "source": [
    "### Data load\n",
    "\n",
    "The data to be worked with in this project are stored in the DataFrame **`cars`** which consists of the following **characteristics**.\n",
    "\n",
    "* `DateCrawled`: date on which the profile was downloaded from the database.\n",
    "* `VehicleType`: vehicle body type.\n",
    "* `RegistrationYear`: year of registration of the vehicle\n",
    "* `Gearbox`: Gearbox type\n",
    "* `Power`: power (hp)\n",
    "* `Model`: vehicle model\n",
    "* `Mileage`: mileage (measured in km according to the regional specificities of the dataset)\n",
    "* `RegistrationMonth`: month of vehicle registration\n",
    "* `FuelType`: fuel type\n",
    "* `Brand`: vehicle maker\n",
    "* `NotRepaired`: vehicle repaired or not repaired\n",
    "* `DateCreated`: date of creation of the profile\n",
    "* `NumberOfPictures`: number of pictures of the vehicle\n",
    "* `PostalCode`: postal code of the profile owner (user) \n",
    "* `LastSeen`: date of the last time the user was active.\n",
    "\n",
    "Our **target** variable is:\n",
    "* `Price`: price (in euros)\n",
    "\n",
    "Then I load the data into the DataFrame **`cars`** and examine its information."
   ]
  },
  {
   "cell_type": "code",
   "execution_count": 2,
   "id": "9cfa4ce9",
   "metadata": {},
   "outputs": [
    {
     "name": "stdout",
     "output_type": "stream",
     "text": [
      "<class 'pandas.core.frame.DataFrame'>\n",
      "RangeIndex: 354369 entries, 0 to 354368\n",
      "Data columns (total 16 columns):\n",
      " #   Column             Non-Null Count   Dtype \n",
      "---  ------             --------------   ----- \n",
      " 0   DateCrawled        354369 non-null  object\n",
      " 1   Price              354369 non-null  int64 \n",
      " 2   VehicleType        316879 non-null  object\n",
      " 3   RegistrationYear   354369 non-null  int64 \n",
      " 4   Gearbox            334536 non-null  object\n",
      " 5   Power              354369 non-null  int64 \n",
      " 6   Model              334664 non-null  object\n",
      " 7   Mileage            354369 non-null  int64 \n",
      " 8   RegistrationMonth  354369 non-null  int64 \n",
      " 9   FuelType           321474 non-null  object\n",
      " 10  Brand              354369 non-null  object\n",
      " 11  NotRepaired        283215 non-null  object\n",
      " 12  DateCreated        354369 non-null  object\n",
      " 13  NumberOfPictures   354369 non-null  int64 \n",
      " 14  PostalCode         354369 non-null  int64 \n",
      " 15  LastSeen           354369 non-null  object\n",
      "dtypes: int64(7), object(9)\n",
      "memory usage: 43.3+ MB\n",
      "None \n",
      "\n",
      "               Price  RegistrationYear          Power        Mileage  \\\n",
      "count  354369.000000     354369.000000  354369.000000  354369.000000   \n",
      "mean     4416.656776       2004.234448     110.094337  128211.172535   \n",
      "std      4514.158514         90.227958     189.850405   37905.341530   \n",
      "min         0.000000       1000.000000       0.000000    5000.000000   \n",
      "25%      1050.000000       1999.000000      69.000000  125000.000000   \n",
      "50%      2700.000000       2003.000000     105.000000  150000.000000   \n",
      "75%      6400.000000       2008.000000     143.000000  150000.000000   \n",
      "max     20000.000000       9999.000000   20000.000000  150000.000000   \n",
      "\n",
      "       RegistrationMonth  NumberOfPictures     PostalCode  \n",
      "count      354369.000000          354369.0  354369.000000  \n",
      "mean            5.714645               0.0   50508.689087  \n",
      "std             3.726421               0.0   25783.096248  \n",
      "min             0.000000               0.0    1067.000000  \n",
      "25%             3.000000               0.0   30165.000000  \n",
      "50%             6.000000               0.0   49413.000000  \n",
      "75%             9.000000               0.0   71083.000000  \n",
      "max            12.000000               0.0   99998.000000   \n",
      "\n"
     ]
    },
    {
     "data": {
      "text/html": [
       "<div>\n",
       "<style scoped>\n",
       "    .dataframe tbody tr th:only-of-type {\n",
       "        vertical-align: middle;\n",
       "    }\n",
       "\n",
       "    .dataframe tbody tr th {\n",
       "        vertical-align: top;\n",
       "    }\n",
       "\n",
       "    .dataframe thead th {\n",
       "        text-align: right;\n",
       "    }\n",
       "</style>\n",
       "<table border=\"1\" class=\"dataframe\">\n",
       "  <thead>\n",
       "    <tr style=\"text-align: right;\">\n",
       "      <th></th>\n",
       "      <th>DateCrawled</th>\n",
       "      <th>Price</th>\n",
       "      <th>VehicleType</th>\n",
       "      <th>RegistrationYear</th>\n",
       "      <th>Gearbox</th>\n",
       "      <th>Power</th>\n",
       "      <th>Model</th>\n",
       "      <th>Mileage</th>\n",
       "      <th>RegistrationMonth</th>\n",
       "      <th>FuelType</th>\n",
       "      <th>Brand</th>\n",
       "      <th>NotRepaired</th>\n",
       "      <th>DateCreated</th>\n",
       "      <th>NumberOfPictures</th>\n",
       "      <th>PostalCode</th>\n",
       "      <th>LastSeen</th>\n",
       "    </tr>\n",
       "  </thead>\n",
       "  <tbody>\n",
       "    <tr>\n",
       "      <th>336396</th>\n",
       "      <td>04/04/2016 13:58</td>\n",
       "      <td>8950</td>\n",
       "      <td>coupe</td>\n",
       "      <td>1982</td>\n",
       "      <td>auto</td>\n",
       "      <td>185</td>\n",
       "      <td>sl</td>\n",
       "      <td>150000</td>\n",
       "      <td>5</td>\n",
       "      <td>petrol</td>\n",
       "      <td>mercedes_benz</td>\n",
       "      <td>no</td>\n",
       "      <td>04/04/2016 00:00</td>\n",
       "      <td>0</td>\n",
       "      <td>68782</td>\n",
       "      <td>06/04/2016 15:46</td>\n",
       "    </tr>\n",
       "    <tr>\n",
       "      <th>120446</th>\n",
       "      <td>20/03/2016 23:38</td>\n",
       "      <td>19500</td>\n",
       "      <td>coupe</td>\n",
       "      <td>2012</td>\n",
       "      <td>manual</td>\n",
       "      <td>170</td>\n",
       "      <td>c_klasse</td>\n",
       "      <td>100000</td>\n",
       "      <td>7</td>\n",
       "      <td>gasoline</td>\n",
       "      <td>mercedes_benz</td>\n",
       "      <td>no</td>\n",
       "      <td>20/03/2016 00:00</td>\n",
       "      <td>0</td>\n",
       "      <td>72202</td>\n",
       "      <td>07/04/2016 09:17</td>\n",
       "    </tr>\n",
       "    <tr>\n",
       "      <th>339820</th>\n",
       "      <td>05/03/2016 16:30</td>\n",
       "      <td>2700</td>\n",
       "      <td>bus</td>\n",
       "      <td>2004</td>\n",
       "      <td>NaN</td>\n",
       "      <td>136</td>\n",
       "      <td>c_max</td>\n",
       "      <td>150000</td>\n",
       "      <td>3</td>\n",
       "      <td>gasoline</td>\n",
       "      <td>ford</td>\n",
       "      <td>yes</td>\n",
       "      <td>05/03/2016 00:00</td>\n",
       "      <td>0</td>\n",
       "      <td>60437</td>\n",
       "      <td>07/03/2016 12:45</td>\n",
       "    </tr>\n",
       "    <tr>\n",
       "      <th>96715</th>\n",
       "      <td>09/03/2016 19:25</td>\n",
       "      <td>2500</td>\n",
       "      <td>sedan</td>\n",
       "      <td>2003</td>\n",
       "      <td>NaN</td>\n",
       "      <td>0</td>\n",
       "      <td>a3</td>\n",
       "      <td>150000</td>\n",
       "      <td>4</td>\n",
       "      <td>petrol</td>\n",
       "      <td>audi</td>\n",
       "      <td>no</td>\n",
       "      <td>09/03/2016 00:00</td>\n",
       "      <td>0</td>\n",
       "      <td>57567</td>\n",
       "      <td>12/03/2016 06:16</td>\n",
       "    </tr>\n",
       "    <tr>\n",
       "      <th>311473</th>\n",
       "      <td>03/04/2016 00:36</td>\n",
       "      <td>1750</td>\n",
       "      <td>sedan</td>\n",
       "      <td>1997</td>\n",
       "      <td>manual</td>\n",
       "      <td>150</td>\n",
       "      <td>a4</td>\n",
       "      <td>150000</td>\n",
       "      <td>4</td>\n",
       "      <td>petrol</td>\n",
       "      <td>audi</td>\n",
       "      <td>yes</td>\n",
       "      <td>03/04/2016 00:00</td>\n",
       "      <td>0</td>\n",
       "      <td>84347</td>\n",
       "      <td>03/04/2016 01:59</td>\n",
       "    </tr>\n",
       "    <tr>\n",
       "      <th>202559</th>\n",
       "      <td>29/03/2016 13:56</td>\n",
       "      <td>1499</td>\n",
       "      <td>bus</td>\n",
       "      <td>2004</td>\n",
       "      <td>NaN</td>\n",
       "      <td>0</td>\n",
       "      <td>other</td>\n",
       "      <td>150000</td>\n",
       "      <td>3</td>\n",
       "      <td>gasoline</td>\n",
       "      <td>mazda</td>\n",
       "      <td>no</td>\n",
       "      <td>29/03/2016 00:00</td>\n",
       "      <td>0</td>\n",
       "      <td>59071</td>\n",
       "      <td>31/03/2016 06:44</td>\n",
       "    </tr>\n",
       "    <tr>\n",
       "      <th>150675</th>\n",
       "      <td>12/03/2016 14:42</td>\n",
       "      <td>15000</td>\n",
       "      <td>NaN</td>\n",
       "      <td>2012</td>\n",
       "      <td>manual</td>\n",
       "      <td>135</td>\n",
       "      <td>tucson</td>\n",
       "      <td>30000</td>\n",
       "      <td>12</td>\n",
       "      <td>NaN</td>\n",
       "      <td>hyundai</td>\n",
       "      <td>no</td>\n",
       "      <td>12/03/2016 00:00</td>\n",
       "      <td>0</td>\n",
       "      <td>66976</td>\n",
       "      <td>14/03/2016 06:15</td>\n",
       "    </tr>\n",
       "    <tr>\n",
       "      <th>334147</th>\n",
       "      <td>02/04/2016 23:56</td>\n",
       "      <td>2390</td>\n",
       "      <td>sedan</td>\n",
       "      <td>1999</td>\n",
       "      <td>manual</td>\n",
       "      <td>170</td>\n",
       "      <td>3er</td>\n",
       "      <td>150000</td>\n",
       "      <td>12</td>\n",
       "      <td>petrol</td>\n",
       "      <td>bmw</td>\n",
       "      <td>no</td>\n",
       "      <td>02/04/2016 00:00</td>\n",
       "      <td>0</td>\n",
       "      <td>74918</td>\n",
       "      <td>07/04/2016 08:16</td>\n",
       "    </tr>\n",
       "    <tr>\n",
       "      <th>310253</th>\n",
       "      <td>02/04/2016 20:25</td>\n",
       "      <td>5000</td>\n",
       "      <td>sedan</td>\n",
       "      <td>2008</td>\n",
       "      <td>auto</td>\n",
       "      <td>77</td>\n",
       "      <td>other</td>\n",
       "      <td>150000</td>\n",
       "      <td>8</td>\n",
       "      <td>hybrid</td>\n",
       "      <td>toyota</td>\n",
       "      <td>no</td>\n",
       "      <td>02/04/2016 00:00</td>\n",
       "      <td>0</td>\n",
       "      <td>35428</td>\n",
       "      <td>06/04/2016 13:15</td>\n",
       "    </tr>\n",
       "    <tr>\n",
       "      <th>254345</th>\n",
       "      <td>24/03/2016 07:00</td>\n",
       "      <td>16490</td>\n",
       "      <td>wagon</td>\n",
       "      <td>2009</td>\n",
       "      <td>auto</td>\n",
       "      <td>170</td>\n",
       "      <td>NaN</td>\n",
       "      <td>90000</td>\n",
       "      <td>11</td>\n",
       "      <td>gasoline</td>\n",
       "      <td>audi</td>\n",
       "      <td>no</td>\n",
       "      <td>24/03/2016 00:00</td>\n",
       "      <td>0</td>\n",
       "      <td>6647</td>\n",
       "      <td>06/04/2016 22:45</td>\n",
       "    </tr>\n",
       "  </tbody>\n",
       "</table>\n",
       "</div>"
      ],
      "text/plain": [
       "             DateCrawled  Price VehicleType  RegistrationYear Gearbox  Power  \\\n",
       "336396  04/04/2016 13:58   8950       coupe              1982    auto    185   \n",
       "120446  20/03/2016 23:38  19500       coupe              2012  manual    170   \n",
       "339820  05/03/2016 16:30   2700         bus              2004     NaN    136   \n",
       "96715   09/03/2016 19:25   2500       sedan              2003     NaN      0   \n",
       "311473  03/04/2016 00:36   1750       sedan              1997  manual    150   \n",
       "202559  29/03/2016 13:56   1499         bus              2004     NaN      0   \n",
       "150675  12/03/2016 14:42  15000         NaN              2012  manual    135   \n",
       "334147  02/04/2016 23:56   2390       sedan              1999  manual    170   \n",
       "310253  02/04/2016 20:25   5000       sedan              2008    auto     77   \n",
       "254345  24/03/2016 07:00  16490       wagon              2009    auto    170   \n",
       "\n",
       "           Model  Mileage  RegistrationMonth  FuelType          Brand  \\\n",
       "336396        sl   150000                  5    petrol  mercedes_benz   \n",
       "120446  c_klasse   100000                  7  gasoline  mercedes_benz   \n",
       "339820     c_max   150000                  3  gasoline           ford   \n",
       "96715         a3   150000                  4    petrol           audi   \n",
       "311473        a4   150000                  4    petrol           audi   \n",
       "202559     other   150000                  3  gasoline          mazda   \n",
       "150675    tucson    30000                 12       NaN        hyundai   \n",
       "334147       3er   150000                 12    petrol            bmw   \n",
       "310253     other   150000                  8    hybrid         toyota   \n",
       "254345       NaN    90000                 11  gasoline           audi   \n",
       "\n",
       "       NotRepaired       DateCreated  NumberOfPictures  PostalCode  \\\n",
       "336396          no  04/04/2016 00:00                 0       68782   \n",
       "120446          no  20/03/2016 00:00                 0       72202   \n",
       "339820         yes  05/03/2016 00:00                 0       60437   \n",
       "96715           no  09/03/2016 00:00                 0       57567   \n",
       "311473         yes  03/04/2016 00:00                 0       84347   \n",
       "202559          no  29/03/2016 00:00                 0       59071   \n",
       "150675          no  12/03/2016 00:00                 0       66976   \n",
       "334147          no  02/04/2016 00:00                 0       74918   \n",
       "310253          no  02/04/2016 00:00                 0       35428   \n",
       "254345          no  24/03/2016 00:00                 0        6647   \n",
       "\n",
       "                LastSeen  \n",
       "336396  06/04/2016 15:46  \n",
       "120446  07/04/2016 09:17  \n",
       "339820  07/03/2016 12:45  \n",
       "96715   12/03/2016 06:16  \n",
       "311473  03/04/2016 01:59  \n",
       "202559  31/03/2016 06:44  \n",
       "150675  14/03/2016 06:15  \n",
       "334147  07/04/2016 08:16  \n",
       "310253  06/04/2016 13:15  \n",
       "254345  06/04/2016 22:45  "
      ]
     },
     "execution_count": 2,
     "metadata": {},
     "output_type": "execute_result"
    }
   ],
   "source": [
    "# Load data DataFrame 'cars'\n",
    "cars = pd.read_csv('datasets/car_data.csv')\n",
    "\n",
    "# Info 'cars'\n",
    "print(cars.info(),'\\n')\n",
    "\n",
    "# Description of numeric variables\n",
    "print(cars.describe(),'\\n')\n",
    "\n",
    "# Missing values\n",
    "cars.stb.missing(clip_0=True, style=True)\n",
    "\n",
    "# DataFrame head\n",
    "cars.sample(10)"
   ]
  },
  {
   "cell_type": "markdown",
   "id": "023b60a7",
   "metadata": {},
   "source": [
    "The DataFrame **`cars`** consists of 354369 car entries registered in March and April 2016. \n",
    "\n",
    "There are the following potential problems with the data:\n",
    "\n",
    "* **Duplicate cases**: although not evident so far, let's check for duplicate values.\n",
    "\n",
    "\n",
    "* **Missing values**: five variables have data representing between ~6 to 20% of the data.\n",
    "\n",
    "\n",
    "* Redundant category levels**: the `FuelType` variable has the category levels `'gasoline'` and `'petrol'`, however this unnecessarily increases the number of levels within this category and may affect model predictions.\n",
    "\n",
    "\n",
    "* Outliers in numerical variables**: when reviewing the statistics of numerical variables, there are extreme or invalid values, for example in `RegistrationYear` there are values between 1000 and 9999, so it is necessary to review such outliers. Similarly `Price` shows values in zero (`'0'`).\n",
    "\n",
    "\n",
    "In the next sub-section we preprocess the data taking into account those variables that may be useful for model prediction."
   ]
  },
  {
   "cell_type": "markdown",
   "id": "3997004d",
   "metadata": {},
   "source": [
    "### Data preprocessing\n",
    "Next I clean the data to feed the predicted models. \n",
    "\n",
    "#### Duplicate values\n",
    "Before proceeding to clean the data, I will first check the entire feature set for duplicate values and discard them. Duplicate cases are those cases whose input values match in all their features."
   ]
  },
  {
   "cell_type": "code",
   "execution_count": 3,
   "id": "8f6e111f",
   "metadata": {},
   "outputs": [
    {
     "name": "stdout",
     "output_type": "stream",
     "text": [
      "Casos duplicados: 262\n"
     ]
    },
    {
     "data": {
      "text/plain": [
       "(354107, 16)"
      ]
     },
     "execution_count": 3,
     "metadata": {},
     "output_type": "execute_result"
    }
   ],
   "source": [
    "# Number of duplicates\n",
    "print('Casos duplicados:', cars.duplicated().sum())\n",
    "\n",
    "# Drop duplicates\n",
    "cars.drop_duplicates(inplace=True)\n",
    "\n",
    "# Size DataFrame 'cars'\n",
    "cars.shape"
   ]
  },
  {
   "cell_type": "markdown",
   "id": "cc730f4b",
   "metadata": {},
   "source": [
    "#### Variable elimination\n",
    "\n",
    "I will now discard variables that do not provide predictive value for our target variable (`Price`). \n",
    "\n",
    "Since the data I am analyzing pertain to records created between March and April 2016 -- the date the profile was created (`DataCreated`), its download into the system (`DateCrawled`) and its last visit (`LastSeen`) -- their variation does not help predict the price of the car so I eliminate these three date-type variables.\n",
    "\n",
    "The variable `NumberOfPictures` also has no variation since no record in the dataset has any non-zero value, i.e. no car shows any pictures. It is also unlikely that this feature will influence the final price of the car so it will also be removed from the features.\n",
    "\n",
    "The postal code `PostalCode` is a categorical variable. This variable provides little predictive power for the final selling price of a vehicle so it will be removed.\n",
    "\n",
    "Finally, the month of registration `RegistrationMonth` is not expected to carry more weight than the year of vehicle registration so this categorical variable will be dropped.\n",
    "\n",
    "I will discard the above six variables from our data set."
   ]
  },
  {
   "cell_type": "code",
   "execution_count": 4,
   "id": "44cdb1c0",
   "metadata": {},
   "outputs": [
    {
     "data": {
      "text/plain": [
       "(354107, 10)"
      ]
     },
     "execution_count": 4,
     "metadata": {},
     "output_type": "execute_result"
    }
   ],
   "source": [
    "# Drop variables with low predictive power\n",
    "cars.drop(['DateCrawled','DateCreated','LastSeen','NumberOfPictures', \n",
    "           'PostalCode', 'RegistrationMonth'], axis=1, inplace=True)\n",
    "\n",
    "# Size DataFrame 'cars'\n",
    "cars.shape"
   ]
  },
  {
   "cell_type": "markdown",
   "id": "b2ba22d1",
   "metadata": {},
   "source": [
    "I have reduced the number of variables in the DataFrame **`cars`** from 16 to 10 variables.\n",
    "\n",
    "The model of a car is linked to its brand (``Brand``) so it is possible to eliminate the `Brand` variable to reduce the complexity and training time of the model. First let's make sure that a car model is not assigned to two different brands, i.e. that there is a 1 to 1 relationship between model and brand."
   ]
  },
  {
   "cell_type": "code",
   "execution_count": 5,
   "id": "6c959ddd",
   "metadata": {},
   "outputs": [
    {
     "data": {
      "text/html": [
       "<div>\n",
       "<style scoped>\n",
       "    .dataframe tbody tr th:only-of-type {\n",
       "        vertical-align: middle;\n",
       "    }\n",
       "\n",
       "    .dataframe tbody tr th {\n",
       "        vertical-align: top;\n",
       "    }\n",
       "\n",
       "    .dataframe thead th {\n",
       "        text-align: right;\n",
       "    }\n",
       "</style>\n",
       "<table border=\"1\" class=\"dataframe\">\n",
       "  <thead>\n",
       "    <tr style=\"text-align: right;\">\n",
       "      <th></th>\n",
       "      <th>Model</th>\n",
       "      <th>Brand</th>\n",
       "    </tr>\n",
       "  </thead>\n",
       "  <tbody>\n",
       "    <tr>\n",
       "      <th>166</th>\n",
       "      <td>other</td>\n",
       "      <td>39</td>\n",
       "    </tr>\n",
       "    <tr>\n",
       "      <th>117</th>\n",
       "      <td>grand</td>\n",
       "      <td>3</td>\n",
       "    </tr>\n",
       "    <tr>\n",
       "      <th>108</th>\n",
       "      <td>freelander</td>\n",
       "      <td>2</td>\n",
       "    </tr>\n",
       "    <tr>\n",
       "      <th>91</th>\n",
       "      <td>discovery</td>\n",
       "      <td>2</td>\n",
       "    </tr>\n",
       "    <tr>\n",
       "      <th>5</th>\n",
       "      <td>1_reihe</td>\n",
       "      <td>2</td>\n",
       "    </tr>\n",
       "    <tr>\n",
       "      <th>148</th>\n",
       "      <td>matiz</td>\n",
       "      <td>2</td>\n",
       "    </tr>\n",
       "    <tr>\n",
       "      <th>89</th>\n",
       "      <td>defender</td>\n",
       "      <td>2</td>\n",
       "    </tr>\n",
       "    <tr>\n",
       "      <th>14</th>\n",
       "      <td>5_reihe</td>\n",
       "      <td>2</td>\n",
       "    </tr>\n",
       "    <tr>\n",
       "      <th>10</th>\n",
       "      <td>3_reihe</td>\n",
       "      <td>2</td>\n",
       "    </tr>\n",
       "    <tr>\n",
       "      <th>168</th>\n",
       "      <td>pajero</td>\n",
       "      <td>1</td>\n",
       "    </tr>\n",
       "  </tbody>\n",
       "</table>\n",
       "</div>"
      ],
      "text/plain": [
       "          Model  Brand\n",
       "166       other     39\n",
       "117       grand      3\n",
       "108  freelander      2\n",
       "91    discovery      2\n",
       "5       1_reihe      2\n",
       "148       matiz      2\n",
       "89     defender      2\n",
       "14      5_reihe      2\n",
       "10      3_reihe      2\n",
       "168      pajero      1"
      ]
     },
     "execution_count": 5,
     "metadata": {},
     "output_type": "execute_result"
    }
   ],
   "source": [
    "# Number of brands by model \n",
    "cars.pivot_table(index='Model', values='Brand', aggfunc='nunique').reset_index().sort_values(by='Brand', ascending=False).head(10)"
   ]
  },
  {
   "cell_type": "markdown",
   "id": "31908e39",
   "metadata": {},
   "source": [
    "Except for the `'other'` model, there are 8 models that have more than one brand assigned to them. We will check model by model and correct if possible."
   ]
  },
  {
   "cell_type": "code",
   "execution_count": 6,
   "id": "0e3aea7c",
   "metadata": {},
   "outputs": [
    {
     "data": {
      "text/plain": [
       "jeep        241\n",
       "suzuki      210\n",
       "chrysler    110\n",
       "Name: Brand, dtype: int64"
      ]
     },
     "execution_count": 6,
     "metadata": {},
     "output_type": "execute_result"
    }
   ],
   "source": [
    "# Correction of 'grand' models for three different brands\n",
    "cars.loc[cars['Model']=='grand']['Brand'].value_counts()"
   ]
  },
  {
   "cell_type": "markdown",
   "id": "b695478a",
   "metadata": {},
   "source": [
    "The `'grand'` model is found in three brands `'jeep'`, `'suzuki'` and `'chrysler'` which correspond to the grand cherokee, grand vitara and grand voyager models respectively. We will replace these values where they correspond."
   ]
  },
  {
   "cell_type": "code",
   "execution_count": 7,
   "id": "6d937ac2",
   "metadata": {},
   "outputs": [],
   "source": [
    "# Replace model according to brand for 'grand' models\n",
    "cars.loc[(cars['Brand']=='jeep')&(cars['Model']=='grand'), 'Model'] = 'grand_cherokee'\n",
    "cars.loc[(cars['Brand']=='suzuki')&(cars['Model']=='grand'), 'Model'] = 'grand_vitara'\n",
    "cars.loc[(cars['Brand']=='chrysler')&(cars['Model']=='grand'), 'Model'] = 'grand_voyager'"
   ]
  },
  {
   "cell_type": "markdown",
   "id": "aca21b08",
   "metadata": {},
   "source": [
    "Now let's see the model `'freelander'`."
   ]
  },
  {
   "cell_type": "code",
   "execution_count": 8,
   "id": "81dae080",
   "metadata": {},
   "outputs": [
    {
     "data": {
      "text/plain": [
       "land_rover    215\n",
       "rover           3\n",
       "Name: Brand, dtype: int64"
      ]
     },
     "execution_count": 8,
     "metadata": {},
     "output_type": "execute_result"
    }
   ],
   "source": [
    "cars.loc[cars['Model']=='freelander']['Brand'].value_counts()"
   ]
  },
  {
   "cell_type": "code",
   "execution_count": 9,
   "id": "be825cce",
   "metadata": {},
   "outputs": [],
   "source": [
    "# Replace 'rover' by 'land_rover' \n",
    "cars.loc[cars['Brand']=='rover', 'Brand'] = 'land_rover'"
   ]
  },
  {
   "cell_type": "markdown",
   "id": "5c70bea1",
   "metadata": {},
   "source": [
    "The rebranding from `'rover'` to `'land_rover'` affected the `'freelander'` and `'discovery'` models. Let us now look at the `'3_reihe'` model."
   ]
  },
  {
   "cell_type": "code",
   "execution_count": 10,
   "id": "80c91340",
   "metadata": {},
   "outputs": [
    {
     "data": {
      "text/plain": [
       "peugeot    2170\n",
       "mazda      1321\n",
       "Name: Brand, dtype: int64"
      ]
     },
     "execution_count": 10,
     "metadata": {},
     "output_type": "execute_result"
    }
   ],
   "source": [
    "cars.loc[cars['Model']=='3_reihe']['Brand'].value_counts()"
   ]
  },
  {
   "cell_type": "markdown",
   "id": "074c0401",
   "metadata": {},
   "source": [
    "Models ending in `'_reihe'` refer to the number of rows (from the German term **'Reihe' - row**). So models with this type of name will be deleted as they do not have a valid model name."
   ]
  },
  {
   "cell_type": "code",
   "execution_count": 11,
   "id": "84058f1e",
   "metadata": {},
   "outputs": [
    {
     "name": "stdout",
     "output_type": "stream",
     "text": [
      "['2_reihe', '3_reihe', 'xc_reihe', 'z_reihe', 'i_reihe', '6_reihe', '5_reihe', 'rx_reihe', '1_reihe', '4_reihe', 'x_reihe', 'mx_reihe', 'cr_reihe', 'c_reihe', 'm_reihe', 'cx_reihe'] \n",
      "\n",
      "Number models to delete: 16\n",
      "Number of deleted cases: 17649\n"
     ]
    }
   ],
   "source": [
    "# Delete cases where Model is '_reihe'\n",
    "car_models = cars['Model'].dropna().unique().tolist()\n",
    "reihe_models = []\n",
    "\n",
    "for car in car_models:\n",
    "    if re.search(r'_reihe', car):\n",
    "        reihe_models.append(car)\n",
    "\n",
    "print(reihe_models,'\\n')\n",
    "print('Number models to delete:',len(reihe_models))\n",
    "\n",
    "# Delete reihe models\n",
    "print('Number of deleted cases:',cars[cars['Model'].isin(reihe_models)].shape[0])\n",
    "\n",
    "# Drop cases\n",
    "cars = cars[~cars['Model'].isin(reihe_models)]"
   ]
  },
  {
   "cell_type": "markdown",
   "id": "6df59916",
   "metadata": {},
   "source": [
    "We eliminated 17649 cases whose number contained the word `'reihe'`.\n",
    "\n",
    "Finally we are going to search the cases for the model `'nuance'`."
   ]
  },
  {
   "cell_type": "code",
   "execution_count": 12,
   "id": "3a8e8b01",
   "metadata": {},
   "outputs": [
    {
     "data": {
      "text/plain": [
       "chevrolet    283\n",
       "daewoo       159\n",
       "Name: Brand, dtype: int64"
      ]
     },
     "execution_count": 12,
     "metadata": {},
     "output_type": "execute_result"
    }
   ],
   "source": [
    "cars.loc[cars['Model']=='matiz']['Brand'].value_counts()"
   ]
  },
  {
   "cell_type": "markdown",
   "id": "4b10545b",
   "metadata": {},
   "source": [
    "The `'matiz` model has been manufactured by two different brands, between 2005 and 2009 by Daewoo and from 2010 onwards by Chevrolet. For this particular case, I am not going to make any changes since I expect that the year of registration and not the maker of the model will influence its final selling price.\n",
    "\n",
    "**Once I have corroborated that each model corresponds to a single brand, I proceed to eliminate the `Brand`** variable."
   ]
  },
  {
   "cell_type": "code",
   "execution_count": 14,
   "id": "c8456364",
   "metadata": {},
   "outputs": [],
   "source": [
    "# Delete Brand variable\n",
    "cars.drop('Brand', axis=1, inplace=True)"
   ]
  },
  {
   "cell_type": "markdown",
   "id": "02c87c35",
   "metadata": {},
   "source": [
    "#### Missing values\n",
    "\n",
    "Five variables have missing values (`NotRepaired`, `VehicleType`, `FuelType`, `Gearbox` and `Model`). Because all variables with missing values are categorical, their imputation is not possible by numerical measures of centrality (_i.e._ mean or median). However, vehicle type (`VehicleType`) can be imputed according to car model (`Model`).\n",
    "\n",
    "* Vehicle type `VehicleType`** **Vehicle type is related to the vehicle model.\n",
    "\n",
    "The vehicle type is related to the car model. However, the data shows more than one vehicle type per model. Let's take for example the `'golf'` model, which has 8 different categories. "
   ]
  },
  {
   "cell_type": "code",
   "execution_count": 15,
   "id": "e7c30df7",
   "metadata": {},
   "outputs": [
    {
     "data": {
      "text/plain": [
       "sedan          14735\n",
       "small           3910\n",
       "wagon           3178\n",
       "convertible     1959\n",
       "bus              760\n",
       "coupe            429\n",
       "other            185\n",
       "suv               25\n",
       "Name: VehicleType, dtype: int64"
      ]
     },
     "execution_count": 15,
     "metadata": {},
     "output_type": "execute_result"
    }
   ],
   "source": [
    "# 'VehicleType' for 'golf' model\n",
    "cars.loc[cars['Model']=='golf', 'VehicleType'].value_counts()"
   ]
  },
  {
   "cell_type": "markdown",
   "id": "46d67e3f",
   "metadata": {},
   "source": [
    "In order to reduce the level of categories per vehicle, I will impute the vehicle type per model with the highest number of entries. For example for the model `'golf'` it would be `'sedan'` since it is the category with the most entries. This process will only be done for records with a specified model, _i.e._ categories like `'nan'` and `'other'` will not be considered."
   ]
  },
  {
   "cell_type": "code",
   "execution_count": 16,
   "id": "12553e39",
   "metadata": {},
   "outputs": [
    {
     "name": "stdout",
     "output_type": "stream",
     "text": [
      "sedan          58\n",
      "small          52\n",
      "suv            37\n",
      "bus            34\n",
      "wagon          33\n",
      "coupe          11\n",
      "convertible     8\n",
      "other           2\n",
      "Name: VehicleType, dtype: int64\n"
     ]
    }
   ],
   "source": [
    "# Number of records by 'VehicleType'\n",
    "model_type = cars.pivot_table(index=['Model','VehicleType'],aggfunc='size').reset_index()\n",
    "\n",
    "# Rename columns\n",
    "model_type.columns = ['Model', 'VehicleType', 'Frequency']\n",
    "\n",
    "# Order by model and VehicleType frequency\n",
    "model_type = model_type.sort_values(by=['Model','Frequency'], ascending=[True,False])\n",
    "\n",
    "# Drop cases where  Model=='other'\n",
    "model_type_no_other = model_type.loc[model_type['Model']!='other']\n",
    "\n",
    "# Get category with the highest number of entries \n",
    "model_good = model_type_no_other.groupby('Model')['VehicleType'].agg('first').reset_index()\n",
    "\n",
    "# Majority categories (models by vehicle type)\n",
    "print(model_good['VehicleType'].value_counts())"
   ]
  },
  {
   "cell_type": "markdown",
   "id": "8eedc10c",
   "metadata": {},
   "source": [
    "We are left with 8 different categories of `VehicleType` in the pivot table with which I will impute the missing values in **`cars`** under the variable `TypeVehicle_good`."
   ]
  },
  {
   "cell_type": "code",
   "execution_count": 17,
   "id": "17b6a598",
   "metadata": {},
   "outputs": [],
   "source": [
    "# Create 'VehicleType_good' column using the pivot_table 'model_good'\n",
    "cars = cars.join(model_good.set_index('Model'), on='Model', rsuffix='_good')\n",
    "\n",
    "# Replace missing values and 'other' model with its original value \n",
    "cars.loc[(cars['Model']=='other')&(cars['VehicleType_good'].isna()), 'VehicleType_good'] = cars['VehicleType']"
   ]
  },
  {
   "cell_type": "code",
   "execution_count": 18,
   "id": "2afb1875",
   "metadata": {},
   "outputs": [
    {
     "data": {
      "text/html": [
       "<style type=\"text/css\">\n",
       "</style>\n",
       "<table id=\"T_002e9\">\n",
       "  <thead>\n",
       "    <tr>\n",
       "      <th class=\"blank level0\" >&nbsp;</th>\n",
       "      <th id=\"T_002e9_level0_col0\" class=\"col_heading level0 col0\" >missing</th>\n",
       "      <th id=\"T_002e9_level0_col1\" class=\"col_heading level0 col1\" >total</th>\n",
       "      <th id=\"T_002e9_level0_col2\" class=\"col_heading level0 col2\" >percent</th>\n",
       "    </tr>\n",
       "  </thead>\n",
       "  <tbody>\n",
       "    <tr>\n",
       "      <th id=\"T_002e9_level0_row0\" class=\"row_heading level0 row0\" >NotRepaired</th>\n",
       "      <td id=\"T_002e9_row0_col0\" class=\"data row0 col0\" >68,710</td>\n",
       "      <td id=\"T_002e9_row0_col1\" class=\"data row0 col1\" >336,458</td>\n",
       "      <td id=\"T_002e9_row0_col2\" class=\"data row0 col2\" >20.42%</td>\n",
       "    </tr>\n",
       "    <tr>\n",
       "      <th id=\"T_002e9_level0_row1\" class=\"row_heading level0 row1\" >VehicleType</th>\n",
       "      <td id=\"T_002e9_row1_col0\" class=\"data row1 col0\" >36,399</td>\n",
       "      <td id=\"T_002e9_row1_col1\" class=\"data row1 col1\" >336,458</td>\n",
       "      <td id=\"T_002e9_row1_col2\" class=\"data row1 col2\" >10.82%</td>\n",
       "    </tr>\n",
       "    <tr>\n",
       "      <th id=\"T_002e9_level0_row2\" class=\"row_heading level0 row2\" >FuelType</th>\n",
       "      <td id=\"T_002e9_row2_col0\" class=\"data row2 col0\" >31,874</td>\n",
       "      <td id=\"T_002e9_row2_col1\" class=\"data row2 col1\" >336,458</td>\n",
       "      <td id=\"T_002e9_row2_col2\" class=\"data row2 col2\" >9.47%</td>\n",
       "    </tr>\n",
       "    <tr>\n",
       "      <th id=\"T_002e9_level0_row3\" class=\"row_heading level0 row3\" >VehicleType_good</th>\n",
       "      <td id=\"T_002e9_row3_col0\" class=\"data row3 col0\" >21,559</td>\n",
       "      <td id=\"T_002e9_row3_col1\" class=\"data row3 col1\" >336,458</td>\n",
       "      <td id=\"T_002e9_row3_col2\" class=\"data row3 col2\" >6.41%</td>\n",
       "    </tr>\n",
       "    <tr>\n",
       "      <th id=\"T_002e9_level0_row4\" class=\"row_heading level0 row4\" >Model</th>\n",
       "      <td id=\"T_002e9_row4_col0\" class=\"data row4 col0\" >19,701</td>\n",
       "      <td id=\"T_002e9_row4_col1\" class=\"data row4 col1\" >336,458</td>\n",
       "      <td id=\"T_002e9_row4_col2\" class=\"data row4 col2\" >5.86%</td>\n",
       "    </tr>\n",
       "    <tr>\n",
       "      <th id=\"T_002e9_level0_row5\" class=\"row_heading level0 row5\" >Gearbox</th>\n",
       "      <td id=\"T_002e9_row5_col0\" class=\"data row5 col0\" >19,261</td>\n",
       "      <td id=\"T_002e9_row5_col1\" class=\"data row5 col1\" >336,458</td>\n",
       "      <td id=\"T_002e9_row5_col2\" class=\"data row5 col2\" >5.72%</td>\n",
       "    </tr>\n",
       "  </tbody>\n",
       "</table>\n"
      ],
      "text/plain": [
       "<pandas.io.formats.style.Styler at 0x10f9c75b0>"
      ]
     },
     "execution_count": 18,
     "metadata": {},
     "output_type": "execute_result"
    }
   ],
   "source": [
    "# Check for missing values\n",
    "cars.stb.missing(clip_0=True, style=True)"
   ]
  },
  {
   "cell_type": "markdown",
   "id": "661ada49",
   "metadata": {},
   "source": [
    "We reduced the number of missing values for vehicle type by 4.41%. Additionally, we established a single vehicle type by setting only one category per model in the `VehicleType_good` variable. This cleaned variable will be considered to feed the prediction models so we are going to eliminate the `VehicleType` variable."
   ]
  },
  {
   "cell_type": "code",
   "execution_count": 19,
   "id": "ed89622b",
   "metadata": {},
   "outputs": [],
   "source": [
    "# Drop 'VehicleType'\n",
    "cars.drop('VehicleType', axis=1, inplace=True)"
   ]
  },
  {
   "cell_type": "markdown",
   "id": "f8cc6ea7",
   "metadata": {},
   "source": [
    "* **Fuel type `FuelType`**.\n",
    "\n",
    "Now let's analyze the fuel type. This variable, has the following levels: \n",
    "* 'petrol'\n",
    "* 'gasoline\n",
    "* 'lpg': liquefied petroleum gas\n",
    "* 'cng': compressed natural gas\n",
    "* 'hybrid\n",
    "* 'electric' * 'electric\n",
    "* 'other\n",
    "\n",
    "The levels `'petrol'` and `'gasoline'` refer to the same type of fuel known in America as gasoline, `'petrol'` is the term used in the UK. Because of this we will reduce the number of levels for `FuelType` by unifying `'petrol'` and `'gasoline'` under the same `'gasoline'` level."
   ]
  },
  {
   "cell_type": "code",
   "execution_count": 20,
   "id": "22573ac7",
   "metadata": {},
   "outputs": [
    {
     "data": {
      "text/plain": [
       "gasoline    298432\n",
       "NaN          31874\n",
       "lpg           5083\n",
       "cng            564\n",
       "hybrid         216\n",
       "other          200\n",
       "electric        89\n",
       "Name: FuelType, dtype: int64"
      ]
     },
     "execution_count": 20,
     "metadata": {},
     "output_type": "execute_result"
    }
   ],
   "source": [
    "# Replace 'petrol' by 'gasoline'\n",
    "cars.loc[cars['FuelType']=='petrol', 'FuelType'] = 'gasoline'\n",
    "\n",
    "# Cases by 'FuelType'\n",
    "cars['FuelType'].value_counts(dropna=False)"
   ]
  },
  {
   "cell_type": "markdown",
   "id": "0ff26210",
   "metadata": {},
   "source": [
    "We have reduced the number of categories by collapsing `'petrol'` and `'gasoline'` into the same category. There are still missing values in this category. In this case it is not possible to impute the fuel type based on another categorical variable since a model can have versions that run on different fuel types e.g. the `'zafira'` model has 4 different fuel types.\n",
    "\n",
    "However, we will re-categorize all cases with missing values as `other`. "
   ]
  },
  {
   "cell_type": "code",
   "execution_count": 21,
   "id": "d0cda3d1",
   "metadata": {},
   "outputs": [],
   "source": [
    "# Re-categorize missing 'FuelType' as 'other'\n",
    "cars.loc[cars['FuelType'].isna(), 'FuelType'] = 'other'"
   ]
  },
  {
   "cell_type": "markdown",
   "id": "5c15b6f8",
   "metadata": {},
   "source": [
    "* No Repairs `NotRepaired` ** **NotRepaired\n",
    "\n",
    "This variable refers to whether the vehicle has not undergone major repairs. This variable takes two values `'yes'` or `'no'` so missing values will be replaced by `'unknow'`."
   ]
  },
  {
   "cell_type": "code",
   "execution_count": 22,
   "id": "b5da34f7",
   "metadata": {},
   "outputs": [],
   "source": [
    "# Replace missing 'NotRepaired' by 'unknow'\n",
    "cars.loc[cars['NotRepaired'].isna(), 'NotRepaired'] = 'unknow'"
   ]
  },
  {
   "cell_type": "markdown",
   "id": "98bd67f7",
   "metadata": {},
   "source": [
    "**Type of transmission `Gearbox`**.\n",
    "\n",
    "The transmission type of a car can be either `manual` or `automatic`. Automatic vehicles are usually more expensive than manual transmissions. There are several models in the market manufactured in both versions so we cannot impute the type of transmission according to the model of the vehicle. In this case I will also impute missing values as `unknow`."
   ]
  },
  {
   "cell_type": "code",
   "execution_count": 23,
   "id": "0d89c105",
   "metadata": {},
   "outputs": [
    {
     "data": {
      "text/plain": [
       "manual    253070\n",
       "auto       64127\n",
       "unknow     19261\n",
       "Name: Gearbox, dtype: int64"
      ]
     },
     "execution_count": 23,
     "metadata": {},
     "output_type": "execute_result"
    }
   ],
   "source": [
    "# Replace missing 'Gearbox' as 'unknow'\n",
    "cars.loc[cars['Gearbox'].isna(), 'Gearbox'] = 'unknow'\n",
    "\n",
    "# Value counts 'Gearbox'\n",
    "cars['Gearbox'].value_counts(dropna=False)"
   ]
  },
  {
   "cell_type": "markdown",
   "id": "95479581",
   "metadata": {},
   "source": [
    "* **Model `Model`** model\n",
    "\n",
    "The car model is also not a variable that can be imputed using another categorical variable, so we are going to eliminate from the data set the rows with missing values in this variable. We consider it necessary to make this change since the model of the car largely determines the price of the car. However, there are many entries with the model specified as ``other'`` for different automotive brands (`Brand`). I will quantify the following: \n",
    "\n",
    "* Number of entries with the model specified as `'other'`, \n",
    "\n",
    "* Number of brands (`Brand`) with models `'other'`, \n",
    "\n",
    "* Number of entries and percentage of data where `Model` is absent (`nan`) or `'other'`, "
   ]
  },
  {
   "cell_type": "code",
   "execution_count": 24,
   "id": "06c95a08",
   "metadata": {},
   "outputs": [
    {
     "name": "stdout",
     "output_type": "stream",
     "text": [
      "Number of cases where the model is \"other\": 24402\n",
      "Number of combined \"nan\" and \"other\" cases: 44103\n",
      "Percentage of combined data:                13.11%\n"
     ]
    }
   ],
   "source": [
    "# Number of entries of Model == 'other'\n",
    "other_cases = cars.loc[cars['Model']=='other', 'Model'].count()\n",
    "\n",
    "# Nomber of entries where 'Model' is  'nan' or 'other'\n",
    "other_nan_cases = cars.loc[(cars['Model']=='other')|(cars['Model'].isna()), 'Price'].count()\n",
    "\n",
    "# Percentage of combined entries \n",
    "other_nan_cases_pct = other_nan_cases / cars.shape[0]\n",
    "\n",
    "print(f'Number of cases where the model is \"other\": {other_cases}')\n",
    "print(f'Number of combined \"nan\" and \"other\" cases: {other_nan_cases}')\n",
    "print(f'Percentage of combined data:                {other_nan_cases_pct:.2%}')"
   ]
  },
  {
   "cell_type": "markdown",
   "id": "3c373d4b",
   "metadata": {},
   "source": [
    "Cases where the vehicle model is absent (`nan`) or `'other'` represent **13.11%** of the cases. \n",
    "\n",
    "Although the cases represent a relatively high percentage of our original set, I consider it appropriate to **eliminate these cases**. The model of a car is a feature that largely determines the price of a car. The make of the car does not always carry a great deal of weight even though there are makes that are usually more expensive (_e.g._ 'Mercedes Benz', 'Land Rover', etc) than others. Feeding the model with these cases could affect the quality of its predictions (_'garbage in garbage out'_) so I prefer to sacrifice the quantity of the data for its quality."
   ]
  },
  {
   "cell_type": "code",
   "execution_count": 25,
   "id": "a4fe4878",
   "metadata": {},
   "outputs": [
    {
     "name": "stdout",
     "output_type": "stream",
     "text": [
      "Size of DataFrame \"cars\": 292355\n"
     ]
    },
    {
     "data": {
      "text/html": [
       "<style type=\"text/css\">\n",
       "</style>\n",
       "<table id=\"T_586d2\">\n",
       "  <thead>\n",
       "    <tr>\n",
       "      <th class=\"blank level0\" >&nbsp;</th>\n",
       "      <th id=\"T_586d2_level0_col0\" class=\"col_heading level0 col0\" >missing</th>\n",
       "      <th id=\"T_586d2_level0_col1\" class=\"col_heading level0 col1\" >total</th>\n",
       "      <th id=\"T_586d2_level0_col2\" class=\"col_heading level0 col2\" >percent</th>\n",
       "    </tr>\n",
       "  </thead>\n",
       "  <tbody>\n",
       "  </tbody>\n",
       "</table>\n"
      ],
      "text/plain": [
       "<pandas.io.formats.style.Styler at 0x12c152fa0>"
      ]
     },
     "execution_count": 25,
     "metadata": {},
     "output_type": "execute_result"
    }
   ],
   "source": [
    "# Drop cases where  'Model' is NaN or 'other'\n",
    "cars = cars.loc[(cars['Model']!='other')&(cars['Model'].notna())]\n",
    "\n",
    "# Size DataFrame 'cars'\n",
    "print('Size of DataFrame \"cars\":', cars.shape[0])\n",
    "\n",
    "# Check for missing values\n",
    "cars.stb.missing(clip_0=True, style=True)"
   ]
  },
  {
   "cell_type": "markdown",
   "id": "9bf34983",
   "metadata": {},
   "source": [
    "We have treated the missing values of the categorical variables and eliminated the cases that are not useful to my consideration for the prediction of the selling price of a vehicle registered in the platform. The levels of the `VehicleType` and `FuelType` variables were also reduced and homogenized. The `VehicleType` variable is replaced by the `VehicleType_good` variable which has the categories homogenized according to most cases according to the car model.\n",
    "\n",
    "In the next subsection I analyze outliers in the numerical variables.\n",
    "\n",
    "\n",
    "#### Outliers in numerical variables\n",
    "\n",
    "Now I am going to analyze the numerical variables for outliers. The numeric variables are `Price`, `RegistrationYear`, `Power` and `Mileage`. Let's look at the distribution of values for outliers for each variable."
   ]
  },
  {
   "cell_type": "code",
   "execution_count": 26,
   "id": "39b88c23",
   "metadata": {},
   "outputs": [
    {
     "name": "stdout",
     "output_type": "stream",
     "text": [
      "               Price  RegistrationYear          Power        Mileage\n",
      "count  292355.000000     292355.000000  292355.000000  292355.000000\n",
      "mean     4478.034564       2004.046796     111.078076  129373.330369\n",
      "std      4503.671251         63.234369     192.544119   36601.484229\n",
      "min         0.000000       1000.000000       0.000000    5000.000000\n",
      "25%      1149.000000       1999.000000      69.000000  125000.000000\n",
      "50%      2800.000000       2003.000000     105.000000  150000.000000\n",
      "75%      6500.000000       2008.000000     143.000000  150000.000000\n",
      "max     20000.000000       9999.000000   20000.000000  150000.000000\n"
     ]
    },
    {
     "data": {
      "image/png": "[encoded data removed]",
      "text/plain": [
       "<Figure size 864x864 with 4 Axes>"
      ]
     },
     "metadata": {
      "needs_background": "light"
     },
     "output_type": "display_data"
    }
   ],
   "source": [
    "# Basic stats numeric variables\n",
    "print(cars.describe())\n",
    "\n",
    "# Plot features (2 rows, 2 columns)\n",
    "fig, axes = plt.subplots(2, 2, figsize=(12,12))\n",
    "\n",
    "# Create histograms\n",
    "sns.histplot(data=cars, x='Price', bins=30, kde=True, ax=axes[0,0])\n",
    "sns.histplot(data=cars, x='RegistrationYear', bins= 30, kde=True, ax=axes[0,1])\n",
    "sns.histplot(data=cars, x='Power', bins=30, kde=True, ax=axes[1,0])\n",
    "sns.histplot(data=cars, x='Mileage', bins=30, kde=True, ax=axes[1,1])\n",
    "plt.show()"
   ]
  },
  {
   "cell_type": "markdown",
   "id": "cd7562d6",
   "metadata": {},
   "source": [
    "According to the statistics and histograms of each numerical variable, there are outliers in both the lower and upper bounds of `RegistrationYear`, `Power` and `Price`. Let's clean up variable by variable by removing the outliers.\n",
    "\n",
    "**Registration Year `RegistrationYear`**.\n",
    "\n",
    "75% of the vehicles are registered between 1999 and 2008. There are outliers and invalid values such as 1000 and 9999. First we will **eliminate cases with a registration year greater than 2016** since the data provided for the analysis comes from registrations made in that year. "
   ]
  },
  {
   "cell_type": "code",
   "execution_count": 27,
   "id": "3ae53585",
   "metadata": {},
   "outputs": [
    {
     "name": "stdout",
     "output_type": "stream",
     "text": [
      "Cars with a registration higher than 2016: 11509\n"
     ]
    },
    {
     "data": {
      "text/plain": [
       "280846"
      ]
     },
     "execution_count": 27,
     "metadata": {},
     "output_type": "execute_result"
    }
   ],
   "source": [
    "# Cases RegistratioYear > 2016\n",
    "print('Cars with a registration higher than 2016:',cars.query('RegistrationYear > 2016').shape[0])\n",
    "\n",
    "# Drop cases > 2016\n",
    "cars = cars.loc[cars['RegistrationYear']<= 2016]\n",
    "\n",
    "cars.shape[0]"
   ]
  },
  {
   "cell_type": "markdown",
   "id": "a5e388a3",
   "metadata": {},
   "source": [
    "I eliminated 11509 with an invalid registration year at the upper cutoff (_i.e._ > 2016). \n",
    "\n",
    "The lower cutoff point is going to be arbitrarily determined, **cases whose vehicle age is not older than 30 years** i.e. whose registration year is greater than or equal to 1986 will be included considering that the data was collected in 2016. \n",
    "\n",
    "Although there are certainly older vehicles, it is possible that older cars have a huge price variation because they can be sold either very cheap due to their high mileage or very expensive because they are considered classics.\n",
    "\n",
    "These cases are very particular because the selling price depends on the make and condition of the vehicle. For example the VW model `'kaefer'` is a car that has been produced since 1946 and shows a great price variation as shown in the following graph."
   ]
  },
  {
   "cell_type": "code",
   "execution_count": 28,
   "id": "bd149965",
   "metadata": {},
   "outputs": [
    {
     "data": {
      "image/png": "[encoded data removed]",
      "text/plain": [
       "<Figure size 360x360 with 1 Axes>"
      ]
     },
     "metadata": {
      "needs_background": "light"
     },
     "output_type": "display_data"
    }
   ],
   "source": [
    "# Price dispersion of  VW kaefer between 1946 and 2016\n",
    "kaefer = cars.query('Model == \"kaefer\" & Price > 0 & RegistrationYear > 1945')\n",
    "sns.relplot(data=kaefer, x='RegistrationYear', y='Price', kind='scatter')\n",
    "plt.title('Price VW kaefer')\n",
    "plt.show()"
   ]
  },
  {
   "cell_type": "code",
   "execution_count": 29,
   "id": "1fdd86b6",
   "metadata": {},
   "outputs": [
    {
     "name": "stdout",
     "output_type": "stream",
     "text": [
      "Cars with a registration year less than 1986: 2030\n",
      "Cars with less than 30 years: 278429\n"
     ]
    }
   ],
   "source": [
    "# Cars with more than 30 years\n",
    "print('Cars with a registration year less than 1986:',cars.query('RegistrationYear < 1985').shape[0])\n",
    "\n",
    "# Eliminar registros menores a 1986\n",
    "cars = cars.loc[cars['RegistrationYear']>= 1986]\n",
    "\n",
    "print('Cars with less than 30 years:', cars.shape[0])"
   ]
  },
  {
   "cell_type": "markdown",
   "id": "3beff94c",
   "metadata": {},
   "source": [
    "I have filtered only vehicles with a maximum age of 30 years old in 2016 according to their year of registration.\n",
    "\n",
    "* **Power `Power`**.\n",
    "\n",
    "Power is recorded in hp (_Cheval-Vapeur_) or horsepower. One horsepower equals 0.99 HP or horsepower. \n",
    "\n",
    "There can be no vehicles with zero hp as this is an invalid error. Likewise cars with excessive values (see maximum value: 20000 equivalent to 19726 HP) can also be interpreted as a user error when registering the vehicle.\n",
    "\n",
    "Between 1986 and 2016 the range of engines was between 89 and 1521 HP which is equivalent to a range between 88 and 1500 HP (the most powerful models are manufactured by Koenigsegg and Bugatti, brands not included in the base). However, the average for the 2010s is 203 hp equivalent to 200 HP.\n",
    "\n",
    "As can be seen in the graph below, the range of hp is disproportionate and there is no apparent grouping by car model so this variable introduces a lot of noise. Because of this large variation, I choose **not to use `Power` to construct the pedictive models**."
   ]
  },
  {
   "cell_type": "code",
   "execution_count": 30,
   "id": "270cbda5",
   "metadata": {},
   "outputs": [
    {
     "data": {
      "image/png": "[encoded data removed]",
      "text/plain": [
       "<Figure size 360x360 with 1 Axes>"
      ]
     },
     "metadata": {
      "needs_background": "light"
     },
     "output_type": "display_data"
    }
   ],
   "source": [
    "sns.relplot(data=cars, x='RegistrationYear', y='Power', hue='Model', legend=False, kind='scatter')\n",
    "plt.title('Relation between CV and Registration Year')\n",
    "plt.show()"
   ]
  },
  {
   "cell_type": "code",
   "execution_count": 31,
   "id": "a1b73152",
   "metadata": {},
   "outputs": [],
   "source": [
    "# Delete column Power\n",
    "cars.drop('Power', axis=1, inplace=True)"
   ]
  },
  {
   "cell_type": "markdown",
   "id": "1ad82539",
   "metadata": {},
   "source": [
    "**`Mileage`**.\n",
    "\n",
    "The mileage shows reasonable values between 500 and 150,000 and therefore **I do not perform any cleaning**. However, it is curious to note that, contrary to expectations (a negative relationship), there is no relationship between the age of the vehicle and its mileage as shown in the following graph."
   ]
  },
  {
   "cell_type": "code",
   "execution_count": 32,
   "id": "d3cf444a",
   "metadata": {},
   "outputs": [
    {
     "data": {
      "image/png": "[encoded data removed]",
      "text/plain": [
       "<Figure size 360x360 with 1 Axes>"
      ]
     },
     "metadata": {
      "needs_background": "light"
     },
     "output_type": "display_data"
    }
   ],
   "source": [
    "# Scatter pplot Millage and RegistrationYear.\n",
    "sns.relplot(data=cars, x='RegistrationYear', y='Mileage', kind='scatter')\n",
    "plt.title('Relationship between Millage and RegistrationYear')\n",
    "plt.show()"
   ]
  },
  {
   "cell_type": "markdown",
   "id": "939063bc",
   "metadata": {},
   "source": [
    "**`Price`**.\n",
    "\n",
    "Finally, the only value that will be eliminated in the variable `Price` are those cases whose price is equal to zero since this is an invalid price for our purpose; however there are cases with prices even very low (_e.g._ 3 Euros). For this variable I arbitrarily choose a **minimum sales value of 100 Euros**."
   ]
  },
  {
   "cell_type": "code",
   "execution_count": 33,
   "id": "ca969af5",
   "metadata": {},
   "outputs": [
    {
     "name": "stdout",
     "output_type": "stream",
     "text": [
      "Size filtered DataFrame: 269909\n"
     ]
    }
   ],
   "source": [
    "# Filter cases with a Price >= 100\n",
    "cars = cars.loc[cars['Price']>=100]\n",
    "\n",
    "print('Size filtered DataFrame:', cars.shape[0])"
   ]
  },
  {
   "cell_type": "markdown",
   "id": "83969123",
   "metadata": {},
   "source": [
    "#### Intermediate conclusions (Pre-prosessing)\n",
    "\n",
    "After cleaning the database I reduced the number of cases from 354369 to 269909 while retaining **~78% of the original data**. I also reduced the number of variables from 15 to 8 which will be used to build the predictive models of the selling price of the vehicles registered in the platform. \n",
    "\n",
    "I have finished the data cleaning process. In the next section I will divide the data into training and test subsets for the following models:\n",
    "\n",
    "1. Linear Regression\n",
    "2. Regression tree \n",
    "3. Random forest regression\n",
    "4. LigthGBM\n",
    "5. CatBoost\n",
    "\n",
    "The first three models require coding the categorical variables before building the models, while the last two models do not require this task. Because of this I will create two copies of the clean data set."
   ]
  },
  {
   "cell_type": "markdown",
   "id": "b7f809b7",
   "metadata": {},
   "source": [
    "### Data segmentation\n",
    "\n",
    "In this section I will segment the data into training and test subsets for the following models:\n",
    "\n",
    "1. Linear Regression\n",
    "2. Regression tree \n",
    "3. Random forest regression\n",
    "4. LigthGBM\n",
    "5. CatBoost\n",
    "\n",
    "The first three models require **coding the categorical variables** before building the models, while the last two models do not require this task. Because of this I will create two copies of the clean data set, one categorized and one uncategorized. For both models, the numerical variables will be standardized."
   ]
  },
  {
   "cell_type": "markdown",
   "id": "ac50a87d",
   "metadata": {},
   "source": [
    "#### Segmentation with OHE coding\n",
    "\n",
    "For regression models that cannot handle categorical variables (_e.g._ `Gearbox`, `Model`, `Brand`) it is necessary to transform these variables into numerical ones. I will employ the One-Hot-Encoding (**OHE**) technique for this task. The encoded data will be stored in the DataFrame **`cars_ohe`**.\n",
    "\n",
    "\n",
    "I will then divide the resulting DataFrame into training and test subsets using a 3:1 ratio. The resulting sets will be named as follows:\n",
    "\n",
    "* **`fohe_train`**: Set of coded training features\n",
    "* **`fohe_test`**: Set of coded test features\n",
    "* **`tohe_train`**: Target training variable\n",
    "* **`tohe_test`**: Target test variable\n",
    "\n",
    "Finally I will scale the numerical variables (`RegistrationYear`, `Mileage`) of my training and test feature set by standardizing the data."
   ]
  },
  {
   "cell_type": "code",
   "execution_count": 34,
   "id": "a2415139",
   "metadata": {},
   "outputs": [
    {
     "data": {
      "text/html": [
       "<div>\n",
       "<style scoped>\n",
       "    .dataframe tbody tr th:only-of-type {\n",
       "        vertical-align: middle;\n",
       "    }\n",
       "\n",
       "    .dataframe tbody tr th {\n",
       "        vertical-align: top;\n",
       "    }\n",
       "\n",
       "    .dataframe thead th {\n",
       "        text-align: right;\n",
       "    }\n",
       "</style>\n",
       "<table border=\"1\" class=\"dataframe\">\n",
       "  <thead>\n",
       "    <tr style=\"text-align: right;\">\n",
       "      <th></th>\n",
       "      <th>Price</th>\n",
       "      <th>RegistrationYear</th>\n",
       "      <th>Mileage</th>\n",
       "      <th>Gearbox_manual</th>\n",
       "      <th>Gearbox_unknow</th>\n",
       "      <th>Model_145</th>\n",
       "      <th>Model_147</th>\n",
       "      <th>Model_156</th>\n",
       "      <th>Model_159</th>\n",
       "      <th>Model_1er</th>\n",
       "      <th>...</th>\n",
       "      <th>FuelType_other</th>\n",
       "      <th>NotRepaired_unknow</th>\n",
       "      <th>NotRepaired_yes</th>\n",
       "      <th>VehicleType_good_convertible</th>\n",
       "      <th>VehicleType_good_coupe</th>\n",
       "      <th>VehicleType_good_other</th>\n",
       "      <th>VehicleType_good_sedan</th>\n",
       "      <th>VehicleType_good_small</th>\n",
       "      <th>VehicleType_good_suv</th>\n",
       "      <th>VehicleType_good_wagon</th>\n",
       "    </tr>\n",
       "  </thead>\n",
       "  <tbody>\n",
       "    <tr>\n",
       "      <th>0</th>\n",
       "      <td>480</td>\n",
       "      <td>1993</td>\n",
       "      <td>150000</td>\n",
       "      <td>1</td>\n",
       "      <td>0</td>\n",
       "      <td>0</td>\n",
       "      <td>0</td>\n",
       "      <td>0</td>\n",
       "      <td>0</td>\n",
       "      <td>0</td>\n",
       "      <td>...</td>\n",
       "      <td>0</td>\n",
       "      <td>1</td>\n",
       "      <td>0</td>\n",
       "      <td>0</td>\n",
       "      <td>0</td>\n",
       "      <td>0</td>\n",
       "      <td>1</td>\n",
       "      <td>0</td>\n",
       "      <td>0</td>\n",
       "      <td>0</td>\n",
       "    </tr>\n",
       "    <tr>\n",
       "      <th>2</th>\n",
       "      <td>9800</td>\n",
       "      <td>2004</td>\n",
       "      <td>125000</td>\n",
       "      <td>0</td>\n",
       "      <td>0</td>\n",
       "      <td>0</td>\n",
       "      <td>0</td>\n",
       "      <td>0</td>\n",
       "      <td>0</td>\n",
       "      <td>0</td>\n",
       "      <td>...</td>\n",
       "      <td>0</td>\n",
       "      <td>1</td>\n",
       "      <td>0</td>\n",
       "      <td>0</td>\n",
       "      <td>0</td>\n",
       "      <td>0</td>\n",
       "      <td>0</td>\n",
       "      <td>0</td>\n",
       "      <td>1</td>\n",
       "      <td>0</td>\n",
       "    </tr>\n",
       "    <tr>\n",
       "      <th>3</th>\n",
       "      <td>1500</td>\n",
       "      <td>2001</td>\n",
       "      <td>150000</td>\n",
       "      <td>1</td>\n",
       "      <td>0</td>\n",
       "      <td>0</td>\n",
       "      <td>0</td>\n",
       "      <td>0</td>\n",
       "      <td>0</td>\n",
       "      <td>0</td>\n",
       "      <td>...</td>\n",
       "      <td>0</td>\n",
       "      <td>0</td>\n",
       "      <td>0</td>\n",
       "      <td>0</td>\n",
       "      <td>0</td>\n",
       "      <td>0</td>\n",
       "      <td>1</td>\n",
       "      <td>0</td>\n",
       "      <td>0</td>\n",
       "      <td>0</td>\n",
       "    </tr>\n",
       "    <tr>\n",
       "      <th>4</th>\n",
       "      <td>3600</td>\n",
       "      <td>2008</td>\n",
       "      <td>90000</td>\n",
       "      <td>1</td>\n",
       "      <td>0</td>\n",
       "      <td>0</td>\n",
       "      <td>0</td>\n",
       "      <td>0</td>\n",
       "      <td>0</td>\n",
       "      <td>0</td>\n",
       "      <td>...</td>\n",
       "      <td>0</td>\n",
       "      <td>0</td>\n",
       "      <td>0</td>\n",
       "      <td>0</td>\n",
       "      <td>0</td>\n",
       "      <td>0</td>\n",
       "      <td>0</td>\n",
       "      <td>1</td>\n",
       "      <td>0</td>\n",
       "      <td>0</td>\n",
       "    </tr>\n",
       "    <tr>\n",
       "      <th>5</th>\n",
       "      <td>650</td>\n",
       "      <td>1995</td>\n",
       "      <td>150000</td>\n",
       "      <td>1</td>\n",
       "      <td>0</td>\n",
       "      <td>0</td>\n",
       "      <td>0</td>\n",
       "      <td>0</td>\n",
       "      <td>0</td>\n",
       "      <td>0</td>\n",
       "      <td>...</td>\n",
       "      <td>0</td>\n",
       "      <td>0</td>\n",
       "      <td>1</td>\n",
       "      <td>0</td>\n",
       "      <td>0</td>\n",
       "      <td>0</td>\n",
       "      <td>1</td>\n",
       "      <td>0</td>\n",
       "      <td>0</td>\n",
       "      <td>0</td>\n",
       "    </tr>\n",
       "  </tbody>\n",
       "</table>\n",
       "<p>5 rows × 250 columns</p>\n",
       "</div>"
      ],
      "text/plain": [
       "   Price  RegistrationYear  Mileage  Gearbox_manual  Gearbox_unknow  \\\n",
       "0    480              1993   150000               1               0   \n",
       "2   9800              2004   125000               0               0   \n",
       "3   1500              2001   150000               1               0   \n",
       "4   3600              2008    90000               1               0   \n",
       "5    650              1995   150000               1               0   \n",
       "\n",
       "   Model_145  Model_147  Model_156  Model_159  Model_1er  ...  FuelType_other  \\\n",
       "0          0          0          0          0          0  ...               0   \n",
       "2          0          0          0          0          0  ...               0   \n",
       "3          0          0          0          0          0  ...               0   \n",
       "4          0          0          0          0          0  ...               0   \n",
       "5          0          0          0          0          0  ...               0   \n",
       "\n",
       "   NotRepaired_unknow  NotRepaired_yes  VehicleType_good_convertible  \\\n",
       "0                   1                0                             0   \n",
       "2                   1                0                             0   \n",
       "3                   0                0                             0   \n",
       "4                   0                0                             0   \n",
       "5                   0                1                             0   \n",
       "\n",
       "   VehicleType_good_coupe  VehicleType_good_other  VehicleType_good_sedan  \\\n",
       "0                       0                       0                       1   \n",
       "2                       0                       0                       0   \n",
       "3                       0                       0                       1   \n",
       "4                       0                       0                       0   \n",
       "5                       0                       0                       1   \n",
       "\n",
       "   VehicleType_good_small  VehicleType_good_suv  VehicleType_good_wagon  \n",
       "0                       0                     0                       0  \n",
       "2                       0                     1                       0  \n",
       "3                       0                     0                       0  \n",
       "4                       1                     0                       0  \n",
       "5                       0                     0                       0  \n",
       "\n",
       "[5 rows x 250 columns]"
      ]
     },
     "execution_count": 34,
     "metadata": {},
     "output_type": "execute_result"
    }
   ],
   "source": [
    "# Ohe encoding 'cars_ohe'\n",
    "cars_ohe = pd.get_dummies(cars, drop_first=True)\n",
    "\n",
    "# cars_ohe head\n",
    "cars_ohe.head()"
   ]
  },
  {
   "cell_type": "code",
   "execution_count": 35,
   "id": "3aeda238",
   "metadata": {},
   "outputs": [],
   "source": [
    "# Features selection\n",
    "features_ohe = cars_ohe.drop('Price', axis=1)\n",
    "\n",
    "# Target selection\n",
    "target_ohe = cars_ohe['Price']"
   ]
  },
  {
   "cell_type": "code",
   "execution_count": 36,
   "id": "9eaea0d4",
   "metadata": {},
   "outputs": [
    {
     "name": "stdout",
     "output_type": "stream",
     "text": [
      "Training feature set 'fohe_train': (202431, 249)\n",
      "Test feature set 'fohe_test':      (67478, 249)\n",
      "Set of training target variable:   (202431,)\n",
      "Set of test target variable:       (67478,)\n"
     ]
    }
   ],
   "source": [
    "# Data segmentation\n",
    "fohe_train, fohe_test, tohe_train, tohe_test = train_test_split(features_ohe, target_ohe, \n",
    "                                                                 test_size=0.25, random_state=12345)\n",
    "\n",
    "print(\"Training feature set 'fohe_train':\", fohe_train.shape)\n",
    "print(\"Test feature set 'fohe_test':     \", fohe_test.shape)\n",
    "print(\"Set of training target variable:  \", tohe_train.shape)\n",
    "print(\"Set of test target variable:      \", tohe_test.shape)"
   ]
  },
  {
   "cell_type": "code",
   "execution_count": 37,
   "id": "5d462266",
   "metadata": {},
   "outputs": [
    {
     "data": {
      "text/html": [
       "<div>\n",
       "<style scoped>\n",
       "    .dataframe tbody tr th:only-of-type {\n",
       "        vertical-align: middle;\n",
       "    }\n",
       "\n",
       "    .dataframe tbody tr th {\n",
       "        vertical-align: top;\n",
       "    }\n",
       "\n",
       "    .dataframe thead th {\n",
       "        text-align: right;\n",
       "    }\n",
       "</style>\n",
       "<table border=\"1\" class=\"dataframe\">\n",
       "  <thead>\n",
       "    <tr style=\"text-align: right;\">\n",
       "      <th></th>\n",
       "      <th>RegistrationYear</th>\n",
       "      <th>Mileage</th>\n",
       "      <th>Gearbox_manual</th>\n",
       "      <th>Gearbox_unknow</th>\n",
       "      <th>Model_145</th>\n",
       "      <th>Model_147</th>\n",
       "      <th>Model_156</th>\n",
       "      <th>Model_159</th>\n",
       "      <th>Model_1er</th>\n",
       "      <th>Model_200</th>\n",
       "      <th>...</th>\n",
       "      <th>FuelType_other</th>\n",
       "      <th>NotRepaired_unknow</th>\n",
       "      <th>NotRepaired_yes</th>\n",
       "      <th>VehicleType_good_convertible</th>\n",
       "      <th>VehicleType_good_coupe</th>\n",
       "      <th>VehicleType_good_other</th>\n",
       "      <th>VehicleType_good_sedan</th>\n",
       "      <th>VehicleType_good_small</th>\n",
       "      <th>VehicleType_good_suv</th>\n",
       "      <th>VehicleType_good_wagon</th>\n",
       "    </tr>\n",
       "  </thead>\n",
       "  <tbody>\n",
       "    <tr>\n",
       "      <th>175638</th>\n",
       "      <td>-0.211831</td>\n",
       "      <td>-0.127034</td>\n",
       "      <td>0</td>\n",
       "      <td>0</td>\n",
       "      <td>0</td>\n",
       "      <td>0</td>\n",
       "      <td>0</td>\n",
       "      <td>0</td>\n",
       "      <td>0</td>\n",
       "      <td>0</td>\n",
       "      <td>...</td>\n",
       "      <td>0</td>\n",
       "      <td>0</td>\n",
       "      <td>0</td>\n",
       "      <td>0</td>\n",
       "      <td>0</td>\n",
       "      <td>0</td>\n",
       "      <td>0</td>\n",
       "      <td>1</td>\n",
       "      <td>0</td>\n",
       "      <td>0</td>\n",
       "    </tr>\n",
       "    <tr>\n",
       "      <th>136996</th>\n",
       "      <td>-0.389147</td>\n",
       "      <td>0.567647</td>\n",
       "      <td>1</td>\n",
       "      <td>0</td>\n",
       "      <td>0</td>\n",
       "      <td>0</td>\n",
       "      <td>0</td>\n",
       "      <td>0</td>\n",
       "      <td>0</td>\n",
       "      <td>0</td>\n",
       "      <td>...</td>\n",
       "      <td>0</td>\n",
       "      <td>0</td>\n",
       "      <td>0</td>\n",
       "      <td>0</td>\n",
       "      <td>0</td>\n",
       "      <td>0</td>\n",
       "      <td>1</td>\n",
       "      <td>0</td>\n",
       "      <td>0</td>\n",
       "      <td>0</td>\n",
       "    </tr>\n",
       "    <tr>\n",
       "      <th>83198</th>\n",
       "      <td>-1.275728</td>\n",
       "      <td>0.567647</td>\n",
       "      <td>1</td>\n",
       "      <td>0</td>\n",
       "      <td>0</td>\n",
       "      <td>0</td>\n",
       "      <td>0</td>\n",
       "      <td>0</td>\n",
       "      <td>0</td>\n",
       "      <td>0</td>\n",
       "      <td>...</td>\n",
       "      <td>0</td>\n",
       "      <td>0</td>\n",
       "      <td>0</td>\n",
       "      <td>0</td>\n",
       "      <td>0</td>\n",
       "      <td>0</td>\n",
       "      <td>0</td>\n",
       "      <td>0</td>\n",
       "      <td>0</td>\n",
       "      <td>0</td>\n",
       "    </tr>\n",
       "    <tr>\n",
       "      <th>158006</th>\n",
       "      <td>-0.566464</td>\n",
       "      <td>-1.377459</td>\n",
       "      <td>0</td>\n",
       "      <td>1</td>\n",
       "      <td>0</td>\n",
       "      <td>0</td>\n",
       "      <td>0</td>\n",
       "      <td>0</td>\n",
       "      <td>0</td>\n",
       "      <td>0</td>\n",
       "      <td>...</td>\n",
       "      <td>0</td>\n",
       "      <td>1</td>\n",
       "      <td>0</td>\n",
       "      <td>1</td>\n",
       "      <td>0</td>\n",
       "      <td>0</td>\n",
       "      <td>0</td>\n",
       "      <td>0</td>\n",
       "      <td>0</td>\n",
       "      <td>0</td>\n",
       "    </tr>\n",
       "    <tr>\n",
       "      <th>333149</th>\n",
       "      <td>-0.211831</td>\n",
       "      <td>0.567647</td>\n",
       "      <td>1</td>\n",
       "      <td>0</td>\n",
       "      <td>0</td>\n",
       "      <td>0</td>\n",
       "      <td>0</td>\n",
       "      <td>0</td>\n",
       "      <td>0</td>\n",
       "      <td>0</td>\n",
       "      <td>...</td>\n",
       "      <td>0</td>\n",
       "      <td>0</td>\n",
       "      <td>1</td>\n",
       "      <td>0</td>\n",
       "      <td>0</td>\n",
       "      <td>0</td>\n",
       "      <td>0</td>\n",
       "      <td>0</td>\n",
       "      <td>0</td>\n",
       "      <td>0</td>\n",
       "    </tr>\n",
       "  </tbody>\n",
       "</table>\n",
       "<p>5 rows × 249 columns</p>\n",
       "</div>"
      ],
      "text/plain": [
       "        RegistrationYear   Mileage  Gearbox_manual  Gearbox_unknow  Model_145  \\\n",
       "175638         -0.211831 -0.127034               0               0          0   \n",
       "136996         -0.389147  0.567647               1               0          0   \n",
       "83198          -1.275728  0.567647               1               0          0   \n",
       "158006         -0.566464 -1.377459               0               1          0   \n",
       "333149         -0.211831  0.567647               1               0          0   \n",
       "\n",
       "        Model_147  Model_156  Model_159  Model_1er  Model_200  ...  \\\n",
       "175638          0          0          0          0          0  ...   \n",
       "136996          0          0          0          0          0  ...   \n",
       "83198           0          0          0          0          0  ...   \n",
       "158006          0          0          0          0          0  ...   \n",
       "333149          0          0          0          0          0  ...   \n",
       "\n",
       "        FuelType_other  NotRepaired_unknow  NotRepaired_yes  \\\n",
       "175638               0                   0                0   \n",
       "136996               0                   0                0   \n",
       "83198                0                   0                0   \n",
       "158006               0                   1                0   \n",
       "333149               0                   0                1   \n",
       "\n",
       "        VehicleType_good_convertible  VehicleType_good_coupe  \\\n",
       "175638                             0                       0   \n",
       "136996                             0                       0   \n",
       "83198                              0                       0   \n",
       "158006                             1                       0   \n",
       "333149                             0                       0   \n",
       "\n",
       "        VehicleType_good_other  VehicleType_good_sedan  \\\n",
       "175638                       0                       0   \n",
       "136996                       0                       1   \n",
       "83198                        0                       0   \n",
       "158006                       0                       0   \n",
       "333149                       0                       0   \n",
       "\n",
       "        VehicleType_good_small  VehicleType_good_suv  VehicleType_good_wagon  \n",
       "175638                       1                     0                       0  \n",
       "136996                       0                     0                       0  \n",
       "83198                        0                     0                       0  \n",
       "158006                       0                     0                       0  \n",
       "333149                       0                     0                       0  \n",
       "\n",
       "[5 rows x 249 columns]"
      ]
     },
     "execution_count": 37,
     "metadata": {},
     "output_type": "execute_result"
    }
   ],
   "source": [
    "pd.options.mode.chained_assignment = None\n",
    "\n",
    "# Scale of numeric variables\n",
    "numeric = ['RegistrationYear', 'Mileage']\n",
    "scaler = StandardScaler()\n",
    "\n",
    "scaler.fit(fohe_train[numeric])\n",
    "fohe_train[numeric] = scaler.transform(fohe_train[numeric])\n",
    "fohe_test[numeric] = scaler.transform(fohe_test[numeric])\n",
    "\n",
    "# Data viz\n",
    "fohe_train.head()"
   ]
  },
  {
   "cell_type": "markdown",
   "id": "0517f147",
   "metadata": {},
   "source": [
    "I created the training and test subsets for the characteristic and target variables by pre-coding them using the OHE technique; finally I scaled the numerical variables by standardizing them."
   ]
  },
  {
   "cell_type": "markdown",
   "id": "f83c8bde",
   "metadata": {},
   "source": [
    "#### Segmentation without coding\n",
    "\n",
    "Now I will create the training and test sets for the `LigthGBM` and `CatBoost` models which can handle categorical variables without coding. \n",
    "\n",
    "First I will create a copy of the DataFrame **`cars`** to train the mentioned models and it will be stored in the DataFrame **`cars_cat`**. Subsequently I will create the following training and test subsets, in a 3:1 ratio, which will be stored in the following DataFrames:\n",
    "\n",
    "* ** **`fcat_train`**: Training feature set.\n",
    "* ** **`fcat_test`**: Set of test features\n",
    "* ** **`tcat_train`**: Training target variable\n",
    "* ** **`tcat_test`**: Test target variable\n",
    "\n",
    "Finally, numerical variables (`RegistrationYear`, `Mileage`) will be scaled in the same way as done in the previous subsection."
   ]
  },
  {
   "cell_type": "code",
   "execution_count": 38,
   "id": "0eddfcbd",
   "metadata": {},
   "outputs": [],
   "source": [
    "# Copy DataFrame cars in cars_cat\n",
    "cars_cat = cars.copy()\n",
    "\n",
    "# Reset index\n",
    "cars_cat.reset_index(drop=True, inplace = True)"
   ]
  },
  {
   "cell_type": "code",
   "execution_count": 39,
   "id": "58d0e10a",
   "metadata": {},
   "outputs": [],
   "source": [
    "# Features selection\n",
    "features_cat = cars_cat.drop('Price', axis=1)\n",
    "\n",
    "# Target selection\n",
    "target_cat = cars_cat['Price']"
   ]
  },
  {
   "cell_type": "code",
   "execution_count": 40,
   "id": "c2cf9fa8",
   "metadata": {},
   "outputs": [
    {
     "name": "stdout",
     "output_type": "stream",
     "text": [
      "Training feature set 'fohe_train': (202431, 7)\n",
      "Test feature set 'fohe_test':      (67478, 7)\n",
      "Set of training target variable:   (202431,)\n",
      "Set of test target variable:       (67478,)\n"
     ]
    }
   ],
   "source": [
    "# Data segmentation\n",
    "fcat_train, fcat_test, tcat_train, tcat_test = train_test_split(features_cat, target_cat, \n",
    "                                                                 test_size=0.25, random_state=12345)\n",
    "\n",
    "print(\"Training feature set 'fohe_train':\", fcat_train.shape)\n",
    "print(\"Test feature set 'fohe_test':     \", fcat_test.shape)\n",
    "print(\"Set of training target variable:  \", tcat_train.shape)\n",
    "print(\"Set of test target variable:      \", tcat_test.shape)"
   ]
  },
  {
   "cell_type": "code",
   "execution_count": 41,
   "id": "11fe341d",
   "metadata": {},
   "outputs": [
    {
     "data": {
      "text/html": [
       "<div>\n",
       "<style scoped>\n",
       "    .dataframe tbody tr th:only-of-type {\n",
       "        vertical-align: middle;\n",
       "    }\n",
       "\n",
       "    .dataframe tbody tr th {\n",
       "        vertical-align: top;\n",
       "    }\n",
       "\n",
       "    .dataframe thead th {\n",
       "        text-align: right;\n",
       "    }\n",
       "</style>\n",
       "<table border=\"1\" class=\"dataframe\">\n",
       "  <thead>\n",
       "    <tr style=\"text-align: right;\">\n",
       "      <th></th>\n",
       "      <th>RegistrationYear</th>\n",
       "      <th>Gearbox</th>\n",
       "      <th>Model</th>\n",
       "      <th>Mileage</th>\n",
       "      <th>FuelType</th>\n",
       "      <th>NotRepaired</th>\n",
       "      <th>VehicleType_good</th>\n",
       "    </tr>\n",
       "  </thead>\n",
       "  <tbody>\n",
       "    <tr>\n",
       "      <th>133712</th>\n",
       "      <td>-0.211831</td>\n",
       "      <td>auto</td>\n",
       "      <td>fortwo</td>\n",
       "      <td>-0.127034</td>\n",
       "      <td>gasoline</td>\n",
       "      <td>no</td>\n",
       "      <td>small</td>\n",
       "    </tr>\n",
       "    <tr>\n",
       "      <th>104317</th>\n",
       "      <td>-0.389147</td>\n",
       "      <td>manual</td>\n",
       "      <td>astra</td>\n",
       "      <td>0.567647</td>\n",
       "      <td>gasoline</td>\n",
       "      <td>no</td>\n",
       "      <td>sedan</td>\n",
       "    </tr>\n",
       "    <tr>\n",
       "      <th>63364</th>\n",
       "      <td>-1.275728</td>\n",
       "      <td>manual</td>\n",
       "      <td>transporter</td>\n",
       "      <td>0.567647</td>\n",
       "      <td>gasoline</td>\n",
       "      <td>no</td>\n",
       "      <td>bus</td>\n",
       "    </tr>\n",
       "    <tr>\n",
       "      <th>120301</th>\n",
       "      <td>-0.566464</td>\n",
       "      <td>unknow</td>\n",
       "      <td>boxster</td>\n",
       "      <td>-1.377459</td>\n",
       "      <td>gasoline</td>\n",
       "      <td>unknow</td>\n",
       "      <td>convertible</td>\n",
       "    </tr>\n",
       "    <tr>\n",
       "      <th>253712</th>\n",
       "      <td>-0.211831</td>\n",
       "      <td>manual</td>\n",
       "      <td>kangoo</td>\n",
       "      <td>0.567647</td>\n",
       "      <td>gasoline</td>\n",
       "      <td>yes</td>\n",
       "      <td>bus</td>\n",
       "    </tr>\n",
       "  </tbody>\n",
       "</table>\n",
       "</div>"
      ],
      "text/plain": [
       "        RegistrationYear Gearbox        Model   Mileage  FuelType NotRepaired  \\\n",
       "133712         -0.211831    auto       fortwo -0.127034  gasoline          no   \n",
       "104317         -0.389147  manual        astra  0.567647  gasoline          no   \n",
       "63364          -1.275728  manual  transporter  0.567647  gasoline          no   \n",
       "120301         -0.566464  unknow      boxster -1.377459  gasoline      unknow   \n",
       "253712         -0.211831  manual       kangoo  0.567647  gasoline         yes   \n",
       "\n",
       "       VehicleType_good  \n",
       "133712            small  \n",
       "104317            sedan  \n",
       "63364               bus  \n",
       "120301      convertible  \n",
       "253712              bus  "
      ]
     },
     "execution_count": 41,
     "metadata": {},
     "output_type": "execute_result"
    }
   ],
   "source": [
    "pd.options.mode.chained_assignment = None\n",
    "\n",
    "# Scaled of numeric features\n",
    "numeric = ['RegistrationYear', 'Mileage']\n",
    "scaler = StandardScaler()\n",
    "\n",
    "scaler.fit(fcat_train[numeric])\n",
    "fcat_train[numeric] = scaler.transform(fcat_train[numeric])\n",
    "fcat_test[numeric] = scaler.transform(fcat_test[numeric])\n",
    "\n",
    "# Data viz\n",
    "fcat_train.head()"
   ]
  },
  {
   "cell_type": "markdown",
   "id": "bcf6a385",
   "metadata": {},
   "source": [
    "I have created the training and test subsets for the characteristic and target variables. The subsets will be used to train and validate the models with gradient descent."
   ]
  },
  {
   "cell_type": "markdown",
   "id": "bdd7b533",
   "metadata": {},
   "source": [
    "## Model training \n",
    "\n",
    "In this section different models will be trained and compared in their speed and quality through the _ratio squared root mean square error_ (**RMSE**) metric."
   ]
  },
  {
   "cell_type": "markdown",
   "id": "caf7bbaf",
   "metadata": {},
   "source": [
    "### Linear regression"
   ]
  },
  {
   "cell_type": "code",
   "execution_count": 42,
   "id": "811d0c1b",
   "metadata": {},
   "outputs": [
    {
     "name": "stdout",
     "output_type": "stream",
     "text": [
      "CPU times: user 9.64 s, sys: 1.04 s, total: 10.7 s\n",
      "Wall time: 7.33 s\n"
     ]
    },
    {
     "data": {
      "text/plain": [
       "LinearRegression()"
      ]
     },
     "execution_count": 42,
     "metadata": {},
     "output_type": "execute_result"
    }
   ],
   "source": [
    "# Instance of model LR\n",
    "lr_model = LinearRegression()\n",
    "\n",
    "# Model fitting LR\n",
    "%time lr_model.fit(fohe_train, tohe_train)"
   ]
  },
  {
   "cell_type": "code",
   "execution_count": 43,
   "id": "fa7fb91f",
   "metadata": {},
   "outputs": [
    {
     "name": "stdout",
     "output_type": "stream",
     "text": [
      "CPU times: user 79.9 ms, sys: 58.9 ms, total: 139 ms\n",
      "Wall time: 129 ms\n"
     ]
    }
   ],
   "source": [
    "# Predictions model LR\n",
    "%time lr_predict = lr_model.predict(fohe_test)"
   ]
  },
  {
   "cell_type": "code",
   "execution_count": 44,
   "id": "2d1d8d8e",
   "metadata": {},
   "outputs": [
    {
     "name": "stdout",
     "output_type": "stream",
     "text": [
      "Linear regression RMSE: 2624.17\n"
     ]
    }
   ],
   "source": [
    "# RMSE del lr_model\n",
    "lr_rmse = mean_squared_error(tohe_test, lr_predict, squared=False)\n",
    "print(f'Linear regression RMSE: {lr_rmse:.2f}')"
   ]
  },
  {
   "cell_type": "code",
   "execution_count": 45,
   "id": "445ad6e7",
   "metadata": {},
   "outputs": [],
   "source": [
    "# Record of metrics\n",
    "lr_params = {'model':'LR', 'fit_time (s)':7.33, 'pred_time (ms)':129, 'RMSE':2624.17}"
   ]
  },
  {
   "cell_type": "markdown",
   "id": "4497910a",
   "metadata": {},
   "source": [
    "### Regression Tree\n",
    "\n",
    "For the development of this model, I will tune the maximum depth hyperparameters (`max_depth`) of the regression tree by iterating values from 1 to 10. The optimal depth will be determined according to the RMSE calculated by **cross-validation** using 5 blocks."
   ]
  },
  {
   "cell_type": "code",
   "execution_count": 46,
   "id": "79c1e4ef",
   "metadata": {},
   "outputs": [
    {
     "name": "stdout",
     "output_type": "stream",
     "text": [
      "Max depth: 1 - Mean RMSE score: 3534.9989114046703\n",
      "Max depth: 2 - Mean RMSE score: 3260.0936921428724\n",
      "Max depth: 3 - Mean RMSE score: 3013.128091898086\n",
      "Max depth: 4 - Mean RMSE score: 2779.6524936819815\n",
      "Max depth: 5 - Mean RMSE score: 2636.167812950681\n",
      "Max depth: 6 - Mean RMSE score: 2515.8176174298474\n",
      "Max depth: 7 - Mean RMSE score: 2434.0844456640707\n",
      "Max depth: 8 - Mean RMSE score: 2362.409270260888\n",
      "Max depth: 9 - Mean RMSE score: 2304.9837639259363\n",
      "Max depth: 10 - Mean RMSE score: 2251.0992849318595\n"
     ]
    }
   ],
   "source": [
    "# Regression tree \n",
    "for depth in range(1,11):\n",
    "    ar_model = DecisionTreeRegressor(max_depth=depth, random_state=12345)\n",
    "    ar_score = cross_val_score(ar_model, fohe_train, tohe_train, scoring='neg_root_mean_squared_error', cv=5)\n",
    "    print('Max depth:', depth, '- Mean RMSE score:', np.abs(ar_score.mean()))"
   ]
  },
  {
   "cell_type": "markdown",
   "id": "bf4fe382",
   "metadata": {},
   "source": [
    "The regression tree model has a depth of 10 with an average RMSE of 2251.09. We will train the regression tree model with a maximum depth of 10 and obtain its speed and quality parameters."
   ]
  },
  {
   "cell_type": "code",
   "execution_count": 47,
   "id": "0b44d934",
   "metadata": {},
   "outputs": [
    {
     "name": "stdout",
     "output_type": "stream",
     "text": [
      "CPU times: user 3 s, sys: 356 ms, total: 3.35 s\n",
      "Wall time: 3.54 s\n"
     ]
    },
    {
     "data": {
      "text/plain": [
       "DecisionTreeRegressor(max_depth=10, random_state=12345)"
      ]
     },
     "execution_count": 47,
     "metadata": {},
     "output_type": "execute_result"
    }
   ],
   "source": [
    "# Regression tree instance\n",
    "rt_model = DecisionTreeRegressor(max_depth=10, random_state=12345)\n",
    "\n",
    "# Model fit\n",
    "%time rt_model.fit(fohe_train, tohe_train)"
   ]
  },
  {
   "cell_type": "code",
   "execution_count": 49,
   "id": "fe1c9434",
   "metadata": {},
   "outputs": [
    {
     "name": "stdout",
     "output_type": "stream",
     "text": [
      "CPU times: user 117 ms, sys: 117 ms, total: 234 ms\n",
      "Wall time: 258 ms\n"
     ]
    }
   ],
   "source": [
    "# Predictions\n",
    "%time rt_predict = rt_model.predict(fohe_test)"
   ]
  },
  {
   "cell_type": "code",
   "execution_count": 50,
   "id": "41010dfe",
   "metadata": {},
   "outputs": [
    {
     "name": "stdout",
     "output_type": "stream",
     "text": [
      "Regression tree RSME: 2256.74\n"
     ]
    }
   ],
   "source": [
    "# RMSE rt_model\n",
    "rt_rmse = mean_squared_error(tohe_test, rt_predict, squared=False)\n",
    "print(f'Regression tree RMSE: {rt_rmse:.2f}')"
   ]
  },
  {
   "cell_type": "code",
   "execution_count": 51,
   "id": "e80d3d52",
   "metadata": {},
   "outputs": [],
   "source": [
    "# Record of metrics\n",
    "ar_params = {'model':'RT', 'fit_time (s)':3.35, 'pred_time (ms)':234, 'RMSE':2256.74}"
   ]
  },
  {
   "cell_type": "markdown",
   "id": "ef961c9f",
   "metadata": {},
   "source": [
    "### Regression random forest\n",
    "\n",
    "Finally I am going to build a random regression forest model, for which I will look for the best combination between the number of estimators (`n_estimators`) and the maximum depth of each tree (`max_depth`). The number of estimators will be iterated between 10 and 50 with step of 10 i.e. (10, 20, 30, 40 and 50), the maximum depth will be iterated from 1 to 10. The optimal depth and number of estimators will be determined according to the RECM calculated by cross validation using 5 blocks.\n",
    "\n",
    "**Note**: the code where the iteration is done is not executed due to the time required to perform the iteration of each parameter and the cross validation. The best model selected by iteration is presented as executable code."
   ]
  },
  {
   "cell_type": "code",
   "execution_count": null,
   "id": "4d8c0c0e",
   "metadata": {},
   "outputs": [],
   "source": [
    "#best_bar = None\n",
    "#best_bar_score = 5000\n",
    "#best_est = 0\n",
    "#best_depth = 0\n",
    "#\n",
    "## Iteración con diferentes estimadores y profundidades, esto puede tomar un rato asi que ve por un café\n",
    "#for est in range(10, 51, 10):\n",
    "#    for depth in range(1,11):\n",
    "#        bar_model = RandomForestRegressor(n_estimators=est, max_depth=depth, random_state=12345)\n",
    "#        bar_score = cross_val_score(bar_model, fohe_train, tohe_train, scoring='neg_root_mean_squared_error', cv=5)\n",
    "#        bar_score_mean = np.abs(bar_score.mean())\n",
    "#        if bar_score_mean < best_bar_score:\n",
    "#            best_bar = bar_model\n",
    "#            best_bar_score = bar_score_mean\n",
    "#            best_est = est\n",
    "#            best_depth = depth\n",
    "#\n",
    "#print('Mejor RECM promedio:', best_bar_score, '| n_estimators:', best_est, '| max_depth:', best_depth)"
   ]
  },
  {
   "cell_type": "markdown",
   "id": "5e948c11",
   "metadata": {},
   "source": [
    "The best random forest regression model has 40 estimators with a maximum depth of 10. We will use these hyperparameters to train our random forest regression model."
   ]
  },
  {
   "cell_type": "code",
   "execution_count": 52,
   "id": "afeadf16",
   "metadata": {},
   "outputs": [
    {
     "name": "stdout",
     "output_type": "stream",
     "text": [
      "CPU times: user 1min 11s, sys: 958 ms, total: 1min 12s\n",
      "Wall time: 1min 15s\n"
     ]
    },
    {
     "data": {
      "text/plain": [
       "RandomForestRegressor(max_depth=10, n_estimators=40, random_state=12345)"
      ]
     },
     "execution_count": 52,
     "metadata": {},
     "output_type": "execute_result"
    }
   ],
   "source": [
    "# Best random forest regressior\n",
    "rfr_model = RandomForestRegressor(n_estimators= 40, max_depth= 10, random_state=12345)\n",
    "\n",
    "# Model fit\n",
    "%time rfr_model.fit(fohe_train, tohe_train)"
   ]
  },
  {
   "cell_type": "code",
   "execution_count": 53,
   "id": "3385dede",
   "metadata": {},
   "outputs": [
    {
     "name": "stdout",
     "output_type": "stream",
     "text": [
      "CPU times: user 301 ms, sys: 90.5 ms, total: 392 ms\n",
      "Wall time: 392 ms\n"
     ]
    }
   ],
   "source": [
    "# Predictions\n",
    "%time rfr_predict = rfr_model.predict(fohe_test)"
   ]
  },
  {
   "cell_type": "code",
   "execution_count": 54,
   "id": "359337b8",
   "metadata": {},
   "outputs": [
    {
     "name": "stdout",
     "output_type": "stream",
     "text": [
      "Random forest regressor RMSE: 2211.76\n"
     ]
    }
   ],
   "source": [
    "# RMSE rfr_model\n",
    "rfr_rmse = mean_squared_error(tohe_test, rfr_predict, squared=False)\n",
    "print(f'Random forest regressor RMSE: {rfr_rmse:.2f}')"
   ]
  },
  {
   "cell_type": "code",
   "execution_count": 55,
   "id": "af25c446",
   "metadata": {},
   "outputs": [],
   "source": [
    "# Registro de métricas del modelo de bosque aleatoreo de regresión lineal\n",
    "bar_params = {'model':'RFR', 'fit_time (s)':72.0, 'pred_time (ms)':392, 'RMSE':2211.76}"
   ]
  },
  {
   "cell_type": "markdown",
   "id": "f332b6a2",
   "metadata": {},
   "source": [
    "### LightGBM Regressor\n",
    "\n",
    "LightGBM is a gradient boosting model that uses tree-based learning algorithms. The LightGBM regressor (`LGBMRegressor`) helps when dealing with regression problems. \n",
    "\n",
    "This algorithm can be built with categorical variables without the need to be coded into numerical variables beforehand. However, it is necessary to transform such variables explicitly to `'category'` type. \n",
    "\n",
    "The `LGBMRegressor` algorithm has several hyperparameters that can be tuned. In this exercise, I will tune the following hyperparameters:\n",
    "\n",
    "* `num_leaves`: maximum number of leaves of the base students. Values: `[10, 20, 30]`.\n",
    "* `learning_rate`: learning rate of boosting gradient. Values: `[0.1, 0.3]`.\n",
    "* `max_depth`: maximum depth of the base learner tree. Values: `[-1, 10]`.\n",
    "\n",
    "The parameters will be selected using cross validation using 5 blocks set by default in the `GridSearchCV` function. Once the optimal parameters have been selected based on the RMSE of each dependent model, I will proceed to tune the final model and calculate its speed and accuracy."
   ]
  },
  {
   "cell_type": "code",
   "execution_count": 56,
   "id": "b340a32f",
   "metadata": {},
   "outputs": [
    {
     "name": "stdout",
     "output_type": "stream",
     "text": [
      "{'learning_rate': 0.3, 'max_depth': -1, 'num_leaves': 31, 'random_state': 12345} -3039289.127186409\n"
     ]
    }
   ],
   "source": [
    "# Transform categorical variables\n",
    "\n",
    "categorical = ['Gearbox', 'Model', 'FuelType', 'NotRepaired', 'VehicleType_good']\n",
    "\n",
    "for col in categorical:\n",
    "    fcat_train[col] = fcat_train[col].astype('category')\n",
    "    fcat_test[col] = fcat_test[col].astype('category')\n",
    "\n",
    "# Ignore warnings\n",
    "warnings.filterwarnings('ignore')\n",
    "\n",
    "# Hyperparameters\n",
    "parametros = {\n",
    "    'num_leaves':[11, 21, 31],\n",
    "    'learning_rate':[0.1, 0.3],\n",
    "    'max_depth': [-1, 10],\n",
    "    'random_state': [12345]\n",
    "}\n",
    "\n",
    "# LGBM model\n",
    "lgbm = LGBMRegressor()\n",
    "\n",
    "# Parameters settings\n",
    "lgbm_gs = GridSearchCV(estimator=lgbm, param_grid=parametros, scoring='neg_mean_squared_error')\n",
    "\n",
    "# model fit\n",
    "lgbm_model = lgbm_gs.fit(X=fcat_train, y=tcat_train)\n",
    "print(lgbm_model.best_params_, lgbm_model.best_score_)"
   ]
  },
  {
   "cell_type": "code",
   "execution_count": 57,
   "id": "adfe9345",
   "metadata": {},
   "outputs": [
    {
     "name": "stdout",
     "output_type": "stream",
     "text": [
      "CPU times: user 2.6 s, sys: 83.4 ms, total: 2.68 s\n",
      "Wall time: 770 ms\n"
     ]
    },
    {
     "data": {
      "text/plain": [
       "LGBMRegressor(learning_rate=0.3, random_state=12345)"
      ]
     },
     "execution_count": 57,
     "metadata": {},
     "output_type": "execute_result"
    }
   ],
   "source": [
    "# Optimal LGBM model\n",
    "lgbm_final = LGBMRegressor(num_leaves= 31, learning_rate= 0.3, max_depth=-1, random_state=12345)\n",
    "\n",
    "# fit lgbm_final\n",
    "%time lgbm_final.fit(X=fcat_train, y=tcat_train)"
   ]
  },
  {
   "cell_type": "code",
   "execution_count": 58,
   "id": "d0dccf16",
   "metadata": {},
   "outputs": [
    {
     "name": "stdout",
     "output_type": "stream",
     "text": [
      "CPU times: user 572 ms, sys: 15.7 ms, total: 588 ms\n",
      "Wall time: 193 ms\n"
     ]
    }
   ],
   "source": [
    "# # Predictions\n",
    "%time lgbm_predict = lgbm_final.predict(fcat_test)"
   ]
  },
  {
   "cell_type": "code",
   "execution_count": 59,
   "id": "6d950865",
   "metadata": {},
   "outputs": [
    {
     "name": "stdout",
     "output_type": "stream",
     "text": [
      "LGBM regressor RMSE: 1745.69\n"
     ]
    }
   ],
   "source": [
    "# RMSE lgbm_final\n",
    "lgbm_recm = mean_squared_error(tcat_test, lgbm_predict, squared=False)\n",
    "print(f'LGBM regressor RMSE: {lgbm_recm:.2f}')"
   ]
  },
  {
   "cell_type": "code",
   "execution_count": 60,
   "id": "2d6e5d97",
   "metadata": {},
   "outputs": [],
   "source": [
    "# Record of metrics\n",
    "lgbm_params = {'model':'lgbm', 'fit_time (s)':2.68, 'pred_time (ms)':588, 'RMSE':1745.69}"
   ]
  },
  {
   "cell_type": "markdown",
   "id": "4dfe9543",
   "metadata": {},
   "source": [
    "### Catboost Regressor\n",
    "\n",
    "Finally I will build the last prediction model based on the `Catboost` algorithm, this model like `LightGBM` can handle categorical variables without any prior numerical coding and is based on decision trees.\n",
    "\n",
    "The `CatBoostRegressor` regression model has different hyperparameters that can be tuned to fit the model. The hyperparameters to be tuned will be the following:\n",
    "\n",
    "* `learning_rate`: Learning rate. Values `[0.1, 0.3]`.\n",
    "* `max_depth`: Maximum depth of the base learner tree. Values `[-1, 10]`.\n",
    "Values `[-1, 10]` * `iteratons`: Number of iterations. Values `[50, 100, 150]`.\n",
    "\n",
    "The model with the optimal hyperparameters will be selected by cross validation based on the RMSE value in the same way as described for the LGBM models. The default loss function is RMSE. "
   ]
  },
  {
   "cell_type": "code",
   "execution_count": 61,
   "id": "52e4b7ad",
   "metadata": {},
   "outputs": [
    {
     "name": "stdout",
     "output_type": "stream",
     "text": [
      "0:\tlearn: 4222.1426168\ttotal: 199ms\tremaining: 9.73s\n",
      "49:\tlearn: 1974.0230586\ttotal: 3.25s\tremaining: 0us\n",
      "0:\tlearn: 4215.2249010\ttotal: 121ms\tremaining: 5.91s\n",
      "49:\tlearn: 1965.9083354\ttotal: 3.11s\tremaining: 0us\n",
      "0:\tlearn: 4233.1547598\ttotal: 82.4ms\tremaining: 4.04s\n",
      "49:\tlearn: 1970.1288890\ttotal: 2.9s\tremaining: 0us\n",
      "0:\tlearn: 4220.2768408\ttotal: 82ms\tremaining: 4.02s\n",
      "49:\tlearn: 1966.8534092\ttotal: 3.05s\tremaining: 0us\n",
      "0:\tlearn: 4211.2724695\ttotal: 84.9ms\tremaining: 4.16s\n",
      "49:\tlearn: 1968.0053725\ttotal: 3.08s\tremaining: 0us\n",
      "0:\tlearn: 3652.8788227\ttotal: 68.5ms\tremaining: 3.35s\n",
      "49:\tlearn: 1861.1110997\ttotal: 3.11s\tremaining: 0us\n",
      "0:\tlearn: 3635.5438973\ttotal: 83.2ms\tremaining: 4.07s\n",
      "49:\tlearn: 1859.5989719\ttotal: 3s\tremaining: 0us\n",
      "0:\tlearn: 3650.9978552\ttotal: 87.9ms\tremaining: 4.3s\n",
      "49:\tlearn: 1871.2788639\ttotal: 3.07s\tremaining: 0us\n",
      "0:\tlearn: 3646.7473769\ttotal: 83.5ms\tremaining: 4.09s\n",
      "49:\tlearn: 1862.3529248\ttotal: 3.23s\tremaining: 0us\n",
      "0:\tlearn: 3637.1454262\ttotal: 86.2ms\tremaining: 4.23s\n",
      "49:\tlearn: 1863.8771666\ttotal: 3.02s\tremaining: 0us\n",
      "0:\tlearn: 4222.1426168\ttotal: 83.3ms\tremaining: 8.25s\n",
      "50:\tlearn: 1970.3858324\ttotal: 3.21s\tremaining: 3.08s\n",
      "99:\tlearn: 1896.2688335\ttotal: 6.41s\tremaining: 0us\n",
      "0:\tlearn: 4215.2249010\ttotal: 103ms\tremaining: 10.2s\n",
      "50:\tlearn: 1963.2111102\ttotal: 3.02s\tremaining: 2.9s\n",
      "99:\tlearn: 1888.6878189\ttotal: 5.91s\tremaining: 0us\n",
      "0:\tlearn: 4233.1547598\ttotal: 81.3ms\tremaining: 8.04s\n",
      "50:\tlearn: 1967.8339072\ttotal: 3.07s\tremaining: 2.95s\n",
      "99:\tlearn: 1895.2731373\ttotal: 5.89s\tremaining: 0us\n",
      "0:\tlearn: 4220.2768408\ttotal: 81.3ms\tremaining: 8.04s\n",
      "50:\tlearn: 1964.1231338\ttotal: 3.43s\tremaining: 3.3s\n",
      "99:\tlearn: 1894.3732283\ttotal: 6.4s\tremaining: 0us\n",
      "0:\tlearn: 4211.2724695\ttotal: 104ms\tremaining: 10.3s\n",
      "50:\tlearn: 1965.7061622\ttotal: 3.61s\tremaining: 3.46s\n",
      "99:\tlearn: 1895.5842128\ttotal: 6.6s\tremaining: 0us\n",
      "0:\tlearn: 3652.8788227\ttotal: 74ms\tremaining: 7.33s\n",
      "50:\tlearn: 1860.6585797\ttotal: 3.13s\tremaining: 3.01s\n",
      "99:\tlearn: 1810.1756238\ttotal: 6.04s\tremaining: 0us\n",
      "0:\tlearn: 3635.5438973\ttotal: 78.4ms\tremaining: 7.76s\n",
      "50:\tlearn: 1858.1233435\ttotal: 3.23s\tremaining: 3.1s\n",
      "99:\tlearn: 1805.1402638\ttotal: 6.14s\tremaining: 0us\n",
      "0:\tlearn: 3650.9978552\ttotal: 76.7ms\tremaining: 7.59s\n",
      "50:\tlearn: 1868.4166132\ttotal: 3.47s\tremaining: 3.34s\n",
      "99:\tlearn: 1815.6657786\ttotal: 7.2s\tremaining: 0us\n",
      "0:\tlearn: 3646.7473769\ttotal: 87.2ms\tremaining: 8.63s\n",
      "50:\tlearn: 1861.0664617\ttotal: 3.55s\tremaining: 3.41s\n",
      "99:\tlearn: 1806.7965501\ttotal: 6.51s\tremaining: 0us\n",
      "0:\tlearn: 3637.1454262\ttotal: 85.6ms\tremaining: 8.47s\n",
      "50:\tlearn: 1862.5624278\ttotal: 3.23s\tremaining: 3.1s\n",
      "99:\tlearn: 1811.0583173\ttotal: 6.25s\tremaining: 0us\n",
      "0:\tlearn: 4222.1426168\ttotal: 73.9ms\tremaining: 11s\n",
      "50:\tlearn: 1970.3858324\ttotal: 3.15s\tremaining: 6.11s\n",
      "100:\tlearn: 1894.8674713\ttotal: 6.21s\tremaining: 3.01s\n",
      "149:\tlearn: 1860.8082779\ttotal: 8.93s\tremaining: 0us\n",
      "0:\tlearn: 4215.2249010\ttotal: 74.5ms\tremaining: 11.1s\n",
      "50:\tlearn: 1963.2111102\ttotal: 3.17s\tremaining: 6.16s\n",
      "100:\tlearn: 1888.1484688\ttotal: 6.71s\tremaining: 3.26s\n",
      "149:\tlearn: 1854.5549602\ttotal: 9.89s\tremaining: 0us\n",
      "0:\tlearn: 4233.1547598\ttotal: 79.1ms\tremaining: 11.8s\n",
      "50:\tlearn: 1967.8339072\ttotal: 3.14s\tremaining: 6.09s\n",
      "100:\tlearn: 1893.4322642\ttotal: 6.55s\tremaining: 3.18s\n",
      "149:\tlearn: 1860.6742800\ttotal: 9.85s\tremaining: 0us\n",
      "0:\tlearn: 4220.2768408\ttotal: 69.7ms\tremaining: 10.4s\n",
      "50:\tlearn: 1964.1231338\ttotal: 3.27s\tremaining: 6.36s\n",
      "100:\tlearn: 1893.9809692\ttotal: 6.92s\tremaining: 3.36s\n",
      "149:\tlearn: 1860.8694057\ttotal: 11.6s\tremaining: 0us\n",
      "0:\tlearn: 4211.2724695\ttotal: 79.6ms\tremaining: 11.9s\n",
      "50:\tlearn: 1965.7061622\ttotal: 3.46s\tremaining: 6.72s\n",
      "100:\tlearn: 1894.8696144\ttotal: 6.74s\tremaining: 3.27s\n",
      "149:\tlearn: 1861.1402709\ttotal: 9.95s\tremaining: 0us\n",
      "0:\tlearn: 3652.8788227\ttotal: 66.9ms\tremaining: 9.97s\n",
      "50:\tlearn: 1860.6585797\ttotal: 3.08s\tremaining: 5.97s\n",
      "100:\tlearn: 1809.0803043\ttotal: 6.02s\tremaining: 2.92s\n",
      "149:\tlearn: 1783.8032322\ttotal: 8.97s\tremaining: 0us\n",
      "0:\tlearn: 3635.5438973\ttotal: 93.3ms\tremaining: 13.9s\n",
      "50:\tlearn: 1858.1233435\ttotal: 3.2s\tremaining: 6.22s\n",
      "100:\tlearn: 1804.4103401\ttotal: 6.13s\tremaining: 2.98s\n",
      "149:\tlearn: 1774.6756906\ttotal: 9.07s\tremaining: 0us\n",
      "0:\tlearn: 3650.9978552\ttotal: 76.4ms\tremaining: 11.4s\n",
      "50:\tlearn: 1868.4166132\ttotal: 3.15s\tremaining: 6.11s\n",
      "100:\tlearn: 1814.5471516\ttotal: 6.64s\tremaining: 3.22s\n",
      "149:\tlearn: 1784.6582611\ttotal: 9.95s\tremaining: 0us\n",
      "0:\tlearn: 3646.7473769\ttotal: 72.3ms\tremaining: 10.8s\n",
      "50:\tlearn: 1861.0664617\ttotal: 3.95s\tremaining: 7.67s\n",
      "100:\tlearn: 1805.2645707\ttotal: 7.33s\tremaining: 3.56s\n",
      "149:\tlearn: 1780.4577602\ttotal: 10.5s\tremaining: 0us\n",
      "0:\tlearn: 3637.1454262\ttotal: 107ms\tremaining: 16s\n",
      "50:\tlearn: 1862.5624278\ttotal: 3.28s\tremaining: 6.36s\n",
      "100:\tlearn: 1809.9860911\ttotal: 6.91s\tremaining: 3.35s\n",
      "149:\tlearn: 1783.6682929\ttotal: 10.6s\tremaining: 0us\n",
      "0:\tlearn: 3645.8943392\ttotal: 109ms\tremaining: 16.3s\n",
      "50:\tlearn: 1867.8674231\ttotal: 6.13s\tremaining: 11.9s\n",
      "100:\tlearn: 1817.7354415\ttotal: 10s\tremaining: 4.85s\n",
      "149:\tlearn: 1790.5452303\ttotal: 13.8s\tremaining: 0us\n"
     ]
    }
   ],
   "source": [
    "categorical = ['Gearbox', 'Model', 'FuelType', 'NotRepaired', 'VehicleType_good']\n",
    "\n",
    "# Model hiperparameters\n",
    "parametros = {\n",
    "    'learning_rate':[0.1, 0.3],\n",
    "    'max_depth': [-1, 10],\n",
    "    'iterations':[50, 100, 150],\n",
    "    'random_state': [12345]\n",
    "}\n",
    "\n",
    "# Catboost regresor model\n",
    "cat = CatBoostRegressor()\n",
    "\n",
    "# Model selection based on its RMSE\n",
    "cat_gs = GridSearchCV(estimator=cat, param_grid=parametros, scoring='neg_mean_squared_error')\n",
    "\n",
    "# Model fitting and selection\n",
    "cat_model = cat_gs.fit(X=fcat_train, y=tcat_train, cat_features= categorical, verbose=50)"
   ]
  },
  {
   "cell_type": "code",
   "execution_count": 63,
   "id": "dcc8bf31",
   "metadata": {},
   "outputs": [
    {
     "name": "stdout",
     "output_type": "stream",
     "text": [
      "{'iterations': 150, 'learning_rate': 0.3, 'max_depth': 10, 'random_state': 12345} -3468158.5188650438\n"
     ]
    }
   ],
   "source": [
    "print(cat_model.best_params_, cat_model.best_score_)"
   ]
  },
  {
   "cell_type": "code",
   "execution_count": 64,
   "id": "cf334a80",
   "metadata": {},
   "outputs": [
    {
     "name": "stdout",
     "output_type": "stream",
     "text": [
      "0:\tlearn: 3645.8943392\ttotal: 158ms\tremaining: 23.6s\n",
      "50:\tlearn: 1867.8674231\ttotal: 5.53s\tremaining: 10.7s\n",
      "100:\tlearn: 1817.7354415\ttotal: 9.83s\tremaining: 4.77s\n",
      "149:\tlearn: 1790.5452303\ttotal: 14.6s\tremaining: 0us\n",
      "CPU times: user 33.5 s, sys: 1.11 s, total: 34.6 s\n",
      "Wall time: 14.9 s\n"
     ]
    },
    {
     "data": {
      "text/plain": [
       "<catboost.core.CatBoostRegressor at 0x12c7543d0>"
      ]
     },
     "execution_count": 64,
     "metadata": {},
     "output_type": "execute_result"
    }
   ],
   "source": [
    "# Optimal Catboost model\n",
    "cat_final = CatBoostRegressor(learning_rate=0.3, max_depth=10, iterations = 150, random_state=12345)\n",
    "\n",
    "%time cat_final.fit(fcat_train, tcat_train, cat_features= categorical, verbose=50)"
   ]
  },
  {
   "cell_type": "code",
   "execution_count": 65,
   "id": "df0b8c4b",
   "metadata": {},
   "outputs": [
    {
     "name": "stdout",
     "output_type": "stream",
     "text": [
      "CPU times: user 148 ms, sys: 9.16 ms, total: 157 ms\n",
      "Wall time: 97.9 ms\n"
     ]
    }
   ],
   "source": [
    "# Predictions\n",
    "%time cat_predict=cat_final.predict(fcat_test)"
   ]
  },
  {
   "cell_type": "code",
   "execution_count": 66,
   "id": "6f3b6179",
   "metadata": {},
   "outputs": [
    {
     "name": "stdout",
     "output_type": "stream",
     "text": [
      "Catboost regressor RMSE: 1862.08\n"
     ]
    }
   ],
   "source": [
    "# RMSE cat_final\n",
    "cat_recm = mean_squared_error(tcat_test, cat_predict, squared=False)\n",
    "print(f'Catboost regressor RMSE: {cat_recm:.2f}')"
   ]
  },
  {
   "cell_type": "code",
   "execution_count": 67,
   "id": "91094e03",
   "metadata": {},
   "outputs": [],
   "source": [
    "# Record of metrics\n",
    "cat_params = {'model':'catboost', 'fit_time (s)':14.9, 'pred_time (ms)':97.9, 'RMSE':1862.08}"
   ]
  },
  {
   "cell_type": "markdown",
   "id": "2b361496",
   "metadata": {},
   "source": [
    "## Model analysis\n",
    "\n",
    "In this last section I will compare the models in terms of:\n",
    "\n",
    "* training time in seconds (`fit_time (s)`)\n",
    "* Prediction time in milliseconds (`pred_time (ms)`)\n",
    "* Model quality according to its RMSE.\n",
    "\n",
    "The metrics of each model are stored in the DataFrame **`models`**."
   ]
  },
  {
   "cell_type": "code",
   "execution_count": 68,
   "id": "1738572b",
   "metadata": {},
   "outputs": [
    {
     "data": {
      "text/html": [
       "<div>\n",
       "<style scoped>\n",
       "    .dataframe tbody tr th:only-of-type {\n",
       "        vertical-align: middle;\n",
       "    }\n",
       "\n",
       "    .dataframe tbody tr th {\n",
       "        vertical-align: top;\n",
       "    }\n",
       "\n",
       "    .dataframe thead th {\n",
       "        text-align: right;\n",
       "    }\n",
       "</style>\n",
       "<table border=\"1\" class=\"dataframe\">\n",
       "  <thead>\n",
       "    <tr style=\"text-align: right;\">\n",
       "      <th></th>\n",
       "      <th>model</th>\n",
       "      <th>fit_time (s)</th>\n",
       "      <th>pred_time (ms)</th>\n",
       "      <th>RMSE</th>\n",
       "    </tr>\n",
       "  </thead>\n",
       "  <tbody>\n",
       "    <tr>\n",
       "      <th>0</th>\n",
       "      <td>LR</td>\n",
       "      <td>7.33</td>\n",
       "      <td>129.0</td>\n",
       "      <td>2624.17</td>\n",
       "    </tr>\n",
       "    <tr>\n",
       "      <th>1</th>\n",
       "      <td>RT</td>\n",
       "      <td>3.35</td>\n",
       "      <td>234.0</td>\n",
       "      <td>2256.74</td>\n",
       "    </tr>\n",
       "    <tr>\n",
       "      <th>2</th>\n",
       "      <td>RFR</td>\n",
       "      <td>72.00</td>\n",
       "      <td>392.0</td>\n",
       "      <td>2211.76</td>\n",
       "    </tr>\n",
       "    <tr>\n",
       "      <th>3</th>\n",
       "      <td>lgbm</td>\n",
       "      <td>2.68</td>\n",
       "      <td>588.0</td>\n",
       "      <td>1745.69</td>\n",
       "    </tr>\n",
       "    <tr>\n",
       "      <th>4</th>\n",
       "      <td>catboost</td>\n",
       "      <td>14.90</td>\n",
       "      <td>97.9</td>\n",
       "      <td>1862.08</td>\n",
       "    </tr>\n",
       "  </tbody>\n",
       "</table>\n",
       "</div>"
      ],
      "text/plain": [
       "      model  fit_time (s)  pred_time (ms)     RMSE\n",
       "0        LR          7.33           129.0  2624.17\n",
       "1        RT          3.35           234.0  2256.74\n",
       "2       RFR         72.00           392.0  2211.76\n",
       "3      lgbm          2.68           588.0  1745.69\n",
       "4  catboost         14.90            97.9  1862.08"
      ]
     },
     "execution_count": 68,
     "metadata": {},
     "output_type": "execute_result"
    }
   ],
   "source": [
    "# Models DataFrame\n",
    "models = pd.DataFrame([lr_params, ar_params, bar_params, lgbm_params, cat_params])\n",
    "models"
   ]
  },
  {
   "cell_type": "markdown",
   "id": "537bf371",
   "metadata": {},
   "source": [
    "Fit times and prediction quality vary among the different models, in both cases lower values are desirable. In the following graph we explore the relationship of model fitting time and model quality using a scatter plot. The models in the lower left corner are those with the best performance."
   ]
  },
  {
   "cell_type": "code",
   "execution_count": 69,
   "id": "f3dc8f1d",
   "metadata": {},
   "outputs": [
    {
     "data": {
      "image/png": "[encoded data removed]",
      "text/plain": [
       "<Figure size 438.875x360 with 1 Axes>"
      ]
     },
     "metadata": {
      "needs_background": "light"
     },
     "output_type": "display_data"
    }
   ],
   "source": [
    "# Relation between fitting time and RMSE\n",
    "sns.relplot(data=models, x='fit_time (s)', y='RMSE', hue='model', kind='scatter')\n",
    "plt.title('Relation between fitting time and RMSE')\n",
    "plt.xlabel('Training time (s)\\n (less is better)')\n",
    "plt.ylabel('Model quality (RMSE)\\n (less is better)')\n",
    "plt.show()"
   ]
  },
  {
   "cell_type": "markdown",
   "id": "5506f849",
   "metadata": {},
   "source": [
    "Models with gradient boosting show superior quality, according to their RMSE, compared to models without such a function. The LGBM model has the shortest fitting time and the highest quality (lower values are better). The next model in terms of quality is the CatBoost based model; however, the required fitting time is higher than the regression tree and the linear regression model. \n",
    "\n",
    "I will now compare the preduction time of each model using a bar chart. "
   ]
  },
  {
   "cell_type": "code",
   "execution_count": 70,
   "id": "d538c7bb",
   "metadata": {},
   "outputs": [
    {
     "data": {
      "image/png": "[encoded data removed]",
      "text/plain": [
       "<Figure size 432x288 with 1 Axes>"
      ]
     },
     "metadata": {
      "needs_background": "light"
     },
     "output_type": "display_data"
    }
   ],
   "source": [
    "# Tiempos de predicción\n",
    "sns.barplot(data=models, y='model', x='pred_time (ms)')\n",
    "plt.title('Model prediction time')\n",
    "plt.ylabel('')\n",
    "plt.xlabel('Prediction time (ms)\\n less is better')\n",
    "plt.show()"
   ]
  },
  {
   "cell_type": "markdown",
   "id": "91a44c47",
   "metadata": {},
   "source": [
    "In terms of prediction time, the best model was catboost, but this model does not perform the best. The model that takes the longest time to make predictions is the LGBM. However, since the unit of comparison is milliseconds (ms) this does not represent a long lead time. I recommend using the LGBM model, due to its short fitting time and high predictive quality relative to the other models, to make predictions of future cars entered into the **Rusty Bargain** platform. "
   ]
  },
  {
   "cell_type": "markdown",
   "id": "6ad72b7e",
   "metadata": {},
   "source": [
    "## Recommendations\n",
    "\n",
    "I recommend using the LGBM model, due to its short adjustment time and high predictive quality relative to the other models, to make predictions of future cars entered in the **Rusty Bargain** platform.\n",
    "\n",
    "Although LGBM was the best according to RMSE, the difference of its predictions with the actual sales value of each vehicle is ±1745 Euros so the model still has opportunity to improve its quality. \n",
    "\n",
    "Much of the model's quality lies not only in the tuning of its hyperparameters, but also in the quality of the data fed into the model. In this case, the quality of data entered into the **Rusty Bargain** platform can be improved by making it easier for the customer to enter data during vehicle registration. \n",
    "\n",
    "For example, ambiguities in vehicle characteristics can be avoided if the user enters the car's serial number and uses this variable to autocomplete other characteristics linked to this unique number (e.g. model, year of manufacture, make, CV, etc.). Another option in order to reduce the number of levels per categorical variable is to have 'drop' menus in the registration application with limited options to be chosen by the user."
   ]
  }
 ],
 "metadata": {
  "kernelspec": {
   "display_name": "Python 3 (ipykernel)",
   "language": "python",
   "name": "python3"
  },
  "language_info": {
   "codemirror_mode": {
    "name": "ipython",
    "version": 3
   },
   "file_extension": ".py",
   "mimetype": "text/x-python",
   "name": "python",
   "nbconvert_exporter": "python",
   "pygments_lexer": "ipython3",
   "version": "3.9.10"
  },
  "toc": {
   "base_numbering": 1,
   "nav_menu": {},
   "number_sections": true,
   "sideBar": true,
   "skip_h1_title": false,
   "title_cell": "Table of Contents",
   "title_sidebar": "Contents",
   "toc_cell": true,
   "toc_position": {},
   "toc_section_display": true,
   "toc_window_display": false
  }
 },
 "nbformat": 4,
 "nbformat_minor": 5
}
