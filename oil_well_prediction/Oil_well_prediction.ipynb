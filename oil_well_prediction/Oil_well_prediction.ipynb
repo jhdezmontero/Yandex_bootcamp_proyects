{
 "cells": [
  {
   "cell_type": "markdown",
   "metadata": {},
   "source": [
    "# Prospecting areas for the development of profitable oil wells <a class='tocSkip' ></a>\n",
    "\n",
    "## Project Description <a class='tocSkip' ></a> <a id='home'></a>\n",
    "\n",
    "This project is carried out for the company **OilyGiant** with the objective of finding the best place among three regions for the drilling of a new oil well. The selection of said area is based on the following criteria:\n",
    "\n",
    "* Parameters of the oil well in each region: oil quality and volume of reserves\n",
    "* Prediction of the volume of reservations in each region\n",
    "* Selection of the wells with the highest estimated values\n",
    "* Choice of the region with the highest total benefit for the selected wells\n",
    "\n",
    "For the choice of the region with the highest profit margin for the company, a model will be created taking into account the aforementioned criteria and **only the regions with a risk of loss of less than 2.5%** will be maintained."
   ]
  },
  {
   "cell_type": "markdown",
   "metadata": {
    "toc": true
   },
   "source": [
    "<h1>Table of Contents<span class=\"tocSkip\"></span></h1>\n",
    "<div class=\"toc\"><ul class=\"toc-item\"><li><span><a href=\"#Load-and-prepare-the-data\" data-toc-modified-id=\"Load-and-prepare-the-data-1\"><span class=\"toc-item-num\">1&nbsp;&nbsp;</span>Load and prepare the data</a></span><ul class=\"toc-item\"><li><span><a href=\"#Load-data\" data-toc-modified-id=\"Load-data-1.1\"><span class=\"toc-item-num\">1.1&nbsp;&nbsp;</span>Load data</a></span></li><li><span><a href=\"#Data-preparation:-Standardization-of-variables\" data-toc-modified-id=\"Data-preparation:-Standardization-of-variables-1.2\"><span class=\"toc-item-num\">1.2&nbsp;&nbsp;</span>Data preparation: Standardization of variables</a></span></li></ul></li><li><span><a href=\"#Train-and-test-the-model-for-each-region-\" data-toc-modified-id=\"Train-and-test-the-model-for-each-region--2\"><span class=\"toc-item-num\">2&nbsp;&nbsp;</span>Train and test the model for each region <a id=\"2\" rel=\"nofollow\"></a></a></span><ul class=\"toc-item\"><li><span><a href=\"#Data-segmentation\" data-toc-modified-id=\"Data-segmentation-2.1\"><span class=\"toc-item-num\">2.1&nbsp;&nbsp;</span>Data segmentation</a></span></li><li><span><a href=\"#Linear-regression-models-by-region\" data-toc-modified-id=\"Linear-regression-models-by-region-2.2\"><span class=\"toc-item-num\">2.2&nbsp;&nbsp;</span>Linear regression models by region</a></span></li></ul></li><li><span><a href=\"#Economic-profit-estimates\" data-toc-modified-id=\"Economic-profit-estimates-3\"><span class=\"toc-item-num\">3&nbsp;&nbsp;</span>Economic profit estimates</a></span></li><li><span><a href=\"#Calculation-of-earnings-and-prediction-modeling\" data-toc-modified-id=\"Calculation-of-earnings-and-prediction-modeling-4\"><span class=\"toc-item-num\">4&nbsp;&nbsp;</span>Calculation of earnings and prediction modeling</a></span></li><li><span><a href=\"#Calculation-of-risks-and-revenues-for-each-region\" data-toc-modified-id=\"Calculation-of-risks-and-revenues-for-each-region-5\"><span class=\"toc-item-num\">5&nbsp;&nbsp;</span>Calculation of risks and revenues for each region</a></span></li><li><span><a href=\"#Final-recommendations\" data-toc-modified-id=\"Final-recommendations-6\"><span class=\"toc-item-num\">6&nbsp;&nbsp;</span>Final recommendations</a></span></li></ul></div>"
   ]
  },
  {
   "cell_type": "code",
   "execution_count": 30,
   "metadata": {},
   "outputs": [],
   "source": [
    "# Libraries\n",
    "\n",
    "import pandas as pd                                  # DataFrame manipulation\n",
    "import numpy as np                                   # Manipulation of numeric arrays\n",
    "import matplotlib.pyplot as plt                      # Plotting\n",
    "\n",
    "from scipy import stats as st                        # Statistical tests\n",
    "from sklearn.preprocessing import StandardScaler     # Scaling numeric variables\n",
    "from sklearn.model_selection import train_test_split # Data segmentation for training and validation\n",
    "from sklearn.linear_model import LinearRegression    # Linear regression\n",
    "from sklearn.metrics import mean_squared_error       # MSE metric"
   ]
  },
  {
   "cell_type": "markdown",
   "metadata": {},
   "source": [
    "# Load and prepare the data \n",
    "\n",
    "\n",
    "## Load data\n",
    "\n",
    "We have data from three regions stored in three files: `geo_data_0.csv`, `geo_data_1.csv`, and `geo_data_2.csv`. Each file is made up of the same columns.\n",
    "\n",
    "* `id`: unique oil well identifier\n",
    "* `f0`, `f1` and `f2`: are three features of points (their specific meaning is not important, but the features themselves are significant)\n",
    "* `product`: volume of reserves in the oil well (in thousands of barrels)\n",
    "\n",
    "Since the well `id` is not a feature that contributes to model predictions, we are going to load the data by dropping this column and keeping only the remaining 4 variables. The data of each region will be stored in the DataFrame **`reg1`**, **`reg2`** and **`reg3`**.\n",
    "\n",
    "The information of each DataFrame will be inspected to analyze data types and missing data."
   ]
  },
  {
   "cell_type": "code",
   "execution_count": 3,
   "metadata": {},
   "outputs": [],
   "source": [
    "# Data loading 'id'\n",
    "reg1 = pd.read_csv('datasets/geo_data_0.csv', usecols=['f0','f1','f2','product'])\n",
    "reg2 = pd.read_csv('datasets/geo_data_1.csv', usecols=['f0','f1','f2','product'])\n",
    "reg3 = pd.read_csv('datasets/geo_data_2.csv', usecols=['f0','f1','f2','product'])"
   ]
  },
  {
   "cell_type": "code",
   "execution_count": 4,
   "metadata": {},
   "outputs": [
    {
     "name": "stdout",
     "output_type": "stream",
     "text": [
      "<class 'pandas.core.frame.DataFrame'>\n",
      "RangeIndex: 100000 entries, 0 to 99999\n",
      "Data columns (total 4 columns):\n",
      " #   Column   Non-Null Count   Dtype  \n",
      "---  ------   --------------   -----  \n",
      " 0   f0       100000 non-null  float64\n",
      " 1   f1       100000 non-null  float64\n",
      " 2   f2       100000 non-null  float64\n",
      " 3   product  100000 non-null  float64\n",
      "dtypes: float64(4)\n",
      "memory usage: 3.1 MB\n",
      "None \n",
      "\n",
      "<class 'pandas.core.frame.DataFrame'>\n",
      "RangeIndex: 100000 entries, 0 to 99999\n",
      "Data columns (total 4 columns):\n",
      " #   Column   Non-Null Count   Dtype  \n",
      "---  ------   --------------   -----  \n",
      " 0   f0       100000 non-null  float64\n",
      " 1   f1       100000 non-null  float64\n",
      " 2   f2       100000 non-null  float64\n",
      " 3   product  100000 non-null  float64\n",
      "dtypes: float64(4)\n",
      "memory usage: 3.1 MB\n",
      "None \n",
      "\n",
      "<class 'pandas.core.frame.DataFrame'>\n",
      "RangeIndex: 100000 entries, 0 to 99999\n",
      "Data columns (total 4 columns):\n",
      " #   Column   Non-Null Count   Dtype  \n",
      "---  ------   --------------   -----  \n",
      " 0   f0       100000 non-null  float64\n",
      " 1   f1       100000 non-null  float64\n",
      " 2   f2       100000 non-null  float64\n",
      " 3   product  100000 non-null  float64\n",
      "dtypes: float64(4)\n",
      "memory usage: 3.1 MB\n",
      "None \n",
      "\n"
     ]
    }
   ],
   "source": [
    "# Information of each DataFrame\n",
    "regions = [reg1, reg2, reg3]\n",
    "\n",
    "for r in regions: print(r.info(),'\\n')"
   ]
  },
  {
   "cell_type": "code",
   "execution_count": 5,
   "metadata": {},
   "outputs": [
    {
     "data": {
      "text/html": [
       "<div>\n",
       "<style scoped>\n",
       "    .dataframe tbody tr th:only-of-type {\n",
       "        vertical-align: middle;\n",
       "    }\n",
       "\n",
       "    .dataframe tbody tr th {\n",
       "        vertical-align: top;\n",
       "    }\n",
       "\n",
       "    .dataframe thead th {\n",
       "        text-align: right;\n",
       "    }\n",
       "</style>\n",
       "<table border=\"1\" class=\"dataframe\">\n",
       "  <thead>\n",
       "    <tr style=\"text-align: right;\">\n",
       "      <th></th>\n",
       "      <th>f0</th>\n",
       "      <th>f1</th>\n",
       "      <th>f2</th>\n",
       "      <th>product</th>\n",
       "    </tr>\n",
       "  </thead>\n",
       "  <tbody>\n",
       "    <tr>\n",
       "      <th>0</th>\n",
       "      <td>0.705745</td>\n",
       "      <td>-0.497823</td>\n",
       "      <td>1.221170</td>\n",
       "      <td>105.280062</td>\n",
       "    </tr>\n",
       "    <tr>\n",
       "      <th>1</th>\n",
       "      <td>1.334711</td>\n",
       "      <td>-0.340164</td>\n",
       "      <td>4.365080</td>\n",
       "      <td>73.037750</td>\n",
       "    </tr>\n",
       "    <tr>\n",
       "      <th>2</th>\n",
       "      <td>1.022732</td>\n",
       "      <td>0.151990</td>\n",
       "      <td>1.419926</td>\n",
       "      <td>85.265647</td>\n",
       "    </tr>\n",
       "    <tr>\n",
       "      <th>3</th>\n",
       "      <td>-0.032172</td>\n",
       "      <td>0.139033</td>\n",
       "      <td>2.978566</td>\n",
       "      <td>168.620776</td>\n",
       "    </tr>\n",
       "    <tr>\n",
       "      <th>4</th>\n",
       "      <td>1.988431</td>\n",
       "      <td>0.155413</td>\n",
       "      <td>4.751769</td>\n",
       "      <td>154.036647</td>\n",
       "    </tr>\n",
       "  </tbody>\n",
       "</table>\n",
       "</div>"
      ],
      "text/plain": [
       "         f0        f1        f2     product\n",
       "0  0.705745 -0.497823  1.221170  105.280062\n",
       "1  1.334711 -0.340164  4.365080   73.037750\n",
       "2  1.022732  0.151990  1.419926   85.265647\n",
       "3 -0.032172  0.139033  2.978566  168.620776\n",
       "4  1.988431  0.155413  4.751769  154.036647"
      ]
     },
     "execution_count": 5,
     "metadata": {},
     "output_type": "execute_result"
    }
   ],
   "source": [
    "# Visualization of region 1 DataFrame\n",
    "reg1.head()"
   ]
  },
  {
   "cell_type": "markdown",
   "metadata": {},
   "source": [
    "All DataFrames are the same size with 100,000 rows each. All variables are of numeric type and there are no missing values in any DataFrame."
   ]
  },
  {
   "cell_type": "markdown",
   "metadata": {},
   "source": [
    "## Data preparation: Standardization of variables\n",
    "\n",
    "The variables with which we are going to train our predictive model are numerical, so care must be taken that the range and dispersion of each variable does not influence the weight that each variable has in the model's predictions. In the visualization of the data we can see that the values taken by the parameters of the wells have ranges with negative and positive values, so this can influence the weight of each variable by having a greater variance. Let's see the basic statistics for each variable."
   ]
  },
  {
   "cell_type": "code",
   "execution_count": 6,
   "metadata": {},
   "outputs": [
    {
     "name": "stdout",
     "output_type": "stream",
     "text": [
      "                  f0             f1             f2\n",
      "count  100000.000000  100000.000000  100000.000000\n",
      "mean        0.500419       0.250143       2.502647\n",
      "std         0.871832       0.504433       3.248248\n",
      "min        -1.408605      -0.848218     -12.088328\n",
      "25%        -0.072580      -0.200881       0.287748\n",
      "50%         0.502360       0.250252       2.515969\n",
      "75%         1.073581       0.700646       4.715088\n",
      "max         2.362331       1.343769      16.003790 \n",
      "\n",
      "                  f0             f1             f2\n",
      "count  100000.000000  100000.000000  100000.000000\n",
      "mean        1.141296      -4.796579       2.494541\n",
      "std         8.965932       5.119872       1.703572\n",
      "min       -31.609576     -26.358598      -0.018144\n",
      "25%        -6.298551      -8.267985       1.000021\n",
      "50%         1.153055      -4.813172       2.011479\n",
      "75%         8.621015      -1.332816       3.999904\n",
      "max        29.421755      18.734063       5.019721 \n",
      "\n",
      "                  f0             f1             f2\n",
      "count  100000.000000  100000.000000  100000.000000\n",
      "mean        0.002023      -0.002081       2.495128\n",
      "std         1.732045       1.730417       3.473445\n",
      "min        -8.760004      -7.084020     -11.970335\n",
      "25%        -1.162288      -1.174820       0.130359\n",
      "50%         0.009424      -0.009482       2.484236\n",
      "75%         1.158535       1.163678       4.858794\n",
      "max         7.238262       7.844801      16.739402 \n",
      "\n"
     ]
    }
   ],
   "source": [
    "# Descripción estadistica de variables\n",
    "for r in regions:\n",
    "    print(r[['f0','f1','f2']].describe(),'\\n')"
   ]
  },
  {
   "cell_type": "markdown",
   "metadata": {},
   "source": [
    "It can be seen that the behavior of the standard deviation (see 'std') for each parameter is not homogeneous between parameters within and between regions, so it is necessary to **standardize** these variables."
   ]
  },
  {
   "cell_type": "code",
   "execution_count": 7,
   "metadata": {},
   "outputs": [],
   "source": [
    "# Scaling numeric variables\n",
    "\n",
    "numeric = ['f0','f1','f2']\n",
    "scaler = StandardScaler()\n",
    "\n",
    "for r in regions:\n",
    "    scaler.fit(r[numeric])\n",
    "    r[numeric] = scaler.transform(r[numeric])"
   ]
  },
  {
   "cell_type": "code",
   "execution_count": 8,
   "metadata": {},
   "outputs": [
    {
     "name": "stdout",
     "output_type": "stream",
     "text": [
      "                 f0            f1            f2\n",
      "count  1.000000e+05  1.000000e+05  1.000000e+05\n",
      "mean   1.953993e-17 -5.336176e-17  9.695356e-17\n",
      "std    1.000005e+00  1.000005e+00  1.000005e+00\n",
      "min   -2.189681e+00 -2.177430e+00 -4.491975e+00\n",
      "25%   -6.572397e-01 -8.941262e-01 -6.818784e-01\n",
      "50%    2.226500e-03  2.166008e-04  4.101360e-03\n",
      "75%    6.574259e-01  8.930937e-01  6.811217e-01\n",
      "max    2.135642e+00  2.168043e+00  4.156460e+00 \n",
      "\n",
      "                 f0            f1            f2\n",
      "count  1.000000e+05  1.000000e+05  1.000000e+05\n",
      "mean  -6.394885e-18  1.708855e-17  1.467981e-16\n",
      "std    1.000005e+00  1.000005e+00  1.000005e+00\n",
      "min   -3.652831e+00 -4.211458e+00 -1.474959e+00\n",
      "25%   -8.297949e-01 -6.780293e-01 -8.772907e-01\n",
      "50%    1.311571e-03 -3.240857e-03 -2.835602e-01\n",
      "75%    8.342420e-01  6.765366e-01  8.836555e-01\n",
      "max    3.154229e+00  4.595967e+00  1.482293e+00 \n",
      "\n",
      "                 f0            f1            f2\n",
      "count  1.000000e+05  1.000000e+05  1.000000e+05\n",
      "mean   2.360778e-17 -1.499245e-17 -1.378098e-16\n",
      "std    1.000005e+00  1.000005e+00  1.000005e+00\n",
      "min   -5.058801e+00 -4.092640e+00 -4.164608e+00\n",
      "25%   -6.722210e-01 -6.777239e-01 -6.808172e-01\n",
      "50%    4.272944e-03 -4.277388e-03 -3.135732e-03\n",
      "75%    6.677185e-01  6.736897e-01  6.804996e-01\n",
      "max    4.177880e+00  4.534699e+00  4.100928e+00 \n",
      "\n"
     ]
    }
   ],
   "source": [
    "# Description of scaled dataframes\n",
    "for r in regions:\n",
    "    print(r[numeric].describe(),'\\n')"
   ]
  },
  {
   "cell_type": "markdown",
   "metadata": {},
   "source": [
    "The standard deviation ('std') has been homogenized to 1 so we can be sure that we have correctly standardized our characteristics. Now we can proceed to prepare the predictive models for each region."
   ]
  },
  {
   "cell_type": "markdown",
   "metadata": {},
   "source": [
    "# Train and test the model for each region <a id='2' ></a>\n",
    "\n",
    "At this stage we are going to build the **Linear Regression** models to predict the oil reserves in each region. The predictive 'features' are the well parameters (i.e. `'f0'`, `'f1'` and `'f2'`) and the 'target' variable is `'product'`.\n",
    "\n",
    "\n",
    "## Data segmentation\n",
    "\n",
    "Before training the linear regression models, it is necessary to separate the 'features' and 'target' variables and segment the data into training and validation sets in a 3:1 ratio. For this we are going to create the `splitter()` function that performs the two operations (separation of variables and segmentation) in a single step and later we are going to apply the function to each DataFrame."
   ]
  },
  {
   "cell_type": "code",
   "execution_count": 9,
   "metadata": {},
   "outputs": [],
   "source": [
    "# Función para separar y segmentar datos 'splitter'\n",
    "\n",
    "def splitter(dataframe):\n",
    "    # Separar caracteristicas y objetivo\n",
    "    features = dataframe.drop('product', axis=1)\n",
    "    target   = dataframe['product']\n",
    "    \n",
    "    # Segmentacion de datos con proporción 3:1 - entrenamiento:validación\n",
    "    features_train, features_valid, target_train, target_valid = train_test_split(\n",
    "        features, target, test_size=0.25, random_state=12345)\n",
    "    \n",
    "    # Retorno de conjuntos de entrenamiento y validación\n",
    "    return features_train, features_valid, target_train, target_valid"
   ]
  },
  {
   "cell_type": "code",
   "execution_count": 10,
   "metadata": {},
   "outputs": [
    {
     "name": "stdout",
     "output_type": "stream",
     "text": [
      "(75000, 3) (25000, 3) (75000,) (25000,) \n",
      "\n",
      "(75000, 3) (25000, 3) (75000,) (25000,) \n",
      "\n",
      "(75000, 3) (25000, 3) (75000,) (25000,) \n",
      "\n"
     ]
    }
   ],
   "source": [
    "# Application of the splitter function for each dataframe\n",
    "# Check the size of each set\n",
    "\n",
    "r1_features_train, r1_features_valid, r1_target_train, r1_target_valid = splitter(reg1)\n",
    "print(r1_features_train.shape, r1_features_valid.shape, r1_target_train.shape, r1_target_valid.shape, '\\n')\n",
    "\n",
    "r2_features_train, r2_features_valid, r2_target_train, r2_target_valid = splitter(reg2)\n",
    "print(r2_features_train.shape, r2_features_valid.shape, r2_target_train.shape, r2_target_valid.shape, '\\n')\n",
    "\n",
    "r3_features_train, r3_features_valid, r3_target_train, r3_target_valid = splitter(reg3)\n",
    "print(r3_features_train.shape, r3_features_valid.shape, r3_target_train.shape, r3_target_valid.shape, '\\n')"
   ]
  },
  {
   "cell_type": "markdown",
   "metadata": {},
   "source": [
    "We have separated the 'features' and 'target' variables and segmented the data into a training (75,000 records) and validation (25,000 records) set for each region. Now we are going to train the linear regression models for each region."
   ]
  },
  {
   "cell_type": "markdown",
   "metadata": {},
   "source": [
    "## Linear regression models by region\n",
    "\n",
    "We are going to train the linear regression models using the training set and get the model predictions using the validation set. The predictions and correct answers for the validation set will be used to derive the average volume of forecast bookings for each region. Additionally, the quality of the model will be evaluated using the RECM (square root of the mean square error).\n",
    "\n",
    "Since this workflow is going to be repeated for each region, we are going to create the **`modelrl`** function which will train the model, get the predictions and the RECM from it."
   ]
  },
  {
   "cell_type": "code",
   "execution_count": 11,
   "metadata": {},
   "outputs": [],
   "source": [
    "# Function 'modelrl'\n",
    "def modelrl(features_train, target_train, features_valid, target_valid):\n",
    "    # Model fitting\n",
    "    model = LinearRegression()\n",
    "    model.fit(features_train, target_train)\n",
    "    \n",
    "    # Get predictions\n",
    "    predictions = model.predict(features_valid)\n",
    "    \n",
    "    # Evaluate MSE\n",
    "    recm = mean_squared_error(target_valid, predictions) ** 0.5\n",
    "    \n",
    "    # Results\n",
    "    return predictions, recm"
   ]
  },
  {
   "cell_type": "code",
   "execution_count": 12,
   "metadata": {},
   "outputs": [
    {
     "name": "stdout",
     "output_type": "stream",
     "text": [
      "Estimated average volume for Region 1: 92.59256778438035\n",
      "MSE Region 1: 37.5794217150813 \n",
      "\n",
      "Estimated average volume for Region 2: 68.72854689544602\n",
      "MSE Region 2: 0.8930992867756171 \n",
      "\n",
      "Estimated average volume for Region 3: 94.96504596800489\n",
      "MSE Region 3: 40.02970873393434 \n",
      "\n"
     ]
    }
   ],
   "source": [
    "## Region 1\n",
    "predictions_reg1, recm_reg1 = modelrl(r1_features_train, r1_target_train, r1_features_valid , r1_target_valid)\n",
    "print(f'Estimated average volume for Region 1: {predictions_reg1.mean()}')\n",
    "print(f'MSE Region 1: {recm_reg1} \\n')\n",
    "\n",
    "## Region 2\n",
    "predictions_reg2, recm_reg2 = modelrl(r2_features_train, r2_target_train, r2_features_valid , r2_target_valid)\n",
    "print(f'Estimated average volume for Region 2: {predictions_reg2.mean()}')\n",
    "print(f'MSE Region 2: {recm_reg2} \\n')\n",
    "\n",
    "## Region 3\n",
    "predictions_reg3, recm_reg3 = modelrl(r3_features_train, r3_target_train, r3_features_valid , r3_target_valid)\n",
    "print(f'Estimated average volume for Region 3: {predictions_reg3.mean()}')\n",
    "print(f'MSE Region 3: {recm_reg3} \\n')"
   ]
  },
  {
   "cell_type": "markdown",
   "metadata": {},
   "source": [
    "The following table <a id='table1'></a> shows the average estimated volume of oil reserves for each region and the RECM (in thousands of barrels) of each model according to the validation data.\n",
    "\n",
    "| Region   | Average reserve  |  MSE   |\n",
    "|----------|------------------|--------|\n",
    "| Region 1 | 92.592           | 37.579 |\n",
    "| Region 2 | 68.728           |  0.893 |\n",
    "| Region 3 | 94.965           | 40.029 |\n",
    "\n",
    "The region with the lowest estimated oil reserves was region 2 with an estimate of ~69 thousand barrels with an average estimation error of only ~1 thousand barrels. On the contrary, region 3 reported the highest estimate of oil reserves with ~95 thousand barrels; however, this region has a high risk since its RECM had the highest value with 40 thousand barrels.\n",
    "\n",
    "We are going to visualize how the oil reserves are distributed by region using a histogram."
   ]
  },
  {
   "cell_type": "code",
   "execution_count": 13,
   "metadata": {},
   "outputs": [
    {
     "data": {
      "image/png": "[encoded data removed]",
      "text/plain": [
       "<Figure size 432x288 with 1 Axes>"
      ]
     },
     "metadata": {
      "needs_background": "light"
     },
     "output_type": "display_data"
    }
   ],
   "source": [
    "# Distribution of oil reserves by region\n",
    "plt.hist(predictions_reg1, histtype='step', label='Region 1')\n",
    "plt.hist(predictions_reg2, histtype='step', label='Region 2')\n",
    "plt.hist(predictions_reg3, histtype='step', label='Region 3')\n",
    "plt.legend(loc='upper right')\n",
    "plt.show()"
   ]
  },
  {
   "cell_type": "markdown",
   "metadata": {},
   "source": [
    "Although region 2 has obtained the lowest RECM value, when observing how oil reserves are distributed, this area may represent a greater risk since some wells can generate a very low number of barrels. The most attractive regions are 1 and 2 with a similar distribution of oil reserves. In the next stage, the potential profits that each region can generate will be taken into account to make a more informed decision."
   ]
  },
  {
   "cell_type": "markdown",
   "metadata": {},
   "source": [
    "# Economic profit estimates\n",
    "\n",
    "According to the **OilyGiant** drilling project, there is a budget of **100 million dollars** for the development of **200 extraction points**.\n",
    "\n",
    "When exploring the region, a study is carried out with 500 exploration points with the selection of the **best 200 points** for the calculation of the benefit.\n",
    "\n",
    "A barrel of raw materials generates \\\\$4.5 USD of revenue. The income from a unit of product is **\\\\$4500 USD** (the volume of reserves is expressed in thousands of barrels).\n",
    "\n",
    "After the risk assessment, only the region with a **loss risk of less than 2.5%** will be maintained. Therefore, the region with the highest average profit will be selected.\n",
    "\n",
    "Considering the previous conditions, we are going to calculate the minimum volume (in thousands of barrels) to develop a new oil well without economic losses."
   ]
  },
  {
   "cell_type": "code",
   "execution_count": 15,
   "metadata": {},
   "outputs": [
    {
     "name": "stdout",
     "output_type": "stream",
     "text": [
      "Budgeted cost per well drilled: 500000\n",
      "Minimum volume to avoid generating losses: 111.111\n"
     ]
    }
   ],
   "source": [
    "# Minimum volume to avoid generating losses\n",
    "\n",
    "budget = 100000000\n",
    "num_well = 200\n",
    "profit_unit = 4500\n",
    "\n",
    "# Cost per well\n",
    "well_cost = int(budget / num_well)\n",
    "\n",
    "# Minimum volume for not generating losses \n",
    "vol_min = round(well_cost / profit_unit, 3)\n",
    "\n",
    "print(f'Budgeted cost per well drilled: {well_cost}')\n",
    "print(f'Minimum volume to avoid generating losses: {vol_min}')"
   ]
  },
  {
   "cell_type": "markdown",
   "metadata": {},
   "source": [
    "Given the budget allocated to drill 200 new wells, each well has a cost of \\\\$500,000 USD, so **each new drilling must guarantee the minimum extraction of ~111 thousand barrels to avoid generating losses**.\n",
    "\n",
    "In the previous [table](#table1) we can see that **no region has an average volume greater than 111 thousand barrels**. Because of this it is necessary to carefully select those points within each region that can guarantee this minimum required volume."
   ]
  },
  {
   "cell_type": "markdown",
   "metadata": {},
   "source": [
    "# Calculation of earnings and prediction modeling\n",
    "\n",
    "In this stage of the project we are going to calculate the profit of a set of selected oil wells. For this we are going to define the function **`oil_revenue`** with the following objectives:\n",
    "\n",
    "1. Choose the wells with the highest reserve predictions\n",
    "2. Summarize the target volume of reserves according to such predictions\n",
    "3. Suggest a region for the development of wells based on the benefit for the volume of reserves obtained.\n",
    "\n",
    "The function takes three parameters:\n",
    "* `target`: the volume of oil reserves in thousands of barrels\n",
    "* `predictions`: the predictions generated by each model for each region\n",
    "* `count`: number of budgeted wells, in this case the goal is to drill 200 wells\n",
    "\n",
    "The function must select the wells with the highest probability of generating a volume above 111.11 thousand barrels each, that is, they generate a profit greater than an investment of \\\\$500,000 USD. The function returns the total volume of the 200 selected wells, the income generated according to their reserves and the profit discounting the total investment (budget)."
   ]
  },
  {
   "cell_type": "code",
   "execution_count": 18,
   "metadata": {},
   "outputs": [],
   "source": [
    "# Fuction 'oil_revenue' for calculating profits\n",
    "\n",
    "def oil_revenue(target, predictions, count):\n",
    "    predictions = pd.Series(predictions)                    # Transform predictions into a Series\n",
    "    target = target.reset_index(drop=True)                  # Restart index to match predictiones\n",
    "    probs_sorted = predictions.sort_values(ascending=False) # Order the wells from highest to lowest according to their reservea\n",
    "    selected = target[probs_sorted.index][:count]           # Select the 200 wells with the highest reserves\n",
    "    reservas = round(selected.sum(), 3)                     # Calculate the total reserve of the 200 wells\n",
    "    ingreso_total = round(4500*selected.sum(), 3)           # Gets the profit generated among the 200 wells\n",
    "    revenue = round(ingreso_total - 100000000, 3)           # Profit discounting the total investment\n",
    "    return reservas, ingreso_total, revenue"
   ]
  },
  {
   "cell_type": "code",
   "execution_count": 21,
   "metadata": {},
   "outputs": [
    {
     "name": "stdout",
     "output_type": "stream",
     "text": [
      "Region 1 \n",
      "Reserve:       29601.836 Thousands of Barrels \n",
      "Total income: $133208260.431 USD\n",
      "Revenue:      $33208260.431 USD\n"
     ]
    }
   ],
   "source": [
    "# Region 1\n",
    "reservas_reg1, ingreso_reg1, revenue_reg1 = oil_revenue(r1_target_valid, predictions_reg1, 200)\n",
    "print(f'''Region 1 \n",
    "Reserve:       {reservas_reg1} Thousands of Barrels \n",
    "Total income: ${ingreso_reg1} USD\n",
    "Revenue:      ${revenue_reg1} USD''')"
   ]
  },
  {
   "cell_type": "code",
   "execution_count": 22,
   "metadata": {},
   "outputs": [
    {
     "name": "stdout",
     "output_type": "stream",
     "text": [
      "Region 2 \n",
      "Reserve:      27589.082 Thousands of Barrels \n",
      "Total income: $124150866.967 USD\n",
      "Revenue:      $24150866.967 USD\n"
     ]
    }
   ],
   "source": [
    "# Region 2\n",
    "reservas_reg2, ingreso_reg2, revenue_reg2 = oil_revenue(r2_target_valid, predictions_reg2, 200)\n",
    "print(f'''Region 2 \n",
    "Reserve:      {reservas_reg2} Thousands of Barrels \n",
    "Total income: ${ingreso_reg2} USD\n",
    "Revenue:      ${revenue_reg2} USD''')"
   ]
  },
  {
   "cell_type": "code",
   "execution_count": 23,
   "metadata": {},
   "outputs": [
    {
     "name": "stdout",
     "output_type": "stream",
     "text": [
      "Region 3 \n",
      "Reserve:        28245.222 Thousands of Barrels \n",
      "Total income:  $127103499.636 USD\n",
      "Revenue:       $27103499.636 USD\n"
     ]
    }
   ],
   "source": [
    "# Region 3\n",
    "reservas_reg3, ingreso_reg3, revenue_reg3 = oil_revenue(r3_target_valid, predictions_reg3, 200)\n",
    "print(f'''Region 3 \n",
    "Reserve:        {reservas_reg3} Thousands of Barrels \n",
    "Total income:  ${ingreso_reg3} USD\n",
    "Revenue:       ${revenue_reg3} USD''')"
   ]
  },
  {
   "cell_type": "markdown",
   "metadata": {},
   "source": [
    "For the 200 selected wells in each region, the oil reserves are shown in thousands of barrels, the income generated and the profit.\n",
    "\n",
    "According to our results, the 200 most promising wells in region 1 return the highest profit compared to region 3 and 2 (33 > 27 > 24 million dollars respectively).\n",
    "\n",
    "Based solely on these predictions, region 1 appears to be more promising; however it is necessary to evaluate the distribution of the probability of the profits to make the correct decision."
   ]
  },
  {
   "cell_type": "markdown",
   "metadata": {},
   "source": [
    "# Calculation of risks and revenues for each region\n",
    "\n",
    "We are going to calculate the profit distribution using the bootstrap technique to generate a profit distribution from 1000 iterations. In each iteration we are going to take a replacement sample of 500 points to explore with their respective predictive values and calculate the profit for the 200 best wells. The profit values will be stored in a list to calculate the distribution, the 95% confidence interval and the risk of loss."
   ]
  },
  {
   "cell_type": "code",
   "execution_count": 24,
   "metadata": {},
   "outputs": [],
   "source": [
    "# Bootstrap\n",
    "\n",
    "def oil_bootstrap(target, predictions):\n",
    "    state = np.random.RandomState(12345)                              # Sets a RandomState\n",
    "    values = []                                                       # Empty list to store gain values\n",
    "    target = target.reset_index(drop=True)\n",
    "    \n",
    "    # Bootstrap\n",
    "    for i in range(1000):                                             # Generates a distribution from 1000 iterations\n",
    "        target_subsample = target.sample(n=500, replace=True, random_state=state) # Sample 500 points \n",
    "        probs_subsample = predictions[target_subsample.index]         # Get predictions of targets\n",
    "        value = oil_revenue(target_subsample, probs_subsample, 200)[2]# Get only the profit of 200 wells\n",
    "        values.append(value)                                          # Attach the gains to the values list\n",
    "    return pd.Series(values)                                          # Returns a series with the profits"
   ]
  },
  {
   "cell_type": "code",
   "execution_count": 25,
   "metadata": {},
   "outputs": [
    {
     "data": {
      "image/png": "[encoded data removed]",
      "text/plain": [
       "<Figure size 432x288 with 1 Axes>"
      ]
     },
     "metadata": {
      "needs_background": "light"
     },
     "output_type": "display_data"
    }
   ],
   "source": [
    "# Boostrap por región \n",
    "ganancia_reg1 = oil_bootstrap(r1_target_valid, predictions_reg1) \n",
    "ganancia_reg2 = oil_bootstrap(r2_target_valid, predictions_reg2) \n",
    "ganancia_reg3 = oil_bootstrap(r3_target_valid, predictions_reg3)\n",
    "\n",
    "# Distribución de la reserva petrolera por región\n",
    "plt.hist(ganancia_reg1, histtype='step', label='Region 1')\n",
    "plt.hist(ganancia_reg2, histtype='step', label='Region 2')\n",
    "plt.hist(ganancia_reg3, histtype='step', label='Region 3')\n",
    "plt.legend(loc='upper right')\n",
    "plt.xlabel('Profit (Millions of dollars)')\n",
    "plt.show()"
   ]
  },
  {
   "cell_type": "markdown",
   "metadata": {},
   "source": [
    "The three regions show a similar distribution of profits, based on a random sample, although there is a risk of loss for all of them (see values below 0). For each region we will calculate the average gain and the 95% confidence interval."
   ]
  },
  {
   "cell_type": "code",
   "execution_count": 26,
   "metadata": {},
   "outputs": [],
   "source": [
    "# Average gains and 95% confidence interval\n",
    "def revenue_metrics(revenue):\n",
    "    average = round(revenue.mean(),3)\n",
    "    confidence_inverval = [round(revenue.quantile(0.025),3), round(revenue.quantile(0.975),3)]\n",
    "    print(f'Average revenue: {average}; CI 95%: {confidence_inverval}')"
   ]
  },
  {
   "cell_type": "code",
   "execution_count": 27,
   "metadata": {},
   "outputs": [
    {
     "name": "stdout",
     "output_type": "stream",
     "text": [
      "Region 1:\n",
      "Average revenue: 3961649.848; CI 95%: [-1112155.459, 9097669.415]\n",
      "\n",
      " Region 2:\n",
      "Average revenue: 4560451.058; CI 95%: [338205.094, 8522894.539]\n",
      "\n",
      " Region 3:\n",
      "Average revenue: 4044038.666; CI 95%: [-1633504.134, 9503595.749]\n"
     ]
    }
   ],
   "source": [
    "print('Region 1:')\n",
    "revenue_metrics(ganancia_reg1)\n",
    "\n",
    "print('\\n Region 2:')\n",
    "revenue_metrics(ganancia_reg2)\n",
    "\n",
    "print('\\n Region 3:')\n",
    "revenue_metrics(ganancia_reg3)"
   ]
  },
  {
   "cell_type": "markdown",
   "metadata": {},
   "source": [
    "Region 2 has the highest average gain and its confidence interval does not encompass negative values, so it is likely that it has the lowest risk of loss. We are going to calculate the risk of loss for each region from the profits generated by bootstrap.\n",
    "\n",
    "To obtain the probability risk of loss (that is, negative gains), we are going to calculate the area under the curve assuming a normal distribution (using the mean and standard deviation as parameters) that are below zero using the cumulative distribution function ( `cdf`). This method is suitable because the distribution generated by bootstrap approximates a normal distribution.\n",
    "\n",
    "Alternatively, we are going to calculate the percentage of values below zero, that is, the number of cases less than zero among the total cases sampled using bootstrap (i.e. 1000)."
   ]
  },
  {
   "cell_type": "code",
   "execution_count": 28,
   "metadata": {},
   "outputs": [
    {
     "name": "stdout",
     "output_type": "stream",
     "text": [
      "Risk probability for Region 1: 0.069\n",
      "Risk probability for Region 2: 0.014\n",
      "Risk probability for Region 3: 0.069\n"
     ]
    }
   ],
   "source": [
    "# Probabilidad de riesgo de perdida\n",
    "print('Risk probability for Region 1:',round(st.norm(ganancia_reg1.mean(), ganancia_reg1.std()).cdf(0),3))\n",
    "print('Risk probability for Region 2:',round(st.norm(ganancia_reg2.mean(), ganancia_reg2.std()).cdf(0),3))\n",
    "print('Risk probability for Region 3:',round(st.norm(ganancia_reg3.mean(), ganancia_reg3.std()).cdf(0),3))"
   ]
  },
  {
   "cell_type": "code",
   "execution_count": 29,
   "metadata": {},
   "outputs": [
    {
     "name": "stdout",
     "output_type": "stream",
     "text": [
      "Risk percentage for Region 1: 6.9\n",
      "Risk percentage for Region 2: 1.5\n",
      "Risk percentage for Region 3: 7.6\n"
     ]
    }
   ],
   "source": [
    "# Porcentaje de riesgo de perdida\n",
    "print('Risk percentage for Region 1:', 100 * ganancia_reg1[ganancia_reg1 < 0].count()/1000)\n",
    "print('Risk percentage for Region 2:', 100 * ganancia_reg1[ganancia_reg2 < 0].count()/1000)\n",
    "print('Risk percentage for Region 3:', 100 * ganancia_reg1[ganancia_reg3 < 0].count()/1000)"
   ]
  },
  {
   "cell_type": "markdown",
   "metadata": {},
   "source": [
    "According to our risk estimates, region 2 is the only one that has a risk of loss of less than 2.5%, so according to the company's conditions, this would be the most suitable region to exploit."
   ]
  },
  {
   "cell_type": "markdown",
   "metadata": {},
   "source": [
    "# Final recommendations\n",
    "\n",
    "We have carried out a series of models to predict between three regions which region can generate the highest profits with the lowest risk of investment loss. Let's remember that **OilyGiant** has earmarked 100 million dollars to drill 200 new wells. Each new well has a cost of **500 thousand dollars**, so in order to _not generate losses_ each new well must guarantee a minimum extraction of **111.11 thousand barrels**.\n",
    "\n",
    "In order to project the region with the highest profitability, the oil reserves of each region were estimated using linear regression models considering three parameters (previously standardized). To calculate the risk of loss, the bootstrap technique was used to generate a distribution of reserves with a thousand records.\n",
    "\n",
    "Although at first sight region 2 has the lowest requested reserves compared to the other two, its lower risk of loss (<2.5%) makes it potentially the most profitable region to explore."
   ]
  }
 ],
 "metadata": {
  "ExecuteTimeLog": [
   {
    "duration": 1361,
    "start_time": "2022-08-26T17:05:06.865Z"
   },
   {
    "duration": 131,
    "start_time": "2022-08-26T17:23:32.928Z"
   },
   {
    "duration": 658,
    "start_time": "2022-08-26T17:23:55.895Z"
   },
   {
    "duration": 20,
    "start_time": "2022-08-26T17:24:45.404Z"
   },
   {
    "duration": 12,
    "start_time": "2022-08-26T17:29:09.506Z"
   },
   {
    "duration": 7,
    "start_time": "2022-08-26T17:29:31.993Z"
   },
   {
    "duration": 7,
    "start_time": "2022-08-26T17:29:49.689Z"
   },
   {
    "duration": 78,
    "start_time": "2022-08-26T17:38:26.277Z"
   },
   {
    "duration": 80,
    "start_time": "2022-08-26T17:38:36.426Z"
   },
   {
    "duration": 8,
    "start_time": "2022-08-26T17:39:51.836Z"
   },
   {
    "duration": 73,
    "start_time": "2022-08-26T17:40:16.935Z"
   },
   {
    "duration": 8,
    "start_time": "2022-08-26T17:54:19.018Z"
   },
   {
    "duration": 30,
    "start_time": "2022-08-26T17:55:21.208Z"
   },
   {
    "duration": 72,
    "start_time": "2022-08-26T17:55:24.238Z"
   },
   {
    "duration": 3,
    "start_time": "2022-08-26T18:23:36.206Z"
   },
   {
    "duration": 13,
    "start_time": "2022-08-26T18:27:54.806Z"
   },
   {
    "duration": 47,
    "start_time": "2022-08-26T18:28:17.965Z"
   },
   {
    "duration": 3,
    "start_time": "2022-08-26T18:28:51.796Z"
   },
   {
    "duration": 36,
    "start_time": "2022-08-26T18:28:54.159Z"
   },
   {
    "duration": 27,
    "start_time": "2022-08-26T19:39:29.257Z"
   },
   {
    "duration": 3,
    "start_time": "2022-08-26T20:02:46.324Z"
   },
   {
    "duration": 9,
    "start_time": "2022-08-26T20:06:22.568Z"
   },
   {
    "duration": 18,
    "start_time": "2022-08-26T20:06:42.232Z"
   },
   {
    "duration": 56,
    "start_time": "2022-08-26T20:07:55.243Z"
   },
   {
    "duration": 3,
    "start_time": "2022-08-26T20:08:25.131Z"
   },
   {
    "duration": 14,
    "start_time": "2022-08-26T20:08:26.942Z"
   },
   {
    "duration": 58,
    "start_time": "2022-08-26T20:11:05.446Z"
   },
   {
    "duration": 3,
    "start_time": "2022-08-26T20:27:21.822Z"
   },
   {
    "duration": 52,
    "start_time": "2022-08-26T20:27:23.949Z"
   },
   {
    "duration": 4,
    "start_time": "2022-08-26T20:30:38.605Z"
   },
   {
    "duration": 3,
    "start_time": "2022-08-26T20:30:47.538Z"
   },
   {
    "duration": 179,
    "start_time": "2022-08-26T20:44:31.423Z"
   },
   {
    "duration": 216,
    "start_time": "2022-08-26T20:45:59.879Z"
   },
   {
    "duration": 130,
    "start_time": "2022-08-26T20:47:53.627Z"
   },
   {
    "duration": 137,
    "start_time": "2022-08-26T20:48:14.929Z"
   },
   {
    "duration": 127,
    "start_time": "2022-08-26T20:53:10.841Z"
   },
   {
    "duration": 4,
    "start_time": "2022-08-26T21:19:08.093Z"
   },
   {
    "duration": 4,
    "start_time": "2022-08-26T21:19:38.450Z"
   },
   {
    "duration": 3,
    "start_time": "2022-08-26T21:32:13.989Z"
   },
   {
    "duration": 1502,
    "start_time": "2022-08-30T21:26:50.358Z"
   },
   {
    "duration": 788,
    "start_time": "2022-08-30T21:26:51.863Z"
   },
   {
    "duration": 23,
    "start_time": "2022-08-30T21:26:52.652Z"
   },
   {
    "duration": 24,
    "start_time": "2022-08-30T21:26:52.677Z"
   },
   {
    "duration": 11,
    "start_time": "2022-08-30T21:26:52.702Z"
   },
   {
    "duration": 11,
    "start_time": "2022-08-30T21:26:52.715Z"
   },
   {
    "duration": 85,
    "start_time": "2022-08-30T21:26:52.727Z"
   },
   {
    "duration": 32,
    "start_time": "2022-08-30T21:26:52.814Z"
   },
   {
    "duration": 86,
    "start_time": "2022-08-30T21:26:52.847Z"
   },
   {
    "duration": 4,
    "start_time": "2022-08-30T21:26:52.936Z"
   },
   {
    "duration": 56,
    "start_time": "2022-08-30T21:26:52.941Z"
   },
   {
    "duration": 3,
    "start_time": "2022-08-30T21:26:52.999Z"
   },
   {
    "duration": 209,
    "start_time": "2022-08-30T21:26:53.004Z"
   },
   {
    "duration": 337,
    "start_time": "2022-08-30T21:26:53.215Z"
   },
   {
    "duration": 5,
    "start_time": "2022-08-30T21:26:53.554Z"
   },
   {
    "duration": 4,
    "start_time": "2022-08-30T21:28:22.303Z"
   },
   {
    "duration": 5,
    "start_time": "2022-08-30T22:05:46.382Z"
   },
   {
    "duration": 99,
    "start_time": "2022-08-30T22:09:47.223Z"
   },
   {
    "duration": 4,
    "start_time": "2022-08-30T22:10:10.978Z"
   },
   {
    "duration": 12,
    "start_time": "2022-08-30T22:10:12.514Z"
   },
   {
    "duration": 4,
    "start_time": "2022-08-30T22:11:00.646Z"
   },
   {
    "duration": 26,
    "start_time": "2022-08-30T22:11:03.911Z"
   },
   {
    "duration": 3,
    "start_time": "2022-08-30T22:13:13.074Z"
   },
   {
    "duration": 4,
    "start_time": "2022-08-30T22:13:22.525Z"
   },
   {
    "duration": 4,
    "start_time": "2022-08-30T22:14:33.073Z"
   },
   {
    "duration": 9,
    "start_time": "2022-08-30T22:14:35.896Z"
   },
   {
    "duration": 4,
    "start_time": "2022-08-30T22:17:13.879Z"
   },
   {
    "duration": 8,
    "start_time": "2022-08-30T22:17:15.633Z"
   },
   {
    "duration": 9,
    "start_time": "2022-08-30T22:17:26.215Z"
   },
   {
    "duration": 9,
    "start_time": "2022-08-30T22:18:19.114Z"
   },
   {
    "duration": 8,
    "start_time": "2022-08-30T22:18:29.786Z"
   },
   {
    "duration": 8,
    "start_time": "2022-08-30T22:18:59.693Z"
   },
   {
    "duration": 8,
    "start_time": "2022-08-30T22:20:35.122Z"
   },
   {
    "duration": 9,
    "start_time": "2022-08-30T22:21:56.839Z"
   },
   {
    "duration": 12,
    "start_time": "2022-08-30T22:49:12.082Z"
   },
   {
    "duration": 4,
    "start_time": "2022-08-30T22:55:24.669Z"
   },
   {
    "duration": 12,
    "start_time": "2022-08-30T22:59:26.828Z"
   },
   {
    "duration": 4,
    "start_time": "2022-08-30T23:00:02.406Z"
   },
   {
    "duration": 24,
    "start_time": "2022-08-30T23:00:04.361Z"
   },
   {
    "duration": 9,
    "start_time": "2022-08-30T23:02:25.234Z"
   },
   {
    "duration": 5,
    "start_time": "2022-08-30T23:05:17.301Z"
   },
   {
    "duration": 968,
    "start_time": "2022-08-30T23:05:19.180Z"
   },
   {
    "duration": 8,
    "start_time": "2022-08-30T23:05:33.005Z"
   },
   {
    "duration": 4,
    "start_time": "2022-08-30T23:05:40.986Z"
   },
   {
    "duration": 3,
    "start_time": "2022-08-30T23:05:49.916Z"
   },
   {
    "duration": 3,
    "start_time": "2022-08-30T23:06:51.731Z"
   },
   {
    "duration": 4,
    "start_time": "2022-08-30T23:07:17.731Z"
   },
   {
    "duration": 891,
    "start_time": "2022-08-30T23:07:20.556Z"
   },
   {
    "duration": 2778,
    "start_time": "2022-08-30T23:08:48.150Z"
   },
   {
    "duration": 2970,
    "start_time": "2022-08-30T23:09:45.184Z"
   },
   {
    "duration": 2807,
    "start_time": "2022-08-30T23:19:30.240Z"
   },
   {
    "duration": 4,
    "start_time": "2022-08-30T23:26:08.333Z"
   },
   {
    "duration": 5,
    "start_time": "2022-08-30T23:26:30.112Z"
   },
   {
    "duration": 3,
    "start_time": "2022-08-30T23:27:36.863Z"
   },
   {
    "duration": 5,
    "start_time": "2022-08-30T23:27:41.104Z"
   },
   {
    "duration": 3,
    "start_time": "2022-08-30T23:28:07.446Z"
   },
   {
    "duration": 5,
    "start_time": "2022-08-30T23:28:11.854Z"
   },
   {
    "duration": 9,
    "start_time": "2022-08-30T23:29:06.177Z"
   },
   {
    "duration": 3,
    "start_time": "2022-08-30T23:31:19.348Z"
   },
   {
    "duration": 10,
    "start_time": "2022-08-30T23:31:20.992Z"
   },
   {
    "duration": 48,
    "start_time": "2022-08-30T23:31:51.155Z"
   },
   {
    "duration": 3,
    "start_time": "2022-08-30T23:32:22.349Z"
   },
   {
    "duration": 4,
    "start_time": "2022-08-30T23:32:24.018Z"
   },
   {
    "duration": 9,
    "start_time": "2022-08-30T23:32:26.866Z"
   },
   {
    "duration": 4,
    "start_time": "2022-08-30T23:32:56.864Z"
   },
   {
    "duration": 3,
    "start_time": "2022-08-30T23:32:59.017Z"
   },
   {
    "duration": 8,
    "start_time": "2022-08-30T23:33:01.341Z"
   },
   {
    "duration": 3,
    "start_time": "2022-08-30T23:33:09.933Z"
   },
   {
    "duration": 9,
    "start_time": "2022-08-30T23:33:12.030Z"
   },
   {
    "duration": 4,
    "start_time": "2022-08-30T23:33:20.018Z"
   },
   {
    "duration": 8,
    "start_time": "2022-08-30T23:33:22.260Z"
   },
   {
    "duration": 4,
    "start_time": "2022-08-30T23:34:20.501Z"
   },
   {
    "duration": 14,
    "start_time": "2022-08-30T23:34:22.634Z"
   },
   {
    "duration": 4,
    "start_time": "2022-08-30T23:34:46.901Z"
   },
   {
    "duration": 8,
    "start_time": "2022-08-30T23:34:48.737Z"
   },
   {
    "duration": 8,
    "start_time": "2022-08-30T23:36:09.377Z"
   },
   {
    "duration": 10,
    "start_time": "2022-08-30T23:36:27.931Z"
   },
   {
    "duration": 9,
    "start_time": "2022-08-30T23:36:49.178Z"
   },
   {
    "duration": 9,
    "start_time": "2022-08-30T23:37:19.323Z"
   },
   {
    "duration": 3,
    "start_time": "2022-08-30T23:37:50.808Z"
   },
   {
    "duration": 4,
    "start_time": "2022-08-30T23:37:56.594Z"
   },
   {
    "duration": 4,
    "start_time": "2022-08-30T23:38:00.221Z"
   },
   {
    "duration": 4,
    "start_time": "2022-08-30T23:38:07.572Z"
   },
   {
    "duration": 4,
    "start_time": "2022-08-30T23:38:14.396Z"
   },
   {
    "duration": 3,
    "start_time": "2022-08-30T23:38:17.689Z"
   },
   {
    "duration": 4,
    "start_time": "2022-08-30T23:38:28.051Z"
   },
   {
    "duration": 4,
    "start_time": "2022-08-30T23:38:40.545Z"
   },
   {
    "duration": 41,
    "start_time": "2022-08-30T23:38:54.607Z"
   },
   {
    "duration": 8,
    "start_time": "2022-08-30T23:40:10.971Z"
   },
   {
    "duration": 9,
    "start_time": "2022-08-30T23:41:46.138Z"
   },
   {
    "duration": 9,
    "start_time": "2022-08-30T23:42:20.597Z"
   },
   {
    "duration": 9,
    "start_time": "2022-08-30T23:43:09.796Z"
   },
   {
    "duration": 6,
    "start_time": "2022-08-30T23:50:03.003Z"
   },
   {
    "duration": 4,
    "start_time": "2022-08-30T23:50:12.613Z"
   },
   {
    "duration": 3,
    "start_time": "2022-08-30T23:50:15.841Z"
   },
   {
    "duration": 10,
    "start_time": "2022-08-30T23:50:18.079Z"
   },
   {
    "duration": 3,
    "start_time": "2022-08-30T23:50:57.673Z"
   },
   {
    "duration": 8,
    "start_time": "2022-08-30T23:50:59.406Z"
   },
   {
    "duration": 3,
    "start_time": "2022-08-30T23:51:05.708Z"
   },
   {
    "duration": 8,
    "start_time": "2022-08-30T23:51:09.535Z"
   },
   {
    "duration": 4,
    "start_time": "2022-08-30T23:51:20.514Z"
   },
   {
    "duration": 20,
    "start_time": "2022-08-30T23:51:22.134Z"
   },
   {
    "duration": 3,
    "start_time": "2022-08-30T23:51:31.374Z"
   },
   {
    "duration": 10,
    "start_time": "2022-08-30T23:51:33.012Z"
   },
   {
    "duration": 3,
    "start_time": "2022-08-30T23:51:37.690Z"
   },
   {
    "duration": 9,
    "start_time": "2022-08-30T23:51:39.706Z"
   },
   {
    "duration": 4,
    "start_time": "2022-08-30T23:52:51.318Z"
   },
   {
    "duration": 9,
    "start_time": "2022-08-30T23:53:49.254Z"
   },
   {
    "duration": 6,
    "start_time": "2022-08-30T23:54:02.394Z"
   },
   {
    "duration": 6,
    "start_time": "2022-08-30T23:54:13.539Z"
   },
   {
    "duration": 6,
    "start_time": "2022-08-30T23:54:28.521Z"
   },
   {
    "duration": 4,
    "start_time": "2022-08-30T23:56:10.226Z"
   },
   {
    "duration": 10,
    "start_time": "2022-08-30T23:56:12.098Z"
   },
   {
    "duration": 3,
    "start_time": "2022-08-30T23:56:33.978Z"
   },
   {
    "duration": 8,
    "start_time": "2022-08-30T23:56:35.537Z"
   },
   {
    "duration": 3,
    "start_time": "2022-08-30T23:56:43.900Z"
   },
   {
    "duration": 9,
    "start_time": "2022-08-30T23:56:45.632Z"
   },
   {
    "duration": 6,
    "start_time": "2022-08-31T01:10:19.890Z"
   },
   {
    "duration": 9,
    "start_time": "2022-08-31T01:11:08.211Z"
   },
   {
    "duration": 10,
    "start_time": "2022-08-31T01:11:27.564Z"
   },
   {
    "duration": 9,
    "start_time": "2022-08-31T01:11:45.778Z"
   },
   {
    "duration": 9,
    "start_time": "2022-08-31T01:12:09.008Z"
   },
   {
    "duration": 9,
    "start_time": "2022-08-31T01:12:30.384Z"
   },
   {
    "duration": 10,
    "start_time": "2022-08-31T01:14:49.203Z"
   },
   {
    "duration": 8,
    "start_time": "2022-08-31T01:15:44.306Z"
   },
   {
    "duration": 8,
    "start_time": "2022-08-31T01:20:42.238Z"
   },
   {
    "duration": 3,
    "start_time": "2022-08-31T01:21:44.856Z"
   },
   {
    "duration": 1400,
    "start_time": "2022-08-31T14:08:20.443Z"
   },
   {
    "duration": 620,
    "start_time": "2022-08-31T14:08:21.845Z"
   },
   {
    "duration": 21,
    "start_time": "2022-08-31T14:08:22.467Z"
   },
   {
    "duration": 11,
    "start_time": "2022-08-31T14:08:22.489Z"
   },
   {
    "duration": 7,
    "start_time": "2022-08-31T14:08:22.502Z"
   },
   {
    "duration": 8,
    "start_time": "2022-08-31T14:08:22.510Z"
   },
   {
    "duration": 79,
    "start_time": "2022-08-31T14:08:22.519Z"
   },
   {
    "duration": 27,
    "start_time": "2022-08-31T14:08:22.599Z"
   },
   {
    "duration": 79,
    "start_time": "2022-08-31T14:08:22.627Z"
   },
   {
    "duration": 3,
    "start_time": "2022-08-31T14:08:22.708Z"
   },
   {
    "duration": 32,
    "start_time": "2022-08-31T14:08:22.712Z"
   },
   {
    "duration": 3,
    "start_time": "2022-08-31T14:08:22.746Z"
   },
   {
    "duration": 151,
    "start_time": "2022-08-31T14:08:22.750Z"
   },
   {
    "duration": 322,
    "start_time": "2022-08-31T14:08:22.904Z"
   },
   {
    "duration": 3,
    "start_time": "2022-08-31T14:08:23.227Z"
   },
   {
    "duration": 5,
    "start_time": "2022-08-31T14:08:23.232Z"
   },
   {
    "duration": 13,
    "start_time": "2022-08-31T14:08:23.238Z"
   },
   {
    "duration": 7,
    "start_time": "2022-08-31T14:08:23.252Z"
   },
   {
    "duration": 7,
    "start_time": "2022-08-31T14:08:23.260Z"
   },
   {
    "duration": 11,
    "start_time": "2022-08-31T14:08:23.269Z"
   },
   {
    "duration": 2531,
    "start_time": "2022-08-31T14:08:23.298Z"
   },
   {
    "duration": 3,
    "start_time": "2022-08-31T14:08:25.831Z"
   },
   {
    "duration": 10,
    "start_time": "2022-08-31T14:08:25.835Z"
   },
   {
    "duration": 8,
    "start_time": "2022-08-31T14:08:25.847Z"
   },
   {
    "duration": 6,
    "start_time": "2022-08-31T14:12:07.457Z"
   },
   {
    "duration": 4,
    "start_time": "2022-08-31T14:12:22.242Z"
   },
   {
    "duration": 4,
    "start_time": "2022-08-31T14:12:28.669Z"
   },
   {
    "duration": 5,
    "start_time": "2022-08-31T14:12:43.336Z"
   },
   {
    "duration": 6,
    "start_time": "2022-08-31T14:12:51.677Z"
   },
   {
    "duration": 5,
    "start_time": "2022-08-31T14:14:16.370Z"
   },
   {
    "duration": 8,
    "start_time": "2022-08-31T14:14:53.930Z"
   },
   {
    "duration": 4,
    "start_time": "2022-08-31T14:41:25.251Z"
   },
   {
    "duration": 8,
    "start_time": "2022-08-31T14:41:26.913Z"
   },
   {
    "duration": 1492,
    "start_time": "2022-09-01T14:19:43.781Z"
   },
   {
    "duration": 623,
    "start_time": "2022-09-01T14:19:45.275Z"
   },
   {
    "duration": 22,
    "start_time": "2022-09-01T14:19:45.900Z"
   },
   {
    "duration": 11,
    "start_time": "2022-09-01T14:19:45.924Z"
   },
   {
    "duration": 7,
    "start_time": "2022-09-01T14:19:45.938Z"
   },
   {
    "duration": 22,
    "start_time": "2022-09-01T14:19:45.946Z"
   },
   {
    "duration": 71,
    "start_time": "2022-09-01T14:19:45.970Z"
   },
   {
    "duration": 30,
    "start_time": "2022-09-01T14:19:46.043Z"
   },
   {
    "duration": 89,
    "start_time": "2022-09-01T14:19:46.075Z"
   },
   {
    "duration": 3,
    "start_time": "2022-09-01T14:19:46.165Z"
   },
   {
    "duration": 38,
    "start_time": "2022-09-01T14:19:46.170Z"
   },
   {
    "duration": 3,
    "start_time": "2022-09-01T14:19:46.210Z"
   },
   {
    "duration": 232,
    "start_time": "2022-09-01T14:19:46.214Z"
   },
   {
    "duration": 319,
    "start_time": "2022-09-01T14:19:46.449Z"
   },
   {
    "duration": 4,
    "start_time": "2022-09-01T14:19:46.769Z"
   },
   {
    "duration": 8,
    "start_time": "2022-09-01T14:19:46.774Z"
   },
   {
    "duration": 13,
    "start_time": "2022-09-01T14:19:46.783Z"
   },
   {
    "duration": 9,
    "start_time": "2022-09-01T14:19:46.798Z"
   },
   {
    "duration": 31,
    "start_time": "2022-09-01T14:19:46.809Z"
   },
   {
    "duration": 5,
    "start_time": "2022-09-01T14:19:46.842Z"
   },
   {
    "duration": 2751,
    "start_time": "2022-09-01T14:19:46.848Z"
   },
   {
    "duration": 4,
    "start_time": "2022-09-01T14:19:49.601Z"
   },
   {
    "duration": 12,
    "start_time": "2022-09-01T14:19:49.607Z"
   },
   {
    "duration": 24,
    "start_time": "2022-09-01T14:19:49.621Z"
   },
   {
    "duration": 8,
    "start_time": "2022-09-01T14:19:49.646Z"
   }
  ],
  "kernelspec": {
   "display_name": "Python 3 (ipykernel)",
   "language": "python",
   "name": "python3"
  },
  "language_info": {
   "codemirror_mode": {
    "name": "ipython",
    "version": 3
   },
   "file_extension": ".py",
   "mimetype": "text/x-python",
   "name": "python",
   "nbconvert_exporter": "python",
   "pygments_lexer": "ipython3",
   "version": "3.9.10"
  },
  "toc": {
   "base_numbering": 1,
   "nav_menu": {},
   "number_sections": true,
   "sideBar": true,
   "skip_h1_title": false,
   "title_cell": "Table of Contents",
   "title_sidebar": "Contents",
   "toc_cell": true,
   "toc_position": {},
   "toc_section_display": true,
   "toc_window_display": true
  }
 },
 "nbformat": 4,
 "nbformat_minor": 2
}
