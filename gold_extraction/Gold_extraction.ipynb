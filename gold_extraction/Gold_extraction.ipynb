{
 "cells": [
  {
   "cell_type": "markdown",
   "metadata": {},
   "source": [
    "# Prediction of amount of gold extracted during the purification process <a class='tocSkip'></a>\n",
    "\n",
    "This machine learning project is developed for **Zyfra**, a company that develops efficiency solutions for heavy industry.\n",
    "\n",
    "The model has the objective of predicting the amount of gold extracted from the ore during each stage and at the end of the purification process, in order to optimize production and eliminate unprofitable parameters. The technological process of extraction is summarized in the following figure.\n",
    "\n",
    "<img src='https://code.s3.yandex.net/new-markets/DS_sprint_10/ES/10.3.2ES.png' width=600/>\n",
    "\n",
    "The process consists of two steps:\n",
    "\n",
    "1. **Flotation**: The gold ore mix is fed into flotation plants to obtain a _rougher gold concentrate_ and _rougher tailings_ (ie, product residues with a low concentration of valuable metals). The stability of this process is affected by the volatility and the unfavorable physical-chemical state of the flotation pulp (a mixture of solid particles and liquid).\n",
    "2. **Purification**: The rougher concentrate undergoes _two purification steps_. After this, we have the final concentrate and the new tails.\n",
    "\n",
    "We are going to predict the gold concentration after the first, second and final purification stage."
   ]
  },
  {
   "cell_type": "markdown",
   "metadata": {
    "toc": true
   },
   "source": [
    "<h1>Table of Contents<span class=\"tocSkip\"></span></h1>\n",
    "<div class=\"toc\"><ul class=\"toc-item\"><li><span><a href=\"#Data-preparation\" data-toc-modified-id=\"Data-preparation-1\"><span class=\"toc-item-num\">1&nbsp;&nbsp;</span>Data preparation</a></span><ul class=\"toc-item\"><li><span><a href=\"#Loading-and-browsing-the-data-\" data-toc-modified-id=\"Loading-and-browsing-the-data--1.1\"><span class=\"toc-item-num\">1.1&nbsp;&nbsp;</span>Loading and browsing the data <a id=\"1,1\" rel=\"nofollow\"></a></a></span></li><li><span><a href=\"#Checking-the-recovery-calculation\" data-toc-modified-id=\"Checking-the-recovery-calculation-1.2\"><span class=\"toc-item-num\">1.2&nbsp;&nbsp;</span>Checking the recovery calculation</a></span></li><li><span><a href=\"#Analysis-of-unavailable-features-\" data-toc-modified-id=\"Analysis-of-unavailable-features--1.3\"><span class=\"toc-item-num\">1.3&nbsp;&nbsp;</span>Analysis of unavailable features <a id=\"1.3\" rel=\"nofollow\"></a></a></span></li><li><span><a href=\"#Data-preprocessing-\" data-toc-modified-id=\"Data-preprocessing--1.4\"><span class=\"toc-item-num\">1.4&nbsp;&nbsp;</span>Data preprocessing <a id=\"1.4\" rel=\"nofollow\"></a></a></span></li></ul></li><li><span><a href=\"#Data-analysis-\" data-toc-modified-id=\"Data-analysis--2\"><span class=\"toc-item-num\">2&nbsp;&nbsp;</span>Data analysis <a id=\"2\" rel=\"nofollow\"></a></a></span><ul class=\"toc-item\"><li><span><a href=\"#Changes-in-the-concentration-of-metals-(Au,-Ag,-Pb)-in-each-purification-step-\" data-toc-modified-id=\"Changes-in-the-concentration-of-metals-(Au,-Ag,-Pb)-in-each-purification-step--2.1\"><span class=\"toc-item-num\">2.1&nbsp;&nbsp;</span>Changes in the concentration of metals (Au, Ag, Pb) in each purification step <a id=\"2.1\" rel=\"nofollow\"></a></a></span></li><li><span><a href=\"#Comparison-of-feed-particles-between-training-and-test-sets-\" data-toc-modified-id=\"Comparison-of-feed-particles-between-training-and-test-sets--2.2\"><span class=\"toc-item-num\">2.2&nbsp;&nbsp;</span>Comparison of feed particles between training and test sets <a id=\"2.2\" rel=\"nofollow\"></a></a></span></li><li><span><a href=\"#Total-concentrations-of-all-substances-at-each-stage-\" data-toc-modified-id=\"Total-concentrations-of-all-substances-at-each-stage--2.3\"><span class=\"toc-item-num\">2.3&nbsp;&nbsp;</span>Total concentrations of all substances at each stage <a id=\"2.3\" rel=\"nofollow\"></a></a></span></li><li><span><a href=\"#Selection-of-target-variables-and-features-\" data-toc-modified-id=\"Selection-of-target-variables-and-features--2.4\"><span class=\"toc-item-num\">2.4&nbsp;&nbsp;</span>Selection of target variables and features <a id=\"2.4\" rel=\"nofollow\"></a></a></span></li></ul></li><li><span><a href=\"#Model-build-and-train-\" data-toc-modified-id=\"Model-build-and-train--3\"><span class=\"toc-item-num\">3&nbsp;&nbsp;</span>Model build and train <a id=\"3\" rel=\"nofollow\"></a></a></span><ul class=\"toc-item\"><li><span><a href=\"#Final-function-definition-sMAPE-\" data-toc-modified-id=\"Final-function-definition-sMAPE--3.1\"><span class=\"toc-item-num\">3.1&nbsp;&nbsp;</span>Final function definition sMAPE <a id=\"3.1\" rel=\"nofollow\"></a></a></span></li><li><span><a href=\"#Training-models-\" data-toc-modified-id=\"Training-models--3.2\"><span class=\"toc-item-num\">3.2&nbsp;&nbsp;</span>Training models <a id=\"3.2\" rel=\"nofollow\"></a></a></span><ul class=\"toc-item\"><li><span><a href=\"#Linear-regression-\" data-toc-modified-id=\"Linear-regression--3.2.1\"><span class=\"toc-item-num\">3.2.1&nbsp;&nbsp;</span>Linear regression <a id=\"3.2.1\" rel=\"nofollow\"></a></a></span></li><li><span><a href=\"#Regression-Tree-\" data-toc-modified-id=\"Regression-Tree--3.2.2\"><span class=\"toc-item-num\">3.2.2&nbsp;&nbsp;</span>Regression Tree <a id=\"3.2.2\" rel=\"nofollow\"></a></a></span></li><li><span><a href=\"#Bosque-aleatoreo-de-regresion-\" data-toc-modified-id=\"Bosque-aleatoreo-de-regresion--3.2.3\"><span class=\"toc-item-num\">3.2.3&nbsp;&nbsp;</span>Bosque aleatoreo de regresion <a id=\"3.2.3\" rel=\"nofollow\"></a></a></span></li></ul></li><li><span><a href=\"#Evaluation-of-the-best-model-\" data-toc-modified-id=\"Evaluation-of-the-best-model--3.3\"><span class=\"toc-item-num\">3.3&nbsp;&nbsp;</span>Evaluation of the best model <a id=\"3.3\" rel=\"nofollow\"></a></a></span></li><li><span><a href=\"#Sanity-test-\" data-toc-modified-id=\"Sanity-test--3.4\"><span class=\"toc-item-num\">3.4&nbsp;&nbsp;</span>Sanity test <a id=\"4.4\" rel=\"nofollow\"></a></a></span></li></ul></li><li><span><a href=\"#Conclusions-\" data-toc-modified-id=\"Conclusions--4\"><span class=\"toc-item-num\">4&nbsp;&nbsp;</span>Conclusions <a id=\"4\" rel=\"nofollow\"></a></a></span></li></ul></div>"
   ]
  },
  {
   "cell_type": "code",
   "execution_count": 1,
   "metadata": {},
   "outputs": [],
   "source": [
    "# Load libraries\n",
    "import pandas as pd                                    # DataFrame manipulation\n",
    "import numpy as np                                     # Manipulation of numeric arrays\n",
    "import matplotlib.pyplot as plt                        # Plotting\n",
    "import seaborn as sns                                  # Plotting\n",
    "import sidetable as stb                                # Summary tables\n",
    "from sklearn.metrics import mean_absolute_error        # Mean Absolute Error\n",
    "from sklearn.preprocessing import StandardScaler       # Scaling numeric variables\n",
    "from sklearn.linear_model import LinearRegression      # Linear regression\n",
    "from sklearn.tree import DecisionTreeRegressor         # Decision tree regressor\n",
    "from sklearn.ensemble import RandomForestRegressor     # Random Forest regressor\n",
    "from sklearn.model_selection import cross_val_score    # Cross validation\n",
    "from sklearn.metrics import make_scorer                # Metric definition for model evaluation"
   ]
  },
  {
   "cell_type": "markdown",
   "metadata": {},
   "source": [
    "# Data preparation\n",
    "\n",
    "In this first stage of the project we are going to load the data available for the elaboration of the model. The DataFrames with which we are going to work are the following:\n",
    "\n",
    "* **`au_train`**: training data set\n",
    "* **`au_test`**: test data set\n",
    "* **`au_full`**: original data set comprising the training and test set\n",
    "\n",
    "The DataFrame contains 86 variables of the technological extraction process which comprises 4 stages, each stage can have up to 5 different types of parameters and each type of parameter can take different values corresponding to the technological process variable. In such a way that the nomenclature of the variables takes the following format: `[stage].[parameter_type].[parameter_name]`.\n",
    "\n",
    "The following figure shows an example of 8 variables, each corresponding to different stages, types of parameters and technological process.\n",
    "\n",
    "<img src='https://code.s3.yandex.net/new-markets/DS_sprint_10/ES/10.3.2.2ES.png' width=800 />\n",
    "\n",
    "In the following sub-stages we will develop the following tasks:\n",
    "\n",
    "1. [Loading and browsing data](#1.1)\n",
    "3. [Check Recovery Calculation](#1.2)\n",
    "2. [Analysis of unavailable features](#1.3)\n",
    "4. [Data Preprocessing](#1.4)"
   ]
  },
  {
   "cell_type": "markdown",
   "metadata": {},
   "source": [
    "## Loading and browsing the data <a id='1,1' ></a>\n",
    "\n",
    "Let's load the data and examine the information contained in each DataFrame.\n",
    "\n",
    "The first column (`date`) of each DataFrame contains the date and time that each variable was measured. When loading the data, we are going to transform this column into a 'datetime' format and set the column as the index of each DataFrame. This will allow us to better manipulate the data and keep only numerical variables for analysis and model training."
   ]
  },
  {
   "cell_type": "code",
   "execution_count": 3,
   "metadata": {},
   "outputs": [],
   "source": [
    "# Load data, parse the 'date' column to type datetime and use it as an index\n",
    "\n",
    "# Training dataset\n",
    "au_train = pd.read_csv('datasets/gold_recovery_train.csv', parse_dates=[0], infer_datetime_format=True, index_col=0)  \n",
    "\n",
    "# Test dataset\n",
    "au_test = pd.read_csv('datasets/gold_recovery_test.csv', parse_dates=[0], infer_datetime_format=True, index_col=0)    \n",
    "\n",
    " # Original dataset [train + test]\n",
    "au_full = pd.read_csv('datasets/gold_recovery_full.csv', parse_dates=[0], infer_datetime_format=True, index_col=0)   \n",
    "\n",
    "# DataFrame List\n",
    "data = [au_train, au_test, au_full]"
   ]
  },
  {
   "cell_type": "code",
   "execution_count": 4,
   "metadata": {},
   "outputs": [
    {
     "name": "stdout",
     "output_type": "stream",
     "text": [
      "<class 'pandas.core.frame.DataFrame'>\n",
      "DatetimeIndex: 16860 entries, 2016-01-15 00:00:00 to 2018-08-18 10:59:59\n",
      "Data columns (total 86 columns):\n",
      " #   Column                                              Non-Null Count  Dtype  \n",
      "---  ------                                              --------------  -----  \n",
      " 0   final.output.concentrate_ag                         16788 non-null  float64\n",
      " 1   final.output.concentrate_pb                         16788 non-null  float64\n",
      " 2   final.output.concentrate_sol                        16490 non-null  float64\n",
      " 3   final.output.concentrate_au                         16789 non-null  float64\n",
      " 4   final.output.recovery                               15339 non-null  float64\n",
      " 5   final.output.tail_ag                                16794 non-null  float64\n",
      " 6   final.output.tail_pb                                16677 non-null  float64\n",
      " 7   final.output.tail_sol                               16715 non-null  float64\n",
      " 8   final.output.tail_au                                16794 non-null  float64\n",
      " 9   primary_cleaner.input.sulfate                       15553 non-null  float64\n",
      " 10  primary_cleaner.input.depressant                    15598 non-null  float64\n",
      " 11  primary_cleaner.input.feed_size                     16860 non-null  float64\n",
      " 12  primary_cleaner.input.xanthate                      15875 non-null  float64\n",
      " 13  primary_cleaner.output.concentrate_ag               16778 non-null  float64\n",
      " 14  primary_cleaner.output.concentrate_pb               16502 non-null  float64\n",
      " 15  primary_cleaner.output.concentrate_sol              16224 non-null  float64\n",
      " 16  primary_cleaner.output.concentrate_au               16778 non-null  float64\n",
      " 17  primary_cleaner.output.tail_ag                      16777 non-null  float64\n",
      " 18  primary_cleaner.output.tail_pb                      16761 non-null  float64\n",
      " 19  primary_cleaner.output.tail_sol                     16579 non-null  float64\n",
      " 20  primary_cleaner.output.tail_au                      16777 non-null  float64\n",
      " 21  primary_cleaner.state.floatbank8_a_air              16820 non-null  float64\n",
      " 22  primary_cleaner.state.floatbank8_a_level            16827 non-null  float64\n",
      " 23  primary_cleaner.state.floatbank8_b_air              16820 non-null  float64\n",
      " 24  primary_cleaner.state.floatbank8_b_level            16833 non-null  float64\n",
      " 25  primary_cleaner.state.floatbank8_c_air              16822 non-null  float64\n",
      " 26  primary_cleaner.state.floatbank8_c_level            16833 non-null  float64\n",
      " 27  primary_cleaner.state.floatbank8_d_air              16821 non-null  float64\n",
      " 28  primary_cleaner.state.floatbank8_d_level            16833 non-null  float64\n",
      " 29  rougher.calculation.sulfate_to_au_concentrate       16833 non-null  float64\n",
      " 30  rougher.calculation.floatbank10_sulfate_to_au_feed  16833 non-null  float64\n",
      " 31  rougher.calculation.floatbank11_sulfate_to_au_feed  16833 non-null  float64\n",
      " 32  rougher.calculation.au_pb_ratio                     15618 non-null  float64\n",
      " 33  rougher.input.feed_ag                               16778 non-null  float64\n",
      " 34  rougher.input.feed_pb                               16632 non-null  float64\n",
      " 35  rougher.input.feed_rate                             16347 non-null  float64\n",
      " 36  rougher.input.feed_size                             16443 non-null  float64\n",
      " 37  rougher.input.feed_sol                              16568 non-null  float64\n",
      " 38  rougher.input.feed_au                               16777 non-null  float64\n",
      " 39  rougher.input.floatbank10_sulfate                   15816 non-null  float64\n",
      " 40  rougher.input.floatbank10_xanthate                  16514 non-null  float64\n",
      " 41  rougher.input.floatbank11_sulfate                   16237 non-null  float64\n",
      " 42  rougher.input.floatbank11_xanthate                  14956 non-null  float64\n",
      " 43  rougher.output.concentrate_ag                       16778 non-null  float64\n",
      " 44  rougher.output.concentrate_pb                       16778 non-null  float64\n",
      " 45  rougher.output.concentrate_sol                      16698 non-null  float64\n",
      " 46  rougher.output.concentrate_au                       16778 non-null  float64\n",
      " 47  rougher.output.recovery                             14287 non-null  float64\n",
      " 48  rougher.output.tail_ag                              14610 non-null  float64\n",
      " 49  rougher.output.tail_pb                              16778 non-null  float64\n",
      " 50  rougher.output.tail_sol                             14611 non-null  float64\n",
      " 51  rougher.output.tail_au                              14611 non-null  float64\n",
      " 52  rougher.state.floatbank10_a_air                     16807 non-null  float64\n",
      " 53  rougher.state.floatbank10_a_level                   16807 non-null  float64\n",
      " 54  rougher.state.floatbank10_b_air                     16807 non-null  float64\n",
      " 55  rougher.state.floatbank10_b_level                   16807 non-null  float64\n",
      " 56  rougher.state.floatbank10_c_air                     16807 non-null  float64\n",
      " 57  rougher.state.floatbank10_c_level                   16814 non-null  float64\n",
      " 58  rougher.state.floatbank10_d_air                     16802 non-null  float64\n",
      " 59  rougher.state.floatbank10_d_level                   16809 non-null  float64\n",
      " 60  rougher.state.floatbank10_e_air                     16257 non-null  float64\n",
      " 61  rougher.state.floatbank10_e_level                   16809 non-null  float64\n",
      " 62  rougher.state.floatbank10_f_air                     16802 non-null  float64\n",
      " 63  rougher.state.floatbank10_f_level                   16802 non-null  float64\n",
      " 64  secondary_cleaner.output.tail_ag                    16776 non-null  float64\n",
      " 65  secondary_cleaner.output.tail_pb                    16764 non-null  float64\n",
      " 66  secondary_cleaner.output.tail_sol                   14874 non-null  float64\n",
      " 67  secondary_cleaner.output.tail_au                    16778 non-null  float64\n",
      " 68  secondary_cleaner.state.floatbank2_a_air            16497 non-null  float64\n",
      " 69  secondary_cleaner.state.floatbank2_a_level          16751 non-null  float64\n",
      " 70  secondary_cleaner.state.floatbank2_b_air            16705 non-null  float64\n",
      " 71  secondary_cleaner.state.floatbank2_b_level          16748 non-null  float64\n",
      " 72  secondary_cleaner.state.floatbank3_a_air            16763 non-null  float64\n",
      " 73  secondary_cleaner.state.floatbank3_a_level          16747 non-null  float64\n",
      " 74  secondary_cleaner.state.floatbank3_b_air            16752 non-null  float64\n",
      " 75  secondary_cleaner.state.floatbank3_b_level          16750 non-null  float64\n",
      " 76  secondary_cleaner.state.floatbank4_a_air            16731 non-null  float64\n",
      " 77  secondary_cleaner.state.floatbank4_a_level          16747 non-null  float64\n",
      " 78  secondary_cleaner.state.floatbank4_b_air            16768 non-null  float64\n",
      " 79  secondary_cleaner.state.floatbank4_b_level          16767 non-null  float64\n",
      " 80  secondary_cleaner.state.floatbank5_a_air            16775 non-null  float64\n",
      " 81  secondary_cleaner.state.floatbank5_a_level          16775 non-null  float64\n",
      " 82  secondary_cleaner.state.floatbank5_b_air            16775 non-null  float64\n",
      " 83  secondary_cleaner.state.floatbank5_b_level          16776 non-null  float64\n",
      " 84  secondary_cleaner.state.floatbank6_a_air            16757 non-null  float64\n",
      " 85  secondary_cleaner.state.floatbank6_a_level          16775 non-null  float64\n",
      "dtypes: float64(86)\n",
      "memory usage: 11.2 MB\n",
      "None (16860, 86) \n",
      "\n",
      "<class 'pandas.core.frame.DataFrame'>\n",
      "DatetimeIndex: 5856 entries, 2016-09-01 00:59:59 to 2017-12-31 23:59:59\n",
      "Data columns (total 52 columns):\n",
      " #   Column                                      Non-Null Count  Dtype  \n",
      "---  ------                                      --------------  -----  \n",
      " 0   primary_cleaner.input.sulfate               5554 non-null   float64\n",
      " 1   primary_cleaner.input.depressant            5572 non-null   float64\n",
      " 2   primary_cleaner.input.feed_size             5856 non-null   float64\n",
      " 3   primary_cleaner.input.xanthate              5690 non-null   float64\n",
      " 4   primary_cleaner.state.floatbank8_a_air      5840 non-null   float64\n",
      " 5   primary_cleaner.state.floatbank8_a_level    5840 non-null   float64\n",
      " 6   primary_cleaner.state.floatbank8_b_air      5840 non-null   float64\n",
      " 7   primary_cleaner.state.floatbank8_b_level    5840 non-null   float64\n",
      " 8   primary_cleaner.state.floatbank8_c_air      5840 non-null   float64\n",
      " 9   primary_cleaner.state.floatbank8_c_level    5840 non-null   float64\n",
      " 10  primary_cleaner.state.floatbank8_d_air      5840 non-null   float64\n",
      " 11  primary_cleaner.state.floatbank8_d_level    5840 non-null   float64\n",
      " 12  rougher.input.feed_ag                       5840 non-null   float64\n",
      " 13  rougher.input.feed_pb                       5840 non-null   float64\n",
      " 14  rougher.input.feed_rate                     5816 non-null   float64\n",
      " 15  rougher.input.feed_size                     5834 non-null   float64\n",
      " 16  rougher.input.feed_sol                      5789 non-null   float64\n",
      " 17  rougher.input.feed_au                       5840 non-null   float64\n",
      " 18  rougher.input.floatbank10_sulfate           5599 non-null   float64\n",
      " 19  rougher.input.floatbank10_xanthate          5733 non-null   float64\n",
      " 20  rougher.input.floatbank11_sulfate           5801 non-null   float64\n",
      " 21  rougher.input.floatbank11_xanthate          5503 non-null   float64\n",
      " 22  rougher.state.floatbank10_a_air             5839 non-null   float64\n",
      " 23  rougher.state.floatbank10_a_level           5840 non-null   float64\n",
      " 24  rougher.state.floatbank10_b_air             5839 non-null   float64\n",
      " 25  rougher.state.floatbank10_b_level           5840 non-null   float64\n",
      " 26  rougher.state.floatbank10_c_air             5839 non-null   float64\n",
      " 27  rougher.state.floatbank10_c_level           5840 non-null   float64\n",
      " 28  rougher.state.floatbank10_d_air             5839 non-null   float64\n",
      " 29  rougher.state.floatbank10_d_level           5840 non-null   float64\n",
      " 30  rougher.state.floatbank10_e_air             5839 non-null   float64\n",
      " 31  rougher.state.floatbank10_e_level           5840 non-null   float64\n",
      " 32  rougher.state.floatbank10_f_air             5839 non-null   float64\n",
      " 33  rougher.state.floatbank10_f_level           5840 non-null   float64\n",
      " 34  secondary_cleaner.state.floatbank2_a_air    5836 non-null   float64\n",
      " 35  secondary_cleaner.state.floatbank2_a_level  5840 non-null   float64\n",
      " 36  secondary_cleaner.state.floatbank2_b_air    5833 non-null   float64\n",
      " 37  secondary_cleaner.state.floatbank2_b_level  5840 non-null   float64\n",
      " 38  secondary_cleaner.state.floatbank3_a_air    5822 non-null   float64\n",
      " 39  secondary_cleaner.state.floatbank3_a_level  5840 non-null   float64\n",
      " 40  secondary_cleaner.state.floatbank3_b_air    5840 non-null   float64\n",
      " 41  secondary_cleaner.state.floatbank3_b_level  5840 non-null   float64\n",
      " 42  secondary_cleaner.state.floatbank4_a_air    5840 non-null   float64\n",
      " 43  secondary_cleaner.state.floatbank4_a_level  5840 non-null   float64\n",
      " 44  secondary_cleaner.state.floatbank4_b_air    5840 non-null   float64\n",
      " 45  secondary_cleaner.state.floatbank4_b_level  5840 non-null   float64\n",
      " 46  secondary_cleaner.state.floatbank5_a_air    5840 non-null   float64\n",
      " 47  secondary_cleaner.state.floatbank5_a_level  5840 non-null   float64\n",
      " 48  secondary_cleaner.state.floatbank5_b_air    5840 non-null   float64\n",
      " 49  secondary_cleaner.state.floatbank5_b_level  5840 non-null   float64\n",
      " 50  secondary_cleaner.state.floatbank6_a_air    5840 non-null   float64\n",
      " 51  secondary_cleaner.state.floatbank6_a_level  5840 non-null   float64\n",
      "dtypes: float64(52)\n",
      "memory usage: 2.4 MB\n",
      "None (5856, 52) \n",
      "\n",
      "<class 'pandas.core.frame.DataFrame'>\n",
      "DatetimeIndex: 22716 entries, 2016-01-15 00:00:00 to 2018-08-18 10:59:59\n",
      "Data columns (total 86 columns):\n",
      " #   Column                                              Non-Null Count  Dtype  \n",
      "---  ------                                              --------------  -----  \n",
      " 0   final.output.concentrate_ag                         22627 non-null  float64\n",
      " 1   final.output.concentrate_pb                         22629 non-null  float64\n",
      " 2   final.output.concentrate_sol                        22331 non-null  float64\n",
      " 3   final.output.concentrate_au                         22630 non-null  float64\n",
      " 4   final.output.recovery                               20753 non-null  float64\n",
      " 5   final.output.tail_ag                                22633 non-null  float64\n",
      " 6   final.output.tail_pb                                22516 non-null  float64\n",
      " 7   final.output.tail_sol                               22445 non-null  float64\n",
      " 8   final.output.tail_au                                22635 non-null  float64\n",
      " 9   primary_cleaner.input.sulfate                       21107 non-null  float64\n",
      " 10  primary_cleaner.input.depressant                    21170 non-null  float64\n",
      " 11  primary_cleaner.input.feed_size                     22716 non-null  float64\n",
      " 12  primary_cleaner.input.xanthate                      21565 non-null  float64\n",
      " 13  primary_cleaner.output.concentrate_ag               22618 non-null  float64\n",
      " 14  primary_cleaner.output.concentrate_pb               22268 non-null  float64\n",
      " 15  primary_cleaner.output.concentrate_sol              21918 non-null  float64\n",
      " 16  primary_cleaner.output.concentrate_au               22618 non-null  float64\n",
      " 17  primary_cleaner.output.tail_ag                      22614 non-null  float64\n",
      " 18  primary_cleaner.output.tail_pb                      22594 non-null  float64\n",
      " 19  primary_cleaner.output.tail_sol                     22365 non-null  float64\n",
      " 20  primary_cleaner.output.tail_au                      22617 non-null  float64\n",
      " 21  primary_cleaner.state.floatbank8_a_air              22660 non-null  float64\n",
      " 22  primary_cleaner.state.floatbank8_a_level            22667 non-null  float64\n",
      " 23  primary_cleaner.state.floatbank8_b_air              22660 non-null  float64\n",
      " 24  primary_cleaner.state.floatbank8_b_level            22673 non-null  float64\n",
      " 25  primary_cleaner.state.floatbank8_c_air              22662 non-null  float64\n",
      " 26  primary_cleaner.state.floatbank8_c_level            22673 non-null  float64\n",
      " 27  primary_cleaner.state.floatbank8_d_air              22661 non-null  float64\n",
      " 28  primary_cleaner.state.floatbank8_d_level            22673 non-null  float64\n",
      " 29  rougher.calculation.sulfate_to_au_concentrate       22672 non-null  float64\n",
      " 30  rougher.calculation.floatbank10_sulfate_to_au_feed  22672 non-null  float64\n",
      " 31  rougher.calculation.floatbank11_sulfate_to_au_feed  22672 non-null  float64\n",
      " 32  rougher.calculation.au_pb_ratio                     21089 non-null  float64\n",
      " 33  rougher.input.feed_ag                               22618 non-null  float64\n",
      " 34  rougher.input.feed_pb                               22472 non-null  float64\n",
      " 35  rougher.input.feed_rate                             22163 non-null  float64\n",
      " 36  rougher.input.feed_size                             22277 non-null  float64\n",
      " 37  rougher.input.feed_sol                              22357 non-null  float64\n",
      " 38  rougher.input.feed_au                               22617 non-null  float64\n",
      " 39  rougher.input.floatbank10_sulfate                   21415 non-null  float64\n",
      " 40  rougher.input.floatbank10_xanthate                  22247 non-null  float64\n",
      " 41  rougher.input.floatbank11_sulfate                   22038 non-null  float64\n",
      " 42  rougher.input.floatbank11_xanthate                  20459 non-null  float64\n",
      " 43  rougher.output.concentrate_ag                       22618 non-null  float64\n",
      " 44  rougher.output.concentrate_pb                       22618 non-null  float64\n",
      " 45  rougher.output.concentrate_sol                      22526 non-null  float64\n",
      " 46  rougher.output.concentrate_au                       22618 non-null  float64\n",
      " 47  rougher.output.recovery                             19597 non-null  float64\n",
      " 48  rougher.output.tail_ag                              19979 non-null  float64\n",
      " 49  rougher.output.tail_pb                              22618 non-null  float64\n",
      " 50  rougher.output.tail_sol                             19980 non-null  float64\n",
      " 51  rougher.output.tail_au                              19980 non-null  float64\n",
      " 52  rougher.state.floatbank10_a_air                     22646 non-null  float64\n",
      " 53  rougher.state.floatbank10_a_level                   22647 non-null  float64\n",
      " 54  rougher.state.floatbank10_b_air                     22646 non-null  float64\n",
      " 55  rougher.state.floatbank10_b_level                   22647 non-null  float64\n",
      " 56  rougher.state.floatbank10_c_air                     22646 non-null  float64\n",
      " 57  rougher.state.floatbank10_c_level                   22654 non-null  float64\n",
      " 58  rougher.state.floatbank10_d_air                     22641 non-null  float64\n",
      " 59  rougher.state.floatbank10_d_level                   22649 non-null  float64\n",
      " 60  rougher.state.floatbank10_e_air                     22096 non-null  float64\n",
      " 61  rougher.state.floatbank10_e_level                   22649 non-null  float64\n",
      " 62  rougher.state.floatbank10_f_air                     22641 non-null  float64\n",
      " 63  rougher.state.floatbank10_f_level                   22642 non-null  float64\n",
      " 64  secondary_cleaner.output.tail_ag                    22616 non-null  float64\n",
      " 65  secondary_cleaner.output.tail_pb                    22600 non-null  float64\n",
      " 66  secondary_cleaner.output.tail_sol                   20501 non-null  float64\n",
      " 67  secondary_cleaner.output.tail_au                    22618 non-null  float64\n",
      " 68  secondary_cleaner.state.floatbank2_a_air            22333 non-null  float64\n",
      " 69  secondary_cleaner.state.floatbank2_a_level          22591 non-null  float64\n",
      " 70  secondary_cleaner.state.floatbank2_b_air            22538 non-null  float64\n",
      " 71  secondary_cleaner.state.floatbank2_b_level          22588 non-null  float64\n",
      " 72  secondary_cleaner.state.floatbank3_a_air            22585 non-null  float64\n",
      " 73  secondary_cleaner.state.floatbank3_a_level          22587 non-null  float64\n",
      " 74  secondary_cleaner.state.floatbank3_b_air            22592 non-null  float64\n",
      " 75  secondary_cleaner.state.floatbank3_b_level          22590 non-null  float64\n",
      " 76  secondary_cleaner.state.floatbank4_a_air            22571 non-null  float64\n",
      " 77  secondary_cleaner.state.floatbank4_a_level          22587 non-null  float64\n",
      " 78  secondary_cleaner.state.floatbank4_b_air            22608 non-null  float64\n",
      " 79  secondary_cleaner.state.floatbank4_b_level          22607 non-null  float64\n",
      " 80  secondary_cleaner.state.floatbank5_a_air            22615 non-null  float64\n",
      " 81  secondary_cleaner.state.floatbank5_a_level          22615 non-null  float64\n",
      " 82  secondary_cleaner.state.floatbank5_b_air            22615 non-null  float64\n",
      " 83  secondary_cleaner.state.floatbank5_b_level          22616 non-null  float64\n",
      " 84  secondary_cleaner.state.floatbank6_a_air            22597 non-null  float64\n",
      " 85  secondary_cleaner.state.floatbank6_a_level          22615 non-null  float64\n",
      "dtypes: float64(86)\n",
      "memory usage: 15.1 MB\n",
      "None (22716, 86) \n",
      "\n"
     ]
    }
   ],
   "source": [
    "# Información y tamaño de cada DataFrame \n",
    "for d in data:\n",
    "    print(d.info(), d.shape, '\\n')"
   ]
  },
  {
   "cell_type": "code",
   "execution_count": 5,
   "metadata": {},
   "outputs": [
    {
     "data": {
      "text/html": [
       "<div>\n",
       "<style scoped>\n",
       "    .dataframe tbody tr th:only-of-type {\n",
       "        vertical-align: middle;\n",
       "    }\n",
       "\n",
       "    .dataframe tbody tr th {\n",
       "        vertical-align: top;\n",
       "    }\n",
       "\n",
       "    .dataframe thead th {\n",
       "        text-align: right;\n",
       "    }\n",
       "</style>\n",
       "<table border=\"1\" class=\"dataframe\">\n",
       "  <thead>\n",
       "    <tr style=\"text-align: right;\">\n",
       "      <th></th>\n",
       "      <th>final.output.concentrate_ag</th>\n",
       "      <th>final.output.concentrate_pb</th>\n",
       "      <th>final.output.concentrate_sol</th>\n",
       "      <th>final.output.concentrate_au</th>\n",
       "      <th>final.output.recovery</th>\n",
       "      <th>final.output.tail_ag</th>\n",
       "      <th>final.output.tail_pb</th>\n",
       "      <th>final.output.tail_sol</th>\n",
       "      <th>final.output.tail_au</th>\n",
       "      <th>primary_cleaner.input.sulfate</th>\n",
       "      <th>...</th>\n",
       "      <th>secondary_cleaner.state.floatbank4_a_air</th>\n",
       "      <th>secondary_cleaner.state.floatbank4_a_level</th>\n",
       "      <th>secondary_cleaner.state.floatbank4_b_air</th>\n",
       "      <th>secondary_cleaner.state.floatbank4_b_level</th>\n",
       "      <th>secondary_cleaner.state.floatbank5_a_air</th>\n",
       "      <th>secondary_cleaner.state.floatbank5_a_level</th>\n",
       "      <th>secondary_cleaner.state.floatbank5_b_air</th>\n",
       "      <th>secondary_cleaner.state.floatbank5_b_level</th>\n",
       "      <th>secondary_cleaner.state.floatbank6_a_air</th>\n",
       "      <th>secondary_cleaner.state.floatbank6_a_level</th>\n",
       "    </tr>\n",
       "    <tr>\n",
       "      <th>date</th>\n",
       "      <th></th>\n",
       "      <th></th>\n",
       "      <th></th>\n",
       "      <th></th>\n",
       "      <th></th>\n",
       "      <th></th>\n",
       "      <th></th>\n",
       "      <th></th>\n",
       "      <th></th>\n",
       "      <th></th>\n",
       "      <th></th>\n",
       "      <th></th>\n",
       "      <th></th>\n",
       "      <th></th>\n",
       "      <th></th>\n",
       "      <th></th>\n",
       "      <th></th>\n",
       "      <th></th>\n",
       "      <th></th>\n",
       "      <th></th>\n",
       "      <th></th>\n",
       "    </tr>\n",
       "  </thead>\n",
       "  <tbody>\n",
       "    <tr>\n",
       "      <th>2016-01-15 00:00:00</th>\n",
       "      <td>6.055403</td>\n",
       "      <td>9.889648</td>\n",
       "      <td>5.507324</td>\n",
       "      <td>42.192020</td>\n",
       "      <td>70.541216</td>\n",
       "      <td>10.411962</td>\n",
       "      <td>0.895447</td>\n",
       "      <td>16.904297</td>\n",
       "      <td>2.143149</td>\n",
       "      <td>127.092003</td>\n",
       "      <td>...</td>\n",
       "      <td>14.016835</td>\n",
       "      <td>-502.488007</td>\n",
       "      <td>12.099931</td>\n",
       "      <td>-504.715942</td>\n",
       "      <td>9.925633</td>\n",
       "      <td>-498.310211</td>\n",
       "      <td>8.079666</td>\n",
       "      <td>-500.470978</td>\n",
       "      <td>14.151341</td>\n",
       "      <td>-605.841980</td>\n",
       "    </tr>\n",
       "    <tr>\n",
       "      <th>2016-01-15 01:00:00</th>\n",
       "      <td>6.029369</td>\n",
       "      <td>9.968944</td>\n",
       "      <td>5.257781</td>\n",
       "      <td>42.701629</td>\n",
       "      <td>69.266198</td>\n",
       "      <td>10.462676</td>\n",
       "      <td>0.927452</td>\n",
       "      <td>16.634514</td>\n",
       "      <td>2.224930</td>\n",
       "      <td>125.629232</td>\n",
       "      <td>...</td>\n",
       "      <td>13.992281</td>\n",
       "      <td>-505.503262</td>\n",
       "      <td>11.950531</td>\n",
       "      <td>-501.331529</td>\n",
       "      <td>10.039245</td>\n",
       "      <td>-500.169983</td>\n",
       "      <td>7.984757</td>\n",
       "      <td>-500.582168</td>\n",
       "      <td>13.998353</td>\n",
       "      <td>-599.787184</td>\n",
       "    </tr>\n",
       "    <tr>\n",
       "      <th>2016-01-15 02:00:00</th>\n",
       "      <td>6.055926</td>\n",
       "      <td>10.213995</td>\n",
       "      <td>5.383759</td>\n",
       "      <td>42.657501</td>\n",
       "      <td>68.116445</td>\n",
       "      <td>10.507046</td>\n",
       "      <td>0.953716</td>\n",
       "      <td>16.208849</td>\n",
       "      <td>2.257889</td>\n",
       "      <td>123.819808</td>\n",
       "      <td>...</td>\n",
       "      <td>14.015015</td>\n",
       "      <td>-502.520901</td>\n",
       "      <td>11.912783</td>\n",
       "      <td>-501.133383</td>\n",
       "      <td>10.070913</td>\n",
       "      <td>-500.129135</td>\n",
       "      <td>8.013877</td>\n",
       "      <td>-500.517572</td>\n",
       "      <td>14.028663</td>\n",
       "      <td>-601.427363</td>\n",
       "    </tr>\n",
       "    <tr>\n",
       "      <th>2016-01-15 03:00:00</th>\n",
       "      <td>6.047977</td>\n",
       "      <td>9.977019</td>\n",
       "      <td>4.858634</td>\n",
       "      <td>42.689819</td>\n",
       "      <td>68.347543</td>\n",
       "      <td>10.422762</td>\n",
       "      <td>0.883763</td>\n",
       "      <td>16.532835</td>\n",
       "      <td>2.146849</td>\n",
       "      <td>122.270188</td>\n",
       "      <td>...</td>\n",
       "      <td>14.036510</td>\n",
       "      <td>-500.857308</td>\n",
       "      <td>11.999550</td>\n",
       "      <td>-501.193686</td>\n",
       "      <td>9.970366</td>\n",
       "      <td>-499.201640</td>\n",
       "      <td>7.977324</td>\n",
       "      <td>-500.255908</td>\n",
       "      <td>14.005551</td>\n",
       "      <td>-599.996129</td>\n",
       "    </tr>\n",
       "    <tr>\n",
       "      <th>2016-01-15 04:00:00</th>\n",
       "      <td>6.148599</td>\n",
       "      <td>10.142511</td>\n",
       "      <td>4.939416</td>\n",
       "      <td>42.774141</td>\n",
       "      <td>66.927016</td>\n",
       "      <td>10.360302</td>\n",
       "      <td>0.792826</td>\n",
       "      <td>16.525686</td>\n",
       "      <td>2.055292</td>\n",
       "      <td>117.988169</td>\n",
       "      <td>...</td>\n",
       "      <td>14.027298</td>\n",
       "      <td>-499.838632</td>\n",
       "      <td>11.953070</td>\n",
       "      <td>-501.053894</td>\n",
       "      <td>9.925709</td>\n",
       "      <td>-501.686727</td>\n",
       "      <td>7.894242</td>\n",
       "      <td>-500.356035</td>\n",
       "      <td>13.996647</td>\n",
       "      <td>-601.496691</td>\n",
       "    </tr>\n",
       "  </tbody>\n",
       "</table>\n",
       "<p>5 rows × 86 columns</p>\n",
       "</div>"
      ],
      "text/plain": [
       "                     final.output.concentrate_ag  final.output.concentrate_pb  \\\n",
       "date                                                                            \n",
       "2016-01-15 00:00:00                     6.055403                     9.889648   \n",
       "2016-01-15 01:00:00                     6.029369                     9.968944   \n",
       "2016-01-15 02:00:00                     6.055926                    10.213995   \n",
       "2016-01-15 03:00:00                     6.047977                     9.977019   \n",
       "2016-01-15 04:00:00                     6.148599                    10.142511   \n",
       "\n",
       "                     final.output.concentrate_sol  \\\n",
       "date                                                \n",
       "2016-01-15 00:00:00                      5.507324   \n",
       "2016-01-15 01:00:00                      5.257781   \n",
       "2016-01-15 02:00:00                      5.383759   \n",
       "2016-01-15 03:00:00                      4.858634   \n",
       "2016-01-15 04:00:00                      4.939416   \n",
       "\n",
       "                     final.output.concentrate_au  final.output.recovery  \\\n",
       "date                                                                      \n",
       "2016-01-15 00:00:00                    42.192020              70.541216   \n",
       "2016-01-15 01:00:00                    42.701629              69.266198   \n",
       "2016-01-15 02:00:00                    42.657501              68.116445   \n",
       "2016-01-15 03:00:00                    42.689819              68.347543   \n",
       "2016-01-15 04:00:00                    42.774141              66.927016   \n",
       "\n",
       "                     final.output.tail_ag  final.output.tail_pb  \\\n",
       "date                                                              \n",
       "2016-01-15 00:00:00             10.411962              0.895447   \n",
       "2016-01-15 01:00:00             10.462676              0.927452   \n",
       "2016-01-15 02:00:00             10.507046              0.953716   \n",
       "2016-01-15 03:00:00             10.422762              0.883763   \n",
       "2016-01-15 04:00:00             10.360302              0.792826   \n",
       "\n",
       "                     final.output.tail_sol  final.output.tail_au  \\\n",
       "date                                                               \n",
       "2016-01-15 00:00:00              16.904297              2.143149   \n",
       "2016-01-15 01:00:00              16.634514              2.224930   \n",
       "2016-01-15 02:00:00              16.208849              2.257889   \n",
       "2016-01-15 03:00:00              16.532835              2.146849   \n",
       "2016-01-15 04:00:00              16.525686              2.055292   \n",
       "\n",
       "                     primary_cleaner.input.sulfate  ...  \\\n",
       "date                                                ...   \n",
       "2016-01-15 00:00:00                     127.092003  ...   \n",
       "2016-01-15 01:00:00                     125.629232  ...   \n",
       "2016-01-15 02:00:00                     123.819808  ...   \n",
       "2016-01-15 03:00:00                     122.270188  ...   \n",
       "2016-01-15 04:00:00                     117.988169  ...   \n",
       "\n",
       "                     secondary_cleaner.state.floatbank4_a_air  \\\n",
       "date                                                            \n",
       "2016-01-15 00:00:00                                 14.016835   \n",
       "2016-01-15 01:00:00                                 13.992281   \n",
       "2016-01-15 02:00:00                                 14.015015   \n",
       "2016-01-15 03:00:00                                 14.036510   \n",
       "2016-01-15 04:00:00                                 14.027298   \n",
       "\n",
       "                     secondary_cleaner.state.floatbank4_a_level  \\\n",
       "date                                                              \n",
       "2016-01-15 00:00:00                                 -502.488007   \n",
       "2016-01-15 01:00:00                                 -505.503262   \n",
       "2016-01-15 02:00:00                                 -502.520901   \n",
       "2016-01-15 03:00:00                                 -500.857308   \n",
       "2016-01-15 04:00:00                                 -499.838632   \n",
       "\n",
       "                     secondary_cleaner.state.floatbank4_b_air  \\\n",
       "date                                                            \n",
       "2016-01-15 00:00:00                                 12.099931   \n",
       "2016-01-15 01:00:00                                 11.950531   \n",
       "2016-01-15 02:00:00                                 11.912783   \n",
       "2016-01-15 03:00:00                                 11.999550   \n",
       "2016-01-15 04:00:00                                 11.953070   \n",
       "\n",
       "                     secondary_cleaner.state.floatbank4_b_level  \\\n",
       "date                                                              \n",
       "2016-01-15 00:00:00                                 -504.715942   \n",
       "2016-01-15 01:00:00                                 -501.331529   \n",
       "2016-01-15 02:00:00                                 -501.133383   \n",
       "2016-01-15 03:00:00                                 -501.193686   \n",
       "2016-01-15 04:00:00                                 -501.053894   \n",
       "\n",
       "                     secondary_cleaner.state.floatbank5_a_air  \\\n",
       "date                                                            \n",
       "2016-01-15 00:00:00                                  9.925633   \n",
       "2016-01-15 01:00:00                                 10.039245   \n",
       "2016-01-15 02:00:00                                 10.070913   \n",
       "2016-01-15 03:00:00                                  9.970366   \n",
       "2016-01-15 04:00:00                                  9.925709   \n",
       "\n",
       "                     secondary_cleaner.state.floatbank5_a_level  \\\n",
       "date                                                              \n",
       "2016-01-15 00:00:00                                 -498.310211   \n",
       "2016-01-15 01:00:00                                 -500.169983   \n",
       "2016-01-15 02:00:00                                 -500.129135   \n",
       "2016-01-15 03:00:00                                 -499.201640   \n",
       "2016-01-15 04:00:00                                 -501.686727   \n",
       "\n",
       "                     secondary_cleaner.state.floatbank5_b_air  \\\n",
       "date                                                            \n",
       "2016-01-15 00:00:00                                  8.079666   \n",
       "2016-01-15 01:00:00                                  7.984757   \n",
       "2016-01-15 02:00:00                                  8.013877   \n",
       "2016-01-15 03:00:00                                  7.977324   \n",
       "2016-01-15 04:00:00                                  7.894242   \n",
       "\n",
       "                     secondary_cleaner.state.floatbank5_b_level  \\\n",
       "date                                                              \n",
       "2016-01-15 00:00:00                                 -500.470978   \n",
       "2016-01-15 01:00:00                                 -500.582168   \n",
       "2016-01-15 02:00:00                                 -500.517572   \n",
       "2016-01-15 03:00:00                                 -500.255908   \n",
       "2016-01-15 04:00:00                                 -500.356035   \n",
       "\n",
       "                     secondary_cleaner.state.floatbank6_a_air  \\\n",
       "date                                                            \n",
       "2016-01-15 00:00:00                                 14.151341   \n",
       "2016-01-15 01:00:00                                 13.998353   \n",
       "2016-01-15 02:00:00                                 14.028663   \n",
       "2016-01-15 03:00:00                                 14.005551   \n",
       "2016-01-15 04:00:00                                 13.996647   \n",
       "\n",
       "                     secondary_cleaner.state.floatbank6_a_level  \n",
       "date                                                             \n",
       "2016-01-15 00:00:00                                 -605.841980  \n",
       "2016-01-15 01:00:00                                 -599.787184  \n",
       "2016-01-15 02:00:00                                 -601.427363  \n",
       "2016-01-15 03:00:00                                 -599.996129  \n",
       "2016-01-15 04:00:00                                 -601.496691  \n",
       "\n",
       "[5 rows x 86 columns]"
      ]
     },
     "execution_count": 5,
     "metadata": {},
     "output_type": "execute_result"
    }
   ],
   "source": [
    "# Train dataset\n",
    "au_train.head()"
   ]
  },
  {
   "cell_type": "code",
   "execution_count": 6,
   "metadata": {},
   "outputs": [
    {
     "data": {
      "text/html": [
       "<div>\n",
       "<style scoped>\n",
       "    .dataframe tbody tr th:only-of-type {\n",
       "        vertical-align: middle;\n",
       "    }\n",
       "\n",
       "    .dataframe tbody tr th {\n",
       "        vertical-align: top;\n",
       "    }\n",
       "\n",
       "    .dataframe thead th {\n",
       "        text-align: right;\n",
       "    }\n",
       "</style>\n",
       "<table border=\"1\" class=\"dataframe\">\n",
       "  <thead>\n",
       "    <tr style=\"text-align: right;\">\n",
       "      <th></th>\n",
       "      <th>primary_cleaner.input.sulfate</th>\n",
       "      <th>primary_cleaner.input.depressant</th>\n",
       "      <th>primary_cleaner.input.feed_size</th>\n",
       "      <th>primary_cleaner.input.xanthate</th>\n",
       "      <th>primary_cleaner.state.floatbank8_a_air</th>\n",
       "      <th>primary_cleaner.state.floatbank8_a_level</th>\n",
       "      <th>primary_cleaner.state.floatbank8_b_air</th>\n",
       "      <th>primary_cleaner.state.floatbank8_b_level</th>\n",
       "      <th>primary_cleaner.state.floatbank8_c_air</th>\n",
       "      <th>primary_cleaner.state.floatbank8_c_level</th>\n",
       "      <th>...</th>\n",
       "      <th>secondary_cleaner.state.floatbank4_a_air</th>\n",
       "      <th>secondary_cleaner.state.floatbank4_a_level</th>\n",
       "      <th>secondary_cleaner.state.floatbank4_b_air</th>\n",
       "      <th>secondary_cleaner.state.floatbank4_b_level</th>\n",
       "      <th>secondary_cleaner.state.floatbank5_a_air</th>\n",
       "      <th>secondary_cleaner.state.floatbank5_a_level</th>\n",
       "      <th>secondary_cleaner.state.floatbank5_b_air</th>\n",
       "      <th>secondary_cleaner.state.floatbank5_b_level</th>\n",
       "      <th>secondary_cleaner.state.floatbank6_a_air</th>\n",
       "      <th>secondary_cleaner.state.floatbank6_a_level</th>\n",
       "    </tr>\n",
       "    <tr>\n",
       "      <th>date</th>\n",
       "      <th></th>\n",
       "      <th></th>\n",
       "      <th></th>\n",
       "      <th></th>\n",
       "      <th></th>\n",
       "      <th></th>\n",
       "      <th></th>\n",
       "      <th></th>\n",
       "      <th></th>\n",
       "      <th></th>\n",
       "      <th></th>\n",
       "      <th></th>\n",
       "      <th></th>\n",
       "      <th></th>\n",
       "      <th></th>\n",
       "      <th></th>\n",
       "      <th></th>\n",
       "      <th></th>\n",
       "      <th></th>\n",
       "      <th></th>\n",
       "      <th></th>\n",
       "    </tr>\n",
       "  </thead>\n",
       "  <tbody>\n",
       "    <tr>\n",
       "      <th>2016-09-01 00:59:59</th>\n",
       "      <td>210.800909</td>\n",
       "      <td>14.993118</td>\n",
       "      <td>8.080000</td>\n",
       "      <td>1.005021</td>\n",
       "      <td>1398.981301</td>\n",
       "      <td>-500.225577</td>\n",
       "      <td>1399.144926</td>\n",
       "      <td>-499.919735</td>\n",
       "      <td>1400.102998</td>\n",
       "      <td>-500.704369</td>\n",
       "      <td>...</td>\n",
       "      <td>12.023554</td>\n",
       "      <td>-497.795834</td>\n",
       "      <td>8.016656</td>\n",
       "      <td>-501.289139</td>\n",
       "      <td>7.946562</td>\n",
       "      <td>-432.317850</td>\n",
       "      <td>4.872511</td>\n",
       "      <td>-500.037437</td>\n",
       "      <td>26.705889</td>\n",
       "      <td>-499.709414</td>\n",
       "    </tr>\n",
       "    <tr>\n",
       "      <th>2016-09-01 01:59:59</th>\n",
       "      <td>215.392455</td>\n",
       "      <td>14.987471</td>\n",
       "      <td>8.080000</td>\n",
       "      <td>0.990469</td>\n",
       "      <td>1398.777912</td>\n",
       "      <td>-500.057435</td>\n",
       "      <td>1398.055362</td>\n",
       "      <td>-499.778182</td>\n",
       "      <td>1396.151033</td>\n",
       "      <td>-499.240168</td>\n",
       "      <td>...</td>\n",
       "      <td>12.058140</td>\n",
       "      <td>-498.695773</td>\n",
       "      <td>8.130979</td>\n",
       "      <td>-499.634209</td>\n",
       "      <td>7.958270</td>\n",
       "      <td>-525.839648</td>\n",
       "      <td>4.878850</td>\n",
       "      <td>-500.162375</td>\n",
       "      <td>25.019940</td>\n",
       "      <td>-499.819438</td>\n",
       "    </tr>\n",
       "    <tr>\n",
       "      <th>2016-09-01 02:59:59</th>\n",
       "      <td>215.259946</td>\n",
       "      <td>12.884934</td>\n",
       "      <td>7.786667</td>\n",
       "      <td>0.996043</td>\n",
       "      <td>1398.493666</td>\n",
       "      <td>-500.868360</td>\n",
       "      <td>1398.860436</td>\n",
       "      <td>-499.764529</td>\n",
       "      <td>1398.075709</td>\n",
       "      <td>-502.151509</td>\n",
       "      <td>...</td>\n",
       "      <td>11.962366</td>\n",
       "      <td>-498.767484</td>\n",
       "      <td>8.096893</td>\n",
       "      <td>-500.827423</td>\n",
       "      <td>8.071056</td>\n",
       "      <td>-500.801673</td>\n",
       "      <td>4.905125</td>\n",
       "      <td>-499.828510</td>\n",
       "      <td>24.994862</td>\n",
       "      <td>-500.622559</td>\n",
       "    </tr>\n",
       "    <tr>\n",
       "      <th>2016-09-01 03:59:59</th>\n",
       "      <td>215.336236</td>\n",
       "      <td>12.006805</td>\n",
       "      <td>7.640000</td>\n",
       "      <td>0.863514</td>\n",
       "      <td>1399.618111</td>\n",
       "      <td>-498.863574</td>\n",
       "      <td>1397.440120</td>\n",
       "      <td>-499.211024</td>\n",
       "      <td>1400.129303</td>\n",
       "      <td>-498.355873</td>\n",
       "      <td>...</td>\n",
       "      <td>12.033091</td>\n",
       "      <td>-498.350935</td>\n",
       "      <td>8.074946</td>\n",
       "      <td>-499.474407</td>\n",
       "      <td>7.897085</td>\n",
       "      <td>-500.868509</td>\n",
       "      <td>4.931400</td>\n",
       "      <td>-499.963623</td>\n",
       "      <td>24.948919</td>\n",
       "      <td>-498.709987</td>\n",
       "    </tr>\n",
       "    <tr>\n",
       "      <th>2016-09-01 04:59:59</th>\n",
       "      <td>199.099327</td>\n",
       "      <td>10.682530</td>\n",
       "      <td>7.530000</td>\n",
       "      <td>0.805575</td>\n",
       "      <td>1401.268123</td>\n",
       "      <td>-500.808305</td>\n",
       "      <td>1398.128818</td>\n",
       "      <td>-499.504543</td>\n",
       "      <td>1402.172226</td>\n",
       "      <td>-500.810606</td>\n",
       "      <td>...</td>\n",
       "      <td>12.025367</td>\n",
       "      <td>-500.786497</td>\n",
       "      <td>8.054678</td>\n",
       "      <td>-500.397500</td>\n",
       "      <td>8.107890</td>\n",
       "      <td>-509.526725</td>\n",
       "      <td>4.957674</td>\n",
       "      <td>-500.360026</td>\n",
       "      <td>25.003331</td>\n",
       "      <td>-500.856333</td>\n",
       "    </tr>\n",
       "  </tbody>\n",
       "</table>\n",
       "<p>5 rows × 52 columns</p>\n",
       "</div>"
      ],
      "text/plain": [
       "                     primary_cleaner.input.sulfate  \\\n",
       "date                                                 \n",
       "2016-09-01 00:59:59                     210.800909   \n",
       "2016-09-01 01:59:59                     215.392455   \n",
       "2016-09-01 02:59:59                     215.259946   \n",
       "2016-09-01 03:59:59                     215.336236   \n",
       "2016-09-01 04:59:59                     199.099327   \n",
       "\n",
       "                     primary_cleaner.input.depressant  \\\n",
       "date                                                    \n",
       "2016-09-01 00:59:59                         14.993118   \n",
       "2016-09-01 01:59:59                         14.987471   \n",
       "2016-09-01 02:59:59                         12.884934   \n",
       "2016-09-01 03:59:59                         12.006805   \n",
       "2016-09-01 04:59:59                         10.682530   \n",
       "\n",
       "                     primary_cleaner.input.feed_size  \\\n",
       "date                                                   \n",
       "2016-09-01 00:59:59                         8.080000   \n",
       "2016-09-01 01:59:59                         8.080000   \n",
       "2016-09-01 02:59:59                         7.786667   \n",
       "2016-09-01 03:59:59                         7.640000   \n",
       "2016-09-01 04:59:59                         7.530000   \n",
       "\n",
       "                     primary_cleaner.input.xanthate  \\\n",
       "date                                                  \n",
       "2016-09-01 00:59:59                        1.005021   \n",
       "2016-09-01 01:59:59                        0.990469   \n",
       "2016-09-01 02:59:59                        0.996043   \n",
       "2016-09-01 03:59:59                        0.863514   \n",
       "2016-09-01 04:59:59                        0.805575   \n",
       "\n",
       "                     primary_cleaner.state.floatbank8_a_air  \\\n",
       "date                                                          \n",
       "2016-09-01 00:59:59                             1398.981301   \n",
       "2016-09-01 01:59:59                             1398.777912   \n",
       "2016-09-01 02:59:59                             1398.493666   \n",
       "2016-09-01 03:59:59                             1399.618111   \n",
       "2016-09-01 04:59:59                             1401.268123   \n",
       "\n",
       "                     primary_cleaner.state.floatbank8_a_level  \\\n",
       "date                                                            \n",
       "2016-09-01 00:59:59                               -500.225577   \n",
       "2016-09-01 01:59:59                               -500.057435   \n",
       "2016-09-01 02:59:59                               -500.868360   \n",
       "2016-09-01 03:59:59                               -498.863574   \n",
       "2016-09-01 04:59:59                               -500.808305   \n",
       "\n",
       "                     primary_cleaner.state.floatbank8_b_air  \\\n",
       "date                                                          \n",
       "2016-09-01 00:59:59                             1399.144926   \n",
       "2016-09-01 01:59:59                             1398.055362   \n",
       "2016-09-01 02:59:59                             1398.860436   \n",
       "2016-09-01 03:59:59                             1397.440120   \n",
       "2016-09-01 04:59:59                             1398.128818   \n",
       "\n",
       "                     primary_cleaner.state.floatbank8_b_level  \\\n",
       "date                                                            \n",
       "2016-09-01 00:59:59                               -499.919735   \n",
       "2016-09-01 01:59:59                               -499.778182   \n",
       "2016-09-01 02:59:59                               -499.764529   \n",
       "2016-09-01 03:59:59                               -499.211024   \n",
       "2016-09-01 04:59:59                               -499.504543   \n",
       "\n",
       "                     primary_cleaner.state.floatbank8_c_air  \\\n",
       "date                                                          \n",
       "2016-09-01 00:59:59                             1400.102998   \n",
       "2016-09-01 01:59:59                             1396.151033   \n",
       "2016-09-01 02:59:59                             1398.075709   \n",
       "2016-09-01 03:59:59                             1400.129303   \n",
       "2016-09-01 04:59:59                             1402.172226   \n",
       "\n",
       "                     primary_cleaner.state.floatbank8_c_level  ...  \\\n",
       "date                                                           ...   \n",
       "2016-09-01 00:59:59                               -500.704369  ...   \n",
       "2016-09-01 01:59:59                               -499.240168  ...   \n",
       "2016-09-01 02:59:59                               -502.151509  ...   \n",
       "2016-09-01 03:59:59                               -498.355873  ...   \n",
       "2016-09-01 04:59:59                               -500.810606  ...   \n",
       "\n",
       "                     secondary_cleaner.state.floatbank4_a_air  \\\n",
       "date                                                            \n",
       "2016-09-01 00:59:59                                 12.023554   \n",
       "2016-09-01 01:59:59                                 12.058140   \n",
       "2016-09-01 02:59:59                                 11.962366   \n",
       "2016-09-01 03:59:59                                 12.033091   \n",
       "2016-09-01 04:59:59                                 12.025367   \n",
       "\n",
       "                     secondary_cleaner.state.floatbank4_a_level  \\\n",
       "date                                                              \n",
       "2016-09-01 00:59:59                                 -497.795834   \n",
       "2016-09-01 01:59:59                                 -498.695773   \n",
       "2016-09-01 02:59:59                                 -498.767484   \n",
       "2016-09-01 03:59:59                                 -498.350935   \n",
       "2016-09-01 04:59:59                                 -500.786497   \n",
       "\n",
       "                     secondary_cleaner.state.floatbank4_b_air  \\\n",
       "date                                                            \n",
       "2016-09-01 00:59:59                                  8.016656   \n",
       "2016-09-01 01:59:59                                  8.130979   \n",
       "2016-09-01 02:59:59                                  8.096893   \n",
       "2016-09-01 03:59:59                                  8.074946   \n",
       "2016-09-01 04:59:59                                  8.054678   \n",
       "\n",
       "                     secondary_cleaner.state.floatbank4_b_level  \\\n",
       "date                                                              \n",
       "2016-09-01 00:59:59                                 -501.289139   \n",
       "2016-09-01 01:59:59                                 -499.634209   \n",
       "2016-09-01 02:59:59                                 -500.827423   \n",
       "2016-09-01 03:59:59                                 -499.474407   \n",
       "2016-09-01 04:59:59                                 -500.397500   \n",
       "\n",
       "                     secondary_cleaner.state.floatbank5_a_air  \\\n",
       "date                                                            \n",
       "2016-09-01 00:59:59                                  7.946562   \n",
       "2016-09-01 01:59:59                                  7.958270   \n",
       "2016-09-01 02:59:59                                  8.071056   \n",
       "2016-09-01 03:59:59                                  7.897085   \n",
       "2016-09-01 04:59:59                                  8.107890   \n",
       "\n",
       "                     secondary_cleaner.state.floatbank5_a_level  \\\n",
       "date                                                              \n",
       "2016-09-01 00:59:59                                 -432.317850   \n",
       "2016-09-01 01:59:59                                 -525.839648   \n",
       "2016-09-01 02:59:59                                 -500.801673   \n",
       "2016-09-01 03:59:59                                 -500.868509   \n",
       "2016-09-01 04:59:59                                 -509.526725   \n",
       "\n",
       "                     secondary_cleaner.state.floatbank5_b_air  \\\n",
       "date                                                            \n",
       "2016-09-01 00:59:59                                  4.872511   \n",
       "2016-09-01 01:59:59                                  4.878850   \n",
       "2016-09-01 02:59:59                                  4.905125   \n",
       "2016-09-01 03:59:59                                  4.931400   \n",
       "2016-09-01 04:59:59                                  4.957674   \n",
       "\n",
       "                     secondary_cleaner.state.floatbank5_b_level  \\\n",
       "date                                                              \n",
       "2016-09-01 00:59:59                                 -500.037437   \n",
       "2016-09-01 01:59:59                                 -500.162375   \n",
       "2016-09-01 02:59:59                                 -499.828510   \n",
       "2016-09-01 03:59:59                                 -499.963623   \n",
       "2016-09-01 04:59:59                                 -500.360026   \n",
       "\n",
       "                     secondary_cleaner.state.floatbank6_a_air  \\\n",
       "date                                                            \n",
       "2016-09-01 00:59:59                                 26.705889   \n",
       "2016-09-01 01:59:59                                 25.019940   \n",
       "2016-09-01 02:59:59                                 24.994862   \n",
       "2016-09-01 03:59:59                                 24.948919   \n",
       "2016-09-01 04:59:59                                 25.003331   \n",
       "\n",
       "                     secondary_cleaner.state.floatbank6_a_level  \n",
       "date                                                             \n",
       "2016-09-01 00:59:59                                 -499.709414  \n",
       "2016-09-01 01:59:59                                 -499.819438  \n",
       "2016-09-01 02:59:59                                 -500.622559  \n",
       "2016-09-01 03:59:59                                 -498.709987  \n",
       "2016-09-01 04:59:59                                 -500.856333  \n",
       "\n",
       "[5 rows x 52 columns]"
      ]
     },
     "execution_count": 6,
     "metadata": {},
     "output_type": "execute_result"
    }
   ],
   "source": [
    "# Test dataset\n",
    "au_test.head()"
   ]
  },
  {
   "cell_type": "code",
   "execution_count": 7,
   "metadata": {},
   "outputs": [
    {
     "data": {
      "text/html": [
       "<div>\n",
       "<style scoped>\n",
       "    .dataframe tbody tr th:only-of-type {\n",
       "        vertical-align: middle;\n",
       "    }\n",
       "\n",
       "    .dataframe tbody tr th {\n",
       "        vertical-align: top;\n",
       "    }\n",
       "\n",
       "    .dataframe thead th {\n",
       "        text-align: right;\n",
       "    }\n",
       "</style>\n",
       "<table border=\"1\" class=\"dataframe\">\n",
       "  <thead>\n",
       "    <tr style=\"text-align: right;\">\n",
       "      <th></th>\n",
       "      <th>final.output.concentrate_ag</th>\n",
       "      <th>final.output.concentrate_pb</th>\n",
       "      <th>final.output.concentrate_sol</th>\n",
       "      <th>final.output.concentrate_au</th>\n",
       "      <th>final.output.recovery</th>\n",
       "      <th>final.output.tail_ag</th>\n",
       "      <th>final.output.tail_pb</th>\n",
       "      <th>final.output.tail_sol</th>\n",
       "      <th>final.output.tail_au</th>\n",
       "      <th>primary_cleaner.input.sulfate</th>\n",
       "      <th>...</th>\n",
       "      <th>secondary_cleaner.state.floatbank4_a_air</th>\n",
       "      <th>secondary_cleaner.state.floatbank4_a_level</th>\n",
       "      <th>secondary_cleaner.state.floatbank4_b_air</th>\n",
       "      <th>secondary_cleaner.state.floatbank4_b_level</th>\n",
       "      <th>secondary_cleaner.state.floatbank5_a_air</th>\n",
       "      <th>secondary_cleaner.state.floatbank5_a_level</th>\n",
       "      <th>secondary_cleaner.state.floatbank5_b_air</th>\n",
       "      <th>secondary_cleaner.state.floatbank5_b_level</th>\n",
       "      <th>secondary_cleaner.state.floatbank6_a_air</th>\n",
       "      <th>secondary_cleaner.state.floatbank6_a_level</th>\n",
       "    </tr>\n",
       "    <tr>\n",
       "      <th>date</th>\n",
       "      <th></th>\n",
       "      <th></th>\n",
       "      <th></th>\n",
       "      <th></th>\n",
       "      <th></th>\n",
       "      <th></th>\n",
       "      <th></th>\n",
       "      <th></th>\n",
       "      <th></th>\n",
       "      <th></th>\n",
       "      <th></th>\n",
       "      <th></th>\n",
       "      <th></th>\n",
       "      <th></th>\n",
       "      <th></th>\n",
       "      <th></th>\n",
       "      <th></th>\n",
       "      <th></th>\n",
       "      <th></th>\n",
       "      <th></th>\n",
       "      <th></th>\n",
       "    </tr>\n",
       "  </thead>\n",
       "  <tbody>\n",
       "    <tr>\n",
       "      <th>2016-01-15 00:00:00</th>\n",
       "      <td>6.055403</td>\n",
       "      <td>9.889648</td>\n",
       "      <td>5.507324</td>\n",
       "      <td>42.192020</td>\n",
       "      <td>70.541216</td>\n",
       "      <td>10.411962</td>\n",
       "      <td>0.895447</td>\n",
       "      <td>16.904297</td>\n",
       "      <td>2.143149</td>\n",
       "      <td>127.092003</td>\n",
       "      <td>...</td>\n",
       "      <td>14.016835</td>\n",
       "      <td>-502.488007</td>\n",
       "      <td>12.099931</td>\n",
       "      <td>-504.715942</td>\n",
       "      <td>9.925633</td>\n",
       "      <td>-498.310211</td>\n",
       "      <td>8.079666</td>\n",
       "      <td>-500.470978</td>\n",
       "      <td>14.151341</td>\n",
       "      <td>-605.841980</td>\n",
       "    </tr>\n",
       "    <tr>\n",
       "      <th>2016-01-15 01:00:00</th>\n",
       "      <td>6.029369</td>\n",
       "      <td>9.968944</td>\n",
       "      <td>5.257781</td>\n",
       "      <td>42.701629</td>\n",
       "      <td>69.266198</td>\n",
       "      <td>10.462676</td>\n",
       "      <td>0.927452</td>\n",
       "      <td>16.634514</td>\n",
       "      <td>2.224930</td>\n",
       "      <td>125.629232</td>\n",
       "      <td>...</td>\n",
       "      <td>13.992281</td>\n",
       "      <td>-505.503262</td>\n",
       "      <td>11.950531</td>\n",
       "      <td>-501.331529</td>\n",
       "      <td>10.039245</td>\n",
       "      <td>-500.169983</td>\n",
       "      <td>7.984757</td>\n",
       "      <td>-500.582168</td>\n",
       "      <td>13.998353</td>\n",
       "      <td>-599.787184</td>\n",
       "    </tr>\n",
       "    <tr>\n",
       "      <th>2016-01-15 02:00:00</th>\n",
       "      <td>6.055926</td>\n",
       "      <td>10.213995</td>\n",
       "      <td>5.383759</td>\n",
       "      <td>42.657501</td>\n",
       "      <td>68.116445</td>\n",
       "      <td>10.507046</td>\n",
       "      <td>0.953716</td>\n",
       "      <td>16.208849</td>\n",
       "      <td>2.257889</td>\n",
       "      <td>123.819808</td>\n",
       "      <td>...</td>\n",
       "      <td>14.015015</td>\n",
       "      <td>-502.520901</td>\n",
       "      <td>11.912783</td>\n",
       "      <td>-501.133383</td>\n",
       "      <td>10.070913</td>\n",
       "      <td>-500.129135</td>\n",
       "      <td>8.013877</td>\n",
       "      <td>-500.517572</td>\n",
       "      <td>14.028663</td>\n",
       "      <td>-601.427363</td>\n",
       "    </tr>\n",
       "    <tr>\n",
       "      <th>2016-01-15 03:00:00</th>\n",
       "      <td>6.047977</td>\n",
       "      <td>9.977019</td>\n",
       "      <td>4.858634</td>\n",
       "      <td>42.689819</td>\n",
       "      <td>68.347543</td>\n",
       "      <td>10.422762</td>\n",
       "      <td>0.883763</td>\n",
       "      <td>16.532835</td>\n",
       "      <td>2.146849</td>\n",
       "      <td>122.270188</td>\n",
       "      <td>...</td>\n",
       "      <td>14.036510</td>\n",
       "      <td>-500.857308</td>\n",
       "      <td>11.999550</td>\n",
       "      <td>-501.193686</td>\n",
       "      <td>9.970366</td>\n",
       "      <td>-499.201640</td>\n",
       "      <td>7.977324</td>\n",
       "      <td>-500.255908</td>\n",
       "      <td>14.005551</td>\n",
       "      <td>-599.996129</td>\n",
       "    </tr>\n",
       "    <tr>\n",
       "      <th>2016-01-15 04:00:00</th>\n",
       "      <td>6.148599</td>\n",
       "      <td>10.142511</td>\n",
       "      <td>4.939416</td>\n",
       "      <td>42.774141</td>\n",
       "      <td>66.927016</td>\n",
       "      <td>10.360302</td>\n",
       "      <td>0.792826</td>\n",
       "      <td>16.525686</td>\n",
       "      <td>2.055292</td>\n",
       "      <td>117.988169</td>\n",
       "      <td>...</td>\n",
       "      <td>14.027298</td>\n",
       "      <td>-499.838632</td>\n",
       "      <td>11.953070</td>\n",
       "      <td>-501.053894</td>\n",
       "      <td>9.925709</td>\n",
       "      <td>-501.686727</td>\n",
       "      <td>7.894242</td>\n",
       "      <td>-500.356035</td>\n",
       "      <td>13.996647</td>\n",
       "      <td>-601.496691</td>\n",
       "    </tr>\n",
       "  </tbody>\n",
       "</table>\n",
       "<p>5 rows × 86 columns</p>\n",
       "</div>"
      ],
      "text/plain": [
       "                     final.output.concentrate_ag  final.output.concentrate_pb  \\\n",
       "date                                                                            \n",
       "2016-01-15 00:00:00                     6.055403                     9.889648   \n",
       "2016-01-15 01:00:00                     6.029369                     9.968944   \n",
       "2016-01-15 02:00:00                     6.055926                    10.213995   \n",
       "2016-01-15 03:00:00                     6.047977                     9.977019   \n",
       "2016-01-15 04:00:00                     6.148599                    10.142511   \n",
       "\n",
       "                     final.output.concentrate_sol  \\\n",
       "date                                                \n",
       "2016-01-15 00:00:00                      5.507324   \n",
       "2016-01-15 01:00:00                      5.257781   \n",
       "2016-01-15 02:00:00                      5.383759   \n",
       "2016-01-15 03:00:00                      4.858634   \n",
       "2016-01-15 04:00:00                      4.939416   \n",
       "\n",
       "                     final.output.concentrate_au  final.output.recovery  \\\n",
       "date                                                                      \n",
       "2016-01-15 00:00:00                    42.192020              70.541216   \n",
       "2016-01-15 01:00:00                    42.701629              69.266198   \n",
       "2016-01-15 02:00:00                    42.657501              68.116445   \n",
       "2016-01-15 03:00:00                    42.689819              68.347543   \n",
       "2016-01-15 04:00:00                    42.774141              66.927016   \n",
       "\n",
       "                     final.output.tail_ag  final.output.tail_pb  \\\n",
       "date                                                              \n",
       "2016-01-15 00:00:00             10.411962              0.895447   \n",
       "2016-01-15 01:00:00             10.462676              0.927452   \n",
       "2016-01-15 02:00:00             10.507046              0.953716   \n",
       "2016-01-15 03:00:00             10.422762              0.883763   \n",
       "2016-01-15 04:00:00             10.360302              0.792826   \n",
       "\n",
       "                     final.output.tail_sol  final.output.tail_au  \\\n",
       "date                                                               \n",
       "2016-01-15 00:00:00              16.904297              2.143149   \n",
       "2016-01-15 01:00:00              16.634514              2.224930   \n",
       "2016-01-15 02:00:00              16.208849              2.257889   \n",
       "2016-01-15 03:00:00              16.532835              2.146849   \n",
       "2016-01-15 04:00:00              16.525686              2.055292   \n",
       "\n",
       "                     primary_cleaner.input.sulfate  ...  \\\n",
       "date                                                ...   \n",
       "2016-01-15 00:00:00                     127.092003  ...   \n",
       "2016-01-15 01:00:00                     125.629232  ...   \n",
       "2016-01-15 02:00:00                     123.819808  ...   \n",
       "2016-01-15 03:00:00                     122.270188  ...   \n",
       "2016-01-15 04:00:00                     117.988169  ...   \n",
       "\n",
       "                     secondary_cleaner.state.floatbank4_a_air  \\\n",
       "date                                                            \n",
       "2016-01-15 00:00:00                                 14.016835   \n",
       "2016-01-15 01:00:00                                 13.992281   \n",
       "2016-01-15 02:00:00                                 14.015015   \n",
       "2016-01-15 03:00:00                                 14.036510   \n",
       "2016-01-15 04:00:00                                 14.027298   \n",
       "\n",
       "                     secondary_cleaner.state.floatbank4_a_level  \\\n",
       "date                                                              \n",
       "2016-01-15 00:00:00                                 -502.488007   \n",
       "2016-01-15 01:00:00                                 -505.503262   \n",
       "2016-01-15 02:00:00                                 -502.520901   \n",
       "2016-01-15 03:00:00                                 -500.857308   \n",
       "2016-01-15 04:00:00                                 -499.838632   \n",
       "\n",
       "                     secondary_cleaner.state.floatbank4_b_air  \\\n",
       "date                                                            \n",
       "2016-01-15 00:00:00                                 12.099931   \n",
       "2016-01-15 01:00:00                                 11.950531   \n",
       "2016-01-15 02:00:00                                 11.912783   \n",
       "2016-01-15 03:00:00                                 11.999550   \n",
       "2016-01-15 04:00:00                                 11.953070   \n",
       "\n",
       "                     secondary_cleaner.state.floatbank4_b_level  \\\n",
       "date                                                              \n",
       "2016-01-15 00:00:00                                 -504.715942   \n",
       "2016-01-15 01:00:00                                 -501.331529   \n",
       "2016-01-15 02:00:00                                 -501.133383   \n",
       "2016-01-15 03:00:00                                 -501.193686   \n",
       "2016-01-15 04:00:00                                 -501.053894   \n",
       "\n",
       "                     secondary_cleaner.state.floatbank5_a_air  \\\n",
       "date                                                            \n",
       "2016-01-15 00:00:00                                  9.925633   \n",
       "2016-01-15 01:00:00                                 10.039245   \n",
       "2016-01-15 02:00:00                                 10.070913   \n",
       "2016-01-15 03:00:00                                  9.970366   \n",
       "2016-01-15 04:00:00                                  9.925709   \n",
       "\n",
       "                     secondary_cleaner.state.floatbank5_a_level  \\\n",
       "date                                                              \n",
       "2016-01-15 00:00:00                                 -498.310211   \n",
       "2016-01-15 01:00:00                                 -500.169983   \n",
       "2016-01-15 02:00:00                                 -500.129135   \n",
       "2016-01-15 03:00:00                                 -499.201640   \n",
       "2016-01-15 04:00:00                                 -501.686727   \n",
       "\n",
       "                     secondary_cleaner.state.floatbank5_b_air  \\\n",
       "date                                                            \n",
       "2016-01-15 00:00:00                                  8.079666   \n",
       "2016-01-15 01:00:00                                  7.984757   \n",
       "2016-01-15 02:00:00                                  8.013877   \n",
       "2016-01-15 03:00:00                                  7.977324   \n",
       "2016-01-15 04:00:00                                  7.894242   \n",
       "\n",
       "                     secondary_cleaner.state.floatbank5_b_level  \\\n",
       "date                                                              \n",
       "2016-01-15 00:00:00                                 -500.470978   \n",
       "2016-01-15 01:00:00                                 -500.582168   \n",
       "2016-01-15 02:00:00                                 -500.517572   \n",
       "2016-01-15 03:00:00                                 -500.255908   \n",
       "2016-01-15 04:00:00                                 -500.356035   \n",
       "\n",
       "                     secondary_cleaner.state.floatbank6_a_air  \\\n",
       "date                                                            \n",
       "2016-01-15 00:00:00                                 14.151341   \n",
       "2016-01-15 01:00:00                                 13.998353   \n",
       "2016-01-15 02:00:00                                 14.028663   \n",
       "2016-01-15 03:00:00                                 14.005551   \n",
       "2016-01-15 04:00:00                                 13.996647   \n",
       "\n",
       "                     secondary_cleaner.state.floatbank6_a_level  \n",
       "date                                                             \n",
       "2016-01-15 00:00:00                                 -605.841980  \n",
       "2016-01-15 01:00:00                                 -599.787184  \n",
       "2016-01-15 02:00:00                                 -601.427363  \n",
       "2016-01-15 03:00:00                                 -599.996129  \n",
       "2016-01-15 04:00:00                                 -601.496691  \n",
       "\n",
       "[5 rows x 86 columns]"
      ]
     },
     "execution_count": 7,
     "metadata": {},
     "output_type": "execute_result"
    }
   ],
   "source": [
    "# Full dataset\n",
    "au_full.head()"
   ]
  },
  {
   "cell_type": "markdown",
   "metadata": {},
   "source": [
    "The following table summarizes the information of each DataFrame\n",
    "\n",
    "| DataFrame | No. Columns  | No. Rows  |\n",
    "|-----------|--------------|-----------|\n",
    "| au_train  | 86           | 16860     |\n",
    "| au_test   | 52           |  5856     |\n",
    "| au_full   | 86           | 22716     |\n",
    "\n",
    "\n",
    "Both **`au_train`** and **`au_full`** have 86 columns, the test suite **`au_test`** has only 52 columns. Some parameters are not available because they were measured or calculated much later. Therefore, some of the features that are present in the training set may be absent in the test set.\n",
    "\n",
    "Without exception, each DataFrame has missing values in more than one column. Missing values will be handle later."
   ]
  },
  {
   "cell_type": "markdown",
   "metadata": {},
   "source": [
    "## Checking the recovery calculation\n",
    "\n",
    "Let's check that the payback calculation after floatation is correct. For this purpose we are going to calculate the recovery of the `rougher.output.recovery` feature using the training set.\n",
    "\n",
    "The formula for calculating recovery the following:\n",
    "\n",
    "$$Recovery = \\frac{C·(F-T)}{F·(C-T} · 100$$\n",
    "\n",
    "Where:\n",
    "* `C`: gold proportion in concentrate just after flotation    - `rougher.output.concentrate_au`\n",
    "* `F`: gold proportion in feed before flotation               - `rougher.input.feed_au`\n",
    "* `T`: gold proportion in rougher tails just after flotation  - `rougher.output.tail_au`\n",
    "\n",
    "In order to have a metric of what is observed in the data set and what is calculated, the Mean Absolute Error (MEA) will be calculated between the calculations and the values of the characteristic. The MEA is calculated with the following formula:\n",
    "\n",
    "$$EAM = \\frac{1}{N} \\sum_{1=1}^{N}|y_i - \\hat{y_i}|$$\n",
    "\n",
    "Where:\n",
    "* $y_i$: is the value of the observation with the serial number _i_\n",
    "* $\\hat{y_i}$: is the predicted value or in this case, calculated for the observation with serial number _i_\n",
    "* $N$: is the number of errors in the sample\n",
    "* $\\sum_{i=1}^{N}$: is the sum of all the observations in the sample (_i_ varies in the range from 1 to _N_).\n",
    "\n",
    "Due to the presence of missing values in the training set, before proceeding to do the MAE recovery calculations, we are going to make a subset of the columns of interest and save them in the DataFrame **`au_recovery`** and later delete the missing values."
   ]
  },
  {
   "cell_type": "code",
   "execution_count": 8,
   "metadata": {},
   "outputs": [
    {
     "name": "stdout",
     "output_type": "stream",
     "text": [
      "<class 'pandas.core.frame.DataFrame'>\n",
      "DatetimeIndex: 14287 entries, 2016-01-15 00:00:00 to 2018-08-18 10:59:59\n",
      "Data columns (total 4 columns):\n",
      " #   Column                         Non-Null Count  Dtype  \n",
      "---  ------                         --------------  -----  \n",
      " 0   rougher.output.concentrate_au  14287 non-null  float64\n",
      " 1   rougher.input.feed_au          14287 non-null  float64\n",
      " 2   rougher.output.tail_au         14287 non-null  float64\n",
      " 3   rougher.output.recovery        14287 non-null  float64\n",
      "dtypes: float64(4)\n",
      "memory usage: 558.1 KB\n"
     ]
    },
    {
     "data": {
      "text/html": [
       "<div>\n",
       "<style scoped>\n",
       "    .dataframe tbody tr th:only-of-type {\n",
       "        vertical-align: middle;\n",
       "    }\n",
       "\n",
       "    .dataframe tbody tr th {\n",
       "        vertical-align: top;\n",
       "    }\n",
       "\n",
       "    .dataframe thead th {\n",
       "        text-align: right;\n",
       "    }\n",
       "</style>\n",
       "<table border=\"1\" class=\"dataframe\">\n",
       "  <thead>\n",
       "    <tr style=\"text-align: right;\">\n",
       "      <th></th>\n",
       "      <th>rougher.output.concentrate_au</th>\n",
       "      <th>rougher.input.feed_au</th>\n",
       "      <th>rougher.output.tail_au</th>\n",
       "      <th>rougher.output.recovery</th>\n",
       "    </tr>\n",
       "    <tr>\n",
       "      <th>date</th>\n",
       "      <th></th>\n",
       "      <th></th>\n",
       "      <th></th>\n",
       "      <th></th>\n",
       "    </tr>\n",
       "  </thead>\n",
       "  <tbody>\n",
       "    <tr>\n",
       "      <th>2016-01-15 00:00:00</th>\n",
       "      <td>19.793808</td>\n",
       "      <td>6.486150</td>\n",
       "      <td>1.170244</td>\n",
       "      <td>87.107763</td>\n",
       "    </tr>\n",
       "    <tr>\n",
       "      <th>2016-01-15 01:00:00</th>\n",
       "      <td>20.050975</td>\n",
       "      <td>6.478583</td>\n",
       "      <td>1.184827</td>\n",
       "      <td>86.843261</td>\n",
       "    </tr>\n",
       "    <tr>\n",
       "      <th>2016-01-15 02:00:00</th>\n",
       "      <td>19.737170</td>\n",
       "      <td>6.362222</td>\n",
       "      <td>1.162562</td>\n",
       "      <td>86.842308</td>\n",
       "    </tr>\n",
       "    <tr>\n",
       "      <th>2016-01-15 03:00:00</th>\n",
       "      <td>19.320810</td>\n",
       "      <td>6.118189</td>\n",
       "      <td>1.079755</td>\n",
       "      <td>87.226430</td>\n",
       "    </tr>\n",
       "    <tr>\n",
       "      <th>2016-01-15 04:00:00</th>\n",
       "      <td>19.216101</td>\n",
       "      <td>5.663707</td>\n",
       "      <td>1.012642</td>\n",
       "      <td>86.688794</td>\n",
       "    </tr>\n",
       "  </tbody>\n",
       "</table>\n",
       "</div>"
      ],
      "text/plain": [
       "                     rougher.output.concentrate_au  rougher.input.feed_au  \\\n",
       "date                                                                        \n",
       "2016-01-15 00:00:00                      19.793808               6.486150   \n",
       "2016-01-15 01:00:00                      20.050975               6.478583   \n",
       "2016-01-15 02:00:00                      19.737170               6.362222   \n",
       "2016-01-15 03:00:00                      19.320810               6.118189   \n",
       "2016-01-15 04:00:00                      19.216101               5.663707   \n",
       "\n",
       "                     rougher.output.tail_au  rougher.output.recovery  \n",
       "date                                                                  \n",
       "2016-01-15 00:00:00                1.170244                87.107763  \n",
       "2016-01-15 01:00:00                1.184827                86.843261  \n",
       "2016-01-15 02:00:00                1.162562                86.842308  \n",
       "2016-01-15 03:00:00                1.079755                87.226430  \n",
       "2016-01-15 04:00:00                1.012642                86.688794  "
      ]
     },
     "execution_count": 8,
     "metadata": {},
     "output_type": "execute_result"
    }
   ],
   "source": [
    "# Subset of columns of interest to calculate recovery after flotation\n",
    "au_recovery = au_train.loc[:,['rougher.output.concentrate_au', 'rougher.input.feed_au','rougher.output.tail_au', 'rougher.output.recovery']]\n",
    "\n",
    "# Drop rows with NaNs\n",
    "au_recovery.dropna(inplace=True)\n",
    "\n",
    "# DataFrame au_recovery info\n",
    "au_recovery.info()\n",
    "\n",
    "# Head au_recovery\n",
    "au_recovery.head()"
   ]
  },
  {
   "cell_type": "markdown",
   "metadata": {},
   "source": [
    "We have selected the columns of interest to perform the recovery calculation after the flotation process and the rows with missing values have been eliminated. The information has been saved in the DataFrame `au_recovery` which consists of 4 columns and 14,287 rows.\n",
    "\n",
    "Now we are going to add a row to calculate the recovery according to the mentioned formula and store the values in `rougher.output.recovery_calc`. For this we are going to define the `recovery` formula and apply it on the DataFrame."
   ]
  },
  {
   "cell_type": "code",
   "execution_count": 9,
   "metadata": {},
   "outputs": [],
   "source": [
    "# Define formula for recovery calculation\n",
    "def recovery(row):\n",
    "    C = row['rougher.output.concentrate_au']\n",
    "    F = row['rougher.input.feed_au']\n",
    "    T = row['rougher.output.tail_au']\n",
    "    return ((C * (F - T)) / ((F * (C - T)))) * 100"
   ]
  },
  {
   "cell_type": "code",
   "execution_count": 10,
   "metadata": {},
   "outputs": [
    {
     "data": {
      "text/html": [
       "<div>\n",
       "<style scoped>\n",
       "    .dataframe tbody tr th:only-of-type {\n",
       "        vertical-align: middle;\n",
       "    }\n",
       "\n",
       "    .dataframe tbody tr th {\n",
       "        vertical-align: top;\n",
       "    }\n",
       "\n",
       "    .dataframe thead th {\n",
       "        text-align: right;\n",
       "    }\n",
       "</style>\n",
       "<table border=\"1\" class=\"dataframe\">\n",
       "  <thead>\n",
       "    <tr style=\"text-align: right;\">\n",
       "      <th></th>\n",
       "      <th>rougher.output.concentrate_au</th>\n",
       "      <th>rougher.input.feed_au</th>\n",
       "      <th>rougher.output.tail_au</th>\n",
       "      <th>rougher.output.recovery</th>\n",
       "      <th>rougher.output.recovery_calc</th>\n",
       "    </tr>\n",
       "    <tr>\n",
       "      <th>date</th>\n",
       "      <th></th>\n",
       "      <th></th>\n",
       "      <th></th>\n",
       "      <th></th>\n",
       "      <th></th>\n",
       "    </tr>\n",
       "  </thead>\n",
       "  <tbody>\n",
       "    <tr>\n",
       "      <th>2016-01-15 00:00:00</th>\n",
       "      <td>19.793808</td>\n",
       "      <td>6.486150</td>\n",
       "      <td>1.170244</td>\n",
       "      <td>87.107763</td>\n",
       "      <td>87.107763</td>\n",
       "    </tr>\n",
       "    <tr>\n",
       "      <th>2016-01-15 01:00:00</th>\n",
       "      <td>20.050975</td>\n",
       "      <td>6.478583</td>\n",
       "      <td>1.184827</td>\n",
       "      <td>86.843261</td>\n",
       "      <td>86.843261</td>\n",
       "    </tr>\n",
       "    <tr>\n",
       "      <th>2016-01-15 02:00:00</th>\n",
       "      <td>19.737170</td>\n",
       "      <td>6.362222</td>\n",
       "      <td>1.162562</td>\n",
       "      <td>86.842308</td>\n",
       "      <td>86.842308</td>\n",
       "    </tr>\n",
       "    <tr>\n",
       "      <th>2016-01-15 03:00:00</th>\n",
       "      <td>19.320810</td>\n",
       "      <td>6.118189</td>\n",
       "      <td>1.079755</td>\n",
       "      <td>87.226430</td>\n",
       "      <td>87.226430</td>\n",
       "    </tr>\n",
       "    <tr>\n",
       "      <th>2016-01-15 04:00:00</th>\n",
       "      <td>19.216101</td>\n",
       "      <td>5.663707</td>\n",
       "      <td>1.012642</td>\n",
       "      <td>86.688794</td>\n",
       "      <td>86.688794</td>\n",
       "    </tr>\n",
       "  </tbody>\n",
       "</table>\n",
       "</div>"
      ],
      "text/plain": [
       "                     rougher.output.concentrate_au  rougher.input.feed_au  \\\n",
       "date                                                                        \n",
       "2016-01-15 00:00:00                      19.793808               6.486150   \n",
       "2016-01-15 01:00:00                      20.050975               6.478583   \n",
       "2016-01-15 02:00:00                      19.737170               6.362222   \n",
       "2016-01-15 03:00:00                      19.320810               6.118189   \n",
       "2016-01-15 04:00:00                      19.216101               5.663707   \n",
       "\n",
       "                     rougher.output.tail_au  rougher.output.recovery  \\\n",
       "date                                                                   \n",
       "2016-01-15 00:00:00                1.170244                87.107763   \n",
       "2016-01-15 01:00:00                1.184827                86.843261   \n",
       "2016-01-15 02:00:00                1.162562                86.842308   \n",
       "2016-01-15 03:00:00                1.079755                87.226430   \n",
       "2016-01-15 04:00:00                1.012642                86.688794   \n",
       "\n",
       "                     rougher.output.recovery_calc  \n",
       "date                                               \n",
       "2016-01-15 00:00:00                     87.107763  \n",
       "2016-01-15 01:00:00                     86.843261  \n",
       "2016-01-15 02:00:00                     86.842308  \n",
       "2016-01-15 03:00:00                     87.226430  \n",
       "2016-01-15 04:00:00                     86.688794  "
      ]
     },
     "execution_count": 10,
     "metadata": {},
     "output_type": "execute_result"
    }
   ],
   "source": [
    "# Calculate recovery and save it in the column 'rougher.output.recovery_calc'\n",
    "au_recovery['rougher.output.recovery_calc'] = au_recovery.apply(recovery, axis=1)\n",
    "\n",
    "# Head au_recovery\n",
    "au_recovery.head()"
   ]
  },
  {
   "cell_type": "markdown",
   "metadata": {},
   "source": [
    "We have calculated the recovery after the float and it has been stored in the `rougher.output.recovery_calc` column. When observing the first 5 rows of the DataFrame, it is observed that the values are identical. However we will calculate if there are errors using the MAE. For this we are going to use the `mean_absolute_error` function from the `sklearn.metrics` module."
   ]
  },
  {
   "cell_type": "code",
   "execution_count": 11,
   "metadata": {},
   "outputs": [
    {
     "name": "stdout",
     "output_type": "stream",
     "text": [
      "9.303415616264301e-15\n"
     ]
    }
   ],
   "source": [
    "# Mean Absolute Error\n",
    "print(mean_absolute_error(au_recovery['rougher.output.recovery'], au_recovery['rougher.output.recovery_calc']))"
   ]
  },
  {
   "cell_type": "markdown",
   "metadata": {},
   "source": [
    "The MAE is very small so we can be sure that the values presented in the data sets are reliable."
   ]
  },
  {
   "cell_type": "markdown",
   "metadata": {},
   "source": [
    "## Analysis of unavailable features <a id='1.3' ></a>\n",
    "\n",
    "The training and test sets do not have the same number of features (i.e. columns). While the `au_train` training set consists of 86 features, the `au_test` test set has only 52, that is, 34 fewer features.\n",
    "\n",
    "We are going to identify which characteristics of the training set are not in the test set and analyze to which stage of the technological process they belong."
   ]
  },
  {
   "cell_type": "code",
   "execution_count": 13,
   "metadata": {},
   "outputs": [
    {
     "name": "stdout",
     "output_type": "stream",
     "text": [
      "Number of columns not shared: 34 \n",
      "\n",
      "final.output.concentrate_ag\n",
      "final.output.concentrate_au\n",
      "final.output.concentrate_pb\n",
      "final.output.concentrate_sol\n",
      "final.output.recovery\n",
      "final.output.tail_ag\n",
      "final.output.tail_au\n",
      "final.output.tail_pb\n",
      "final.output.tail_sol\n",
      "primary_cleaner.output.concentrate_ag\n",
      "primary_cleaner.output.concentrate_au\n",
      "primary_cleaner.output.concentrate_pb\n",
      "primary_cleaner.output.concentrate_sol\n",
      "primary_cleaner.output.tail_ag\n",
      "primary_cleaner.output.tail_au\n",
      "primary_cleaner.output.tail_pb\n",
      "primary_cleaner.output.tail_sol\n",
      "rougher.calculation.au_pb_ratio\n",
      "rougher.calculation.floatbank10_sulfate_to_au_feed\n",
      "rougher.calculation.floatbank11_sulfate_to_au_feed\n",
      "rougher.calculation.sulfate_to_au_concentrate\n",
      "rougher.output.concentrate_ag\n",
      "rougher.output.concentrate_au\n",
      "rougher.output.concentrate_pb\n",
      "rougher.output.concentrate_sol\n",
      "rougher.output.recovery\n",
      "rougher.output.tail_ag\n",
      "rougher.output.tail_au\n",
      "rougher.output.tail_pb\n",
      "rougher.output.tail_sol\n",
      "secondary_cleaner.output.tail_ag\n",
      "secondary_cleaner.output.tail_au\n",
      "secondary_cleaner.output.tail_pb\n",
      "secondary_cleaner.output.tail_sol\n"
     ]
    }
   ],
   "source": [
    "# List of features\n",
    "train_cols = au_train.columns.tolist()\n",
    "test_cols = au_test.columns.tolist()\n",
    "\n",
    "# Get list of columns that are in the training set but not in the test set\n",
    "diff_cols = np.setdiff1d(train_cols, test_cols).tolist() \n",
    "\n",
    "print('Number of columns not shared:', len(diff_cols),'\\n')\n",
    "\n",
    "for c in sorted(diff_cols):\n",
    "    print(c)"
   ]
  },
  {
   "cell_type": "markdown",
   "metadata": {},
   "source": [
    "The missing features in the test set belong to the following processes:\n",
    "\n",
    "|    Process     | Parameter type    | Number of features |\n",
    "|----------------|-------------------|--------------------|\n",
    "| Rougher        | Calculation       | 4                  |\n",
    "| Rougher        | Output            | 9                  |\n",
    "| Primary clean  | Output            | 8                  |\n",
    "| Secondary clean| Output            | 4                  |\n",
    "| Final clean    | Output            | 9                  |\n",
    "\n",
    "With the exception of the `rougher.output.recovery` and `final.output.recovery` columns, which are the target variables, later we will remove the columns that the training set does not share with the test set. In the next section we will discuss the missing values in each data set.\n",
    "\n",
    "Before purging the missing values, we are going to remove the features (columns) that the training set does not share with the test set except for the `rougher.output.recovery` and `final.output.recovery` columns."
   ]
  },
  {
   "cell_type": "markdown",
   "metadata": {},
   "source": [
    "## Data preprocessing <a id='1.4'></a>\n",
    "\n",
    "In this section we will discuss the missing values for each data set. Because the features are values measured in a sequence of time, missing values cannot be imputed using measures of centrality such as the mean or median. Because the values are taken within one hour on each measurement day, it is possible to use the _\"forward filling\"_ technique since the measurements between one hour and another are usually similar.\n",
    "\n",
    "First we are going to analyze the number of missing values in each data set using tally tables and the relative percentage that the missing values represent in each characteristic."
   ]
  },
  {
   "cell_type": "code",
   "execution_count": 14,
   "metadata": {},
   "outputs": [
    {
     "data": {
      "text/html": [
       "<style type=\"text/css\">\n",
       "</style>\n",
       "<table id=\"T_fecd6\">\n",
       "  <thead>\n",
       "    <tr>\n",
       "      <th class=\"blank level0\" >&nbsp;</th>\n",
       "      <th id=\"T_fecd6_level0_col0\" class=\"col_heading level0 col0\" >missing</th>\n",
       "      <th id=\"T_fecd6_level0_col1\" class=\"col_heading level0 col1\" >total</th>\n",
       "      <th id=\"T_fecd6_level0_col2\" class=\"col_heading level0 col2\" >percent</th>\n",
       "    </tr>\n",
       "  </thead>\n",
       "  <tbody>\n",
       "    <tr>\n",
       "      <th id=\"T_fecd6_level0_row0\" class=\"row_heading level0 row0\" >rougher.output.recovery</th>\n",
       "      <td id=\"T_fecd6_row0_col0\" class=\"data row0 col0\" >2,573</td>\n",
       "      <td id=\"T_fecd6_row0_col1\" class=\"data row0 col1\" >16,860</td>\n",
       "      <td id=\"T_fecd6_row0_col2\" class=\"data row0 col2\" >15.26%</td>\n",
       "    </tr>\n",
       "    <tr>\n",
       "      <th id=\"T_fecd6_level0_row1\" class=\"row_heading level0 row1\" >rougher.output.tail_ag</th>\n",
       "      <td id=\"T_fecd6_row1_col0\" class=\"data row1 col0\" >2,250</td>\n",
       "      <td id=\"T_fecd6_row1_col1\" class=\"data row1 col1\" >16,860</td>\n",
       "      <td id=\"T_fecd6_row1_col2\" class=\"data row1 col2\" >13.35%</td>\n",
       "    </tr>\n",
       "    <tr>\n",
       "      <th id=\"T_fecd6_level0_row2\" class=\"row_heading level0 row2\" >rougher.output.tail_sol</th>\n",
       "      <td id=\"T_fecd6_row2_col0\" class=\"data row2 col0\" >2,249</td>\n",
       "      <td id=\"T_fecd6_row2_col1\" class=\"data row2 col1\" >16,860</td>\n",
       "      <td id=\"T_fecd6_row2_col2\" class=\"data row2 col2\" >13.34%</td>\n",
       "    </tr>\n",
       "    <tr>\n",
       "      <th id=\"T_fecd6_level0_row3\" class=\"row_heading level0 row3\" >rougher.output.tail_au</th>\n",
       "      <td id=\"T_fecd6_row3_col0\" class=\"data row3 col0\" >2,249</td>\n",
       "      <td id=\"T_fecd6_row3_col1\" class=\"data row3 col1\" >16,860</td>\n",
       "      <td id=\"T_fecd6_row3_col2\" class=\"data row3 col2\" >13.34%</td>\n",
       "    </tr>\n",
       "    <tr>\n",
       "      <th id=\"T_fecd6_level0_row4\" class=\"row_heading level0 row4\" >secondary_cleaner.output.tail_sol</th>\n",
       "      <td id=\"T_fecd6_row4_col0\" class=\"data row4 col0\" >1,986</td>\n",
       "      <td id=\"T_fecd6_row4_col1\" class=\"data row4 col1\" >16,860</td>\n",
       "      <td id=\"T_fecd6_row4_col2\" class=\"data row4 col2\" >11.78%</td>\n",
       "    </tr>\n",
       "    <tr>\n",
       "      <th id=\"T_fecd6_level0_row5\" class=\"row_heading level0 row5\" >rougher.input.floatbank11_xanthate</th>\n",
       "      <td id=\"T_fecd6_row5_col0\" class=\"data row5 col0\" >1,904</td>\n",
       "      <td id=\"T_fecd6_row5_col1\" class=\"data row5 col1\" >16,860</td>\n",
       "      <td id=\"T_fecd6_row5_col2\" class=\"data row5 col2\" >11.29%</td>\n",
       "    </tr>\n",
       "    <tr>\n",
       "      <th id=\"T_fecd6_level0_row6\" class=\"row_heading level0 row6\" >final.output.recovery</th>\n",
       "      <td id=\"T_fecd6_row6_col0\" class=\"data row6 col0\" >1,521</td>\n",
       "      <td id=\"T_fecd6_row6_col1\" class=\"data row6 col1\" >16,860</td>\n",
       "      <td id=\"T_fecd6_row6_col2\" class=\"data row6 col2\" >9.02%</td>\n",
       "    </tr>\n",
       "    <tr>\n",
       "      <th id=\"T_fecd6_level0_row7\" class=\"row_heading level0 row7\" >primary_cleaner.input.sulfate</th>\n",
       "      <td id=\"T_fecd6_row7_col0\" class=\"data row7 col0\" >1,307</td>\n",
       "      <td id=\"T_fecd6_row7_col1\" class=\"data row7 col1\" >16,860</td>\n",
       "      <td id=\"T_fecd6_row7_col2\" class=\"data row7 col2\" >7.75%</td>\n",
       "    </tr>\n",
       "    <tr>\n",
       "      <th id=\"T_fecd6_level0_row8\" class=\"row_heading level0 row8\" >primary_cleaner.input.depressant</th>\n",
       "      <td id=\"T_fecd6_row8_col0\" class=\"data row8 col0\" >1,262</td>\n",
       "      <td id=\"T_fecd6_row8_col1\" class=\"data row8 col1\" >16,860</td>\n",
       "      <td id=\"T_fecd6_row8_col2\" class=\"data row8 col2\" >7.49%</td>\n",
       "    </tr>\n",
       "    <tr>\n",
       "      <th id=\"T_fecd6_level0_row9\" class=\"row_heading level0 row9\" >rougher.calculation.au_pb_ratio</th>\n",
       "      <td id=\"T_fecd6_row9_col0\" class=\"data row9 col0\" >1,242</td>\n",
       "      <td id=\"T_fecd6_row9_col1\" class=\"data row9 col1\" >16,860</td>\n",
       "      <td id=\"T_fecd6_row9_col2\" class=\"data row9 col2\" >7.37%</td>\n",
       "    </tr>\n",
       "    <tr>\n",
       "      <th id=\"T_fecd6_level0_row10\" class=\"row_heading level0 row10\" >rougher.input.floatbank10_sulfate</th>\n",
       "      <td id=\"T_fecd6_row10_col0\" class=\"data row10 col0\" >1,044</td>\n",
       "      <td id=\"T_fecd6_row10_col1\" class=\"data row10 col1\" >16,860</td>\n",
       "      <td id=\"T_fecd6_row10_col2\" class=\"data row10 col2\" >6.19%</td>\n",
       "    </tr>\n",
       "    <tr>\n",
       "      <th id=\"T_fecd6_level0_row11\" class=\"row_heading level0 row11\" >primary_cleaner.input.xanthate</th>\n",
       "      <td id=\"T_fecd6_row11_col0\" class=\"data row11 col0\" >985</td>\n",
       "      <td id=\"T_fecd6_row11_col1\" class=\"data row11 col1\" >16,860</td>\n",
       "      <td id=\"T_fecd6_row11_col2\" class=\"data row11 col2\" >5.84%</td>\n",
       "    </tr>\n",
       "    <tr>\n",
       "      <th id=\"T_fecd6_level0_row12\" class=\"row_heading level0 row12\" >primary_cleaner.output.concentrate_sol</th>\n",
       "      <td id=\"T_fecd6_row12_col0\" class=\"data row12 col0\" >636</td>\n",
       "      <td id=\"T_fecd6_row12_col1\" class=\"data row12 col1\" >16,860</td>\n",
       "      <td id=\"T_fecd6_row12_col2\" class=\"data row12 col2\" >3.77%</td>\n",
       "    </tr>\n",
       "    <tr>\n",
       "      <th id=\"T_fecd6_level0_row13\" class=\"row_heading level0 row13\" >rougher.input.floatbank11_sulfate</th>\n",
       "      <td id=\"T_fecd6_row13_col0\" class=\"data row13 col0\" >623</td>\n",
       "      <td id=\"T_fecd6_row13_col1\" class=\"data row13 col1\" >16,860</td>\n",
       "      <td id=\"T_fecd6_row13_col2\" class=\"data row13 col2\" >3.70%</td>\n",
       "    </tr>\n",
       "    <tr>\n",
       "      <th id=\"T_fecd6_level0_row14\" class=\"row_heading level0 row14\" >rougher.state.floatbank10_e_air</th>\n",
       "      <td id=\"T_fecd6_row14_col0\" class=\"data row14 col0\" >603</td>\n",
       "      <td id=\"T_fecd6_row14_col1\" class=\"data row14 col1\" >16,860</td>\n",
       "      <td id=\"T_fecd6_row14_col2\" class=\"data row14 col2\" >3.58%</td>\n",
       "    </tr>\n",
       "    <tr>\n",
       "      <th id=\"T_fecd6_level0_row15\" class=\"row_heading level0 row15\" >rougher.input.feed_rate</th>\n",
       "      <td id=\"T_fecd6_row15_col0\" class=\"data row15 col0\" >513</td>\n",
       "      <td id=\"T_fecd6_row15_col1\" class=\"data row15 col1\" >16,860</td>\n",
       "      <td id=\"T_fecd6_row15_col2\" class=\"data row15 col2\" >3.04%</td>\n",
       "    </tr>\n",
       "    <tr>\n",
       "      <th id=\"T_fecd6_level0_row16\" class=\"row_heading level0 row16\" >rougher.input.feed_size</th>\n",
       "      <td id=\"T_fecd6_row16_col0\" class=\"data row16 col0\" >417</td>\n",
       "      <td id=\"T_fecd6_row16_col1\" class=\"data row16 col1\" >16,860</td>\n",
       "      <td id=\"T_fecd6_row16_col2\" class=\"data row16 col2\" >2.47%</td>\n",
       "    </tr>\n",
       "    <tr>\n",
       "      <th id=\"T_fecd6_level0_row17\" class=\"row_heading level0 row17\" >final.output.concentrate_sol</th>\n",
       "      <td id=\"T_fecd6_row17_col0\" class=\"data row17 col0\" >370</td>\n",
       "      <td id=\"T_fecd6_row17_col1\" class=\"data row17 col1\" >16,860</td>\n",
       "      <td id=\"T_fecd6_row17_col2\" class=\"data row17 col2\" >2.19%</td>\n",
       "    </tr>\n",
       "    <tr>\n",
       "      <th id=\"T_fecd6_level0_row18\" class=\"row_heading level0 row18\" >secondary_cleaner.state.floatbank2_a_air</th>\n",
       "      <td id=\"T_fecd6_row18_col0\" class=\"data row18 col0\" >363</td>\n",
       "      <td id=\"T_fecd6_row18_col1\" class=\"data row18 col1\" >16,860</td>\n",
       "      <td id=\"T_fecd6_row18_col2\" class=\"data row18 col2\" >2.15%</td>\n",
       "    </tr>\n",
       "    <tr>\n",
       "      <th id=\"T_fecd6_level0_row19\" class=\"row_heading level0 row19\" >primary_cleaner.output.concentrate_pb</th>\n",
       "      <td id=\"T_fecd6_row19_col0\" class=\"data row19 col0\" >358</td>\n",
       "      <td id=\"T_fecd6_row19_col1\" class=\"data row19 col1\" >16,860</td>\n",
       "      <td id=\"T_fecd6_row19_col2\" class=\"data row19 col2\" >2.12%</td>\n",
       "    </tr>\n",
       "    <tr>\n",
       "      <th id=\"T_fecd6_level0_row20\" class=\"row_heading level0 row20\" >rougher.input.floatbank10_xanthate</th>\n",
       "      <td id=\"T_fecd6_row20_col0\" class=\"data row20 col0\" >346</td>\n",
       "      <td id=\"T_fecd6_row20_col1\" class=\"data row20 col1\" >16,860</td>\n",
       "      <td id=\"T_fecd6_row20_col2\" class=\"data row20 col2\" >2.05%</td>\n",
       "    </tr>\n",
       "    <tr>\n",
       "      <th id=\"T_fecd6_level0_row21\" class=\"row_heading level0 row21\" >rougher.input.feed_sol</th>\n",
       "      <td id=\"T_fecd6_row21_col0\" class=\"data row21 col0\" >292</td>\n",
       "      <td id=\"T_fecd6_row21_col1\" class=\"data row21 col1\" >16,860</td>\n",
       "      <td id=\"T_fecd6_row21_col2\" class=\"data row21 col2\" >1.73%</td>\n",
       "    </tr>\n",
       "    <tr>\n",
       "      <th id=\"T_fecd6_level0_row22\" class=\"row_heading level0 row22\" >primary_cleaner.output.tail_sol</th>\n",
       "      <td id=\"T_fecd6_row22_col0\" class=\"data row22 col0\" >281</td>\n",
       "      <td id=\"T_fecd6_row22_col1\" class=\"data row22 col1\" >16,860</td>\n",
       "      <td id=\"T_fecd6_row22_col2\" class=\"data row22 col2\" >1.67%</td>\n",
       "    </tr>\n",
       "    <tr>\n",
       "      <th id=\"T_fecd6_level0_row23\" class=\"row_heading level0 row23\" >rougher.input.feed_pb</th>\n",
       "      <td id=\"T_fecd6_row23_col0\" class=\"data row23 col0\" >228</td>\n",
       "      <td id=\"T_fecd6_row23_col1\" class=\"data row23 col1\" >16,860</td>\n",
       "      <td id=\"T_fecd6_row23_col2\" class=\"data row23 col2\" >1.35%</td>\n",
       "    </tr>\n",
       "    <tr>\n",
       "      <th id=\"T_fecd6_level0_row24\" class=\"row_heading level0 row24\" >final.output.tail_pb</th>\n",
       "      <td id=\"T_fecd6_row24_col0\" class=\"data row24 col0\" >183</td>\n",
       "      <td id=\"T_fecd6_row24_col1\" class=\"data row24 col1\" >16,860</td>\n",
       "      <td id=\"T_fecd6_row24_col2\" class=\"data row24 col2\" >1.09%</td>\n",
       "    </tr>\n",
       "    <tr>\n",
       "      <th id=\"T_fecd6_level0_row25\" class=\"row_heading level0 row25\" >rougher.output.concentrate_sol</th>\n",
       "      <td id=\"T_fecd6_row25_col0\" class=\"data row25 col0\" >162</td>\n",
       "      <td id=\"T_fecd6_row25_col1\" class=\"data row25 col1\" >16,860</td>\n",
       "      <td id=\"T_fecd6_row25_col2\" class=\"data row25 col2\" >0.96%</td>\n",
       "    </tr>\n",
       "    <tr>\n",
       "      <th id=\"T_fecd6_level0_row26\" class=\"row_heading level0 row26\" >secondary_cleaner.state.floatbank2_b_air</th>\n",
       "      <td id=\"T_fecd6_row26_col0\" class=\"data row26 col0\" >155</td>\n",
       "      <td id=\"T_fecd6_row26_col1\" class=\"data row26 col1\" >16,860</td>\n",
       "      <td id=\"T_fecd6_row26_col2\" class=\"data row26 col2\" >0.92%</td>\n",
       "    </tr>\n",
       "    <tr>\n",
       "      <th id=\"T_fecd6_level0_row27\" class=\"row_heading level0 row27\" >final.output.tail_sol</th>\n",
       "      <td id=\"T_fecd6_row27_col0\" class=\"data row27 col0\" >145</td>\n",
       "      <td id=\"T_fecd6_row27_col1\" class=\"data row27 col1\" >16,860</td>\n",
       "      <td id=\"T_fecd6_row27_col2\" class=\"data row27 col2\" >0.86%</td>\n",
       "    </tr>\n",
       "    <tr>\n",
       "      <th id=\"T_fecd6_level0_row28\" class=\"row_heading level0 row28\" >secondary_cleaner.state.floatbank4_a_air</th>\n",
       "      <td id=\"T_fecd6_row28_col0\" class=\"data row28 col0\" >129</td>\n",
       "      <td id=\"T_fecd6_row28_col1\" class=\"data row28 col1\" >16,860</td>\n",
       "      <td id=\"T_fecd6_row28_col2\" class=\"data row28 col2\" >0.77%</td>\n",
       "    </tr>\n",
       "    <tr>\n",
       "      <th id=\"T_fecd6_level0_row29\" class=\"row_heading level0 row29\" >secondary_cleaner.state.floatbank4_a_level</th>\n",
       "      <td id=\"T_fecd6_row29_col0\" class=\"data row29 col0\" >113</td>\n",
       "      <td id=\"T_fecd6_row29_col1\" class=\"data row29 col1\" >16,860</td>\n",
       "      <td id=\"T_fecd6_row29_col2\" class=\"data row29 col2\" >0.67%</td>\n",
       "    </tr>\n",
       "    <tr>\n",
       "      <th id=\"T_fecd6_level0_row30\" class=\"row_heading level0 row30\" >secondary_cleaner.state.floatbank3_a_level</th>\n",
       "      <td id=\"T_fecd6_row30_col0\" class=\"data row30 col0\" >113</td>\n",
       "      <td id=\"T_fecd6_row30_col1\" class=\"data row30 col1\" >16,860</td>\n",
       "      <td id=\"T_fecd6_row30_col2\" class=\"data row30 col2\" >0.67%</td>\n",
       "    </tr>\n",
       "    <tr>\n",
       "      <th id=\"T_fecd6_level0_row31\" class=\"row_heading level0 row31\" >secondary_cleaner.state.floatbank2_b_level</th>\n",
       "      <td id=\"T_fecd6_row31_col0\" class=\"data row31 col0\" >112</td>\n",
       "      <td id=\"T_fecd6_row31_col1\" class=\"data row31 col1\" >16,860</td>\n",
       "      <td id=\"T_fecd6_row31_col2\" class=\"data row31 col2\" >0.66%</td>\n",
       "    </tr>\n",
       "    <tr>\n",
       "      <th id=\"T_fecd6_level0_row32\" class=\"row_heading level0 row32\" >secondary_cleaner.state.floatbank3_b_level</th>\n",
       "      <td id=\"T_fecd6_row32_col0\" class=\"data row32 col0\" >110</td>\n",
       "      <td id=\"T_fecd6_row32_col1\" class=\"data row32 col1\" >16,860</td>\n",
       "      <td id=\"T_fecd6_row32_col2\" class=\"data row32 col2\" >0.65%</td>\n",
       "    </tr>\n",
       "    <tr>\n",
       "      <th id=\"T_fecd6_level0_row33\" class=\"row_heading level0 row33\" >secondary_cleaner.state.floatbank2_a_level</th>\n",
       "      <td id=\"T_fecd6_row33_col0\" class=\"data row33 col0\" >109</td>\n",
       "      <td id=\"T_fecd6_row33_col1\" class=\"data row33 col1\" >16,860</td>\n",
       "      <td id=\"T_fecd6_row33_col2\" class=\"data row33 col2\" >0.65%</td>\n",
       "    </tr>\n",
       "    <tr>\n",
       "      <th id=\"T_fecd6_level0_row34\" class=\"row_heading level0 row34\" >secondary_cleaner.state.floatbank3_b_air</th>\n",
       "      <td id=\"T_fecd6_row34_col0\" class=\"data row34 col0\" >108</td>\n",
       "      <td id=\"T_fecd6_row34_col1\" class=\"data row34 col1\" >16,860</td>\n",
       "      <td id=\"T_fecd6_row34_col2\" class=\"data row34 col2\" >0.64%</td>\n",
       "    </tr>\n",
       "    <tr>\n",
       "      <th id=\"T_fecd6_level0_row35\" class=\"row_heading level0 row35\" >secondary_cleaner.state.floatbank6_a_air</th>\n",
       "      <td id=\"T_fecd6_row35_col0\" class=\"data row35 col0\" >103</td>\n",
       "      <td id=\"T_fecd6_row35_col1\" class=\"data row35 col1\" >16,860</td>\n",
       "      <td id=\"T_fecd6_row35_col2\" class=\"data row35 col2\" >0.61%</td>\n",
       "    </tr>\n",
       "    <tr>\n",
       "      <th id=\"T_fecd6_level0_row36\" class=\"row_heading level0 row36\" >primary_cleaner.output.tail_pb</th>\n",
       "      <td id=\"T_fecd6_row36_col0\" class=\"data row36 col0\" >99</td>\n",
       "      <td id=\"T_fecd6_row36_col1\" class=\"data row36 col1\" >16,860</td>\n",
       "      <td id=\"T_fecd6_row36_col2\" class=\"data row36 col2\" >0.59%</td>\n",
       "    </tr>\n",
       "    <tr>\n",
       "      <th id=\"T_fecd6_level0_row37\" class=\"row_heading level0 row37\" >secondary_cleaner.state.floatbank3_a_air</th>\n",
       "      <td id=\"T_fecd6_row37_col0\" class=\"data row37 col0\" >97</td>\n",
       "      <td id=\"T_fecd6_row37_col1\" class=\"data row37 col1\" >16,860</td>\n",
       "      <td id=\"T_fecd6_row37_col2\" class=\"data row37 col2\" >0.58%</td>\n",
       "    </tr>\n",
       "    <tr>\n",
       "      <th id=\"T_fecd6_level0_row38\" class=\"row_heading level0 row38\" >secondary_cleaner.output.tail_pb</th>\n",
       "      <td id=\"T_fecd6_row38_col0\" class=\"data row38 col0\" >96</td>\n",
       "      <td id=\"T_fecd6_row38_col1\" class=\"data row38 col1\" >16,860</td>\n",
       "      <td id=\"T_fecd6_row38_col2\" class=\"data row38 col2\" >0.57%</td>\n",
       "    </tr>\n",
       "    <tr>\n",
       "      <th id=\"T_fecd6_level0_row39\" class=\"row_heading level0 row39\" >secondary_cleaner.state.floatbank4_b_level</th>\n",
       "      <td id=\"T_fecd6_row39_col0\" class=\"data row39 col0\" >93</td>\n",
       "      <td id=\"T_fecd6_row39_col1\" class=\"data row39 col1\" >16,860</td>\n",
       "      <td id=\"T_fecd6_row39_col2\" class=\"data row39 col2\" >0.55%</td>\n",
       "    </tr>\n",
       "    <tr>\n",
       "      <th id=\"T_fecd6_level0_row40\" class=\"row_heading level0 row40\" >secondary_cleaner.state.floatbank4_b_air</th>\n",
       "      <td id=\"T_fecd6_row40_col0\" class=\"data row40 col0\" >92</td>\n",
       "      <td id=\"T_fecd6_row40_col1\" class=\"data row40 col1\" >16,860</td>\n",
       "      <td id=\"T_fecd6_row40_col2\" class=\"data row40 col2\" >0.55%</td>\n",
       "    </tr>\n",
       "    <tr>\n",
       "      <th id=\"T_fecd6_level0_row41\" class=\"row_heading level0 row41\" >secondary_cleaner.state.floatbank5_a_air</th>\n",
       "      <td id=\"T_fecd6_row41_col0\" class=\"data row41 col0\" >85</td>\n",
       "      <td id=\"T_fecd6_row41_col1\" class=\"data row41 col1\" >16,860</td>\n",
       "      <td id=\"T_fecd6_row41_col2\" class=\"data row41 col2\" >0.50%</td>\n",
       "    </tr>\n",
       "    <tr>\n",
       "      <th id=\"T_fecd6_level0_row42\" class=\"row_heading level0 row42\" >secondary_cleaner.state.floatbank5_a_level</th>\n",
       "      <td id=\"T_fecd6_row42_col0\" class=\"data row42 col0\" >85</td>\n",
       "      <td id=\"T_fecd6_row42_col1\" class=\"data row42 col1\" >16,860</td>\n",
       "      <td id=\"T_fecd6_row42_col2\" class=\"data row42 col2\" >0.50%</td>\n",
       "    </tr>\n",
       "    <tr>\n",
       "      <th id=\"T_fecd6_level0_row43\" class=\"row_heading level0 row43\" >secondary_cleaner.state.floatbank5_b_air</th>\n",
       "      <td id=\"T_fecd6_row43_col0\" class=\"data row43 col0\" >85</td>\n",
       "      <td id=\"T_fecd6_row43_col1\" class=\"data row43 col1\" >16,860</td>\n",
       "      <td id=\"T_fecd6_row43_col2\" class=\"data row43 col2\" >0.50%</td>\n",
       "    </tr>\n",
       "    <tr>\n",
       "      <th id=\"T_fecd6_level0_row44\" class=\"row_heading level0 row44\" >secondary_cleaner.state.floatbank6_a_level</th>\n",
       "      <td id=\"T_fecd6_row44_col0\" class=\"data row44 col0\" >85</td>\n",
       "      <td id=\"T_fecd6_row44_col1\" class=\"data row44 col1\" >16,860</td>\n",
       "      <td id=\"T_fecd6_row44_col2\" class=\"data row44 col2\" >0.50%</td>\n",
       "    </tr>\n",
       "    <tr>\n",
       "      <th id=\"T_fecd6_level0_row45\" class=\"row_heading level0 row45\" >secondary_cleaner.output.tail_ag</th>\n",
       "      <td id=\"T_fecd6_row45_col0\" class=\"data row45 col0\" >84</td>\n",
       "      <td id=\"T_fecd6_row45_col1\" class=\"data row45 col1\" >16,860</td>\n",
       "      <td id=\"T_fecd6_row45_col2\" class=\"data row45 col2\" >0.50%</td>\n",
       "    </tr>\n",
       "    <tr>\n",
       "      <th id=\"T_fecd6_level0_row46\" class=\"row_heading level0 row46\" >secondary_cleaner.state.floatbank5_b_level</th>\n",
       "      <td id=\"T_fecd6_row46_col0\" class=\"data row46 col0\" >84</td>\n",
       "      <td id=\"T_fecd6_row46_col1\" class=\"data row46 col1\" >16,860</td>\n",
       "      <td id=\"T_fecd6_row46_col2\" class=\"data row46 col2\" >0.50%</td>\n",
       "    </tr>\n",
       "    <tr>\n",
       "      <th id=\"T_fecd6_level0_row47\" class=\"row_heading level0 row47\" >rougher.input.feed_au</th>\n",
       "      <td id=\"T_fecd6_row47_col0\" class=\"data row47 col0\" >83</td>\n",
       "      <td id=\"T_fecd6_row47_col1\" class=\"data row47 col1\" >16,860</td>\n",
       "      <td id=\"T_fecd6_row47_col2\" class=\"data row47 col2\" >0.49%</td>\n",
       "    </tr>\n",
       "    <tr>\n",
       "      <th id=\"T_fecd6_level0_row48\" class=\"row_heading level0 row48\" >primary_cleaner.output.tail_au</th>\n",
       "      <td id=\"T_fecd6_row48_col0\" class=\"data row48 col0\" >83</td>\n",
       "      <td id=\"T_fecd6_row48_col1\" class=\"data row48 col1\" >16,860</td>\n",
       "      <td id=\"T_fecd6_row48_col2\" class=\"data row48 col2\" >0.49%</td>\n",
       "    </tr>\n",
       "    <tr>\n",
       "      <th id=\"T_fecd6_level0_row49\" class=\"row_heading level0 row49\" >primary_cleaner.output.tail_ag</th>\n",
       "      <td id=\"T_fecd6_row49_col0\" class=\"data row49 col0\" >83</td>\n",
       "      <td id=\"T_fecd6_row49_col1\" class=\"data row49 col1\" >16,860</td>\n",
       "      <td id=\"T_fecd6_row49_col2\" class=\"data row49 col2\" >0.49%</td>\n",
       "    </tr>\n",
       "    <tr>\n",
       "      <th id=\"T_fecd6_level0_row50\" class=\"row_heading level0 row50\" >secondary_cleaner.output.tail_au</th>\n",
       "      <td id=\"T_fecd6_row50_col0\" class=\"data row50 col0\" >82</td>\n",
       "      <td id=\"T_fecd6_row50_col1\" class=\"data row50 col1\" >16,860</td>\n",
       "      <td id=\"T_fecd6_row50_col2\" class=\"data row50 col2\" >0.49%</td>\n",
       "    </tr>\n",
       "    <tr>\n",
       "      <th id=\"T_fecd6_level0_row51\" class=\"row_heading level0 row51\" >rougher.output.concentrate_ag</th>\n",
       "      <td id=\"T_fecd6_row51_col0\" class=\"data row51 col0\" >82</td>\n",
       "      <td id=\"T_fecd6_row51_col1\" class=\"data row51 col1\" >16,860</td>\n",
       "      <td id=\"T_fecd6_row51_col2\" class=\"data row51 col2\" >0.49%</td>\n",
       "    </tr>\n",
       "    <tr>\n",
       "      <th id=\"T_fecd6_level0_row52\" class=\"row_heading level0 row52\" >rougher.input.feed_ag</th>\n",
       "      <td id=\"T_fecd6_row52_col0\" class=\"data row52 col0\" >82</td>\n",
       "      <td id=\"T_fecd6_row52_col1\" class=\"data row52 col1\" >16,860</td>\n",
       "      <td id=\"T_fecd6_row52_col2\" class=\"data row52 col2\" >0.49%</td>\n",
       "    </tr>\n",
       "    <tr>\n",
       "      <th id=\"T_fecd6_level0_row53\" class=\"row_heading level0 row53\" >primary_cleaner.output.concentrate_ag</th>\n",
       "      <td id=\"T_fecd6_row53_col0\" class=\"data row53 col0\" >82</td>\n",
       "      <td id=\"T_fecd6_row53_col1\" class=\"data row53 col1\" >16,860</td>\n",
       "      <td id=\"T_fecd6_row53_col2\" class=\"data row53 col2\" >0.49%</td>\n",
       "    </tr>\n",
       "    <tr>\n",
       "      <th id=\"T_fecd6_level0_row54\" class=\"row_heading level0 row54\" >primary_cleaner.output.concentrate_au</th>\n",
       "      <td id=\"T_fecd6_row54_col0\" class=\"data row54 col0\" >82</td>\n",
       "      <td id=\"T_fecd6_row54_col1\" class=\"data row54 col1\" >16,860</td>\n",
       "      <td id=\"T_fecd6_row54_col2\" class=\"data row54 col2\" >0.49%</td>\n",
       "    </tr>\n",
       "    <tr>\n",
       "      <th id=\"T_fecd6_level0_row55\" class=\"row_heading level0 row55\" >rougher.output.tail_pb</th>\n",
       "      <td id=\"T_fecd6_row55_col0\" class=\"data row55 col0\" >82</td>\n",
       "      <td id=\"T_fecd6_row55_col1\" class=\"data row55 col1\" >16,860</td>\n",
       "      <td id=\"T_fecd6_row55_col2\" class=\"data row55 col2\" >0.49%</td>\n",
       "    </tr>\n",
       "    <tr>\n",
       "      <th id=\"T_fecd6_level0_row56\" class=\"row_heading level0 row56\" >rougher.output.concentrate_au</th>\n",
       "      <td id=\"T_fecd6_row56_col0\" class=\"data row56 col0\" >82</td>\n",
       "      <td id=\"T_fecd6_row56_col1\" class=\"data row56 col1\" >16,860</td>\n",
       "      <td id=\"T_fecd6_row56_col2\" class=\"data row56 col2\" >0.49%</td>\n",
       "    </tr>\n",
       "    <tr>\n",
       "      <th id=\"T_fecd6_level0_row57\" class=\"row_heading level0 row57\" >rougher.output.concentrate_pb</th>\n",
       "      <td id=\"T_fecd6_row57_col0\" class=\"data row57 col0\" >82</td>\n",
       "      <td id=\"T_fecd6_row57_col1\" class=\"data row57 col1\" >16,860</td>\n",
       "      <td id=\"T_fecd6_row57_col2\" class=\"data row57 col2\" >0.49%</td>\n",
       "    </tr>\n",
       "    <tr>\n",
       "      <th id=\"T_fecd6_level0_row58\" class=\"row_heading level0 row58\" >final.output.concentrate_ag</th>\n",
       "      <td id=\"T_fecd6_row58_col0\" class=\"data row58 col0\" >72</td>\n",
       "      <td id=\"T_fecd6_row58_col1\" class=\"data row58 col1\" >16,860</td>\n",
       "      <td id=\"T_fecd6_row58_col2\" class=\"data row58 col2\" >0.43%</td>\n",
       "    </tr>\n",
       "    <tr>\n",
       "      <th id=\"T_fecd6_level0_row59\" class=\"row_heading level0 row59\" >final.output.concentrate_pb</th>\n",
       "      <td id=\"T_fecd6_row59_col0\" class=\"data row59 col0\" >72</td>\n",
       "      <td id=\"T_fecd6_row59_col1\" class=\"data row59 col1\" >16,860</td>\n",
       "      <td id=\"T_fecd6_row59_col2\" class=\"data row59 col2\" >0.43%</td>\n",
       "    </tr>\n",
       "    <tr>\n",
       "      <th id=\"T_fecd6_level0_row60\" class=\"row_heading level0 row60\" >final.output.concentrate_au</th>\n",
       "      <td id=\"T_fecd6_row60_col0\" class=\"data row60 col0\" >71</td>\n",
       "      <td id=\"T_fecd6_row60_col1\" class=\"data row60 col1\" >16,860</td>\n",
       "      <td id=\"T_fecd6_row60_col2\" class=\"data row60 col2\" >0.42%</td>\n",
       "    </tr>\n",
       "    <tr>\n",
       "      <th id=\"T_fecd6_level0_row61\" class=\"row_heading level0 row61\" >final.output.tail_ag</th>\n",
       "      <td id=\"T_fecd6_row61_col0\" class=\"data row61 col0\" >66</td>\n",
       "      <td id=\"T_fecd6_row61_col1\" class=\"data row61 col1\" >16,860</td>\n",
       "      <td id=\"T_fecd6_row61_col2\" class=\"data row61 col2\" >0.39%</td>\n",
       "    </tr>\n",
       "    <tr>\n",
       "      <th id=\"T_fecd6_level0_row62\" class=\"row_heading level0 row62\" >final.output.tail_au</th>\n",
       "      <td id=\"T_fecd6_row62_col0\" class=\"data row62 col0\" >66</td>\n",
       "      <td id=\"T_fecd6_row62_col1\" class=\"data row62 col1\" >16,860</td>\n",
       "      <td id=\"T_fecd6_row62_col2\" class=\"data row62 col2\" >0.39%</td>\n",
       "    </tr>\n",
       "    <tr>\n",
       "      <th id=\"T_fecd6_level0_row63\" class=\"row_heading level0 row63\" >rougher.state.floatbank10_d_air</th>\n",
       "      <td id=\"T_fecd6_row63_col0\" class=\"data row63 col0\" >58</td>\n",
       "      <td id=\"T_fecd6_row63_col1\" class=\"data row63 col1\" >16,860</td>\n",
       "      <td id=\"T_fecd6_row63_col2\" class=\"data row63 col2\" >0.34%</td>\n",
       "    </tr>\n",
       "    <tr>\n",
       "      <th id=\"T_fecd6_level0_row64\" class=\"row_heading level0 row64\" >rougher.state.floatbank10_f_air</th>\n",
       "      <td id=\"T_fecd6_row64_col0\" class=\"data row64 col0\" >58</td>\n",
       "      <td id=\"T_fecd6_row64_col1\" class=\"data row64 col1\" >16,860</td>\n",
       "      <td id=\"T_fecd6_row64_col2\" class=\"data row64 col2\" >0.34%</td>\n",
       "    </tr>\n",
       "    <tr>\n",
       "      <th id=\"T_fecd6_level0_row65\" class=\"row_heading level0 row65\" >rougher.state.floatbank10_f_level</th>\n",
       "      <td id=\"T_fecd6_row65_col0\" class=\"data row65 col0\" >58</td>\n",
       "      <td id=\"T_fecd6_row65_col1\" class=\"data row65 col1\" >16,860</td>\n",
       "      <td id=\"T_fecd6_row65_col2\" class=\"data row65 col2\" >0.34%</td>\n",
       "    </tr>\n",
       "    <tr>\n",
       "      <th id=\"T_fecd6_level0_row66\" class=\"row_heading level0 row66\" >rougher.state.floatbank10_a_level</th>\n",
       "      <td id=\"T_fecd6_row66_col0\" class=\"data row66 col0\" >53</td>\n",
       "      <td id=\"T_fecd6_row66_col1\" class=\"data row66 col1\" >16,860</td>\n",
       "      <td id=\"T_fecd6_row66_col2\" class=\"data row66 col2\" >0.31%</td>\n",
       "    </tr>\n",
       "    <tr>\n",
       "      <th id=\"T_fecd6_level0_row67\" class=\"row_heading level0 row67\" >rougher.state.floatbank10_a_air</th>\n",
       "      <td id=\"T_fecd6_row67_col0\" class=\"data row67 col0\" >53</td>\n",
       "      <td id=\"T_fecd6_row67_col1\" class=\"data row67 col1\" >16,860</td>\n",
       "      <td id=\"T_fecd6_row67_col2\" class=\"data row67 col2\" >0.31%</td>\n",
       "    </tr>\n",
       "    <tr>\n",
       "      <th id=\"T_fecd6_level0_row68\" class=\"row_heading level0 row68\" >rougher.state.floatbank10_b_air</th>\n",
       "      <td id=\"T_fecd6_row68_col0\" class=\"data row68 col0\" >53</td>\n",
       "      <td id=\"T_fecd6_row68_col1\" class=\"data row68 col1\" >16,860</td>\n",
       "      <td id=\"T_fecd6_row68_col2\" class=\"data row68 col2\" >0.31%</td>\n",
       "    </tr>\n",
       "    <tr>\n",
       "      <th id=\"T_fecd6_level0_row69\" class=\"row_heading level0 row69\" >rougher.state.floatbank10_b_level</th>\n",
       "      <td id=\"T_fecd6_row69_col0\" class=\"data row69 col0\" >53</td>\n",
       "      <td id=\"T_fecd6_row69_col1\" class=\"data row69 col1\" >16,860</td>\n",
       "      <td id=\"T_fecd6_row69_col2\" class=\"data row69 col2\" >0.31%</td>\n",
       "    </tr>\n",
       "    <tr>\n",
       "      <th id=\"T_fecd6_level0_row70\" class=\"row_heading level0 row70\" >rougher.state.floatbank10_c_air</th>\n",
       "      <td id=\"T_fecd6_row70_col0\" class=\"data row70 col0\" >53</td>\n",
       "      <td id=\"T_fecd6_row70_col1\" class=\"data row70 col1\" >16,860</td>\n",
       "      <td id=\"T_fecd6_row70_col2\" class=\"data row70 col2\" >0.31%</td>\n",
       "    </tr>\n",
       "    <tr>\n",
       "      <th id=\"T_fecd6_level0_row71\" class=\"row_heading level0 row71\" >rougher.state.floatbank10_d_level</th>\n",
       "      <td id=\"T_fecd6_row71_col0\" class=\"data row71 col0\" >51</td>\n",
       "      <td id=\"T_fecd6_row71_col1\" class=\"data row71 col1\" >16,860</td>\n",
       "      <td id=\"T_fecd6_row71_col2\" class=\"data row71 col2\" >0.30%</td>\n",
       "    </tr>\n",
       "    <tr>\n",
       "      <th id=\"T_fecd6_level0_row72\" class=\"row_heading level0 row72\" >rougher.state.floatbank10_e_level</th>\n",
       "      <td id=\"T_fecd6_row72_col0\" class=\"data row72 col0\" >51</td>\n",
       "      <td id=\"T_fecd6_row72_col1\" class=\"data row72 col1\" >16,860</td>\n",
       "      <td id=\"T_fecd6_row72_col2\" class=\"data row72 col2\" >0.30%</td>\n",
       "    </tr>\n",
       "    <tr>\n",
       "      <th id=\"T_fecd6_level0_row73\" class=\"row_heading level0 row73\" >rougher.state.floatbank10_c_level</th>\n",
       "      <td id=\"T_fecd6_row73_col0\" class=\"data row73 col0\" >46</td>\n",
       "      <td id=\"T_fecd6_row73_col1\" class=\"data row73 col1\" >16,860</td>\n",
       "      <td id=\"T_fecd6_row73_col2\" class=\"data row73 col2\" >0.27%</td>\n",
       "    </tr>\n",
       "    <tr>\n",
       "      <th id=\"T_fecd6_level0_row74\" class=\"row_heading level0 row74\" >primary_cleaner.state.floatbank8_b_air</th>\n",
       "      <td id=\"T_fecd6_row74_col0\" class=\"data row74 col0\" >40</td>\n",
       "      <td id=\"T_fecd6_row74_col1\" class=\"data row74 col1\" >16,860</td>\n",
       "      <td id=\"T_fecd6_row74_col2\" class=\"data row74 col2\" >0.24%</td>\n",
       "    </tr>\n",
       "    <tr>\n",
       "      <th id=\"T_fecd6_level0_row75\" class=\"row_heading level0 row75\" >primary_cleaner.state.floatbank8_a_air</th>\n",
       "      <td id=\"T_fecd6_row75_col0\" class=\"data row75 col0\" >40</td>\n",
       "      <td id=\"T_fecd6_row75_col1\" class=\"data row75 col1\" >16,860</td>\n",
       "      <td id=\"T_fecd6_row75_col2\" class=\"data row75 col2\" >0.24%</td>\n",
       "    </tr>\n",
       "    <tr>\n",
       "      <th id=\"T_fecd6_level0_row76\" class=\"row_heading level0 row76\" >primary_cleaner.state.floatbank8_d_air</th>\n",
       "      <td id=\"T_fecd6_row76_col0\" class=\"data row76 col0\" >39</td>\n",
       "      <td id=\"T_fecd6_row76_col1\" class=\"data row76 col1\" >16,860</td>\n",
       "      <td id=\"T_fecd6_row76_col2\" class=\"data row76 col2\" >0.23%</td>\n",
       "    </tr>\n",
       "    <tr>\n",
       "      <th id=\"T_fecd6_level0_row77\" class=\"row_heading level0 row77\" >primary_cleaner.state.floatbank8_c_air</th>\n",
       "      <td id=\"T_fecd6_row77_col0\" class=\"data row77 col0\" >38</td>\n",
       "      <td id=\"T_fecd6_row77_col1\" class=\"data row77 col1\" >16,860</td>\n",
       "      <td id=\"T_fecd6_row77_col2\" class=\"data row77 col2\" >0.23%</td>\n",
       "    </tr>\n",
       "    <tr>\n",
       "      <th id=\"T_fecd6_level0_row78\" class=\"row_heading level0 row78\" >primary_cleaner.state.floatbank8_a_level</th>\n",
       "      <td id=\"T_fecd6_row78_col0\" class=\"data row78 col0\" >33</td>\n",
       "      <td id=\"T_fecd6_row78_col1\" class=\"data row78 col1\" >16,860</td>\n",
       "      <td id=\"T_fecd6_row78_col2\" class=\"data row78 col2\" >0.20%</td>\n",
       "    </tr>\n",
       "    <tr>\n",
       "      <th id=\"T_fecd6_level0_row79\" class=\"row_heading level0 row79\" >rougher.calculation.floatbank11_sulfate_to_au_feed</th>\n",
       "      <td id=\"T_fecd6_row79_col0\" class=\"data row79 col0\" >27</td>\n",
       "      <td id=\"T_fecd6_row79_col1\" class=\"data row79 col1\" >16,860</td>\n",
       "      <td id=\"T_fecd6_row79_col2\" class=\"data row79 col2\" >0.16%</td>\n",
       "    </tr>\n",
       "    <tr>\n",
       "      <th id=\"T_fecd6_level0_row80\" class=\"row_heading level0 row80\" >primary_cleaner.state.floatbank8_b_level</th>\n",
       "      <td id=\"T_fecd6_row80_col0\" class=\"data row80 col0\" >27</td>\n",
       "      <td id=\"T_fecd6_row80_col1\" class=\"data row80 col1\" >16,860</td>\n",
       "      <td id=\"T_fecd6_row80_col2\" class=\"data row80 col2\" >0.16%</td>\n",
       "    </tr>\n",
       "    <tr>\n",
       "      <th id=\"T_fecd6_level0_row81\" class=\"row_heading level0 row81\" >primary_cleaner.state.floatbank8_c_level</th>\n",
       "      <td id=\"T_fecd6_row81_col0\" class=\"data row81 col0\" >27</td>\n",
       "      <td id=\"T_fecd6_row81_col1\" class=\"data row81 col1\" >16,860</td>\n",
       "      <td id=\"T_fecd6_row81_col2\" class=\"data row81 col2\" >0.16%</td>\n",
       "    </tr>\n",
       "    <tr>\n",
       "      <th id=\"T_fecd6_level0_row82\" class=\"row_heading level0 row82\" >primary_cleaner.state.floatbank8_d_level</th>\n",
       "      <td id=\"T_fecd6_row82_col0\" class=\"data row82 col0\" >27</td>\n",
       "      <td id=\"T_fecd6_row82_col1\" class=\"data row82 col1\" >16,860</td>\n",
       "      <td id=\"T_fecd6_row82_col2\" class=\"data row82 col2\" >0.16%</td>\n",
       "    </tr>\n",
       "    <tr>\n",
       "      <th id=\"T_fecd6_level0_row83\" class=\"row_heading level0 row83\" >rougher.calculation.sulfate_to_au_concentrate</th>\n",
       "      <td id=\"T_fecd6_row83_col0\" class=\"data row83 col0\" >27</td>\n",
       "      <td id=\"T_fecd6_row83_col1\" class=\"data row83 col1\" >16,860</td>\n",
       "      <td id=\"T_fecd6_row83_col2\" class=\"data row83 col2\" >0.16%</td>\n",
       "    </tr>\n",
       "    <tr>\n",
       "      <th id=\"T_fecd6_level0_row84\" class=\"row_heading level0 row84\" >rougher.calculation.floatbank10_sulfate_to_au_feed</th>\n",
       "      <td id=\"T_fecd6_row84_col0\" class=\"data row84 col0\" >27</td>\n",
       "      <td id=\"T_fecd6_row84_col1\" class=\"data row84 col1\" >16,860</td>\n",
       "      <td id=\"T_fecd6_row84_col2\" class=\"data row84 col2\" >0.16%</td>\n",
       "    </tr>\n",
       "    <tr>\n",
       "      <th id=\"T_fecd6_level0_row85\" class=\"row_heading level0 row85\" >primary_cleaner.input.feed_size</th>\n",
       "      <td id=\"T_fecd6_row85_col0\" class=\"data row85 col0\" >0</td>\n",
       "      <td id=\"T_fecd6_row85_col1\" class=\"data row85 col1\" >16,860</td>\n",
       "      <td id=\"T_fecd6_row85_col2\" class=\"data row85 col2\" >0.00%</td>\n",
       "    </tr>\n",
       "  </tbody>\n",
       "</table>\n"
      ],
      "text/plain": [
       "<pandas.io.formats.style.Styler at 0x12d8bed30>"
      ]
     },
     "execution_count": 14,
     "metadata": {},
     "output_type": "execute_result"
    }
   ],
   "source": [
    "# Valores ausentes conjunto de entrenamiento\n",
    "au_train.stb.missing(style=True)"
   ]
  },
  {
   "cell_type": "code",
   "execution_count": 15,
   "metadata": {
    "scrolled": true
   },
   "outputs": [
    {
     "data": {
      "text/html": [
       "<style type=\"text/css\">\n",
       "</style>\n",
       "<table id=\"T_49f44\">\n",
       "  <thead>\n",
       "    <tr>\n",
       "      <th class=\"blank level0\" >&nbsp;</th>\n",
       "      <th id=\"T_49f44_level0_col0\" class=\"col_heading level0 col0\" >missing</th>\n",
       "      <th id=\"T_49f44_level0_col1\" class=\"col_heading level0 col1\" >total</th>\n",
       "      <th id=\"T_49f44_level0_col2\" class=\"col_heading level0 col2\" >percent</th>\n",
       "    </tr>\n",
       "  </thead>\n",
       "  <tbody>\n",
       "    <tr>\n",
       "      <th id=\"T_49f44_level0_row0\" class=\"row_heading level0 row0\" >rougher.input.floatbank11_xanthate</th>\n",
       "      <td id=\"T_49f44_row0_col0\" class=\"data row0 col0\" >353</td>\n",
       "      <td id=\"T_49f44_row0_col1\" class=\"data row0 col1\" >5,856</td>\n",
       "      <td id=\"T_49f44_row0_col2\" class=\"data row0 col2\" >6.03%</td>\n",
       "    </tr>\n",
       "    <tr>\n",
       "      <th id=\"T_49f44_level0_row1\" class=\"row_heading level0 row1\" >primary_cleaner.input.sulfate</th>\n",
       "      <td id=\"T_49f44_row1_col0\" class=\"data row1 col0\" >302</td>\n",
       "      <td id=\"T_49f44_row1_col1\" class=\"data row1 col1\" >5,856</td>\n",
       "      <td id=\"T_49f44_row1_col2\" class=\"data row1 col2\" >5.16%</td>\n",
       "    </tr>\n",
       "    <tr>\n",
       "      <th id=\"T_49f44_level0_row2\" class=\"row_heading level0 row2\" >primary_cleaner.input.depressant</th>\n",
       "      <td id=\"T_49f44_row2_col0\" class=\"data row2 col0\" >284</td>\n",
       "      <td id=\"T_49f44_row2_col1\" class=\"data row2 col1\" >5,856</td>\n",
       "      <td id=\"T_49f44_row2_col2\" class=\"data row2 col2\" >4.85%</td>\n",
       "    </tr>\n",
       "    <tr>\n",
       "      <th id=\"T_49f44_level0_row3\" class=\"row_heading level0 row3\" >rougher.input.floatbank10_sulfate</th>\n",
       "      <td id=\"T_49f44_row3_col0\" class=\"data row3 col0\" >257</td>\n",
       "      <td id=\"T_49f44_row3_col1\" class=\"data row3 col1\" >5,856</td>\n",
       "      <td id=\"T_49f44_row3_col2\" class=\"data row3 col2\" >4.39%</td>\n",
       "    </tr>\n",
       "    <tr>\n",
       "      <th id=\"T_49f44_level0_row4\" class=\"row_heading level0 row4\" >primary_cleaner.input.xanthate</th>\n",
       "      <td id=\"T_49f44_row4_col0\" class=\"data row4 col0\" >166</td>\n",
       "      <td id=\"T_49f44_row4_col1\" class=\"data row4 col1\" >5,856</td>\n",
       "      <td id=\"T_49f44_row4_col2\" class=\"data row4 col2\" >2.83%</td>\n",
       "    </tr>\n",
       "    <tr>\n",
       "      <th id=\"T_49f44_level0_row5\" class=\"row_heading level0 row5\" >rougher.input.floatbank10_xanthate</th>\n",
       "      <td id=\"T_49f44_row5_col0\" class=\"data row5 col0\" >123</td>\n",
       "      <td id=\"T_49f44_row5_col1\" class=\"data row5 col1\" >5,856</td>\n",
       "      <td id=\"T_49f44_row5_col2\" class=\"data row5 col2\" >2.10%</td>\n",
       "    </tr>\n",
       "    <tr>\n",
       "      <th id=\"T_49f44_level0_row6\" class=\"row_heading level0 row6\" >rougher.input.feed_sol</th>\n",
       "      <td id=\"T_49f44_row6_col0\" class=\"data row6 col0\" >67</td>\n",
       "      <td id=\"T_49f44_row6_col1\" class=\"data row6 col1\" >5,856</td>\n",
       "      <td id=\"T_49f44_row6_col2\" class=\"data row6 col2\" >1.14%</td>\n",
       "    </tr>\n",
       "    <tr>\n",
       "      <th id=\"T_49f44_level0_row7\" class=\"row_heading level0 row7\" >rougher.input.floatbank11_sulfate</th>\n",
       "      <td id=\"T_49f44_row7_col0\" class=\"data row7 col0\" >55</td>\n",
       "      <td id=\"T_49f44_row7_col1\" class=\"data row7 col1\" >5,856</td>\n",
       "      <td id=\"T_49f44_row7_col2\" class=\"data row7 col2\" >0.94%</td>\n",
       "    </tr>\n",
       "    <tr>\n",
       "      <th id=\"T_49f44_level0_row8\" class=\"row_heading level0 row8\" >rougher.input.feed_rate</th>\n",
       "      <td id=\"T_49f44_row8_col0\" class=\"data row8 col0\" >40</td>\n",
       "      <td id=\"T_49f44_row8_col1\" class=\"data row8 col1\" >5,856</td>\n",
       "      <td id=\"T_49f44_row8_col2\" class=\"data row8 col2\" >0.68%</td>\n",
       "    </tr>\n",
       "    <tr>\n",
       "      <th id=\"T_49f44_level0_row9\" class=\"row_heading level0 row9\" >secondary_cleaner.state.floatbank3_a_air</th>\n",
       "      <td id=\"T_49f44_row9_col0\" class=\"data row9 col0\" >34</td>\n",
       "      <td id=\"T_49f44_row9_col1\" class=\"data row9 col1\" >5,856</td>\n",
       "      <td id=\"T_49f44_row9_col2\" class=\"data row9 col2\" >0.58%</td>\n",
       "    </tr>\n",
       "    <tr>\n",
       "      <th id=\"T_49f44_level0_row10\" class=\"row_heading level0 row10\" >secondary_cleaner.state.floatbank2_b_air</th>\n",
       "      <td id=\"T_49f44_row10_col0\" class=\"data row10 col0\" >23</td>\n",
       "      <td id=\"T_49f44_row10_col1\" class=\"data row10 col1\" >5,856</td>\n",
       "      <td id=\"T_49f44_row10_col2\" class=\"data row10 col2\" >0.39%</td>\n",
       "    </tr>\n",
       "    <tr>\n",
       "      <th id=\"T_49f44_level0_row11\" class=\"row_heading level0 row11\" >rougher.input.feed_size</th>\n",
       "      <td id=\"T_49f44_row11_col0\" class=\"data row11 col0\" >22</td>\n",
       "      <td id=\"T_49f44_row11_col1\" class=\"data row11 col1\" >5,856</td>\n",
       "      <td id=\"T_49f44_row11_col2\" class=\"data row11 col2\" >0.38%</td>\n",
       "    </tr>\n",
       "    <tr>\n",
       "      <th id=\"T_49f44_level0_row12\" class=\"row_heading level0 row12\" >secondary_cleaner.state.floatbank2_a_air</th>\n",
       "      <td id=\"T_49f44_row12_col0\" class=\"data row12 col0\" >20</td>\n",
       "      <td id=\"T_49f44_row12_col1\" class=\"data row12 col1\" >5,856</td>\n",
       "      <td id=\"T_49f44_row12_col2\" class=\"data row12 col2\" >0.34%</td>\n",
       "    </tr>\n",
       "    <tr>\n",
       "      <th id=\"T_49f44_level0_row13\" class=\"row_heading level0 row13\" >rougher.state.floatbank10_f_air</th>\n",
       "      <td id=\"T_49f44_row13_col0\" class=\"data row13 col0\" >17</td>\n",
       "      <td id=\"T_49f44_row13_col1\" class=\"data row13 col1\" >5,856</td>\n",
       "      <td id=\"T_49f44_row13_col2\" class=\"data row13 col2\" >0.29%</td>\n",
       "    </tr>\n",
       "    <tr>\n",
       "      <th id=\"T_49f44_level0_row14\" class=\"row_heading level0 row14\" >rougher.state.floatbank10_e_air</th>\n",
       "      <td id=\"T_49f44_row14_col0\" class=\"data row14 col0\" >17</td>\n",
       "      <td id=\"T_49f44_row14_col1\" class=\"data row14 col1\" >5,856</td>\n",
       "      <td id=\"T_49f44_row14_col2\" class=\"data row14 col2\" >0.29%</td>\n",
       "    </tr>\n",
       "    <tr>\n",
       "      <th id=\"T_49f44_level0_row15\" class=\"row_heading level0 row15\" >rougher.state.floatbank10_d_air</th>\n",
       "      <td id=\"T_49f44_row15_col0\" class=\"data row15 col0\" >17</td>\n",
       "      <td id=\"T_49f44_row15_col1\" class=\"data row15 col1\" >5,856</td>\n",
       "      <td id=\"T_49f44_row15_col2\" class=\"data row15 col2\" >0.29%</td>\n",
       "    </tr>\n",
       "    <tr>\n",
       "      <th id=\"T_49f44_level0_row16\" class=\"row_heading level0 row16\" >rougher.state.floatbank10_b_air</th>\n",
       "      <td id=\"T_49f44_row16_col0\" class=\"data row16 col0\" >17</td>\n",
       "      <td id=\"T_49f44_row16_col1\" class=\"data row16 col1\" >5,856</td>\n",
       "      <td id=\"T_49f44_row16_col2\" class=\"data row16 col2\" >0.29%</td>\n",
       "    </tr>\n",
       "    <tr>\n",
       "      <th id=\"T_49f44_level0_row17\" class=\"row_heading level0 row17\" >rougher.state.floatbank10_a_air</th>\n",
       "      <td id=\"T_49f44_row17_col0\" class=\"data row17 col0\" >17</td>\n",
       "      <td id=\"T_49f44_row17_col1\" class=\"data row17 col1\" >5,856</td>\n",
       "      <td id=\"T_49f44_row17_col2\" class=\"data row17 col2\" >0.29%</td>\n",
       "    </tr>\n",
       "    <tr>\n",
       "      <th id=\"T_49f44_level0_row18\" class=\"row_heading level0 row18\" >rougher.state.floatbank10_c_air</th>\n",
       "      <td id=\"T_49f44_row18_col0\" class=\"data row18 col0\" >17</td>\n",
       "      <td id=\"T_49f44_row18_col1\" class=\"data row18 col1\" >5,856</td>\n",
       "      <td id=\"T_49f44_row18_col2\" class=\"data row18 col2\" >0.29%</td>\n",
       "    </tr>\n",
       "    <tr>\n",
       "      <th id=\"T_49f44_level0_row19\" class=\"row_heading level0 row19\" >rougher.input.feed_au</th>\n",
       "      <td id=\"T_49f44_row19_col0\" class=\"data row19 col0\" >16</td>\n",
       "      <td id=\"T_49f44_row19_col1\" class=\"data row19 col1\" >5,856</td>\n",
       "      <td id=\"T_49f44_row19_col2\" class=\"data row19 col2\" >0.27%</td>\n",
       "    </tr>\n",
       "    <tr>\n",
       "      <th id=\"T_49f44_level0_row20\" class=\"row_heading level0 row20\" >rougher.input.feed_pb</th>\n",
       "      <td id=\"T_49f44_row20_col0\" class=\"data row20 col0\" >16</td>\n",
       "      <td id=\"T_49f44_row20_col1\" class=\"data row20 col1\" >5,856</td>\n",
       "      <td id=\"T_49f44_row20_col2\" class=\"data row20 col2\" >0.27%</td>\n",
       "    </tr>\n",
       "    <tr>\n",
       "      <th id=\"T_49f44_level0_row21\" class=\"row_heading level0 row21\" >secondary_cleaner.state.floatbank6_a_air</th>\n",
       "      <td id=\"T_49f44_row21_col0\" class=\"data row21 col0\" >16</td>\n",
       "      <td id=\"T_49f44_row21_col1\" class=\"data row21 col1\" >5,856</td>\n",
       "      <td id=\"T_49f44_row21_col2\" class=\"data row21 col2\" >0.27%</td>\n",
       "    </tr>\n",
       "    <tr>\n",
       "      <th id=\"T_49f44_level0_row22\" class=\"row_heading level0 row22\" >secondary_cleaner.state.floatbank5_b_level</th>\n",
       "      <td id=\"T_49f44_row22_col0\" class=\"data row22 col0\" >16</td>\n",
       "      <td id=\"T_49f44_row22_col1\" class=\"data row22 col1\" >5,856</td>\n",
       "      <td id=\"T_49f44_row22_col2\" class=\"data row22 col2\" >0.27%</td>\n",
       "    </tr>\n",
       "    <tr>\n",
       "      <th id=\"T_49f44_level0_row23\" class=\"row_heading level0 row23\" >secondary_cleaner.state.floatbank5_b_air</th>\n",
       "      <td id=\"T_49f44_row23_col0\" class=\"data row23 col0\" >16</td>\n",
       "      <td id=\"T_49f44_row23_col1\" class=\"data row23 col1\" >5,856</td>\n",
       "      <td id=\"T_49f44_row23_col2\" class=\"data row23 col2\" >0.27%</td>\n",
       "    </tr>\n",
       "    <tr>\n",
       "      <th id=\"T_49f44_level0_row24\" class=\"row_heading level0 row24\" >secondary_cleaner.state.floatbank5_a_level</th>\n",
       "      <td id=\"T_49f44_row24_col0\" class=\"data row24 col0\" >16</td>\n",
       "      <td id=\"T_49f44_row24_col1\" class=\"data row24 col1\" >5,856</td>\n",
       "      <td id=\"T_49f44_row24_col2\" class=\"data row24 col2\" >0.27%</td>\n",
       "    </tr>\n",
       "    <tr>\n",
       "      <th id=\"T_49f44_level0_row25\" class=\"row_heading level0 row25\" >secondary_cleaner.state.floatbank5_a_air</th>\n",
       "      <td id=\"T_49f44_row25_col0\" class=\"data row25 col0\" >16</td>\n",
       "      <td id=\"T_49f44_row25_col1\" class=\"data row25 col1\" >5,856</td>\n",
       "      <td id=\"T_49f44_row25_col2\" class=\"data row25 col2\" >0.27%</td>\n",
       "    </tr>\n",
       "    <tr>\n",
       "      <th id=\"T_49f44_level0_row26\" class=\"row_heading level0 row26\" >secondary_cleaner.state.floatbank4_b_level</th>\n",
       "      <td id=\"T_49f44_row26_col0\" class=\"data row26 col0\" >16</td>\n",
       "      <td id=\"T_49f44_row26_col1\" class=\"data row26 col1\" >5,856</td>\n",
       "      <td id=\"T_49f44_row26_col2\" class=\"data row26 col2\" >0.27%</td>\n",
       "    </tr>\n",
       "    <tr>\n",
       "      <th id=\"T_49f44_level0_row27\" class=\"row_heading level0 row27\" >secondary_cleaner.state.floatbank4_b_air</th>\n",
       "      <td id=\"T_49f44_row27_col0\" class=\"data row27 col0\" >16</td>\n",
       "      <td id=\"T_49f44_row27_col1\" class=\"data row27 col1\" >5,856</td>\n",
       "      <td id=\"T_49f44_row27_col2\" class=\"data row27 col2\" >0.27%</td>\n",
       "    </tr>\n",
       "    <tr>\n",
       "      <th id=\"T_49f44_level0_row28\" class=\"row_heading level0 row28\" >secondary_cleaner.state.floatbank4_a_level</th>\n",
       "      <td id=\"T_49f44_row28_col0\" class=\"data row28 col0\" >16</td>\n",
       "      <td id=\"T_49f44_row28_col1\" class=\"data row28 col1\" >5,856</td>\n",
       "      <td id=\"T_49f44_row28_col2\" class=\"data row28 col2\" >0.27%</td>\n",
       "    </tr>\n",
       "    <tr>\n",
       "      <th id=\"T_49f44_level0_row29\" class=\"row_heading level0 row29\" >secondary_cleaner.state.floatbank4_a_air</th>\n",
       "      <td id=\"T_49f44_row29_col0\" class=\"data row29 col0\" >16</td>\n",
       "      <td id=\"T_49f44_row29_col1\" class=\"data row29 col1\" >5,856</td>\n",
       "      <td id=\"T_49f44_row29_col2\" class=\"data row29 col2\" >0.27%</td>\n",
       "    </tr>\n",
       "    <tr>\n",
       "      <th id=\"T_49f44_level0_row30\" class=\"row_heading level0 row30\" >secondary_cleaner.state.floatbank3_b_level</th>\n",
       "      <td id=\"T_49f44_row30_col0\" class=\"data row30 col0\" >16</td>\n",
       "      <td id=\"T_49f44_row30_col1\" class=\"data row30 col1\" >5,856</td>\n",
       "      <td id=\"T_49f44_row30_col2\" class=\"data row30 col2\" >0.27%</td>\n",
       "    </tr>\n",
       "    <tr>\n",
       "      <th id=\"T_49f44_level0_row31\" class=\"row_heading level0 row31\" >secondary_cleaner.state.floatbank3_b_air</th>\n",
       "      <td id=\"T_49f44_row31_col0\" class=\"data row31 col0\" >16</td>\n",
       "      <td id=\"T_49f44_row31_col1\" class=\"data row31 col1\" >5,856</td>\n",
       "      <td id=\"T_49f44_row31_col2\" class=\"data row31 col2\" >0.27%</td>\n",
       "    </tr>\n",
       "    <tr>\n",
       "      <th id=\"T_49f44_level0_row32\" class=\"row_heading level0 row32\" >secondary_cleaner.state.floatbank3_a_level</th>\n",
       "      <td id=\"T_49f44_row32_col0\" class=\"data row32 col0\" >16</td>\n",
       "      <td id=\"T_49f44_row32_col1\" class=\"data row32 col1\" >5,856</td>\n",
       "      <td id=\"T_49f44_row32_col2\" class=\"data row32 col2\" >0.27%</td>\n",
       "    </tr>\n",
       "    <tr>\n",
       "      <th id=\"T_49f44_level0_row33\" class=\"row_heading level0 row33\" >secondary_cleaner.state.floatbank2_b_level</th>\n",
       "      <td id=\"T_49f44_row33_col0\" class=\"data row33 col0\" >16</td>\n",
       "      <td id=\"T_49f44_row33_col1\" class=\"data row33 col1\" >5,856</td>\n",
       "      <td id=\"T_49f44_row33_col2\" class=\"data row33 col2\" >0.27%</td>\n",
       "    </tr>\n",
       "    <tr>\n",
       "      <th id=\"T_49f44_level0_row34\" class=\"row_heading level0 row34\" >primary_cleaner.state.floatbank8_a_air</th>\n",
       "      <td id=\"T_49f44_row34_col0\" class=\"data row34 col0\" >16</td>\n",
       "      <td id=\"T_49f44_row34_col1\" class=\"data row34 col1\" >5,856</td>\n",
       "      <td id=\"T_49f44_row34_col2\" class=\"data row34 col2\" >0.27%</td>\n",
       "    </tr>\n",
       "    <tr>\n",
       "      <th id=\"T_49f44_level0_row35\" class=\"row_heading level0 row35\" >secondary_cleaner.state.floatbank2_a_level</th>\n",
       "      <td id=\"T_49f44_row35_col0\" class=\"data row35 col0\" >16</td>\n",
       "      <td id=\"T_49f44_row35_col1\" class=\"data row35 col1\" >5,856</td>\n",
       "      <td id=\"T_49f44_row35_col2\" class=\"data row35 col2\" >0.27%</td>\n",
       "    </tr>\n",
       "    <tr>\n",
       "      <th id=\"T_49f44_level0_row36\" class=\"row_heading level0 row36\" >primary_cleaner.state.floatbank8_a_level</th>\n",
       "      <td id=\"T_49f44_row36_col0\" class=\"data row36 col0\" >16</td>\n",
       "      <td id=\"T_49f44_row36_col1\" class=\"data row36 col1\" >5,856</td>\n",
       "      <td id=\"T_49f44_row36_col2\" class=\"data row36 col2\" >0.27%</td>\n",
       "    </tr>\n",
       "    <tr>\n",
       "      <th id=\"T_49f44_level0_row37\" class=\"row_heading level0 row37\" >rougher.state.floatbank10_f_level</th>\n",
       "      <td id=\"T_49f44_row37_col0\" class=\"data row37 col0\" >16</td>\n",
       "      <td id=\"T_49f44_row37_col1\" class=\"data row37 col1\" >5,856</td>\n",
       "      <td id=\"T_49f44_row37_col2\" class=\"data row37 col2\" >0.27%</td>\n",
       "    </tr>\n",
       "    <tr>\n",
       "      <th id=\"T_49f44_level0_row38\" class=\"row_heading level0 row38\" >primary_cleaner.state.floatbank8_b_air</th>\n",
       "      <td id=\"T_49f44_row38_col0\" class=\"data row38 col0\" >16</td>\n",
       "      <td id=\"T_49f44_row38_col1\" class=\"data row38 col1\" >5,856</td>\n",
       "      <td id=\"T_49f44_row38_col2\" class=\"data row38 col2\" >0.27%</td>\n",
       "    </tr>\n",
       "    <tr>\n",
       "      <th id=\"T_49f44_level0_row39\" class=\"row_heading level0 row39\" >rougher.state.floatbank10_e_level</th>\n",
       "      <td id=\"T_49f44_row39_col0\" class=\"data row39 col0\" >16</td>\n",
       "      <td id=\"T_49f44_row39_col1\" class=\"data row39 col1\" >5,856</td>\n",
       "      <td id=\"T_49f44_row39_col2\" class=\"data row39 col2\" >0.27%</td>\n",
       "    </tr>\n",
       "    <tr>\n",
       "      <th id=\"T_49f44_level0_row40\" class=\"row_heading level0 row40\" >primary_cleaner.state.floatbank8_b_level</th>\n",
       "      <td id=\"T_49f44_row40_col0\" class=\"data row40 col0\" >16</td>\n",
       "      <td id=\"T_49f44_row40_col1\" class=\"data row40 col1\" >5,856</td>\n",
       "      <td id=\"T_49f44_row40_col2\" class=\"data row40 col2\" >0.27%</td>\n",
       "    </tr>\n",
       "    <tr>\n",
       "      <th id=\"T_49f44_level0_row41\" class=\"row_heading level0 row41\" >rougher.state.floatbank10_d_level</th>\n",
       "      <td id=\"T_49f44_row41_col0\" class=\"data row41 col0\" >16</td>\n",
       "      <td id=\"T_49f44_row41_col1\" class=\"data row41 col1\" >5,856</td>\n",
       "      <td id=\"T_49f44_row41_col2\" class=\"data row41 col2\" >0.27%</td>\n",
       "    </tr>\n",
       "    <tr>\n",
       "      <th id=\"T_49f44_level0_row42\" class=\"row_heading level0 row42\" >primary_cleaner.state.floatbank8_c_air</th>\n",
       "      <td id=\"T_49f44_row42_col0\" class=\"data row42 col0\" >16</td>\n",
       "      <td id=\"T_49f44_row42_col1\" class=\"data row42 col1\" >5,856</td>\n",
       "      <td id=\"T_49f44_row42_col2\" class=\"data row42 col2\" >0.27%</td>\n",
       "    </tr>\n",
       "    <tr>\n",
       "      <th id=\"T_49f44_level0_row43\" class=\"row_heading level0 row43\" >rougher.state.floatbank10_c_level</th>\n",
       "      <td id=\"T_49f44_row43_col0\" class=\"data row43 col0\" >16</td>\n",
       "      <td id=\"T_49f44_row43_col1\" class=\"data row43 col1\" >5,856</td>\n",
       "      <td id=\"T_49f44_row43_col2\" class=\"data row43 col2\" >0.27%</td>\n",
       "    </tr>\n",
       "    <tr>\n",
       "      <th id=\"T_49f44_level0_row44\" class=\"row_heading level0 row44\" >primary_cleaner.state.floatbank8_c_level</th>\n",
       "      <td id=\"T_49f44_row44_col0\" class=\"data row44 col0\" >16</td>\n",
       "      <td id=\"T_49f44_row44_col1\" class=\"data row44 col1\" >5,856</td>\n",
       "      <td id=\"T_49f44_row44_col2\" class=\"data row44 col2\" >0.27%</td>\n",
       "    </tr>\n",
       "    <tr>\n",
       "      <th id=\"T_49f44_level0_row45\" class=\"row_heading level0 row45\" >rougher.state.floatbank10_b_level</th>\n",
       "      <td id=\"T_49f44_row45_col0\" class=\"data row45 col0\" >16</td>\n",
       "      <td id=\"T_49f44_row45_col1\" class=\"data row45 col1\" >5,856</td>\n",
       "      <td id=\"T_49f44_row45_col2\" class=\"data row45 col2\" >0.27%</td>\n",
       "    </tr>\n",
       "    <tr>\n",
       "      <th id=\"T_49f44_level0_row46\" class=\"row_heading level0 row46\" >primary_cleaner.state.floatbank8_d_air</th>\n",
       "      <td id=\"T_49f44_row46_col0\" class=\"data row46 col0\" >16</td>\n",
       "      <td id=\"T_49f44_row46_col1\" class=\"data row46 col1\" >5,856</td>\n",
       "      <td id=\"T_49f44_row46_col2\" class=\"data row46 col2\" >0.27%</td>\n",
       "    </tr>\n",
       "    <tr>\n",
       "      <th id=\"T_49f44_level0_row47\" class=\"row_heading level0 row47\" >rougher.state.floatbank10_a_level</th>\n",
       "      <td id=\"T_49f44_row47_col0\" class=\"data row47 col0\" >16</td>\n",
       "      <td id=\"T_49f44_row47_col1\" class=\"data row47 col1\" >5,856</td>\n",
       "      <td id=\"T_49f44_row47_col2\" class=\"data row47 col2\" >0.27%</td>\n",
       "    </tr>\n",
       "    <tr>\n",
       "      <th id=\"T_49f44_level0_row48\" class=\"row_heading level0 row48\" >primary_cleaner.state.floatbank8_d_level</th>\n",
       "      <td id=\"T_49f44_row48_col0\" class=\"data row48 col0\" >16</td>\n",
       "      <td id=\"T_49f44_row48_col1\" class=\"data row48 col1\" >5,856</td>\n",
       "      <td id=\"T_49f44_row48_col2\" class=\"data row48 col2\" >0.27%</td>\n",
       "    </tr>\n",
       "    <tr>\n",
       "      <th id=\"T_49f44_level0_row49\" class=\"row_heading level0 row49\" >rougher.input.feed_ag</th>\n",
       "      <td id=\"T_49f44_row49_col0\" class=\"data row49 col0\" >16</td>\n",
       "      <td id=\"T_49f44_row49_col1\" class=\"data row49 col1\" >5,856</td>\n",
       "      <td id=\"T_49f44_row49_col2\" class=\"data row49 col2\" >0.27%</td>\n",
       "    </tr>\n",
       "    <tr>\n",
       "      <th id=\"T_49f44_level0_row50\" class=\"row_heading level0 row50\" >secondary_cleaner.state.floatbank6_a_level</th>\n",
       "      <td id=\"T_49f44_row50_col0\" class=\"data row50 col0\" >16</td>\n",
       "      <td id=\"T_49f44_row50_col1\" class=\"data row50 col1\" >5,856</td>\n",
       "      <td id=\"T_49f44_row50_col2\" class=\"data row50 col2\" >0.27%</td>\n",
       "    </tr>\n",
       "    <tr>\n",
       "      <th id=\"T_49f44_level0_row51\" class=\"row_heading level0 row51\" >primary_cleaner.input.feed_size</th>\n",
       "      <td id=\"T_49f44_row51_col0\" class=\"data row51 col0\" >0</td>\n",
       "      <td id=\"T_49f44_row51_col1\" class=\"data row51 col1\" >5,856</td>\n",
       "      <td id=\"T_49f44_row51_col2\" class=\"data row51 col2\" >0.00%</td>\n",
       "    </tr>\n",
       "  </tbody>\n",
       "</table>\n"
      ],
      "text/plain": [
       "<pandas.io.formats.style.Styler at 0x12c184670>"
      ]
     },
     "execution_count": 15,
     "metadata": {},
     "output_type": "execute_result"
    }
   ],
   "source": [
    "# # Valores ausentes conjunto de prueba\n",
    "au_test.stb.missing(style=True)"
   ]
  },
  {
   "cell_type": "code",
   "execution_count": 16,
   "metadata": {},
   "outputs": [
    {
     "data": {
      "text/html": [
       "<style type=\"text/css\">\n",
       "</style>\n",
       "<table id=\"T_eab6e\">\n",
       "  <thead>\n",
       "    <tr>\n",
       "      <th class=\"blank level0\" >&nbsp;</th>\n",
       "      <th id=\"T_eab6e_level0_col0\" class=\"col_heading level0 col0\" >missing</th>\n",
       "      <th id=\"T_eab6e_level0_col1\" class=\"col_heading level0 col1\" >total</th>\n",
       "      <th id=\"T_eab6e_level0_col2\" class=\"col_heading level0 col2\" >percent</th>\n",
       "    </tr>\n",
       "  </thead>\n",
       "  <tbody>\n",
       "    <tr>\n",
       "      <th id=\"T_eab6e_level0_row0\" class=\"row_heading level0 row0\" >rougher.output.recovery</th>\n",
       "      <td id=\"T_eab6e_row0_col0\" class=\"data row0 col0\" >3,119</td>\n",
       "      <td id=\"T_eab6e_row0_col1\" class=\"data row0 col1\" >22,716</td>\n",
       "      <td id=\"T_eab6e_row0_col2\" class=\"data row0 col2\" >13.73%</td>\n",
       "    </tr>\n",
       "    <tr>\n",
       "      <th id=\"T_eab6e_level0_row1\" class=\"row_heading level0 row1\" >rougher.output.tail_ag</th>\n",
       "      <td id=\"T_eab6e_row1_col0\" class=\"data row1 col0\" >2,737</td>\n",
       "      <td id=\"T_eab6e_row1_col1\" class=\"data row1 col1\" >22,716</td>\n",
       "      <td id=\"T_eab6e_row1_col2\" class=\"data row1 col2\" >12.05%</td>\n",
       "    </tr>\n",
       "    <tr>\n",
       "      <th id=\"T_eab6e_level0_row2\" class=\"row_heading level0 row2\" >rougher.output.tail_sol</th>\n",
       "      <td id=\"T_eab6e_row2_col0\" class=\"data row2 col0\" >2,736</td>\n",
       "      <td id=\"T_eab6e_row2_col1\" class=\"data row2 col1\" >22,716</td>\n",
       "      <td id=\"T_eab6e_row2_col2\" class=\"data row2 col2\" >12.04%</td>\n",
       "    </tr>\n",
       "    <tr>\n",
       "      <th id=\"T_eab6e_level0_row3\" class=\"row_heading level0 row3\" >rougher.output.tail_au</th>\n",
       "      <td id=\"T_eab6e_row3_col0\" class=\"data row3 col0\" >2,736</td>\n",
       "      <td id=\"T_eab6e_row3_col1\" class=\"data row3 col1\" >22,716</td>\n",
       "      <td id=\"T_eab6e_row3_col2\" class=\"data row3 col2\" >12.04%</td>\n",
       "    </tr>\n",
       "    <tr>\n",
       "      <th id=\"T_eab6e_level0_row4\" class=\"row_heading level0 row4\" >rougher.input.floatbank11_xanthate</th>\n",
       "      <td id=\"T_eab6e_row4_col0\" class=\"data row4 col0\" >2,257</td>\n",
       "      <td id=\"T_eab6e_row4_col1\" class=\"data row4 col1\" >22,716</td>\n",
       "      <td id=\"T_eab6e_row4_col2\" class=\"data row4 col2\" >9.94%</td>\n",
       "    </tr>\n",
       "    <tr>\n",
       "      <th id=\"T_eab6e_level0_row5\" class=\"row_heading level0 row5\" >secondary_cleaner.output.tail_sol</th>\n",
       "      <td id=\"T_eab6e_row5_col0\" class=\"data row5 col0\" >2,215</td>\n",
       "      <td id=\"T_eab6e_row5_col1\" class=\"data row5 col1\" >22,716</td>\n",
       "      <td id=\"T_eab6e_row5_col2\" class=\"data row5 col2\" >9.75%</td>\n",
       "    </tr>\n",
       "    <tr>\n",
       "      <th id=\"T_eab6e_level0_row6\" class=\"row_heading level0 row6\" >final.output.recovery</th>\n",
       "      <td id=\"T_eab6e_row6_col0\" class=\"data row6 col0\" >1,963</td>\n",
       "      <td id=\"T_eab6e_row6_col1\" class=\"data row6 col1\" >22,716</td>\n",
       "      <td id=\"T_eab6e_row6_col2\" class=\"data row6 col2\" >8.64%</td>\n",
       "    </tr>\n",
       "    <tr>\n",
       "      <th id=\"T_eab6e_level0_row7\" class=\"row_heading level0 row7\" >rougher.calculation.au_pb_ratio</th>\n",
       "      <td id=\"T_eab6e_row7_col0\" class=\"data row7 col0\" >1,627</td>\n",
       "      <td id=\"T_eab6e_row7_col1\" class=\"data row7 col1\" >22,716</td>\n",
       "      <td id=\"T_eab6e_row7_col2\" class=\"data row7 col2\" >7.16%</td>\n",
       "    </tr>\n",
       "    <tr>\n",
       "      <th id=\"T_eab6e_level0_row8\" class=\"row_heading level0 row8\" >primary_cleaner.input.sulfate</th>\n",
       "      <td id=\"T_eab6e_row8_col0\" class=\"data row8 col0\" >1,609</td>\n",
       "      <td id=\"T_eab6e_row8_col1\" class=\"data row8 col1\" >22,716</td>\n",
       "      <td id=\"T_eab6e_row8_col2\" class=\"data row8 col2\" >7.08%</td>\n",
       "    </tr>\n",
       "    <tr>\n",
       "      <th id=\"T_eab6e_level0_row9\" class=\"row_heading level0 row9\" >primary_cleaner.input.depressant</th>\n",
       "      <td id=\"T_eab6e_row9_col0\" class=\"data row9 col0\" >1,546</td>\n",
       "      <td id=\"T_eab6e_row9_col1\" class=\"data row9 col1\" >22,716</td>\n",
       "      <td id=\"T_eab6e_row9_col2\" class=\"data row9 col2\" >6.81%</td>\n",
       "    </tr>\n",
       "    <tr>\n",
       "      <th id=\"T_eab6e_level0_row10\" class=\"row_heading level0 row10\" >rougher.input.floatbank10_sulfate</th>\n",
       "      <td id=\"T_eab6e_row10_col0\" class=\"data row10 col0\" >1,301</td>\n",
       "      <td id=\"T_eab6e_row10_col1\" class=\"data row10 col1\" >22,716</td>\n",
       "      <td id=\"T_eab6e_row10_col2\" class=\"data row10 col2\" >5.73%</td>\n",
       "    </tr>\n",
       "    <tr>\n",
       "      <th id=\"T_eab6e_level0_row11\" class=\"row_heading level0 row11\" >primary_cleaner.input.xanthate</th>\n",
       "      <td id=\"T_eab6e_row11_col0\" class=\"data row11 col0\" >1,151</td>\n",
       "      <td id=\"T_eab6e_row11_col1\" class=\"data row11 col1\" >22,716</td>\n",
       "      <td id=\"T_eab6e_row11_col2\" class=\"data row11 col2\" >5.07%</td>\n",
       "    </tr>\n",
       "    <tr>\n",
       "      <th id=\"T_eab6e_level0_row12\" class=\"row_heading level0 row12\" >primary_cleaner.output.concentrate_sol</th>\n",
       "      <td id=\"T_eab6e_row12_col0\" class=\"data row12 col0\" >798</td>\n",
       "      <td id=\"T_eab6e_row12_col1\" class=\"data row12 col1\" >22,716</td>\n",
       "      <td id=\"T_eab6e_row12_col2\" class=\"data row12 col2\" >3.51%</td>\n",
       "    </tr>\n",
       "    <tr>\n",
       "      <th id=\"T_eab6e_level0_row13\" class=\"row_heading level0 row13\" >rougher.input.floatbank11_sulfate</th>\n",
       "      <td id=\"T_eab6e_row13_col0\" class=\"data row13 col0\" >678</td>\n",
       "      <td id=\"T_eab6e_row13_col1\" class=\"data row13 col1\" >22,716</td>\n",
       "      <td id=\"T_eab6e_row13_col2\" class=\"data row13 col2\" >2.98%</td>\n",
       "    </tr>\n",
       "    <tr>\n",
       "      <th id=\"T_eab6e_level0_row14\" class=\"row_heading level0 row14\" >rougher.state.floatbank10_e_air</th>\n",
       "      <td id=\"T_eab6e_row14_col0\" class=\"data row14 col0\" >620</td>\n",
       "      <td id=\"T_eab6e_row14_col1\" class=\"data row14 col1\" >22,716</td>\n",
       "      <td id=\"T_eab6e_row14_col2\" class=\"data row14 col2\" >2.73%</td>\n",
       "    </tr>\n",
       "    <tr>\n",
       "      <th id=\"T_eab6e_level0_row15\" class=\"row_heading level0 row15\" >rougher.input.feed_rate</th>\n",
       "      <td id=\"T_eab6e_row15_col0\" class=\"data row15 col0\" >553</td>\n",
       "      <td id=\"T_eab6e_row15_col1\" class=\"data row15 col1\" >22,716</td>\n",
       "      <td id=\"T_eab6e_row15_col2\" class=\"data row15 col2\" >2.43%</td>\n",
       "    </tr>\n",
       "    <tr>\n",
       "      <th id=\"T_eab6e_level0_row16\" class=\"row_heading level0 row16\" >rougher.input.floatbank10_xanthate</th>\n",
       "      <td id=\"T_eab6e_row16_col0\" class=\"data row16 col0\" >469</td>\n",
       "      <td id=\"T_eab6e_row16_col1\" class=\"data row16 col1\" >22,716</td>\n",
       "      <td id=\"T_eab6e_row16_col2\" class=\"data row16 col2\" >2.06%</td>\n",
       "    </tr>\n",
       "    <tr>\n",
       "      <th id=\"T_eab6e_level0_row17\" class=\"row_heading level0 row17\" >primary_cleaner.output.concentrate_pb</th>\n",
       "      <td id=\"T_eab6e_row17_col0\" class=\"data row17 col0\" >448</td>\n",
       "      <td id=\"T_eab6e_row17_col1\" class=\"data row17 col1\" >22,716</td>\n",
       "      <td id=\"T_eab6e_row17_col2\" class=\"data row17 col2\" >1.97%</td>\n",
       "    </tr>\n",
       "    <tr>\n",
       "      <th id=\"T_eab6e_level0_row18\" class=\"row_heading level0 row18\" >rougher.input.feed_size</th>\n",
       "      <td id=\"T_eab6e_row18_col0\" class=\"data row18 col0\" >439</td>\n",
       "      <td id=\"T_eab6e_row18_col1\" class=\"data row18 col1\" >22,716</td>\n",
       "      <td id=\"T_eab6e_row18_col2\" class=\"data row18 col2\" >1.93%</td>\n",
       "    </tr>\n",
       "    <tr>\n",
       "      <th id=\"T_eab6e_level0_row19\" class=\"row_heading level0 row19\" >final.output.concentrate_sol</th>\n",
       "      <td id=\"T_eab6e_row19_col0\" class=\"data row19 col0\" >385</td>\n",
       "      <td id=\"T_eab6e_row19_col1\" class=\"data row19 col1\" >22,716</td>\n",
       "      <td id=\"T_eab6e_row19_col2\" class=\"data row19 col2\" >1.69%</td>\n",
       "    </tr>\n",
       "    <tr>\n",
       "      <th id=\"T_eab6e_level0_row20\" class=\"row_heading level0 row20\" >secondary_cleaner.state.floatbank2_a_air</th>\n",
       "      <td id=\"T_eab6e_row20_col0\" class=\"data row20 col0\" >383</td>\n",
       "      <td id=\"T_eab6e_row20_col1\" class=\"data row20 col1\" >22,716</td>\n",
       "      <td id=\"T_eab6e_row20_col2\" class=\"data row20 col2\" >1.69%</td>\n",
       "    </tr>\n",
       "    <tr>\n",
       "      <th id=\"T_eab6e_level0_row21\" class=\"row_heading level0 row21\" >rougher.input.feed_sol</th>\n",
       "      <td id=\"T_eab6e_row21_col0\" class=\"data row21 col0\" >359</td>\n",
       "      <td id=\"T_eab6e_row21_col1\" class=\"data row21 col1\" >22,716</td>\n",
       "      <td id=\"T_eab6e_row21_col2\" class=\"data row21 col2\" >1.58%</td>\n",
       "    </tr>\n",
       "    <tr>\n",
       "      <th id=\"T_eab6e_level0_row22\" class=\"row_heading level0 row22\" >primary_cleaner.output.tail_sol</th>\n",
       "      <td id=\"T_eab6e_row22_col0\" class=\"data row22 col0\" >351</td>\n",
       "      <td id=\"T_eab6e_row22_col1\" class=\"data row22 col1\" >22,716</td>\n",
       "      <td id=\"T_eab6e_row22_col2\" class=\"data row22 col2\" >1.55%</td>\n",
       "    </tr>\n",
       "    <tr>\n",
       "      <th id=\"T_eab6e_level0_row23\" class=\"row_heading level0 row23\" >final.output.tail_sol</th>\n",
       "      <td id=\"T_eab6e_row23_col0\" class=\"data row23 col0\" >271</td>\n",
       "      <td id=\"T_eab6e_row23_col1\" class=\"data row23 col1\" >22,716</td>\n",
       "      <td id=\"T_eab6e_row23_col2\" class=\"data row23 col2\" >1.19%</td>\n",
       "    </tr>\n",
       "    <tr>\n",
       "      <th id=\"T_eab6e_level0_row24\" class=\"row_heading level0 row24\" >rougher.input.feed_pb</th>\n",
       "      <td id=\"T_eab6e_row24_col0\" class=\"data row24 col0\" >244</td>\n",
       "      <td id=\"T_eab6e_row24_col1\" class=\"data row24 col1\" >22,716</td>\n",
       "      <td id=\"T_eab6e_row24_col2\" class=\"data row24 col2\" >1.07%</td>\n",
       "    </tr>\n",
       "    <tr>\n",
       "      <th id=\"T_eab6e_level0_row25\" class=\"row_heading level0 row25\" >final.output.tail_pb</th>\n",
       "      <td id=\"T_eab6e_row25_col0\" class=\"data row25 col0\" >200</td>\n",
       "      <td id=\"T_eab6e_row25_col1\" class=\"data row25 col1\" >22,716</td>\n",
       "      <td id=\"T_eab6e_row25_col2\" class=\"data row25 col2\" >0.88%</td>\n",
       "    </tr>\n",
       "    <tr>\n",
       "      <th id=\"T_eab6e_level0_row26\" class=\"row_heading level0 row26\" >rougher.output.concentrate_sol</th>\n",
       "      <td id=\"T_eab6e_row26_col0\" class=\"data row26 col0\" >190</td>\n",
       "      <td id=\"T_eab6e_row26_col1\" class=\"data row26 col1\" >22,716</td>\n",
       "      <td id=\"T_eab6e_row26_col2\" class=\"data row26 col2\" >0.84%</td>\n",
       "    </tr>\n",
       "    <tr>\n",
       "      <th id=\"T_eab6e_level0_row27\" class=\"row_heading level0 row27\" >secondary_cleaner.state.floatbank2_b_air</th>\n",
       "      <td id=\"T_eab6e_row27_col0\" class=\"data row27 col0\" >178</td>\n",
       "      <td id=\"T_eab6e_row27_col1\" class=\"data row27 col1\" >22,716</td>\n",
       "      <td id=\"T_eab6e_row27_col2\" class=\"data row27 col2\" >0.78%</td>\n",
       "    </tr>\n",
       "    <tr>\n",
       "      <th id=\"T_eab6e_level0_row28\" class=\"row_heading level0 row28\" >secondary_cleaner.state.floatbank4_a_air</th>\n",
       "      <td id=\"T_eab6e_row28_col0\" class=\"data row28 col0\" >145</td>\n",
       "      <td id=\"T_eab6e_row28_col1\" class=\"data row28 col1\" >22,716</td>\n",
       "      <td id=\"T_eab6e_row28_col2\" class=\"data row28 col2\" >0.64%</td>\n",
       "    </tr>\n",
       "    <tr>\n",
       "      <th id=\"T_eab6e_level0_row29\" class=\"row_heading level0 row29\" >secondary_cleaner.state.floatbank3_a_air</th>\n",
       "      <td id=\"T_eab6e_row29_col0\" class=\"data row29 col0\" >131</td>\n",
       "      <td id=\"T_eab6e_row29_col1\" class=\"data row29 col1\" >22,716</td>\n",
       "      <td id=\"T_eab6e_row29_col2\" class=\"data row29 col2\" >0.58%</td>\n",
       "    </tr>\n",
       "    <tr>\n",
       "      <th id=\"T_eab6e_level0_row30\" class=\"row_heading level0 row30\" >secondary_cleaner.state.floatbank3_a_level</th>\n",
       "      <td id=\"T_eab6e_row30_col0\" class=\"data row30 col0\" >129</td>\n",
       "      <td id=\"T_eab6e_row30_col1\" class=\"data row30 col1\" >22,716</td>\n",
       "      <td id=\"T_eab6e_row30_col2\" class=\"data row30 col2\" >0.57%</td>\n",
       "    </tr>\n",
       "    <tr>\n",
       "      <th id=\"T_eab6e_level0_row31\" class=\"row_heading level0 row31\" >secondary_cleaner.state.floatbank4_a_level</th>\n",
       "      <td id=\"T_eab6e_row31_col0\" class=\"data row31 col0\" >129</td>\n",
       "      <td id=\"T_eab6e_row31_col1\" class=\"data row31 col1\" >22,716</td>\n",
       "      <td id=\"T_eab6e_row31_col2\" class=\"data row31 col2\" >0.57%</td>\n",
       "    </tr>\n",
       "    <tr>\n",
       "      <th id=\"T_eab6e_level0_row32\" class=\"row_heading level0 row32\" >secondary_cleaner.state.floatbank2_b_level</th>\n",
       "      <td id=\"T_eab6e_row32_col0\" class=\"data row32 col0\" >128</td>\n",
       "      <td id=\"T_eab6e_row32_col1\" class=\"data row32 col1\" >22,716</td>\n",
       "      <td id=\"T_eab6e_row32_col2\" class=\"data row32 col2\" >0.56%</td>\n",
       "    </tr>\n",
       "    <tr>\n",
       "      <th id=\"T_eab6e_level0_row33\" class=\"row_heading level0 row33\" >secondary_cleaner.state.floatbank3_b_level</th>\n",
       "      <td id=\"T_eab6e_row33_col0\" class=\"data row33 col0\" >126</td>\n",
       "      <td id=\"T_eab6e_row33_col1\" class=\"data row33 col1\" >22,716</td>\n",
       "      <td id=\"T_eab6e_row33_col2\" class=\"data row33 col2\" >0.55%</td>\n",
       "    </tr>\n",
       "    <tr>\n",
       "      <th id=\"T_eab6e_level0_row34\" class=\"row_heading level0 row34\" >secondary_cleaner.state.floatbank2_a_level</th>\n",
       "      <td id=\"T_eab6e_row34_col0\" class=\"data row34 col0\" >125</td>\n",
       "      <td id=\"T_eab6e_row34_col1\" class=\"data row34 col1\" >22,716</td>\n",
       "      <td id=\"T_eab6e_row34_col2\" class=\"data row34 col2\" >0.55%</td>\n",
       "    </tr>\n",
       "    <tr>\n",
       "      <th id=\"T_eab6e_level0_row35\" class=\"row_heading level0 row35\" >secondary_cleaner.state.floatbank3_b_air</th>\n",
       "      <td id=\"T_eab6e_row35_col0\" class=\"data row35 col0\" >124</td>\n",
       "      <td id=\"T_eab6e_row35_col1\" class=\"data row35 col1\" >22,716</td>\n",
       "      <td id=\"T_eab6e_row35_col2\" class=\"data row35 col2\" >0.55%</td>\n",
       "    </tr>\n",
       "    <tr>\n",
       "      <th id=\"T_eab6e_level0_row36\" class=\"row_heading level0 row36\" >primary_cleaner.output.tail_pb</th>\n",
       "      <td id=\"T_eab6e_row36_col0\" class=\"data row36 col0\" >122</td>\n",
       "      <td id=\"T_eab6e_row36_col1\" class=\"data row36 col1\" >22,716</td>\n",
       "      <td id=\"T_eab6e_row36_col2\" class=\"data row36 col2\" >0.54%</td>\n",
       "    </tr>\n",
       "    <tr>\n",
       "      <th id=\"T_eab6e_level0_row37\" class=\"row_heading level0 row37\" >secondary_cleaner.state.floatbank6_a_air</th>\n",
       "      <td id=\"T_eab6e_row37_col0\" class=\"data row37 col0\" >119</td>\n",
       "      <td id=\"T_eab6e_row37_col1\" class=\"data row37 col1\" >22,716</td>\n",
       "      <td id=\"T_eab6e_row37_col2\" class=\"data row37 col2\" >0.52%</td>\n",
       "    </tr>\n",
       "    <tr>\n",
       "      <th id=\"T_eab6e_level0_row38\" class=\"row_heading level0 row38\" >secondary_cleaner.output.tail_pb</th>\n",
       "      <td id=\"T_eab6e_row38_col0\" class=\"data row38 col0\" >116</td>\n",
       "      <td id=\"T_eab6e_row38_col1\" class=\"data row38 col1\" >22,716</td>\n",
       "      <td id=\"T_eab6e_row38_col2\" class=\"data row38 col2\" >0.51%</td>\n",
       "    </tr>\n",
       "    <tr>\n",
       "      <th id=\"T_eab6e_level0_row39\" class=\"row_heading level0 row39\" >secondary_cleaner.state.floatbank4_b_level</th>\n",
       "      <td id=\"T_eab6e_row39_col0\" class=\"data row39 col0\" >109</td>\n",
       "      <td id=\"T_eab6e_row39_col1\" class=\"data row39 col1\" >22,716</td>\n",
       "      <td id=\"T_eab6e_row39_col2\" class=\"data row39 col2\" >0.48%</td>\n",
       "    </tr>\n",
       "    <tr>\n",
       "      <th id=\"T_eab6e_level0_row40\" class=\"row_heading level0 row40\" >secondary_cleaner.state.floatbank4_b_air</th>\n",
       "      <td id=\"T_eab6e_row40_col0\" class=\"data row40 col0\" >108</td>\n",
       "      <td id=\"T_eab6e_row40_col1\" class=\"data row40 col1\" >22,716</td>\n",
       "      <td id=\"T_eab6e_row40_col2\" class=\"data row40 col2\" >0.48%</td>\n",
       "    </tr>\n",
       "    <tr>\n",
       "      <th id=\"T_eab6e_level0_row41\" class=\"row_heading level0 row41\" >primary_cleaner.output.tail_ag</th>\n",
       "      <td id=\"T_eab6e_row41_col0\" class=\"data row41 col0\" >102</td>\n",
       "      <td id=\"T_eab6e_row41_col1\" class=\"data row41 col1\" >22,716</td>\n",
       "      <td id=\"T_eab6e_row41_col2\" class=\"data row41 col2\" >0.45%</td>\n",
       "    </tr>\n",
       "    <tr>\n",
       "      <th id=\"T_eab6e_level0_row42\" class=\"row_heading level0 row42\" >secondary_cleaner.state.floatbank5_a_air</th>\n",
       "      <td id=\"T_eab6e_row42_col0\" class=\"data row42 col0\" >101</td>\n",
       "      <td id=\"T_eab6e_row42_col1\" class=\"data row42 col1\" >22,716</td>\n",
       "      <td id=\"T_eab6e_row42_col2\" class=\"data row42 col2\" >0.44%</td>\n",
       "    </tr>\n",
       "    <tr>\n",
       "      <th id=\"T_eab6e_level0_row43\" class=\"row_heading level0 row43\" >secondary_cleaner.state.floatbank5_a_level</th>\n",
       "      <td id=\"T_eab6e_row43_col0\" class=\"data row43 col0\" >101</td>\n",
       "      <td id=\"T_eab6e_row43_col1\" class=\"data row43 col1\" >22,716</td>\n",
       "      <td id=\"T_eab6e_row43_col2\" class=\"data row43 col2\" >0.44%</td>\n",
       "    </tr>\n",
       "    <tr>\n",
       "      <th id=\"T_eab6e_level0_row44\" class=\"row_heading level0 row44\" >secondary_cleaner.state.floatbank5_b_air</th>\n",
       "      <td id=\"T_eab6e_row44_col0\" class=\"data row44 col0\" >101</td>\n",
       "      <td id=\"T_eab6e_row44_col1\" class=\"data row44 col1\" >22,716</td>\n",
       "      <td id=\"T_eab6e_row44_col2\" class=\"data row44 col2\" >0.44%</td>\n",
       "    </tr>\n",
       "    <tr>\n",
       "      <th id=\"T_eab6e_level0_row45\" class=\"row_heading level0 row45\" >secondary_cleaner.state.floatbank6_a_level</th>\n",
       "      <td id=\"T_eab6e_row45_col0\" class=\"data row45 col0\" >101</td>\n",
       "      <td id=\"T_eab6e_row45_col1\" class=\"data row45 col1\" >22,716</td>\n",
       "      <td id=\"T_eab6e_row45_col2\" class=\"data row45 col2\" >0.44%</td>\n",
       "    </tr>\n",
       "    <tr>\n",
       "      <th id=\"T_eab6e_level0_row46\" class=\"row_heading level0 row46\" >secondary_cleaner.output.tail_ag</th>\n",
       "      <td id=\"T_eab6e_row46_col0\" class=\"data row46 col0\" >100</td>\n",
       "      <td id=\"T_eab6e_row46_col1\" class=\"data row46 col1\" >22,716</td>\n",
       "      <td id=\"T_eab6e_row46_col2\" class=\"data row46 col2\" >0.44%</td>\n",
       "    </tr>\n",
       "    <tr>\n",
       "      <th id=\"T_eab6e_level0_row47\" class=\"row_heading level0 row47\" >secondary_cleaner.state.floatbank5_b_level</th>\n",
       "      <td id=\"T_eab6e_row47_col0\" class=\"data row47 col0\" >100</td>\n",
       "      <td id=\"T_eab6e_row47_col1\" class=\"data row47 col1\" >22,716</td>\n",
       "      <td id=\"T_eab6e_row47_col2\" class=\"data row47 col2\" >0.44%</td>\n",
       "    </tr>\n",
       "    <tr>\n",
       "      <th id=\"T_eab6e_level0_row48\" class=\"row_heading level0 row48\" >rougher.input.feed_au</th>\n",
       "      <td id=\"T_eab6e_row48_col0\" class=\"data row48 col0\" >99</td>\n",
       "      <td id=\"T_eab6e_row48_col1\" class=\"data row48 col1\" >22,716</td>\n",
       "      <td id=\"T_eab6e_row48_col2\" class=\"data row48 col2\" >0.44%</td>\n",
       "    </tr>\n",
       "    <tr>\n",
       "      <th id=\"T_eab6e_level0_row49\" class=\"row_heading level0 row49\" >primary_cleaner.output.tail_au</th>\n",
       "      <td id=\"T_eab6e_row49_col0\" class=\"data row49 col0\" >99</td>\n",
       "      <td id=\"T_eab6e_row49_col1\" class=\"data row49 col1\" >22,716</td>\n",
       "      <td id=\"T_eab6e_row49_col2\" class=\"data row49 col2\" >0.44%</td>\n",
       "    </tr>\n",
       "    <tr>\n",
       "      <th id=\"T_eab6e_level0_row50\" class=\"row_heading level0 row50\" >secondary_cleaner.output.tail_au</th>\n",
       "      <td id=\"T_eab6e_row50_col0\" class=\"data row50 col0\" >98</td>\n",
       "      <td id=\"T_eab6e_row50_col1\" class=\"data row50 col1\" >22,716</td>\n",
       "      <td id=\"T_eab6e_row50_col2\" class=\"data row50 col2\" >0.43%</td>\n",
       "    </tr>\n",
       "    <tr>\n",
       "      <th id=\"T_eab6e_level0_row51\" class=\"row_heading level0 row51\" >rougher.output.concentrate_ag</th>\n",
       "      <td id=\"T_eab6e_row51_col0\" class=\"data row51 col0\" >98</td>\n",
       "      <td id=\"T_eab6e_row51_col1\" class=\"data row51 col1\" >22,716</td>\n",
       "      <td id=\"T_eab6e_row51_col2\" class=\"data row51 col2\" >0.43%</td>\n",
       "    </tr>\n",
       "    <tr>\n",
       "      <th id=\"T_eab6e_level0_row52\" class=\"row_heading level0 row52\" >primary_cleaner.output.concentrate_ag</th>\n",
       "      <td id=\"T_eab6e_row52_col0\" class=\"data row52 col0\" >98</td>\n",
       "      <td id=\"T_eab6e_row52_col1\" class=\"data row52 col1\" >22,716</td>\n",
       "      <td id=\"T_eab6e_row52_col2\" class=\"data row52 col2\" >0.43%</td>\n",
       "    </tr>\n",
       "    <tr>\n",
       "      <th id=\"T_eab6e_level0_row53\" class=\"row_heading level0 row53\" >primary_cleaner.output.concentrate_au</th>\n",
       "      <td id=\"T_eab6e_row53_col0\" class=\"data row53 col0\" >98</td>\n",
       "      <td id=\"T_eab6e_row53_col1\" class=\"data row53 col1\" >22,716</td>\n",
       "      <td id=\"T_eab6e_row53_col2\" class=\"data row53 col2\" >0.43%</td>\n",
       "    </tr>\n",
       "    <tr>\n",
       "      <th id=\"T_eab6e_level0_row54\" class=\"row_heading level0 row54\" >rougher.output.tail_pb</th>\n",
       "      <td id=\"T_eab6e_row54_col0\" class=\"data row54 col0\" >98</td>\n",
       "      <td id=\"T_eab6e_row54_col1\" class=\"data row54 col1\" >22,716</td>\n",
       "      <td id=\"T_eab6e_row54_col2\" class=\"data row54 col2\" >0.43%</td>\n",
       "    </tr>\n",
       "    <tr>\n",
       "      <th id=\"T_eab6e_level0_row55\" class=\"row_heading level0 row55\" >rougher.input.feed_ag</th>\n",
       "      <td id=\"T_eab6e_row55_col0\" class=\"data row55 col0\" >98</td>\n",
       "      <td id=\"T_eab6e_row55_col1\" class=\"data row55 col1\" >22,716</td>\n",
       "      <td id=\"T_eab6e_row55_col2\" class=\"data row55 col2\" >0.43%</td>\n",
       "    </tr>\n",
       "    <tr>\n",
       "      <th id=\"T_eab6e_level0_row56\" class=\"row_heading level0 row56\" >rougher.output.concentrate_au</th>\n",
       "      <td id=\"T_eab6e_row56_col0\" class=\"data row56 col0\" >98</td>\n",
       "      <td id=\"T_eab6e_row56_col1\" class=\"data row56 col1\" >22,716</td>\n",
       "      <td id=\"T_eab6e_row56_col2\" class=\"data row56 col2\" >0.43%</td>\n",
       "    </tr>\n",
       "    <tr>\n",
       "      <th id=\"T_eab6e_level0_row57\" class=\"row_heading level0 row57\" >rougher.output.concentrate_pb</th>\n",
       "      <td id=\"T_eab6e_row57_col0\" class=\"data row57 col0\" >98</td>\n",
       "      <td id=\"T_eab6e_row57_col1\" class=\"data row57 col1\" >22,716</td>\n",
       "      <td id=\"T_eab6e_row57_col2\" class=\"data row57 col2\" >0.43%</td>\n",
       "    </tr>\n",
       "    <tr>\n",
       "      <th id=\"T_eab6e_level0_row58\" class=\"row_heading level0 row58\" >final.output.concentrate_ag</th>\n",
       "      <td id=\"T_eab6e_row58_col0\" class=\"data row58 col0\" >89</td>\n",
       "      <td id=\"T_eab6e_row58_col1\" class=\"data row58 col1\" >22,716</td>\n",
       "      <td id=\"T_eab6e_row58_col2\" class=\"data row58 col2\" >0.39%</td>\n",
       "    </tr>\n",
       "    <tr>\n",
       "      <th id=\"T_eab6e_level0_row59\" class=\"row_heading level0 row59\" >final.output.concentrate_pb</th>\n",
       "      <td id=\"T_eab6e_row59_col0\" class=\"data row59 col0\" >87</td>\n",
       "      <td id=\"T_eab6e_row59_col1\" class=\"data row59 col1\" >22,716</td>\n",
       "      <td id=\"T_eab6e_row59_col2\" class=\"data row59 col2\" >0.38%</td>\n",
       "    </tr>\n",
       "    <tr>\n",
       "      <th id=\"T_eab6e_level0_row60\" class=\"row_heading level0 row60\" >final.output.concentrate_au</th>\n",
       "      <td id=\"T_eab6e_row60_col0\" class=\"data row60 col0\" >86</td>\n",
       "      <td id=\"T_eab6e_row60_col1\" class=\"data row60 col1\" >22,716</td>\n",
       "      <td id=\"T_eab6e_row60_col2\" class=\"data row60 col2\" >0.38%</td>\n",
       "    </tr>\n",
       "    <tr>\n",
       "      <th id=\"T_eab6e_level0_row61\" class=\"row_heading level0 row61\" >final.output.tail_ag</th>\n",
       "      <td id=\"T_eab6e_row61_col0\" class=\"data row61 col0\" >83</td>\n",
       "      <td id=\"T_eab6e_row61_col1\" class=\"data row61 col1\" >22,716</td>\n",
       "      <td id=\"T_eab6e_row61_col2\" class=\"data row61 col2\" >0.37%</td>\n",
       "    </tr>\n",
       "    <tr>\n",
       "      <th id=\"T_eab6e_level0_row62\" class=\"row_heading level0 row62\" >final.output.tail_au</th>\n",
       "      <td id=\"T_eab6e_row62_col0\" class=\"data row62 col0\" >81</td>\n",
       "      <td id=\"T_eab6e_row62_col1\" class=\"data row62 col1\" >22,716</td>\n",
       "      <td id=\"T_eab6e_row62_col2\" class=\"data row62 col2\" >0.36%</td>\n",
       "    </tr>\n",
       "    <tr>\n",
       "      <th id=\"T_eab6e_level0_row63\" class=\"row_heading level0 row63\" >rougher.state.floatbank10_d_air</th>\n",
       "      <td id=\"T_eab6e_row63_col0\" class=\"data row63 col0\" >75</td>\n",
       "      <td id=\"T_eab6e_row63_col1\" class=\"data row63 col1\" >22,716</td>\n",
       "      <td id=\"T_eab6e_row63_col2\" class=\"data row63 col2\" >0.33%</td>\n",
       "    </tr>\n",
       "    <tr>\n",
       "      <th id=\"T_eab6e_level0_row64\" class=\"row_heading level0 row64\" >rougher.state.floatbank10_f_air</th>\n",
       "      <td id=\"T_eab6e_row64_col0\" class=\"data row64 col0\" >75</td>\n",
       "      <td id=\"T_eab6e_row64_col1\" class=\"data row64 col1\" >22,716</td>\n",
       "      <td id=\"T_eab6e_row64_col2\" class=\"data row64 col2\" >0.33%</td>\n",
       "    </tr>\n",
       "    <tr>\n",
       "      <th id=\"T_eab6e_level0_row65\" class=\"row_heading level0 row65\" >rougher.state.floatbank10_f_level</th>\n",
       "      <td id=\"T_eab6e_row65_col0\" class=\"data row65 col0\" >74</td>\n",
       "      <td id=\"T_eab6e_row65_col1\" class=\"data row65 col1\" >22,716</td>\n",
       "      <td id=\"T_eab6e_row65_col2\" class=\"data row65 col2\" >0.33%</td>\n",
       "    </tr>\n",
       "    <tr>\n",
       "      <th id=\"T_eab6e_level0_row66\" class=\"row_heading level0 row66\" >rougher.state.floatbank10_a_air</th>\n",
       "      <td id=\"T_eab6e_row66_col0\" class=\"data row66 col0\" >70</td>\n",
       "      <td id=\"T_eab6e_row66_col1\" class=\"data row66 col1\" >22,716</td>\n",
       "      <td id=\"T_eab6e_row66_col2\" class=\"data row66 col2\" >0.31%</td>\n",
       "    </tr>\n",
       "    <tr>\n",
       "      <th id=\"T_eab6e_level0_row67\" class=\"row_heading level0 row67\" >rougher.state.floatbank10_b_air</th>\n",
       "      <td id=\"T_eab6e_row67_col0\" class=\"data row67 col0\" >70</td>\n",
       "      <td id=\"T_eab6e_row67_col1\" class=\"data row67 col1\" >22,716</td>\n",
       "      <td id=\"T_eab6e_row67_col2\" class=\"data row67 col2\" >0.31%</td>\n",
       "    </tr>\n",
       "    <tr>\n",
       "      <th id=\"T_eab6e_level0_row68\" class=\"row_heading level0 row68\" >rougher.state.floatbank10_c_air</th>\n",
       "      <td id=\"T_eab6e_row68_col0\" class=\"data row68 col0\" >70</td>\n",
       "      <td id=\"T_eab6e_row68_col1\" class=\"data row68 col1\" >22,716</td>\n",
       "      <td id=\"T_eab6e_row68_col2\" class=\"data row68 col2\" >0.31%</td>\n",
       "    </tr>\n",
       "    <tr>\n",
       "      <th id=\"T_eab6e_level0_row69\" class=\"row_heading level0 row69\" >rougher.state.floatbank10_a_level</th>\n",
       "      <td id=\"T_eab6e_row69_col0\" class=\"data row69 col0\" >69</td>\n",
       "      <td id=\"T_eab6e_row69_col1\" class=\"data row69 col1\" >22,716</td>\n",
       "      <td id=\"T_eab6e_row69_col2\" class=\"data row69 col2\" >0.30%</td>\n",
       "    </tr>\n",
       "    <tr>\n",
       "      <th id=\"T_eab6e_level0_row70\" class=\"row_heading level0 row70\" >rougher.state.floatbank10_b_level</th>\n",
       "      <td id=\"T_eab6e_row70_col0\" class=\"data row70 col0\" >69</td>\n",
       "      <td id=\"T_eab6e_row70_col1\" class=\"data row70 col1\" >22,716</td>\n",
       "      <td id=\"T_eab6e_row70_col2\" class=\"data row70 col2\" >0.30%</td>\n",
       "    </tr>\n",
       "    <tr>\n",
       "      <th id=\"T_eab6e_level0_row71\" class=\"row_heading level0 row71\" >rougher.state.floatbank10_e_level</th>\n",
       "      <td id=\"T_eab6e_row71_col0\" class=\"data row71 col0\" >67</td>\n",
       "      <td id=\"T_eab6e_row71_col1\" class=\"data row71 col1\" >22,716</td>\n",
       "      <td id=\"T_eab6e_row71_col2\" class=\"data row71 col2\" >0.29%</td>\n",
       "    </tr>\n",
       "    <tr>\n",
       "      <th id=\"T_eab6e_level0_row72\" class=\"row_heading level0 row72\" >rougher.state.floatbank10_d_level</th>\n",
       "      <td id=\"T_eab6e_row72_col0\" class=\"data row72 col0\" >67</td>\n",
       "      <td id=\"T_eab6e_row72_col1\" class=\"data row72 col1\" >22,716</td>\n",
       "      <td id=\"T_eab6e_row72_col2\" class=\"data row72 col2\" >0.29%</td>\n",
       "    </tr>\n",
       "    <tr>\n",
       "      <th id=\"T_eab6e_level0_row73\" class=\"row_heading level0 row73\" >rougher.state.floatbank10_c_level</th>\n",
       "      <td id=\"T_eab6e_row73_col0\" class=\"data row73 col0\" >62</td>\n",
       "      <td id=\"T_eab6e_row73_col1\" class=\"data row73 col1\" >22,716</td>\n",
       "      <td id=\"T_eab6e_row73_col2\" class=\"data row73 col2\" >0.27%</td>\n",
       "    </tr>\n",
       "    <tr>\n",
       "      <th id=\"T_eab6e_level0_row74\" class=\"row_heading level0 row74\" >primary_cleaner.state.floatbank8_a_air</th>\n",
       "      <td id=\"T_eab6e_row74_col0\" class=\"data row74 col0\" >56</td>\n",
       "      <td id=\"T_eab6e_row74_col1\" class=\"data row74 col1\" >22,716</td>\n",
       "      <td id=\"T_eab6e_row74_col2\" class=\"data row74 col2\" >0.25%</td>\n",
       "    </tr>\n",
       "    <tr>\n",
       "      <th id=\"T_eab6e_level0_row75\" class=\"row_heading level0 row75\" >primary_cleaner.state.floatbank8_b_air</th>\n",
       "      <td id=\"T_eab6e_row75_col0\" class=\"data row75 col0\" >56</td>\n",
       "      <td id=\"T_eab6e_row75_col1\" class=\"data row75 col1\" >22,716</td>\n",
       "      <td id=\"T_eab6e_row75_col2\" class=\"data row75 col2\" >0.25%</td>\n",
       "    </tr>\n",
       "    <tr>\n",
       "      <th id=\"T_eab6e_level0_row76\" class=\"row_heading level0 row76\" >primary_cleaner.state.floatbank8_d_air</th>\n",
       "      <td id=\"T_eab6e_row76_col0\" class=\"data row76 col0\" >55</td>\n",
       "      <td id=\"T_eab6e_row76_col1\" class=\"data row76 col1\" >22,716</td>\n",
       "      <td id=\"T_eab6e_row76_col2\" class=\"data row76 col2\" >0.24%</td>\n",
       "    </tr>\n",
       "    <tr>\n",
       "      <th id=\"T_eab6e_level0_row77\" class=\"row_heading level0 row77\" >primary_cleaner.state.floatbank8_c_air</th>\n",
       "      <td id=\"T_eab6e_row77_col0\" class=\"data row77 col0\" >54</td>\n",
       "      <td id=\"T_eab6e_row77_col1\" class=\"data row77 col1\" >22,716</td>\n",
       "      <td id=\"T_eab6e_row77_col2\" class=\"data row77 col2\" >0.24%</td>\n",
       "    </tr>\n",
       "    <tr>\n",
       "      <th id=\"T_eab6e_level0_row78\" class=\"row_heading level0 row78\" >primary_cleaner.state.floatbank8_a_level</th>\n",
       "      <td id=\"T_eab6e_row78_col0\" class=\"data row78 col0\" >49</td>\n",
       "      <td id=\"T_eab6e_row78_col1\" class=\"data row78 col1\" >22,716</td>\n",
       "      <td id=\"T_eab6e_row78_col2\" class=\"data row78 col2\" >0.22%</td>\n",
       "    </tr>\n",
       "    <tr>\n",
       "      <th id=\"T_eab6e_level0_row79\" class=\"row_heading level0 row79\" >rougher.calculation.floatbank11_sulfate_to_au_feed</th>\n",
       "      <td id=\"T_eab6e_row79_col0\" class=\"data row79 col0\" >44</td>\n",
       "      <td id=\"T_eab6e_row79_col1\" class=\"data row79 col1\" >22,716</td>\n",
       "      <td id=\"T_eab6e_row79_col2\" class=\"data row79 col2\" >0.19%</td>\n",
       "    </tr>\n",
       "    <tr>\n",
       "      <th id=\"T_eab6e_level0_row80\" class=\"row_heading level0 row80\" >rougher.calculation.sulfate_to_au_concentrate</th>\n",
       "      <td id=\"T_eab6e_row80_col0\" class=\"data row80 col0\" >44</td>\n",
       "      <td id=\"T_eab6e_row80_col1\" class=\"data row80 col1\" >22,716</td>\n",
       "      <td id=\"T_eab6e_row80_col2\" class=\"data row80 col2\" >0.19%</td>\n",
       "    </tr>\n",
       "    <tr>\n",
       "      <th id=\"T_eab6e_level0_row81\" class=\"row_heading level0 row81\" >rougher.calculation.floatbank10_sulfate_to_au_feed</th>\n",
       "      <td id=\"T_eab6e_row81_col0\" class=\"data row81 col0\" >44</td>\n",
       "      <td id=\"T_eab6e_row81_col1\" class=\"data row81 col1\" >22,716</td>\n",
       "      <td id=\"T_eab6e_row81_col2\" class=\"data row81 col2\" >0.19%</td>\n",
       "    </tr>\n",
       "    <tr>\n",
       "      <th id=\"T_eab6e_level0_row82\" class=\"row_heading level0 row82\" >primary_cleaner.state.floatbank8_b_level</th>\n",
       "      <td id=\"T_eab6e_row82_col0\" class=\"data row82 col0\" >43</td>\n",
       "      <td id=\"T_eab6e_row82_col1\" class=\"data row82 col1\" >22,716</td>\n",
       "      <td id=\"T_eab6e_row82_col2\" class=\"data row82 col2\" >0.19%</td>\n",
       "    </tr>\n",
       "    <tr>\n",
       "      <th id=\"T_eab6e_level0_row83\" class=\"row_heading level0 row83\" >primary_cleaner.state.floatbank8_c_level</th>\n",
       "      <td id=\"T_eab6e_row83_col0\" class=\"data row83 col0\" >43</td>\n",
       "      <td id=\"T_eab6e_row83_col1\" class=\"data row83 col1\" >22,716</td>\n",
       "      <td id=\"T_eab6e_row83_col2\" class=\"data row83 col2\" >0.19%</td>\n",
       "    </tr>\n",
       "    <tr>\n",
       "      <th id=\"T_eab6e_level0_row84\" class=\"row_heading level0 row84\" >primary_cleaner.state.floatbank8_d_level</th>\n",
       "      <td id=\"T_eab6e_row84_col0\" class=\"data row84 col0\" >43</td>\n",
       "      <td id=\"T_eab6e_row84_col1\" class=\"data row84 col1\" >22,716</td>\n",
       "      <td id=\"T_eab6e_row84_col2\" class=\"data row84 col2\" >0.19%</td>\n",
       "    </tr>\n",
       "    <tr>\n",
       "      <th id=\"T_eab6e_level0_row85\" class=\"row_heading level0 row85\" >primary_cleaner.input.feed_size</th>\n",
       "      <td id=\"T_eab6e_row85_col0\" class=\"data row85 col0\" >0</td>\n",
       "      <td id=\"T_eab6e_row85_col1\" class=\"data row85 col1\" >22,716</td>\n",
       "      <td id=\"T_eab6e_row85_col2\" class=\"data row85 col2\" >0.00%</td>\n",
       "    </tr>\n",
       "  </tbody>\n",
       "</table>\n"
      ],
      "text/plain": [
       "<pandas.io.formats.style.Styler at 0x12d9e2700>"
      ]
     },
     "execution_count": 16,
     "metadata": {},
     "output_type": "execute_result"
    }
   ],
   "source": [
    "# Valores ausentes conjunto original\n",
    "au_full.stb.missing(style=True)"
   ]
  },
  {
   "cell_type": "markdown",
   "metadata": {},
   "source": [
    "All columns except `primary_cleaner.input.feed_size` have missing values. The percentage of missing values with respect to the total row in each column reaches up to 15.26% in the training set.\n",
    "\n",
    "We are going to proceed to **eliminate the missing values**. Although the values can be replaced with the 'forward filling' method, since the data show consecutive values at sampling points separated by one hour intervals, some variables have missing values for more than one consecutive hour, so this is discarded. method. Also, a previous version of this project showed that model quality decreases when treating missing values with 'forward filling'.\n",
    "\n",
    "The data sets without missing values will be stored in the following DataFrames **`au_train_ff`**, **`au_test_ff`** and **`au_full_ff`** corresponding to the training, test and original sets respectively."
   ]
  },
  {
   "cell_type": "code",
   "execution_count": 17,
   "metadata": {},
   "outputs": [],
   "source": [
    "# Reemplazo de valores ausentes con el método forward filling\n",
    "#au_train_ff = au_train.fillna(method='ffill', axis=0) \n",
    "#au_test_ff = au_test.fillna(method='ffill', axis=0)\n",
    "#au_full_ff = au_full.fillna(method='ffill', axis=0)\n",
    "\n",
    "au_train_ff = au_train.dropna() \n",
    "au_test_ff = au_test.dropna()\n",
    "au_full_ff = au_full.dropna()"
   ]
  },
  {
   "cell_type": "markdown",
   "metadata": {},
   "source": [
    "Now we are going to check that there are no missing values in our new sets."
   ]
  },
  {
   "cell_type": "code",
   "execution_count": 18,
   "metadata": {},
   "outputs": [
    {
     "name": "stdout",
     "output_type": "stream",
     "text": [
      "Empty DataFrame\n",
      "Columns: [missing, total, percent]\n",
      "Index: [] \n",
      "\n",
      "Empty DataFrame\n",
      "Columns: [missing, total, percent]\n",
      "Index: [] \n",
      "\n",
      "Empty DataFrame\n",
      "Columns: [missing, total, percent]\n",
      "Index: [] \n",
      "\n"
     ]
    }
   ],
   "source": [
    "# Check for null values using missing with the argument clip_0=True\n",
    "# only columns with NA's will be displayed\n",
    "\n",
    "print(au_train_ff.stb.missing(clip_0=True),'\\n')\n",
    "print(au_test_ff.stb.missing(clip_0=True),'\\n')\n",
    "print(au_full_ff.stb.missing(clip_0=True),'\\n')"
   ]
  },
  {
   "cell_type": "markdown",
   "metadata": {},
   "source": [
    "We have concluded this stage of the project by creating three new DataFrames without missing values which will be used in later stages."
   ]
  },
  {
   "cell_type": "markdown",
   "metadata": {},
   "source": [
    "# Data analysis <a id='2'></a>\n",
    "\n",
    "In this second stage we are going to analyze the data with the following objectives.\n",
    "\n",
    "1. [Observe how the concentration of metals (Au, Ag, Pb) changes depending on the purification stage](#2.1)\n",
    "2. [Compare the particle size distributions of the feed in the training set and the test set](#2.2)\n",
    "3. [Total concentrations of all substances in the different stages of the technological process](#2.3)\n",
    "4. [Selection of objective variables and characteristics](#2.4)"
   ]
  },
  {
   "cell_type": "markdown",
   "metadata": {},
   "source": [
    "## Changes in the concentration of metals (Au, Ag, Pb) in each purification step <a id='2.1'></a>\n",
    "\n",
    "We are going to analyze how the concentrations of gold (Au), silver (Ag) and lead (Pb) change during each stage of the purification process (i.e. flotation, primary purification, secondary purification).\n",
    "\n",
    "The change in concentration at each stage will be performed using histograms. To plot the concentrations of each metal, only the original data set with no missing values **`au_full_ff`** will be used."
   ]
  },
  {
   "cell_type": "code",
   "execution_count": 19,
   "metadata": {},
   "outputs": [],
   "source": [
    "# Au - Gold concentration\n",
    "# Selection of variables to graph\n",
    "au_concentration = au_full_ff[['rougher.input.feed_au','rougher.output.concentrate_au', \n",
    "                               'primary_cleaner.output.concentrate_au','final.output.concentrate_au']]"
   ]
  },
  {
   "cell_type": "code",
   "execution_count": 23,
   "metadata": {},
   "outputs": [
    {
     "data": {
      "image/png": "[encoded data removed]",
      "text/plain": [
       "<Figure size 648x432 with 1 Axes>"
      ]
     },
     "metadata": {
      "needs_background": "light"
     },
     "output_type": "display_data"
    }
   ],
   "source": [
    "# Plot Au concentration\n",
    "plt.figure(figsize=(9,6))\n",
    "plt.hist(au_concentration['rougher.input.feed_au'], bins=50, alpha=0.4, label = 'Input')\n",
    "plt.hist(au_concentration['rougher.output.concentrate_au'], bins=50, alpha=0.4, label = 'Float')\n",
    "plt.hist(au_concentration['primary_cleaner.output.concentrate_au'], bins=50, alpha=0.4, label = '1st purification')\n",
    "plt.hist(au_concentration['final.output.concentrate_au'], bins=50, alpha=0.4, label = '2nd purification')\n",
    "plt.legend(loc='upper left')\n",
    "plt.title('Change in the Au concentration')\n",
    "plt.show()"
   ]
  },
  {
   "cell_type": "markdown",
   "metadata": {},
   "source": [
    "In general, the Au concentration increases as each purification step progresses. However, at each stage zero values are displayed."
   ]
  },
  {
   "cell_type": "code",
   "execution_count": 21,
   "metadata": {},
   "outputs": [],
   "source": [
    "# Ag concentration\n",
    "# Selection of variables\n",
    "ag_concentration = au_full_ff[['rougher.input.feed_ag','rougher.output.concentrate_ag', \n",
    "                               'primary_cleaner.output.concentrate_ag','final.output.concentrate_ag']]"
   ]
  },
  {
   "cell_type": "code",
   "execution_count": 24,
   "metadata": {},
   "outputs": [
    {
     "data": {
      "image/png": "[encoded data removed]",
      "text/plain": [
       "<Figure size 648x432 with 1 Axes>"
      ]
     },
     "metadata": {
      "needs_background": "light"
     },
     "output_type": "display_data"
    }
   ],
   "source": [
    "# Plot Ag concentration\n",
    "plt.figure(figsize=(9,6))\n",
    "plt.hist(ag_concentration['rougher.input.feed_ag'], bins=30, alpha=0.3, label = 'Input')\n",
    "plt.hist(ag_concentration['rougher.output.concentrate_ag'], bins=30, alpha=0.3, label = 'Float')\n",
    "plt.hist(ag_concentration['primary_cleaner.output.concentrate_ag'], bins=30, alpha=0.3, label = '1st purification')\n",
    "plt.hist(ag_concentration['final.output.concentrate_ag'], bins=30, alpha=0.3, label = '2nd purification')\n",
    "plt.legend(loc='upper right')\n",
    "plt.title('Changes in Ag concentration')\n",
    "plt.show()"
   ]
  },
  {
   "cell_type": "markdown",
   "metadata": {},
   "source": [
    "With the exception of the 'input' stage, the Ag concentration decreases in each subsequent purification stage. As in the case of Au, there are some zero values at each stage."
   ]
  },
  {
   "cell_type": "code",
   "execution_count": 25,
   "metadata": {},
   "outputs": [],
   "source": [
    "# Pb concentration - led\n",
    "# Selection of variables\n",
    "pb_concentration = au_full_ff[['rougher.input.feed_pb','rougher.output.concentrate_pb', 'primary_cleaner.output.concentrate_pb',\n",
    "                               'final.output.concentrate_pb']]"
   ]
  },
  {
   "cell_type": "code",
   "execution_count": 26,
   "metadata": {},
   "outputs": [
    {
     "data": {
      "image/png": "[encoded data removed]",
      "text/plain": [
       "<Figure size 648x432 with 1 Axes>"
      ]
     },
     "metadata": {
      "needs_background": "light"
     },
     "output_type": "display_data"
    }
   ],
   "source": [
    "# Plot Pb concentration\n",
    "plt.figure(figsize=(9,6))\n",
    "plt.hist(pb_concentration['rougher.output.concentrate_pb'], bins=20, alpha=0.3, label = 'Input')\n",
    "plt.hist(pb_concentration['rougher.output.concentrate_pb'], bins=20, alpha=0.3, label = 'Float')\n",
    "plt.hist(pb_concentration['primary_cleaner.output.concentrate_pb'], bins=20, alpha=0.3, label = '1st purification')\n",
    "plt.hist(pb_concentration['final.output.concentrate_pb'], bins=20, alpha=0.3, label = '2nd purification')\n",
    "plt.legend(loc='upper right')\n",
    "plt.title('Changes in Pb concentration')\n",
    "plt.show()"
   ]
  },
  {
   "cell_type": "markdown",
   "metadata": {},
   "source": [
    "The concentration of lead is highly variable and the distribution of the concentrations of this metal overlap between each purification stage without showing an evident pattern as in the case of Au or Ag. As in the previous cases, there are some zero values."
   ]
  },
  {
   "cell_type": "markdown",
   "metadata": {},
   "source": [
    "## Comparison of feed particles between training and test sets <a id='2.2'></a>\n",
    "\n",
    "In this substep, we are going to compare the feed particle size distribution (`rougher.input.feed_size`) between the training and test sets. If the distributions vary significantly, the model evaluation will not be correct. We are going to use the DataFrames without missing values corresponding to each data set. The comparison in the particle size distribution in each data set will be done visually using histograms."
   ]
  },
  {
   "cell_type": "code",
   "execution_count": 27,
   "metadata": {},
   "outputs": [
    {
     "data": {
      "image/png": "[encoded data removed]",
      "text/plain": [
       "<Figure size 648x432 with 1 Axes>"
      ]
     },
     "metadata": {
      "needs_background": "light"
     },
     "output_type": "display_data"
    }
   ],
   "source": [
    "# Comparison of particle size distributions of train vs. test feed\n",
    "plt.figure(figsize=(9,6))\n",
    "plt.hist(au_train_ff['rougher.input.feed_size'], bins=100, alpha=0.4, label='feed_size - Train')\n",
    "plt.hist(au_test_ff['rougher.input.feed_size'], bins=100, alpha=0.4, label='feed_size - Test')\n",
    "plt.legend(loc='upper right')\n",
    "plt.title('Particle size in feed')\n",
    "plt.show()"
   ]
  },
  {
   "cell_type": "markdown",
   "metadata": {},
   "source": [
    "The distributions overlap, the height of the bars differing due to the size of each set. We can consider that the size distribution of the feed particles is similar between the training and test sets."
   ]
  },
  {
   "cell_type": "markdown",
   "metadata": {},
   "source": [
    "## Total concentrations of all substances at each stage <a id='2.3'></a>\n",
    "\n",
    "We are going to consider the total concentrations of all substances ('Au', 'Ag', 'Pb' and 'Sol') in the different stages: raw material (`rougher.input.feed_`), rougher concentrate (`rougher. output.concentrate_`) and final concentrate (`final.output.concentrate_`). In case of observing abnormal values in the total distribution, such values will be eliminated.\n",
    "\n",
    "For this purpose we are going to add all the concentrations of all the substances in a single variable in each purification stage. Then, you'll look at the distribution of concentrations using histograms and combined boxplots. The data set to be used will be the original without missing values (**`au_full_ff`**)."
   ]
  },
  {
   "cell_type": "code",
   "execution_count": 28,
   "metadata": {},
   "outputs": [],
   "source": [
    "# Variable selection\n",
    "\n",
    "# Substances - Raw input\n",
    "input_sustances = au_full_ff.loc[:,['rougher.input.feed_ag','rougher.input.feed_pb',\n",
    "                            'rougher.input.feed_sol','rougher.input.feed_au']]\n",
    "\n",
    "# Get mix concentration - Raw input\n",
    "input_sustances['input_mix'] = input_sustances[list(input_sustances)].sum(axis=1)\n",
    "\n",
    "# Substances - Concentrate Rougher\n",
    "rougher_sustances = au_full_ff.loc[:,['rougher.output.concentrate_ag','rougher.output.concentrate_pb',\n",
    "                                'rougher.output.concentrate_sol','rougher.output.concentrate_au']]\n",
    "\n",
    "# Get mix concentration - Rougher\n",
    "rougher_sustances['rougher_mix'] = rougher_sustances[list(rougher_sustances)].sum(axis=1)\n",
    "\n",
    "# Substances - Final concentrate\n",
    "output_sustances = au_full_ff.loc[:,['final.output.concentrate_ag','final.output.concentrate_pb',\n",
    "                              'final.output.concentrate_sol','final.output.concentrate_au']]\n",
    "\n",
    "# Get mix concentration - Final\n",
    "output_sustances['output_mix'] = output_sustances[list(output_sustances)].sum(axis=1)"
   ]
  },
  {
   "cell_type": "markdown",
   "metadata": {},
   "source": [
    "Three new DataFrames have been created for the steps of interest in the purification process: `input_substances`, `rougher_sustacnes` and `output_substances` that contain the Au, Ag, Pb and Sol concentrations in the raw material input, flotation and final concentrate (or output - output), respectively. Each DataFrame has a column with the sum of the concentrations (`_mix`) at each step.\n",
    "\n",
    "We now proceed to graph the sum of the concentrations."
   ]
  },
  {
   "cell_type": "code",
   "execution_count": 29,
   "metadata": {},
   "outputs": [],
   "source": [
    "# Ignore warnings\n",
    "import warnings\n",
    "warnings.simplefilter(action=\"ignore\", category=FutureWarning)"
   ]
  },
  {
   "cell_type": "code",
   "execution_count": 30,
   "metadata": {
    "scrolled": false
   },
   "outputs": [
    {
     "data": {
      "image/png": "[encoded data removed]",
      "text/plain": [
       "<Figure size 648x432 with 2 Axes>"
      ]
     },
     "metadata": {},
     "output_type": "display_data"
    }
   ],
   "source": [
    "# Input substances - Input\n",
    "sns.set(style='ticks')\n",
    "sns.set(rc={\"figure.figsize\":(9, 6)})\n",
    "f, (ax_box, ax_hist) = plt.subplots(2, sharex=True, gridspec_kw={\"height_ratios\": (.15, .85)})\n",
    "sns.boxplot(input_sustances['input_mix'], ax=ax_box)\n",
    "sns.histplot(data=input_sustances, x=\"input_mix\", bins= 40, ax=ax_hist)\n",
    "ax_box.set(xlabel='')\n",
    "ax_box.set(title='Concentration of substances Raw material')\n",
    "ax_box.set(yticks=[])\n",
    "sns.despine(ax=ax_box, left=True)\n",
    "plt.show()"
   ]
  },
  {
   "cell_type": "code",
   "execution_count": 32,
   "metadata": {},
   "outputs": [
    {
     "data": {
      "image/png": "[encoded data removed]",
      "text/plain": [
       "<Figure size 648x432 with 2 Axes>"
      ]
     },
     "metadata": {},
     "output_type": "display_data"
    }
   ],
   "source": [
    "# Rougher\n",
    "f, (ax_box, ax_hist) = plt.subplots(2, sharex=True, gridspec_kw={\"height_ratios\": (.15, .85)})\n",
    "sns.boxplot(rougher_sustances['rougher_mix'], ax=ax_box)\n",
    "sns.histplot(data=rougher_sustances, x=\"rougher_mix\", bins= 40, ax=ax_hist)\n",
    "ax_box.set(xlabel='')\n",
    "ax_box.set(title='Concentration of substances in Rougher')\n",
    "ax_box.set(yticks=[])\n",
    "sns.despine(ax=ax_box, left=True)\n",
    "plt.show()"
   ]
  },
  {
   "cell_type": "code",
   "execution_count": 33,
   "metadata": {},
   "outputs": [
    {
     "data": {
      "image/png": "[encoded data removed]",
      "text/plain": [
       "<Figure size 648x432 with 2 Axes>"
      ]
     },
     "metadata": {},
     "output_type": "display_data"
    }
   ],
   "source": [
    "# Ouput\n",
    "f, (ax_box, ax_hist) = plt.subplots(2, sharex=True, gridspec_kw={\"height_ratios\": (.15, .85)})\n",
    "sns.boxplot(output_sustances['output_mix'], ax=ax_box)\n",
    "sns.histplot(data=output_sustances, x=\"output_mix\", bins= 40, ax=ax_hist)\n",
    "ax_box.set(xlabel='')\n",
    "ax_box.set(title='Concentration of substances in Output')\n",
    "ax_box.set(yticks=[])\n",
    "sns.despine(ax=ax_box, left=True)\n",
    "plt.show()"
   ]
  },
  {
   "cell_type": "markdown",
   "metadata": {},
   "source": [
    "In the combined graphs, it can be seen that in all the stages there are concentrations with a value of zero which constitute the outliers. We are going to discard the cases less than or equal to zero and keep only the values greater than zero in the training set, the filtered data is going to be saved in the DataFrame **`au_train_fff`** that represents the training set without missing values and filtered."
   ]
  },
  {
   "cell_type": "code",
   "execution_count": 34,
   "metadata": {},
   "outputs": [
    {
     "name": "stdout",
     "output_type": "stream",
     "text": [
      "Base size before filtering:   (11017, 86)\n",
      "Base size after filtering: (10784, 86)\n",
      "Difference between bases: 233 casos\n",
      "Discarded percentage: 2.1149133157846944 %\n"
     ]
    }
   ],
   "source": [
    "# Filtering of values greater than zero in the input, rougher and final stages\n",
    "\n",
    "# Columns - Raw material - Input\n",
    "input_cols = ['rougher.input.feed_ag','rougher.input.feed_pb','rougher.input.feed_sol','rougher.input.feed_au']\n",
    "\n",
    "# Columns - Rougher\n",
    "rougher_cols = ['rougher.output.concentrate_ag','rougher.output.concentrate_pb','rougher.output.concentrate_sol','rougher.output.concentrate_au']\n",
    "\n",
    "# Columns - Output\n",
    "output_cols = ['final.output.concentrate_ag','final.output.concentrate_pb','final.output.concentrate_sol','final.output.concentrate_au']\n",
    "\n",
    "# Filtering columns greater than zero at each stage\n",
    "au_train_fff = au_train_ff[(au_train_ff[input_cols].sum(axis=1) > 0) &\n",
    "                          (au_train_ff[rougher_cols].sum(axis=1)> 0) &\n",
    "                          (au_train_ff[output_cols].sum(axis=1) > 0)]\n",
    "\n",
    "print('Base size before filtering:  ', au_train_ff.shape)\n",
    "print('Base size after filtering:', au_train_fff.shape)\n",
    "print('Difference between bases:', au_train_ff.shape[0] - au_train_fff.shape[0], 'casos')\n",
    "print('Discarded percentage:', (1 - (au_train_fff.shape[0]/au_train_ff.shape[0]))*100,'%')"
   ]
  },
  {
   "cell_type": "markdown",
   "metadata": {},
   "source": [
    "After filtering the databases, 233 cases have been discarded, representing ~2% of the original training set. Now we are going to select the target variables and features before training each model."
   ]
  },
  {
   "cell_type": "markdown",
   "metadata": {},
   "source": [
    "## Selection of target variables and features <a id='2.4'></a>\n",
    "\n",
    "So far we have manipulated the data sets in terms of replacing missing values and filtering out values greater than zero in the concentrates of the substances at three different stages.\n",
    "\n",
    "In this section we are going to select the objective variables and characteristics that will be used to train the model. The variables that are sought to be predicted (i.e. objective) are:\n",
    "* Rougher concentrate recovery `rougher.output.recovery`\n",
    "* The final recovery of the concentrate `final.output.recovery`\n",
    "\n",
    "These variables are found in the training set so we are simply going to select them and store them in the **`train_target`** DataFrame, the data will be obtained from the **`au_train_fff`** DataFrame.\n",
    "\n",
    "The test set **`au_test_ff`** lacks these target variables so it is necessary to add these two columns to the test set using a 'merge' with the original data set and using the index of both tables (date and time) as the union argument. Once the target variables have been added, the target variables will be separated from the test set in the DataFrame **`test_target`**."
   ]
  },
  {
   "cell_type": "code",
   "execution_count": 35,
   "metadata": {},
   "outputs": [
    {
     "name": "stdout",
     "output_type": "stream",
     "text": [
      "(5383, 54) \n",
      "\n",
      "Train target: (10784, 2)\n",
      "Test target: (5383, 2)\n"
     ]
    }
   ],
   "source": [
    "# Selection of training set target variables\n",
    "train_target = au_train_fff[['rougher.output.recovery', 'final.output.recovery']]\n",
    "\n",
    "# Complement test set with target variables\n",
    "au_test_ff = au_test_ff.merge(au_full_ff[['rougher.output.recovery', 'final.output.recovery']], \n",
    "                              left_index=True, right_index=True, how='left')\n",
    "\n",
    "print(au_test_ff.shape,'\\n')\n",
    "\n",
    "# Selection of test set target variables\n",
    "test_target = au_test_ff[['rougher.output.recovery', 'final.output.recovery']]\n",
    "\n",
    "# size of target sets\n",
    "print('Train target:', train_target.shape)\n",
    "print('Test target:', test_target.shape)"
   ]
  },
  {
   "cell_type": "markdown",
   "metadata": {},
   "source": [
    "We have selected the target variables for the training and test sets.\n",
    "\n",
    "Now we are going to select the characteristic variables with which the model is going to be trained. As already seen in previous sections, the training and test sets do not have the same number of features. To select the characteristics, we are going to select only the columns that do share the two data sets. The features of the training set will be stored in the DataFrame **`train_features`** and those of the test set in the DataFrame **`test_features`**."
   ]
  },
  {
   "cell_type": "code",
   "execution_count": 36,
   "metadata": {},
   "outputs": [
    {
     "name": "stdout",
     "output_type": "stream",
     "text": [
      "Train features: (10784, 52)\n",
      "Test features: (5383, 52)\n"
     ]
    }
   ],
   "source": [
    "# Selection of test set features\n",
    "test_features = au_test_ff.iloc[:, 0:-2] # Select from the first column to the penultimate column\n",
    "\n",
    "# Selection of features for the training set\n",
    "train_features = au_train_fff.loc[:, test_features.columns.tolist()] # Select same columns in test_features\n",
    "\n",
    "# Size of feature sets\n",
    "print('Train features:', train_features.shape)\n",
    "print('Test features:', test_features.shape)"
   ]
  },
  {
   "cell_type": "markdown",
   "metadata": {},
   "source": [
    "We have selected the features for the two data sets according to the variables available in the test set.\n",
    "\n",
    "With these subsets of data we can start working on our predictive model."
   ]
  },
  {
   "cell_type": "markdown",
   "metadata": {},
   "source": [
    "# Model build and train <a id='3'></a>\n",
    "\n",
    "In this third stage we are going to build our model. But first we are going to define a metric to evaluate the model which is called **sMAPE** or Symmetrical Mean Absolute Percentage Error, which is calculated with the following formula.\n",
    "\n",
    "$$sMAPE = \\frac{1}{N} \\sum_{i=1}^{N} \\frac{|y_i - \\hat{y_i}|}{(|y_i|+|\\hat{y_i}|)/2}·100\\%$$\n",
    "\n",
    "Where:\n",
    "* $y_i$: Value of the objective for the observation with the index _i_ in the set used to measure quality.\n",
    "* $\\hat{y_i}$: Prediction value for the observation with index _i_, for example, in the test sample.\n",
    "* $N$: Number of observations in the sample\n",
    "* $\\sum_{i=1}^{N}$: Sum of all the observations in the sample (_i_ takes values from 1 to N).\n",
    "\n",
    "We remember that we need to predict two values:\n",
    "* Rougher concentrate recovery `rougher.output.recovery`\n",
    "* The final recovery of the concentrate `final.output.recovery`\n",
    "\n",
    "The final metric includes the two values:\n",
    "\n",
    "$$sMAPE_{final} = 25\\% · sMAPE(rougher) + 75\\% · sMAPE(final)$$\n",
    "\n",
    "So first we are going to define a function to calculate the **sMAPE**. The tasks to be carried out in this section are the following:\n",
    "\n",
    "1. [Final sMAPE function definition](#3.1)\n",
    "2. [Model Training](#3.2)\n",
    "3. [Evaluation of the best model](#3.3)"
   ]
  },
  {
   "cell_type": "markdown",
   "metadata": {},
   "source": [
    "## Final function definition sMAPE <a id='3.1'></a>\n",
    "\n",
    "Let's define the function final_smape according to the formula described above. This formula will be used for the subsequent evaluation of the built prediction models. Because this function expresses the error as a percentage, it takes values between 0 and 100. The lower the value of sMAPE, the better the predictive quality of the model.\n",
    "\n",
    "To use the sMAPE metric in the model evaluation code, we are going to create a new metric **`sMAPE_score`** using the `sklearn.metrics` function **`make_secorer`** whose documentation can be found in the following link [make_scorer](https://scikit-learn.org/stable/modules/generated/sklearn.metrics.make_scorer.html)"
   ]
  },
  {
   "cell_type": "code",
   "execution_count": 37,
   "metadata": {},
   "outputs": [],
   "source": [
    "# Function final_sMAPE\n",
    "def final_smape(target, prediction):\n",
    "    \n",
    "    # Define internal function sMAPE\n",
    "    def smape(target, prediction):\n",
    "        smape = np.mean((np.abs(target - prediction)/((np.abs(target)+np.abs(prediction))/2))) * 100\n",
    "        return smape\n",
    "    \n",
    "    # Smape calculation for Rougher[0] and Final[1]\n",
    "    smape_rougher = smape(target.iloc[:,0], prediction[:,0]) # Choose the first column of target and predictions -> rougher\n",
    "    smape_final   = smape(target.iloc[:,1], prediction[:,1]) # Choose the second column of target and predictions -> final\n",
    "    final_smape   = (.25 * smape_rougher) + (0.75 * smape_final)\n",
    "    \n",
    "    return final_smape\n",
    "\n",
    "# Define a new metric to be used in the models\n",
    "sMAPE_score = make_scorer(final_smape, greater_is_better = False)"
   ]
  },
  {
   "cell_type": "markdown",
   "metadata": {},
   "source": [
    "We have defined the formula to calculate the **final sMAPE**, this metric will help us to evaluate the models that we are going to build."
   ]
  },
  {
   "cell_type": "markdown",
   "metadata": {},
   "source": [
    "## Training models <a id='3.2'></a>\n",
    "\n",
    "In this section we are going to train different models for the prediction of two numerical variables. Since our target variables are numeric, we are going to use regression models:\n",
    "\n",
    "1. [Linear Regression](#3.2.1)\n",
    "2. [Logistic Regression Tree](#3.2.2)\n",
    "2. [Random Regression Forest](#3.2.3)\n",
    "\n",
    "All models will be evaluated applying **cross validation** with five blocks. Finally, the best model will be chosen according to its final sMAPE value evaluated with the test set.\n",
    "\n",
    "Before proceeding with the training of the models we will process the features. Because they are numerical variables, some variables can have a very wide range and variance which can be misinterpreted variables with a very high weight. To avoid this bias, we are going to standardize features across all feature sets."
   ]
  },
  {
   "cell_type": "code",
   "execution_count": 38,
   "metadata": {},
   "outputs": [
    {
     "name": "stderr",
     "output_type": "stream",
     "text": [
      "/var/folders/v0/c_8h_x9j5qg56vbq_r6d7vvw0000gn/T/ipykernel_26426/119388462.py:12: SettingWithCopyWarning: \n",
      "A value is trying to be set on a copy of a slice from a DataFrame.\n",
      "Try using .loc[row_indexer,col_indexer] = value instead\n",
      "\n",
      "See the caveats in the documentation: https://pandas.pydata.org/pandas-docs/stable/user_guide/indexing.html#returning-a-view-versus-a-copy\n",
      "  test_features[features_list] = scaler.transform(test_features[features_list])\n"
     ]
    }
   ],
   "source": [
    "# Feature list\n",
    "features_list = test_features.columns.tolist()\n",
    "\n",
    "# Scale numeric features\n",
    "scaler = StandardScaler()\n",
    "scaler.fit(train_features)\n",
    "\n",
    "# Scaling training set features\n",
    "train_features[features_list] = scaler.transform(train_features[features_list])\n",
    "\n",
    "# Scaling test set features\n",
    "test_features[features_list] = scaler.transform(test_features[features_list])"
   ]
  },
  {
   "cell_type": "code",
   "execution_count": 39,
   "metadata": {},
   "outputs": [
    {
     "data": {
      "text/html": [
       "<div>\n",
       "<style scoped>\n",
       "    .dataframe tbody tr th:only-of-type {\n",
       "        vertical-align: middle;\n",
       "    }\n",
       "\n",
       "    .dataframe tbody tr th {\n",
       "        vertical-align: top;\n",
       "    }\n",
       "\n",
       "    .dataframe thead th {\n",
       "        text-align: right;\n",
       "    }\n",
       "</style>\n",
       "<table border=\"1\" class=\"dataframe\">\n",
       "  <thead>\n",
       "    <tr style=\"text-align: right;\">\n",
       "      <th></th>\n",
       "      <th>primary_cleaner.input.sulfate</th>\n",
       "      <th>primary_cleaner.input.depressant</th>\n",
       "      <th>primary_cleaner.input.feed_size</th>\n",
       "      <th>primary_cleaner.input.xanthate</th>\n",
       "      <th>primary_cleaner.state.floatbank8_a_air</th>\n",
       "      <th>primary_cleaner.state.floatbank8_a_level</th>\n",
       "      <th>primary_cleaner.state.floatbank8_b_air</th>\n",
       "      <th>primary_cleaner.state.floatbank8_b_level</th>\n",
       "      <th>primary_cleaner.state.floatbank8_c_air</th>\n",
       "      <th>primary_cleaner.state.floatbank8_c_level</th>\n",
       "      <th>...</th>\n",
       "      <th>secondary_cleaner.state.floatbank4_a_air</th>\n",
       "      <th>secondary_cleaner.state.floatbank4_a_level</th>\n",
       "      <th>secondary_cleaner.state.floatbank4_b_air</th>\n",
       "      <th>secondary_cleaner.state.floatbank4_b_level</th>\n",
       "      <th>secondary_cleaner.state.floatbank5_a_air</th>\n",
       "      <th>secondary_cleaner.state.floatbank5_a_level</th>\n",
       "      <th>secondary_cleaner.state.floatbank5_b_air</th>\n",
       "      <th>secondary_cleaner.state.floatbank5_b_level</th>\n",
       "      <th>secondary_cleaner.state.floatbank6_a_air</th>\n",
       "      <th>secondary_cleaner.state.floatbank6_a_level</th>\n",
       "    </tr>\n",
       "    <tr>\n",
       "      <th>date</th>\n",
       "      <th></th>\n",
       "      <th></th>\n",
       "      <th></th>\n",
       "      <th></th>\n",
       "      <th></th>\n",
       "      <th></th>\n",
       "      <th></th>\n",
       "      <th></th>\n",
       "      <th></th>\n",
       "      <th></th>\n",
       "      <th></th>\n",
       "      <th></th>\n",
       "      <th></th>\n",
       "      <th></th>\n",
       "      <th></th>\n",
       "      <th></th>\n",
       "      <th></th>\n",
       "      <th></th>\n",
       "      <th></th>\n",
       "      <th></th>\n",
       "      <th></th>\n",
       "    </tr>\n",
       "  </thead>\n",
       "  <tbody>\n",
       "    <tr>\n",
       "      <th>2016-01-15 00:00:00</th>\n",
       "      <td>-0.382058</td>\n",
       "      <td>0.237703</td>\n",
       "      <td>-0.259711</td>\n",
       "      <td>0.260955</td>\n",
       "      <td>-0.431936</td>\n",
       "      <td>-0.302141</td>\n",
       "      <td>-0.429902</td>\n",
       "      <td>-0.805456</td>\n",
       "      <td>-0.420035</td>\n",
       "      <td>-0.278751</td>\n",
       "      <td>...</td>\n",
       "      <td>-0.958081</td>\n",
       "      <td>-0.495814</td>\n",
       "      <td>-0.548503</td>\n",
       "      <td>-0.792878</td>\n",
       "      <td>-1.120725</td>\n",
       "      <td>-0.404675</td>\n",
       "      <td>-0.799404</td>\n",
       "      <td>-0.445225</td>\n",
       "      <td>-1.083913</td>\n",
       "      <td>-2.445982</td>\n",
       "    </tr>\n",
       "    <tr>\n",
       "      <th>2016-01-15 01:00:00</th>\n",
       "      <td>-0.422672</td>\n",
       "      <td>0.287310</td>\n",
       "      <td>-0.259711</td>\n",
       "      <td>0.299002</td>\n",
       "      <td>-0.231628</td>\n",
       "      <td>-0.359907</td>\n",
       "      <td>-0.245857</td>\n",
       "      <td>-0.323211</td>\n",
       "      <td>-0.227305</td>\n",
       "      <td>-0.297249</td>\n",
       "      <td>...</td>\n",
       "      <td>-0.962498</td>\n",
       "      <td>-0.552793</td>\n",
       "      <td>-0.576150</td>\n",
       "      <td>-0.736641</td>\n",
       "      <td>-1.101298</td>\n",
       "      <td>-0.450204</td>\n",
       "      <td>-0.815554</td>\n",
       "      <td>-0.447901</td>\n",
       "      <td>-1.111389</td>\n",
       "      <td>-2.293625</td>\n",
       "    </tr>\n",
       "    <tr>\n",
       "      <th>2016-01-15 02:00:00</th>\n",
       "      <td>-0.472910</td>\n",
       "      <td>0.588583</td>\n",
       "      <td>-0.259711</td>\n",
       "      <td>0.267813</td>\n",
       "      <td>-0.038920</td>\n",
       "      <td>-0.333610</td>\n",
       "      <td>-0.062415</td>\n",
       "      <td>-0.344845</td>\n",
       "      <td>-0.035394</td>\n",
       "      <td>-0.341603</td>\n",
       "      <td>...</td>\n",
       "      <td>-0.958409</td>\n",
       "      <td>-0.496435</td>\n",
       "      <td>-0.583135</td>\n",
       "      <td>-0.733349</td>\n",
       "      <td>-1.095883</td>\n",
       "      <td>-0.449204</td>\n",
       "      <td>-0.810599</td>\n",
       "      <td>-0.446346</td>\n",
       "      <td>-1.105946</td>\n",
       "      <td>-2.334897</td>\n",
       "    </tr>\n",
       "    <tr>\n",
       "      <th>2016-01-15 03:00:00</th>\n",
       "      <td>-0.515935</td>\n",
       "      <td>0.590314</td>\n",
       "      <td>-0.259711</td>\n",
       "      <td>0.282791</td>\n",
       "      <td>-0.050969</td>\n",
       "      <td>-0.361264</td>\n",
       "      <td>-0.060369</td>\n",
       "      <td>-0.317706</td>\n",
       "      <td>-0.047933</td>\n",
       "      <td>-0.337551</td>\n",
       "      <td>...</td>\n",
       "      <td>-0.954542</td>\n",
       "      <td>-0.464999</td>\n",
       "      <td>-0.567079</td>\n",
       "      <td>-0.734351</td>\n",
       "      <td>-1.113076</td>\n",
       "      <td>-0.426498</td>\n",
       "      <td>-0.816819</td>\n",
       "      <td>-0.440049</td>\n",
       "      <td>-1.110096</td>\n",
       "      <td>-2.298883</td>\n",
       "    </tr>\n",
       "    <tr>\n",
       "      <th>2016-01-15 04:00:00</th>\n",
       "      <td>-0.634826</td>\n",
       "      <td>0.765010</td>\n",
       "      <td>-0.259711</td>\n",
       "      <td>0.318722</td>\n",
       "      <td>-0.040563</td>\n",
       "      <td>-0.303976</td>\n",
       "      <td>-0.054524</td>\n",
       "      <td>-0.336548</td>\n",
       "      <td>-0.053262</td>\n",
       "      <td>-0.342119</td>\n",
       "      <td>...</td>\n",
       "      <td>-0.956199</td>\n",
       "      <td>-0.445749</td>\n",
       "      <td>-0.575680</td>\n",
       "      <td>-0.732028</td>\n",
       "      <td>-1.120712</td>\n",
       "      <td>-0.487336</td>\n",
       "      <td>-0.830957</td>\n",
       "      <td>-0.442458</td>\n",
       "      <td>-1.111696</td>\n",
       "      <td>-2.336642</td>\n",
       "    </tr>\n",
       "  </tbody>\n",
       "</table>\n",
       "<p>5 rows × 52 columns</p>\n",
       "</div>"
      ],
      "text/plain": [
       "                     primary_cleaner.input.sulfate  \\\n",
       "date                                                 \n",
       "2016-01-15 00:00:00                      -0.382058   \n",
       "2016-01-15 01:00:00                      -0.422672   \n",
       "2016-01-15 02:00:00                      -0.472910   \n",
       "2016-01-15 03:00:00                      -0.515935   \n",
       "2016-01-15 04:00:00                      -0.634826   \n",
       "\n",
       "                     primary_cleaner.input.depressant  \\\n",
       "date                                                    \n",
       "2016-01-15 00:00:00                          0.237703   \n",
       "2016-01-15 01:00:00                          0.287310   \n",
       "2016-01-15 02:00:00                          0.588583   \n",
       "2016-01-15 03:00:00                          0.590314   \n",
       "2016-01-15 04:00:00                          0.765010   \n",
       "\n",
       "                     primary_cleaner.input.feed_size  \\\n",
       "date                                                   \n",
       "2016-01-15 00:00:00                        -0.259711   \n",
       "2016-01-15 01:00:00                        -0.259711   \n",
       "2016-01-15 02:00:00                        -0.259711   \n",
       "2016-01-15 03:00:00                        -0.259711   \n",
       "2016-01-15 04:00:00                        -0.259711   \n",
       "\n",
       "                     primary_cleaner.input.xanthate  \\\n",
       "date                                                  \n",
       "2016-01-15 00:00:00                        0.260955   \n",
       "2016-01-15 01:00:00                        0.299002   \n",
       "2016-01-15 02:00:00                        0.267813   \n",
       "2016-01-15 03:00:00                        0.282791   \n",
       "2016-01-15 04:00:00                        0.318722   \n",
       "\n",
       "                     primary_cleaner.state.floatbank8_a_air  \\\n",
       "date                                                          \n",
       "2016-01-15 00:00:00                               -0.431936   \n",
       "2016-01-15 01:00:00                               -0.231628   \n",
       "2016-01-15 02:00:00                               -0.038920   \n",
       "2016-01-15 03:00:00                               -0.050969   \n",
       "2016-01-15 04:00:00                               -0.040563   \n",
       "\n",
       "                     primary_cleaner.state.floatbank8_a_level  \\\n",
       "date                                                            \n",
       "2016-01-15 00:00:00                                 -0.302141   \n",
       "2016-01-15 01:00:00                                 -0.359907   \n",
       "2016-01-15 02:00:00                                 -0.333610   \n",
       "2016-01-15 03:00:00                                 -0.361264   \n",
       "2016-01-15 04:00:00                                 -0.303976   \n",
       "\n",
       "                     primary_cleaner.state.floatbank8_b_air  \\\n",
       "date                                                          \n",
       "2016-01-15 00:00:00                               -0.429902   \n",
       "2016-01-15 01:00:00                               -0.245857   \n",
       "2016-01-15 02:00:00                               -0.062415   \n",
       "2016-01-15 03:00:00                               -0.060369   \n",
       "2016-01-15 04:00:00                               -0.054524   \n",
       "\n",
       "                     primary_cleaner.state.floatbank8_b_level  \\\n",
       "date                                                            \n",
       "2016-01-15 00:00:00                                 -0.805456   \n",
       "2016-01-15 01:00:00                                 -0.323211   \n",
       "2016-01-15 02:00:00                                 -0.344845   \n",
       "2016-01-15 03:00:00                                 -0.317706   \n",
       "2016-01-15 04:00:00                                 -0.336548   \n",
       "\n",
       "                     primary_cleaner.state.floatbank8_c_air  \\\n",
       "date                                                          \n",
       "2016-01-15 00:00:00                               -0.420035   \n",
       "2016-01-15 01:00:00                               -0.227305   \n",
       "2016-01-15 02:00:00                               -0.035394   \n",
       "2016-01-15 03:00:00                               -0.047933   \n",
       "2016-01-15 04:00:00                               -0.053262   \n",
       "\n",
       "                     primary_cleaner.state.floatbank8_c_level  ...  \\\n",
       "date                                                           ...   \n",
       "2016-01-15 00:00:00                                 -0.278751  ...   \n",
       "2016-01-15 01:00:00                                 -0.297249  ...   \n",
       "2016-01-15 02:00:00                                 -0.341603  ...   \n",
       "2016-01-15 03:00:00                                 -0.337551  ...   \n",
       "2016-01-15 04:00:00                                 -0.342119  ...   \n",
       "\n",
       "                     secondary_cleaner.state.floatbank4_a_air  \\\n",
       "date                                                            \n",
       "2016-01-15 00:00:00                                 -0.958081   \n",
       "2016-01-15 01:00:00                                 -0.962498   \n",
       "2016-01-15 02:00:00                                 -0.958409   \n",
       "2016-01-15 03:00:00                                 -0.954542   \n",
       "2016-01-15 04:00:00                                 -0.956199   \n",
       "\n",
       "                     secondary_cleaner.state.floatbank4_a_level  \\\n",
       "date                                                              \n",
       "2016-01-15 00:00:00                                   -0.495814   \n",
       "2016-01-15 01:00:00                                   -0.552793   \n",
       "2016-01-15 02:00:00                                   -0.496435   \n",
       "2016-01-15 03:00:00                                   -0.464999   \n",
       "2016-01-15 04:00:00                                   -0.445749   \n",
       "\n",
       "                     secondary_cleaner.state.floatbank4_b_air  \\\n",
       "date                                                            \n",
       "2016-01-15 00:00:00                                 -0.548503   \n",
       "2016-01-15 01:00:00                                 -0.576150   \n",
       "2016-01-15 02:00:00                                 -0.583135   \n",
       "2016-01-15 03:00:00                                 -0.567079   \n",
       "2016-01-15 04:00:00                                 -0.575680   \n",
       "\n",
       "                     secondary_cleaner.state.floatbank4_b_level  \\\n",
       "date                                                              \n",
       "2016-01-15 00:00:00                                   -0.792878   \n",
       "2016-01-15 01:00:00                                   -0.736641   \n",
       "2016-01-15 02:00:00                                   -0.733349   \n",
       "2016-01-15 03:00:00                                   -0.734351   \n",
       "2016-01-15 04:00:00                                   -0.732028   \n",
       "\n",
       "                     secondary_cleaner.state.floatbank5_a_air  \\\n",
       "date                                                            \n",
       "2016-01-15 00:00:00                                 -1.120725   \n",
       "2016-01-15 01:00:00                                 -1.101298   \n",
       "2016-01-15 02:00:00                                 -1.095883   \n",
       "2016-01-15 03:00:00                                 -1.113076   \n",
       "2016-01-15 04:00:00                                 -1.120712   \n",
       "\n",
       "                     secondary_cleaner.state.floatbank5_a_level  \\\n",
       "date                                                              \n",
       "2016-01-15 00:00:00                                   -0.404675   \n",
       "2016-01-15 01:00:00                                   -0.450204   \n",
       "2016-01-15 02:00:00                                   -0.449204   \n",
       "2016-01-15 03:00:00                                   -0.426498   \n",
       "2016-01-15 04:00:00                                   -0.487336   \n",
       "\n",
       "                     secondary_cleaner.state.floatbank5_b_air  \\\n",
       "date                                                            \n",
       "2016-01-15 00:00:00                                 -0.799404   \n",
       "2016-01-15 01:00:00                                 -0.815554   \n",
       "2016-01-15 02:00:00                                 -0.810599   \n",
       "2016-01-15 03:00:00                                 -0.816819   \n",
       "2016-01-15 04:00:00                                 -0.830957   \n",
       "\n",
       "                     secondary_cleaner.state.floatbank5_b_level  \\\n",
       "date                                                              \n",
       "2016-01-15 00:00:00                                   -0.445225   \n",
       "2016-01-15 01:00:00                                   -0.447901   \n",
       "2016-01-15 02:00:00                                   -0.446346   \n",
       "2016-01-15 03:00:00                                   -0.440049   \n",
       "2016-01-15 04:00:00                                   -0.442458   \n",
       "\n",
       "                     secondary_cleaner.state.floatbank6_a_air  \\\n",
       "date                                                            \n",
       "2016-01-15 00:00:00                                 -1.083913   \n",
       "2016-01-15 01:00:00                                 -1.111389   \n",
       "2016-01-15 02:00:00                                 -1.105946   \n",
       "2016-01-15 03:00:00                                 -1.110096   \n",
       "2016-01-15 04:00:00                                 -1.111696   \n",
       "\n",
       "                     secondary_cleaner.state.floatbank6_a_level  \n",
       "date                                                             \n",
       "2016-01-15 00:00:00                                   -2.445982  \n",
       "2016-01-15 01:00:00                                   -2.293625  \n",
       "2016-01-15 02:00:00                                   -2.334897  \n",
       "2016-01-15 03:00:00                                   -2.298883  \n",
       "2016-01-15 04:00:00                                   -2.336642  \n",
       "\n",
       "[5 rows x 52 columns]"
      ]
     },
     "execution_count": 39,
     "metadata": {},
     "output_type": "execute_result"
    }
   ],
   "source": [
    "# Viz train_features\n",
    "train_features.head()"
   ]
  },
  {
   "cell_type": "code",
   "execution_count": 40,
   "metadata": {},
   "outputs": [
    {
     "data": {
      "text/html": [
       "<div>\n",
       "<style scoped>\n",
       "    .dataframe tbody tr th:only-of-type {\n",
       "        vertical-align: middle;\n",
       "    }\n",
       "\n",
       "    .dataframe tbody tr th {\n",
       "        vertical-align: top;\n",
       "    }\n",
       "\n",
       "    .dataframe thead th {\n",
       "        text-align: right;\n",
       "    }\n",
       "</style>\n",
       "<table border=\"1\" class=\"dataframe\">\n",
       "  <thead>\n",
       "    <tr style=\"text-align: right;\">\n",
       "      <th></th>\n",
       "      <th>primary_cleaner.input.sulfate</th>\n",
       "      <th>primary_cleaner.input.depressant</th>\n",
       "      <th>primary_cleaner.input.feed_size</th>\n",
       "      <th>primary_cleaner.input.xanthate</th>\n",
       "      <th>primary_cleaner.state.floatbank8_a_air</th>\n",
       "      <th>primary_cleaner.state.floatbank8_a_level</th>\n",
       "      <th>primary_cleaner.state.floatbank8_b_air</th>\n",
       "      <th>primary_cleaner.state.floatbank8_b_level</th>\n",
       "      <th>primary_cleaner.state.floatbank8_c_air</th>\n",
       "      <th>primary_cleaner.state.floatbank8_c_level</th>\n",
       "      <th>...</th>\n",
       "      <th>secondary_cleaner.state.floatbank4_a_air</th>\n",
       "      <th>secondary_cleaner.state.floatbank4_a_level</th>\n",
       "      <th>secondary_cleaner.state.floatbank4_b_air</th>\n",
       "      <th>secondary_cleaner.state.floatbank4_b_level</th>\n",
       "      <th>secondary_cleaner.state.floatbank5_a_air</th>\n",
       "      <th>secondary_cleaner.state.floatbank5_a_level</th>\n",
       "      <th>secondary_cleaner.state.floatbank5_b_air</th>\n",
       "      <th>secondary_cleaner.state.floatbank5_b_level</th>\n",
       "      <th>secondary_cleaner.state.floatbank6_a_air</th>\n",
       "      <th>secondary_cleaner.state.floatbank6_a_level</th>\n",
       "    </tr>\n",
       "    <tr>\n",
       "      <th>date</th>\n",
       "      <th></th>\n",
       "      <th></th>\n",
       "      <th></th>\n",
       "      <th></th>\n",
       "      <th></th>\n",
       "      <th></th>\n",
       "      <th></th>\n",
       "      <th></th>\n",
       "      <th></th>\n",
       "      <th></th>\n",
       "      <th></th>\n",
       "      <th></th>\n",
       "      <th></th>\n",
       "      <th></th>\n",
       "      <th></th>\n",
       "      <th></th>\n",
       "      <th></th>\n",
       "      <th></th>\n",
       "      <th></th>\n",
       "      <th></th>\n",
       "      <th></th>\n",
       "    </tr>\n",
       "  </thead>\n",
       "  <tbody>\n",
       "    <tr>\n",
       "      <th>2016-09-01 00:59:59</th>\n",
       "      <td>1.942120</td>\n",
       "      <td>1.674564</td>\n",
       "      <td>1.178290</td>\n",
       "      <td>0.305456</td>\n",
       "      <td>-1.576475</td>\n",
       "      <td>-0.340213</td>\n",
       "      <td>-1.573139</td>\n",
       "      <td>-0.324782</td>\n",
       "      <td>-1.525127</td>\n",
       "      <td>-0.336877</td>\n",
       "      <td>...</td>\n",
       "      <td>-1.316636</td>\n",
       "      <td>-0.407146</td>\n",
       "      <td>-1.304113</td>\n",
       "      <td>-0.735937</td>\n",
       "      <td>-1.459133</td>\n",
       "      <td>1.210902</td>\n",
       "      <td>-1.345162</td>\n",
       "      <td>-0.434790</td>\n",
       "      <td>1.170879</td>\n",
       "      <td>0.224636</td>\n",
       "    </tr>\n",
       "    <tr>\n",
       "      <th>2016-09-01 01:59:59</th>\n",
       "      <td>2.069604</td>\n",
       "      <td>1.672896</td>\n",
       "      <td>1.178290</td>\n",
       "      <td>0.265635</td>\n",
       "      <td>-1.578019</td>\n",
       "      <td>-0.335339</td>\n",
       "      <td>-1.581319</td>\n",
       "      <td>-0.320654</td>\n",
       "      <td>-1.554287</td>\n",
       "      <td>-0.295112</td>\n",
       "      <td>...</td>\n",
       "      <td>-1.310414</td>\n",
       "      <td>-0.424152</td>\n",
       "      <td>-1.282958</td>\n",
       "      <td>-0.708438</td>\n",
       "      <td>-1.457131</td>\n",
       "      <td>-1.078630</td>\n",
       "      <td>-1.344084</td>\n",
       "      <td>-0.437797</td>\n",
       "      <td>0.868083</td>\n",
       "      <td>0.221867</td>\n",
       "    </tr>\n",
       "    <tr>\n",
       "      <th>2016-09-01 02:59:59</th>\n",
       "      <td>2.065925</td>\n",
       "      <td>1.051896</td>\n",
       "      <td>0.670081</td>\n",
       "      <td>0.280887</td>\n",
       "      <td>-1.580176</td>\n",
       "      <td>-0.358846</td>\n",
       "      <td>-1.575275</td>\n",
       "      <td>-0.320256</td>\n",
       "      <td>-1.540086</td>\n",
       "      <td>-0.378155</td>\n",
       "      <td>...</td>\n",
       "      <td>-1.327642</td>\n",
       "      <td>-0.425508</td>\n",
       "      <td>-1.289265</td>\n",
       "      <td>-0.728265</td>\n",
       "      <td>-1.437846</td>\n",
       "      <td>-0.465669</td>\n",
       "      <td>-1.339612</td>\n",
       "      <td>-0.429762</td>\n",
       "      <td>0.863579</td>\n",
       "      <td>0.201658</td>\n",
       "    </tr>\n",
       "    <tr>\n",
       "      <th>2016-09-01 03:59:59</th>\n",
       "      <td>2.068043</td>\n",
       "      <td>0.792535</td>\n",
       "      <td>0.415976</td>\n",
       "      <td>-0.081771</td>\n",
       "      <td>-1.571641</td>\n",
       "      <td>-0.300733</td>\n",
       "      <td>-1.585937</td>\n",
       "      <td>-0.304115</td>\n",
       "      <td>-1.524933</td>\n",
       "      <td>-0.269888</td>\n",
       "      <td>...</td>\n",
       "      <td>-1.314920</td>\n",
       "      <td>-0.417636</td>\n",
       "      <td>-1.293327</td>\n",
       "      <td>-0.705783</td>\n",
       "      <td>-1.467593</td>\n",
       "      <td>-0.467305</td>\n",
       "      <td>-1.335141</td>\n",
       "      <td>-0.433014</td>\n",
       "      <td>0.855328</td>\n",
       "      <td>0.249785</td>\n",
       "    </tr>\n",
       "    <tr>\n",
       "      <th>2016-09-01 04:59:59</th>\n",
       "      <td>1.617225</td>\n",
       "      <td>0.401400</td>\n",
       "      <td>0.225398</td>\n",
       "      <td>-0.240319</td>\n",
       "      <td>-1.559118</td>\n",
       "      <td>-0.357105</td>\n",
       "      <td>-1.580767</td>\n",
       "      <td>-0.312674</td>\n",
       "      <td>-1.509859</td>\n",
       "      <td>-0.339907</td>\n",
       "      <td>...</td>\n",
       "      <td>-1.316310</td>\n",
       "      <td>-0.463661</td>\n",
       "      <td>-1.297077</td>\n",
       "      <td>-0.721121</td>\n",
       "      <td>-1.431547</td>\n",
       "      <td>-0.679269</td>\n",
       "      <td>-1.330670</td>\n",
       "      <td>-0.442554</td>\n",
       "      <td>0.865100</td>\n",
       "      <td>0.195776</td>\n",
       "    </tr>\n",
       "  </tbody>\n",
       "</table>\n",
       "<p>5 rows × 52 columns</p>\n",
       "</div>"
      ],
      "text/plain": [
       "                     primary_cleaner.input.sulfate  \\\n",
       "date                                                 \n",
       "2016-09-01 00:59:59                       1.942120   \n",
       "2016-09-01 01:59:59                       2.069604   \n",
       "2016-09-01 02:59:59                       2.065925   \n",
       "2016-09-01 03:59:59                       2.068043   \n",
       "2016-09-01 04:59:59                       1.617225   \n",
       "\n",
       "                     primary_cleaner.input.depressant  \\\n",
       "date                                                    \n",
       "2016-09-01 00:59:59                          1.674564   \n",
       "2016-09-01 01:59:59                          1.672896   \n",
       "2016-09-01 02:59:59                          1.051896   \n",
       "2016-09-01 03:59:59                          0.792535   \n",
       "2016-09-01 04:59:59                          0.401400   \n",
       "\n",
       "                     primary_cleaner.input.feed_size  \\\n",
       "date                                                   \n",
       "2016-09-01 00:59:59                         1.178290   \n",
       "2016-09-01 01:59:59                         1.178290   \n",
       "2016-09-01 02:59:59                         0.670081   \n",
       "2016-09-01 03:59:59                         0.415976   \n",
       "2016-09-01 04:59:59                         0.225398   \n",
       "\n",
       "                     primary_cleaner.input.xanthate  \\\n",
       "date                                                  \n",
       "2016-09-01 00:59:59                        0.305456   \n",
       "2016-09-01 01:59:59                        0.265635   \n",
       "2016-09-01 02:59:59                        0.280887   \n",
       "2016-09-01 03:59:59                       -0.081771   \n",
       "2016-09-01 04:59:59                       -0.240319   \n",
       "\n",
       "                     primary_cleaner.state.floatbank8_a_air  \\\n",
       "date                                                          \n",
       "2016-09-01 00:59:59                               -1.576475   \n",
       "2016-09-01 01:59:59                               -1.578019   \n",
       "2016-09-01 02:59:59                               -1.580176   \n",
       "2016-09-01 03:59:59                               -1.571641   \n",
       "2016-09-01 04:59:59                               -1.559118   \n",
       "\n",
       "                     primary_cleaner.state.floatbank8_a_level  \\\n",
       "date                                                            \n",
       "2016-09-01 00:59:59                                 -0.340213   \n",
       "2016-09-01 01:59:59                                 -0.335339   \n",
       "2016-09-01 02:59:59                                 -0.358846   \n",
       "2016-09-01 03:59:59                                 -0.300733   \n",
       "2016-09-01 04:59:59                                 -0.357105   \n",
       "\n",
       "                     primary_cleaner.state.floatbank8_b_air  \\\n",
       "date                                                          \n",
       "2016-09-01 00:59:59                               -1.573139   \n",
       "2016-09-01 01:59:59                               -1.581319   \n",
       "2016-09-01 02:59:59                               -1.575275   \n",
       "2016-09-01 03:59:59                               -1.585937   \n",
       "2016-09-01 04:59:59                               -1.580767   \n",
       "\n",
       "                     primary_cleaner.state.floatbank8_b_level  \\\n",
       "date                                                            \n",
       "2016-09-01 00:59:59                                 -0.324782   \n",
       "2016-09-01 01:59:59                                 -0.320654   \n",
       "2016-09-01 02:59:59                                 -0.320256   \n",
       "2016-09-01 03:59:59                                 -0.304115   \n",
       "2016-09-01 04:59:59                                 -0.312674   \n",
       "\n",
       "                     primary_cleaner.state.floatbank8_c_air  \\\n",
       "date                                                          \n",
       "2016-09-01 00:59:59                               -1.525127   \n",
       "2016-09-01 01:59:59                               -1.554287   \n",
       "2016-09-01 02:59:59                               -1.540086   \n",
       "2016-09-01 03:59:59                               -1.524933   \n",
       "2016-09-01 04:59:59                               -1.509859   \n",
       "\n",
       "                     primary_cleaner.state.floatbank8_c_level  ...  \\\n",
       "date                                                           ...   \n",
       "2016-09-01 00:59:59                                 -0.336877  ...   \n",
       "2016-09-01 01:59:59                                 -0.295112  ...   \n",
       "2016-09-01 02:59:59                                 -0.378155  ...   \n",
       "2016-09-01 03:59:59                                 -0.269888  ...   \n",
       "2016-09-01 04:59:59                                 -0.339907  ...   \n",
       "\n",
       "                     secondary_cleaner.state.floatbank4_a_air  \\\n",
       "date                                                            \n",
       "2016-09-01 00:59:59                                 -1.316636   \n",
       "2016-09-01 01:59:59                                 -1.310414   \n",
       "2016-09-01 02:59:59                                 -1.327642   \n",
       "2016-09-01 03:59:59                                 -1.314920   \n",
       "2016-09-01 04:59:59                                 -1.316310   \n",
       "\n",
       "                     secondary_cleaner.state.floatbank4_a_level  \\\n",
       "date                                                              \n",
       "2016-09-01 00:59:59                                   -0.407146   \n",
       "2016-09-01 01:59:59                                   -0.424152   \n",
       "2016-09-01 02:59:59                                   -0.425508   \n",
       "2016-09-01 03:59:59                                   -0.417636   \n",
       "2016-09-01 04:59:59                                   -0.463661   \n",
       "\n",
       "                     secondary_cleaner.state.floatbank4_b_air  \\\n",
       "date                                                            \n",
       "2016-09-01 00:59:59                                 -1.304113   \n",
       "2016-09-01 01:59:59                                 -1.282958   \n",
       "2016-09-01 02:59:59                                 -1.289265   \n",
       "2016-09-01 03:59:59                                 -1.293327   \n",
       "2016-09-01 04:59:59                                 -1.297077   \n",
       "\n",
       "                     secondary_cleaner.state.floatbank4_b_level  \\\n",
       "date                                                              \n",
       "2016-09-01 00:59:59                                   -0.735937   \n",
       "2016-09-01 01:59:59                                   -0.708438   \n",
       "2016-09-01 02:59:59                                   -0.728265   \n",
       "2016-09-01 03:59:59                                   -0.705783   \n",
       "2016-09-01 04:59:59                                   -0.721121   \n",
       "\n",
       "                     secondary_cleaner.state.floatbank5_a_air  \\\n",
       "date                                                            \n",
       "2016-09-01 00:59:59                                 -1.459133   \n",
       "2016-09-01 01:59:59                                 -1.457131   \n",
       "2016-09-01 02:59:59                                 -1.437846   \n",
       "2016-09-01 03:59:59                                 -1.467593   \n",
       "2016-09-01 04:59:59                                 -1.431547   \n",
       "\n",
       "                     secondary_cleaner.state.floatbank5_a_level  \\\n",
       "date                                                              \n",
       "2016-09-01 00:59:59                                    1.210902   \n",
       "2016-09-01 01:59:59                                   -1.078630   \n",
       "2016-09-01 02:59:59                                   -0.465669   \n",
       "2016-09-01 03:59:59                                   -0.467305   \n",
       "2016-09-01 04:59:59                                   -0.679269   \n",
       "\n",
       "                     secondary_cleaner.state.floatbank5_b_air  \\\n",
       "date                                                            \n",
       "2016-09-01 00:59:59                                 -1.345162   \n",
       "2016-09-01 01:59:59                                 -1.344084   \n",
       "2016-09-01 02:59:59                                 -1.339612   \n",
       "2016-09-01 03:59:59                                 -1.335141   \n",
       "2016-09-01 04:59:59                                 -1.330670   \n",
       "\n",
       "                     secondary_cleaner.state.floatbank5_b_level  \\\n",
       "date                                                              \n",
       "2016-09-01 00:59:59                                   -0.434790   \n",
       "2016-09-01 01:59:59                                   -0.437797   \n",
       "2016-09-01 02:59:59                                   -0.429762   \n",
       "2016-09-01 03:59:59                                   -0.433014   \n",
       "2016-09-01 04:59:59                                   -0.442554   \n",
       "\n",
       "                     secondary_cleaner.state.floatbank6_a_air  \\\n",
       "date                                                            \n",
       "2016-09-01 00:59:59                                  1.170879   \n",
       "2016-09-01 01:59:59                                  0.868083   \n",
       "2016-09-01 02:59:59                                  0.863579   \n",
       "2016-09-01 03:59:59                                  0.855328   \n",
       "2016-09-01 04:59:59                                  0.865100   \n",
       "\n",
       "                     secondary_cleaner.state.floatbank6_a_level  \n",
       "date                                                             \n",
       "2016-09-01 00:59:59                                    0.224636  \n",
       "2016-09-01 01:59:59                                    0.221867  \n",
       "2016-09-01 02:59:59                                    0.201658  \n",
       "2016-09-01 03:59:59                                    0.249785  \n",
       "2016-09-01 04:59:59                                    0.195776  \n",
       "\n",
       "[5 rows x 52 columns]"
      ]
     },
     "execution_count": 40,
     "metadata": {},
     "output_type": "execute_result"
    }
   ],
   "source": [
    "# Viz test features\n",
    "test_features.head()"
   ]
  },
  {
   "cell_type": "markdown",
   "metadata": {},
   "source": [
    "We have standardized the characteristics of the training and test sets, now we can proceed to build and evaluate the models."
   ]
  },
  {
   "cell_type": "markdown",
   "metadata": {},
   "source": [
    "### Linear regression <a id='3.2.1'></a>\n",
    "\n",
    "This is the simplest regression model, in this model we are not going to modify any hyperparameter. The cross validation of the model will be with 5 blocks and the sMAPE_score will be used as the evaluation metric."
   ]
  },
  {
   "cell_type": "code",
   "execution_count": 41,
   "metadata": {},
   "outputs": [
    {
     "name": "stdout",
     "output_type": "stream",
     "text": [
      "Final average sMAPE score: 8.31857117948264\n"
     ]
    }
   ],
   "source": [
    "# Linear regression\n",
    "\n",
    "lr_model = LinearRegression()\n",
    "\n",
    "# Cross-validate model training using 5 blocks, and evaluated by sMAPE_score\n",
    "lr_score = cross_val_score(lr_model, train_features, train_target, scoring=sMAPE_score, cv=5)\n",
    "\n",
    "print('Final average sMAPE score:', np.abs(lr_score.mean()))"
   ]
  },
  {
   "cell_type": "markdown",
   "metadata": {},
   "source": [
    "Our logistic regression model returned an average final **sMAPE of 8.318%**."
   ]
  },
  {
   "cell_type": "markdown",
   "metadata": {},
   "source": [
    "### Regression Tree <a id='3.2.2'></a>\n",
    "\n",
    "The regression tree model will be built by iterating the `max_depth` hyperparameter which determines the maximum depth of the tree. The optimal depth will be determined according to the sMAPE_score calculated by cross validation using 5 blocks."
   ]
  },
  {
   "cell_type": "code",
   "execution_count": 42,
   "metadata": {},
   "outputs": [
    {
     "name": "stdout",
     "output_type": "stream",
     "text": [
      "Max depth: 1 - Average sMAPE score: 7.786185888630311\n",
      "Max depth: 2 - Average sMAPE score: 7.986053584112564\n",
      "Max depth: 3 - Average sMAPE score: 8.624702959276174\n",
      "Max depth: 4 - Average sMAPE score: 8.70463430723826\n",
      "Max depth: 5 - Average sMAPE score: 8.977183471570196\n",
      "Max depth: 6 - Average sMAPE score: 9.151398701662595\n",
      "Max depth: 7 - Average sMAPE score: 9.702120824948294\n",
      "Max depth: 8 - Average sMAPE score: 10.715489158790819\n",
      "Max depth: 9 - Average sMAPE score: 12.139797694995133\n",
      "Max depth: 10 - Average sMAPE score: 12.116110844076747\n"
     ]
    }
   ],
   "source": [
    "# Arbol de regresion\n",
    "for depth in range(1,11):\n",
    "    ar_model = DecisionTreeRegressor(max_depth=depth, random_state=12345)\n",
    "    ar_score = cross_val_score(ar_model, train_features, train_target, scoring=sMAPE_score, cv=5)\n",
    "    print('Max depth:', depth, '- Average sMAPE score:', np.abs(ar_score.mean()))"
   ]
  },
  {
   "cell_type": "markdown",
   "metadata": {},
   "source": [
    "The tree with the lowest score had a **depth of 1** and an average final **sMAPE of 7.785%**."
   ]
  },
  {
   "cell_type": "markdown",
   "metadata": {},
   "source": [
    "### Random regression forest <a id='3.2.3'></a>\n",
    "\n",
    "Finally we are going to build a random regression forest model, for which we are going to look for the best combination between the number of estimators (`n_estimators`) and the maximum depth of each tree (`max_depth`). We are going to iterate the number of estimators between 10 and 50 with a step of 10, that is, (10, 20, 30, 40 and 50), the maximum depth is going to iterate from 1 to 10.\n",
    "\n",
    "**Note**: The code where the iteration is done is not executed due to the time it takes to iterate each parameter and cross-validate. The best model selected according to the iteration is presented as executable code."
   ]
  },
  {
   "cell_type": "code",
   "execution_count": 39,
   "metadata": {},
   "outputs": [],
   "source": [
    "#best_bar = None\n",
    "#best_bar_score = 100\n",
    "#best_est = 0\n",
    "#best_depth = 0\n",
    "#\n",
    "## Iteration with different estimators and depths, this can take a while so go grab a coffee\n",
    "#for est in range(10, 51, 10):\n",
    "#    for depth in range(1,11):\n",
    "#        bar_model = RandomForestRegressor(n_estimators=est, max_depth=depth, random_state=12345)\n",
    "#        bar_score = cross_val_score(bar_model, train_features, train_target, scoring=sMAPE_score, cv=5)\n",
    "#        bar_score_mean = np.abs(bar_score.mean())\n",
    "#        if bar_score_mean < best_bar_score:\n",
    "#            best_model = bar_model\n",
    "#            best_bar_score = bar_score_mean\n",
    "#            best_est = est\n",
    "#            best_depth = depth\n",
    "#\n",
    "#print('Best averge sMAPE:', best_bar_score, '| n_estimators:', best_est, '| max_depth:', best_depth)"
   ]
  },
  {
   "cell_type": "code",
   "execution_count": 43,
   "metadata": {},
   "outputs": [
    {
     "name": "stdout",
     "output_type": "stream",
     "text": [
      "Final average sMAPE score: 7.737109525818532\n"
     ]
    }
   ],
   "source": [
    "bar_model = RandomForestRegressor(n_estimators=20, max_depth=1, random_state=12345)\n",
    "bar_score = cross_val_score(bar_model, train_features, train_target, scoring=sMAPE_score, cv=5)\n",
    "print('Final average sMAPE score:', np.abs(bar_score.mean()))"
   ]
  },
  {
   "cell_type": "markdown",
   "metadata": {},
   "source": [
    "The best regression random forest model had an average final **sMAPE score of: 7.737%, a number of estimators of 20, and a maximum depth of 1**.\n",
    "\n",
    "Below are the models and their average final sMAPE score for each model:\n",
    "\n",
    "| Model                  | sMAPE final | Parameters       |\n",
    "|------------------------|-------------|------------------|\n",
    "|Linear regression       | 8.318       | NA               |\n",
    "|Regression tree         | 7.786       | max_depth = 1    |\n",
    "|Random forest regressor | 7.737       | max_depth = 1, n_estimators = 20| \n",
    "\n",
    "The **regression random forest model was the model with the lowest sMAPE score** so we are going to use this model to test the model with the test set and perform a sanity test."
   ]
  },
  {
   "cell_type": "markdown",
   "metadata": {},
   "source": [
    "## Evaluation of the best model <a id='3.3'></a>\n",
    "\n",
    "Let's evaluate our random forest regression model with the test set."
   ]
  },
  {
   "cell_type": "code",
   "execution_count": 44,
   "metadata": {},
   "outputs": [
    {
     "name": "stdout",
     "output_type": "stream",
     "text": [
      "Score sMAPE final: 8.303884834839526\n"
     ]
    }
   ],
   "source": [
    "final_model = RandomForestRegressor(n_estimators=20, max_depth=1, random_state=12345)\n",
    "final_model.fit(train_features, train_target)\n",
    "predictions = final_model.predict(test_features)\n",
    "smape_final = final_smape(test_target, predictions)\n",
    "print('Score sMAPE final:', smape_final)"
   ]
  },
  {
   "cell_type": "markdown",
   "metadata": {},
   "source": [
    "Our model obtains a final **sMAPE score of 8.303%** which means that the predictions for rougher and final concentrate recovery deviate ~8% from the true value. This score was lower than the cross-validated trained model."
   ]
  },
  {
   "cell_type": "markdown",
   "metadata": {},
   "source": [
    "## Sanity test <a id='4.4'></a>\n",
    "\n",
    "Finally we are going to carry out a sanity test to verify that the predictions of our final model are different from a random model. For that we are going to obtain the final sMAPE using the median value (calculated through all the dates) of the recovery of the rougher concentrate and the recovery of the final concentrate as target variables of the test set."
   ]
  },
  {
   "cell_type": "code",
   "execution_count": 45,
   "metadata": {},
   "outputs": [
    {
     "name": "stdout",
     "output_type": "stream",
     "text": [
      "Median rougher concentrate:      87.50138217009426\n",
      "Median final output concentrate: 69.97263317066688\n"
     ]
    }
   ],
   "source": [
    "# Median values\n",
    "rougher_output_median = test_target['rougher.output.recovery'].median()\n",
    "final_ouput_median    = test_target['final.output.recovery'].median()\n",
    "\n",
    "print(f'Median rougher concentrate:      {rougher_output_median}')\n",
    "print(f'Median final output concentrate: {final_ouput_median}')"
   ]
  },
  {
   "cell_type": "code",
   "execution_count": 46,
   "metadata": {},
   "outputs": [
    {
     "name": "stdout",
     "output_type": "stream",
     "text": [
      "(5383, 2)\n"
     ]
    },
    {
     "data": {
      "text/html": [
       "<div>\n",
       "<style scoped>\n",
       "    .dataframe tbody tr th:only-of-type {\n",
       "        vertical-align: middle;\n",
       "    }\n",
       "\n",
       "    .dataframe tbody tr th {\n",
       "        vertical-align: top;\n",
       "    }\n",
       "\n",
       "    .dataframe thead th {\n",
       "        text-align: right;\n",
       "    }\n",
       "</style>\n",
       "<table border=\"1\" class=\"dataframe\">\n",
       "  <thead>\n",
       "    <tr style=\"text-align: right;\">\n",
       "      <th></th>\n",
       "      <th>rougher.output.recovery</th>\n",
       "      <th>final.output.recovery</th>\n",
       "    </tr>\n",
       "    <tr>\n",
       "      <th>date</th>\n",
       "      <th></th>\n",
       "      <th></th>\n",
       "    </tr>\n",
       "  </thead>\n",
       "  <tbody>\n",
       "    <tr>\n",
       "      <th>2016-09-01 00:59:59</th>\n",
       "      <td>87.501382</td>\n",
       "      <td>69.972633</td>\n",
       "    </tr>\n",
       "    <tr>\n",
       "      <th>2016-09-01 01:59:59</th>\n",
       "      <td>87.501382</td>\n",
       "      <td>69.972633</td>\n",
       "    </tr>\n",
       "    <tr>\n",
       "      <th>2016-09-01 02:59:59</th>\n",
       "      <td>87.501382</td>\n",
       "      <td>69.972633</td>\n",
       "    </tr>\n",
       "    <tr>\n",
       "      <th>2016-09-01 03:59:59</th>\n",
       "      <td>87.501382</td>\n",
       "      <td>69.972633</td>\n",
       "    </tr>\n",
       "    <tr>\n",
       "      <th>2016-09-01 04:59:59</th>\n",
       "      <td>87.501382</td>\n",
       "      <td>69.972633</td>\n",
       "    </tr>\n",
       "  </tbody>\n",
       "</table>\n",
       "</div>"
      ],
      "text/plain": [
       "                     rougher.output.recovery  final.output.recovery\n",
       "date                                                               \n",
       "2016-09-01 00:59:59                87.501382              69.972633\n",
       "2016-09-01 01:59:59                87.501382              69.972633\n",
       "2016-09-01 02:59:59                87.501382              69.972633\n",
       "2016-09-01 03:59:59                87.501382              69.972633\n",
       "2016-09-01 04:59:59                87.501382              69.972633"
      ]
     },
     "execution_count": 46,
     "metadata": {},
     "output_type": "execute_result"
    }
   ],
   "source": [
    "# Creation of DataFrame with objective variables constant in its median\n",
    "target_pred_constant = pd.DataFrame(data={'rougher.output.recovery':rougher_output_median,\n",
    "                                         'final.output.recovery':final_ouput_median}, index = test_target.index)\n",
    "\n",
    "# Size of the DataFrame with constant values\n",
    "print(target_pred_constant.shape)\n",
    "\n",
    "# Display 'target_pred_constant'\n",
    "target_pred_constant.head()"
   ]
  },
  {
   "cell_type": "code",
   "execution_count": 47,
   "metadata": {},
   "outputs": [
    {
     "name": "stdout",
     "output_type": "stream",
     "text": [
      "Score sMAPE sanity test: 7.748033509777981\n",
      "Difference between final model and sanity test: 0.5558513250615444\n"
     ]
    }
   ],
   "source": [
    "# sMAPE value\n",
    "cordura_smape_final = final_smape(test_target, target_pred_constant.to_numpy())\n",
    "print('Score sMAPE sanity test:', cordura_smape_final)\n",
    "print('Difference between final model and sanity test:', smape_final - cordura_smape_final)"
   ]
  },
  {
   "cell_type": "markdown",
   "metadata": {},
   "source": [
    "The sanity test indicates that **our final model is not significantly better than a constant model**. Our sanity test returned a final sMAPE of 8.30% showing a **0.55 percentage point difference from our final model**.\n",
    "\n",
    "However, assigning the mean value of the target variables across all sampling dates may not be the best strategy for designing a constant model. Since the data belongs to different consecutive days, we are going to calculate the median value _per sampling day_ and create a model based on these values."
   ]
  },
  {
   "cell_type": "code",
   "execution_count": 48,
   "metadata": {},
   "outputs": [
    {
     "name": "stdout",
     "output_type": "stream",
     "text": [
      "Score sMAPE final sanity test: 5.148364843000906\n",
      "Difference between final model and sanity test: 3.155519991838619\n"
     ]
    }
   ],
   "source": [
    "# Obtain the average value per day of the objective variables\n",
    "recovery_perday_median = test_target.resample('D')['rougher.output.recovery','final.output.recovery'].median()\n",
    "\n",
    "# Create a data frame by resetting the index to handle the date\n",
    "target_pred_daily = target_pred_constant.reset_index()\n",
    "\n",
    "# Get only the date from the date column - time is discarded\n",
    "target_pred_daily['date'] = target_pred_daily['date'].dt.date\n",
    "\n",
    "# Reset the date as the index of the DataFrame\n",
    "target_pred_daily.set_index('date', inplace=True)\n",
    "\n",
    "# Join the median values per day with the dummy table using the index (date) as join reference\n",
    "target_pred_daily = target_pred_daily.merge(recovery_perday_median, left_index=True, right_index=True, suffixes=('_x', ''), how='left')\n",
    "target_pred_daily = target_pred_daily[['rougher.output.recovery','final.output.recovery']]\n",
    "\n",
    "# Sanity test\n",
    "cordura_daily_smape = final_smape(test_target, target_pred_daily.to_numpy())\n",
    "\n",
    "print(f'Score sMAPE final sanity test:', cordura_daily_smape)\n",
    "print('Difference between final model and sanity test:', smape_final - cordura_daily_smape)"
   ]
  },
  {
   "cell_type": "markdown",
   "metadata": {},
   "source": [
    "The final sMAPE value of our constant model using the mean daily value of the target variables was even better than the first constant model (7.74% vs 5.14%) and our final model (8.30% vs 5.14%) outperforming the latter. by **3.15 percentage points**."
   ]
  },
  {
   "cell_type": "markdown",
   "metadata": {},
   "source": [
    "# Conclusions <a id='4'></a>\n",
    "\n",
    "In this project, a machine learning model was built to predict the gold concentration at the end of two purification stages (flotation and final purification). Prior to building this model, I check the reliability of the data by calculating the percentage recovery after flotation. The change of the concentrations of different substances through the purification process were analyzed. Feed particle size was compared between the training and test sets. Finally, the data was processed, which included: handling of missing values, elimination of outliers, selection of objective variables and characteristics, and scaling of numerical variables.\n",
    "\n",
    "The model was selected from among three contending models based on its final symmetric mean absolute percentage error (final sMAPE) score obtained by cross-validation with 5 blocks. The best model was a randomized forest regression which offered a final sMAPE score of 8.30% when evaluated with the test set.\n",
    "\n",
    "However, sanity tests with constant values fixed to the total and daily mean outperformed our best model. This calls into question whether the variables with which the model was trained are the appropriate variables to make predictions. Let us remember that the test set had fewer variables available than the training set, which forced us to build models with fewer variables (32 fewer characteristic variables), some of them perhaps more significant (eg, `rougher.output.concentrate_au` needed to calculate recovery).\n",
    "\n",
    "It is recommended to build alternative models with different target variables or to supplement the training and testing set with missing features."
   ]
  }
 ],
 "metadata": {
  "ExecuteTimeLog": [
   {
    "duration": 2454,
    "start_time": "2022-09-04T15:40:02.650Z"
   },
   {
    "duration": 430,
    "start_time": "2022-09-04T15:41:51.381Z"
   },
   {
    "duration": 530,
    "start_time": "2022-09-04T15:52:37.567Z"
   },
   {
    "duration": 24,
    "start_time": "2022-09-04T15:53:08.770Z"
   },
   {
    "duration": 282,
    "start_time": "2022-09-04T15:54:23.053Z"
   },
   {
    "duration": 19,
    "start_time": "2022-09-04T15:54:28.620Z"
   },
   {
    "duration": 987,
    "start_time": "2022-09-04T16:05:30.590Z"
   },
   {
    "duration": 33,
    "start_time": "2022-09-04T16:07:35.818Z"
   },
   {
    "duration": 28,
    "start_time": "2022-09-04T16:09:13.613Z"
   },
   {
    "duration": 30,
    "start_time": "2022-09-04T16:10:01.531Z"
   },
   {
    "duration": 19,
    "start_time": "2022-09-04T16:19:25.633Z"
   },
   {
    "duration": 31,
    "start_time": "2022-09-04T16:19:53.417Z"
   },
   {
    "duration": 22,
    "start_time": "2022-09-04T16:20:19.746Z"
   },
   {
    "duration": 408,
    "start_time": "2022-09-04T16:31:59.445Z"
   },
   {
    "duration": 81,
    "start_time": "2022-09-04T16:34:01.345Z"
   },
   {
    "duration": 24,
    "start_time": "2022-09-04T16:34:12.416Z"
   },
   {
    "duration": 17,
    "start_time": "2022-09-04T16:35:57.550Z"
   },
   {
    "duration": 24,
    "start_time": "2022-09-04T16:36:08.426Z"
   },
   {
    "duration": 17,
    "start_time": "2022-09-04T16:37:01.259Z"
   },
   {
    "duration": 24,
    "start_time": "2022-09-04T16:38:09.343Z"
   },
   {
    "duration": 18,
    "start_time": "2022-09-04T16:41:32.468Z"
   },
   {
    "duration": 27,
    "start_time": "2022-09-04T16:42:21.889Z"
   },
   {
    "duration": 27,
    "start_time": "2022-09-04T16:44:53.161Z"
   },
   {
    "duration": 24,
    "start_time": "2022-09-04T16:45:38.646Z"
   },
   {
    "duration": 17,
    "start_time": "2022-09-04T16:45:49.045Z"
   },
   {
    "duration": 25,
    "start_time": "2022-09-04T16:45:55.734Z"
   },
   {
    "duration": 24,
    "start_time": "2022-09-04T16:51:59.843Z"
   },
   {
    "duration": 22,
    "start_time": "2022-09-04T17:06:04.462Z"
   },
   {
    "duration": 21,
    "start_time": "2022-09-04T17:06:19.829Z"
   },
   {
    "duration": 2627,
    "start_time": "2022-09-04T22:29:00.860Z"
   },
   {
    "duration": 362,
    "start_time": "2022-09-04T22:29:03.489Z"
   },
   {
    "duration": 4157,
    "start_time": "2022-09-04T22:29:03.853Z"
   },
   {
    "duration": 35,
    "start_time": "2022-09-04T22:29:08.012Z"
   },
   {
    "duration": 49,
    "start_time": "2022-09-04T22:29:08.049Z"
   },
   {
    "duration": 30,
    "start_time": "2022-09-04T22:29:08.100Z"
   },
   {
    "duration": 55,
    "start_time": "2022-09-04T22:29:08.131Z"
   },
   {
    "duration": 419,
    "start_time": "2022-09-04T22:29:08.188Z"
   },
   {
    "duration": 16,
    "start_time": "2022-09-04T22:29:08.609Z"
   },
   {
    "duration": 51,
    "start_time": "2022-09-04T22:29:08.627Z"
   },
   {
    "duration": 49,
    "start_time": "2022-09-04T22:33:28.921Z"
   },
   {
    "duration": 30,
    "start_time": "2022-09-04T22:33:55.942Z"
   },
   {
    "duration": 31,
    "start_time": "2022-09-04T22:34:22.160Z"
   },
   {
    "duration": 14,
    "start_time": "2022-09-04T23:07:33.666Z"
   },
   {
    "duration": 1899,
    "start_time": "2022-09-04T23:08:19.180Z"
   },
   {
    "duration": 344,
    "start_time": "2022-09-04T23:08:21.081Z"
   },
   {
    "duration": 763,
    "start_time": "2022-09-04T23:08:21.426Z"
   },
   {
    "duration": 34,
    "start_time": "2022-09-04T23:08:22.191Z"
   },
   {
    "duration": 30,
    "start_time": "2022-09-04T23:08:22.226Z"
   },
   {
    "duration": 17,
    "start_time": "2022-09-04T23:08:22.257Z"
   },
   {
    "duration": 22,
    "start_time": "2022-09-04T23:08:22.276Z"
   },
   {
    "duration": 22,
    "start_time": "2022-09-04T23:08:22.299Z"
   },
   {
    "duration": 16,
    "start_time": "2022-09-04T23:11:36.728Z"
   },
   {
    "duration": 4,
    "start_time": "2022-09-04T23:19:49.252Z"
   },
   {
    "duration": 208,
    "start_time": "2022-09-04T23:21:42.380Z"
   },
   {
    "duration": 583,
    "start_time": "2022-09-04T23:26:26.674Z"
   },
   {
    "duration": 6,
    "start_time": "2022-09-04T23:27:37.218Z"
   },
   {
    "duration": 4,
    "start_time": "2022-09-04T23:34:52.893Z"
   },
   {
    "duration": 3599,
    "start_time": "2022-09-05T15:25:15.468Z"
   },
   {
    "duration": 1465,
    "start_time": "2022-09-05T15:25:19.070Z"
   },
   {
    "duration": 3980,
    "start_time": "2022-09-05T15:25:20.536Z"
   },
   {
    "duration": 44,
    "start_time": "2022-09-05T15:25:24.518Z"
   },
   {
    "duration": 27,
    "start_time": "2022-09-05T15:25:24.564Z"
   },
   {
    "duration": 26,
    "start_time": "2022-09-05T15:25:24.593Z"
   },
   {
    "duration": 42,
    "start_time": "2022-09-05T15:25:24.621Z"
   },
   {
    "duration": 49,
    "start_time": "2022-09-05T15:25:24.665Z"
   },
   {
    "duration": 4,
    "start_time": "2022-09-05T15:25:24.715Z"
   },
   {
    "duration": 236,
    "start_time": "2022-09-05T15:25:24.721Z"
   },
   {
    "duration": 5,
    "start_time": "2022-09-05T15:25:24.958Z"
   },
   {
    "duration": 22,
    "start_time": "2022-09-05T15:25:24.965Z"
   },
   {
    "duration": 663,
    "start_time": "2022-09-05T15:25:24.989Z"
   },
   {
    "duration": 20,
    "start_time": "2022-09-05T15:25:25.654Z"
   },
   {
    "duration": 30,
    "start_time": "2022-09-05T15:25:25.676Z"
   },
   {
    "duration": 77,
    "start_time": "2022-09-05T15:25:25.708Z"
   },
   {
    "duration": 1978,
    "start_time": "2022-09-05T15:26:16.922Z"
   },
   {
    "duration": 990,
    "start_time": "2022-09-05T15:26:18.903Z"
   },
   {
    "duration": 789,
    "start_time": "2022-09-05T15:26:19.894Z"
   },
   {
    "duration": 38,
    "start_time": "2022-09-05T15:26:20.684Z"
   },
   {
    "duration": 36,
    "start_time": "2022-09-05T15:26:20.723Z"
   },
   {
    "duration": 19,
    "start_time": "2022-09-05T15:26:20.760Z"
   },
   {
    "duration": 21,
    "start_time": "2022-09-05T15:26:20.781Z"
   },
   {
    "duration": 47,
    "start_time": "2022-09-05T15:26:20.804Z"
   },
   {
    "duration": 3,
    "start_time": "2022-09-05T15:26:20.853Z"
   },
   {
    "duration": 199,
    "start_time": "2022-09-05T15:26:20.858Z"
   },
   {
    "duration": 4,
    "start_time": "2022-09-05T15:26:21.058Z"
   },
   {
    "duration": 3,
    "start_time": "2022-09-05T15:31:58.198Z"
   },
   {
    "duration": 6,
    "start_time": "2022-09-05T15:32:12.715Z"
   },
   {
    "duration": 4,
    "start_time": "2022-09-05T15:32:21.330Z"
   },
   {
    "duration": 5,
    "start_time": "2022-09-05T15:33:35.075Z"
   },
   {
    "duration": 8,
    "start_time": "2022-09-05T15:33:57.298Z"
   },
   {
    "duration": 7,
    "start_time": "2022-09-05T15:34:03.577Z"
   },
   {
    "duration": 44,
    "start_time": "2022-09-05T23:00:58.022Z"
   },
   {
    "duration": 2528,
    "start_time": "2022-09-05T23:01:18.985Z"
   },
   {
    "duration": 1040,
    "start_time": "2022-09-05T23:01:21.516Z"
   },
   {
    "duration": 4031,
    "start_time": "2022-09-05T23:01:22.557Z"
   },
   {
    "duration": 34,
    "start_time": "2022-09-05T23:01:26.590Z"
   },
   {
    "duration": 25,
    "start_time": "2022-09-05T23:01:26.626Z"
   },
   {
    "duration": 18,
    "start_time": "2022-09-05T23:01:26.653Z"
   },
   {
    "duration": 21,
    "start_time": "2022-09-05T23:01:26.673Z"
   },
   {
    "duration": 16,
    "start_time": "2022-09-05T23:01:29.612Z"
   },
   {
    "duration": 3,
    "start_time": "2022-09-05T23:01:52.031Z"
   },
   {
    "duration": 198,
    "start_time": "2022-09-05T23:01:59.155Z"
   },
   {
    "duration": 59,
    "start_time": "2022-09-05T23:02:05.329Z"
   },
   {
    "duration": 1916,
    "start_time": "2022-09-05T23:02:39.615Z"
   },
   {
    "duration": 1007,
    "start_time": "2022-09-05T23:02:41.533Z"
   },
   {
    "duration": 757,
    "start_time": "2022-09-05T23:02:42.541Z"
   },
   {
    "duration": 41,
    "start_time": "2022-09-05T23:02:43.300Z"
   },
   {
    "duration": 23,
    "start_time": "2022-09-05T23:02:43.343Z"
   },
   {
    "duration": 17,
    "start_time": "2022-09-05T23:02:43.367Z"
   },
   {
    "duration": 19,
    "start_time": "2022-09-05T23:02:43.386Z"
   },
   {
    "duration": 38,
    "start_time": "2022-09-05T23:02:43.406Z"
   },
   {
    "duration": 3,
    "start_time": "2022-09-05T23:02:43.445Z"
   },
   {
    "duration": 217,
    "start_time": "2022-09-05T23:02:43.449Z"
   },
   {
    "duration": 100,
    "start_time": "2022-09-05T23:02:43.668Z"
   },
   {
    "duration": 20,
    "start_time": "2022-09-05T23:03:23.050Z"
   },
   {
    "duration": 2,
    "start_time": "2022-09-05T23:03:27.493Z"
   },
   {
    "duration": 272,
    "start_time": "2022-09-05T23:03:29.453Z"
   },
   {
    "duration": 13,
    "start_time": "2022-09-05T23:03:35.242Z"
   },
   {
    "duration": 12,
    "start_time": "2022-09-05T23:03:42.183Z"
   },
   {
    "duration": 1907,
    "start_time": "2022-09-05T23:04:23.754Z"
   },
   {
    "duration": 1009,
    "start_time": "2022-09-05T23:04:25.664Z"
   },
   {
    "duration": 760,
    "start_time": "2022-09-05T23:04:26.675Z"
   },
   {
    "duration": 36,
    "start_time": "2022-09-05T23:04:27.437Z"
   },
   {
    "duration": 30,
    "start_time": "2022-09-05T23:04:27.474Z"
   },
   {
    "duration": 36,
    "start_time": "2022-09-05T23:04:27.505Z"
   },
   {
    "duration": 19,
    "start_time": "2022-09-05T23:04:27.543Z"
   },
   {
    "duration": 20,
    "start_time": "2022-09-05T23:04:27.564Z"
   },
   {
    "duration": 3,
    "start_time": "2022-09-05T23:04:27.585Z"
   },
   {
    "duration": 194,
    "start_time": "2022-09-05T23:04:27.590Z"
   },
   {
    "duration": 4,
    "start_time": "2022-09-05T23:04:36.221Z"
   },
   {
    "duration": 2394,
    "start_time": "2022-09-05T23:05:22.954Z"
   },
   {
    "duration": 1802,
    "start_time": "2022-09-05T23:05:25.350Z"
   },
   {
    "duration": 758,
    "start_time": "2022-09-05T23:05:27.154Z"
   },
   {
    "duration": 43,
    "start_time": "2022-09-05T23:05:27.913Z"
   },
   {
    "duration": 23,
    "start_time": "2022-09-05T23:05:27.958Z"
   },
   {
    "duration": 17,
    "start_time": "2022-09-05T23:05:27.982Z"
   },
   {
    "duration": 39,
    "start_time": "2022-09-05T23:05:28.001Z"
   },
   {
    "duration": 17,
    "start_time": "2022-09-05T23:05:28.041Z"
   },
   {
    "duration": 3,
    "start_time": "2022-09-05T23:05:28.060Z"
   },
   {
    "duration": 233,
    "start_time": "2022-09-05T23:05:28.064Z"
   },
   {
    "duration": 100,
    "start_time": "2022-09-05T23:05:42.733Z"
   },
   {
    "duration": 6,
    "start_time": "2022-09-05T23:07:00.804Z"
   },
   {
    "duration": 14,
    "start_time": "2022-09-05T23:07:14.849Z"
   },
   {
    "duration": 19,
    "start_time": "2022-09-05T23:07:37.370Z"
   },
   {
    "duration": 221,
    "start_time": "2022-09-05T23:07:43.437Z"
   },
   {
    "duration": 5,
    "start_time": "2022-09-05T23:07:45.957Z"
   },
   {
    "duration": 7,
    "start_time": "2022-09-05T23:14:42.712Z"
   },
   {
    "duration": 4773,
    "start_time": "2022-09-05T23:21:56.045Z"
   },
   {
    "duration": 3014,
    "start_time": "2022-09-07T09:01:24.600Z"
   },
   {
    "duration": 1034,
    "start_time": "2022-09-07T09:01:27.617Z"
   },
   {
    "duration": 1302,
    "start_time": "2022-09-07T09:01:28.653Z"
   },
   {
    "duration": 41,
    "start_time": "2022-09-07T09:01:29.958Z"
   },
   {
    "duration": 28,
    "start_time": "2022-09-07T09:01:30.001Z"
   },
   {
    "duration": 41,
    "start_time": "2022-09-07T09:01:30.031Z"
   },
   {
    "duration": 34,
    "start_time": "2022-09-07T09:01:30.073Z"
   },
   {
    "duration": 38,
    "start_time": "2022-09-07T09:01:30.108Z"
   },
   {
    "duration": 3,
    "start_time": "2022-09-07T09:01:30.148Z"
   },
   {
    "duration": 218,
    "start_time": "2022-09-07T09:01:30.153Z"
   },
   {
    "duration": 4,
    "start_time": "2022-09-07T09:01:30.373Z"
   },
   {
    "duration": 9,
    "start_time": "2022-09-07T09:01:30.378Z"
   },
   {
    "duration": 1461,
    "start_time": "2022-09-07T09:01:30.389Z"
   },
   {
    "duration": 517,
    "start_time": "2022-09-07T09:13:39.685Z"
   },
   {
    "duration": 20,
    "start_time": "2022-09-07T09:13:49.570Z"
   },
   {
    "duration": 30,
    "start_time": "2022-09-07T09:14:07.937Z"
   },
   {
    "duration": 26,
    "start_time": "2022-09-07T09:18:55.293Z"
   },
   {
    "duration": 103,
    "start_time": "2022-09-07T09:19:26.293Z"
   },
   {
    "duration": 71,
    "start_time": "2022-09-07T09:19:32.301Z"
   },
   {
    "duration": 38,
    "start_time": "2022-09-07T09:22:07.520Z"
   },
   {
    "duration": 9,
    "start_time": "2022-09-07T09:43:59.747Z"
   },
   {
    "duration": 7,
    "start_time": "2022-09-07T09:48:46.463Z"
   },
   {
    "duration": 20,
    "start_time": "2022-09-07T09:51:24.713Z"
   },
   {
    "duration": 6,
    "start_time": "2022-09-07T09:51:32.116Z"
   },
   {
    "duration": 1441,
    "start_time": "2022-09-07T09:51:34.086Z"
   },
   {
    "duration": 1749,
    "start_time": "2022-09-07T09:52:01.477Z"
   },
   {
    "duration": 197,
    "start_time": "2022-09-07T09:54:32.385Z"
   },
   {
    "duration": 182,
    "start_time": "2022-09-07T09:55:32.678Z"
   },
   {
    "duration": 271,
    "start_time": "2022-09-07T09:58:34.908Z"
   },
   {
    "duration": 191,
    "start_time": "2022-09-07T09:58:49.870Z"
   },
   {
    "duration": 195,
    "start_time": "2022-09-07T09:59:26.098Z"
   },
   {
    "duration": 196,
    "start_time": "2022-09-07T09:59:38.695Z"
   },
   {
    "duration": 189,
    "start_time": "2022-09-07T09:59:44.501Z"
   },
   {
    "duration": 4,
    "start_time": "2022-09-07T10:01:53.702Z"
   },
   {
    "duration": 204,
    "start_time": "2022-09-07T10:01:57.648Z"
   },
   {
    "duration": 354,
    "start_time": "2022-09-07T10:04:10.680Z"
   },
   {
    "duration": 4,
    "start_time": "2022-09-07T10:07:19.936Z"
   },
   {
    "duration": 382,
    "start_time": "2022-09-07T10:08:11.420Z"
   },
   {
    "duration": 473,
    "start_time": "2022-09-07T10:08:33.015Z"
   },
   {
    "duration": 4,
    "start_time": "2022-09-07T10:14:50.816Z"
   },
   {
    "duration": 387,
    "start_time": "2022-09-07T10:15:45.646Z"
   },
   {
    "duration": 273,
    "start_time": "2022-09-07T10:16:13.618Z"
   },
   {
    "duration": 256,
    "start_time": "2022-09-07T10:16:40.702Z"
   },
   {
    "duration": 370,
    "start_time": "2022-09-07T10:17:04.413Z"
   },
   {
    "duration": 4,
    "start_time": "2022-09-07T10:17:48.232Z"
   },
   {
    "duration": 23,
    "start_time": "2022-09-07T10:17:57.181Z"
   },
   {
    "duration": 20,
    "start_time": "2022-09-07T10:18:11.546Z"
   },
   {
    "duration": 19,
    "start_time": "2022-09-07T10:18:28.084Z"
   },
   {
    "duration": 8,
    "start_time": "2022-09-07T10:32:39.544Z"
   },
   {
    "duration": 9,
    "start_time": "2022-09-07T10:33:04.693Z"
   },
   {
    "duration": 686,
    "start_time": "2022-09-07T10:34:41.186Z"
   },
   {
    "duration": 783,
    "start_time": "2022-09-07T10:35:16.126Z"
   },
   {
    "duration": 362,
    "start_time": "2022-09-07T10:35:37.753Z"
   },
   {
    "duration": 204,
    "start_time": "2022-09-07T10:35:52.615Z"
   },
   {
    "duration": 365,
    "start_time": "2022-09-07T10:36:58.982Z"
   },
   {
    "duration": 426,
    "start_time": "2022-09-07T10:39:28.590Z"
   },
   {
    "duration": 17,
    "start_time": "2022-09-07T11:29:44.417Z"
   },
   {
    "duration": 249,
    "start_time": "2022-09-07T11:34:09.982Z"
   },
   {
    "duration": 14,
    "start_time": "2022-09-07T11:35:02.939Z"
   },
   {
    "duration": 11,
    "start_time": "2022-09-07T11:35:20.017Z"
   },
   {
    "duration": 45,
    "start_time": "2022-09-07T11:47:37.824Z"
   },
   {
    "duration": 104,
    "start_time": "2022-09-07T11:47:57.152Z"
   },
   {
    "duration": 130,
    "start_time": "2022-09-07T11:48:16.093Z"
   },
   {
    "duration": 178,
    "start_time": "2022-09-07T11:48:31.026Z"
   },
   {
    "duration": 171,
    "start_time": "2022-09-07T11:49:10.613Z"
   },
   {
    "duration": 194,
    "start_time": "2022-09-07T11:50:02.173Z"
   },
   {
    "duration": 174,
    "start_time": "2022-09-07T11:51:52.514Z"
   },
   {
    "duration": 1333,
    "start_time": "2022-09-07T11:52:40.545Z"
   },
   {
    "duration": 15,
    "start_time": "2022-09-07T11:52:59.876Z"
   },
   {
    "duration": 280,
    "start_time": "2022-09-07T11:53:03.978Z"
   },
   {
    "duration": 12,
    "start_time": "2022-09-07T11:54:55.148Z"
   },
   {
    "duration": 114,
    "start_time": "2022-09-07T11:55:09.916Z"
   },
   {
    "duration": 103,
    "start_time": "2022-09-07T11:57:53.574Z"
   },
   {
    "duration": 73,
    "start_time": "2022-09-07T12:04:48.037Z"
   },
   {
    "duration": 335,
    "start_time": "2022-09-07T12:06:42.906Z"
   },
   {
    "duration": 354,
    "start_time": "2022-09-07T12:08:47.190Z"
   },
   {
    "duration": 374,
    "start_time": "2022-09-07T12:09:49.520Z"
   },
   {
    "duration": 366,
    "start_time": "2022-09-07T12:11:40.197Z"
   },
   {
    "duration": 337,
    "start_time": "2022-09-07T12:12:04.882Z"
   },
   {
    "duration": 414,
    "start_time": "2022-09-07T12:13:06.465Z"
   },
   {
    "duration": 314,
    "start_time": "2022-09-07T12:13:24.806Z"
   },
   {
    "duration": 26,
    "start_time": "2022-09-07T12:13:40.207Z"
   },
   {
    "duration": 25,
    "start_time": "2022-09-07T12:13:43.766Z"
   },
   {
    "duration": 330,
    "start_time": "2022-09-07T12:13:55.753Z"
   },
   {
    "duration": 17,
    "start_time": "2022-09-07T12:14:07.662Z"
   },
   {
    "duration": 443,
    "start_time": "2022-09-07T12:14:20.210Z"
   },
   {
    "duration": 347,
    "start_time": "2022-09-07T12:14:28.964Z"
   },
   {
    "duration": 333,
    "start_time": "2022-09-07T12:15:03.778Z"
   },
   {
    "duration": 384,
    "start_time": "2022-09-07T12:22:16.506Z"
   },
   {
    "duration": 292,
    "start_time": "2022-09-07T12:22:39.777Z"
   },
   {
    "duration": 471,
    "start_time": "2022-09-07T12:22:46.197Z"
   },
   {
    "duration": 389,
    "start_time": "2022-09-07T12:23:16.612Z"
   },
   {
    "duration": 299,
    "start_time": "2022-09-07T12:23:50.017Z"
   },
   {
    "duration": 323,
    "start_time": "2022-09-07T12:24:14.703Z"
   },
   {
    "duration": 320,
    "start_time": "2022-09-07T12:25:08.528Z"
   },
   {
    "duration": 3,
    "start_time": "2022-09-07T12:27:34.217Z"
   },
   {
    "duration": 403,
    "start_time": "2022-09-07T12:27:36.656Z"
   },
   {
    "duration": 400,
    "start_time": "2022-09-07T12:27:40.877Z"
   },
   {
    "duration": 336,
    "start_time": "2022-09-07T12:28:12.108Z"
   },
   {
    "duration": 2035,
    "start_time": "2022-09-07T15:58:31.818Z"
   },
   {
    "duration": 1333,
    "start_time": "2022-09-07T15:58:33.855Z"
   },
   {
    "duration": 787,
    "start_time": "2022-09-07T15:58:35.190Z"
   },
   {
    "duration": 40,
    "start_time": "2022-09-07T15:58:35.979Z"
   },
   {
    "duration": 26,
    "start_time": "2022-09-07T15:58:36.021Z"
   },
   {
    "duration": 24,
    "start_time": "2022-09-07T15:58:36.068Z"
   },
   {
    "duration": 23,
    "start_time": "2022-09-07T15:58:36.093Z"
   },
   {
    "duration": 26,
    "start_time": "2022-09-07T15:58:36.118Z"
   },
   {
    "duration": 22,
    "start_time": "2022-09-07T15:58:36.146Z"
   },
   {
    "duration": 204,
    "start_time": "2022-09-07T15:58:36.171Z"
   },
   {
    "duration": 4,
    "start_time": "2022-09-07T15:58:36.377Z"
   },
   {
    "duration": 14,
    "start_time": "2022-09-07T15:58:36.382Z"
   },
   {
    "duration": 91,
    "start_time": "2022-09-07T15:58:36.398Z"
   },
   {
    "duration": 23,
    "start_time": "2022-09-07T15:58:36.490Z"
   },
   {
    "duration": 57,
    "start_time": "2022-09-07T15:58:36.515Z"
   },
   {
    "duration": 28,
    "start_time": "2022-09-07T15:58:36.575Z"
   },
   {
    "duration": 40,
    "start_time": "2022-09-07T15:58:36.606Z"
   },
   {
    "duration": 23,
    "start_time": "2022-09-07T15:58:36.648Z"
   },
   {
    "duration": 462,
    "start_time": "2022-09-07T15:58:36.673Z"
   },
   {
    "duration": 4,
    "start_time": "2022-09-07T15:58:37.137Z"
   },
   {
    "duration": 278,
    "start_time": "2022-09-07T15:58:37.142Z"
   },
   {
    "duration": 4,
    "start_time": "2022-09-07T15:58:37.422Z"
   },
   {
    "duration": 253,
    "start_time": "2022-09-07T15:58:37.428Z"
   },
   {
    "duration": 397,
    "start_time": "2022-09-07T15:58:37.683Z"
   },
   {
    "duration": 16,
    "start_time": "2022-09-07T15:58:38.083Z"
   },
   {
    "duration": 3,
    "start_time": "2022-09-07T15:58:38.101Z"
   },
   {
    "duration": 326,
    "start_time": "2022-09-07T15:58:38.106Z"
   },
   {
    "duration": 383,
    "start_time": "2022-09-07T15:58:38.437Z"
   },
   {
    "duration": 350,
    "start_time": "2022-09-07T15:58:38.822Z"
   },
   {
    "duration": 23,
    "start_time": "2022-09-07T17:43:01.338Z"
   },
   {
    "duration": 203,
    "start_time": "2022-09-07T17:43:10.652Z"
   },
   {
    "duration": 6,
    "start_time": "2022-09-07T17:43:16.648Z"
   },
   {
    "duration": 106,
    "start_time": "2022-09-07T17:44:32.421Z"
   },
   {
    "duration": 11,
    "start_time": "2022-09-07T17:44:51.364Z"
   },
   {
    "duration": 14,
    "start_time": "2022-09-07T18:05:03.485Z"
   },
   {
    "duration": 18,
    "start_time": "2022-09-07T18:05:11.067Z"
   },
   {
    "duration": 19,
    "start_time": "2022-09-07T18:06:12.493Z"
   },
   {
    "duration": 23,
    "start_time": "2022-09-07T18:07:26.123Z"
   },
   {
    "duration": 33,
    "start_time": "2022-09-07T18:10:48.192Z"
   },
   {
    "duration": 26,
    "start_time": "2022-09-07T18:15:24.565Z"
   },
   {
    "duration": 8485,
    "start_time": "2022-09-07T18:32:36.283Z"
   },
   {
    "duration": 5997,
    "start_time": "2022-09-07T18:35:30.861Z"
   },
   {
    "duration": 13,
    "start_time": "2022-09-07T18:37:22.195Z"
   },
   {
    "duration": 778,
    "start_time": "2022-09-07T18:38:07.514Z"
   },
   {
    "duration": 16,
    "start_time": "2022-09-07T18:41:47.508Z"
   },
   {
    "duration": 16,
    "start_time": "2022-09-07T18:42:27.677Z"
   },
   {
    "duration": 14,
    "start_time": "2022-09-07T18:47:00.029Z"
   },
   {
    "duration": 19,
    "start_time": "2022-09-07T18:47:23.964Z"
   },
   {
    "duration": 19,
    "start_time": "2022-09-07T18:47:36.483Z"
   },
   {
    "duration": 25,
    "start_time": "2022-09-07T18:48:54.467Z"
   },
   {
    "duration": 15,
    "start_time": "2022-09-07T18:49:44.114Z"
   },
   {
    "duration": 19,
    "start_time": "2022-09-07T18:49:55.588Z"
   },
   {
    "duration": 16,
    "start_time": "2022-09-07T18:50:08.316Z"
   },
   {
    "duration": 11,
    "start_time": "2022-09-07T20:37:03.182Z"
   },
   {
    "duration": 21,
    "start_time": "2022-09-07T21:25:02.597Z"
   },
   {
    "duration": 16,
    "start_time": "2022-09-07T21:28:00.446Z"
   },
   {
    "duration": 7,
    "start_time": "2022-09-07T21:28:24.237Z"
   },
   {
    "duration": 21,
    "start_time": "2022-09-07T21:28:35.025Z"
   },
   {
    "duration": 24,
    "start_time": "2022-09-07T21:28:48.198Z"
   },
   {
    "duration": 20,
    "start_time": "2022-09-07T21:29:10.891Z"
   },
   {
    "duration": 22,
    "start_time": "2022-09-07T21:29:28.310Z"
   },
   {
    "duration": 13,
    "start_time": "2022-09-07T21:29:47.966Z"
   },
   {
    "duration": 4,
    "start_time": "2022-09-07T22:04:14.077Z"
   },
   {
    "duration": 50,
    "start_time": "2022-09-07T22:19:15.635Z"
   },
   {
    "duration": 15,
    "start_time": "2022-09-07T22:27:20.645Z"
   },
   {
    "duration": 3,
    "start_time": "2022-09-07T22:27:28.683Z"
   },
   {
    "duration": 10,
    "start_time": "2022-09-07T22:27:34.661Z"
   },
   {
    "duration": 33,
    "start_time": "2022-09-07T22:27:44.429Z"
   },
   {
    "duration": 106,
    "start_time": "2022-09-07T22:28:07.569Z"
   },
   {
    "duration": 22,
    "start_time": "2022-09-07T22:28:34.703Z"
   },
   {
    "duration": 21,
    "start_time": "2022-09-07T22:29:18.066Z"
   },
   {
    "duration": 4,
    "start_time": "2022-09-07T22:40:58.590Z"
   },
   {
    "duration": 4,
    "start_time": "2022-09-07T22:45:50.076Z"
   },
   {
    "duration": 589,
    "start_time": "2022-09-07T22:47:36.085Z"
   },
   {
    "duration": 5,
    "start_time": "2022-09-07T22:53:19.077Z"
   },
   {
    "duration": 689,
    "start_time": "2022-09-07T22:53:28.679Z"
   },
   {
    "duration": 4,
    "start_time": "2022-09-07T22:54:26.181Z"
   },
   {
    "duration": 930,
    "start_time": "2022-09-07T22:54:31.938Z"
   },
   {
    "duration": 806,
    "start_time": "2022-09-07T22:55:29.868Z"
   },
   {
    "duration": 4,
    "start_time": "2022-09-07T22:57:07.175Z"
   },
   {
    "duration": 625,
    "start_time": "2022-09-07T22:57:16.845Z"
   },
   {
    "duration": 1383,
    "start_time": "2022-09-07T22:57:55.988Z"
   },
   {
    "duration": 1307,
    "start_time": "2022-09-07T23:02:39.763Z"
   },
   {
    "duration": 1141,
    "start_time": "2022-09-07T23:02:54.929Z"
   },
   {
    "duration": 11,
    "start_time": "2022-09-07T23:03:10.410Z"
   },
   {
    "duration": 1060,
    "start_time": "2022-09-07T23:03:37.217Z"
   },
   {
    "duration": 1401,
    "start_time": "2022-09-07T23:04:00.573Z"
   },
   {
    "duration": 4,
    "start_time": "2022-09-07T23:13:04.170Z"
   },
   {
    "duration": 1410,
    "start_time": "2022-09-07T23:13:12.663Z"
   },
   {
    "duration": 1523,
    "start_time": "2022-09-07T23:13:19.646Z"
   },
   {
    "duration": 10,
    "start_time": "2022-09-07T23:15:38.487Z"
   },
   {
    "duration": 108,
    "start_time": "2022-09-07T23:15:51.208Z"
   },
   {
    "duration": 15014,
    "start_time": "2022-09-07T23:16:21.765Z"
   },
   {
    "duration": 18534,
    "start_time": "2022-09-07T23:16:41.681Z"
   },
   {
    "duration": 11,
    "start_time": "2022-09-07T23:31:09.429Z"
   },
   {
    "duration": 12,
    "start_time": "2022-09-07T23:31:17.826Z"
   },
   {
    "duration": 2328,
    "start_time": "2022-09-07T23:31:26.492Z"
   },
   {
    "duration": 6855,
    "start_time": "2022-09-07T23:33:10.055Z"
   },
   {
    "duration": 1242126,
    "start_time": "2022-09-07T23:33:56.203Z"
   },
   {
    "duration": 1593,
    "start_time": "2022-09-07T23:55:02.476Z"
   },
   {
    "duration": 1631457,
    "start_time": "2022-09-07T23:55:09.976Z"
   },
   {
    "duration": 24211,
    "start_time": "2022-09-08T00:47:18.253Z"
   },
   {
    "duration": 6201,
    "start_time": "2022-09-08T00:59:18.934Z"
   },
   {
    "duration": 6228,
    "start_time": "2022-09-08T01:00:31.791Z"
   },
   {
    "duration": 3,
    "start_time": "2022-09-08T01:00:39.508Z"
   },
   {
    "duration": 10,
    "start_time": "2022-09-08T01:01:01.113Z"
   },
   {
    "duration": 4,
    "start_time": "2022-09-08T01:01:05.130Z"
   },
   {
    "duration": 69,
    "start_time": "2022-09-08T01:01:09.207Z"
   },
   {
    "duration": 4,
    "start_time": "2022-09-08T01:01:13.483Z"
   },
   {
    "duration": 5889,
    "start_time": "2022-09-08T01:02:02.285Z"
   },
   {
    "duration": 8,
    "start_time": "2022-09-08T01:02:39.944Z"
   },
   {
    "duration": 4,
    "start_time": "2022-09-08T01:03:19.115Z"
   },
   {
    "duration": 6113,
    "start_time": "2022-09-08T01:05:41.627Z"
   },
   {
    "duration": 2744,
    "start_time": "2022-09-08T22:30:15.738Z"
   },
   {
    "duration": 1535,
    "start_time": "2022-09-08T22:30:18.485Z"
   },
   {
    "duration": 4185,
    "start_time": "2022-09-08T22:30:20.021Z"
   },
   {
    "duration": 38,
    "start_time": "2022-09-08T22:30:24.207Z"
   },
   {
    "duration": 20,
    "start_time": "2022-09-08T22:30:24.247Z"
   },
   {
    "duration": 20,
    "start_time": "2022-09-08T22:30:24.269Z"
   },
   {
    "duration": 30,
    "start_time": "2022-09-08T22:30:24.291Z"
   },
   {
    "duration": 35,
    "start_time": "2022-09-08T22:30:24.322Z"
   },
   {
    "duration": 7,
    "start_time": "2022-09-08T22:30:24.359Z"
   },
   {
    "duration": 175,
    "start_time": "2022-09-08T22:30:24.367Z"
   },
   {
    "duration": 4,
    "start_time": "2022-09-08T22:30:24.543Z"
   },
   {
    "duration": 11,
    "start_time": "2022-09-08T22:30:24.548Z"
   },
   {
    "duration": 65,
    "start_time": "2022-09-08T22:30:24.561Z"
   },
   {
    "duration": 17,
    "start_time": "2022-09-08T22:30:24.628Z"
   },
   {
    "duration": 25,
    "start_time": "2022-09-08T22:30:24.646Z"
   },
   {
    "duration": 23,
    "start_time": "2022-09-08T22:30:24.673Z"
   },
   {
    "duration": 54,
    "start_time": "2022-09-08T22:30:24.698Z"
   },
   {
    "duration": 4,
    "start_time": "2022-09-08T22:30:24.753Z"
   },
   {
    "duration": 408,
    "start_time": "2022-09-08T22:30:24.758Z"
   },
   {
    "duration": 4,
    "start_time": "2022-09-08T22:30:25.167Z"
   },
   {
    "duration": 238,
    "start_time": "2022-09-08T22:30:25.172Z"
   },
   {
    "duration": 10,
    "start_time": "2022-09-08T22:30:25.412Z"
   },
   {
    "duration": 226,
    "start_time": "2022-09-08T22:30:25.424Z"
   },
   {
    "duration": 359,
    "start_time": "2022-09-08T22:30:25.652Z"
   },
   {
    "duration": 20,
    "start_time": "2022-09-08T22:30:26.013Z"
   },
   {
    "duration": 3,
    "start_time": "2022-09-08T22:30:26.035Z"
   },
   {
    "duration": 275,
    "start_time": "2022-09-08T22:30:26.039Z"
   },
   {
    "duration": 344,
    "start_time": "2022-09-08T22:30:26.315Z"
   },
   {
    "duration": 277,
    "start_time": "2022-09-08T22:30:26.661Z"
   },
   {
    "duration": 16,
    "start_time": "2022-09-08T22:30:26.940Z"
   },
   {
    "duration": 18,
    "start_time": "2022-09-08T22:30:26.957Z"
   },
   {
    "duration": 8,
    "start_time": "2022-09-08T22:30:26.977Z"
   },
   {
    "duration": 17,
    "start_time": "2022-09-08T22:30:26.986Z"
   },
   {
    "duration": 49,
    "start_time": "2022-09-08T22:30:27.005Z"
   },
   {
    "duration": 21,
    "start_time": "2022-09-08T22:30:27.056Z"
   },
   {
    "duration": 25,
    "start_time": "2022-09-08T22:30:27.078Z"
   },
   {
    "duration": 1525,
    "start_time": "2022-09-08T22:30:27.105Z"
   },
   {
    "duration": 17866,
    "start_time": "2022-09-08T22:30:28.632Z"
   },
   {
    "duration": 2,
    "start_time": "2022-09-08T22:30:46.500Z"
   },
   {
    "duration": 23405,
    "start_time": "2022-09-08T22:30:46.504Z"
   },
   {
    "duration": 5770,
    "start_time": "2022-09-08T22:31:09.912Z"
   },
   {
    "duration": 1909,
    "start_time": "2022-09-08T23:45:19.071Z"
   },
   {
    "duration": 4,
    "start_time": "2022-09-08T23:45:20.982Z"
   },
   {
    "duration": 813,
    "start_time": "2022-09-08T23:45:20.988Z"
   },
   {
    "duration": 159,
    "start_time": "2022-09-08T23:45:21.803Z"
   },
   {
    "duration": 18,
    "start_time": "2022-09-08T23:45:21.964Z"
   },
   {
    "duration": 25,
    "start_time": "2022-09-08T23:45:21.984Z"
   },
   {
    "duration": 25,
    "start_time": "2022-09-08T23:45:22.010Z"
   },
   {
    "duration": 19,
    "start_time": "2022-09-08T23:45:22.037Z"
   },
   {
    "duration": 3,
    "start_time": "2022-09-08T23:45:22.057Z"
   },
   {
    "duration": 184,
    "start_time": "2022-09-08T23:45:22.063Z"
   },
   {
    "duration": 4,
    "start_time": "2022-09-08T23:45:22.249Z"
   },
   {
    "duration": 8,
    "start_time": "2022-09-08T23:45:22.255Z"
   },
   {
    "duration": 25,
    "start_time": "2022-09-08T23:45:22.264Z"
   },
   {
    "duration": 38,
    "start_time": "2022-09-08T23:45:22.290Z"
   },
   {
    "duration": 26,
    "start_time": "2022-09-08T23:45:22.329Z"
   },
   {
    "duration": 24,
    "start_time": "2022-09-08T23:45:22.356Z"
   },
   {
    "duration": 55,
    "start_time": "2022-09-08T23:45:22.381Z"
   },
   {
    "duration": 4,
    "start_time": "2022-09-08T23:45:22.437Z"
   },
   {
    "duration": 330,
    "start_time": "2022-09-08T23:45:22.442Z"
   },
   {
    "duration": 3,
    "start_time": "2022-09-08T23:45:22.774Z"
   },
   {
    "duration": 268,
    "start_time": "2022-09-08T23:45:22.778Z"
   },
   {
    "duration": 4,
    "start_time": "2022-09-08T23:45:23.048Z"
   },
   {
    "duration": 261,
    "start_time": "2022-09-08T23:45:23.053Z"
   },
   {
    "duration": 451,
    "start_time": "2022-09-08T23:45:23.315Z"
   },
   {
    "duration": 14,
    "start_time": "2022-09-08T23:45:23.767Z"
   },
   {
    "duration": 15,
    "start_time": "2022-09-08T23:45:23.782Z"
   },
   {
    "duration": 283,
    "start_time": "2022-09-08T23:45:23.798Z"
   },
   {
    "duration": 253,
    "start_time": "2022-09-08T23:45:24.084Z"
   },
   {
    "duration": 267,
    "start_time": "2022-09-08T23:45:24.338Z"
   },
   {
    "duration": 23,
    "start_time": "2022-09-08T23:45:24.606Z"
   },
   {
    "duration": 2008,
    "start_time": "2022-09-08T23:46:02.719Z"
   },
   {
    "duration": 5,
    "start_time": "2022-09-08T23:46:04.730Z"
   },
   {
    "duration": 801,
    "start_time": "2022-09-08T23:46:04.737Z"
   },
   {
    "duration": 37,
    "start_time": "2022-09-08T23:46:05.540Z"
   },
   {
    "duration": 19,
    "start_time": "2022-09-08T23:46:05.579Z"
   },
   {
    "duration": 43,
    "start_time": "2022-09-08T23:46:05.600Z"
   },
   {
    "duration": 38,
    "start_time": "2022-09-08T23:46:05.645Z"
   },
   {
    "duration": 38,
    "start_time": "2022-09-08T23:46:05.685Z"
   },
   {
    "duration": 4,
    "start_time": "2022-09-08T23:46:05.725Z"
   },
   {
    "duration": 187,
    "start_time": "2022-09-08T23:46:05.731Z"
   },
   {
    "duration": 4,
    "start_time": "2022-09-08T23:46:05.920Z"
   },
   {
    "duration": 16,
    "start_time": "2022-09-08T23:46:05.925Z"
   },
   {
    "duration": 30,
    "start_time": "2022-09-08T23:46:05.943Z"
   },
   {
    "duration": 16,
    "start_time": "2022-09-08T23:46:05.977Z"
   },
   {
    "duration": 51,
    "start_time": "2022-09-08T23:46:05.994Z"
   },
   {
    "duration": 23,
    "start_time": "2022-09-08T23:46:06.047Z"
   },
   {
    "duration": 50,
    "start_time": "2022-09-08T23:46:06.072Z"
   },
   {
    "duration": 4,
    "start_time": "2022-09-08T23:46:06.124Z"
   },
   {
    "duration": 454,
    "start_time": "2022-09-08T23:46:06.129Z"
   },
   {
    "duration": 4,
    "start_time": "2022-09-08T23:46:06.585Z"
   },
   {
    "duration": 264,
    "start_time": "2022-09-08T23:46:06.591Z"
   },
   {
    "duration": 4,
    "start_time": "2022-09-08T23:46:06.857Z"
   },
   {
    "duration": 274,
    "start_time": "2022-09-08T23:46:06.862Z"
   },
   {
    "duration": 366,
    "start_time": "2022-09-08T23:46:07.137Z"
   },
   {
    "duration": 24,
    "start_time": "2022-09-08T23:46:07.505Z"
   },
   {
    "duration": 3,
    "start_time": "2022-09-08T23:46:07.531Z"
   },
   {
    "duration": 277,
    "start_time": "2022-09-08T23:46:07.536Z"
   },
   {
    "duration": 376,
    "start_time": "2022-09-08T23:46:07.815Z"
   },
   {
    "duration": 275,
    "start_time": "2022-09-08T23:46:08.193Z"
   },
   {
    "duration": 16,
    "start_time": "2022-09-08T23:46:08.469Z"
   },
   {
    "duration": 1930,
    "start_time": "2022-09-08T23:46:49.100Z"
   },
   {
    "duration": 5,
    "start_time": "2022-09-08T23:46:51.032Z"
   },
   {
    "duration": 798,
    "start_time": "2022-09-08T23:46:51.038Z"
   },
   {
    "duration": 37,
    "start_time": "2022-09-08T23:46:51.838Z"
   },
   {
    "duration": 21,
    "start_time": "2022-09-08T23:46:51.877Z"
   },
   {
    "duration": 39,
    "start_time": "2022-09-08T23:46:51.900Z"
   },
   {
    "duration": 25,
    "start_time": "2022-09-08T23:46:51.941Z"
   },
   {
    "duration": 19,
    "start_time": "2022-09-08T23:46:51.968Z"
   },
   {
    "duration": 4,
    "start_time": "2022-09-08T23:46:51.989Z"
   },
   {
    "duration": 203,
    "start_time": "2022-09-08T23:46:51.994Z"
   },
   {
    "duration": 5,
    "start_time": "2022-09-08T23:46:52.198Z"
   },
   {
    "duration": 22,
    "start_time": "2022-09-08T23:46:52.205Z"
   },
   {
    "duration": 29,
    "start_time": "2022-09-08T23:46:52.229Z"
   },
   {
    "duration": 15,
    "start_time": "2022-09-08T23:46:52.262Z"
   },
   {
    "duration": 48,
    "start_time": "2022-09-08T23:46:52.278Z"
   },
   {
    "duration": 21,
    "start_time": "2022-09-08T23:46:52.328Z"
   },
   {
    "duration": 32,
    "start_time": "2022-09-08T23:46:52.350Z"
   },
   {
    "duration": 4,
    "start_time": "2022-09-08T23:46:52.383Z"
   },
   {
    "duration": 356,
    "start_time": "2022-09-08T23:46:52.388Z"
   },
   {
    "duration": 4,
    "start_time": "2022-09-08T23:46:52.745Z"
   },
   {
    "duration": 288,
    "start_time": "2022-09-08T23:46:52.750Z"
   },
   {
    "duration": 4,
    "start_time": "2022-09-08T23:46:53.040Z"
   },
   {
    "duration": 402,
    "start_time": "2022-09-08T23:46:53.045Z"
   },
   {
    "duration": 420,
    "start_time": "2022-09-08T23:46:53.449Z"
   },
   {
    "duration": 14,
    "start_time": "2022-09-08T23:46:53.871Z"
   },
   {
    "duration": 5,
    "start_time": "2022-09-08T23:46:53.886Z"
   },
   {
    "duration": 278,
    "start_time": "2022-09-08T23:46:53.893Z"
   },
   {
    "duration": 246,
    "start_time": "2022-09-08T23:46:54.172Z"
   },
   {
    "duration": 278,
    "start_time": "2022-09-08T23:46:54.421Z"
   },
   {
    "duration": 23,
    "start_time": "2022-09-08T23:46:54.702Z"
   },
   {
    "duration": 1941,
    "start_time": "2022-09-08T23:49:34.413Z"
   },
   {
    "duration": 1303,
    "start_time": "2022-09-08T23:49:36.356Z"
   },
   {
    "duration": 773,
    "start_time": "2022-09-08T23:49:37.661Z"
   },
   {
    "duration": 38,
    "start_time": "2022-09-08T23:49:38.436Z"
   },
   {
    "duration": 22,
    "start_time": "2022-09-08T23:49:38.476Z"
   },
   {
    "duration": 37,
    "start_time": "2022-09-08T23:49:38.499Z"
   },
   {
    "duration": 18,
    "start_time": "2022-09-08T23:49:38.538Z"
   },
   {
    "duration": 18,
    "start_time": "2022-09-08T23:49:38.558Z"
   },
   {
    "duration": 3,
    "start_time": "2022-09-08T23:49:38.578Z"
   },
   {
    "duration": 201,
    "start_time": "2022-09-08T23:49:38.582Z"
   },
   {
    "duration": 5,
    "start_time": "2022-09-08T23:49:38.784Z"
   },
   {
    "duration": 10,
    "start_time": "2022-09-08T23:49:38.790Z"
   },
   {
    "duration": 72,
    "start_time": "2022-09-08T23:49:38.801Z"
   },
   {
    "duration": 21,
    "start_time": "2022-09-08T23:49:38.877Z"
   },
   {
    "duration": 48,
    "start_time": "2022-09-08T23:49:38.900Z"
   },
   {
    "duration": 27,
    "start_time": "2022-09-08T23:49:38.949Z"
   },
   {
    "duration": 56,
    "start_time": "2022-09-08T23:49:38.978Z"
   },
   {
    "duration": 4,
    "start_time": "2022-09-08T23:49:39.036Z"
   },
   {
    "duration": 390,
    "start_time": "2022-09-08T23:49:39.042Z"
   },
   {
    "duration": 3,
    "start_time": "2022-09-08T23:49:39.434Z"
   },
   {
    "duration": 234,
    "start_time": "2022-09-08T23:49:39.439Z"
   },
   {
    "duration": 4,
    "start_time": "2022-09-08T23:49:39.674Z"
   },
   {
    "duration": 223,
    "start_time": "2022-09-08T23:49:39.679Z"
   },
   {
    "duration": 342,
    "start_time": "2022-09-08T23:49:39.904Z"
   },
   {
    "duration": 16,
    "start_time": "2022-09-08T23:49:40.248Z"
   },
   {
    "duration": 2,
    "start_time": "2022-09-08T23:49:40.266Z"
   },
   {
    "duration": 300,
    "start_time": "2022-09-08T23:49:40.270Z"
   },
   {
    "duration": 330,
    "start_time": "2022-09-08T23:49:40.571Z"
   },
   {
    "duration": 343,
    "start_time": "2022-09-08T23:49:40.902Z"
   },
   {
    "duration": 16,
    "start_time": "2022-09-08T23:49:41.247Z"
   },
   {
    "duration": 71,
    "start_time": "2022-09-08T23:49:41.264Z"
   },
   {
    "duration": 8,
    "start_time": "2022-09-08T23:49:41.336Z"
   },
   {
    "duration": 9,
    "start_time": "2022-09-08T23:49:41.346Z"
   },
   {
    "duration": 90,
    "start_time": "2022-09-08T23:49:41.356Z"
   },
   {
    "duration": 76,
    "start_time": "2022-09-08T23:49:41.448Z"
   },
   {
    "duration": 24,
    "start_time": "2022-09-08T23:49:41.525Z"
   },
   {
    "duration": 2073,
    "start_time": "2022-09-08T23:49:41.550Z"
   },
   {
    "duration": 17975,
    "start_time": "2022-09-08T23:49:43.626Z"
   },
   {
    "duration": 3,
    "start_time": "2022-09-08T23:50:01.603Z"
   },
   {
    "duration": 23318,
    "start_time": "2022-09-08T23:50:01.607Z"
   },
   {
    "duration": 5851,
    "start_time": "2022-09-08T23:50:24.928Z"
   },
   {
    "duration": 2011,
    "start_time": "2022-09-09T00:05:52.119Z"
   },
   {
    "duration": 1343,
    "start_time": "2022-09-09T00:05:54.132Z"
   },
   {
    "duration": 789,
    "start_time": "2022-09-09T00:05:55.477Z"
   },
   {
    "duration": 38,
    "start_time": "2022-09-09T00:05:56.268Z"
   },
   {
    "duration": 23,
    "start_time": "2022-09-09T00:05:56.321Z"
   },
   {
    "duration": 19,
    "start_time": "2022-09-09T00:05:56.345Z"
   },
   {
    "duration": 20,
    "start_time": "2022-09-09T00:05:56.365Z"
   },
   {
    "duration": 38,
    "start_time": "2022-09-09T00:05:56.387Z"
   },
   {
    "duration": 3,
    "start_time": "2022-09-09T00:05:56.426Z"
   },
   {
    "duration": 186,
    "start_time": "2022-09-09T00:05:56.431Z"
   },
   {
    "duration": 4,
    "start_time": "2022-09-09T00:05:56.621Z"
   },
   {
    "duration": 13,
    "start_time": "2022-09-09T00:05:56.626Z"
   },
   {
    "duration": 58,
    "start_time": "2022-09-09T00:05:56.641Z"
   },
   {
    "duration": 36,
    "start_time": "2022-09-09T00:05:56.701Z"
   },
   {
    "duration": 27,
    "start_time": "2022-09-09T00:05:56.738Z"
   },
   {
    "duration": 22,
    "start_time": "2022-09-09T00:05:56.766Z"
   },
   {
    "duration": 54,
    "start_time": "2022-09-09T00:05:56.790Z"
   },
   {
    "duration": 3,
    "start_time": "2022-09-09T00:05:56.845Z"
   },
   {
    "duration": 409,
    "start_time": "2022-09-09T00:05:56.850Z"
   },
   {
    "duration": 4,
    "start_time": "2022-09-09T00:05:57.261Z"
   },
   {
    "duration": 250,
    "start_time": "2022-09-09T00:05:57.267Z"
   },
   {
    "duration": 4,
    "start_time": "2022-09-09T00:05:57.521Z"
   },
   {
    "duration": 223,
    "start_time": "2022-09-09T00:05:57.527Z"
   },
   {
    "duration": 352,
    "start_time": "2022-09-09T00:05:57.751Z"
   },
   {
    "duration": 20,
    "start_time": "2022-09-09T00:05:58.105Z"
   },
   {
    "duration": 2,
    "start_time": "2022-09-09T00:05:58.127Z"
   },
   {
    "duration": 280,
    "start_time": "2022-09-09T00:05:58.130Z"
   },
   {
    "duration": 330,
    "start_time": "2022-09-09T00:05:58.413Z"
   },
   {
    "duration": 332,
    "start_time": "2022-09-09T00:05:58.745Z"
   },
   {
    "duration": 17,
    "start_time": "2022-09-09T00:05:59.078Z"
   },
   {
    "duration": 26,
    "start_time": "2022-09-09T00:05:59.097Z"
   },
   {
    "duration": 8,
    "start_time": "2022-09-09T00:05:59.124Z"
   },
   {
    "duration": 35,
    "start_time": "2022-09-09T00:05:59.133Z"
   },
   {
    "duration": 1918,
    "start_time": "2022-09-09T00:13:20.506Z"
   },
   {
    "duration": 1385,
    "start_time": "2022-09-09T00:13:22.427Z"
   },
   {
    "duration": 811,
    "start_time": "2022-09-09T00:13:23.814Z"
   },
   {
    "duration": 36,
    "start_time": "2022-09-09T00:13:24.627Z"
   },
   {
    "duration": 23,
    "start_time": "2022-09-09T00:13:24.664Z"
   },
   {
    "duration": 37,
    "start_time": "2022-09-09T00:13:24.688Z"
   },
   {
    "duration": 22,
    "start_time": "2022-09-09T00:13:24.726Z"
   },
   {
    "duration": 22,
    "start_time": "2022-09-09T00:13:24.750Z"
   },
   {
    "duration": 3,
    "start_time": "2022-09-09T00:13:24.774Z"
   },
   {
    "duration": 191,
    "start_time": "2022-09-09T00:13:24.779Z"
   },
   {
    "duration": 4,
    "start_time": "2022-09-09T00:13:24.972Z"
   },
   {
    "duration": 11,
    "start_time": "2022-09-09T00:13:24.977Z"
   },
   {
    "duration": 74,
    "start_time": "2022-09-09T00:13:24.989Z"
   },
   {
    "duration": 18,
    "start_time": "2022-09-09T00:13:25.065Z"
   },
   {
    "duration": 42,
    "start_time": "2022-09-09T00:13:25.085Z"
   },
   {
    "duration": 23,
    "start_time": "2022-09-09T00:13:25.128Z"
   },
   {
    "duration": 30,
    "start_time": "2022-09-09T00:13:25.153Z"
   },
   {
    "duration": 3,
    "start_time": "2022-09-09T00:13:25.184Z"
   },
   {
    "duration": 415,
    "start_time": "2022-09-09T00:13:25.188Z"
   },
   {
    "duration": 4,
    "start_time": "2022-09-09T00:13:25.604Z"
   },
   {
    "duration": 263,
    "start_time": "2022-09-09T00:13:25.609Z"
   },
   {
    "duration": 4,
    "start_time": "2022-09-09T00:13:25.873Z"
   },
   {
    "duration": 234,
    "start_time": "2022-09-09T00:13:25.878Z"
   },
   {
    "duration": 509,
    "start_time": "2022-09-09T00:13:26.114Z"
   },
   {
    "duration": 19,
    "start_time": "2022-09-09T00:13:26.624Z"
   },
   {
    "duration": 4,
    "start_time": "2022-09-09T00:13:26.645Z"
   },
   {
    "duration": 588,
    "start_time": "2022-09-09T00:13:26.650Z"
   },
   {
    "duration": 717,
    "start_time": "2022-09-09T00:13:27.241Z"
   },
   {
    "duration": 375,
    "start_time": "2022-09-09T00:13:27.960Z"
   },
   {
    "duration": 17,
    "start_time": "2022-09-09T00:13:28.337Z"
   },
   {
    "duration": 14,
    "start_time": "2022-09-09T00:13:28.355Z"
   },
   {
    "duration": 7,
    "start_time": "2022-09-09T00:13:28.371Z"
   },
   {
    "duration": 18,
    "start_time": "2022-09-09T00:13:28.380Z"
   },
   {
    "duration": 54,
    "start_time": "2022-09-09T00:13:28.399Z"
   },
   {
    "duration": 19,
    "start_time": "2022-09-09T00:13:28.454Z"
   },
   {
    "duration": 21,
    "start_time": "2022-09-09T00:13:28.474Z"
   },
   {
    "duration": 1827,
    "start_time": "2022-09-09T00:13:28.496Z"
   },
   {
    "duration": 17965,
    "start_time": "2022-09-09T00:13:30.325Z"
   },
   {
    "duration": 2,
    "start_time": "2022-09-09T00:13:48.292Z"
   },
   {
    "duration": 23480,
    "start_time": "2022-09-09T00:13:48.296Z"
   },
   {
    "duration": 5800,
    "start_time": "2022-09-09T00:14:11.777Z"
   },
   {
    "duration": 1940,
    "start_time": "2022-09-09T00:24:48.686Z"
   },
   {
    "duration": 5,
    "start_time": "2022-09-09T00:24:53.675Z"
   },
   {
    "duration": 805,
    "start_time": "2022-09-09T00:24:53.685Z"
   },
   {
    "duration": 37,
    "start_time": "2022-09-09T00:24:54.491Z"
   },
   {
    "duration": 18,
    "start_time": "2022-09-09T00:24:54.530Z"
   },
   {
    "duration": 21,
    "start_time": "2022-09-09T00:24:54.549Z"
   },
   {
    "duration": 18,
    "start_time": "2022-09-09T00:24:54.572Z"
   },
   {
    "duration": 36,
    "start_time": "2022-09-09T00:24:54.591Z"
   },
   {
    "duration": 3,
    "start_time": "2022-09-09T00:24:54.628Z"
   },
   {
    "duration": 205,
    "start_time": "2022-09-09T00:24:54.633Z"
   },
   {
    "duration": 4,
    "start_time": "2022-09-09T00:24:54.839Z"
   },
   {
    "duration": 10,
    "start_time": "2022-09-09T00:24:54.845Z"
   },
   {
    "duration": 27,
    "start_time": "2022-09-09T00:24:54.856Z"
   },
   {
    "duration": 41,
    "start_time": "2022-09-09T00:24:54.884Z"
   },
   {
    "duration": 27,
    "start_time": "2022-09-09T00:24:54.926Z"
   },
   {
    "duration": 23,
    "start_time": "2022-09-09T00:24:54.955Z"
   },
   {
    "duration": 55,
    "start_time": "2022-09-09T00:24:54.980Z"
   },
   {
    "duration": 3,
    "start_time": "2022-09-09T00:24:55.037Z"
   },
   {
    "duration": 367,
    "start_time": "2022-09-09T00:24:55.042Z"
   },
   {
    "duration": 12,
    "start_time": "2022-09-09T00:24:55.410Z"
   },
   {
    "duration": 290,
    "start_time": "2022-09-09T00:24:55.424Z"
   },
   {
    "duration": 6,
    "start_time": "2022-09-09T00:24:55.716Z"
   },
   {
    "duration": 435,
    "start_time": "2022-09-09T00:24:55.724Z"
   },
   {
    "duration": 376,
    "start_time": "2022-09-09T00:24:56.162Z"
   },
   {
    "duration": 13,
    "start_time": "2022-09-09T00:24:56.540Z"
   },
   {
    "duration": 2,
    "start_time": "2022-09-09T00:24:56.555Z"
   },
   {
    "duration": 285,
    "start_time": "2022-09-09T00:24:56.559Z"
   },
   {
    "duration": 252,
    "start_time": "2022-09-09T00:24:56.846Z"
   },
   {
    "duration": 279,
    "start_time": "2022-09-09T00:24:57.099Z"
   },
   {
    "duration": 18,
    "start_time": "2022-09-09T00:24:57.379Z"
   },
   {
    "duration": 25,
    "start_time": "2022-09-09T00:24:57.399Z"
   },
   {
    "duration": 6,
    "start_time": "2022-09-09T00:24:57.425Z"
   },
   {
    "duration": 10,
    "start_time": "2022-09-09T00:24:57.433Z"
   },
   {
    "duration": 35,
    "start_time": "2022-09-09T00:24:57.444Z"
   },
   {
    "duration": 130,
    "start_time": "2022-09-09T00:24:57.481Z"
   },
   {
    "duration": 20,
    "start_time": "2022-09-09T00:24:57.621Z"
   },
   {
    "duration": 1283,
    "start_time": "2022-09-09T00:24:57.642Z"
   },
   {
    "duration": 6,
    "start_time": "2022-09-09T00:24:58.929Z"
   },
   {
    "duration": 1221,
    "start_time": "2022-09-09T00:26:55.504Z"
   },
   {
    "duration": 116,
    "start_time": "2022-09-09T00:28:57.264Z"
   },
   {
    "duration": 1444,
    "start_time": "2022-09-09T00:29:31.285Z"
   },
   {
    "duration": 3,
    "start_time": "2022-09-09T00:29:36.674Z"
   },
   {
    "duration": 1957,
    "start_time": "2022-09-09T00:30:15.028Z"
   },
   {
    "duration": 1288,
    "start_time": "2022-09-09T00:30:16.988Z"
   },
   {
    "duration": 829,
    "start_time": "2022-09-09T00:30:18.277Z"
   },
   {
    "duration": 37,
    "start_time": "2022-09-09T00:30:19.108Z"
   },
   {
    "duration": 21,
    "start_time": "2022-09-09T00:30:19.147Z"
   },
   {
    "duration": 19,
    "start_time": "2022-09-09T00:30:19.170Z"
   },
   {
    "duration": 41,
    "start_time": "2022-09-09T00:30:19.190Z"
   },
   {
    "duration": 19,
    "start_time": "2022-09-09T00:30:19.232Z"
   },
   {
    "duration": 3,
    "start_time": "2022-09-09T00:30:19.252Z"
   },
   {
    "duration": 192,
    "start_time": "2022-09-09T00:30:19.259Z"
   },
   {
    "duration": 5,
    "start_time": "2022-09-09T00:30:19.453Z"
   },
   {
    "duration": 27,
    "start_time": "2022-09-09T00:30:19.459Z"
   },
   {
    "duration": 61,
    "start_time": "2022-09-09T00:30:19.488Z"
   },
   {
    "duration": 16,
    "start_time": "2022-09-09T00:30:19.551Z"
   },
   {
    "duration": 38,
    "start_time": "2022-09-09T00:30:19.568Z"
   },
   {
    "duration": 32,
    "start_time": "2022-09-09T00:30:19.608Z"
   },
   {
    "duration": 36,
    "start_time": "2022-09-09T00:30:19.641Z"
   },
   {
    "duration": 4,
    "start_time": "2022-09-09T00:30:19.679Z"
   },
   {
    "duration": 410,
    "start_time": "2022-09-09T00:30:19.685Z"
   },
   {
    "duration": 4,
    "start_time": "2022-09-09T00:30:20.096Z"
   },
   {
    "duration": 238,
    "start_time": "2022-09-09T00:30:20.101Z"
   },
   {
    "duration": 4,
    "start_time": "2022-09-09T00:30:20.340Z"
   },
   {
    "duration": 233,
    "start_time": "2022-09-09T00:30:20.345Z"
   },
   {
    "duration": 353,
    "start_time": "2022-09-09T00:30:20.579Z"
   },
   {
    "duration": 14,
    "start_time": "2022-09-09T00:30:20.934Z"
   },
   {
    "duration": 6,
    "start_time": "2022-09-09T00:30:20.949Z"
   },
   {
    "duration": 288,
    "start_time": "2022-09-09T00:30:20.956Z"
   },
   {
    "duration": 351,
    "start_time": "2022-09-09T00:30:21.247Z"
   },
   {
    "duration": 288,
    "start_time": "2022-09-09T00:30:21.600Z"
   },
   {
    "duration": 17,
    "start_time": "2022-09-09T00:30:21.889Z"
   },
   {
    "duration": 15,
    "start_time": "2022-09-09T00:30:21.921Z"
   },
   {
    "duration": 8,
    "start_time": "2022-09-09T00:30:21.937Z"
   },
   {
    "duration": 8,
    "start_time": "2022-09-09T00:30:21.947Z"
   },
   {
    "duration": 46,
    "start_time": "2022-09-09T00:30:21.956Z"
   },
   {
    "duration": 30,
    "start_time": "2022-09-09T00:30:22.004Z"
   },
   {
    "duration": 23,
    "start_time": "2022-09-09T00:30:22.036Z"
   },
   {
    "duration": 1669,
    "start_time": "2022-09-09T00:30:22.061Z"
   },
   {
    "duration": 89,
    "start_time": "2022-09-09T00:30:23.733Z"
   },
   {
    "duration": 1925,
    "start_time": "2022-09-09T00:31:13.156Z"
   },
   {
    "duration": 1266,
    "start_time": "2022-09-09T00:31:15.084Z"
   },
   {
    "duration": 769,
    "start_time": "2022-09-09T00:31:16.352Z"
   },
   {
    "duration": 35,
    "start_time": "2022-09-09T00:31:17.122Z"
   },
   {
    "duration": 20,
    "start_time": "2022-09-09T00:31:17.159Z"
   },
   {
    "duration": 19,
    "start_time": "2022-09-09T00:31:17.181Z"
   },
   {
    "duration": 20,
    "start_time": "2022-09-09T00:31:17.222Z"
   },
   {
    "duration": 21,
    "start_time": "2022-09-09T00:31:17.244Z"
   },
   {
    "duration": 3,
    "start_time": "2022-09-09T00:31:17.267Z"
   },
   {
    "duration": 199,
    "start_time": "2022-09-09T00:31:17.274Z"
   },
   {
    "duration": 4,
    "start_time": "2022-09-09T00:31:17.474Z"
   },
   {
    "duration": 11,
    "start_time": "2022-09-09T00:31:17.480Z"
   },
   {
    "duration": 81,
    "start_time": "2022-09-09T00:31:17.493Z"
   },
   {
    "duration": 17,
    "start_time": "2022-09-09T00:31:17.576Z"
   },
   {
    "duration": 39,
    "start_time": "2022-09-09T00:31:17.595Z"
   },
   {
    "duration": 23,
    "start_time": "2022-09-09T00:31:17.636Z"
   },
   {
    "duration": 31,
    "start_time": "2022-09-09T00:31:17.661Z"
   },
   {
    "duration": 4,
    "start_time": "2022-09-09T00:31:17.693Z"
   },
   {
    "duration": 398,
    "start_time": "2022-09-09T00:31:17.698Z"
   },
   {
    "duration": 4,
    "start_time": "2022-09-09T00:31:18.097Z"
   },
   {
    "duration": 243,
    "start_time": "2022-09-09T00:31:18.102Z"
   },
   {
    "duration": 3,
    "start_time": "2022-09-09T00:31:18.347Z"
   },
   {
    "duration": 225,
    "start_time": "2022-09-09T00:31:18.352Z"
   },
   {
    "duration": 389,
    "start_time": "2022-09-09T00:31:18.578Z"
   },
   {
    "duration": 18,
    "start_time": "2022-09-09T00:31:18.969Z"
   },
   {
    "duration": 13,
    "start_time": "2022-09-09T00:31:18.992Z"
   },
   {
    "duration": 299,
    "start_time": "2022-09-09T00:31:19.007Z"
   },
   {
    "duration": 349,
    "start_time": "2022-09-09T00:31:19.310Z"
   },
   {
    "duration": 281,
    "start_time": "2022-09-09T00:31:19.661Z"
   },
   {
    "duration": 17,
    "start_time": "2022-09-09T00:31:19.944Z"
   },
   {
    "duration": 18,
    "start_time": "2022-09-09T00:31:19.963Z"
   },
   {
    "duration": 8,
    "start_time": "2022-09-09T00:31:19.982Z"
   },
   {
    "duration": 12,
    "start_time": "2022-09-09T00:31:19.992Z"
   },
   {
    "duration": 37,
    "start_time": "2022-09-09T00:31:20.021Z"
   },
   {
    "duration": 19,
    "start_time": "2022-09-09T00:31:20.060Z"
   },
   {
    "duration": 25,
    "start_time": "2022-09-09T00:31:20.081Z"
   },
   {
    "duration": 1323,
    "start_time": "2022-09-09T00:31:20.107Z"
   },
   {
    "duration": 92,
    "start_time": "2022-09-09T00:31:21.432Z"
   },
   {
    "duration": 3351,
    "start_time": "2022-09-09T13:48:28.820Z"
   },
   {
    "duration": 1524,
    "start_time": "2022-09-09T13:48:32.173Z"
   },
   {
    "duration": 1180,
    "start_time": "2022-09-09T13:48:33.699Z"
   },
   {
    "duration": 38,
    "start_time": "2022-09-09T13:48:34.881Z"
   },
   {
    "duration": 21,
    "start_time": "2022-09-09T13:48:34.920Z"
   },
   {
    "duration": 23,
    "start_time": "2022-09-09T13:48:34.943Z"
   },
   {
    "duration": 23,
    "start_time": "2022-09-09T13:48:34.968Z"
   },
   {
    "duration": 26,
    "start_time": "2022-09-09T13:48:34.992Z"
   },
   {
    "duration": 3,
    "start_time": "2022-09-09T13:48:35.020Z"
   },
   {
    "duration": 184,
    "start_time": "2022-09-09T13:48:35.025Z"
   },
   {
    "duration": 4,
    "start_time": "2022-09-09T13:48:35.211Z"
   },
   {
    "duration": 9,
    "start_time": "2022-09-09T13:48:35.217Z"
   },
   {
    "duration": 69,
    "start_time": "2022-09-09T13:48:35.227Z"
   },
   {
    "duration": 16,
    "start_time": "2022-09-09T13:48:35.298Z"
   },
   {
    "duration": 41,
    "start_time": "2022-09-09T13:48:35.315Z"
   },
   {
    "duration": 23,
    "start_time": "2022-09-09T13:48:35.358Z"
   },
   {
    "duration": 30,
    "start_time": "2022-09-09T13:48:35.383Z"
   },
   {
    "duration": 4,
    "start_time": "2022-09-09T13:48:35.414Z"
   },
   {
    "duration": 430,
    "start_time": "2022-09-09T13:48:37.784Z"
   },
   {
    "duration": 4,
    "start_time": "2022-09-09T13:50:56.197Z"
   },
   {
    "duration": 258,
    "start_time": "2022-09-09T13:50:59.161Z"
   },
   {
    "duration": 273,
    "start_time": "2022-09-09T13:51:30.184Z"
   },
   {
    "duration": 4,
    "start_time": "2022-09-09T13:53:42.982Z"
   },
   {
    "duration": 323,
    "start_time": "2022-09-09T13:53:57.355Z"
   },
   {
    "duration": 222,
    "start_time": "2022-09-09T13:54:31.342Z"
   },
   {
    "duration": 348,
    "start_time": "2022-09-09T13:55:00.719Z"
   },
   {
    "duration": 318,
    "start_time": "2022-09-09T13:56:31.903Z"
   },
   {
    "duration": 14,
    "start_time": "2022-09-09T13:58:47.258Z"
   },
   {
    "duration": 2,
    "start_time": "2022-09-09T14:00:00.861Z"
   },
   {
    "duration": 255,
    "start_time": "2022-09-09T14:00:02.102Z"
   },
   {
    "duration": 261,
    "start_time": "2022-09-09T14:00:05.342Z"
   },
   {
    "duration": 276,
    "start_time": "2022-09-09T14:00:08.536Z"
   },
   {
    "duration": 4,
    "start_time": "2022-09-09T14:02:00.564Z"
   },
   {
    "duration": 4,
    "start_time": "2022-09-09T14:02:12.238Z"
   },
   {
    "duration": 4,
    "start_time": "2022-09-09T14:02:16.738Z"
   },
   {
    "duration": 103,
    "start_time": "2022-09-09T14:03:13.239Z"
   },
   {
    "duration": 11,
    "start_time": "2022-09-09T14:03:55.060Z"
   },
   {
    "duration": 98,
    "start_time": "2022-09-09T14:04:12.844Z"
   },
   {
    "duration": 760,
    "start_time": "2022-09-09T14:04:18.223Z"
   },
   {
    "duration": 789,
    "start_time": "2022-09-09T14:04:56.191Z"
   },
   {
    "duration": 609,
    "start_time": "2022-09-09T14:05:24.834Z"
   },
   {
    "duration": 17,
    "start_time": "2022-09-09T14:06:21.686Z"
   },
   {
    "duration": 16,
    "start_time": "2022-09-09T14:08:33.699Z"
   },
   {
    "duration": 16,
    "start_time": "2022-09-09T14:09:27.569Z"
   },
   {
    "duration": 12,
    "start_time": "2022-09-09T14:10:33.518Z"
   },
   {
    "duration": 8,
    "start_time": "2022-09-09T14:10:36.092Z"
   },
   {
    "duration": 4,
    "start_time": "2022-09-09T14:10:40.445Z"
   },
   {
    "duration": 30,
    "start_time": "2022-09-09T14:10:48.897Z"
   },
   {
    "duration": 18,
    "start_time": "2022-09-09T14:10:53.358Z"
   },
   {
    "duration": 19,
    "start_time": "2022-09-09T14:10:56.639Z"
   },
   {
    "duration": 1270,
    "start_time": "2022-09-09T14:11:21.485Z"
   },
   {
    "duration": 15527,
    "start_time": "2022-09-09T14:13:13.096Z"
   },
   {
    "duration": 1391995,
    "start_time": "2022-09-09T14:14:38.948Z"
   },
   {
    "duration": 34604,
    "start_time": "2022-09-09T15:11:12.025Z"
   },
   {
    "duration": 4,
    "start_time": "2022-09-09T15:12:07.285Z"
   },
   {
    "duration": 8816,
    "start_time": "2022-09-09T15:14:39.097Z"
   },
   {
    "duration": 6,
    "start_time": "2022-09-09T15:23:56.851Z"
   },
   {
    "duration": 5,
    "start_time": "2022-09-09T15:24:18.608Z"
   },
   {
    "duration": 3,
    "start_time": "2022-09-09T15:27:38.550Z"
   },
   {
    "duration": 97,
    "start_time": "2022-09-09T15:27:51.313Z"
   },
   {
    "duration": 8,
    "start_time": "2022-09-09T15:27:55.158Z"
   },
   {
    "duration": 9,
    "start_time": "2022-09-09T15:34:34.860Z"
   },
   {
    "duration": 6,
    "start_time": "2022-09-09T15:36:20.407Z"
   },
   {
    "duration": 592,
    "start_time": "2022-09-09T15:36:44.100Z"
   },
   {
    "duration": 3,
    "start_time": "2022-09-09T15:37:40.004Z"
   },
   {
    "duration": 4,
    "start_time": "2022-09-09T15:37:56.181Z"
   },
   {
    "duration": 8,
    "start_time": "2022-09-09T15:39:13.370Z"
   },
   {
    "duration": 4,
    "start_time": "2022-09-09T15:40:06.202Z"
   },
   {
    "duration": 7,
    "start_time": "2022-09-09T15:41:18.503Z"
   },
   {
    "duration": 5,
    "start_time": "2022-09-09T15:41:38.594Z"
   },
   {
    "duration": 9,
    "start_time": "2022-09-09T15:41:46.933Z"
   },
   {
    "duration": 6,
    "start_time": "2022-09-09T15:41:51.061Z"
   },
   {
    "duration": 6,
    "start_time": "2022-09-09T15:42:53.484Z"
   },
   {
    "duration": 9,
    "start_time": "2022-09-09T15:43:04.097Z"
   },
   {
    "duration": 8,
    "start_time": "2022-09-09T15:43:06.778Z"
   },
   {
    "duration": 12,
    "start_time": "2022-09-09T15:51:17.338Z"
   },
   {
    "duration": 12,
    "start_time": "2022-09-09T15:51:22.544Z"
   },
   {
    "duration": 11,
    "start_time": "2022-09-09T15:52:05.879Z"
   },
   {
    "duration": 3,
    "start_time": "2022-09-09T15:57:00.050Z"
   },
   {
    "duration": 13,
    "start_time": "2022-09-09T16:00:10.888Z"
   },
   {
    "duration": 3,
    "start_time": "2022-09-09T16:00:54.285Z"
   },
   {
    "duration": 7,
    "start_time": "2022-09-09T16:03:13.062Z"
   },
   {
    "duration": 10,
    "start_time": "2022-09-09T16:08:52.022Z"
   },
   {
    "duration": 5,
    "start_time": "2022-09-09T16:09:13.032Z"
   },
   {
    "duration": 5,
    "start_time": "2022-09-09T16:09:33.653Z"
   },
   {
    "duration": 32,
    "start_time": "2022-09-09T16:10:01.217Z"
   },
   {
    "duration": 12,
    "start_time": "2022-09-09T16:10:08.137Z"
   },
   {
    "duration": 71,
    "start_time": "2022-09-09T16:10:20.682Z"
   },
   {
    "duration": 23,
    "start_time": "2022-09-09T16:12:09.249Z"
   },
   {
    "duration": 8,
    "start_time": "2022-09-09T16:12:31.657Z"
   },
   {
    "duration": 1205,
    "start_time": "2022-09-09T16:14:44.096Z"
   },
   {
    "duration": 20,
    "start_time": "2022-09-09T16:15:10.735Z"
   },
   {
    "duration": 76,
    "start_time": "2022-09-09T16:17:43.006Z"
   },
   {
    "duration": 2228,
    "start_time": "2022-09-09T16:17:47.426Z"
   },
   {
    "duration": 12,
    "start_time": "2022-09-09T16:18:07.099Z"
   },
   {
    "duration": 61,
    "start_time": "2022-09-09T16:18:29.160Z"
   },
   {
    "duration": 8,
    "start_time": "2022-09-09T16:19:21.184Z"
   },
   {
    "duration": 14,
    "start_time": "2022-09-09T16:19:51.884Z"
   },
   {
    "duration": 8,
    "start_time": "2022-09-09T16:20:40.602Z"
   },
   {
    "duration": 14,
    "start_time": "2022-09-09T16:21:33.760Z"
   },
   {
    "duration": 11,
    "start_time": "2022-09-09T16:21:54.499Z"
   },
   {
    "duration": 10,
    "start_time": "2022-09-09T16:24:11.734Z"
   },
   {
    "duration": 16,
    "start_time": "2022-09-09T16:24:29.610Z"
   },
   {
    "duration": 11,
    "start_time": "2022-09-09T16:25:23.783Z"
   },
   {
    "duration": 13,
    "start_time": "2022-09-09T16:25:35.805Z"
   },
   {
    "duration": 7,
    "start_time": "2022-09-09T16:25:42.927Z"
   },
   {
    "duration": 11,
    "start_time": "2022-09-09T16:25:50.712Z"
   },
   {
    "duration": 6,
    "start_time": "2022-09-09T16:25:57.140Z"
   },
   {
    "duration": 17,
    "start_time": "2022-09-09T16:27:18.993Z"
   },
   {
    "duration": 12,
    "start_time": "2022-09-09T16:28:07.270Z"
   },
   {
    "duration": 8,
    "start_time": "2022-09-09T16:28:38.138Z"
   },
   {
    "duration": 19,
    "start_time": "2022-09-09T16:30:49.689Z"
   },
   {
    "duration": 19,
    "start_time": "2022-09-09T16:32:18.356Z"
   },
   {
    "duration": 19,
    "start_time": "2022-09-09T16:32:24.276Z"
   },
   {
    "duration": 19,
    "start_time": "2022-09-09T16:32:50.802Z"
   },
   {
    "duration": 9,
    "start_time": "2022-09-09T16:33:21.326Z"
   },
   {
    "duration": 8,
    "start_time": "2022-09-09T16:34:37.511Z"
   },
   {
    "duration": 7,
    "start_time": "2022-09-09T16:34:40.955Z"
   },
   {
    "duration": 10,
    "start_time": "2022-09-09T16:35:19.922Z"
   },
   {
    "duration": 23,
    "start_time": "2022-09-09T16:36:27.535Z"
   },
   {
    "duration": 9,
    "start_time": "2022-09-09T16:36:34.873Z"
   },
   {
    "duration": 9,
    "start_time": "2022-09-09T16:36:53.834Z"
   },
   {
    "duration": 13,
    "start_time": "2022-09-09T16:37:57.734Z"
   },
   {
    "duration": 9,
    "start_time": "2022-09-09T16:38:21.246Z"
   },
   {
    "duration": 14,
    "start_time": "2022-09-09T16:38:45.360Z"
   },
   {
    "duration": 7,
    "start_time": "2022-09-09T16:39:59.527Z"
   },
   {
    "duration": 11,
    "start_time": "2022-09-09T16:40:04.303Z"
   },
   {
    "duration": 9,
    "start_time": "2022-09-09T16:40:52.657Z"
   },
   {
    "duration": 5,
    "start_time": "2022-09-09T16:45:43.292Z"
   },
   {
    "duration": 12,
    "start_time": "2022-09-09T16:45:47.490Z"
   },
   {
    "duration": 7,
    "start_time": "2022-09-09T16:45:50.827Z"
   },
   {
    "duration": 15,
    "start_time": "2022-09-09T16:47:06.590Z"
   },
   {
    "duration": 19,
    "start_time": "2022-09-09T16:50:50.620Z"
   },
   {
    "duration": 28,
    "start_time": "2022-09-09T16:50:53.843Z"
   },
   {
    "duration": 4,
    "start_time": "2022-09-09T16:51:00.626Z"
   },
   {
    "duration": 389,
    "start_time": "2022-09-09T16:51:03.044Z"
   },
   {
    "duration": 4,
    "start_time": "2022-09-09T16:51:19.676Z"
   },
   {
    "duration": 281,
    "start_time": "2022-09-09T16:51:22.032Z"
   },
   {
    "duration": 4,
    "start_time": "2022-09-09T16:51:32.099Z"
   },
   {
    "duration": 274,
    "start_time": "2022-09-09T16:51:34.017Z"
   },
   {
    "duration": 468,
    "start_time": "2022-09-09T16:51:47.094Z"
   },
   {
    "duration": 14,
    "start_time": "2022-09-09T16:51:59.190Z"
   },
   {
    "duration": 3,
    "start_time": "2022-09-09T16:52:05.166Z"
   },
   {
    "duration": 276,
    "start_time": "2022-09-09T16:52:08.626Z"
   },
   {
    "duration": 265,
    "start_time": "2022-09-09T16:52:16.685Z"
   },
   {
    "duration": 268,
    "start_time": "2022-09-09T16:52:20.666Z"
   },
   {
    "duration": 16,
    "start_time": "2022-09-09T16:52:29.069Z"
   },
   {
    "duration": 11,
    "start_time": "2022-09-09T16:52:44.589Z"
   },
   {
    "duration": 6,
    "start_time": "2022-09-09T16:52:52.968Z"
   },
   {
    "duration": 5,
    "start_time": "2022-09-09T16:53:06.996Z"
   },
   {
    "duration": 31,
    "start_time": "2022-09-09T16:53:26.566Z"
   },
   {
    "duration": 19,
    "start_time": "2022-09-09T16:53:36.398Z"
   },
   {
    "duration": 20,
    "start_time": "2022-09-09T16:53:38.990Z"
   },
   {
    "duration": 796,
    "start_time": "2022-09-09T16:53:44.559Z"
   },
   {
    "duration": 10567,
    "start_time": "2022-09-09T16:53:54.146Z"
   },
   {
    "duration": 923181,
    "start_time": "2022-09-09T16:54:18.491Z"
   },
   {
    "duration": 2786,
    "start_time": "2022-09-09T17:11:16.259Z"
   },
   {
    "duration": 676,
    "start_time": "2022-09-09T17:12:02.984Z"
   },
   {
    "duration": 5,
    "start_time": "2022-09-09T17:12:18.147Z"
   },
   {
    "duration": 10,
    "start_time": "2022-09-09T17:12:21.950Z"
   },
   {
    "duration": 8,
    "start_time": "2022-09-09T17:12:26.398Z"
   },
   {
    "duration": 16,
    "start_time": "2022-09-09T17:12:52.786Z"
   },
   {
    "duration": 17,
    "start_time": "2022-09-09T17:29:48.111Z"
   },
   {
    "duration": 14,
    "start_time": "2022-09-09T17:41:37.707Z"
   },
   {
    "duration": 2,
    "start_time": "2022-09-09T17:41:42.788Z"
   },
   {
    "duration": 267,
    "start_time": "2022-09-09T17:41:44.285Z"
   },
   {
    "duration": 232,
    "start_time": "2022-09-09T17:41:48.350Z"
   },
   {
    "duration": 276,
    "start_time": "2022-09-09T17:41:53.049Z"
   },
   {
    "duration": 14,
    "start_time": "2022-09-09T17:42:26.111Z"
   },
   {
    "duration": 17,
    "start_time": "2022-09-09T17:43:50.031Z"
   },
   {
    "duration": 1831,
    "start_time": "2022-09-09T17:44:44.345Z"
   },
   {
    "duration": 1352,
    "start_time": "2022-09-09T17:44:46.178Z"
   },
   {
    "duration": 753,
    "start_time": "2022-09-09T17:44:47.532Z"
   },
   {
    "duration": 36,
    "start_time": "2022-09-09T17:44:48.288Z"
   },
   {
    "duration": 34,
    "start_time": "2022-09-09T17:44:48.325Z"
   },
   {
    "duration": 18,
    "start_time": "2022-09-09T17:44:48.361Z"
   },
   {
    "duration": 22,
    "start_time": "2022-09-09T17:44:48.380Z"
   },
   {
    "duration": 19,
    "start_time": "2022-09-09T17:44:48.403Z"
   },
   {
    "duration": 3,
    "start_time": "2022-09-09T17:44:48.424Z"
   },
   {
    "duration": 193,
    "start_time": "2022-09-09T17:44:48.429Z"
   },
   {
    "duration": 4,
    "start_time": "2022-09-09T17:44:48.624Z"
   },
   {
    "duration": 9,
    "start_time": "2022-09-09T17:44:48.630Z"
   },
   {
    "duration": 71,
    "start_time": "2022-09-09T17:44:48.640Z"
   },
   {
    "duration": 17,
    "start_time": "2022-09-09T17:44:48.714Z"
   },
   {
    "duration": 44,
    "start_time": "2022-09-09T17:44:48.733Z"
   },
   {
    "duration": 25,
    "start_time": "2022-09-09T17:44:48.780Z"
   },
   {
    "duration": 48,
    "start_time": "2022-09-09T17:44:48.807Z"
   },
   {
    "duration": 4,
    "start_time": "2022-09-09T17:44:48.857Z"
   },
   {
    "duration": 467,
    "start_time": "2022-09-09T17:44:48.864Z"
   },
   {
    "duration": 4,
    "start_time": "2022-09-09T17:44:49.333Z"
   },
   {
    "duration": 297,
    "start_time": "2022-09-09T17:44:49.338Z"
   },
   {
    "duration": 4,
    "start_time": "2022-09-09T17:44:49.636Z"
   },
   {
    "duration": 258,
    "start_time": "2022-09-09T17:44:49.641Z"
   },
   {
    "duration": 360,
    "start_time": "2022-09-09T17:44:49.901Z"
   },
   {
    "duration": 12,
    "start_time": "2022-09-09T17:44:50.262Z"
   },
   {
    "duration": 2,
    "start_time": "2022-09-09T17:44:50.276Z"
   },
   {
    "duration": 387,
    "start_time": "2022-09-09T17:44:50.280Z"
   },
   {
    "duration": 249,
    "start_time": "2022-09-09T17:44:50.670Z"
   },
   {
    "duration": 262,
    "start_time": "2022-09-09T17:44:50.921Z"
   },
   {
    "duration": 16,
    "start_time": "2022-09-09T17:44:51.185Z"
   },
   {
    "duration": 15,
    "start_time": "2022-09-09T17:45:20.317Z"
   },
   {
    "duration": 7,
    "start_time": "2022-09-09T17:45:35.577Z"
   },
   {
    "duration": 5,
    "start_time": "2022-09-09T17:45:53.660Z"
   },
   {
    "duration": 30,
    "start_time": "2022-09-09T17:45:58.870Z"
   },
   {
    "duration": 20,
    "start_time": "2022-09-09T17:46:18.996Z"
   },
   {
    "duration": 20,
    "start_time": "2022-09-09T17:46:23.075Z"
   },
   {
    "duration": 824,
    "start_time": "2022-09-09T17:46:29.332Z"
   },
   {
    "duration": 10490,
    "start_time": "2022-09-09T17:48:07.631Z"
   },
   {
    "duration": 930130,
    "start_time": "2022-09-09T17:49:35.185Z"
   },
   {
    "duration": 2765,
    "start_time": "2022-09-09T18:05:14.762Z"
   },
   {
    "duration": 677,
    "start_time": "2022-09-09T18:06:32.259Z"
   },
   {
    "duration": 5,
    "start_time": "2022-09-09T18:08:40.002Z"
   },
   {
    "duration": 9,
    "start_time": "2022-09-09T18:08:44.448Z"
   },
   {
    "duration": 7,
    "start_time": "2022-09-09T18:08:50.767Z"
   },
   {
    "duration": 25,
    "start_time": "2022-09-09T18:15:24.049Z"
   },
   {
    "duration": 3035,
    "start_time": "2022-09-09T19:04:18.034Z"
   },
   {
    "duration": 1687,
    "start_time": "2022-09-09T19:04:21.074Z"
   },
   {
    "duration": 1430,
    "start_time": "2022-09-09T19:04:22.763Z"
   },
   {
    "duration": 41,
    "start_time": "2022-09-09T19:04:24.194Z"
   },
   {
    "duration": 26,
    "start_time": "2022-09-09T19:04:24.238Z"
   },
   {
    "duration": 28,
    "start_time": "2022-09-09T19:04:24.266Z"
   },
   {
    "duration": 21,
    "start_time": "2022-09-09T19:04:24.296Z"
   },
   {
    "duration": 25,
    "start_time": "2022-09-09T19:04:24.319Z"
   },
   {
    "duration": 25,
    "start_time": "2022-09-09T19:04:24.345Z"
   },
   {
    "duration": 214,
    "start_time": "2022-09-09T19:04:24.371Z"
   },
   {
    "duration": 4,
    "start_time": "2022-09-09T19:04:24.587Z"
   },
   {
    "duration": 18,
    "start_time": "2022-09-09T19:04:24.592Z"
   },
   {
    "duration": 136,
    "start_time": "2022-09-09T19:04:24.612Z"
   },
   {
    "duration": 32,
    "start_time": "2022-09-09T19:04:24.751Z"
   },
   {
    "duration": 29,
    "start_time": "2022-09-09T19:04:24.785Z"
   },
   {
    "duration": 26,
    "start_time": "2022-09-09T19:04:24.816Z"
   },
   {
    "duration": 55,
    "start_time": "2022-09-09T19:04:24.844Z"
   },
   {
    "duration": 4,
    "start_time": "2022-09-09T19:04:24.901Z"
   },
   {
    "duration": 462,
    "start_time": "2022-09-09T19:04:24.906Z"
   },
   {
    "duration": 7,
    "start_time": "2022-09-09T19:04:25.377Z"
   },
   {
    "duration": 345,
    "start_time": "2022-09-09T19:04:25.386Z"
   },
   {
    "duration": 4,
    "start_time": "2022-09-09T19:04:25.733Z"
   },
   {
    "duration": 307,
    "start_time": "2022-09-09T19:04:25.738Z"
   },
   {
    "duration": 438,
    "start_time": "2022-09-09T19:04:26.047Z"
   },
   {
    "duration": 22,
    "start_time": "2022-09-09T19:04:26.490Z"
   },
   {
    "duration": 4,
    "start_time": "2022-09-09T19:04:26.514Z"
   },
   {
    "duration": 537,
    "start_time": "2022-09-09T19:04:26.520Z"
   },
   {
    "duration": 298,
    "start_time": "2022-09-09T19:04:27.059Z"
   },
   {
    "duration": 334,
    "start_time": "2022-09-09T19:04:27.358Z"
   },
   {
    "duration": 16,
    "start_time": "2022-09-09T19:04:27.694Z"
   },
   {
    "duration": 14,
    "start_time": "2022-09-09T19:04:27.712Z"
   },
   {
    "duration": 8,
    "start_time": "2022-09-09T19:04:27.728Z"
   },
   {
    "duration": 4,
    "start_time": "2022-09-09T19:04:27.738Z"
   },
   {
    "duration": 35,
    "start_time": "2022-09-09T19:04:27.770Z"
   },
   {
    "duration": 23,
    "start_time": "2022-09-09T19:04:27.806Z"
   },
   {
    "duration": 55,
    "start_time": "2022-09-09T19:04:27.831Z"
   },
   {
    "duration": 1492,
    "start_time": "2022-09-09T19:04:27.889Z"
   },
   {
    "duration": 12667,
    "start_time": "2022-09-09T19:04:29.383Z"
   },
   {
    "duration": 3,
    "start_time": "2022-09-09T19:04:42.052Z"
   },
   {
    "duration": 3379,
    "start_time": "2022-09-09T19:04:42.067Z"
   },
   {
    "duration": 870,
    "start_time": "2022-09-09T19:04:45.449Z"
   },
   {
    "duration": 6,
    "start_time": "2022-09-09T19:04:46.320Z"
   },
   {
    "duration": 13,
    "start_time": "2022-09-09T19:04:46.328Z"
   },
   {
    "duration": 35,
    "start_time": "2022-09-09T19:04:46.343Z"
   },
   {
    "duration": 26,
    "start_time": "2022-09-09T19:04:46.379Z"
   }
  ],
  "kernelspec": {
   "display_name": "Python 3 (ipykernel)",
   "language": "python",
   "name": "python3"
  },
  "language_info": {
   "codemirror_mode": {
    "name": "ipython",
    "version": 3
   },
   "file_extension": ".py",
   "mimetype": "text/x-python",
   "name": "python",
   "nbconvert_exporter": "python",
   "pygments_lexer": "ipython3",
   "version": "3.9.10"
  },
  "toc": {
   "base_numbering": 1,
   "nav_menu": {},
   "number_sections": true,
   "sideBar": true,
   "skip_h1_title": false,
   "title_cell": "Table of Contents",
   "title_sidebar": "Contents",
   "toc_cell": true,
   "toc_position": {
    "height": "calc(100% - 180px)",
    "left": "10px",
    "top": "150px",
    "width": "272px"
   },
   "toc_section_display": true,
   "toc_window_display": true
  }
 },
 "nbformat": 4,
 "nbformat_minor": 2
}
