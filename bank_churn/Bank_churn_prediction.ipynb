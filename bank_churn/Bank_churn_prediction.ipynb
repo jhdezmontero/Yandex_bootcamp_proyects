{
 "cells": [
  {
   "cell_type": "markdown",
   "id": "f384770f",
   "metadata": {},
   "source": [
    "# Prediction of loss of bank customers <a class='tocSkip'></a>\n",
    "\n",
    "**Beta Bank** customers are leaving little by little on a monthly basis. The bank's central management discovered that it is more affordable to retain existing customers than to attract new customers.\n",
    "\n",
    "The goal is to build a model that predicts whether or not a customer will leave the bank based on historical data on each customer's behavior and the termination of contracts with the bank. The model should have the maximum value of **_F1_** possible. F1 is a metric that tells us about the relationship between the sensitivity (recall) and the accuracy of the model. Additionally, the resulting model will be evaluated using the AUC-ROC metric."
   ]
  },
  {
   "cell_type": "markdown",
   "id": "9d9b573c",
   "metadata": {
    "toc": true
   },
   "source": [
    "<h1>Table of Contents<span class=\"tocSkip\"></span></h1>\n",
    "<div class=\"toc\"><ul class=\"toc-item\"><li><span><a href=\"#Download-and-data-preprocessing\" data-toc-modified-id=\"Download-and-data-preprocessing-1\"><span class=\"toc-item-num\">1&nbsp;&nbsp;</span>Download and data preprocessing</a></span><ul class=\"toc-item\"><li><span><a href=\"#Encode-of-categorical-variables\" data-toc-modified-id=\"Encode-of-categorical-variables-1.1\"><span class=\"toc-item-num\">1.1&nbsp;&nbsp;</span>Encode of categorical variables</a></span></li><li><span><a href=\"#Scaling-of-numeric-variables\" data-toc-modified-id=\"Scaling-of-numeric-variables-1.2\"><span class=\"toc-item-num\">1.2&nbsp;&nbsp;</span>Scaling of numeric variables</a></span></li><li><span><a href=\"#Data-division\" data-toc-modified-id=\"Data-division-1.3\"><span class=\"toc-item-num\">1.3&nbsp;&nbsp;</span>Data division</a></span></li></ul></li><li><span><a href=\"#Examining-class-balance\" data-toc-modified-id=\"Examining-class-balance-2\"><span class=\"toc-item-num\">2&nbsp;&nbsp;</span>Examining class balance</a></span><ul class=\"toc-item\"><li><span><a href=\"#Unbalanced-decision-tree\" data-toc-modified-id=\"Unbalanced-decision-tree-2.1\"><span class=\"toc-item-num\">2.1&nbsp;&nbsp;</span>Unbalanced decision tree</a></span></li><li><span><a href=\"#Random-forest-with-imbalance\" data-toc-modified-id=\"Random-forest-with-imbalance-2.2\"><span class=\"toc-item-num\">2.2&nbsp;&nbsp;</span>Random forest with imbalance</a></span></li><li><span><a href=\"#Logistic-regression-with-imbalance\" data-toc-modified-id=\"Logistic-regression-with-imbalance-2.3\"><span class=\"toc-item-num\">2.3&nbsp;&nbsp;</span>Logistic regression with imbalance</a></span></li><li><span><a href=\"#Conclusions:-models-with-class-imbalance\" data-toc-modified-id=\"Conclusions:-models-with-class-imbalance-2.4\"><span class=\"toc-item-num\">2.4&nbsp;&nbsp;</span>Conclusions: models with class imbalance</a></span></li></ul></li><li><span><a href=\"#Model-improvement\" data-toc-modified-id=\"Model-improvement-3\"><span class=\"toc-item-num\">3&nbsp;&nbsp;</span>Model improvement</a></span><ul class=\"toc-item\"><li><span><a href=\"#Adjustment-of-class-weights\" data-toc-modified-id=\"Adjustment-of-class-weights-3.1\"><span class=\"toc-item-num\">3.1&nbsp;&nbsp;</span>Adjustment of class weights</a></span><ul class=\"toc-item\"><li><span><a href=\"#Decision-tree-with-balanced-classes\" data-toc-modified-id=\"Decision-tree-with-balanced-classes-3.1.1\"><span class=\"toc-item-num\">3.1.1&nbsp;&nbsp;</span>Decision tree with balanced classes</a></span></li><li><span><a href=\"#Random-forest-with-balanced-classes\" data-toc-modified-id=\"Random-forest-with-balanced-classes-3.1.2\"><span class=\"toc-item-num\">3.1.2&nbsp;&nbsp;</span>Random forest with balanced classes</a></span></li><li><span><a href=\"#Logistic-regression-with-balanced-classes\" data-toc-modified-id=\"Logistic-regression-with-balanced-classes-3.1.3\"><span class=\"toc-item-num\">3.1.3&nbsp;&nbsp;</span>Logistic regression with balanced classes</a></span></li><li><span><a href=\"#Comparison-of-models-with-and-without-class-balance\" data-toc-modified-id=\"Comparison-of-models-with-and-without-class-balance-3.1.4\"><span class=\"toc-item-num\">3.1.4&nbsp;&nbsp;</span>Comparison of models with and without class balance</a></span></li></ul></li><li><span><a href=\"#Upsampling\" data-toc-modified-id=\"Upsampling-3.2\"><span class=\"toc-item-num\">3.2&nbsp;&nbsp;</span>Upsampling</a></span><ul class=\"toc-item\"><li><span><a href=\"#Decision-tree-with-upsampling\" data-toc-modified-id=\"Decision-tree-with-upsampling-3.2.1\"><span class=\"toc-item-num\">3.2.1&nbsp;&nbsp;</span>Decision tree with upsampling</a></span></li><li><span><a href=\"#Random-forest-with-upsampling\" data-toc-modified-id=\"Random-forest-with-upsampling-3.2.2\"><span class=\"toc-item-num\">3.2.2&nbsp;&nbsp;</span>Random forest with upsampling</a></span></li><li><span><a href=\"#Logistic-regression-with-upsampling\" data-toc-modified-id=\"Logistic-regression-with-upsampling-3.2.3\"><span class=\"toc-item-num\">3.2.3&nbsp;&nbsp;</span>Logistic regression with upsampling</a></span></li></ul></li><li><span><a href=\"#Downsampling\" data-toc-modified-id=\"Downsampling-3.3\"><span class=\"toc-item-num\">3.3&nbsp;&nbsp;</span>Downsampling</a></span><ul class=\"toc-item\"><li><span><a href=\"#Decision-tree-with-dowsampling\" data-toc-modified-id=\"Decision-tree-with-dowsampling-3.3.1\"><span class=\"toc-item-num\">3.3.1&nbsp;&nbsp;</span>Decision tree with dowsampling</a></span></li><li><span><a href=\"#Random-forest-with-dowsampling\" data-toc-modified-id=\"Random-forest-with-dowsampling-3.3.2\"><span class=\"toc-item-num\">3.3.2&nbsp;&nbsp;</span>Random forest with dowsampling</a></span></li><li><span><a href=\"#Logistic-regression-with-downsampling\" data-toc-modified-id=\"Logistic-regression-with-downsampling-3.3.3\"><span class=\"toc-item-num\">3.3.3&nbsp;&nbsp;</span>Logistic regression with downsampling</a></span></li></ul></li><li><span><a href=\"#Model-Comparison\" data-toc-modified-id=\"Model-Comparison-3.4\"><span class=\"toc-item-num\">3.4&nbsp;&nbsp;</span>Model Comparison</a></span><ul class=\"toc-item\"><li><span><a href=\"#F1-under-different-scenarios\" data-toc-modified-id=\"F1-under-different-scenarios-3.4.1\"><span class=\"toc-item-num\">3.4.1&nbsp;&nbsp;</span>F1 under different scenarios</a></span></li><li><span><a href=\"#AUC-ROC-under-different-scenarios\" data-toc-modified-id=\"AUC-ROC-under-different-scenarios-3.4.2\"><span class=\"toc-item-num\">3.4.2&nbsp;&nbsp;</span>AUC-ROC under different scenarios</a></span></li></ul></li><li><span><a href=\"#Conclusions\" data-toc-modified-id=\"Conclusions-3.5\"><span class=\"toc-item-num\">3.5&nbsp;&nbsp;</span>Conclusions</a></span></li></ul></li><li><span><a href=\"#Final-test-of-the-model\" data-toc-modified-id=\"Final-test-of-the-model-4\"><span class=\"toc-item-num\">4&nbsp;&nbsp;</span>Final test of the model</a></span><ul class=\"toc-item\"><li><span><a href=\"#Conclusion-final-model\" data-toc-modified-id=\"Conclusion-final-model-4.1\"><span class=\"toc-item-num\">4.1&nbsp;&nbsp;</span>Conclusion final model</a></span></li></ul></li></ul></div>"
   ]
  },
  {
   "cell_type": "code",
   "execution_count": 1,
   "id": "04d904e0",
   "metadata": {},
   "outputs": [],
   "source": [
    "# Load libraries\n",
    "\n",
    "# Data manipulation\n",
    "import pandas as pd\n",
    "import numpy as np\n",
    "\n",
    "# Plotting\n",
    "import matplotlib.pyplot as plt\n",
    "\n",
    "# Classification models\n",
    "from sklearn.ensemble import RandomForestClassifier\n",
    "from sklearn.linear_model import LogisticRegression\n",
    "from sklearn.tree import DecisionTreeClassifier\n",
    "\n",
    "# Data preprocessing and model metrics\n",
    "from sklearn.model_selection import train_test_split\n",
    "from sklearn.metrics import f1_score, precision_score, recall_score, roc_auc_score, roc_curve\n",
    "from sklearn.preprocessing import StandardScaler\n",
    "from sklearn.utils import shuffle"
   ]
  },
  {
   "cell_type": "markdown",
   "id": "96c76070",
   "metadata": {},
   "source": [
    "# Download and data preprocessing\n",
    "\n",
    "We are going to import the data of the clients in the DataFrame **`data`** which consists of the following columns:\n",
    "\n",
    "* `RowNumber` — data string index\n",
    "* `CustomerId` — unique customer identifier\n",
    "* `Surname` — last name\n",
    "* `CreditScore` — credit value\n",
    "* `Geography` — country of residence\n",
    "* `Gender` — sex\n",
    "* `Age` — age\n",
    "* `Tenure` — maturity period for a client's fixed deposit (years)\n",
    "* `Balance` — account balance\n",
    "* `NumOfProducts` — number of bank products used by the client\n",
    "* `HasCrCard` — the customer has a credit card\n",
    "* `IsActiveMember` — client activity\n",
    "* `EstimatedSalary` — estimated salary\n",
    "* `Exited` - the client has left"
   ]
  },
  {
   "cell_type": "code",
   "execution_count": 2,
   "id": "552767ee",
   "metadata": {},
   "outputs": [
    {
     "name": "stdout",
     "output_type": "stream",
     "text": [
      "/Users/jesusrfl/Yandex_coding_projects/bank_churn\n",
      "<class 'pandas.core.frame.DataFrame'>\n",
      "RangeIndex: 10000 entries, 0 to 9999\n",
      "Data columns (total 14 columns):\n",
      " #   Column           Non-Null Count  Dtype  \n",
      "---  ------           --------------  -----  \n",
      " 0   RowNumber        10000 non-null  int64  \n",
      " 1   CustomerId       10000 non-null  int64  \n",
      " 2   Surname          10000 non-null  object \n",
      " 3   CreditScore      10000 non-null  int64  \n",
      " 4   Geography        10000 non-null  object \n",
      " 5   Gender           10000 non-null  object \n",
      " 6   Age              10000 non-null  int64  \n",
      " 7   Tenure           9091 non-null   float64\n",
      " 8   Balance          10000 non-null  float64\n",
      " 9   NumOfProducts    10000 non-null  int64  \n",
      " 10  HasCrCard        10000 non-null  int64  \n",
      " 11  IsActiveMember   10000 non-null  int64  \n",
      " 12  EstimatedSalary  10000 non-null  float64\n",
      " 13  Exited           10000 non-null  int64  \n",
      "dtypes: float64(3), int64(8), object(3)\n",
      "memory usage: 1.1+ MB\n",
      "None\n"
     ]
    },
    {
     "data": {
      "text/html": [
       "<div>\n",
       "<style scoped>\n",
       "    .dataframe tbody tr th:only-of-type {\n",
       "        vertical-align: middle;\n",
       "    }\n",
       "\n",
       "    .dataframe tbody tr th {\n",
       "        vertical-align: top;\n",
       "    }\n",
       "\n",
       "    .dataframe thead th {\n",
       "        text-align: right;\n",
       "    }\n",
       "</style>\n",
       "<table border=\"1\" class=\"dataframe\">\n",
       "  <thead>\n",
       "    <tr style=\"text-align: right;\">\n",
       "      <th></th>\n",
       "      <th>RowNumber</th>\n",
       "      <th>CustomerId</th>\n",
       "      <th>Surname</th>\n",
       "      <th>CreditScore</th>\n",
       "      <th>Geography</th>\n",
       "      <th>Gender</th>\n",
       "      <th>Age</th>\n",
       "      <th>Tenure</th>\n",
       "      <th>Balance</th>\n",
       "      <th>NumOfProducts</th>\n",
       "      <th>HasCrCard</th>\n",
       "      <th>IsActiveMember</th>\n",
       "      <th>EstimatedSalary</th>\n",
       "      <th>Exited</th>\n",
       "    </tr>\n",
       "  </thead>\n",
       "  <tbody>\n",
       "    <tr>\n",
       "      <th>0</th>\n",
       "      <td>1</td>\n",
       "      <td>15634602</td>\n",
       "      <td>Hargrave</td>\n",
       "      <td>619</td>\n",
       "      <td>France</td>\n",
       "      <td>Female</td>\n",
       "      <td>42</td>\n",
       "      <td>2.0</td>\n",
       "      <td>0.00</td>\n",
       "      <td>1</td>\n",
       "      <td>1</td>\n",
       "      <td>1</td>\n",
       "      <td>101348.88</td>\n",
       "      <td>1</td>\n",
       "    </tr>\n",
       "    <tr>\n",
       "      <th>1</th>\n",
       "      <td>2</td>\n",
       "      <td>15647311</td>\n",
       "      <td>Hill</td>\n",
       "      <td>608</td>\n",
       "      <td>Spain</td>\n",
       "      <td>Female</td>\n",
       "      <td>41</td>\n",
       "      <td>1.0</td>\n",
       "      <td>83807.86</td>\n",
       "      <td>1</td>\n",
       "      <td>0</td>\n",
       "      <td>1</td>\n",
       "      <td>112542.58</td>\n",
       "      <td>0</td>\n",
       "    </tr>\n",
       "    <tr>\n",
       "      <th>2</th>\n",
       "      <td>3</td>\n",
       "      <td>15619304</td>\n",
       "      <td>Onio</td>\n",
       "      <td>502</td>\n",
       "      <td>France</td>\n",
       "      <td>Female</td>\n",
       "      <td>42</td>\n",
       "      <td>8.0</td>\n",
       "      <td>159660.80</td>\n",
       "      <td>3</td>\n",
       "      <td>1</td>\n",
       "      <td>0</td>\n",
       "      <td>113931.57</td>\n",
       "      <td>1</td>\n",
       "    </tr>\n",
       "    <tr>\n",
       "      <th>3</th>\n",
       "      <td>4</td>\n",
       "      <td>15701354</td>\n",
       "      <td>Boni</td>\n",
       "      <td>699</td>\n",
       "      <td>France</td>\n",
       "      <td>Female</td>\n",
       "      <td>39</td>\n",
       "      <td>1.0</td>\n",
       "      <td>0.00</td>\n",
       "      <td>2</td>\n",
       "      <td>0</td>\n",
       "      <td>0</td>\n",
       "      <td>93826.63</td>\n",
       "      <td>0</td>\n",
       "    </tr>\n",
       "    <tr>\n",
       "      <th>4</th>\n",
       "      <td>5</td>\n",
       "      <td>15737888</td>\n",
       "      <td>Mitchell</td>\n",
       "      <td>850</td>\n",
       "      <td>Spain</td>\n",
       "      <td>Female</td>\n",
       "      <td>43</td>\n",
       "      <td>2.0</td>\n",
       "      <td>125510.82</td>\n",
       "      <td>1</td>\n",
       "      <td>1</td>\n",
       "      <td>1</td>\n",
       "      <td>79084.10</td>\n",
       "      <td>0</td>\n",
       "    </tr>\n",
       "  </tbody>\n",
       "</table>\n",
       "</div>"
      ],
      "text/plain": [
       "   RowNumber  CustomerId   Surname  CreditScore Geography  Gender  Age  \\\n",
       "0          1    15634602  Hargrave          619    France  Female   42   \n",
       "1          2    15647311      Hill          608     Spain  Female   41   \n",
       "2          3    15619304      Onio          502    France  Female   42   \n",
       "3          4    15701354      Boni          699    France  Female   39   \n",
       "4          5    15737888  Mitchell          850     Spain  Female   43   \n",
       "\n",
       "   Tenure    Balance  NumOfProducts  HasCrCard  IsActiveMember  \\\n",
       "0     2.0       0.00              1          1               1   \n",
       "1     1.0   83807.86              1          0               1   \n",
       "2     8.0  159660.80              3          1               0   \n",
       "3     1.0       0.00              2          0               0   \n",
       "4     2.0  125510.82              1          1               1   \n",
       "\n",
       "   EstimatedSalary  Exited  \n",
       "0        101348.88       1  \n",
       "1        112542.58       0  \n",
       "2        113931.57       1  \n",
       "3         93826.63       0  \n",
       "4         79084.10       0  "
      ]
     },
     "execution_count": 2,
     "metadata": {},
     "output_type": "execute_result"
    }
   ],
   "source": [
    "# Set working directory\n",
    "%cd '~/Yandex_coding_projects/bank_churn'\n",
    "\n",
    "# Importación de datos\n",
    "data = pd.read_csv('datasets/churn.csv')\n",
    "\n",
    "# Información del DataFrame 'data'\n",
    "print(data.info())\n",
    "\n",
    "# Visualización de las primeras 5 filas del DataFrame data\n",
    "data.head()"
   ]
  },
  {
   "cell_type": "markdown",
   "id": "addbfca9",
   "metadata": {},
   "source": [
    "Our DataFrame **`data`** consists of 10,000 rows, all columns except the `'Tenure'` column have no missing values. The `'Tenure'` column has 909 missing values, which represents only 9% of the data, so we are going to fill in the missing values with the overall median value of `'Tenure'`.\n",
    "\n",
    "Since the goal is to predict whether or not the client will close their account, our **target** is `'Exited'`. The other variables will be used as characteristics to train the classification model with the exception of the `'RowNumber'`, `'CustomerId'` and `'Surname'` columns, since these variables are unique characteristics of each client."
   ]
  },
  {
   "cell_type": "code",
   "execution_count": 3,
   "id": "530041c3",
   "metadata": {},
   "outputs": [
    {
     "name": "stdout",
     "output_type": "stream",
     "text": [
      "<class 'pandas.core.frame.DataFrame'>\n",
      "RangeIndex: 10000 entries, 0 to 9999\n",
      "Data columns (total 11 columns):\n",
      " #   Column           Non-Null Count  Dtype  \n",
      "---  ------           --------------  -----  \n",
      " 0   CreditScore      10000 non-null  int64  \n",
      " 1   Geography        10000 non-null  object \n",
      " 2   Gender           10000 non-null  object \n",
      " 3   Age              10000 non-null  int64  \n",
      " 4   Tenure           10000 non-null  float64\n",
      " 5   Balance          10000 non-null  float64\n",
      " 6   NumOfProducts    10000 non-null  int64  \n",
      " 7   HasCrCard        10000 non-null  int64  \n",
      " 8   IsActiveMember   10000 non-null  int64  \n",
      " 9   EstimatedSalary  10000 non-null  float64\n",
      " 10  Exited           10000 non-null  int64  \n",
      "dtypes: float64(3), int64(6), object(2)\n",
      "memory usage: 859.5+ KB\n",
      "None\n"
     ]
    }
   ],
   "source": [
    "# Filling NaN in 'Tenure' with 0\n",
    "data['Tenure'] = data['Tenure'].fillna(data['Tenure'].median())\n",
    "\n",
    "# Delete columns 'RowNumber', 'CustomerId' and 'Surname'\n",
    "data = data.drop(['RowNumber','CustomerId','Surname'], axis=1)\n",
    "\n",
    "# 'data' info\n",
    "print(data.info())"
   ]
  },
  {
   "cell_type": "markdown",
   "id": "abfc9eca",
   "metadata": {},
   "source": [
    "We have removed the missing values in `'Tenure'` and removed unnecessary columns for training our classification model.\n",
    "\n",
    "## Encode of categorical variables\n",
    "\n",
    "We are going to encode the categorical variables with the OHE (One-Hot Encoding) technique to transform them into numerical variables and be able to use them in our model. The variables `'Geography'` and `'Gender'` are categorical variables. Before coding them, let's examine them."
   ]
  },
  {
   "cell_type": "code",
   "execution_count": 4,
   "id": "d2e005a3",
   "metadata": {},
   "outputs": [
    {
     "name": "stdout",
     "output_type": "stream",
     "text": [
      "France     5014\n",
      "Germany    2509\n",
      "Spain      2477\n",
      "Name: Geography, dtype: int64 \n",
      "\n",
      "Male      5457\n",
      "Female    4543\n",
      "Name: Gender, dtype: int64 \n",
      "\n"
     ]
    }
   ],
   "source": [
    "print(data['Geography'].value_counts(),'\\n')\n",
    "print(data['Gender'].value_counts(),'\\n')"
   ]
  },
  {
   "cell_type": "markdown",
   "id": "847a8cc5",
   "metadata": {},
   "source": [
    "For the `'Geography'` variable we have three categories while for the `'Gender'` variable we have two. None of these variables are ordinal or multilevel, so coding with the OHE technique is adequate."
   ]
  },
  {
   "cell_type": "code",
   "execution_count": 5,
   "id": "4c754c1f",
   "metadata": {},
   "outputs": [],
   "source": [
    "# Encoding 'Geography' and 'Gender'\n",
    "data = pd.get_dummies(data, drop_first=True)"
   ]
  },
  {
   "cell_type": "markdown",
   "id": "b8b87565",
   "metadata": {},
   "source": [
    "We have codified the categories variables. Now we are going to scale the numerical variables.\n",
    "\n",
    "## Scaling of numeric variables\n",
    "\n",
    "Let's scale the variables `'CredictScore'`, `'Age'`, `'Tenure'`, `'Balance'`, `'NumOfProudcts'`, and `'EstimatedSalary'`. The scaling of numerical variables is so that the algorithm does not consider those variables with a wide range and variance as very important when in reality they are not."
   ]
  },
  {
   "cell_type": "code",
   "execution_count": 6,
   "id": "2d368b5a",
   "metadata": {},
   "outputs": [],
   "source": [
    "# Scaling numeric variables\n",
    "numeric = ['CreditScore','Age','Tenure','Balance','NumOfProducts','EstimatedSalary']\n",
    "scaler = StandardScaler()\n",
    "scaler.fit(data[numeric])\n",
    "data[numeric] = scaler.transform(data[numeric])"
   ]
  },
  {
   "cell_type": "markdown",
   "id": "1f8294d1",
   "metadata": {},
   "source": [
    "We have successfully scaled the numerical features. We will now proceed to split the data for training, validation, and testing.\n",
    "\n",
    "## Data division\n",
    "\n",
    "Since we don't have a test set for the final model, we are going to split the data into three sets, each set will be stored in a different DataFrame:\n",
    "* Training: represents 60% of the data (`df_train`)\n",
    "* Validation: represents 20% of the data (`df_valid`)\n",
    "* Test: represents 20% of the data (`df_test`)\n",
    "\n",
    "Once the data has been separated, the characteristic (`'features_'`) and objective (`'target_'`) variables will be separated for each data set."
   ]
  },
  {
   "cell_type": "code",
   "execution_count": 7,
   "id": "c3ef09b8",
   "metadata": {},
   "outputs": [
    {
     "name": "stdout",
     "output_type": "stream",
     "text": [
      "Training:   6000\n",
      "Validation: 2000\n",
      "Test:       2000\n"
     ]
    }
   ],
   "source": [
    "# Traing set 60%\n",
    "df_train, df_valid_test = train_test_split(data, test_size = 0.4, random_state = 54321)\n",
    "\n",
    "# Slice ('df_valid_test') into validation (20%) and test (20%)\n",
    "df_valid, df_test = train_test_split(df_valid_test, test_size = 0.5, random_state= 54321)\n",
    "\n",
    "# Set sizes\n",
    "print('Training:  ', len(df_train))\n",
    "print('Validation:', len(df_valid))\n",
    "print('Test:      ', len(df_test))\n",
    "\n",
    "# FEATURES and TARGET\n",
    "## Training set _train \n",
    "features_train = df_train.drop('Exited', axis=1)\n",
    "target_train = df_train['Exited']\n",
    "\n",
    "## Validation set _valid\n",
    "features_valid = df_valid.drop('Exited', axis=1)\n",
    "target_valid = df_valid['Exited']\n",
    "\n",
    "## Test set _test\n",
    "features_test = df_test.drop('Exited', axis=1)\n",
    "target_test = df_test['Exited']"
   ]
  },
  {
   "cell_type": "markdown",
   "id": "3a66d938",
   "metadata": {},
   "source": [
    "We have prepared and separated the data for training, validation and testing to build the model and evaluate it later. Before building the classification models we are going to analyze the balance of classes."
   ]
  },
  {
   "cell_type": "markdown",
   "id": "937e2ce8",
   "metadata": {},
   "source": [
    "# Examining class balance\n",
    "\n",
    "In this second stage, we are going to analyze the class equilibrium and build three classification models (Decision Tree, Random Forest and Logistic Regression) without considering whether or not there is an imbalance in the classes.\n",
    "\n",
    "To examine whether or not there is a class imbalance, we are going to determine the percentage of clients who closed their account, for this we are going to calculate the average of the `'Exited'` variable of the total data set."
   ]
  },
  {
   "cell_type": "code",
   "execution_count": 8,
   "id": "329170ec",
   "metadata": {},
   "outputs": [
    {
     "name": "stdout",
     "output_type": "stream",
     "text": [
      "0    7963\n",
      "1    2037\n",
      "Name: Exited, dtype: int64 \n",
      "\n",
      "Percentage of churn clients: 0.2037\n"
     ]
    }
   ],
   "source": [
    "# Count classes\n",
    "print(data['Exited'].value_counts(),'\\n')\n",
    "\n",
    "# Class balance\n",
    "print('Percentage of churn clients:', data['Exited'].mean())"
   ]
  },
  {
   "cell_type": "markdown",
   "id": "e682e2c7",
   "metadata": {},
   "source": [
    "The classes of customers who remain customers of the bank (`'Exited' == 0`) and of customers who close their account (`'Exited' == 1`) are far from having a 1:1 ratio, so it is He believes that there is a class imbalance. Such an imbalance can affect the accuracy and precision of the classification model.\n",
    "\n",
    "Next we are going to build three classification models without taking into account the imbalance of classes existing in the data. The best models will be selected according to the F1 score which is the harmonic measure between the precision and sensitivity (recall) of the model, additionally the AUC-ROC score will be calculated and examined graphically by projection of the curve ROC."
   ]
  },
  {
   "cell_type": "markdown",
   "id": "6c76cdf5",
   "metadata": {},
   "source": [
    "## Unbalanced decision tree\n",
    "\n",
    "For the decision tree, a hyperparameter is going to be tuned which is the maximum depth (`max_depth`) of the tree. The `random_state` hyperparameter will always have the value `54321`. The best model will be selected according to your F1 score. Subsequently, the selected model will be evaluated with the precision and sensitivity metrics (recall) as well as the AUC-ROC score."
   ]
  },
  {
   "cell_type": "code",
   "execution_count": 9,
   "id": "b581f8f8",
   "metadata": {},
   "outputs": [
    {
     "name": "stdout",
     "output_type": "stream",
     "text": [
      "F1 score best model: 0.5756676557863502\n",
      "Optimum depth: 7\n"
     ]
    }
   ],
   "source": [
    "# Optimal model features\n",
    "best_ad_model = None    # Best model with optimal parameters\n",
    "best_ad_f1_score = 0    # F1 score\n",
    "best_ad_depth = 0       # Optimal max_depth selection\n",
    "\n",
    "# Decision trees iterating different max_depth\n",
    "for depth in range(1, 11):  \n",
    "    ad_model = DecisionTreeClassifier(max_depth=depth, random_state=54321) # Sets max_depth\n",
    "    ad_model.fit(features_train, target_train) # Model fitting\n",
    "    predicted_valid = ad_model.predict(features_valid) # Predictions\n",
    "    ad_f1_score = f1_score(target_valid, predicted_valid) # F1 score\n",
    "    if ad_f1_score > best_ad_f1_score:\n",
    "        best_ad_model = ad_model\n",
    "        best_ad_f1_score = ad_f1_score\n",
    "        best_ad_depth = depth\n",
    "\n",
    "print(\"F1 score best model:\", best_ad_f1_score) \n",
    "print(\"Optimum depth:\", best_ad_depth)"
   ]
  },
  {
   "cell_type": "markdown",
   "id": "2a0173b2",
   "metadata": {},
   "source": [
    "**The best model according to the F1 score has a depth of 7**, we are going to build this model and calculate its precision, recall and AUC-ROC value."
   ]
  },
  {
   "cell_type": "code",
   "execution_count": 12,
   "id": "1a71b954",
   "metadata": {},
   "outputs": [
    {
     "name": "stdout",
     "output_type": "stream",
     "text": [
      "Classification metrics\n",
      "F1 score:  0.5756676557863502\n",
      "Precision: 0.708029197080292\n",
      "Recall:    0.485\n",
      "AUC-ROC:   0.8158015624999999\n"
     ]
    },
    {
     "data": {
      "image/png": "[encoded data removed]",
      "text/plain": [
       "<Figure size 432x288 with 1 Axes>"
      ]
     },
     "metadata": {
      "needs_background": "light"
     },
     "output_type": "display_data"
    }
   ],
   "source": [
    "# Optimal decision tree model \n",
    "ad_model_imbalance = DecisionTreeClassifier(max_depth=7, random_state=54321)\n",
    "ad_model_imbalance.fit(features_train, target_train)\n",
    "\n",
    "print('Classification metrics')\n",
    "\n",
    "# F1 score\n",
    "predicted_valid = ad_model_imbalance.predict(features_valid)\n",
    "print('F1 score: ', f1_score(target_valid, predicted_valid))\n",
    "\n",
    "# Precisión\n",
    "print('Precision:', precision_score(target_valid, predicted_valid))\n",
    "\n",
    "# Recall\n",
    "print('Recall:   ', recall_score(target_valid, predicted_valid))\n",
    "\n",
    "# AUC-ROC\n",
    "probabilities_valid = ad_model_imbalance.predict_proba(features_valid)\n",
    "probabilities_one_valid = probabilities_valid[:, 1]\n",
    "print('AUC-ROC:  ',roc_auc_score(target_valid, probabilities_one_valid))\n",
    "\n",
    "fpr, tpr, thresholds = roc_curve(target_valid, probabilities_one_valid)\n",
    "\n",
    "plt.figure()\n",
    "plt.plot(fpr, tpr)\n",
    "plt.plot([0, 1], [0, 1], linestyle='--')\n",
    "plt.xlim([0.0, 1.0])\n",
    "plt.ylim([0.0, 1.0])\n",
    "plt.xlabel('False positive rate')\n",
    "plt.ylabel('True positive reate')\n",
    "plt.title('Decision tree ROC curve')\n",
    "plt.show()"
   ]
  },
  {
   "cell_type": "markdown",
   "id": "20790459",
   "metadata": {},
   "source": [
    "The decision tree model has a depth of 7 which obtained an **F1 score of 0.57 and an AUC-ROC value of 0.81**.\n",
    "\n",
    "According to the Recall value, our model identifies true positives only 48.5% of the time. Regarding the Precision, the model only has 70%, so the model has deficiencies when identifying false positives.\n",
    "\n",
    "According to the AUC-ROC and the ROC curve, we can see that the model is far from having a score of 100, leaving room for improvement."
   ]
  },
  {
   "cell_type": "markdown",
   "id": "150c9cc0",
   "metadata": {},
   "source": [
    "## Random forest with imbalance\n",
    "\n",
    "We are now going to build a random forest model, in this model we are going to optimize two hyperparameters `max_depth` and `n_estimators` that determine the depth and number of trees to consider respectively. The `random_state` hyperparameter will be held with a constant value of `54321`. Like the decision tree we are going to select the best model based on its F1 score."
   ]
  },
  {
   "cell_type": "code",
   "execution_count": 11,
   "id": "18174611",
   "metadata": {},
   "outputs": [
    {
     "name": "stdout",
     "output_type": "stream",
     "text": [
      "F1 of the best model in the validation set (n_estimators = 71, max_depth = 10): 0.5611745513866231\n"
     ]
    }
   ],
   "source": [
    "# Characteristics of the optimal model\n",
    "best_ba_f1_score = 0 # Returns highest F1 score\n",
    "best_est = 0         # Returns best estimator number\n",
    "best_ba_depth = 0    # Returns best depth\n",
    "\n",
    "for est in range(1, 101, 10):\n",
    "    for depth in range(1,11):\n",
    "        ba_model = RandomForestClassifier(random_state=54321, n_estimators=est, max_depth=depth) \n",
    "        ba_model.fit(features_train, target_train) \n",
    "        predicted_valid = ba_model.predict(features_valid) \n",
    "        ba_f1_score = f1_score(target_valid, predicted_valid)\n",
    "        if ba_f1_score > best_ba_f1_score:\n",
    "            best_ba_f1_score = ba_f1_score # Model with best f1 score\n",
    "            best_est = est        # Optimal n_estimators\n",
    "            best_ba_depth = depth # Optimal max_depth\n",
    "\n",
    "print(\"F1 of the best model in the validation set (n_estimators = {}, max_depth = {}): {}\".format(best_est, best_ba_depth, best_ba_f1_score))"
   ]
  },
  {
   "cell_type": "markdown",
   "id": "cfba14cc",
   "metadata": {},
   "source": [
    "The best random forest model, based on its **F1 (0.56) score, is made up of 71 decision trees with a depth of 10**. We are going to build a model with these hyperparameters and calculate its precision, recall and AUC-ROC."
   ]
  },
  {
   "cell_type": "code",
   "execution_count": 13,
   "id": "7d9b2a4b",
   "metadata": {},
   "outputs": [
    {
     "name": "stdout",
     "output_type": "stream",
     "text": [
      "Classification metrics\n",
      "F1 score:  0.5611745513866231\n",
      "Precision: 0.8075117370892019\n",
      "Recall:    0.43\n",
      "AUC-ROC:   0.8634687500000001\n"
     ]
    },
    {
     "data": {
      "image/png": "[encoded data removed]",
      "text/plain": [
       "<Figure size 432x288 with 1 Axes>"
      ]
     },
     "metadata": {
      "needs_background": "light"
     },
     "output_type": "display_data"
    }
   ],
   "source": [
    "# Optimal random forest model\n",
    "ba_model_imbalance = RandomForestClassifier(n_estimators=71, max_depth=10, random_state=54321)\n",
    "ba_model_imbalance.fit(features_train, target_train)\n",
    "\n",
    "print('Classification metrics')\n",
    "# F1 score\n",
    "predicted_valid = ba_model_imbalance.predict(features_valid)\n",
    "print('F1 score: ', f1_score(target_valid, predicted_valid))\n",
    "\n",
    "# Precisión\n",
    "print('Precision:', precision_score(target_valid, predicted_valid))\n",
    "\n",
    "# Recall\n",
    "print('Recall:   ', recall_score(target_valid, predicted_valid))\n",
    "\n",
    "# AUC-ROC\n",
    "probabilities_valid = ba_model_imbalance.predict_proba(features_valid)\n",
    "probabilities_one_valid = probabilities_valid[:, 1]\n",
    "print('AUC-ROC:  ',roc_auc_score(target_valid, probabilities_one_valid))\n",
    "\n",
    "fpr, tpr, thresholds = roc_curve(target_valid, probabilities_one_valid)\n",
    "\n",
    "plt.figure()\n",
    "plt.plot(fpr, tpr)\n",
    "plt.plot([0, 1], [0, 1], linestyle='--')\n",
    "plt.xlim([0.0, 1.0])\n",
    "plt.ylim([0.0, 1.0])\n",
    "plt.xlabel('False positive rate')\n",
    "plt.ylabel('True positive reate')\n",
    "plt.title('Decision tree ROC curve')\n",
    "plt.show()"
   ]
  },
  {
   "cell_type": "markdown",
   "id": "7bc8b456",
   "metadata": {},
   "source": [
    "Our best random forest model had an **F1 score of 0.56 and an AUC-ROC of 0.86** being slightly better than the decision tree model.\n",
    "\n",
    "However, the sensitivity score (recall) is lower than that of the decision tree since the model recognizes true positives in 43% of cases. Regarding precision, the model has 80.75%.\n",
    "\n",
    "According to the AUC-ROC curve, the model has a score of 86.3%."
   ]
  },
  {
   "cell_type": "markdown",
   "id": "093d33d8",
   "metadata": {},
   "source": [
    "## Logistic regression with imbalance\n",
    "\n",
    "Finally, we are going to build a logistic regression classification model. In this model the only hyperparameter to define is `random_state` with a value of `54321`. The model will be evaluated using the same metrics as the previous models."
   ]
  },
  {
   "cell_type": "code",
   "execution_count": 14,
   "id": "d0db2ff4",
   "metadata": {},
   "outputs": [
    {
     "name": "stdout",
     "output_type": "stream",
     "text": [
      "F1 score:  0.3013698630136986\n",
      "Precision: 0.6936936936936937\n",
      "Recall:    0.1925\n",
      "AUC-ROC:   0.7810750000000001\n"
     ]
    },
    {
     "data": {
      "image/png": "[encoded data removed]",
      "text/plain": [
       "<Figure size 432x288 with 1 Axes>"
      ]
     },
     "metadata": {
      "needs_background": "light"
     },
     "output_type": "display_data"
    }
   ],
   "source": [
    "# Logistic regression\n",
    "rl_model_imbalance = LogisticRegression(random_state=12345, solver='liblinear')\n",
    "rl_model_imbalance.fit(features_train, target_train) \n",
    "\n",
    "# F1 Score\n",
    "predicted_valid = rl_model_imbalance.predict(features_valid)\n",
    "print('F1 score: ', f1_score(target_valid, predicted_valid))\n",
    "\n",
    "# Precisión\n",
    "print('Precision:', precision_score(target_valid, predicted_valid))\n",
    "\n",
    "# Recall\n",
    "print('Recall:   ', recall_score(target_valid, predicted_valid))\n",
    "\n",
    "# AUC-ROC\n",
    "probabilities_valid = rl_model_imbalance.predict_proba(features_valid)\n",
    "probabilities_one_valid = probabilities_valid[:, 1]\n",
    "print('AUC-ROC:  ',roc_auc_score(target_valid, probabilities_one_valid))\n",
    "\n",
    "fpr, tpr, thresholds = roc_curve(target_valid, probabilities_one_valid)\n",
    "\n",
    "plt.figure()\n",
    "plt.plot(fpr, tpr)\n",
    "plt.plot([0, 1], [0, 1], linestyle='--')\n",
    "plt.xlim([0.0, 1.0])\n",
    "plt.ylim([0.0, 1.0])\n",
    "plt.xlabel('False positive rate')\n",
    "plt.ylabel('True positive reate')\n",
    "plt.title('Decision tree ROC curve')\n",
    "plt.show()"
   ]
  },
  {
   "cell_type": "markdown",
   "id": "188bf383",
   "metadata": {},
   "source": [
    "Our logistic regression model yielded an **F1 score of 0.30 and an AUC-ROC of 0.78**. According to the sensitivity of the model (racall), it only identifies true positives 19.25% of the time. The accuracy of the model is only 69%, so it has a high incidence of false positives. Based on the AUC-ROC value, the model has a large margin for improvement (78%) as it is far from 100%."
   ]
  },
  {
   "cell_type": "markdown",
   "id": "68b5b977",
   "metadata": {},
   "source": [
    "## Conclusions: models with class imbalance\n",
    "\n",
    "The quality of the models built with imbalance can be observed in the following table, the numbers in bold indicate the highest scores for each metric obtained in each model (`DT`: decision tree, `RF`: random forest, `LR` : Logistic regression).\n",
    "\n",
    "|   Métrica   |  `DT` | `RF`  |  `LR` |\n",
    "| ----------- | ----- | ----- | ----- |\n",
    "|   **F1**    |**0.57**| 0.56 | 0.30 |\n",
    "| **AUC-ROC** |   0.81 | **0.86** | 0.78 |\n",
    "|**Precision**| 0.70   | **0.80** | 0.69 |\n",
    "| **Recall**  | **0.48** | 0.43 | 0.19 |\n",
    "\n",
    "The random forest model obtained the highest scores in two metrics (AUC-ROC and Precision) and the second best F1 score, being surpassed by the decision tree model. However, due to the imbalance of classes, the models may be affected in their performance. In the next stage of the project, he will address the class imbalance."
   ]
  },
  {
   "cell_type": "markdown",
   "id": "5ca18a12",
   "metadata": {},
   "source": [
    "# Model improvement\n",
    "\n",
    "In this third stage we are going to improve the quality of the models by addressing class imbalance through three approaches:\n",
    "\n",
    "* **Adjustment of class weights**: by modifying the `class_weight` hyperparameter\n",
    "* **Oversampling** (_upsampling_): by multiplying the rare classes (i.e. people who close their account)\n",
    "* **Subsampling** (_downsampling_): by randomly eliminating negative cases (i.e. people who maintain their account)."
   ]
  },
  {
   "cell_type": "markdown",
   "id": "cd306e0c",
   "metadata": {},
   "source": [
    "## Adjustment of class weights\n",
    "\n",
    "We are going to rebuild the models selected in the previous step but modifying the `class_weight = 'balanced'` hyperparameter. This modification makes the rare classes have balanced weights compared to the more frequent classes.\n",
    "\n",
    "The comparison of the quality between models with and without class balance will be made through the F1 score and the AUC-ROC."
   ]
  },
  {
   "cell_type": "markdown",
   "id": "4aed0749",
   "metadata": {},
   "source": [
    "### Decision tree with balanced classes"
   ]
  },
  {
   "cell_type": "code",
   "execution_count": 15,
   "id": "49efb6d9",
   "metadata": {},
   "outputs": [
    {
     "name": "stdout",
     "output_type": "stream",
     "text": [
      "F1 score:  0.5489443378119001\n",
      "AUC-ROC:   0.8124179687499999\n"
     ]
    }
   ],
   "source": [
    "# Decision tree with class_weight='balanced'\n",
    "ad_model_wb = DecisionTreeClassifier(max_depth=7, class_weight='balanced', random_state=54321)\n",
    "ad_model_wb.fit(features_train, target_train)\n",
    "\n",
    "# F1 score\n",
    "predicted_valid = ad_model_wb.predict(features_valid)\n",
    "print('F1 score: ', f1_score(target_valid, predicted_valid))\n",
    "\n",
    "# AUC-ROC\n",
    "probabilities_valid = ad_model_wb.predict_proba(features_valid)\n",
    "probabilities_one_valid = probabilities_valid[:, 1]\n",
    "print('AUC-ROC:  ',roc_auc_score(target_valid, probabilities_one_valid))"
   ]
  },
  {
   "cell_type": "markdown",
   "id": "3f3ab8ac",
   "metadata": {},
   "source": [
    "### Random forest with balanced classes"
   ]
  },
  {
   "cell_type": "code",
   "execution_count": 16,
   "id": "237b654f",
   "metadata": {},
   "outputs": [
    {
     "name": "stdout",
     "output_type": "stream",
     "text": [
      "F1 score:  0.6125461254612548\n",
      "AUC-ROC:   0.8566999999999999\n"
     ]
    }
   ],
   "source": [
    "# Random Forest with class_weight='balanced'\n",
    "ba_model_wb = RandomForestClassifier(n_estimators=71, max_depth=10, class_weight='balanced', random_state=54321)\n",
    "ba_model_wb.fit(features_train, target_train)\n",
    "\n",
    "# F1 score\n",
    "predicted_valid = ba_model_wb.predict(features_valid)\n",
    "print('F1 score: ', f1_score(target_valid, predicted_valid))\n",
    "\n",
    "# AUC-ROC\n",
    "probabilities_valid = ba_model_wb.predict_proba(features_valid)\n",
    "probabilities_one_valid = probabilities_valid[:, 1]\n",
    "print('AUC-ROC:  ',roc_auc_score(target_valid, probabilities_one_valid))"
   ]
  },
  {
   "cell_type": "markdown",
   "id": "da01e1f5",
   "metadata": {},
   "source": [
    "### Logistic regression with balanced classes"
   ]
  },
  {
   "cell_type": "code",
   "execution_count": 17,
   "id": "c1ba1ca5",
   "metadata": {},
   "outputs": [
    {
     "name": "stdout",
     "output_type": "stream",
     "text": [
      "F1 score:  0.5127753303964758\n",
      "AUC-ROC:   0.7851609375\n"
     ]
    }
   ],
   "source": [
    "# Logistic regression with class_weight='balanced'\n",
    "rl_model_wb = LogisticRegression(class_weight='balanced', random_state=12345, solver='liblinear')\n",
    "rl_model_wb.fit(features_train, target_train) \n",
    "\n",
    "# F1 Score\n",
    "predicted_valid = rl_model_wb.predict(features_valid)\n",
    "print('F1 score: ', f1_score(target_valid, predicted_valid))\n",
    "\n",
    "# AUC-ROC\n",
    "probabilities_valid = rl_model_wb.predict_proba(features_valid)\n",
    "probabilities_one_valid = probabilities_valid[:, 1]\n",
    "print('AUC-ROC:  ',roc_auc_score(target_valid, probabilities_one_valid))"
   ]
  },
  {
   "cell_type": "markdown",
   "id": "4afc6919",
   "metadata": {},
   "source": [
    "### Comparison of models with and without class balance\n",
    "\n",
    "We have built the same models selected in the previous stage but with the `class_weight='balanced'` hyperparameter. For these new models, the F1 and AUC-ROC scores have been calculated. The following tables will show the effect of changing `class_weight` on each metric.\n",
    "\n",
    "**F1-score**\n",
    "\n",
    "| Model  | `None` | `Balanced` | Effect |\n",
    "| ------ | ------ | ---------- | ------ |\n",
    "| **DT** |**0.57**|    0.54    | worse  |\n",
    "| **RF** |  0.55  |  **0.62**  | improve|\n",
    "| **LR** |  0.30  |  **0.51**  | improve|\n",
    "\n",
    "**AUC-ROC**\n",
    "\n",
    "| Modelo | `None` | `Balanced` | Efecto |\n",
    "| ------ | ------ | ---------- | ------ |\n",
    "| **DT** |  0.81  |    0.81    | same   |\n",
    "| **RF** |  0.86  |    0.86    | same   |\n",
    "| **LR** |  0.78  |    0.78    | same   |\n",
    "\n",
    "The effect of changing from `class_weight='None'` to `class_weight='balanced'` does not have a constant improving effect across all models. Class balance only improves the F1 score of the random forest and logistic regression models. We are going to try other approaches to improve the quality of the models."
   ]
  },
  {
   "cell_type": "markdown",
   "id": "5b40fa1f",
   "metadata": {},
   "source": [
    "## Upsampling\n",
    "\n",
    "Through the oversampling approach or _upsampling_, the class imbalance is compensated by increasing the number of observations of the rare classes to be in balance with the most common class. Again we are going to build the classification model but with a new set of balanced data.\n",
    "\n",
    "First we are going to define a function to create the new dataset, then we will train the models with oversampling and evaluate their quality using the F1 and AUC-ROC metrics."
   ]
  },
  {
   "cell_type": "code",
   "execution_count": 18,
   "id": "2e4adfe5",
   "metadata": {},
   "outputs": [],
   "source": [
    "# Upsampling function: upsample\n",
    "\n",
    "def upsample(features, target, repeat):\n",
    "    features_zeros = features[target == 0]\n",
    "    features_ones = features[target == 1]\n",
    "    target_zeros = target[target == 0]\n",
    "    target_ones = target[target == 1]\n",
    "\n",
    "    features_upsampled = pd.concat([features_zeros] + [features_ones] * repeat)\n",
    "    target_upsampled = pd.concat([target_zeros] + [target_ones] * repeat)\n",
    "\n",
    "    features_upsampled, target_upsampled = shuffle(features_upsampled, target_upsampled, random_state=12345)\n",
    "\n",
    "    return features_upsampled, target_upsampled"
   ]
  },
  {
   "cell_type": "code",
   "execution_count": 19,
   "id": "211f221e",
   "metadata": {},
   "outputs": [
    {
     "name": "stdout",
     "output_type": "stream",
     "text": [
      "(9636, 11)\n",
      "(9636,) \n",
      "\n",
      "1    4848\n",
      "0    4788\n",
      "Name: Exited, dtype: int64\n"
     ]
    }
   ],
   "source": [
    "# Training set with upsampling\n",
    "features_upsampled, target_upsampled = upsample(features_train, target_train, 4)\n",
    "\n",
    "print(features_upsampled.shape)\n",
    "print(target_upsampled.shape,'\\n')\n",
    "\n",
    "# Class balance \n",
    "print(target_upsampled.value_counts())"
   ]
  },
  {
   "cell_type": "markdown",
   "id": "5d3971b5",
   "metadata": {},
   "source": [
    "Now that we have the training set balanced using the oversampling technique, we are going to rebuild the decision tree, random forest, and logistic regression models. We are going to compare the F1 and AUC-ROC metrics to determine the improvement of the model and select the best model with oversampling."
   ]
  },
  {
   "cell_type": "markdown",
   "id": "763f254f",
   "metadata": {},
   "source": [
    "### Decision tree with upsampling"
   ]
  },
  {
   "cell_type": "code",
   "execution_count": 20,
   "id": "6f021e46",
   "metadata": {},
   "outputs": [
    {
     "name": "stdout",
     "output_type": "stream",
     "text": [
      "F1 score best model (max_depth=8): 0.5636743215031316\n"
     ]
    }
   ],
   "source": [
    "best_ad_model = None \n",
    "best_ad_f1_score = 0 \n",
    "best_ad_depth = 0    \n",
    "\n",
    "for depth in range(1, 11):  \n",
    "    ad_model = DecisionTreeClassifier(max_depth=depth, random_state=54321) \n",
    "    ad_model.fit(features_upsampled, target_upsampled) \n",
    "    predicted_valid = ad_model.predict(features_valid) \n",
    "    ad_f1_score = f1_score(target_valid, predicted_valid)\n",
    "    if ad_f1_score > best_ad_f1_score:\n",
    "        best_ad_model = ad_model\n",
    "        best_ad_f1_score = ad_f1_score\n",
    "        best_ad_depth = depth\n",
    "\n",
    "print(f\"F1 score best model (max_depth={best_ad_depth}):\", best_ad_f1_score) "
   ]
  },
  {
   "cell_type": "code",
   "execution_count": 21,
   "id": "ae399285",
   "metadata": {},
   "outputs": [
    {
     "name": "stdout",
     "output_type": "stream",
     "text": [
      "AUC-ROC: 0.8104265625\n"
     ]
    }
   ],
   "source": [
    "# Best decision tree with upsampling\n",
    "ad_model_upsam = DecisionTreeClassifier(max_depth=8, random_state=54321)\n",
    "ad_model_upsam.fit(features_upsampled, target_upsampled)\n",
    "\n",
    "# AUC-ROC\n",
    "probabilities_valid = ad_model_upsam.predict_proba(features_valid)\n",
    "probabilities_one_valid = probabilities_valid[:, 1]\n",
    "print('AUC-ROC:',roc_auc_score(target_valid, probabilities_one_valid))"
   ]
  },
  {
   "cell_type": "markdown",
   "id": "9e4dcf04",
   "metadata": {},
   "source": [
    "**The best decision tree model has a depth of 8 and an F1 score of 0.56 and an AUC-ROC of 0.81**. This represents a slight improvement in the F1 score over the class-balanced model but does not show any substantial change in the model's AUC-ROC value."
   ]
  },
  {
   "cell_type": "markdown",
   "id": "24997685",
   "metadata": {},
   "source": [
    "### Random forest with upsampling"
   ]
  },
  {
   "cell_type": "code",
   "execution_count": 22,
   "id": "bd67269c",
   "metadata": {},
   "outputs": [
    {
     "name": "stdout",
     "output_type": "stream",
     "text": [
      "F1 best model over validation set (n_estimators = 81, max_depth = 8): 0.6230200633579726\n"
     ]
    }
   ],
   "source": [
    "best_ba_f1_score = 0 \n",
    "best_est = 0   \n",
    "best_ba_depth = 0\n",
    "\n",
    "for est in range(1, 101, 10): \n",
    "    for depth in range(1,11): \n",
    "        ba_model = RandomForestClassifier(random_state=54321, n_estimators=est, max_depth=depth)\n",
    "        ba_model.fit(features_upsampled, target_upsampled) \n",
    "        predicted_valid = ba_model.predict(features_valid) \n",
    "        ba_f1_score = f1_score(target_valid, predicted_valid)\n",
    "        if ba_f1_score > best_ba_f1_score:\n",
    "            best_ba_f1_score = ba_f1_score \n",
    "            best_est = est        \n",
    "            best_ba_depth = depth \n",
    "\n",
    "print(\"F1 best model over validation set (n_estimators = {}, max_depth = {}): {}\".format(best_est, best_ba_depth, best_ba_f1_score))"
   ]
  },
  {
   "cell_type": "code",
   "execution_count": 23,
   "id": "85d37b6a",
   "metadata": {},
   "outputs": [
    {
     "name": "stdout",
     "output_type": "stream",
     "text": [
      "AUC-ROC: 0.8648437500000001\n"
     ]
    }
   ],
   "source": [
    "# Best random forest with upsampling \n",
    "ba_model_upsam = RandomForestClassifier(random_state=54321, n_estimators=81, max_depth=8)\n",
    "ba_model_upsam.fit(features_upsampled, target_upsampled)\n",
    "\n",
    "# AUC-ROC\n",
    "probabilities_valid = ba_model_upsam.predict_proba(features_valid)\n",
    "probabilities_one_valid = probabilities_valid[:, 1]\n",
    "print('AUC-ROC:',roc_auc_score(target_valid, probabilities_one_valid))"
   ]
  },
  {
   "cell_type": "markdown",
   "id": "7d1ce88b",
   "metadata": {},
   "source": [
    "The best random forest model consists of 81 trees with a depth of 8. The **F1 score was 0.62 with an AUC-ROC of 0.86**. Despite the oversampling class balance, the model did not substantially improve its quality metrics with respect to the balanced class model."
   ]
  },
  {
   "cell_type": "markdown",
   "id": "8996b888",
   "metadata": {},
   "source": [
    "### Logistic regression with upsampling"
   ]
  },
  {
   "cell_type": "code",
   "execution_count": 24,
   "id": "6620fd44",
   "metadata": {},
   "outputs": [
    {
     "name": "stdout",
     "output_type": "stream",
     "text": [
      "F1 score:  0.5139372822299653\n",
      "AUC-ROC:   0.7851625000000001\n"
     ]
    }
   ],
   "source": [
    "# Logistic regression model\n",
    "rl_model_upsam = LogisticRegression(random_state=12345, solver='liblinear')\n",
    "rl_model_upsam.fit(features_upsampled, target_upsampled)\n",
    "\n",
    "# F1 Score\n",
    "predicted_valid = rl_model_upsam.predict(features_valid)\n",
    "print('F1 score: ', f1_score(target_valid, predicted_valid))\n",
    "\n",
    "# AUC-ROC\n",
    "probabilities_valid = rl_model_upsam.predict_proba(features_valid)\n",
    "probabilities_one_valid = probabilities_valid[:, 1]\n",
    "print('AUC-ROC:  ',roc_auc_score(target_valid, probabilities_one_valid))"
   ]
  },
  {
   "cell_type": "markdown",
   "id": "18f71f94",
   "metadata": {},
   "source": [
    "Our logistic regression model had an F1 score of 0.51 and an AUC-ROC of 0.78. Oversampling had no effect on the model's quality metrics.\n",
    "\n",
    "Now we are going to build the models using another approach, subsampling."
   ]
  },
  {
   "cell_type": "markdown",
   "id": "11b1b0cf",
   "metadata": {},
   "source": [
    "## Downsampling\n",
    "\n",
    "Using the downsampling approach, class imbalance is addressed by randomly removing observations with the most frequent class (i.e. negatives in this case - customers who keep their account). We are going to build a new training set and train, select and evaluate the models in the same way as in the previous section.\n",
    "\n",
    "First we are going to define a function to create the new subsampled data set."
   ]
  },
  {
   "cell_type": "code",
   "execution_count": 25,
   "id": "3f84f368",
   "metadata": {},
   "outputs": [],
   "source": [
    "# Dowsampling function: downsample\n",
    "\n",
    "def downsample(features, target, fraction):\n",
    "    features_zeros = features[target == 0]\n",
    "    features_ones = features[target == 1]\n",
    "    target_zeros = target[target == 0]\n",
    "    target_ones = target[target == 1]\n",
    "\n",
    "    features_downsampled = pd.concat([features_zeros.sample(frac=fraction, random_state=12345)] + [features_ones])\n",
    "    target_downsampled = pd.concat([target_zeros.sample(frac=fraction, random_state=12345)] + [target_ones])\n",
    "\n",
    "    \n",
    "    features_downsampled, target_downsampled = shuffle(features_downsampled, target_downsampled, random_state=12345)\n",
    "\n",
    "    return features_downsampled, target_downsampled"
   ]
  },
  {
   "cell_type": "code",
   "execution_count": 26,
   "id": "d9bfe572",
   "metadata": {},
   "outputs": [
    {
     "name": "stdout",
     "output_type": "stream",
     "text": [
      "(2409, 11)\n",
      "(2409,) \n",
      "\n",
      "1    1212\n",
      "0    1197\n",
      "Name: Exited, dtype: int64\n"
     ]
    }
   ],
   "source": [
    "# Dowsampled training set\n",
    "features_downsampled, target_downsampled = downsample(\n",
    "    features_train, target_train, 0.25)\n",
    "\n",
    "print(features_downsampled.shape)\n",
    "print(target_downsampled.shape,'\\n')\n",
    "\n",
    "# Class balance\n",
    "print(target_downsampled.value_counts())"
   ]
  },
  {
   "cell_type": "markdown",
   "id": "46a4dd91",
   "metadata": {},
   "source": [
    "Now that we have the training set balanced using the subsampling technique, we are going to rebuild the decision tree, random forest, and logistic regression models."
   ]
  },
  {
   "cell_type": "markdown",
   "id": "69bee21e",
   "metadata": {},
   "source": [
    "### Decision tree with dowsampling"
   ]
  },
  {
   "cell_type": "code",
   "execution_count": 27,
   "id": "a760f156",
   "metadata": {},
   "outputs": [
    {
     "name": "stdout",
     "output_type": "stream",
     "text": [
      "F1 score best model (max_depth=7): 0.5519779208831646\n"
     ]
    }
   ],
   "source": [
    "# Decision tree\n",
    "best_ad_model = None \n",
    "best_ad_f1_score = 0 \n",
    "best_ad_depth = 0    \n",
    "\n",
    "for depth in range(1, 11):  \n",
    "    ad_model = DecisionTreeClassifier(max_depth=depth, random_state=54321) \n",
    "    ad_model.fit(features_downsampled, target_downsampled) \n",
    "    predicted_valid = ad_model.predict(features_valid) \n",
    "    ad_f1_score = f1_score(target_valid, predicted_valid) \n",
    "    if ad_f1_score > best_ad_f1_score:\n",
    "        best_ad_model = ad_model\n",
    "        best_ad_f1_score = ad_f1_score\n",
    "        best_ad_depth = depth\n",
    "\n",
    "print(f\"F1 score best model (max_depth={best_ad_depth}):\", best_ad_f1_score) "
   ]
  },
  {
   "cell_type": "code",
   "execution_count": 28,
   "id": "3b1305f6",
   "metadata": {},
   "outputs": [
    {
     "name": "stdout",
     "output_type": "stream",
     "text": [
      "AUC-ROC: 0.8247296875\n"
     ]
    }
   ],
   "source": [
    "# Optimal decision tree\n",
    "ad_model_subsam = DecisionTreeClassifier(max_depth=7, random_state=54321)\n",
    "ad_model_subsam.fit(features_downsampled, target_downsampled)\n",
    "\n",
    "# AUC-ROC\n",
    "probabilities_valid = ad_model_subsam.predict_proba(features_valid)\n",
    "probabilities_one_valid = probabilities_valid[:, 1]\n",
    "print('AUC-ROC:',roc_auc_score(target_valid, probabilities_one_valid))"
   ]
  },
  {
   "cell_type": "markdown",
   "id": "da82d477",
   "metadata": {},
   "source": [
    "The decision tree had an optimal depth of 7 and obtained an **F1 score of 0.55 and an AUC-ROC of 0.82**."
   ]
  },
  {
   "cell_type": "markdown",
   "id": "1d2a74ef",
   "metadata": {},
   "source": [
    "### Random forest with dowsampling"
   ]
  },
  {
   "cell_type": "code",
   "execution_count": 29,
   "id": "85ca19b1",
   "metadata": {},
   "outputs": [
    {
     "name": "stdout",
     "output_type": "stream",
     "text": [
      "F1 best model over the validation set (n_estimators = 31, max_depth = 7): 0.5908649173955297\n"
     ]
    }
   ],
   "source": [
    "# Random forest\n",
    "best_ba_f1_score = 0 \n",
    "best_est = 0   \n",
    "best_ba_depth = 0 \n",
    "\n",
    "for est in range(1, 101, 10): \n",
    "    for depth in range(1,11): \n",
    "        ba_model = RandomForestClassifier(random_state=54321, n_estimators=est, max_depth=depth) \n",
    "        ba_model.fit(features_downsampled, target_downsampled) \n",
    "        predicted_valid = ba_model.predict(features_valid) \n",
    "        ba_f1_score = f1_score(target_valid, predicted_valid)\n",
    "        if ba_f1_score > best_ba_f1_score:\n",
    "            best_ba_f1_score = ba_f1_score \n",
    "            best_est = est \n",
    "            best_ba_depth = depth \n",
    "\n",
    "print(\"F1 best model over the validation set (n_estimators = {}, max_depth = {}): {}\".format(best_est, best_ba_depth, best_ba_f1_score))"
   ]
  },
  {
   "cell_type": "code",
   "execution_count": 30,
   "id": "3ca9b979",
   "metadata": {},
   "outputs": [
    {
     "name": "stdout",
     "output_type": "stream",
     "text": [
      "AUC-ROC: 0.8561625\n"
     ]
    }
   ],
   "source": [
    "# Best random forest model\n",
    "ba_model_downsam = RandomForestClassifier(random_state=54321, n_estimators=31, max_depth=7)\n",
    "ba_model_downsam.fit(features_downsampled, target_downsampled)\n",
    "\n",
    "# AUC-ROC\n",
    "probabilities_valid = ba_model_downsam.predict_proba(features_valid)\n",
    "probabilities_one_valid = probabilities_valid[:, 1]\n",
    "print('AUC-ROC:',roc_auc_score(target_valid, probabilities_one_valid))"
   ]
  },
  {
   "cell_type": "markdown",
   "id": "046bfe46",
   "metadata": {},
   "source": [
    "The optimal random forest model consists of 31 trees with a maximum depth of 7. The F1 score was 0.59 and an AUC-ROC of 0.85."
   ]
  },
  {
   "cell_type": "markdown",
   "id": "78500c30",
   "metadata": {},
   "source": [
    "### Logistic regression with downsampling"
   ]
  },
  {
   "cell_type": "code",
   "execution_count": 31,
   "id": "304c35ad",
   "metadata": {},
   "outputs": [
    {
     "name": "stdout",
     "output_type": "stream",
     "text": [
      "F1 score:  0.5008635578583766\n",
      "AUC-ROC:   0.7843328125\n"
     ]
    }
   ],
   "source": [
    "# Logistic regression\n",
    "rl_model_downsam = LogisticRegression(random_state=12345, solver='liblinear')\n",
    "rl_model_downsam.fit(features_downsampled, target_downsampled) \n",
    "\n",
    "# F1 Score\n",
    "predicted_valid = rl_model_downsam.predict(features_valid)\n",
    "print('F1 score: ', f1_score(target_valid, predicted_valid))\n",
    "\n",
    "# AUC-ROC\n",
    "probabilities_valid = rl_model_downsam.predict_proba(features_valid)\n",
    "probabilities_one_valid = probabilities_valid[:, 1]\n",
    "print('AUC-ROC:  ',roc_auc_score(target_valid, probabilities_one_valid))"
   ]
  },
  {
   "cell_type": "markdown",
   "id": "3fae21de",
   "metadata": {},
   "source": [
    "The undersampled logistic regression model had an F1 score of 0.50 and an AUC-ROC of 0.78."
   ]
  },
  {
   "cell_type": "markdown",
   "id": "8371b740",
   "metadata": {},
   "source": [
    "## Model Comparison\n",
    "\n",
    "So far we have built three classification models with different data sets with and without class imbalance:\n",
    "\n",
    "* Class imbalance (`None`)\n",
    "* Class weight balancing (`Balanced`)\n",
    "* `Upsampled`\n",
    "* `Downsampled`\n",
    "\n",
    "Next we are going to compare in a tabular way the F1 and AUC-ROC metrics of each model (`DT`: decision tree, `RF`: random forest and `LR`: logistic regression)\n",
    "\n",
    "### F1 under different scenarios\n",
    "\n",
    "In the following table, the value of F1 of each model can be compared under different approaches to deal with class imbalance. The numbers in bold show the models with the highest F1 scores across different approaches to dealing with class imbalance.\n",
    "\n",
    "| Model  | `None` | `Balanced` | `Upsampled` | `Downsampled` |\n",
    "| ------ | ------ | ---------- | ----------- | ------------- |\n",
    "|  `DT`  |  0.57  |    0.54    |     0.56    |      0.55     |\n",
    "|  `RF`  |  0.56  |  **0.62**  |   **0.62**  |      0.59     |\n",
    "|  `LR`  |  0.30  |    0.51    |     0.51    |      0.50     |\n",
    "\n",
    "The model that showed the best F1 score is the **class-balanced random forest** using the `class_weight='balanced'` hyperparameter and using **oversampling**.\n",
    "\n",
    "\n",
    "### AUC-ROC under different scenarios\n",
    "\n",
    "The following table compares the AUC-ROC values under different approaches. The numbers in bold show the highest AUC-ROC values of all models under different approaches.\n",
    "\n",
    "| Model  | `None` | `Balanced` | `Upsampled` | `Downsampled` |\n",
    "| ------ | ------ | ---------- | ----------- | ------------- |\n",
    "|  `DT`  |  0.81  |    0.81    |     0.81    |      0.82     |\n",
    "|  `RF`  |**0.86**|  **0.86**  |     0.84    |      0.85     |\n",
    "|  `LR`  |  0.78  |    0.78    |     0.78    |      0.78     |\n",
    "\n",
    "The highest AUC-ROC score was again obtained by the **random forest model without and with class balance** using the `class_weight='balanced'` hyperparameter.\n",
    "\n",
    "## Conclusions\n",
    "\n",
    "The model that showed the best F1 and AUC-ROC scores was the **random forest with class balance**. The F1 value obtained by this model was 0.62, exceeding the model selection threshold of 0.59."
   ]
  },
  {
   "cell_type": "markdown",
   "id": "67a99030",
   "metadata": {},
   "source": [
    "# Final test of the model\n",
    "\n",
    "Next we are going to train the best selected model with the training and validation set and determine its quality with the test set.\n",
    "\n",
    "Remember that the best model was a random forest with the following hyperparameters:\n",
    "* `n_estimators`: 71\n",
    "* `max_depth`: 10\n",
    "* `class_weight`: 'balanced'"
   ]
  },
  {
   "cell_type": "code",
   "execution_count": 32,
   "id": "8c8cfa55",
   "metadata": {},
   "outputs": [
    {
     "name": "stdout",
     "output_type": "stream",
     "text": [
      "Size final training data set: 8000\n"
     ]
    }
   ],
   "source": [
    "# Concatenation of training and validation sets into 'df_tv'\n",
    "df_tv = pd.concat([df_train, df_valid], axis=0)\n",
    "print('Size final training data set:', len(df_tv))\n",
    "\n",
    "# Features 'features_tv'\n",
    "features_tv = df_tv.drop('Exited', axis=1)\n",
    "\n",
    "# Target 'target_tv'\n",
    "target_tv = df_tv['Exited']"
   ]
  },
  {
   "cell_type": "markdown",
   "id": "a64bde0b",
   "metadata": {},
   "source": [
    "Now proceed to train the final model and validate it against the test suite."
   ]
  },
  {
   "cell_type": "code",
   "execution_count": 33,
   "id": "b59ab64a",
   "metadata": {},
   "outputs": [
    {
     "name": "stdout",
     "output_type": "stream",
     "text": [
      "F1 score:  0.6469248291571754\n",
      "AUC-ROC:   0.8673508870214754\n"
     ]
    },
    {
     "data": {
      "image/png": "[encoded data removed]",
      "text/plain": [
       "<Figure size 432x288 with 1 Axes>"
      ]
     },
     "metadata": {
      "needs_background": "light"
     },
     "output_type": "display_data"
    }
   ],
   "source": [
    "# Final model \n",
    "model_final = RandomForestClassifier(n_estimators=71, max_depth=10, class_weight='balanced', random_state=54321)\n",
    "model_final.fit(features_tv, target_tv)\n",
    "\n",
    "\n",
    "# F1 score\n",
    "predicted_valid = model_final.predict(features_test)\n",
    "print('F1 score: ', f1_score(target_test, predicted_valid))\n",
    "\n",
    "# AUC-ROC\n",
    "probabilities_test = model_final.predict_proba(features_test)\n",
    "probabilities_one_test = probabilities_test[:, 1]\n",
    "print('AUC-ROC:  ',roc_auc_score(target_test, probabilities_one_test))\n",
    "\n",
    "\n",
    "# Curva ROC\n",
    "fpr, tpr, thresholds = roc_curve(target_test, probabilities_one_test)\n",
    "\n",
    "plt.figure()\n",
    "plt.plot(fpr, tpr)\n",
    "plt.plot([0, 1], [0, 1], linestyle='--')\n",
    "plt.xlim([0.0, 1.0])\n",
    "plt.ylim([0.0, 1.0])\n",
    "plt.xlabel('False positive rate')\n",
    "plt.ylabel('True positive reate')\n",
    "plt.title('Decision tree ROC curve')\n",
    "plt.show()"
   ]
  },
  {
   "cell_type": "markdown",
   "id": "ddb65c3b",
   "metadata": {},
   "source": [
    "## Conclusion final model\n",
    "\n",
    "In this project, different classification models were built based on the characteristics and behavior of their clients to determine if a client would close (class `1`) or not (class `0`) their bank account. Approximately 20% of users close their bank account. Due to the class imbalance, different models were built with different strategies to solve this characteristic of the data (class balance, oversampling and undersampling). A model that does not take class imbalance into account may underperform in correctly predicting whether or not a customer will close their account.\n",
    "\n",
    "Prior to building the models under different approaches to balance the classes, the categorical variables were coded (using the OHE technique) and the numerical variables were standardized to train the classification models.\n",
    "\n",
    "The model with the highest quality according to the F1 score and AUC-ROC was a random forest with class balance using the `class_weight = 'balanced'` hyperparameter. This model, trained on the training and validation data, had an **F1** score of **~0.65** when tested with the test set. This F1 value exceeds the threshold of 0.59 required. The **AUC-ROC** score remained at **0.86**."
   ]
  }
 ],
 "metadata": {
  "kernelspec": {
   "display_name": "Python 3 (ipykernel)",
   "language": "python",
   "name": "python3"
  },
  "language_info": {
   "codemirror_mode": {
    "name": "ipython",
    "version": 3
   },
   "file_extension": ".py",
   "mimetype": "text/x-python",
   "name": "python",
   "nbconvert_exporter": "python",
   "pygments_lexer": "ipython3",
   "version": "3.9.10"
  },
  "toc": {
   "base_numbering": 1,
   "nav_menu": {},
   "number_sections": true,
   "sideBar": true,
   "skip_h1_title": false,
   "title_cell": "Table of Contents",
   "title_sidebar": "Contents",
   "toc_cell": true,
   "toc_position": {},
   "toc_section_display": true,
   "toc_window_display": true
  }
 },
 "nbformat": 4,
 "nbformat_minor": 5
}
